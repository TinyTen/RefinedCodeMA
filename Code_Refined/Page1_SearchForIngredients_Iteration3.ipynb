{
 "cells": [
  {
   "cell_type": "markdown",
   "id": "8668637c",
   "metadata": {},
   "source": [
    "# MA\n",
    "## Creation of a process for scientific visualization development based on the example of the new ZHAW protein source database\n",
    "## Christina Köck\n",
    "## July 2023\n",
    "### Link to the Gitlab-Repo: https://github.com/TinyTen/MA"
   ]
  },
  {
   "cell_type": "markdown",
   "id": "dcc6e0af",
   "metadata": {},
   "source": [
    "Visualizations for food item search, iteration 2, with data from excel"
   ]
  },
  {
   "cell_type": "markdown",
   "id": "d74abbc5",
   "metadata": {},
   "source": [
    "### Libraries and data"
   ]
  },
  {
   "cell_type": "code",
   "execution_count": 1,
   "id": "9a7d02fb",
   "metadata": {},
   "outputs": [],
   "source": [
    "# !pip install -U kaleido"
   ]
  },
  {
   "cell_type": "code",
   "execution_count": 2,
   "id": "0843a275",
   "metadata": {},
   "outputs": [],
   "source": [
    "from cmcrameri import cm\n",
    "import math as math\n",
    "import pandas as pd\n",
    "import numpy as np\n",
    "import seaborn as sns\n",
    "\n",
    "import matplotlib.pyplot as plt\n",
    "import plotly.express as px\n",
    "\n",
    "\n",
    "from math import pi\n",
    "\n",
    "import sparql_dataframe"
   ]
  },
  {
   "cell_type": "code",
   "execution_count": 3,
   "id": "94f38a33",
   "metadata": {},
   "outputs": [],
   "source": [
    "zhaw_color = (0.00000 , 0.39216 , 0.65098)"
   ]
  },
  {
   "cell_type": "markdown",
   "id": "ef9d65dd",
   "metadata": {},
   "source": [
    "### Daten von DaPro laden\n",
    "from Excel"
   ]
  },
  {
   "cell_type": "code",
   "execution_count": 4,
   "id": "2988cf24",
   "metadata": {},
   "outputs": [
    {
     "data": {
      "text/html": [
       "<div>\n",
       "<style scoped>\n",
       "    .dataframe tbody tr th:only-of-type {\n",
       "        vertical-align: middle;\n",
       "    }\n",
       "\n",
       "    .dataframe tbody tr th {\n",
       "        vertical-align: top;\n",
       "    }\n",
       "\n",
       "    .dataframe thead th {\n",
       "        text-align: right;\n",
       "    }\n",
       "</style>\n",
       "<table border=\"1\" class=\"dataframe\">\n",
       "  <thead>\n",
       "    <tr style=\"text-align: right;\">\n",
       "      <th></th>\n",
       "      <th>Alanin_mg/100g</th>\n",
       "      <th>Alkohol (Ethanol)_mg/100g</th>\n",
       "      <th>Arginin_mg/100g</th>\n",
       "      <th>Asparagic acid_mg/100g</th>\n",
       "      <th>Butteric acid/butyric acid_mg/100g</th>\n",
       "      <th>Calcium_mg/100g</th>\n",
       "      <th>Cholesterin_mg/100g</th>\n",
       "      <th>Cystein_mg/100g</th>\n",
       "      <th>Decanic acid/capric acid_mg/100g</th>\n",
       "      <th>Decosanic acid/beetic acid_mg/100g</th>\n",
       "      <th>...</th>\n",
       "      <th>Water -insoluble fiber_mg/100g</th>\n",
       "      <th>Xylit_mg/100g</th>\n",
       "      <th>Sugar (total) _mg/100g</th>\n",
       "      <th>http://purl.obolibrary.org/obo/CHEBI_16646_mg/100g</th>\n",
       "      <th>http://purl.obolibrary.org/obo/FOODON_03316427_mg/100g</th>\n",
       "      <th>http://purl.obolibrary.org/obo/FOODON_03420190_mg/100g</th>\n",
       "      <th>Eutrophying emissions per 100g (gPO₄eq per 100g}</th>\n",
       "      <th>Freshwater withdrawals per 100g (liters per 100g)</th>\n",
       "      <th>Land use per 100g (m² per 100g)</th>\n",
       "      <th>Fat_g/100g</th>\n",
       "    </tr>\n",
       "    <tr>\n",
       "      <th></th>\n",
       "      <th></th>\n",
       "      <th></th>\n",
       "      <th></th>\n",
       "      <th></th>\n",
       "      <th></th>\n",
       "      <th></th>\n",
       "      <th></th>\n",
       "      <th></th>\n",
       "      <th></th>\n",
       "      <th></th>\n",
       "      <th></th>\n",
       "      <th></th>\n",
       "      <th></th>\n",
       "      <th></th>\n",
       "      <th></th>\n",
       "      <th></th>\n",
       "      <th></th>\n",
       "      <th></th>\n",
       "      <th></th>\n",
       "      <th></th>\n",
       "      <th></th>\n",
       "    </tr>\n",
       "  </thead>\n",
       "  <tbody>\n",
       "    <tr>\n",
       "      <th>Apple</th>\n",
       "      <td>0.0008</td>\n",
       "      <td>1.82757</td>\n",
       "      <td>0.052</td>\n",
       "      <td>0</td>\n",
       "      <td>3.250</td>\n",
       "      <td>0.303</td>\n",
       "      <td>0.000</td>\n",
       "      <td>0.005</td>\n",
       "      <td>3.250</td>\n",
       "      <td>0.859</td>\n",
       "      <td>...</td>\n",
       "      <td>0.0000</td>\n",
       "      <td>2.010</td>\n",
       "      <td>0.490</td>\n",
       "      <td>0</td>\n",
       "      <td>0</td>\n",
       "      <td>0</td>\n",
       "      <td>0.145</td>\n",
       "      <td>18.01</td>\n",
       "      <td>0.063</td>\n",
       "      <td>0.4</td>\n",
       "    </tr>\n",
       "    <tr>\n",
       "      <th>Feta</th>\n",
       "      <td>0.0780</td>\n",
       "      <td>17.15552</td>\n",
       "      <td>0.000</td>\n",
       "      <td>0</td>\n",
       "      <td>0.000</td>\n",
       "      <td>0.137</td>\n",
       "      <td>0.251</td>\n",
       "      <td>0.017</td>\n",
       "      <td>0.000</td>\n",
       "      <td>0.000</td>\n",
       "      <td>...</td>\n",
       "      <td>0.0004</td>\n",
       "      <td>0.000</td>\n",
       "      <td>0.795</td>\n",
       "      <td>0</td>\n",
       "      <td>0</td>\n",
       "      <td>0</td>\n",
       "      <td>NaN</td>\n",
       "      <td>NaN</td>\n",
       "      <td>NaN</td>\n",
       "      <td>23.0</td>\n",
       "    </tr>\n",
       "    <tr>\n",
       "      <th>Pine nut</th>\n",
       "      <td>0.0020</td>\n",
       "      <td>10.16515</td>\n",
       "      <td>1.030</td>\n",
       "      <td>0</td>\n",
       "      <td>0.146</td>\n",
       "      <td>0.204</td>\n",
       "      <td>0.000</td>\n",
       "      <td>0.235</td>\n",
       "      <td>0.146</td>\n",
       "      <td>0.144</td>\n",
       "      <td>...</td>\n",
       "      <td>0.0000</td>\n",
       "      <td>7.200</td>\n",
       "      <td>12.470</td>\n",
       "      <td>0</td>\n",
       "      <td>0</td>\n",
       "      <td>0</td>\n",
       "      <td>NaN</td>\n",
       "      <td>NaN</td>\n",
       "      <td>NaN</td>\n",
       "      <td>60.0</td>\n",
       "    </tr>\n",
       "    <tr>\n",
       "      <th>Sesame</th>\n",
       "      <td>0.0100</td>\n",
       "      <td>10.16515</td>\n",
       "      <td>1.460</td>\n",
       "      <td>0</td>\n",
       "      <td>0.204</td>\n",
       "      <td>0.202</td>\n",
       "      <td>0.000</td>\n",
       "      <td>0.347</td>\n",
       "      <td>0.204</td>\n",
       "      <td>0.559</td>\n",
       "      <td>...</td>\n",
       "      <td>0.0000</td>\n",
       "      <td>11.180</td>\n",
       "      <td>0.250</td>\n",
       "      <td>0</td>\n",
       "      <td>0</td>\n",
       "      <td>0</td>\n",
       "      <td>NaN</td>\n",
       "      <td>NaN</td>\n",
       "      <td>NaN</td>\n",
       "      <td>50.0</td>\n",
       "    </tr>\n",
       "    <tr>\n",
       "      <th>Pistachio</th>\n",
       "      <td>0.0050</td>\n",
       "      <td>14.99285</td>\n",
       "      <td>1.180</td>\n",
       "      <td>0</td>\n",
       "      <td>2.310</td>\n",
       "      <td>0.206</td>\n",
       "      <td>0.000</td>\n",
       "      <td>0.158</td>\n",
       "      <td>2.310</td>\n",
       "      <td>0.212</td>\n",
       "      <td>...</td>\n",
       "      <td>0.0000</td>\n",
       "      <td>10.610</td>\n",
       "      <td>5.200</td>\n",
       "      <td>0</td>\n",
       "      <td>0</td>\n",
       "      <td>0</td>\n",
       "      <td>NaN</td>\n",
       "      <td>NaN</td>\n",
       "      <td>NaN</td>\n",
       "      <td>52.0</td>\n",
       "    </tr>\n",
       "    <tr>\n",
       "      <th>Cashew nut</th>\n",
       "      <td>0.0050</td>\n",
       "      <td>14.99285</td>\n",
       "      <td>2.060</td>\n",
       "      <td>0</td>\n",
       "      <td>22.180</td>\n",
       "      <td>0.213</td>\n",
       "      <td>0.005</td>\n",
       "      <td>0.258</td>\n",
       "      <td>22.180</td>\n",
       "      <td>0.000</td>\n",
       "      <td>...</td>\n",
       "      <td>0.0000</td>\n",
       "      <td>3.100</td>\n",
       "      <td>0.323</td>\n",
       "      <td>0</td>\n",
       "      <td>0</td>\n",
       "      <td>0</td>\n",
       "      <td>NaN</td>\n",
       "      <td>NaN</td>\n",
       "      <td>NaN</td>\n",
       "      <td>42.0</td>\n",
       "    </tr>\n",
       "    <tr>\n",
       "      <th>Hard cheese</th>\n",
       "      <td>0.0520</td>\n",
       "      <td>15.30880</td>\n",
       "      <td>0.050</td>\n",
       "      <td>0</td>\n",
       "      <td>0.000</td>\n",
       "      <td>0.179</td>\n",
       "      <td>0.206</td>\n",
       "      <td>0.030</td>\n",
       "      <td>0.000</td>\n",
       "      <td>0.000</td>\n",
       "      <td>...</td>\n",
       "      <td>0.0014</td>\n",
       "      <td>0.000</td>\n",
       "      <td>0.550</td>\n",
       "      <td>0</td>\n",
       "      <td>0</td>\n",
       "      <td>0</td>\n",
       "      <td>9.837</td>\n",
       "      <td>560.52</td>\n",
       "      <td>8.779</td>\n",
       "      <td>32.0</td>\n",
       "    </tr>\n",
       "    <tr>\n",
       "      <th>Hazel nut</th>\n",
       "      <td>0.0010</td>\n",
       "      <td>14.99285</td>\n",
       "      <td>1.600</td>\n",
       "      <td>0</td>\n",
       "      <td>5.970</td>\n",
       "      <td>0.219</td>\n",
       "      <td>0.006</td>\n",
       "      <td>0.163</td>\n",
       "      <td>5.970</td>\n",
       "      <td>0.000</td>\n",
       "      <td>...</td>\n",
       "      <td>0.0000</td>\n",
       "      <td>7.700</td>\n",
       "      <td>22.200</td>\n",
       "      <td>0</td>\n",
       "      <td>0</td>\n",
       "      <td>0</td>\n",
       "      <td>NaN</td>\n",
       "      <td>NaN</td>\n",
       "      <td>NaN</td>\n",
       "      <td>61.6</td>\n",
       "    </tr>\n",
       "    <tr>\n",
       "      <th>Chicken</th>\n",
       "      <td>0.0094</td>\n",
       "      <td>9.46711</td>\n",
       "      <td>0.065</td>\n",
       "      <td>0</td>\n",
       "      <td>0.000</td>\n",
       "      <td>0.264</td>\n",
       "      <td>0.000</td>\n",
       "      <td>0.011</td>\n",
       "      <td>0.000</td>\n",
       "      <td>0.000</td>\n",
       "      <td>...</td>\n",
       "      <td>0.0019</td>\n",
       "      <td>0.000</td>\n",
       "      <td>1.960</td>\n",
       "      <td>0</td>\n",
       "      <td>0</td>\n",
       "      <td>0</td>\n",
       "      <td>2.176</td>\n",
       "      <td>57.77</td>\n",
       "      <td>0.627</td>\n",
       "      <td>2.0</td>\n",
       "    </tr>\n",
       "    <tr>\n",
       "      <th>Peanut</th>\n",
       "      <td>0.0130</td>\n",
       "      <td>7.81262</td>\n",
       "      <td>0.767</td>\n",
       "      <td>0</td>\n",
       "      <td>2.635</td>\n",
       "      <td>0.129</td>\n",
       "      <td>0.000</td>\n",
       "      <td>0.160</td>\n",
       "      <td>2.635</td>\n",
       "      <td>3.620</td>\n",
       "      <td>...</td>\n",
       "      <td>0.0000</td>\n",
       "      <td>11.738</td>\n",
       "      <td>10.027</td>\n",
       "      <td>0</td>\n",
       "      <td>0</td>\n",
       "      <td>0</td>\n",
       "      <td>1.414</td>\n",
       "      <td>185.23</td>\n",
       "      <td>0.911</td>\n",
       "      <td>49.7</td>\n",
       "    </tr>\n",
       "    <tr>\n",
       "      <th>Linseed</th>\n",
       "      <td>0.0020</td>\n",
       "      <td>10.01235</td>\n",
       "      <td>1.200</td>\n",
       "      <td>0</td>\n",
       "      <td>7.710</td>\n",
       "      <td>0.203</td>\n",
       "      <td>0.007</td>\n",
       "      <td>0.323</td>\n",
       "      <td>7.710</td>\n",
       "      <td>0.000</td>\n",
       "      <td>...</td>\n",
       "      <td>0.0000</td>\n",
       "      <td>22.700</td>\n",
       "      <td>0.000</td>\n",
       "      <td>0</td>\n",
       "      <td>0</td>\n",
       "      <td>0</td>\n",
       "      <td>NaN</td>\n",
       "      <td>NaN</td>\n",
       "      <td>NaN</td>\n",
       "      <td>30.0</td>\n",
       "    </tr>\n",
       "    <tr>\n",
       "      <th>Sunflower seed</th>\n",
       "      <td>0.0040</td>\n",
       "      <td>10.16515</td>\n",
       "      <td>1.890</td>\n",
       "      <td>0</td>\n",
       "      <td>34.740</td>\n",
       "      <td>0.200</td>\n",
       "      <td>0.005</td>\n",
       "      <td>0.336</td>\n",
       "      <td>34.740</td>\n",
       "      <td>0.000</td>\n",
       "      <td>...</td>\n",
       "      <td>0.0000</td>\n",
       "      <td>5.800</td>\n",
       "      <td>37.200</td>\n",
       "      <td>0</td>\n",
       "      <td>0</td>\n",
       "      <td>0</td>\n",
       "      <td>NaN</td>\n",
       "      <td>NaN</td>\n",
       "      <td>NaN</td>\n",
       "      <td>49.0</td>\n",
       "    </tr>\n",
       "    <tr>\n",
       "      <th>Durum wheat</th>\n",
       "      <td>0.0051</td>\n",
       "      <td>4.04499</td>\n",
       "      <td>0.150</td>\n",
       "      <td>0</td>\n",
       "      <td>0.690</td>\n",
       "      <td>0.385</td>\n",
       "      <td>0.001</td>\n",
       "      <td>0.030</td>\n",
       "      <td>0.690</td>\n",
       "      <td>0.497</td>\n",
       "      <td>...</td>\n",
       "      <td>0.0000</td>\n",
       "      <td>7.100</td>\n",
       "      <td>0.800</td>\n",
       "      <td>0</td>\n",
       "      <td>0</td>\n",
       "      <td>0</td>\n",
       "      <td>NaN</td>\n",
       "      <td>NaN</td>\n",
       "      <td>NaN</td>\n",
       "      <td>0.8</td>\n",
       "    </tr>\n",
       "    <tr>\n",
       "      <th>Soybeans</th>\n",
       "      <td>0.0030</td>\n",
       "      <td>5.47653</td>\n",
       "      <td>0.100</td>\n",
       "      <td>0</td>\n",
       "      <td>0.643</td>\n",
       "      <td>0.046</td>\n",
       "      <td>0.000</td>\n",
       "      <td>0.024</td>\n",
       "      <td>0.643</td>\n",
       "      <td>0.390</td>\n",
       "      <td>...</td>\n",
       "      <td>0.0000</td>\n",
       "      <td>3.000</td>\n",
       "      <td>0.300</td>\n",
       "      <td>0</td>\n",
       "      <td>0</td>\n",
       "      <td>0</td>\n",
       "      <td>NaN</td>\n",
       "      <td>NaN</td>\n",
       "      <td>NaN</td>\n",
       "      <td>18.1</td>\n",
       "    </tr>\n",
       "    <tr>\n",
       "      <th>Cow's milk</th>\n",
       "      <td>0.0117</td>\n",
       "      <td>2.91995</td>\n",
       "      <td>0.007</td>\n",
       "      <td>0</td>\n",
       "      <td>0.000</td>\n",
       "      <td>0.135</td>\n",
       "      <td>0.046</td>\n",
       "      <td>0.012</td>\n",
       "      <td>4.685</td>\n",
       "      <td>0.000</td>\n",
       "      <td>...</td>\n",
       "      <td>0.0004</td>\n",
       "      <td>0.000</td>\n",
       "      <td>0.070</td>\n",
       "      <td>0</td>\n",
       "      <td>0</td>\n",
       "      <td>0</td>\n",
       "      <td>1.065</td>\n",
       "      <td>62.82</td>\n",
       "      <td>0.895</td>\n",
       "      <td>3.5</td>\n",
       "    </tr>\n",
       "    <tr>\n",
       "      <th>Pumpkin seed</th>\n",
       "      <td>0.0027</td>\n",
       "      <td>10.16515</td>\n",
       "      <td>0.833</td>\n",
       "      <td>0</td>\n",
       "      <td>0.762</td>\n",
       "      <td>0.205</td>\n",
       "      <td>0.000</td>\n",
       "      <td>0.285</td>\n",
       "      <td>0.762</td>\n",
       "      <td>0.173</td>\n",
       "      <td>...</td>\n",
       "      <td>0.0000</td>\n",
       "      <td>8.660</td>\n",
       "      <td>4.000</td>\n",
       "      <td>0</td>\n",
       "      <td>0</td>\n",
       "      <td>0</td>\n",
       "      <td>NaN</td>\n",
       "      <td>NaN</td>\n",
       "      <td>NaN</td>\n",
       "      <td>45.0</td>\n",
       "    </tr>\n",
       "    <tr>\n",
       "      <th>Soft cheese</th>\n",
       "      <td>0.0200</td>\n",
       "      <td>11.03291</td>\n",
       "      <td>0.070</td>\n",
       "      <td>0</td>\n",
       "      <td>0.000</td>\n",
       "      <td>0.520</td>\n",
       "      <td>0.247</td>\n",
       "      <td>0.020</td>\n",
       "      <td>0.001</td>\n",
       "      <td>0.000</td>\n",
       "      <td>...</td>\n",
       "      <td>0.0020</td>\n",
       "      <td>0.000</td>\n",
       "      <td>0.400</td>\n",
       "      <td>0</td>\n",
       "      <td>0</td>\n",
       "      <td>0</td>\n",
       "      <td>NaN</td>\n",
       "      <td>NaN</td>\n",
       "      <td>NaN</td>\n",
       "      <td>14.0</td>\n",
       "    </tr>\n",
       "  </tbody>\n",
       "</table>\n",
       "<p>17 rows × 126 columns</p>\n",
       "</div>"
      ],
      "text/plain": [
       "                Alanin_mg/100g  Alkohol (Ethanol)_mg/100g  Arginin_mg/100g  \\\n",
       "                                                                             \n",
       "Apple                   0.0008                    1.82757            0.052   \n",
       "Feta                    0.0780                   17.15552            0.000   \n",
       "Pine nut                0.0020                   10.16515            1.030   \n",
       "Sesame                  0.0100                   10.16515            1.460   \n",
       "Pistachio               0.0050                   14.99285            1.180   \n",
       "Cashew nut              0.0050                   14.99285            2.060   \n",
       "Hard cheese             0.0520                   15.30880            0.050   \n",
       "Hazel nut               0.0010                   14.99285            1.600   \n",
       "Chicken                 0.0094                    9.46711            0.065   \n",
       "Peanut                  0.0130                    7.81262            0.767   \n",
       "Linseed                 0.0020                   10.01235            1.200   \n",
       "Sunflower seed          0.0040                   10.16515            1.890   \n",
       "Durum wheat             0.0051                    4.04499            0.150   \n",
       "Soybeans                0.0030                    5.47653            0.100   \n",
       "Cow's milk              0.0117                    2.91995            0.007   \n",
       "Pumpkin seed            0.0027                   10.16515            0.833   \n",
       "Soft cheese             0.0200                   11.03291            0.070   \n",
       "\n",
       "                Asparagic acid_mg/100g  Butteric acid/butyric acid_mg/100g  \\\n",
       "                                                                             \n",
       "Apple                                0                               3.250   \n",
       "Feta                                 0                               0.000   \n",
       "Pine nut                             0                               0.146   \n",
       "Sesame                               0                               0.204   \n",
       "Pistachio                            0                               2.310   \n",
       "Cashew nut                           0                              22.180   \n",
       "Hard cheese                          0                               0.000   \n",
       "Hazel nut                            0                               5.970   \n",
       "Chicken                              0                               0.000   \n",
       "Peanut                               0                               2.635   \n",
       "Linseed                              0                               7.710   \n",
       "Sunflower seed                       0                              34.740   \n",
       "Durum wheat                          0                               0.690   \n",
       "Soybeans                             0                               0.643   \n",
       "Cow's milk                           0                               0.000   \n",
       "Pumpkin seed                         0                               0.762   \n",
       "Soft cheese                          0                               0.000   \n",
       "\n",
       "                Calcium_mg/100g  Cholesterin_mg/100g  Cystein_mg/100g  \\\n",
       "                                                                        \n",
       "Apple                     0.303                0.000            0.005   \n",
       "Feta                      0.137                0.251            0.017   \n",
       "Pine nut                  0.204                0.000            0.235   \n",
       "Sesame                    0.202                0.000            0.347   \n",
       "Pistachio                 0.206                0.000            0.158   \n",
       "Cashew nut                0.213                0.005            0.258   \n",
       "Hard cheese               0.179                0.206            0.030   \n",
       "Hazel nut                 0.219                0.006            0.163   \n",
       "Chicken                   0.264                0.000            0.011   \n",
       "Peanut                    0.129                0.000            0.160   \n",
       "Linseed                   0.203                0.007            0.323   \n",
       "Sunflower seed            0.200                0.005            0.336   \n",
       "Durum wheat               0.385                0.001            0.030   \n",
       "Soybeans                  0.046                0.000            0.024   \n",
       "Cow's milk                0.135                0.046            0.012   \n",
       "Pumpkin seed              0.205                0.000            0.285   \n",
       "Soft cheese               0.520                0.247            0.020   \n",
       "\n",
       "                Decanic acid/capric acid_mg/100g  \\\n",
       "                                                   \n",
       "Apple                                      3.250   \n",
       "Feta                                       0.000   \n",
       "Pine nut                                   0.146   \n",
       "Sesame                                     0.204   \n",
       "Pistachio                                  2.310   \n",
       "Cashew nut                                22.180   \n",
       "Hard cheese                                0.000   \n",
       "Hazel nut                                  5.970   \n",
       "Chicken                                    0.000   \n",
       "Peanut                                     2.635   \n",
       "Linseed                                    7.710   \n",
       "Sunflower seed                            34.740   \n",
       "Durum wheat                                0.690   \n",
       "Soybeans                                   0.643   \n",
       "Cow's milk                                 4.685   \n",
       "Pumpkin seed                               0.762   \n",
       "Soft cheese                                0.001   \n",
       "\n",
       "                Decosanic acid/beetic acid_mg/100g  ...  \\\n",
       "                                                    ...   \n",
       "Apple                                        0.859  ...   \n",
       "Feta                                         0.000  ...   \n",
       "Pine nut                                     0.144  ...   \n",
       "Sesame                                       0.559  ...   \n",
       "Pistachio                                    0.212  ...   \n",
       "Cashew nut                                   0.000  ...   \n",
       "Hard cheese                                  0.000  ...   \n",
       "Hazel nut                                    0.000  ...   \n",
       "Chicken                                      0.000  ...   \n",
       "Peanut                                       3.620  ...   \n",
       "Linseed                                      0.000  ...   \n",
       "Sunflower seed                               0.000  ...   \n",
       "Durum wheat                                  0.497  ...   \n",
       "Soybeans                                     0.390  ...   \n",
       "Cow's milk                                   0.000  ...   \n",
       "Pumpkin seed                                 0.173  ...   \n",
       "Soft cheese                                  0.000  ...   \n",
       "\n",
       "                Water -insoluble fiber_mg/100g  Xylit_mg/100g  \\\n",
       "                                                                \n",
       "Apple                                   0.0000          2.010   \n",
       "Feta                                    0.0004          0.000   \n",
       "Pine nut                                0.0000          7.200   \n",
       "Sesame                                  0.0000         11.180   \n",
       "Pistachio                               0.0000         10.610   \n",
       "Cashew nut                              0.0000          3.100   \n",
       "Hard cheese                             0.0014          0.000   \n",
       "Hazel nut                               0.0000          7.700   \n",
       "Chicken                                 0.0019          0.000   \n",
       "Peanut                                  0.0000         11.738   \n",
       "Linseed                                 0.0000         22.700   \n",
       "Sunflower seed                          0.0000          5.800   \n",
       "Durum wheat                             0.0000          7.100   \n",
       "Soybeans                                0.0000          3.000   \n",
       "Cow's milk                              0.0004          0.000   \n",
       "Pumpkin seed                            0.0000          8.660   \n",
       "Soft cheese                             0.0020          0.000   \n",
       "\n",
       "                Sugar (total) _mg/100g  \\\n",
       "                                         \n",
       "Apple                            0.490   \n",
       "Feta                             0.795   \n",
       "Pine nut                        12.470   \n",
       "Sesame                           0.250   \n",
       "Pistachio                        5.200   \n",
       "Cashew nut                       0.323   \n",
       "Hard cheese                      0.550   \n",
       "Hazel nut                       22.200   \n",
       "Chicken                          1.960   \n",
       "Peanut                          10.027   \n",
       "Linseed                          0.000   \n",
       "Sunflower seed                  37.200   \n",
       "Durum wheat                      0.800   \n",
       "Soybeans                         0.300   \n",
       "Cow's milk                       0.070   \n",
       "Pumpkin seed                     4.000   \n",
       "Soft cheese                      0.400   \n",
       "\n",
       "                http://purl.obolibrary.org/obo/CHEBI_16646_mg/100g  \\\n",
       "                                                                     \n",
       "Apple                                                           0    \n",
       "Feta                                                            0    \n",
       "Pine nut                                                        0    \n",
       "Sesame                                                          0    \n",
       "Pistachio                                                       0    \n",
       "Cashew nut                                                      0    \n",
       "Hard cheese                                                     0    \n",
       "Hazel nut                                                       0    \n",
       "Chicken                                                         0    \n",
       "Peanut                                                          0    \n",
       "Linseed                                                         0    \n",
       "Sunflower seed                                                  0    \n",
       "Durum wheat                                                     0    \n",
       "Soybeans                                                        0    \n",
       "Cow's milk                                                      0    \n",
       "Pumpkin seed                                                    0    \n",
       "Soft cheese                                                     0    \n",
       "\n",
       "                http://purl.obolibrary.org/obo/FOODON_03316427_mg/100g  \\\n",
       "                                                                         \n",
       "Apple                                                           0        \n",
       "Feta                                                            0        \n",
       "Pine nut                                                        0        \n",
       "Sesame                                                          0        \n",
       "Pistachio                                                       0        \n",
       "Cashew nut                                                      0        \n",
       "Hard cheese                                                     0        \n",
       "Hazel nut                                                       0        \n",
       "Chicken                                                         0        \n",
       "Peanut                                                          0        \n",
       "Linseed                                                         0        \n",
       "Sunflower seed                                                  0        \n",
       "Durum wheat                                                     0        \n",
       "Soybeans                                                        0        \n",
       "Cow's milk                                                      0        \n",
       "Pumpkin seed                                                    0        \n",
       "Soft cheese                                                     0        \n",
       "\n",
       "                http://purl.obolibrary.org/obo/FOODON_03420190_mg/100g  \\\n",
       "                                                                         \n",
       "Apple                                                           0        \n",
       "Feta                                                            0        \n",
       "Pine nut                                                        0        \n",
       "Sesame                                                          0        \n",
       "Pistachio                                                       0        \n",
       "Cashew nut                                                      0        \n",
       "Hard cheese                                                     0        \n",
       "Hazel nut                                                       0        \n",
       "Chicken                                                         0        \n",
       "Peanut                                                          0        \n",
       "Linseed                                                         0        \n",
       "Sunflower seed                                                  0        \n",
       "Durum wheat                                                     0        \n",
       "Soybeans                                                        0        \n",
       "Cow's milk                                                      0        \n",
       "Pumpkin seed                                                    0        \n",
       "Soft cheese                                                     0        \n",
       "\n",
       "                Eutrophying emissions per 100g (gPO₄eq per 100g}  \\\n",
       "                                                                   \n",
       "Apple                                                      0.145   \n",
       "Feta                                                         NaN   \n",
       "Pine nut                                                     NaN   \n",
       "Sesame                                                       NaN   \n",
       "Pistachio                                                    NaN   \n",
       "Cashew nut                                                   NaN   \n",
       "Hard cheese                                                9.837   \n",
       "Hazel nut                                                    NaN   \n",
       "Chicken                                                    2.176   \n",
       "Peanut                                                     1.414   \n",
       "Linseed                                                      NaN   \n",
       "Sunflower seed                                               NaN   \n",
       "Durum wheat                                                  NaN   \n",
       "Soybeans                                                     NaN   \n",
       "Cow's milk                                                 1.065   \n",
       "Pumpkin seed                                                 NaN   \n",
       "Soft cheese                                                  NaN   \n",
       "\n",
       "                Freshwater withdrawals per 100g (liters per 100g)  \\\n",
       "                                                                    \n",
       "Apple                                                       18.01   \n",
       "Feta                                                          NaN   \n",
       "Pine nut                                                      NaN   \n",
       "Sesame                                                        NaN   \n",
       "Pistachio                                                     NaN   \n",
       "Cashew nut                                                    NaN   \n",
       "Hard cheese                                                560.52   \n",
       "Hazel nut                                                     NaN   \n",
       "Chicken                                                     57.77   \n",
       "Peanut                                                     185.23   \n",
       "Linseed                                                       NaN   \n",
       "Sunflower seed                                                NaN   \n",
       "Durum wheat                                                   NaN   \n",
       "Soybeans                                                      NaN   \n",
       "Cow's milk                                                  62.82   \n",
       "Pumpkin seed                                                  NaN   \n",
       "Soft cheese                                                   NaN   \n",
       "\n",
       "                Land use per 100g (m² per 100g)  Fat_g/100g  \n",
       "                                                             \n",
       "Apple                                     0.063         0.4  \n",
       "Feta                                        NaN        23.0  \n",
       "Pine nut                                    NaN        60.0  \n",
       "Sesame                                      NaN        50.0  \n",
       "Pistachio                                   NaN        52.0  \n",
       "Cashew nut                                  NaN        42.0  \n",
       "Hard cheese                               8.779        32.0  \n",
       "Hazel nut                                   NaN        61.6  \n",
       "Chicken                                   0.627         2.0  \n",
       "Peanut                                    0.911        49.7  \n",
       "Linseed                                     NaN        30.0  \n",
       "Sunflower seed                              NaN        49.0  \n",
       "Durum wheat                                 NaN         0.8  \n",
       "Soybeans                                    NaN        18.1  \n",
       "Cow's milk                                0.895         3.5  \n",
       "Pumpkin seed                                NaN        45.0  \n",
       "Soft cheese                                 NaN        14.0  \n",
       "\n",
       "[17 rows x 126 columns]"
      ]
     },
     "execution_count": 4,
     "metadata": {},
     "output_type": "execute_result"
    }
   ],
   "source": [
    "df_dapro_en = pd.read_excel('../Code/df_dapro_en.xlsx')\n",
    "df_dapro_en.rename(columns= {'Unnamed: 0': ' '}, inplace=True)\n",
    "df_dapro_en.set_index(' ', drop = True, inplace=True)\n",
    "df_dapro_en"
   ]
  },
  {
   "cell_type": "code",
   "execution_count": 5,
   "id": "5776c511",
   "metadata": {},
   "outputs": [],
   "source": [
    "df_dapro = df_dapro_en"
   ]
  },
  {
   "cell_type": "markdown",
   "id": "2a84783a",
   "metadata": {},
   "source": [
    "## Visualisierungen"
   ]
  },
  {
   "cell_type": "markdown",
   "id": "7226b96e",
   "metadata": {},
   "source": [
    "## scientific colormaps (see http://www.fabiocrameri.ch/visualisation.php)"
   ]
  },
  {
   "cell_type": "code",
   "execution_count": 6,
   "id": "b1444d81",
   "metadata": {},
   "outputs": [],
   "source": [
    "import sys\n",
    "\n",
    "sys.path.insert(1, '../Code')\n",
    "from colors_cameri import davos, oslo, bilbao, tofino"
   ]
  },
  {
   "cell_type": "code",
   "execution_count": 7,
   "id": "5d7bee69",
   "metadata": {},
   "outputs": [],
   "source": [
    "davos_rgb = [el[1] for el in davos]\n",
    "oslo_rgb = [el[1] for el in oslo]"
   ]
  },
  {
   "cell_type": "markdown",
   "id": "7b8267e0",
   "metadata": {},
   "source": [
    "## Overview over chosen samples (food products)"
   ]
  },
  {
   "cell_type": "markdown",
   "id": "71bcac51",
   "metadata": {},
   "source": [
    "#### calculate mean for reference first"
   ]
  },
  {
   "cell_type": "code",
   "execution_count": 8,
   "id": "9129936c",
   "metadata": {},
   "outputs": [
    {
     "data": {
      "text/html": [
       "<div>\n",
       "<style scoped>\n",
       "    .dataframe tbody tr th:only-of-type {\n",
       "        vertical-align: middle;\n",
       "    }\n",
       "\n",
       "    .dataframe tbody tr th {\n",
       "        vertical-align: top;\n",
       "    }\n",
       "\n",
       "    .dataframe thead th {\n",
       "        text-align: right;\n",
       "    }\n",
       "</style>\n",
       "<table border=\"1\" class=\"dataframe\">\n",
       "  <thead>\n",
       "    <tr style=\"text-align: right;\">\n",
       "      <th></th>\n",
       "      <th>Alanin_mg/100g</th>\n",
       "      <th>Alkohol (Ethanol)_mg/100g</th>\n",
       "      <th>Arginin_mg/100g</th>\n",
       "      <th>Asparagic acid_mg/100g</th>\n",
       "      <th>Butteric acid/butyric acid_mg/100g</th>\n",
       "      <th>Calcium_mg/100g</th>\n",
       "      <th>Cholesterin_mg/100g</th>\n",
       "      <th>Cystein_mg/100g</th>\n",
       "      <th>Decanic acid/capric acid_mg/100g</th>\n",
       "      <th>Decosanic acid/beetic acid_mg/100g</th>\n",
       "      <th>...</th>\n",
       "      <th>Water -insoluble fiber_mg/100g</th>\n",
       "      <th>Xylit_mg/100g</th>\n",
       "      <th>Sugar (total) _mg/100g</th>\n",
       "      <th>http://purl.obolibrary.org/obo/CHEBI_16646_mg/100g</th>\n",
       "      <th>http://purl.obolibrary.org/obo/FOODON_03316427_mg/100g</th>\n",
       "      <th>http://purl.obolibrary.org/obo/FOODON_03420190_mg/100g</th>\n",
       "      <th>Eutrophying emissions per 100g (gPO₄eq per 100g}</th>\n",
       "      <th>Freshwater withdrawals per 100g (liters per 100g)</th>\n",
       "      <th>Land use per 100g (m² per 100g)</th>\n",
       "      <th>Fat_g/100g</th>\n",
       "    </tr>\n",
       "    <tr>\n",
       "      <th></th>\n",
       "      <th></th>\n",
       "      <th></th>\n",
       "      <th></th>\n",
       "      <th></th>\n",
       "      <th></th>\n",
       "      <th></th>\n",
       "      <th></th>\n",
       "      <th></th>\n",
       "      <th></th>\n",
       "      <th></th>\n",
       "      <th></th>\n",
       "      <th></th>\n",
       "      <th></th>\n",
       "      <th></th>\n",
       "      <th></th>\n",
       "      <th></th>\n",
       "      <th></th>\n",
       "      <th></th>\n",
       "      <th></th>\n",
       "      <th></th>\n",
       "      <th></th>\n",
       "    </tr>\n",
       "  </thead>\n",
       "  <tbody>\n",
       "    <tr>\n",
       "      <th>Apple</th>\n",
       "      <td>0.0008</td>\n",
       "      <td>1.82757</td>\n",
       "      <td>0.052</td>\n",
       "      <td>0</td>\n",
       "      <td>3.250</td>\n",
       "      <td>0.303</td>\n",
       "      <td>0.000</td>\n",
       "      <td>0.005</td>\n",
       "      <td>3.250</td>\n",
       "      <td>0.859</td>\n",
       "      <td>...</td>\n",
       "      <td>0.0000</td>\n",
       "      <td>2.010</td>\n",
       "      <td>0.490</td>\n",
       "      <td>0</td>\n",
       "      <td>0</td>\n",
       "      <td>0</td>\n",
       "      <td>0.145</td>\n",
       "      <td>18.01</td>\n",
       "      <td>0.063</td>\n",
       "      <td>0.4</td>\n",
       "    </tr>\n",
       "    <tr>\n",
       "      <th>Feta</th>\n",
       "      <td>0.0780</td>\n",
       "      <td>17.15552</td>\n",
       "      <td>0.000</td>\n",
       "      <td>0</td>\n",
       "      <td>0.000</td>\n",
       "      <td>0.137</td>\n",
       "      <td>0.251</td>\n",
       "      <td>0.017</td>\n",
       "      <td>0.000</td>\n",
       "      <td>0.000</td>\n",
       "      <td>...</td>\n",
       "      <td>0.0004</td>\n",
       "      <td>0.000</td>\n",
       "      <td>0.795</td>\n",
       "      <td>0</td>\n",
       "      <td>0</td>\n",
       "      <td>0</td>\n",
       "      <td>NaN</td>\n",
       "      <td>NaN</td>\n",
       "      <td>NaN</td>\n",
       "      <td>23.0</td>\n",
       "    </tr>\n",
       "    <tr>\n",
       "      <th>Pine nut</th>\n",
       "      <td>0.0020</td>\n",
       "      <td>10.16515</td>\n",
       "      <td>1.030</td>\n",
       "      <td>0</td>\n",
       "      <td>0.146</td>\n",
       "      <td>0.204</td>\n",
       "      <td>0.000</td>\n",
       "      <td>0.235</td>\n",
       "      <td>0.146</td>\n",
       "      <td>0.144</td>\n",
       "      <td>...</td>\n",
       "      <td>0.0000</td>\n",
       "      <td>7.200</td>\n",
       "      <td>12.470</td>\n",
       "      <td>0</td>\n",
       "      <td>0</td>\n",
       "      <td>0</td>\n",
       "      <td>NaN</td>\n",
       "      <td>NaN</td>\n",
       "      <td>NaN</td>\n",
       "      <td>60.0</td>\n",
       "    </tr>\n",
       "    <tr>\n",
       "      <th>Sesame</th>\n",
       "      <td>0.0100</td>\n",
       "      <td>10.16515</td>\n",
       "      <td>1.460</td>\n",
       "      <td>0</td>\n",
       "      <td>0.204</td>\n",
       "      <td>0.202</td>\n",
       "      <td>0.000</td>\n",
       "      <td>0.347</td>\n",
       "      <td>0.204</td>\n",
       "      <td>0.559</td>\n",
       "      <td>...</td>\n",
       "      <td>0.0000</td>\n",
       "      <td>11.180</td>\n",
       "      <td>0.250</td>\n",
       "      <td>0</td>\n",
       "      <td>0</td>\n",
       "      <td>0</td>\n",
       "      <td>NaN</td>\n",
       "      <td>NaN</td>\n",
       "      <td>NaN</td>\n",
       "      <td>50.0</td>\n",
       "    </tr>\n",
       "    <tr>\n",
       "      <th>Pistachio</th>\n",
       "      <td>0.0050</td>\n",
       "      <td>14.99285</td>\n",
       "      <td>1.180</td>\n",
       "      <td>0</td>\n",
       "      <td>2.310</td>\n",
       "      <td>0.206</td>\n",
       "      <td>0.000</td>\n",
       "      <td>0.158</td>\n",
       "      <td>2.310</td>\n",
       "      <td>0.212</td>\n",
       "      <td>...</td>\n",
       "      <td>0.0000</td>\n",
       "      <td>10.610</td>\n",
       "      <td>5.200</td>\n",
       "      <td>0</td>\n",
       "      <td>0</td>\n",
       "      <td>0</td>\n",
       "      <td>NaN</td>\n",
       "      <td>NaN</td>\n",
       "      <td>NaN</td>\n",
       "      <td>52.0</td>\n",
       "    </tr>\n",
       "    <tr>\n",
       "      <th>Cashew nut</th>\n",
       "      <td>0.0050</td>\n",
       "      <td>14.99285</td>\n",
       "      <td>2.060</td>\n",
       "      <td>0</td>\n",
       "      <td>22.180</td>\n",
       "      <td>0.213</td>\n",
       "      <td>0.005</td>\n",
       "      <td>0.258</td>\n",
       "      <td>22.180</td>\n",
       "      <td>0.000</td>\n",
       "      <td>...</td>\n",
       "      <td>0.0000</td>\n",
       "      <td>3.100</td>\n",
       "      <td>0.323</td>\n",
       "      <td>0</td>\n",
       "      <td>0</td>\n",
       "      <td>0</td>\n",
       "      <td>NaN</td>\n",
       "      <td>NaN</td>\n",
       "      <td>NaN</td>\n",
       "      <td>42.0</td>\n",
       "    </tr>\n",
       "    <tr>\n",
       "      <th>Hard cheese</th>\n",
       "      <td>0.0520</td>\n",
       "      <td>15.30880</td>\n",
       "      <td>0.050</td>\n",
       "      <td>0</td>\n",
       "      <td>0.000</td>\n",
       "      <td>0.179</td>\n",
       "      <td>0.206</td>\n",
       "      <td>0.030</td>\n",
       "      <td>0.000</td>\n",
       "      <td>0.000</td>\n",
       "      <td>...</td>\n",
       "      <td>0.0014</td>\n",
       "      <td>0.000</td>\n",
       "      <td>0.550</td>\n",
       "      <td>0</td>\n",
       "      <td>0</td>\n",
       "      <td>0</td>\n",
       "      <td>9.837</td>\n",
       "      <td>560.52</td>\n",
       "      <td>8.779</td>\n",
       "      <td>32.0</td>\n",
       "    </tr>\n",
       "    <tr>\n",
       "      <th>Hazel nut</th>\n",
       "      <td>0.0010</td>\n",
       "      <td>14.99285</td>\n",
       "      <td>1.600</td>\n",
       "      <td>0</td>\n",
       "      <td>5.970</td>\n",
       "      <td>0.219</td>\n",
       "      <td>0.006</td>\n",
       "      <td>0.163</td>\n",
       "      <td>5.970</td>\n",
       "      <td>0.000</td>\n",
       "      <td>...</td>\n",
       "      <td>0.0000</td>\n",
       "      <td>7.700</td>\n",
       "      <td>22.200</td>\n",
       "      <td>0</td>\n",
       "      <td>0</td>\n",
       "      <td>0</td>\n",
       "      <td>NaN</td>\n",
       "      <td>NaN</td>\n",
       "      <td>NaN</td>\n",
       "      <td>61.6</td>\n",
       "    </tr>\n",
       "    <tr>\n",
       "      <th>Chicken</th>\n",
       "      <td>0.0094</td>\n",
       "      <td>9.46711</td>\n",
       "      <td>0.065</td>\n",
       "      <td>0</td>\n",
       "      <td>0.000</td>\n",
       "      <td>0.264</td>\n",
       "      <td>0.000</td>\n",
       "      <td>0.011</td>\n",
       "      <td>0.000</td>\n",
       "      <td>0.000</td>\n",
       "      <td>...</td>\n",
       "      <td>0.0019</td>\n",
       "      <td>0.000</td>\n",
       "      <td>1.960</td>\n",
       "      <td>0</td>\n",
       "      <td>0</td>\n",
       "      <td>0</td>\n",
       "      <td>2.176</td>\n",
       "      <td>57.77</td>\n",
       "      <td>0.627</td>\n",
       "      <td>2.0</td>\n",
       "    </tr>\n",
       "    <tr>\n",
       "      <th>Peanut</th>\n",
       "      <td>0.0130</td>\n",
       "      <td>7.81262</td>\n",
       "      <td>0.767</td>\n",
       "      <td>0</td>\n",
       "      <td>2.635</td>\n",
       "      <td>0.129</td>\n",
       "      <td>0.000</td>\n",
       "      <td>0.160</td>\n",
       "      <td>2.635</td>\n",
       "      <td>3.620</td>\n",
       "      <td>...</td>\n",
       "      <td>0.0000</td>\n",
       "      <td>11.738</td>\n",
       "      <td>10.027</td>\n",
       "      <td>0</td>\n",
       "      <td>0</td>\n",
       "      <td>0</td>\n",
       "      <td>1.414</td>\n",
       "      <td>185.23</td>\n",
       "      <td>0.911</td>\n",
       "      <td>49.7</td>\n",
       "    </tr>\n",
       "    <tr>\n",
       "      <th>Linseed</th>\n",
       "      <td>0.0020</td>\n",
       "      <td>10.01235</td>\n",
       "      <td>1.200</td>\n",
       "      <td>0</td>\n",
       "      <td>7.710</td>\n",
       "      <td>0.203</td>\n",
       "      <td>0.007</td>\n",
       "      <td>0.323</td>\n",
       "      <td>7.710</td>\n",
       "      <td>0.000</td>\n",
       "      <td>...</td>\n",
       "      <td>0.0000</td>\n",
       "      <td>22.700</td>\n",
       "      <td>0.000</td>\n",
       "      <td>0</td>\n",
       "      <td>0</td>\n",
       "      <td>0</td>\n",
       "      <td>NaN</td>\n",
       "      <td>NaN</td>\n",
       "      <td>NaN</td>\n",
       "      <td>30.0</td>\n",
       "    </tr>\n",
       "    <tr>\n",
       "      <th>Sunflower seed</th>\n",
       "      <td>0.0040</td>\n",
       "      <td>10.16515</td>\n",
       "      <td>1.890</td>\n",
       "      <td>0</td>\n",
       "      <td>34.740</td>\n",
       "      <td>0.200</td>\n",
       "      <td>0.005</td>\n",
       "      <td>0.336</td>\n",
       "      <td>34.740</td>\n",
       "      <td>0.000</td>\n",
       "      <td>...</td>\n",
       "      <td>0.0000</td>\n",
       "      <td>5.800</td>\n",
       "      <td>37.200</td>\n",
       "      <td>0</td>\n",
       "      <td>0</td>\n",
       "      <td>0</td>\n",
       "      <td>NaN</td>\n",
       "      <td>NaN</td>\n",
       "      <td>NaN</td>\n",
       "      <td>49.0</td>\n",
       "    </tr>\n",
       "    <tr>\n",
       "      <th>Durum wheat</th>\n",
       "      <td>0.0051</td>\n",
       "      <td>4.04499</td>\n",
       "      <td>0.150</td>\n",
       "      <td>0</td>\n",
       "      <td>0.690</td>\n",
       "      <td>0.385</td>\n",
       "      <td>0.001</td>\n",
       "      <td>0.030</td>\n",
       "      <td>0.690</td>\n",
       "      <td>0.497</td>\n",
       "      <td>...</td>\n",
       "      <td>0.0000</td>\n",
       "      <td>7.100</td>\n",
       "      <td>0.800</td>\n",
       "      <td>0</td>\n",
       "      <td>0</td>\n",
       "      <td>0</td>\n",
       "      <td>NaN</td>\n",
       "      <td>NaN</td>\n",
       "      <td>NaN</td>\n",
       "      <td>0.8</td>\n",
       "    </tr>\n",
       "    <tr>\n",
       "      <th>Soybeans</th>\n",
       "      <td>0.0030</td>\n",
       "      <td>5.47653</td>\n",
       "      <td>0.100</td>\n",
       "      <td>0</td>\n",
       "      <td>0.643</td>\n",
       "      <td>0.046</td>\n",
       "      <td>0.000</td>\n",
       "      <td>0.024</td>\n",
       "      <td>0.643</td>\n",
       "      <td>0.390</td>\n",
       "      <td>...</td>\n",
       "      <td>0.0000</td>\n",
       "      <td>3.000</td>\n",
       "      <td>0.300</td>\n",
       "      <td>0</td>\n",
       "      <td>0</td>\n",
       "      <td>0</td>\n",
       "      <td>NaN</td>\n",
       "      <td>NaN</td>\n",
       "      <td>NaN</td>\n",
       "      <td>18.1</td>\n",
       "    </tr>\n",
       "    <tr>\n",
       "      <th>Cow's milk</th>\n",
       "      <td>0.0117</td>\n",
       "      <td>2.91995</td>\n",
       "      <td>0.007</td>\n",
       "      <td>0</td>\n",
       "      <td>0.000</td>\n",
       "      <td>0.135</td>\n",
       "      <td>0.046</td>\n",
       "      <td>0.012</td>\n",
       "      <td>4.685</td>\n",
       "      <td>0.000</td>\n",
       "      <td>...</td>\n",
       "      <td>0.0004</td>\n",
       "      <td>0.000</td>\n",
       "      <td>0.070</td>\n",
       "      <td>0</td>\n",
       "      <td>0</td>\n",
       "      <td>0</td>\n",
       "      <td>1.065</td>\n",
       "      <td>62.82</td>\n",
       "      <td>0.895</td>\n",
       "      <td>3.5</td>\n",
       "    </tr>\n",
       "    <tr>\n",
       "      <th>Pumpkin seed</th>\n",
       "      <td>0.0027</td>\n",
       "      <td>10.16515</td>\n",
       "      <td>0.833</td>\n",
       "      <td>0</td>\n",
       "      <td>0.762</td>\n",
       "      <td>0.205</td>\n",
       "      <td>0.000</td>\n",
       "      <td>0.285</td>\n",
       "      <td>0.762</td>\n",
       "      <td>0.173</td>\n",
       "      <td>...</td>\n",
       "      <td>0.0000</td>\n",
       "      <td>8.660</td>\n",
       "      <td>4.000</td>\n",
       "      <td>0</td>\n",
       "      <td>0</td>\n",
       "      <td>0</td>\n",
       "      <td>NaN</td>\n",
       "      <td>NaN</td>\n",
       "      <td>NaN</td>\n",
       "      <td>45.0</td>\n",
       "    </tr>\n",
       "    <tr>\n",
       "      <th>Soft cheese</th>\n",
       "      <td>0.0200</td>\n",
       "      <td>11.03291</td>\n",
       "      <td>0.070</td>\n",
       "      <td>0</td>\n",
       "      <td>0.000</td>\n",
       "      <td>0.520</td>\n",
       "      <td>0.247</td>\n",
       "      <td>0.020</td>\n",
       "      <td>0.001</td>\n",
       "      <td>0.000</td>\n",
       "      <td>...</td>\n",
       "      <td>0.0020</td>\n",
       "      <td>0.000</td>\n",
       "      <td>0.400</td>\n",
       "      <td>0</td>\n",
       "      <td>0</td>\n",
       "      <td>0</td>\n",
       "      <td>NaN</td>\n",
       "      <td>NaN</td>\n",
       "      <td>NaN</td>\n",
       "      <td>14.0</td>\n",
       "    </tr>\n",
       "  </tbody>\n",
       "</table>\n",
       "<p>17 rows × 126 columns</p>\n",
       "</div>"
      ],
      "text/plain": [
       "                Alanin_mg/100g  Alkohol (Ethanol)_mg/100g  Arginin_mg/100g  \\\n",
       "                                                                             \n",
       "Apple                   0.0008                    1.82757            0.052   \n",
       "Feta                    0.0780                   17.15552            0.000   \n",
       "Pine nut                0.0020                   10.16515            1.030   \n",
       "Sesame                  0.0100                   10.16515            1.460   \n",
       "Pistachio               0.0050                   14.99285            1.180   \n",
       "Cashew nut              0.0050                   14.99285            2.060   \n",
       "Hard cheese             0.0520                   15.30880            0.050   \n",
       "Hazel nut               0.0010                   14.99285            1.600   \n",
       "Chicken                 0.0094                    9.46711            0.065   \n",
       "Peanut                  0.0130                    7.81262            0.767   \n",
       "Linseed                 0.0020                   10.01235            1.200   \n",
       "Sunflower seed          0.0040                   10.16515            1.890   \n",
       "Durum wheat             0.0051                    4.04499            0.150   \n",
       "Soybeans                0.0030                    5.47653            0.100   \n",
       "Cow's milk              0.0117                    2.91995            0.007   \n",
       "Pumpkin seed            0.0027                   10.16515            0.833   \n",
       "Soft cheese             0.0200                   11.03291            0.070   \n",
       "\n",
       "                Asparagic acid_mg/100g  Butteric acid/butyric acid_mg/100g  \\\n",
       "                                                                             \n",
       "Apple                                0                               3.250   \n",
       "Feta                                 0                               0.000   \n",
       "Pine nut                             0                               0.146   \n",
       "Sesame                               0                               0.204   \n",
       "Pistachio                            0                               2.310   \n",
       "Cashew nut                           0                              22.180   \n",
       "Hard cheese                          0                               0.000   \n",
       "Hazel nut                            0                               5.970   \n",
       "Chicken                              0                               0.000   \n",
       "Peanut                               0                               2.635   \n",
       "Linseed                              0                               7.710   \n",
       "Sunflower seed                       0                              34.740   \n",
       "Durum wheat                          0                               0.690   \n",
       "Soybeans                             0                               0.643   \n",
       "Cow's milk                           0                               0.000   \n",
       "Pumpkin seed                         0                               0.762   \n",
       "Soft cheese                          0                               0.000   \n",
       "\n",
       "                Calcium_mg/100g  Cholesterin_mg/100g  Cystein_mg/100g  \\\n",
       "                                                                        \n",
       "Apple                     0.303                0.000            0.005   \n",
       "Feta                      0.137                0.251            0.017   \n",
       "Pine nut                  0.204                0.000            0.235   \n",
       "Sesame                    0.202                0.000            0.347   \n",
       "Pistachio                 0.206                0.000            0.158   \n",
       "Cashew nut                0.213                0.005            0.258   \n",
       "Hard cheese               0.179                0.206            0.030   \n",
       "Hazel nut                 0.219                0.006            0.163   \n",
       "Chicken                   0.264                0.000            0.011   \n",
       "Peanut                    0.129                0.000            0.160   \n",
       "Linseed                   0.203                0.007            0.323   \n",
       "Sunflower seed            0.200                0.005            0.336   \n",
       "Durum wheat               0.385                0.001            0.030   \n",
       "Soybeans                  0.046                0.000            0.024   \n",
       "Cow's milk                0.135                0.046            0.012   \n",
       "Pumpkin seed              0.205                0.000            0.285   \n",
       "Soft cheese               0.520                0.247            0.020   \n",
       "\n",
       "                Decanic acid/capric acid_mg/100g  \\\n",
       "                                                   \n",
       "Apple                                      3.250   \n",
       "Feta                                       0.000   \n",
       "Pine nut                                   0.146   \n",
       "Sesame                                     0.204   \n",
       "Pistachio                                  2.310   \n",
       "Cashew nut                                22.180   \n",
       "Hard cheese                                0.000   \n",
       "Hazel nut                                  5.970   \n",
       "Chicken                                    0.000   \n",
       "Peanut                                     2.635   \n",
       "Linseed                                    7.710   \n",
       "Sunflower seed                            34.740   \n",
       "Durum wheat                                0.690   \n",
       "Soybeans                                   0.643   \n",
       "Cow's milk                                 4.685   \n",
       "Pumpkin seed                               0.762   \n",
       "Soft cheese                                0.001   \n",
       "\n",
       "                Decosanic acid/beetic acid_mg/100g  ...  \\\n",
       "                                                    ...   \n",
       "Apple                                        0.859  ...   \n",
       "Feta                                         0.000  ...   \n",
       "Pine nut                                     0.144  ...   \n",
       "Sesame                                       0.559  ...   \n",
       "Pistachio                                    0.212  ...   \n",
       "Cashew nut                                   0.000  ...   \n",
       "Hard cheese                                  0.000  ...   \n",
       "Hazel nut                                    0.000  ...   \n",
       "Chicken                                      0.000  ...   \n",
       "Peanut                                       3.620  ...   \n",
       "Linseed                                      0.000  ...   \n",
       "Sunflower seed                               0.000  ...   \n",
       "Durum wheat                                  0.497  ...   \n",
       "Soybeans                                     0.390  ...   \n",
       "Cow's milk                                   0.000  ...   \n",
       "Pumpkin seed                                 0.173  ...   \n",
       "Soft cheese                                  0.000  ...   \n",
       "\n",
       "                Water -insoluble fiber_mg/100g  Xylit_mg/100g  \\\n",
       "                                                                \n",
       "Apple                                   0.0000          2.010   \n",
       "Feta                                    0.0004          0.000   \n",
       "Pine nut                                0.0000          7.200   \n",
       "Sesame                                  0.0000         11.180   \n",
       "Pistachio                               0.0000         10.610   \n",
       "Cashew nut                              0.0000          3.100   \n",
       "Hard cheese                             0.0014          0.000   \n",
       "Hazel nut                               0.0000          7.700   \n",
       "Chicken                                 0.0019          0.000   \n",
       "Peanut                                  0.0000         11.738   \n",
       "Linseed                                 0.0000         22.700   \n",
       "Sunflower seed                          0.0000          5.800   \n",
       "Durum wheat                             0.0000          7.100   \n",
       "Soybeans                                0.0000          3.000   \n",
       "Cow's milk                              0.0004          0.000   \n",
       "Pumpkin seed                            0.0000          8.660   \n",
       "Soft cheese                             0.0020          0.000   \n",
       "\n",
       "                Sugar (total) _mg/100g  \\\n",
       "                                         \n",
       "Apple                            0.490   \n",
       "Feta                             0.795   \n",
       "Pine nut                        12.470   \n",
       "Sesame                           0.250   \n",
       "Pistachio                        5.200   \n",
       "Cashew nut                       0.323   \n",
       "Hard cheese                      0.550   \n",
       "Hazel nut                       22.200   \n",
       "Chicken                          1.960   \n",
       "Peanut                          10.027   \n",
       "Linseed                          0.000   \n",
       "Sunflower seed                  37.200   \n",
       "Durum wheat                      0.800   \n",
       "Soybeans                         0.300   \n",
       "Cow's milk                       0.070   \n",
       "Pumpkin seed                     4.000   \n",
       "Soft cheese                      0.400   \n",
       "\n",
       "                http://purl.obolibrary.org/obo/CHEBI_16646_mg/100g  \\\n",
       "                                                                     \n",
       "Apple                                                           0    \n",
       "Feta                                                            0    \n",
       "Pine nut                                                        0    \n",
       "Sesame                                                          0    \n",
       "Pistachio                                                       0    \n",
       "Cashew nut                                                      0    \n",
       "Hard cheese                                                     0    \n",
       "Hazel nut                                                       0    \n",
       "Chicken                                                         0    \n",
       "Peanut                                                          0    \n",
       "Linseed                                                         0    \n",
       "Sunflower seed                                                  0    \n",
       "Durum wheat                                                     0    \n",
       "Soybeans                                                        0    \n",
       "Cow's milk                                                      0    \n",
       "Pumpkin seed                                                    0    \n",
       "Soft cheese                                                     0    \n",
       "\n",
       "                http://purl.obolibrary.org/obo/FOODON_03316427_mg/100g  \\\n",
       "                                                                         \n",
       "Apple                                                           0        \n",
       "Feta                                                            0        \n",
       "Pine nut                                                        0        \n",
       "Sesame                                                          0        \n",
       "Pistachio                                                       0        \n",
       "Cashew nut                                                      0        \n",
       "Hard cheese                                                     0        \n",
       "Hazel nut                                                       0        \n",
       "Chicken                                                         0        \n",
       "Peanut                                                          0        \n",
       "Linseed                                                         0        \n",
       "Sunflower seed                                                  0        \n",
       "Durum wheat                                                     0        \n",
       "Soybeans                                                        0        \n",
       "Cow's milk                                                      0        \n",
       "Pumpkin seed                                                    0        \n",
       "Soft cheese                                                     0        \n",
       "\n",
       "                http://purl.obolibrary.org/obo/FOODON_03420190_mg/100g  \\\n",
       "                                                                         \n",
       "Apple                                                           0        \n",
       "Feta                                                            0        \n",
       "Pine nut                                                        0        \n",
       "Sesame                                                          0        \n",
       "Pistachio                                                       0        \n",
       "Cashew nut                                                      0        \n",
       "Hard cheese                                                     0        \n",
       "Hazel nut                                                       0        \n",
       "Chicken                                                         0        \n",
       "Peanut                                                          0        \n",
       "Linseed                                                         0        \n",
       "Sunflower seed                                                  0        \n",
       "Durum wheat                                                     0        \n",
       "Soybeans                                                        0        \n",
       "Cow's milk                                                      0        \n",
       "Pumpkin seed                                                    0        \n",
       "Soft cheese                                                     0        \n",
       "\n",
       "                Eutrophying emissions per 100g (gPO₄eq per 100g}  \\\n",
       "                                                                   \n",
       "Apple                                                      0.145   \n",
       "Feta                                                         NaN   \n",
       "Pine nut                                                     NaN   \n",
       "Sesame                                                       NaN   \n",
       "Pistachio                                                    NaN   \n",
       "Cashew nut                                                   NaN   \n",
       "Hard cheese                                                9.837   \n",
       "Hazel nut                                                    NaN   \n",
       "Chicken                                                    2.176   \n",
       "Peanut                                                     1.414   \n",
       "Linseed                                                      NaN   \n",
       "Sunflower seed                                               NaN   \n",
       "Durum wheat                                                  NaN   \n",
       "Soybeans                                                     NaN   \n",
       "Cow's milk                                                 1.065   \n",
       "Pumpkin seed                                                 NaN   \n",
       "Soft cheese                                                  NaN   \n",
       "\n",
       "                Freshwater withdrawals per 100g (liters per 100g)  \\\n",
       "                                                                    \n",
       "Apple                                                       18.01   \n",
       "Feta                                                          NaN   \n",
       "Pine nut                                                      NaN   \n",
       "Sesame                                                        NaN   \n",
       "Pistachio                                                     NaN   \n",
       "Cashew nut                                                    NaN   \n",
       "Hard cheese                                                560.52   \n",
       "Hazel nut                                                     NaN   \n",
       "Chicken                                                     57.77   \n",
       "Peanut                                                     185.23   \n",
       "Linseed                                                       NaN   \n",
       "Sunflower seed                                                NaN   \n",
       "Durum wheat                                                   NaN   \n",
       "Soybeans                                                      NaN   \n",
       "Cow's milk                                                  62.82   \n",
       "Pumpkin seed                                                  NaN   \n",
       "Soft cheese                                                   NaN   \n",
       "\n",
       "                Land use per 100g (m² per 100g)  Fat_g/100g  \n",
       "                                                             \n",
       "Apple                                     0.063         0.4  \n",
       "Feta                                        NaN        23.0  \n",
       "Pine nut                                    NaN        60.0  \n",
       "Sesame                                      NaN        50.0  \n",
       "Pistachio                                   NaN        52.0  \n",
       "Cashew nut                                  NaN        42.0  \n",
       "Hard cheese                               8.779        32.0  \n",
       "Hazel nut                                   NaN        61.6  \n",
       "Chicken                                   0.627         2.0  \n",
       "Peanut                                    0.911        49.7  \n",
       "Linseed                                     NaN        30.0  \n",
       "Sunflower seed                              NaN        49.0  \n",
       "Durum wheat                                 NaN         0.8  \n",
       "Soybeans                                    NaN        18.1  \n",
       "Cow's milk                                0.895         3.5  \n",
       "Pumpkin seed                                NaN        45.0  \n",
       "Soft cheese                                 NaN        14.0  \n",
       "\n",
       "[17 rows x 126 columns]"
      ]
     },
     "execution_count": 8,
     "metadata": {},
     "output_type": "execute_result"
    }
   ],
   "source": [
    "df_dapro"
   ]
  },
  {
   "cell_type": "code",
   "execution_count": 9,
   "id": "3c28f9d2",
   "metadata": {},
   "outputs": [],
   "source": [
    "# sort food items alphabetically\n",
    "df_dapro = df_dapro.reindex(sorted(df_dapro.columns), axis=1)"
   ]
  },
  {
   "cell_type": "code",
   "execution_count": 10,
   "id": "51cae430",
   "metadata": {},
   "outputs": [
    {
     "data": {
      "text/html": [
       "<div>\n",
       "<style scoped>\n",
       "    .dataframe tbody tr th:only-of-type {\n",
       "        vertical-align: middle;\n",
       "    }\n",
       "\n",
       "    .dataframe tbody tr th {\n",
       "        vertical-align: top;\n",
       "    }\n",
       "\n",
       "    .dataframe thead th {\n",
       "        text-align: right;\n",
       "    }\n",
       "</style>\n",
       "<table border=\"1\" class=\"dataframe\">\n",
       "  <thead>\n",
       "    <tr style=\"text-align: right;\">\n",
       "      <th></th>\n",
       "      <th>Alanin_mg/100g</th>\n",
       "      <th>Alkohol (Ethanol)_mg/100g</th>\n",
       "      <th>Arginin_mg/100g</th>\n",
       "      <th>Asparagic acid_mg/100g</th>\n",
       "      <th>Butteric acid/butyric acid_mg/100g</th>\n",
       "      <th>Calcium_mg/100g</th>\n",
       "      <th>Cholesterin_mg/100g</th>\n",
       "      <th>Cystein_mg/100g</th>\n",
       "      <th>DOCOSATRIENACE_MG/100G</th>\n",
       "      <th>Decanic acid/capric acid_mg/100g</th>\n",
       "      <th>...</th>\n",
       "      <th>Vitamin C-ASCORBINCOCHER_INCH/100G</th>\n",
       "      <th>Vitamin D-Calciferole_μg/100g</th>\n",
       "      <th>Vitamin E-Alpha-Tocopherol_μg/100g</th>\n",
       "      <th>Vitamin E-Tocopheroläquivalent_μg/100g</th>\n",
       "      <th>Vitamin K-Phyllochinon_μg/100g</th>\n",
       "      <th>Water -insoluble fiber_mg/100g</th>\n",
       "      <th>Xylit_mg/100g</th>\n",
       "      <th>http://purl.obolibrary.org/obo/CHEBI_16646_mg/100g</th>\n",
       "      <th>http://purl.obolibrary.org/obo/FOODON_03316427_mg/100g</th>\n",
       "      <th>http://purl.obolibrary.org/obo/FOODON_03420190_mg/100g</th>\n",
       "    </tr>\n",
       "    <tr>\n",
       "      <th></th>\n",
       "      <th></th>\n",
       "      <th></th>\n",
       "      <th></th>\n",
       "      <th></th>\n",
       "      <th></th>\n",
       "      <th></th>\n",
       "      <th></th>\n",
       "      <th></th>\n",
       "      <th></th>\n",
       "      <th></th>\n",
       "      <th></th>\n",
       "      <th></th>\n",
       "      <th></th>\n",
       "      <th></th>\n",
       "      <th></th>\n",
       "      <th></th>\n",
       "      <th></th>\n",
       "      <th></th>\n",
       "      <th></th>\n",
       "      <th></th>\n",
       "      <th></th>\n",
       "    </tr>\n",
       "  </thead>\n",
       "  <tbody>\n",
       "    <tr>\n",
       "      <th>Apple</th>\n",
       "      <td>0.002640</td>\n",
       "      <td>6.031584</td>\n",
       "      <td>0.171617</td>\n",
       "      <td>0.0</td>\n",
       "      <td>10.726073</td>\n",
       "      <td>1.0</td>\n",
       "      <td>0.000000</td>\n",
       "      <td>0.016502</td>\n",
       "      <td>0.049505</td>\n",
       "      <td>10.726073</td>\n",
       "      <td>...</td>\n",
       "      <td>9.570957e-04</td>\n",
       "      <td>1.285230e-10</td>\n",
       "      <td>1.520217e-10</td>\n",
       "      <td>4.132694e-10</td>\n",
       "      <td>0.000001</td>\n",
       "      <td>0.000000</td>\n",
       "      <td>6.633663</td>\n",
       "      <td>0.0</td>\n",
       "      <td>0.0</td>\n",
       "      <td>0.0</td>\n",
       "    </tr>\n",
       "    <tr>\n",
       "      <th>Feta</th>\n",
       "      <td>0.569343</td>\n",
       "      <td>125.222774</td>\n",
       "      <td>0.000000</td>\n",
       "      <td>0.0</td>\n",
       "      <td>0.000000</td>\n",
       "      <td>1.0</td>\n",
       "      <td>1.832117</td>\n",
       "      <td>0.124088</td>\n",
       "      <td>6.569343</td>\n",
       "      <td>0.000000</td>\n",
       "      <td>...</td>\n",
       "      <td>7.299270e-05</td>\n",
       "      <td>2.251560e-09</td>\n",
       "      <td>2.331726e-09</td>\n",
       "      <td>3.937359e-08</td>\n",
       "      <td>0.000039</td>\n",
       "      <td>0.002920</td>\n",
       "      <td>0.000000</td>\n",
       "      <td>0.0</td>\n",
       "      <td>0.0</td>\n",
       "      <td>0.0</td>\n",
       "    </tr>\n",
       "    <tr>\n",
       "      <th>Pine nut</th>\n",
       "      <td>0.009804</td>\n",
       "      <td>49.829167</td>\n",
       "      <td>5.049020</td>\n",
       "      <td>0.0</td>\n",
       "      <td>0.715686</td>\n",
       "      <td>1.0</td>\n",
       "      <td>0.000000</td>\n",
       "      <td>1.151961</td>\n",
       "      <td>4.848039</td>\n",
       "      <td>0.715686</td>\n",
       "      <td>...</td>\n",
       "      <td>5.882353e-04</td>\n",
       "      <td>4.337148e-10</td>\n",
       "      <td>5.196943e-10</td>\n",
       "      <td>9.904577e-09</td>\n",
       "      <td>0.000005</td>\n",
       "      <td>0.000000</td>\n",
       "      <td>35.294118</td>\n",
       "      <td>0.0</td>\n",
       "      <td>0.0</td>\n",
       "      <td>0.0</td>\n",
       "    </tr>\n",
       "    <tr>\n",
       "      <th>Sesame</th>\n",
       "      <td>0.049505</td>\n",
       "      <td>50.322525</td>\n",
       "      <td>7.227723</td>\n",
       "      <td>0.0</td>\n",
       "      <td>1.009901</td>\n",
       "      <td>1.0</td>\n",
       "      <td>0.000000</td>\n",
       "      <td>1.717822</td>\n",
       "      <td>4.920792</td>\n",
       "      <td>1.009901</td>\n",
       "      <td>...</td>\n",
       "      <td>5.940594e-04</td>\n",
       "      <td>4.380090e-10</td>\n",
       "      <td>5.248398e-10</td>\n",
       "      <td>1.000264e-08</td>\n",
       "      <td>0.000005</td>\n",
       "      <td>0.000000</td>\n",
       "      <td>55.346535</td>\n",
       "      <td>0.0</td>\n",
       "      <td>0.0</td>\n",
       "      <td>0.0</td>\n",
       "    </tr>\n",
       "    <tr>\n",
       "      <th>Pistachio</th>\n",
       "      <td>0.024272</td>\n",
       "      <td>72.780825</td>\n",
       "      <td>5.728155</td>\n",
       "      <td>0.0</td>\n",
       "      <td>11.213592</td>\n",
       "      <td>1.0</td>\n",
       "      <td>0.000000</td>\n",
       "      <td>0.766990</td>\n",
       "      <td>5.985437</td>\n",
       "      <td>11.213592</td>\n",
       "      <td>...</td>\n",
       "      <td>7.961165e-03</td>\n",
       "      <td>9.842231e-10</td>\n",
       "      <td>1.264535e-09</td>\n",
       "      <td>4.544311e-07</td>\n",
       "      <td>0.000015</td>\n",
       "      <td>0.000000</td>\n",
       "      <td>51.504854</td>\n",
       "      <td>0.0</td>\n",
       "      <td>0.0</td>\n",
       "      <td>0.0</td>\n",
       "    </tr>\n",
       "    <tr>\n",
       "      <th>Cashew nut</th>\n",
       "      <td>0.023474</td>\n",
       "      <td>70.388967</td>\n",
       "      <td>9.671362</td>\n",
       "      <td>0.0</td>\n",
       "      <td>104.131455</td>\n",
       "      <td>1.0</td>\n",
       "      <td>0.023474</td>\n",
       "      <td>1.211268</td>\n",
       "      <td>5.140845</td>\n",
       "      <td>104.131455</td>\n",
       "      <td>...</td>\n",
       "      <td>7.699531e-03</td>\n",
       "      <td>9.518777e-10</td>\n",
       "      <td>1.222977e-09</td>\n",
       "      <td>4.394967e-07</td>\n",
       "      <td>0.000014</td>\n",
       "      <td>0.000000</td>\n",
       "      <td>14.553991</td>\n",
       "      <td>0.0</td>\n",
       "      <td>0.0</td>\n",
       "      <td>0.0</td>\n",
       "    </tr>\n",
       "    <tr>\n",
       "      <th>Hard cheese</th>\n",
       "      <td>0.290503</td>\n",
       "      <td>85.524022</td>\n",
       "      <td>0.279330</td>\n",
       "      <td>0.0</td>\n",
       "      <td>0.000000</td>\n",
       "      <td>1.0</td>\n",
       "      <td>1.150838</td>\n",
       "      <td>0.167598</td>\n",
       "      <td>9.312849</td>\n",
       "      <td>0.000000</td>\n",
       "      <td>...</td>\n",
       "      <td>8.599515e-07</td>\n",
       "      <td>1.544183e-09</td>\n",
       "      <td>1.625379e-09</td>\n",
       "      <td>7.107645e-09</td>\n",
       "      <td>0.000031</td>\n",
       "      <td>0.007821</td>\n",
       "      <td>0.000000</td>\n",
       "      <td>0.0</td>\n",
       "      <td>0.0</td>\n",
       "      <td>0.0</td>\n",
       "    </tr>\n",
       "    <tr>\n",
       "      <th>Hazel nut</th>\n",
       "      <td>0.004566</td>\n",
       "      <td>68.460502</td>\n",
       "      <td>7.305936</td>\n",
       "      <td>0.0</td>\n",
       "      <td>27.260274</td>\n",
       "      <td>1.0</td>\n",
       "      <td>0.027397</td>\n",
       "      <td>0.744292</td>\n",
       "      <td>3.251142</td>\n",
       "      <td>27.260274</td>\n",
       "      <td>...</td>\n",
       "      <td>7.488584e-03</td>\n",
       "      <td>9.257989e-10</td>\n",
       "      <td>1.189471e-09</td>\n",
       "      <td>4.274557e-07</td>\n",
       "      <td>0.000014</td>\n",
       "      <td>0.000000</td>\n",
       "      <td>35.159817</td>\n",
       "      <td>0.0</td>\n",
       "      <td>0.0</td>\n",
       "      <td>0.0</td>\n",
       "    </tr>\n",
       "    <tr>\n",
       "      <th>Chicken</th>\n",
       "      <td>0.035606</td>\n",
       "      <td>35.860265</td>\n",
       "      <td>0.246212</td>\n",
       "      <td>0.0</td>\n",
       "      <td>0.000000</td>\n",
       "      <td>1.0</td>\n",
       "      <td>0.000000</td>\n",
       "      <td>0.041667</td>\n",
       "      <td>3.454545</td>\n",
       "      <td>0.000000</td>\n",
       "      <td>...</td>\n",
       "      <td>7.575758e-05</td>\n",
       "      <td>5.402173e-10</td>\n",
       "      <td>5.220909e-10</td>\n",
       "      <td>7.700914e-09</td>\n",
       "      <td>0.000008</td>\n",
       "      <td>0.007197</td>\n",
       "      <td>0.000000</td>\n",
       "      <td>0.0</td>\n",
       "      <td>0.0</td>\n",
       "      <td>0.0</td>\n",
       "    </tr>\n",
       "    <tr>\n",
       "      <th>Peanut</th>\n",
       "      <td>0.100775</td>\n",
       "      <td>60.562946</td>\n",
       "      <td>5.945736</td>\n",
       "      <td>0.0</td>\n",
       "      <td>20.426357</td>\n",
       "      <td>1.0</td>\n",
       "      <td>0.000000</td>\n",
       "      <td>1.240310</td>\n",
       "      <td>14.434109</td>\n",
       "      <td>20.426357</td>\n",
       "      <td>...</td>\n",
       "      <td>2.325581e-03</td>\n",
       "      <td>6.444397e-10</td>\n",
       "      <td>1.225181e-09</td>\n",
       "      <td>1.293609e-09</td>\n",
       "      <td>0.000010</td>\n",
       "      <td>0.000000</td>\n",
       "      <td>90.992248</td>\n",
       "      <td>0.0</td>\n",
       "      <td>0.0</td>\n",
       "      <td>0.0</td>\n",
       "    </tr>\n",
       "    <tr>\n",
       "      <th>Linseed</th>\n",
       "      <td>0.009852</td>\n",
       "      <td>49.321921</td>\n",
       "      <td>5.911330</td>\n",
       "      <td>0.0</td>\n",
       "      <td>37.980296</td>\n",
       "      <td>1.0</td>\n",
       "      <td>0.034483</td>\n",
       "      <td>1.591133</td>\n",
       "      <td>5.453202</td>\n",
       "      <td>37.980296</td>\n",
       "      <td>...</td>\n",
       "      <td>2.955665e-04</td>\n",
       "      <td>3.934306e-10</td>\n",
       "      <td>8.739816e-10</td>\n",
       "      <td>2.316809e-08</td>\n",
       "      <td>0.000008</td>\n",
       "      <td>0.000000</td>\n",
       "      <td>111.822660</td>\n",
       "      <td>0.0</td>\n",
       "      <td>0.0</td>\n",
       "      <td>0.0</td>\n",
       "    </tr>\n",
       "    <tr>\n",
       "      <th>Sunflower seed</th>\n",
       "      <td>0.020000</td>\n",
       "      <td>50.825750</td>\n",
       "      <td>9.450000</td>\n",
       "      <td>0.0</td>\n",
       "      <td>173.700000</td>\n",
       "      <td>1.0</td>\n",
       "      <td>0.025000</td>\n",
       "      <td>1.680000</td>\n",
       "      <td>5.775000</td>\n",
       "      <td>173.700000</td>\n",
       "      <td>...</td>\n",
       "      <td>6.000000e-04</td>\n",
       "      <td>4.423891e-10</td>\n",
       "      <td>5.300882e-10</td>\n",
       "      <td>1.010267e-08</td>\n",
       "      <td>0.000005</td>\n",
       "      <td>0.000000</td>\n",
       "      <td>29.000000</td>\n",
       "      <td>0.0</td>\n",
       "      <td>0.0</td>\n",
       "      <td>0.0</td>\n",
       "    </tr>\n",
       "    <tr>\n",
       "      <th>Durum wheat</th>\n",
       "      <td>0.013247</td>\n",
       "      <td>10.506468</td>\n",
       "      <td>0.389610</td>\n",
       "      <td>0.0</td>\n",
       "      <td>1.792208</td>\n",
       "      <td>1.0</td>\n",
       "      <td>0.002597</td>\n",
       "      <td>0.077922</td>\n",
       "      <td>1.376623</td>\n",
       "      <td>1.792208</td>\n",
       "      <td>...</td>\n",
       "      <td>6.820581e-06</td>\n",
       "      <td>2.247983e-10</td>\n",
       "      <td>2.390656e-10</td>\n",
       "      <td>1.653865e-09</td>\n",
       "      <td>0.000002</td>\n",
       "      <td>0.000000</td>\n",
       "      <td>18.441558</td>\n",
       "      <td>0.0</td>\n",
       "      <td>0.0</td>\n",
       "      <td>0.0</td>\n",
       "    </tr>\n",
       "    <tr>\n",
       "      <th>Soybeans</th>\n",
       "      <td>0.065217</td>\n",
       "      <td>119.055000</td>\n",
       "      <td>2.173913</td>\n",
       "      <td>0.0</td>\n",
       "      <td>13.978261</td>\n",
       "      <td>1.0</td>\n",
       "      <td>0.000000</td>\n",
       "      <td>0.521739</td>\n",
       "      <td>14.934783</td>\n",
       "      <td>13.978261</td>\n",
       "      <td>...</td>\n",
       "      <td>-6.536852e-06</td>\n",
       "      <td>6.945863e-10</td>\n",
       "      <td>4.486243e-10</td>\n",
       "      <td>-2.210885e-08</td>\n",
       "      <td>0.000025</td>\n",
       "      <td>0.000000</td>\n",
       "      <td>65.217391</td>\n",
       "      <td>0.0</td>\n",
       "      <td>0.0</td>\n",
       "      <td>0.0</td>\n",
       "    </tr>\n",
       "    <tr>\n",
       "      <th>Cow's milk</th>\n",
       "      <td>0.086667</td>\n",
       "      <td>21.629259</td>\n",
       "      <td>0.051852</td>\n",
       "      <td>0.0</td>\n",
       "      <td>0.000000</td>\n",
       "      <td>1.0</td>\n",
       "      <td>0.340741</td>\n",
       "      <td>0.088889</td>\n",
       "      <td>1.377778</td>\n",
       "      <td>34.703704</td>\n",
       "      <td>...</td>\n",
       "      <td>-2.305719e-07</td>\n",
       "      <td>4.124244e-10</td>\n",
       "      <td>4.159152e-10</td>\n",
       "      <td>1.833596e-09</td>\n",
       "      <td>0.000008</td>\n",
       "      <td>0.002963</td>\n",
       "      <td>0.000000</td>\n",
       "      <td>0.0</td>\n",
       "      <td>0.0</td>\n",
       "      <td>0.0</td>\n",
       "    </tr>\n",
       "    <tr>\n",
       "      <th>Pumpkin seed</th>\n",
       "      <td>0.013171</td>\n",
       "      <td>49.586098</td>\n",
       "      <td>4.063415</td>\n",
       "      <td>0.0</td>\n",
       "      <td>3.717073</td>\n",
       "      <td>1.0</td>\n",
       "      <td>0.000000</td>\n",
       "      <td>1.390244</td>\n",
       "      <td>6.960976</td>\n",
       "      <td>3.717073</td>\n",
       "      <td>...</td>\n",
       "      <td>5.853659e-04</td>\n",
       "      <td>4.315991e-10</td>\n",
       "      <td>5.171592e-10</td>\n",
       "      <td>9.856262e-09</td>\n",
       "      <td>0.000005</td>\n",
       "      <td>0.000000</td>\n",
       "      <td>42.243902</td>\n",
       "      <td>0.0</td>\n",
       "      <td>0.0</td>\n",
       "      <td>0.0</td>\n",
       "    </tr>\n",
       "    <tr>\n",
       "      <th>Soft cheese</th>\n",
       "      <td>0.038462</td>\n",
       "      <td>21.217135</td>\n",
       "      <td>0.134615</td>\n",
       "      <td>0.0</td>\n",
       "      <td>0.000000</td>\n",
       "      <td>1.0</td>\n",
       "      <td>0.475000</td>\n",
       "      <td>0.038462</td>\n",
       "      <td>2.019231</td>\n",
       "      <td>0.001923</td>\n",
       "      <td>...</td>\n",
       "      <td>8.640815e-07</td>\n",
       "      <td>4.048654e-10</td>\n",
       "      <td>4.024248e-10</td>\n",
       "      <td>1.756933e-09</td>\n",
       "      <td>0.000008</td>\n",
       "      <td>0.003846</td>\n",
       "      <td>0.000000</td>\n",
       "      <td>0.0</td>\n",
       "      <td>0.0</td>\n",
       "      <td>0.0</td>\n",
       "    </tr>\n",
       "  </tbody>\n",
       "</table>\n",
       "<p>17 rows × 126 columns</p>\n",
       "</div>"
      ],
      "text/plain": [
       "                Alanin_mg/100g  Alkohol (Ethanol)_mg/100g  Arginin_mg/100g  \\\n",
       "                                                                             \n",
       "Apple                 0.002640                   6.031584         0.171617   \n",
       "Feta                  0.569343                 125.222774         0.000000   \n",
       "Pine nut              0.009804                  49.829167         5.049020   \n",
       "Sesame                0.049505                  50.322525         7.227723   \n",
       "Pistachio             0.024272                  72.780825         5.728155   \n",
       "Cashew nut            0.023474                  70.388967         9.671362   \n",
       "Hard cheese           0.290503                  85.524022         0.279330   \n",
       "Hazel nut             0.004566                  68.460502         7.305936   \n",
       "Chicken               0.035606                  35.860265         0.246212   \n",
       "Peanut                0.100775                  60.562946         5.945736   \n",
       "Linseed               0.009852                  49.321921         5.911330   \n",
       "Sunflower seed        0.020000                  50.825750         9.450000   \n",
       "Durum wheat           0.013247                  10.506468         0.389610   \n",
       "Soybeans              0.065217                 119.055000         2.173913   \n",
       "Cow's milk            0.086667                  21.629259         0.051852   \n",
       "Pumpkin seed          0.013171                  49.586098         4.063415   \n",
       "Soft cheese           0.038462                  21.217135         0.134615   \n",
       "\n",
       "                Asparagic acid_mg/100g  Butteric acid/butyric acid_mg/100g  \\\n",
       "                                                                             \n",
       "Apple                              0.0                           10.726073   \n",
       "Feta                               0.0                            0.000000   \n",
       "Pine nut                           0.0                            0.715686   \n",
       "Sesame                             0.0                            1.009901   \n",
       "Pistachio                          0.0                           11.213592   \n",
       "Cashew nut                         0.0                          104.131455   \n",
       "Hard cheese                        0.0                            0.000000   \n",
       "Hazel nut                          0.0                           27.260274   \n",
       "Chicken                            0.0                            0.000000   \n",
       "Peanut                             0.0                           20.426357   \n",
       "Linseed                            0.0                           37.980296   \n",
       "Sunflower seed                     0.0                          173.700000   \n",
       "Durum wheat                        0.0                            1.792208   \n",
       "Soybeans                           0.0                           13.978261   \n",
       "Cow's milk                         0.0                            0.000000   \n",
       "Pumpkin seed                       0.0                            3.717073   \n",
       "Soft cheese                        0.0                            0.000000   \n",
       "\n",
       "                Calcium_mg/100g  Cholesterin_mg/100g  Cystein_mg/100g  \\\n",
       "                                                                        \n",
       "Apple                       1.0             0.000000         0.016502   \n",
       "Feta                        1.0             1.832117         0.124088   \n",
       "Pine nut                    1.0             0.000000         1.151961   \n",
       "Sesame                      1.0             0.000000         1.717822   \n",
       "Pistachio                   1.0             0.000000         0.766990   \n",
       "Cashew nut                  1.0             0.023474         1.211268   \n",
       "Hard cheese                 1.0             1.150838         0.167598   \n",
       "Hazel nut                   1.0             0.027397         0.744292   \n",
       "Chicken                     1.0             0.000000         0.041667   \n",
       "Peanut                      1.0             0.000000         1.240310   \n",
       "Linseed                     1.0             0.034483         1.591133   \n",
       "Sunflower seed              1.0             0.025000         1.680000   \n",
       "Durum wheat                 1.0             0.002597         0.077922   \n",
       "Soybeans                    1.0             0.000000         0.521739   \n",
       "Cow's milk                  1.0             0.340741         0.088889   \n",
       "Pumpkin seed                1.0             0.000000         1.390244   \n",
       "Soft cheese                 1.0             0.475000         0.038462   \n",
       "\n",
       "                DOCOSATRIENACE_MG/100G  Decanic acid/capric acid_mg/100g  ...  \\\n",
       "                                                                          ...   \n",
       "Apple                         0.049505                         10.726073  ...   \n",
       "Feta                          6.569343                          0.000000  ...   \n",
       "Pine nut                      4.848039                          0.715686  ...   \n",
       "Sesame                        4.920792                          1.009901  ...   \n",
       "Pistachio                     5.985437                         11.213592  ...   \n",
       "Cashew nut                    5.140845                        104.131455  ...   \n",
       "Hard cheese                   9.312849                          0.000000  ...   \n",
       "Hazel nut                     3.251142                         27.260274  ...   \n",
       "Chicken                       3.454545                          0.000000  ...   \n",
       "Peanut                       14.434109                         20.426357  ...   \n",
       "Linseed                       5.453202                         37.980296  ...   \n",
       "Sunflower seed                5.775000                        173.700000  ...   \n",
       "Durum wheat                   1.376623                          1.792208  ...   \n",
       "Soybeans                     14.934783                         13.978261  ...   \n",
       "Cow's milk                    1.377778                         34.703704  ...   \n",
       "Pumpkin seed                  6.960976                          3.717073  ...   \n",
       "Soft cheese                   2.019231                          0.001923  ...   \n",
       "\n",
       "                Vitamin C-ASCORBINCOCHER_INCH/100G  \\\n",
       "                                                     \n",
       "Apple                                 9.570957e-04   \n",
       "Feta                                  7.299270e-05   \n",
       "Pine nut                              5.882353e-04   \n",
       "Sesame                                5.940594e-04   \n",
       "Pistachio                             7.961165e-03   \n",
       "Cashew nut                            7.699531e-03   \n",
       "Hard cheese                           8.599515e-07   \n",
       "Hazel nut                             7.488584e-03   \n",
       "Chicken                               7.575758e-05   \n",
       "Peanut                                2.325581e-03   \n",
       "Linseed                               2.955665e-04   \n",
       "Sunflower seed                        6.000000e-04   \n",
       "Durum wheat                           6.820581e-06   \n",
       "Soybeans                             -6.536852e-06   \n",
       "Cow's milk                           -2.305719e-07   \n",
       "Pumpkin seed                          5.853659e-04   \n",
       "Soft cheese                           8.640815e-07   \n",
       "\n",
       "                Vitamin D-Calciferole_μg/100g  \\\n",
       "                                                \n",
       "Apple                            1.285230e-10   \n",
       "Feta                             2.251560e-09   \n",
       "Pine nut                         4.337148e-10   \n",
       "Sesame                           4.380090e-10   \n",
       "Pistachio                        9.842231e-10   \n",
       "Cashew nut                       9.518777e-10   \n",
       "Hard cheese                      1.544183e-09   \n",
       "Hazel nut                        9.257989e-10   \n",
       "Chicken                          5.402173e-10   \n",
       "Peanut                           6.444397e-10   \n",
       "Linseed                          3.934306e-10   \n",
       "Sunflower seed                   4.423891e-10   \n",
       "Durum wheat                      2.247983e-10   \n",
       "Soybeans                         6.945863e-10   \n",
       "Cow's milk                       4.124244e-10   \n",
       "Pumpkin seed                     4.315991e-10   \n",
       "Soft cheese                      4.048654e-10   \n",
       "\n",
       "                Vitamin E-Alpha-Tocopherol_μg/100g  \\\n",
       "                                                     \n",
       "Apple                                 1.520217e-10   \n",
       "Feta                                  2.331726e-09   \n",
       "Pine nut                              5.196943e-10   \n",
       "Sesame                                5.248398e-10   \n",
       "Pistachio                             1.264535e-09   \n",
       "Cashew nut                            1.222977e-09   \n",
       "Hard cheese                           1.625379e-09   \n",
       "Hazel nut                             1.189471e-09   \n",
       "Chicken                               5.220909e-10   \n",
       "Peanut                                1.225181e-09   \n",
       "Linseed                               8.739816e-10   \n",
       "Sunflower seed                        5.300882e-10   \n",
       "Durum wheat                           2.390656e-10   \n",
       "Soybeans                              4.486243e-10   \n",
       "Cow's milk                            4.159152e-10   \n",
       "Pumpkin seed                          5.171592e-10   \n",
       "Soft cheese                           4.024248e-10   \n",
       "\n",
       "                Vitamin E-Tocopheroläquivalent_μg/100g  \\\n",
       "                                                         \n",
       "Apple                                     4.132694e-10   \n",
       "Feta                                      3.937359e-08   \n",
       "Pine nut                                  9.904577e-09   \n",
       "Sesame                                    1.000264e-08   \n",
       "Pistachio                                 4.544311e-07   \n",
       "Cashew nut                                4.394967e-07   \n",
       "Hard cheese                               7.107645e-09   \n",
       "Hazel nut                                 4.274557e-07   \n",
       "Chicken                                   7.700914e-09   \n",
       "Peanut                                    1.293609e-09   \n",
       "Linseed                                   2.316809e-08   \n",
       "Sunflower seed                            1.010267e-08   \n",
       "Durum wheat                               1.653865e-09   \n",
       "Soybeans                                 -2.210885e-08   \n",
       "Cow's milk                                1.833596e-09   \n",
       "Pumpkin seed                              9.856262e-09   \n",
       "Soft cheese                               1.756933e-09   \n",
       "\n",
       "                Vitamin K-Phyllochinon_μg/100g  \\\n",
       "                                                 \n",
       "Apple                                 0.000001   \n",
       "Feta                                  0.000039   \n",
       "Pine nut                              0.000005   \n",
       "Sesame                                0.000005   \n",
       "Pistachio                             0.000015   \n",
       "Cashew nut                            0.000014   \n",
       "Hard cheese                           0.000031   \n",
       "Hazel nut                             0.000014   \n",
       "Chicken                               0.000008   \n",
       "Peanut                                0.000010   \n",
       "Linseed                               0.000008   \n",
       "Sunflower seed                        0.000005   \n",
       "Durum wheat                           0.000002   \n",
       "Soybeans                              0.000025   \n",
       "Cow's milk                            0.000008   \n",
       "Pumpkin seed                          0.000005   \n",
       "Soft cheese                           0.000008   \n",
       "\n",
       "                Water -insoluble fiber_mg/100g  Xylit_mg/100g  \\\n",
       "                                                                \n",
       "Apple                                 0.000000       6.633663   \n",
       "Feta                                  0.002920       0.000000   \n",
       "Pine nut                              0.000000      35.294118   \n",
       "Sesame                                0.000000      55.346535   \n",
       "Pistachio                             0.000000      51.504854   \n",
       "Cashew nut                            0.000000      14.553991   \n",
       "Hard cheese                           0.007821       0.000000   \n",
       "Hazel nut                             0.000000      35.159817   \n",
       "Chicken                               0.007197       0.000000   \n",
       "Peanut                                0.000000      90.992248   \n",
       "Linseed                               0.000000     111.822660   \n",
       "Sunflower seed                        0.000000      29.000000   \n",
       "Durum wheat                           0.000000      18.441558   \n",
       "Soybeans                              0.000000      65.217391   \n",
       "Cow's milk                            0.002963       0.000000   \n",
       "Pumpkin seed                          0.000000      42.243902   \n",
       "Soft cheese                           0.003846       0.000000   \n",
       "\n",
       "                http://purl.obolibrary.org/obo/CHEBI_16646_mg/100g  \\\n",
       "                                                                     \n",
       "Apple                                                         0.0    \n",
       "Feta                                                          0.0    \n",
       "Pine nut                                                      0.0    \n",
       "Sesame                                                        0.0    \n",
       "Pistachio                                                     0.0    \n",
       "Cashew nut                                                    0.0    \n",
       "Hard cheese                                                   0.0    \n",
       "Hazel nut                                                     0.0    \n",
       "Chicken                                                       0.0    \n",
       "Peanut                                                        0.0    \n",
       "Linseed                                                       0.0    \n",
       "Sunflower seed                                                0.0    \n",
       "Durum wheat                                                   0.0    \n",
       "Soybeans                                                      0.0    \n",
       "Cow's milk                                                    0.0    \n",
       "Pumpkin seed                                                  0.0    \n",
       "Soft cheese                                                   0.0    \n",
       "\n",
       "                http://purl.obolibrary.org/obo/FOODON_03316427_mg/100g  \\\n",
       "                                                                         \n",
       "Apple                                                         0.0        \n",
       "Feta                                                          0.0        \n",
       "Pine nut                                                      0.0        \n",
       "Sesame                                                        0.0        \n",
       "Pistachio                                                     0.0        \n",
       "Cashew nut                                                    0.0        \n",
       "Hard cheese                                                   0.0        \n",
       "Hazel nut                                                     0.0        \n",
       "Chicken                                                       0.0        \n",
       "Peanut                                                        0.0        \n",
       "Linseed                                                       0.0        \n",
       "Sunflower seed                                                0.0        \n",
       "Durum wheat                                                   0.0        \n",
       "Soybeans                                                      0.0        \n",
       "Cow's milk                                                    0.0        \n",
       "Pumpkin seed                                                  0.0        \n",
       "Soft cheese                                                   0.0        \n",
       "\n",
       "                http://purl.obolibrary.org/obo/FOODON_03420190_mg/100g  \n",
       "                                                                        \n",
       "Apple                                                         0.0       \n",
       "Feta                                                          0.0       \n",
       "Pine nut                                                      0.0       \n",
       "Sesame                                                        0.0       \n",
       "Pistachio                                                     0.0       \n",
       "Cashew nut                                                    0.0       \n",
       "Hard cheese                                                   0.0       \n",
       "Hazel nut                                                     0.0       \n",
       "Chicken                                                       0.0       \n",
       "Peanut                                                        0.0       \n",
       "Linseed                                                       0.0       \n",
       "Sunflower seed                                                0.0       \n",
       "Durum wheat                                                   0.0       \n",
       "Soybeans                                                      0.0       \n",
       "Cow's milk                                                    0.0       \n",
       "Pumpkin seed                                                  0.0       \n",
       "Soft cheese                                                   0.0       \n",
       "\n",
       "[17 rows x 126 columns]"
      ]
     },
     "execution_count": 10,
     "metadata": {},
     "output_type": "execute_result"
    }
   ],
   "source": [
    "# devide data by energy to create dataframe per unit of energy (per kJ)\n",
    "df_dapro_per_energy = df_dapro.div(df_dapro['Energy (kilojoule) _kJ/100g'], axis = 0)\n",
    "df_dapro_per_energy"
   ]
  },
  {
   "cell_type": "code",
   "execution_count": 11,
   "id": "a67e9721",
   "metadata": {},
   "outputs": [],
   "source": [
    "# use min-max skaler to set max of column to 1 - for the colors in the heatmap\n",
    "\n",
    "from sklearn import preprocessing\n",
    "\n",
    "\n",
    "min_max_scaler = preprocessing.MinMaxScaler(feature_range = (0,1))\n",
    "normalised_df_food = min_max_scaler.fit_transform(df_dapro )\n",
    "normalised_df_food = pd.DataFrame(normalised_df_food, index = df_dapro.index, columns=df_dapro.columns)\n"
   ]
  },
  {
   "cell_type": "code",
   "execution_count": 12,
   "id": "b798755d",
   "metadata": {},
   "outputs": [],
   "source": [
    "# use min-max skaler to set max of column to 1 - for the colors in the heatmap (same as above for the energy based data)\n",
    "from sklearn import preprocessing\n",
    "\n",
    "\n",
    "min_max_scaler = preprocessing.MinMaxScaler(feature_range = (0,1))\n",
    "normalised_df_food_per_energy = min_max_scaler.fit_transform(df_dapro_per_energy)\n",
    "normalised_df_food_per_energy = pd.DataFrame(normalised_df_food_per_energy,\n",
    "                                             index = df_dapro_per_energy.index, columns=df_dapro_per_energy.columns)\n"
   ]
  },
  {
   "cell_type": "markdown",
   "id": "ec20a3da",
   "metadata": {},
   "source": [
    "### Units need to be changed"
   ]
  },
  {
   "cell_type": "code",
   "execution_count": 13,
   "id": "65547e17",
   "metadata": {},
   "outputs": [],
   "source": [
    "# change the units in the energy based data to \"per 1 kJ\"\n",
    "\n",
    "sep = '/'\n",
    "dict_unit_per_energy = {}\n",
    "for column in normalised_df_food_per_energy.columns:\n",
    "    dict_unit_per_energy[column] = column.split(sep, 1)[0] + '/1kJ'\n"
   ]
  },
  {
   "cell_type": "code",
   "execution_count": 14,
   "id": "f905c6ec",
   "metadata": {},
   "outputs": [],
   "source": [
    "normalised_df_food_per_energy.rename(columns = dict_unit_per_energy, inplace=True)"
   ]
  },
  {
   "cell_type": "code",
   "execution_count": 15,
   "id": "1b7ee995",
   "metadata": {},
   "outputs": [],
   "source": [
    "# df = filter_data(choice_food_products = choice_food_products, protein_limit = 0)\n",
    "df = normalised_df_food"
   ]
  },
  {
   "cell_type": "markdown",
   "id": "6a27117f",
   "metadata": {},
   "source": [
    "### Heatmap for all values to compare all food items and parameters"
   ]
  },
  {
   "cell_type": "code",
   "execution_count": 21,
   "id": "078440c0",
   "metadata": {},
   "outputs": [
    {
     "data": {
      "application/vnd.plotly.v1+json": {
       "config": {
        "plotlyServerURL": "https://plot.ly"
       },
       "data": [
        {
         "coloraxis": "coloraxis",
         "hovertemplate": " : %{x}<br>y: %{y}<br>color: %{z}<extra></extra>",
         "name": "0",
         "text": [
          [
           0,
           0.08,
           0,
           0.01,
           0,
           0,
           0.05,
           0,
           0.01,
           0.01,
           0,
           0,
           0.01,
           0,
           0.01,
           0,
           0.02
          ],
          [
           1.83,
           17.16,
           10.17,
           10.17,
           14.99,
           14.99,
           15.31,
           14.99,
           9.47,
           7.81,
           10.01,
           10.17,
           4.04,
           5.48,
           2.92,
           10.17,
           11.03
          ],
          [
           0.05,
           0,
           1.03,
           1.46,
           1.18,
           2.06,
           0.05,
           1.6,
           0.06,
           0.77,
           1.2,
           1.89,
           0.15,
           0.1,
           0.01,
           0.83,
           0.07
          ],
          [
           0,
           0,
           0,
           0,
           0,
           0,
           0,
           0,
           0,
           0,
           0,
           0,
           0,
           0,
           0,
           0,
           0
          ],
          [
           3.25,
           0,
           0.15,
           0.2,
           2.31,
           22.18,
           0,
           5.97,
           0,
           2.64,
           7.71,
           34.74,
           0.69,
           0.64,
           0,
           0.76,
           0
          ],
          [
           0.3,
           0.14,
           0.2,
           0.2,
           0.21,
           0.21,
           0.18,
           0.22,
           0.26,
           0.13,
           0.2,
           0.2,
           0.38,
           0.05,
           0.14,
           0.2,
           0.52
          ],
          [
           0,
           0.25,
           0,
           0,
           0,
           0,
           0.21,
           0.01,
           0,
           0,
           0.01,
           0,
           0,
           0,
           0.05,
           0,
           0.25
          ],
          [
           0,
           0.02,
           0.24,
           0.35,
           0.16,
           0.26,
           0.03,
           0.16,
           0.01,
           0.16,
           0.32,
           0.34,
           0.03,
           0.02,
           0.01,
           0.28,
           0.02
          ],
          [
           0.02,
           0.9,
           0.99,
           0.99,
           1.23,
           1.1,
           1.67,
           0.71,
           0.91,
           1.86,
           1.11,
           1.16,
           0.53,
           0.69,
           0.19,
           1.43,
           1.05
          ],
          [
           3.25,
           0,
           0.15,
           0.2,
           2.31,
           22.18,
           0,
           5.97,
           0,
           2.64,
           7.71,
           34.74,
           0.69,
           0.64,
           4.68,
           0.76,
           0
          ],
          [
           0.86,
           0,
           0.14,
           0.56,
           0.21,
           0,
           0,
           0,
           0,
           3.62,
           0,
           0,
           0.5,
           0.39,
           0,
           0.17,
           0
          ],
          [
           0,
           0.09,
           0.41,
           0.26,
           0.4,
           0.42,
           0.16,
           0.32,
           0.25,
           0.44,
           0.42,
           0.46,
           0.21,
           0.1,
           0.02,
           0.39,
           0.1
          ],
          [
           0.49,
           0.8,
           12.47,
           0.25,
           5.2,
           6,
           0.55,
           24.52,
           1.96,
           10.03,
           16,
           38.84,
           0.8,
           0.3,
           0.07,
           4,
           0.4
          ],
          [
           0.01,
           1.97,
           1.25,
           1.14,
           0.86,
           0.8,
           3.53,
           0.58,
           0.47,
           1.46,
           0.85,
           1.21,
           1.19,
           0.56,
           0.32,
           1.25,
           2.2
          ],
          [
           0.01,
           0,
           0,
           0.06,
           0,
           0,
           0.01,
           0,
           0,
           0.07,
           0,
           0,
           0.08,
           0.04,
           0,
           0,
           0.01
          ],
          [
           0.22,
           8.6,
           10.76,
           9.87,
           10.35,
           10.23,
           15.13,
           8.3,
           5.1,
           14.9,
           11.32,
           13.44,
           6.22,
           6.05,
           1.64,
           15.05,
           9.6
          ],
          [
           0,
           0,
           0,
           0,
           0,
           0,
           0,
           0,
           0,
           0,
           0,
           0,
           0.41,
           2.14,
           0,
           0,
           0
          ],
          [
           0.02,
           0.54,
           1.23,
           1.14,
           0.92,
           0.85,
           0.86,
           0.76,
           0.71,
           0.82,
           1.07,
           1.16,
           0.36,
           0.54,
           0.11,
           1.46,
           0.55
          ],
          [
           0.03,
           3.66,
           3.98,
           3.75,
           4.43,
           4.63,
           6.8,
           3.84,
           1.44,
           5.73,
           4.7,
           5.95,
           3.15,
           2.33,
           0.7,
           5.53,
           4.22
          ],
          [
           0.13,
           1.21,
           2.12,
           1.38,
           1.92,
           1.92,
           1.8,
           1.64,
           1.16,
           3.37,
           2.22,
           2.5,
           0.51,
           1.41,
           0.26,
           3.14,
           1.25
          ],
          [
           0.18,
           0,
           4.75,
           3.35,
           7,
           0,
           0,
           0,
           0,
           2.17,
           0,
           0,
           2.13,
           1.05,
           0,
           5.72,
           0
          ],
          [
           0.01,
           0.32,
           1.18,
           1.49,
           0.98,
           0.93,
           0.48,
           0.75,
           0.42,
           1.67,
           1.38,
           1.48,
           0.48,
           0.52,
           0.06,
           2.25,
           0.32
          ],
          [
           0,
           0.43,
           0.39,
           0.64,
           0.36,
           0.36,
           0.74,
           0.21,
           0.36,
           0.32,
           0.44,
           0.57,
           0.16,
           0.12,
           0.1,
           0.68,
           0.46
          ],
          [
           0,
           0,
           0,
           0,
           0,
           0,
           0,
           0,
           0,
           0,
           0,
           0,
           0,
           0,
           0,
           0,
           0
          ],
          [
           0.3,
           0.14,
           0.2,
           0.2,
           0.21,
           0.21,
           0.18,
           0.22,
           0.26,
           0.13,
           0.2,
           0.2,
           0.38,
           0.05,
           0.14,
           0.2,
           0.52
          ],
          [
           0.01,
           0,
           0.05,
           0.06,
           0.12,
           0.17,
           0.14,
           0,
           0.11,
           0.13,
           0.07,
           0.06,
           0.06,
           0.01,
           0.02,
           0.09,
           0.1
          ],
          [
           0.14,
           null,
           null,
           null,
           null,
           null,
           9.84,
           null,
           2.18,
           1.41,
           null,
           null,
           null,
           null,
           1.06,
           null,
           null
          ],
          [
           0.4,
           23,
           60,
           50,
           52,
           42,
           32,
           61.6,
           2,
           49.7,
           30,
           49,
           0.8,
           18.1,
           3.5,
           45,
           14
          ],
          [
           82.47,
           55.4,
           6.4,
           2.02,
           2.74,
           4.08,
           43.5,
           4.3,
           76.36,
           0.68,
           7.5,
           3.77,
           12.38,
           67.55,
           87.4,
           5.37,
           53.61
          ],
          [
           18.01,
           null,
           null,
           null,
           null,
           null,
           560.52,
           null,
           57.77,
           185.23,
           null,
           null,
           null,
           null,
           62.82,
           null,
           null
          ],
          [
           0,
           0,
           0,
           0,
           0,
           0,
           0,
           0,
           0,
           0,
           0,
           0,
           0,
           0,
           0,
           0,
           0
          ],
          [
           0.46,
           1.4,
           0,
           0,
           0,
           0,
           1.3,
           0,
           0,
           0,
           0,
           0,
           0,
           0.25,
           0.21,
           0,
           0.3
          ],
          [
           0.42,
           0,
           0,
           0,
           0,
           0,
           0,
           0,
           0,
           0,
           0,
           0,
           0,
           0,
           0,
           0,
           0
          ],
          [
           0,
           2.5,
           0.05,
           0.1,
           0.1,
           0.01,
           1.84,
           0.02,
           0.03,
           0.23,
           0.02,
           0.02,
           0,
           0.01,
           0.41,
           0,
           2.2
          ],
          [
           0,
           0,
           0,
           0,
           0,
           0,
           0,
           0,
           0,
           0,
           0,
           0,
           0,
           0,
           0,
           0,
           0
          ],
          [
           0.01,
           0.43,
           0.19,
           0.25,
           0.2,
           0.18,
           0.5,
           0.15,
           0.41,
           0.16,
           0.15,
           0.26,
           0.04,
           0.16,
           0.18,
           0.04,
           0.46
          ],
          [
           0.77,
           0,
           7.15,
           10,
           9.24,
           0,
           0,
           0,
           0,
           4.84,
           0,
           0,
           67.72,
           4.29,
           0,
           1.83,
           0
          ],
          [
           0.02,
           1.66,
           1.69,
           1.55,
           1.5,
           1.52,
           3.01,
           1.1,
           1,
           2.06,
           1.36,
           1.7,
           0.7,
           0.87,
           0.33,
           2.64,
           1.92
          ],
          [
           0.01,
           0.7,
           0.72,
           0.91,
           0.61,
           0.74,
           1.32,
           0.48,
           0.56,
           0.86,
           0.87,
           0.96,
           0.3,
           0.48,
           0.14,
           1.11,
           0.83
          ],
          [
           0.77,
           0,
           7.15,
           10,
           9.24,
           0,
           0,
           0,
           0,
           4.84,
           0,
           0,
           67.72,
           4.29,
           0,
           1.83,
           0
          ],
          [
           0,
           0.23,
           0.29,
           0.29,
           0.21,
           0.31,
           0.42,
           0.21,
           0.18,
           0.33,
           0.39,
           0.37,
           0.1,
           0.15,
           0.04,
           0.54,
           0.26
          ],
          [
           0.01,
           0.82,
           0.89,
           0.93,
           0.88,
           0.82,
           1.86,
           0.58,
           0.74,
           1.25,
           0.95,
           1.14,
           0.41,
           0.55,
           0.15,
           1.57,
           1.17
          ],
          [
           0,
           0,
           0,
           0,
           0,
           0,
           0,
           0,
           0,
           0,
           0,
           0,
           0,
           0,
           0,
           0,
           0
          ],
          [
           0.04,
           0,
           4.3,
           1.46,
           0.46,
           1.96,
           0.04,
           3.46,
           0.07,
           1.6,
           2.26,
           2.38,
           0.6,
           0.35,
           0,
           2.77,
           0.03
          ],
          [
           0.34,
           15.68,
           24,
           20.9,
           20.8,
           21.01,
           31.9,
           16.25,
           11.85,
           29.78,
           22.27,
           26.11,
           10.3,
           11.9,
           3.38,
           35.49,
           20.1
          ],
          [
           12,
           0,
           1.9,
           0,
           7,
           0,
           0,
           0,
           0,
           0,
           0,
           0,
           0,
           29,
           1.7,
           0.2,
           0
          ],
          [
           0.06,
           0.28,
           0.57,
           0.57,
           0.59,
           0.59,
           0.29,
           0.65,
           0.14,
           0.58,
           0.44,
           0.48,
           0.33,
           0.14,
           0.06,
           0.56,
           0.28
          ],
          [
           10.57,
           14.02,
           13.43,
           13.4,
           13.41,
           13.36,
           14.21,
           13.04,
           10.35,
           13.07,
           13.38,
           13.4,
           9.3,
           13.68,
           14.03,
           13.42,
           11.62
          ],
          [
           0,
           0,
           0,
           0,
           0,
           0,
           0,
           0,
           0,
           0,
           0,
           0,
           0,
           0,
           0,
           0,
           0
          ],
          [
           0.06,
           null,
           null,
           null,
           null,
           null,
           8.78,
           null,
           0.63,
           0.91,
           null,
           null,
           null,
           null,
           0.89,
           null,
           null
          ],
          [
           0,
           0.96,
           0,
           0.04,
           0.01,
           0,
           0.8,
           0,
           0.14,
           0.01,
           0.06,
           0,
           0,
           0,
           0.04,
           0.03,
           1
          ],
          [
           0,
           0.02,
           0.06,
           0.1,
           0.06,
           0.07,
           0.04,
           0.09,
           0.07,
           0.17,
           0.07,
           0.12,
           0.02,
           0.04,
           0.01,
           0.05,
           0.05
          ],
          [
           0,
           0.58,
           0,
           0,
           0,
           0,
           0.22,
           0,
           0,
           0,
           0,
           0,
           0,
           0,
           0.05,
           0,
           0.27
          ],
          [
           0.12,
           0.06,
           0.6,
           0.46,
           1.02,
           0.69,
           0.1,
           0.74,
           0.15,
           0.66,
           0.73,
           0.78,
           0.11,
           0.25,
           0.14,
           0.57,
           0.15
          ],
          [
           0.03,
           0,
           0.02,
           0.04,
           0.15,
           0,
           0.11,
           0.02,
           0.01,
           0,
           0.05,
           0.02,
           0,
           0.4,
           0.02,
           0.23,
           0.1
          ],
          [
           0.26,
           1.19,
           2.41,
           2.39,
           2.46,
           2.48,
           1.23,
           2.72,
           0.57,
           2.41,
           1.86,
           2.01,
           1.38,
           0.6,
           0.27,
           2.36,
           1.15
          ],
          [
           0.05,
           24.09,
           50.7,
           50.4,
           51.6,
           47.1,
           18.2,
           63.3,
           9.32,
           48.1,
           36.5,
           26.3,
           0.79,
           5.9,
           3.57,
           46.34,
           21.8
          ],
          [
           0,
           0.64,
           0,
           0,
           0,
           0,
           0.4,
           0,
           0,
           0,
           0,
           0,
           0,
           0,
           0.09,
           0,
           0.47
          ],
          [
           0,
           0.25,
           0.03,
           0.78,
           0.14,
           0.04,
           0.9,
           0.15,
           0.05,
           0.04,
           0.21,
           0.09,
           0.02,
           0.13,
           0.12,
           0.01,
           0.4
          ],
          [
           0,
           0,
           0,
           0,
           0,
           0,
           0,
           0,
           0,
           0,
           0,
           0,
           0,
           0,
           0,
           0,
           0
          ],
          [
           0,
           0.28,
           0,
           0.01,
           0.02,
           0,
           0.22,
           0,
           0.28,
           0,
           0.01,
           0,
           0,
           0.07,
           0.03,
           0.04,
           0.3
          ],
          [
           7.32,
           0,
           0,
           0,
           0,
           0,
           0,
           0,
           0,
           0,
           0,
           0,
           0.07,
           1.88,
           0,
           0.07,
           0
          ],
          [
           0.12,
           9.24,
           13.24,
           11.03,
           10.45,
           10.78,
           16.77,
           7.95,
           6.75,
           14.87,
           10.95,
           12.67,
           4.08,
           5.85,
           1.74,
           20.44,
           10.51
          ],
          [
           0.36,
           0,
           1.08,
           5.03,
           1.59,
           0,
           0,
           0,
           0,
           2.9,
           0,
           0,
           2.84,
           0.39,
           0,
           1.3,
           0
          ],
          [
           0.02,
           1.37,
           0.87,
           0.64,
           1.11,
           1.01,
           2.28,
           0.47,
           0.71,
           1.12,
           0.91,
           0.99,
           0.28,
           0.74,
           0.28,
           2.28,
           1.43
          ],
          [
           0.01,
           0.55,
           4.51,
           2.21,
           1.94,
           2.31,
           1.06,
           2.27,
           0.71,
           3.52,
           2.24,
           2.47,
           0.47,
           0.98,
           0.1,
           5.14,
           0.67
          ],
          [
           0.02,
           1.15,
           1.21,
           1.12,
           1.27,
           1.13,
           2.02,
           0.75,
           0.89,
           1.48,
           1.15,
           1.33,
           0.47,
           0.55,
           0.19,
           2.46,
           1.27
          ],
          [
           0,
           0,
           0,
           0,
           0,
           0,
           0,
           0,
           0,
           0,
           0,
           0,
           0,
           0,
           4.68,
           0,
           0
          ],
          [
           0.01,
           0.48,
           0.53,
           0.49,
           0.46,
           0.49,
           0.96,
           0.41,
           0.26,
           0.72,
           0.52,
           0.69,
           0.2,
           0.32,
           0.08,
           0.82,
           0.53
          ],
          [
           0.01,
           0,
           0,
           0,
           0.06,
           0,
           0,
           0.01,
           0.01,
           0,
           0,
           0,
           0,
           0,
           0,
           0,
           0
          ],
          [
           0.01,
           0,
           0.81,
           0.79,
           0.69,
           0.58,
           0.04,
           0.46,
           0.1,
           0.9,
           0.46,
           1.9,
           0.12,
           0.44,
           0.04,
           0.59,
           0.04
          ],
          [
           0,
           1.73,
           0,
           0,
           0,
           0,
           0.46,
           0,
           0,
           0,
           0,
           0,
           0,
           0,
           0.11,
           0,
           0.56
          ],
          [
           0,
           0.93,
           0,
           0,
           0.05,
           0,
           0.57,
           0,
           0,
           0.05,
           0,
           0,
           0,
           0,
           0.13,
           0.23,
           0.68
          ],
          [
           0,
           0,
           0,
           0,
           0,
           0,
           0,
           0,
           0,
           0,
           0,
           0,
           0,
           0,
           0,
           0,
           0
          ],
          [
           1.54,
           0,
           5.76,
           7.96,
           10.3,
           3.1,
           0,
           7.7,
           0,
           10.53,
           0,
           5.8,
           5.32,
           1.5,
           0,
           6.93,
           0
          ],
          [
           0,
           0,
           0,
           0,
           0,
           0,
           0,
           0,
           0,
           0,
           0,
           0,
           0,
           0,
           0,
           0,
           0
          ],
          [
           0.01,
           0.22,
           0.51,
           0.61,
           0.5,
           0.5,
           0.6,
           0.29,
           0.21,
           0.34,
           0.53,
           0.69,
           0.09,
           0.2,
           0.09,
           0.52,
           0.4
          ],
          [
           0.04,
           0,
           0.11,
           0.79,
           0.25,
           0.53,
           0.1,
           0.66,
           0.08,
           0.44,
           0.43,
           1.27,
           0.08,
           0.2,
           0.04,
           0.09,
           0.2
          ],
          [
           0.1,
           0,
           0.21,
           1.41,
           1.19,
           0,
           0.45,
           0,
           1.6,
           2.9,
           0,
           0,
           0.5,
           0.3,
           0.35,
           0.6,
           0.31
          ],
          [
           0,
           0,
           0.01,
           0.01,
           0.02,
           0.01,
           0,
           0.06,
           0.02,
           0.03,
           0.02,
           0.06,
           0,
           0,
           0,
           0.01,
           0
          ],
          [
           0.35,
           4.08,
           8.42,
           9.37,
           4.93,
           7.07,
           7.05,
           4.92,
           3.12,
           20.83,
           9.11,
           11.18,
           3.03,
           3.95,
           0.69,
           10.64,
           5.57
          ],
          [
           0,
           0,
           0,
           0.02,
           0,
           0,
           0,
           0,
           0,
           0.02,
           0,
           0,
           0.03,
           0.01,
           0,
           0,
           0
          ],
          [
           0.42,
           0,
           0,
           0,
           0,
           0,
           0,
           0,
           0,
           0,
           0,
           0,
           0,
           0,
           0,
           0,
           0
          ],
          [
           0.3,
           0.14,
           0.2,
           0.2,
           0.21,
           0.21,
           0.18,
           0.22,
           0.26,
           0.13,
           0.2,
           0.2,
           0.38,
           0.05,
           0.14,
           0.2,
           0.52
          ],
          [
           9.91,
           0,
           0,
           0,
           0,
           0,
           0,
           0,
           1.53,
           0,
           0,
           0,
           0.14,
           3.32,
           0.02,
           0.15,
           0
          ],
          [
           0,
           0.28,
           0,
           0,
           0,
           0,
           0.2,
           0,
           0.28,
           0,
           0,
           0,
           0,
           0,
           0.03,
           0,
           0.28
          ],
          [
           0.01,
           0,
           0.14,
           0.56,
           0.21,
           0,
           0,
           0,
           0,
           1.45,
           0,
           0,
           0.36,
           0.06,
           0,
           0.17,
           0
          ],
          [
           2.59,
           0,
           0,
           0,
           0,
           0,
           0,
           0,
           1.53,
           0,
           0,
           0,
           0.07,
           1.45,
           0.01,
           0.08,
           0
          ],
          [
           0,
           0.88,
           0,
           0,
           0,
           0,
           0.62,
           0,
           0,
           0,
           0,
           0,
           0,
           0,
           0.15,
           0,
           0.74
          ],
          [
           0.01,
           0.87,
           0.84,
           0.72,
           0.65,
           0.68,
           1.47,
           0.43,
           0.47,
           1.21,
           0.59,
           0.7,
           0.31,
           0.43,
           0.16,
           1.28,
           0.93
          ],
          [
           0,
           0,
           0,
           0,
           0,
           0,
           0,
           0,
           0,
           0,
           0,
           0,
           0,
           0,
           0,
           0,
           0
          ],
          [
           14.35,
           0.81,
           7.3,
           10.2,
           11.55,
           22.18,
           0,
           5.97,
           1.53,
           7.48,
           7.71,
           34.74,
           68.96,
           10.4,
           4.7,
           2.74,
           0
          ],
          [
           0.3,
           0.25,
           3.6,
           4.52,
           1.45,
           1.84,
           0.1,
           1.42,
           0.08,
           15.4,
           2.56,
           5,
           1.3,
           1.5,
           0.09,
           1.72,
           1.2
          ],
          [
           0.49,
           0.8,
           12.47,
           0.25,
           5.2,
           0.32,
           0.55,
           22.2,
           1.96,
           10.03,
           0,
           37.2,
           0.8,
           0.3,
           0.07,
           4,
           0.4
          ],
          [
           0.32,
           2.62,
           4.4,
           5.3,
           2.7,
           2.53,
           5.1,
           2.48,
           0.94,
           2.22,
           3.32,
           3.28,
           0.47,
           1,
           0.74,
           1.4,
           4.18
          ],
          [
           0,
           0,
           0,
           0,
           0,
           0,
           0,
           0,
           0,
           0,
           0,
           0,
           0,
           0,
           0,
           0,
           0
          ],
          [
           0.6,
           0,
           1.08,
           1.68,
           1.59,
           0,
           0,
           0,
           0,
           1.6,
           0,
           0,
           1.28,
           1.11,
           0,
           1.3,
           0
          ],
          [
           0.01,
           0.89,
           0.89,
           1.25,
           1.07,
           0.98,
           1.47,
           0.71,
           0.64,
           1.57,
           1.11,
           1.29,
           0.48,
           0.56,
           0.15,
           1.53,
           0.93
          ],
          [
           0.48,
           0,
           1.44,
           3.22,
           0.31,
           0,
           0,
           0,
           0,
           1.21,
           0,
           0,
           1.78,
           1.5,
           0,
           1.73,
           0
          ],
          [
           0,
           1.46,
           0.04,
           0.01,
           0.04,
           0.02,
           1.1,
           0.03,
           0.18,
           0.01,
           0.02,
           0.05,
           0.09,
           0.02,
           0.1,
           0.08,
           1.2
          ],
          [
           0.25,
           0.14,
           9.2,
           10,
           7.3,
           6.41,
           0.4,
           3.43,
           1.83,
           1.81,
           6.75,
           5.72,
           1,
           3.1,
           0.06,
           4.89,
           0.3
          ],
          [
           0.01,
           0.13,
           0.15,
           0.23,
           0.25,
           0.21,
           0.2,
           0.16,
           0.18,
           0.38,
           0.22,
           0.28,
           0.13,
           0.03,
           0.03,
           0.16,
           0.21
          ],
          [
           0,
           0,
           0,
           0,
           0,
           0,
           0,
           0,
           0,
           0,
           0,
           0,
           0,
           0,
           0.01,
           0,
           0
          ],
          [
           0.04,
           1.04,
           4.25,
           7.78,
           3.34,
           5.15,
           4.5,
           2.08,
           1.49,
           2.83,
           4.17,
           5.76,
           3.3,
           0.28,
           0.4,
           6.15,
           3
          ],
          [
           0,
           0,
           0,
           0,
           0,
           0,
           0,
           0,
           0,
           0,
           0,
           0,
           0,
           0,
           0,
           0,
           0
          ],
          [
           0.01,
           0.15,
           0.05,
           0.05,
           0.07,
           0.07,
           0.19,
           0.07,
           0.06,
           0.04,
           0.04,
           0.05,
           0.04,
           0.05,
           0.04,
           0.05,
           0.14
          ],
          [
           0,
           0.01,
           0,
           0,
           0,
           0,
           0.01,
           0,
           0,
           0,
           0,
           0,
           0,
           0,
           0,
           0,
           0.01
          ],
          [
           0,
           0,
           0,
           0,
           0,
           0,
           0,
           0,
           0,
           0,
           0,
           0,
           0,
           0,
           0,
           0,
           0
          ],
          [
           0,
           0.1,
           0.08,
           0.08,
           0.01,
           0.01,
           0.08,
           0.01,
           0.04,
           0.05,
           0.08,
           0.08,
           0.24,
           0.05,
           0.01,
           0.08,
           0.05
          ],
          [
           0,
           0,
           0,
           0,
           0,
           0,
           0,
           0,
           0,
           0,
           0,
           0,
           0,
           0,
           0,
           0,
           0
          ],
          [
           0,
           0,
           0,
           0,
           0,
           0,
           0,
           0,
           0,
           0,
           0,
           0,
           0,
           0,
           0,
           0,
           0
          ],
          [
           0,
           0,
           0,
           0,
           0,
           0,
           0,
           0,
           0,
           0,
           0,
           0,
           0,
           0,
           0,
           0,
           0
          ],
          [
           0,
           0,
           0,
           0,
           0,
           0,
           0,
           0,
           0,
           0,
           0,
           0,
           0,
           0,
           0,
           0,
           0
          ],
          [
           0,
           0,
           0,
           0,
           0,
           0,
           0,
           0,
           0,
           0,
           0,
           0,
           0,
           0,
           0,
           0,
           0
          ],
          [
           0,
           0,
           0,
           0,
           0,
           0,
           0,
           0,
           0,
           0,
           0,
           0,
           0,
           0,
           0,
           0,
           0
          ],
          [
           0.01,
           0.03,
           0.02,
           0.02,
           0.15,
           0.15,
           0.03,
           0.15,
           0.01,
           0.01,
           0.01,
           0.02,
           0.01,
           0.02,
           0.01,
           0.02,
           0.02
          ],
          [
           0,
           0,
           0,
           0,
           0,
           0,
           0,
           0,
           0,
           0,
           0,
           0,
           0,
           0,
           0,
           0,
           0
          ],
          [
           0,
           0,
           0,
           0,
           0,
           0,
           0,
           0,
           0,
           0,
           0,
           0,
           0,
           0,
           0,
           0,
           0
          ],
          [
           0,
           0,
           0,
           0,
           0,
           0,
           0,
           0,
           0,
           0,
           0,
           0,
           0,
           0,
           0,
           0,
           0
          ],
          [
           0,
           0,
           0,
           0,
           0,
           0,
           0,
           0,
           0,
           0,
           0,
           0,
           0,
           0,
           0,
           0,
           0
          ],
          [
           0,
           0,
           0,
           0,
           0,
           0,
           0,
           0,
           0,
           0,
           0,
           0,
           0,
           0,
           0,
           0,
           0
          ],
          [
           0,
           0,
           0,
           0,
           0,
           0,
           0,
           0,
           0,
           0,
           0,
           0,
           0,
           0,
           0,
           0,
           0
          ],
          [
           2.01,
           0,
           7.2,
           11.18,
           10.61,
           3.1,
           0,
           7.7,
           0,
           11.74,
           22.7,
           5.8,
           7.1,
           3,
           0,
           8.66,
           0
          ],
          [
           0,
           0,
           0,
           0,
           0,
           0,
           0,
           0,
           0,
           0,
           0,
           0,
           0,
           0,
           0,
           0,
           0
          ],
          [
           0,
           0,
           0,
           0,
           0,
           0,
           0,
           0,
           0,
           0,
           0,
           0,
           0,
           0,
           0,
           0,
           0
          ],
          [
           0,
           0,
           0,
           0,
           0,
           0,
           0,
           0,
           0,
           0,
           0,
           0,
           0,
           0,
           0,
           0,
           0
          ]
         ],
         "texttemplate": "%{text}",
         "type": "heatmap",
         "x": [
          "Apple",
          "Feta",
          "Pine nut",
          "Sesame",
          "Pistachio",
          "Cashew nut",
          "Hard cheese",
          "Hazel nut",
          "Chicken",
          "Peanut",
          "Linseed",
          "Sunflower seed",
          "Durum wheat",
          "Soybeans",
          "Cow's milk",
          "Pumpkin seed",
          "Soft cheese"
         ],
         "xaxis": "x",
         "y": [
          "Alanin_mg/100g",
          "Alkohol (Ethanol)_mg/100g",
          "Arginin_mg/100g",
          "Asparagic acid_mg/100g",
          "Butteric acid/butyric acid_mg/100g",
          "Calcium_mg/100g",
          "Cholesterin_mg/100g",
          "Cystein_mg/100g",
          "DOCOSATRIENACE_MG/100G",
          "Decanic acid/capric acid_mg/100g",
          "Decosanic acid/beetic acid_mg/100g",
          "Decosis acid/erucasic acid_mg/100g",
          "Disaccharide (2M)_mg/100g",
          "Docosadi acid_mg/100g",
          "Docosahexaensäure_mg/100g",
          "Docosatetraensäure_mg/100g",
          "Dodecanic acid/lauric acid_mg/100g",
          "EICOSADIACHERION_MG/100G",
          "EICOSATETREENONE/ARACHIDONOCES_MG/100G",
          "EICOSATRIENOCE_MG/100G",
          "Eicosanic acid/arachic acid_mg/100g",
          "Eicosapentaensäure_mg/100g",
          "Eicosenic acid_mg/100g",
          "Energy (kilocalories) _Kcal/100g",
          "Energy (kilojoule) _kJ/100g",
          "Essential _mg/100g",
          "Eutrophying emissions per 100g (gPO₄eq per 100g}",
          "Fat_g/100g",
          "Fluorid_μg/100g",
          "Freshwater withdrawals per 100g (liters per 100g)",
          "Fructose (fructose) _MG/100G",
          "Glucose (glucose) _mg/100g",
          "Glutamic acid_mg/100g",
          "Glycerin and lipoid_mg/100g",
          "Glycin_mg/100g",
          "Glycogen (animal strength) _mg/100g",
          "Heptadecanic acid_mg/100g",
          "Heptadecenic acid_mg/100g",
          "Hexadecadios_mg/100g",
          "Hexadecan acid/palmitic acid_mg/100g",
          "Hexadecatetraensäure_mg/100g",
          "Hexadecensic acid/palmitoleic acid_mg/100g",
          "Hexanic acid/capronic acid_mg/100g",
          "Histidin_mg/100g",
          "Iodid_μg/100g",
          "Isoleucin_mg/100g",
          "KUPFER_MG/100G",
          "Kalium_mg/100g",
          "Lactose (milk sugar) _mg/100g",
          "Land use per 100g (m² per 100g)",
          "Leucin_mg/100g",
          "Lignin_mg/100g",
          "Long -chain fatty acids_mg/100g",
          "Lysin_mg/100g",
          "Maltose (Malzzucker)_mg/100g",
          "Mangan_μg/100g",
          "Mannit_mg/100g",
          "Medium -chain fatty acids_mg/100g",
          "Methionin_mg/100g",
          "Minerals (raw ash) _mg/100g",
          "Monosaccharide (1M)_mg/100g",
          "Non -essential amino acids_mg/100g",
          "Nonadecatrio acid_mg/100g",
          "Octadecanic acid/stearic acid_mg/100g",
          "Octadecenic acid/oleic acid_mg/100g",
          "Octadecriosic acid/linolenic acid_mg/100g",
          "Octadiic acid/linoleic acid_mg/100g",
          "Octanic acid/caprylic acid_mg/100g",
          "OctradeCateTrade acid/stearidonic acid_mg/100g",
          "Oligosaccharide, sorbierbar (3-9 M)_mg/100g",
          "Oligosaccharides, not resorbable_mg/100g",
          "Omega-3 fatty acids_mg/100g",
          "Omega-6 fatty acids_mg/100g",
          "Organic acids_mg/100g",
          "Pentadecensic acid_mg/100g",
          "Pentaecanic acid_mg/100g",
          "Phenylalanine mg/100g",
          "Poly-Hexosen_mg/100g",
          "Poly-Pentosen_mg/100g",
          "Poly-Uronic acid_mg/100g",
          "Polysaccharide (> 9M)_mg/100g",
          "Polyunsaturated fatty acids MG/100G",
          "Prolin_mg/100g",
          "Protein_g/g",
          "Purin_mg/100g",
          "Saccharosis (beet sugar) _MG/100G",
          "Saturated fatty acids_mg/100g",
          "Serin_mg/100g",
          "Short -chain fatty acids_mg/100g",
          "Simply unsaturated fatty acids mg/100g",
          "Sodium_mg/100g",
          "Sorbit_mg/100g",
          "Starch_mg/100g",
          "Sugar (total) _mg/100g",
          "Sum sugar alcohols_mg/100g",
          "TetraCanic acid/myristic acid_mg/100g",
          "Tetracosanic acid/lignoceric acid_mg/100g",
          "Tetracosenic acid/nervous acid_mg/100g",
          "TetradeCensic acid_mg/100g",
          "Threonin_mg/100g",
          "Tryptophan_mg/100g",
          "Tyrosin_mg/100g",
          "Uric acid_mg/100g",
          "Valin_mg/100g",
          "Vitamin A-Beta-Carotin_μg/100g",
          "Vitamin A-Retinol_μg/100g",
          "Vitamin A-Retinoläquivalent_μg/100g",
          "Vitamin B1-Thiamin_μg/100g",
          "Vitamin B12-Cobalamin_μg/100g",
          "Vitamin B2-Riboflavin_μg/100g",
          "Vitamin B3-Niacinäquivalent_μg/100g",
          "Vitamin B3-niacin, nicotinic acid_μg/100g",
          "Vitamin B5-Pantothenic acid_μg/100g",
          "Vitamin B6-Pyridoxin_μg/100g",
          "Vitamin B7-Biotin (VitaminH)_μg/100g",
          "Vitamin B9-overall folic acid_μg/100g",
          "Vitamin C-ASCORBINCOCHER_INCH/100G",
          "Vitamin D-Calciferole_μg/100g",
          "Vitamin E-Alpha-Tocopherol_μg/100g",
          "Vitamin E-Tocopheroläquivalent_μg/100g",
          "Vitamin K-Phyllochinon_μg/100g",
          "Water -insoluble fiber_mg/100g",
          "Xylit_mg/100g",
          "http://purl.obolibrary.org/obo/CHEBI_16646_mg/100g",
          "http://purl.obolibrary.org/obo/FOODON_03316427_mg/100g",
          "http://purl.obolibrary.org/obo/FOODON_03420190_mg/100g"
         ],
         "yaxis": "y",
         "z": [
          [
           0,
           1,
           0.015544041450777204,
           0.11917098445595854,
           0.0544041450777202,
           0.0544041450777202,
           0.6632124352331605,
           0.002590673575129534,
           0.11139896373056996,
           0.15803108808290153,
           0.015544041450777204,
           0.04145077720207254,
           0.05569948186528497,
           0.028497409326424868,
           0.1411917098445596,
           0.024611398963730567,
           0.2487046632124352
          ],
          [
           0,
           0.9999999999999999,
           0.5439461898035941,
           0.5439461898035941,
           0.8589067683545419,
           0.8589067683545419,
           0.8795194399772963,
           0.8589067683545419,
           0.498405853359386,
           0.39046643549855004,
           0.5339774725256802,
           0.5439461898035941,
           0.14466513786905622,
           0.23805923166503024,
           0.07126719489559923,
           0.5439461898035941,
           0.6005591093394747
          ],
          [
           0.02524271844660194,
           0,
           0.5,
           0.7087378640776699,
           0.5728155339805825,
           1,
           0.024271844660194178,
           0.7766990291262137,
           0.03155339805825243,
           0.37233009708737863,
           0.5825242718446602,
           0.9174757281553397,
           0.07281553398058252,
           0.048543689320388356,
           0.0033980582524271844,
           0.40436893203883495,
           0.03398058252427185
          ],
          [
           0,
           0,
           0,
           0,
           0,
           0,
           0,
           0,
           0,
           0,
           0,
           0,
           0,
           0,
           0,
           0,
           0
          ],
          [
           0.09355210132412203,
           0,
           0.00420264824409902,
           0.005872193436960276,
           0.06649395509499136,
           0.6384571099597005,
           0,
           0.17184801381692572,
           0,
           0.07584916522740355,
           0.22193436960276336,
           0.9999999999999999,
           0.019861830742659754,
           0.018508923431203222,
           0,
           0.021934369602763383,
           0
          ],
          [
           0.5421940928270041,
           0.19198312236286924,
           0.3333333333333333,
           0.32911392405063294,
           0.33755274261603374,
           0.35232067510548526,
           0.2805907172995781,
           0.36497890295358654,
           0.459915611814346,
           0.17510548523206754,
           0.3312236286919832,
           0.3248945147679325,
           0.7151898734177214,
           0,
           0.18776371308016881,
           0.33544303797468356,
           0.9999999999999999
          ],
          [
           0,
           1,
           0,
           0,
           0,
           0.0199203187250996,
           0.8207171314741035,
           0.02390438247011952,
           0,
           0,
           0.027888446215139442,
           0.0199203187250996,
           0.00398406374501992,
           0,
           0.18326693227091634,
           0,
           0.9840637450199203
          ],
          [
           0,
           0.03508771929824562,
           0.672514619883041,
           1,
           0.4473684210526316,
           0.7397660818713451,
           0.07309941520467836,
           0.4619883040935672,
           0.017543859649122806,
           0.45321637426900585,
           0.9298245614035089,
           0.9678362573099416,
           0.07309941520467836,
           0.05555555555555555,
           0.02046783625730994,
           0.8187134502923976,
           0.04385964912280702
          ],
          [
           0,
           0.4791553871142392,
           0.5273416350839197,
           0.530048727666486,
           0.6594477531131564,
           0.5847319978343258,
           0.8944233892799133,
           0.3773687060097454,
           0.4856524093123984,
           0.9999999999999999,
           0.591229020032485,
           0.6172171088251217,
           0.2788305360043313,
           0.36383324309691384,
           0.09258256632376825,
           0.7644829453167297,
           0.560368164591229
          ],
          [
           0.09355210132412203,
           0,
           0.00420264824409902,
           0.005872193436960276,
           0.06649395509499136,
           0.6384571099597005,
           0,
           0.17184801381692572,
           0,
           0.07584916522740355,
           0.22193436960276336,
           0.9999999999999999,
           0.019861830742659754,
           0.018508923431203222,
           0.13485895221646516,
           0.021934369602763383,
           2.8785261945883705e-05
          ],
          [
           0.237292817679558,
           0,
           0.039779005524861875,
           0.15441988950276245,
           0.05856353591160221,
           0,
           0,
           0,
           0,
           1,
           0,
           0,
           0.137292817679558,
           0.10773480662983427,
           0,
           0.04779005524861878,
           0
          ],
          [
           0,
           0.19222462203023755,
           0.8833693304535636,
           0.5615550755939525,
           0.855291576673866,
           0.8963282937365009,
           0.34557235421166305,
           0.6997840172786177,
           0.529157667386609,
           0.9416846652267817,
           0.9136069114470842,
           0.9999999999999999,
           0.447084233261339,
           0.20950323974082072,
           0.05183585313174946,
           0.8444924406047516,
           0.21814254859611226
          ],
          [
           0.010833118390508123,
           0.018700025793139022,
           0.3198349239102399,
           0.004642765024503482,
           0.13231880319834924,
           0.15303069383543977,
           0.012380706732009287,
           0.630642249161723,
           0.04874903275728656,
           0.2568222852721176,
           0.41088470466855814,
           1.0000000000000002,
           0.01882899148826412,
           0.005932421975754449,
           0,
           0.10136703636832602,
           0.008511735878256384
          ],
          [
           0,
           0.5570737261599772,
           0.3532593225163678,
           0.31938514090520925,
           0.2402504981497296,
           0.22430970680330203,
           0.9999999999999999,
           0.16026188442926276,
           0.1295189296897239,
           0.4104753771705096,
           0.23797324224309707,
           0.33988044406490187,
           0.3339026473099915,
           0.15684600056931397,
           0.08795900939368062,
           0.35155138058639346,
           0.62311414745232
          ],
          [
           0.17500000000000002,
           0,
           0,
           0.775,
           0,
           0,
           0.125,
           0,
           0.0625,
           0.9249999999999999,
           0,
           0,
           1,
           0.525,
           0,
           0,
           0.125
          ],
          [
           0,
           0.5620305793991416,
           0.706746244635193,
           0.6473310085836909,
           0.6792516094420601,
           0.6714055793991416,
           0.9999999999999999,
           0.541711373390558,
           0.327320278969957,
           0.9847103004291845,
           0.7445010729613732,
           0.8866684549356223,
           0.4026287553648068,
           0.3908932403433476,
           0.09529238197424891,
           0.994702253218884,
           0.6288224248927038
          ],
          [
           0,
           0,
           0,
           0,
           0,
           0,
           0,
           0,
           0,
           0,
           0,
           0,
           0.1930970149253731,
           1,
           0,
           0,
           0
          ],
          [
           0,
           0.36105336105336105,
           0.8392238392238391,
           0.7733887733887734,
           0.6243936243936244,
           0.5772695772695773,
           0.5862785862785862,
           0.5169785169785169,
           0.47609147609147606,
           0.5578655578655578,
           0.7255717255717256,
           0.7872487872487872,
           0.23977823977823978,
           0.36105336105336105,
           0.06029106029106029,
           1,
           0.3652113652113652
          ],
          [
           0,
           0.5362897265336289,
           0.5835920177383592,
           0.5490022172949002,
           0.6504065040650407,
           0.6802660753880266,
           0.9999999999999999,
           0.5636363636363637,
           0.2075388026607539,
           0.8418329637841834,
           0.6897265336289727,
           0.8750923872875093,
           0.4613451589061346,
           0.33983739837398375,
           0.09948263118994827,
           0.8125646711012565,
           0.6193643754619365
          ],
          [
           0,
           0.33384805435453985,
           0.615812229771464,
           0.38511426806670784,
           0.5540457072266832,
           0.5518838789376158,
           0.5145151327980235,
           0.46819024088943795,
           0.31778875849289684,
           1,
           0.6473131562693021,
           0.7313156269302039,
           0.11766522544780728,
           0.3959234095120445,
           0.03953057442865967,
           0.92958616429895,
           0.34681902408894383
          ],
          [
           0.025421308197657814,
           0,
           0.6786632390745502,
           0.479005998286204,
           1,
           0,
           0,
           0,
           0,
           0.310197086546701,
           0,
           0,
           0.3041988003427592,
           0.1499571550985433,
           0,
           0.8163381890888318,
           0
          ],
          [
           0,
           0.13819320214669054,
           0.5237030411449017,
           0.6596601073345261,
           0.4347048300536673,
           0.4123434704830054,
           0.21019677996422184,
           0.3322898032200358,
           0.18291592128801432,
           0.7410554561717353,
           0.6104651162790699,
           0.6547406082289805,
           0.20930232558139536,
           0.22540250447227195,
           0.023703041144901613,
           1,
           0.13998211091234347
          ],
          [
           0,
           0.5803814713896459,
           0.5204359673024525,
           0.8705722070844688,
           0.47956403269754766,
           0.49182561307901906,
           1,
           0.28065395095367845,
           0.48092643051771117,
           0.4237057220708447,
           0.6008174386920981,
           0.7670299727520437,
           0.20844686648501365,
           0.16212534059945505,
           0.1253405994550409,
           0.9168937329700274,
           0.6267029972752045
          ],
          [
           1,
           0,
           0,
           0,
           0,
           0,
           0,
           0,
           0,
           0,
           0,
           0,
           0,
           1,
           0,
           0,
           0
          ],
          [
           0.5421940928270041,
           0.19198312236286924,
           0.3333333333333333,
           0.32911392405063294,
           0.33755274261603374,
           0.35232067510548526,
           0.2805907172995781,
           0.36497890295358654,
           0.459915611814346,
           0.17510548523206754,
           0.3312236286919832,
           0.3248945147679325,
           0.7151898734177214,
           0,
           0.18776371308016881,
           0.33544303797468356,
           0.9999999999999999
          ],
          [
           0.05294117647058823,
           0,
           0.29411764705882354,
           0.3529411764705882,
           0.7058823529411764,
           1,
           0.8235294117647058,
           0,
           0.6470588235294117,
           0.7647058823529411,
           0.3941176470588235,
           0.3705882352941176,
           0.3529411764705882,
           0.07058823529411765,
           0.1,
           0.5294117647058822,
           0.5882352941176471
          ],
          [
           0,
           null,
           null,
           null,
           null,
           null,
           1,
           null,
           0.20955427156417666,
           0.13093272802311184,
           null,
           null,
           null,
           null,
           0.0949236483697895,
           null,
           null
          ],
          [
           0,
           0.369281045751634,
           0.9738562091503269,
           0.8104575163398694,
           0.8431372549019609,
           0.6797385620915033,
           0.5163398692810458,
           1,
           0.026143790849673203,
           0.8055555555555557,
           0.4836601307189543,
           0.7941176470588236,
           0.006535947712418302,
           0.2892156862745099,
           0.05065359477124183,
           0.7287581699346406,
           0.22222222222222224
          ],
          [
           0.9431694997347603,
           0.6309823096616464,
           0.06589478054293424,
           0.015441566529049518,
           0.023663998892912333,
           0.03915169407477455,
           0.49371497105427037,
           0.041688769979472746,
           0.8726964504001661,
           0,
           0.07859169222962843,
           0.035576723481790716,
           0.1348455843347095,
           0.7710980925802062,
           1,
           0.054028184606868555,
           0.610374334017575
          ],
          [
           0,
           null,
           null,
           null,
           null,
           null,
           0.9999999999999999,
           null,
           0.07328897163185932,
           0.3082339496046156,
           null,
           null,
           null,
           null,
           0.08259755580542297,
           null,
           null
          ],
          [
           0,
           0,
           0,
           0,
           0,
           0,
           0,
           0,
           0,
           0,
           0,
           0,
           0,
           0,
           0,
           0,
           0
          ],
          [
           0.32857142857142857,
           1,
           0.0007142857142857143,
           0,
           0.0007142857142857143,
           0,
           0.9285714285714286,
           0,
           0,
           0.0007142857142857143,
           0,
           0,
           0,
           0.17857142857142858,
           0.15,
           0,
           0.21428571428571427
          ],
          [
           0.9999999999999999,
           0,
           0,
           0,
           0,
           0,
           0,
           0,
           0,
           0,
           0,
           0,
           0,
           0,
           0,
           0,
           0
          ],
          [
           0.0007996801279488205,
           1,
           0.01919232307077169,
           0.039184326269492205,
           0.04078368652538984,
           0.003598560575769692,
           0.7357057177129149,
           0.009996001599360257,
           0.011595361855257898,
           0.09156337465013994,
           0.007197121151539384,
           0.008396641343462616,
           0.00039984006397441024,
           0.003598560575769692,
           0.16233506597361058,
           0,
           0.8812475009996003
          ],
          [
           0,
           0,
           0,
           0,
           0,
           0,
           0,
           0,
           0,
           0,
           0,
           0,
           0,
           0,
           0,
           0,
           0
          ],
          [
           0,
           0.8574338085539714,
           0.3686354378818737,
           0.49083503054989813,
           0.3890020366598778,
           0.34826883910386963,
           1,
           0.2871690427698574,
           0.8126272912423624,
           0.2973523421588594,
           0.2871690427698574,
           0.5112016293279023,
           0.05906313645621181,
           0.3075356415478615,
           0.34826883910386963,
           0.06720977596741344,
           0.9185336048879837
          ],
          [
           0.0113116158185416,
           0,
           0.10564399421128799,
           0.1476121562952243,
           0.13644821170146784,
           0,
           0,
           0,
           0,
           0.07154670840839954,
           0,
           0,
           1,
           0.06333618831034585,
           0,
           0.026994299890723293,
           0
          ],
          [
           0,
           0.5477621910487641,
           0.5571142284569138,
           0.509686038744155,
           0.4959919839679359,
           0.5013360053440213,
           0.9999999999999999,
           0.3607214428857716,
           0.3269873079492318,
           0.6830327321309285,
           0.4462257849031397,
           0.5617902471609886,
           0.22611890447561792,
           0.2842351369405478,
           0.10287241148964597,
           0.8747494989979959,
           0.6346025384101536
          ],
          [
           0,
           0.5287356321839081,
           0.5471264367816092,
           0.6927203065134101,
           0.4567049808429119,
           0.5593869731800767,
           1,
           0.36168582375478925,
           0.42375478927203064,
           0.6551724137931035,
           0.6582375478927204,
           0.7272030651340997,
           0.22375478927203063,
           0.3586206896551724,
           0.10268199233716475,
           0.8398467432950193,
           0.6268199233716475
          ],
          [
           0.0113116158185416,
           0,
           0.10564399421128799,
           0.1476121562952243,
           0.13644821170146784,
           0,
           0,
           0,
           0,
           0.07154670840839954,
           0,
           0,
           1,
           0.06333618831034585,
           0,
           0.026994299890723293,
           0
          ],
          [
           0,
           0.4266917293233083,
           0.537593984962406,
           0.5413533834586466,
           0.38721804511278196,
           0.5845864661654135,
           0.7781954887218044,
           0.3890977443609023,
           0.33646616541353386,
           0.6071428571428572,
           0.7330827067669173,
           0.6917293233082706,
           0.18984962406015035,
           0.2706766917293233,
           0.06203007518796992,
           1,
           0.4868421052631579
          ],
          [
           0,
           0.4371614301191766,
           0.4761646803900325,
           0.4989165763813651,
           0.4685807150595883,
           0.437703141928494,
           1,
           0.3049837486457205,
           0.3927410617551463,
           0.6706392199349945,
           0.508667388949079,
           0.6078006500541712,
           0.21289274106175518,
           0.2925243770314193,
           0.07258938244853737,
           0.843445287107259,
           0.6278439869989165
          ],
          [
           0,
           0,
           0,
           0,
           0,
           0,
           0,
           0,
           0,
           0,
           0,
           0,
           0,
           0,
           0,
           0,
           0
          ],
          [
           0.009999999999999998,
           0,
           1,
           0.34069767441860466,
           0.10790697674418605,
           0.45581395348837206,
           0.009302325581395349,
           0.8046511627906977,
           0.01651162790697674,
           0.3730232558139535,
           0.5255813953488372,
           0.5534883720930233,
           0.13953488372093023,
           0.0813953488372093,
           0.00046511627906976747,
           0.643720930232558,
           0.0069767441860465115
          ],
          [
           0,
           0.43641536273115217,
           0.6731152204836415,
           0.5848079658605975,
           0.5821337126600284,
           0.5880512091038407,
           0.8978662873399715,
           0.4526315789473684,
           0.3274537695590327,
           0.8374395448079659,
           0.6238975817923186,
           0.7331436699857752,
           0.2834139402560455,
           0.32890469416785206,
           0.08654338549075391,
           1,
           0.5622190611664296
          ],
          [
           0.41379310344827586,
           0,
           0.06551724137931034,
           0,
           0.24137931034482757,
           0,
           0,
           0,
           0,
           0,
           0,
           0,
           0,
           1,
           0.05862068965517241,
           0.006896551724137931,
           3.4482758620689657e-05
          ],
          [
           0,
           0.37860780984719855,
           0.8726655348047538,
           0.8675721561969439,
           0.8930390492359932,
           0.9015280135823429,
           0.3955857385398981,
           1,
           0.12903225806451615,
           0.8743633276740237,
           0.6502546689303905,
           0.7113752122241087,
           0.4550084889643464,
           0.14091680814940574,
           0.006791171477079791,
           0.8556876061120543,
           0.3633276740237691
          ],
          [
           0.2577424612876935,
           0.9610839445802772,
           0.8414832925835369,
           0.8343520782396088,
           0.8372045639771801,
           0.8264058679706598,
           0.9999999999999998,
           0.7612061939690304,
           0.21332518337408302,
           0.7671149144254279,
           0.8321108394458026,
           0.835574572127139,
           0,
           0.8932355338223308,
           0.963325183374083,
           0.8400570497147515,
           0.4735126324368377
          ],
          [
           0,
           0,
           0,
           0,
           0,
           0,
           0.12286689419795223,
           0,
           1,
           0,
           0.9556313993174061,
           0,
           0,
           0,
           0.030716723549488057,
           0,
           0.23890784982935154
          ],
          [
           0,
           null,
           null,
           null,
           null,
           null,
           1,
           null,
           0.06470858191831115,
           0.09729233593391463,
           null,
           null,
           null,
           null,
           0.09545663148233134,
           null,
           null
          ],
          [
           0.001,
           0.957,
           0.004,
           0.045,
           0.006,
           0,
           0.8,
           0,
           0.144,
           0.011,
           0.057,
           0,
           0.001,
           0.002,
           0.045,
           0.028,
           1
          ],
          [
           0,
           0.0975609756097561,
           0.3170731707317073,
           0.5609756097560976,
           0.3231707317073171,
           0.38414634146341464,
           0.2134146341463415,
           0.5182926829268292,
           0.4207317073170731,
           1,
           0.41463414634146334,
           0.7073170731707317,
           0.07317073170731708,
           0.23780487804878045,
           0.024390243902439015,
           0.27439024390243905,
           0.27439024390243905
          ],
          [
           0,
           1,
           0,
           0,
           0,
           0,
           0.3842195540308748,
           0,
           0,
           0,
           0,
           0,
           0,
           0,
           0.08404802744425387,
           0,
           0.4596912521440824
          ],
          [
           0.06438213914849428,
           0,
           0.5638629283489096,
           0.4164070612668743,
           0.9999999999999999,
           0.6562824506749739,
           0.0446521287642783,
           0.7144340602284527,
           0.09345794392523363,
           0.6261682242990654,
           0.6998961578400831,
           0.754932502596054,
           0.057113187954309454,
           0.2004153686396677,
           0.0861889927310488,
           0.5327102803738317,
           0.09657320872274142
          ],
          [
           0.07250000000000001,
           0,
           0.045,
           0.10500000000000001,
           0.375,
           0,
           0.275,
           0.05499999999999999,
           0.0325,
           0.005,
           0.12,
           0.0375,
           0,
           1,
           0.0425,
           0.5700000000000001,
           0.25
          ],
          [
           0,
           0.37931034482758613,
           0.8734279918864095,
           0.8673427991886408,
           0.8941176470588235,
           0.9014198782961458,
           0.39675456389452335,
           1,
           0.12860040567951314,
           0.8754563894523324,
           0.6511156186612576,
           0.711156186612576,
           0.45517241379310336,
           0.1403651115618661,
           0.006896551724137931,
           0.8555780933062879,
           0.3638945233265719
          ],
          [
           0,
           0.3800888523501605,
           0.800793663341291,
           0.7960506553256074,
           0.8150226873883416,
           0.7438775671530885,
           0.2869677949755735,
           1,
           0.14657475771134054,
           0.7596875938720336,
           0.5762912839322698,
           0.41502901139902926,
           0.01171522979873836,
           0.09248865630582916,
           0.055651294050686945,
           0.7318619468466901,
           0.34386808113705714
          ],
          [
           0,
           1,
           0,
           0,
           0,
           0,
           0.6158631415241058,
           0,
           0,
           0,
           0,
           0,
           0,
           0,
           0.13374805598755832,
           0,
           0.7371695178849145
          ],
          [
           0,
           0.27150837988826815,
           0.023463687150837985,
           0.8692737430167597,
           0.1463687150837989,
           0.036871508379888264,
           1,
           0.16089385474860335,
           0.05139664804469273,
           0.04022346368715084,
           0.22458100558659216,
           0.09050279329608937,
           0.013407821229050279,
           0.13966480446927373,
           0.12849162011173185,
           0.00558659217877095,
           0.441340782122905
          ],
          [
           0,
           0,
           0,
           0,
           0,
           0,
           0,
           0,
           0,
           0,
           0,
           0,
           0,
           0,
           0,
           0,
           0
          ],
          [
           0.016835016835016838,
           0.925925925925926,
           0.010101010101010102,
           0.023569023569023573,
           0.08417508417508418,
           0,
           0.734006734006734,
           0.01346801346801347,
           0.9360269360269362,
           0,
           0.02693602693602694,
           0.010101010101010102,
           0,
           0.22558922558922562,
           0.10437710437710439,
           0.12794612794612795,
           1
          ],
          [
           1,
           0,
           0,
           0,
           0,
           0,
           0,
           0,
           0,
           0,
           0,
           0,
           0.00942236788201557,
           0.25617916154581455,
           0,
           0.009285811825754473,
           0
          ],
          [
           0,
           0.4488630770745153,
           0.6457328477212325,
           0.5367654296682745,
           0.5085146175804706,
           0.5246087213308397,
           0.819371985431637,
           0.38547101092627234,
           0.3263116448469338,
           0.7261049315877547,
           0.5329264691406636,
           0.6174820356334285,
           0.19499950782557338,
           0.2822128162220692,
           0.07973225711192047,
           1,
           0.5111723594842013
          ],
          [
           0.07175511826674617,
           0,
           0.21466905187835422,
           1,
           0.3164380838799444,
           0,
           0,
           0,
           0,
           0.5756310872589943,
           0,
           0,
           0.5645000993838203,
           0.07751937984496125,
           0,
           0.25819916517590935,
           0
          ],
          [
           0,
           0.596731448763251,
           0.375,
           0.2756183745583039,
           0.4810070671378093,
           0.43948763250883394,
           0.9969081272084807,
           0.19964664310954064,
           0.3034452296819788,
           0.48586572438162545,
           0.39399293286219084,
           0.428886925795053,
           0.11572438162544171,
           0.316696113074205,
           0.1166077738515901,
           1,
           0.6250000000000001
          ],
          [
           0,
           0.10532475131655941,
           0.8777062609713283,
           0.42890579286132247,
           0.3772186463818998,
           0.44899551394577725,
           0.20440803588843381,
           0.4413887263506925,
           0.13575190169689877,
           0.6846108835576362,
           0.433976984591379,
           0.4790325726545739,
           0.08952603861907549,
           0.18958455236980692,
           0.0185293543982836,
           1,
           0.12795006826604252
          ],
          [
           0,
           0.46402289452166806,
           0.4869174161896975,
           0.4497138184791497,
           0.5151267375306623,
           0.4542109566639411,
           0.8197056418642682,
           0.3021259198691742,
           0.3569092395748161,
           0.5968928863450532,
           0.4636140637775961,
           0.5380212591986917,
           0.1856091578086672,
           0.21995094031071138,
           0.07318070318887981,
           1,
           0.5139002452984465
          ],
          [
           0,
           0,
           0,
           0,
           0,
           0,
           0,
           0,
           0,
           0,
           0,
           0,
           0,
           0,
           1,
           0,
           0.00021344717182497332
          ],
          [
           0,
           0.4947589098532495,
           0.5482180293501049,
           0.5073375262054507,
           0.4737945492662474,
           0.5020964360587002,
           0.9999999999999999,
           0.42033542976939203,
           0.26624737945492666,
           0.7484276729559748,
           0.5335429769392034,
           0.7159329140461216,
           0.19916142557651992,
           0.3259958071278826,
           0.07023060796645703,
           0.8511530398322851,
           0.5429769392033543
          ],
          [
           0.1016949152542373,
           0,
           0,
           0.03389830508474576,
           1,
           0,
           0,
           0.1864406779661017,
           0.15254237288135594,
           0,
           0.06779661016949153,
           0,
           0,
           0,
           0.01694915254237288,
           0,
           0
          ],
          [
           0.005789473684210526,
           0,
           0.4263157894736842,
           0.41578947368421054,
           0.36315789473684207,
           0.3052631578947368,
           0.021052631578947368,
           0.24210526315789474,
           0.05263157894736842,
           0.47368421052631576,
           0.24210526315789474,
           0.9999999999999999,
           0.0631578947368421,
           0.23157894736842105,
           0.019473684210526313,
           0.30842105263157893,
           0.023684210526315787
          ],
          [
           0,
           1,
           0,
           0,
           0,
           0,
           0.2686740011580776,
           0,
           0,
           0,
           0,
           0,
           0,
           0,
           0.061378112333526344,
           0,
           0.3219455703532137
          ],
          [
           0.001075268817204301,
           1,
           0,
           0,
           0.05483870967741935,
           0,
           0.6107526881720429,
           0,
           0,
           0.04946236559139785,
           0.004301075268817204,
           0,
           0.001075268817204301,
           0.005376344086021505,
           0.14193548387096774,
           0.24731182795698925,
           0.7311827956989247
          ],
          [
           0,
           0,
           0,
           0,
           0,
           0,
           0,
           0,
           0,
           0,
           0,
           0,
           0,
           0,
           0,
           0,
           0
          ],
          [
           0.14627659574468085,
           0,
           0.547112462006079,
           0.756079027355623,
           0.9783434650455927,
           0.2944528875379939,
           0,
           0.7313829787234042,
           0,
           1,
           0,
           0.5509118541033434,
           0.5057940729483282,
           0.1424772036474164,
           0,
           0.6580547112462005,
           0
          ],
          [
           0,
           0,
           0,
           0,
           0,
           0,
           0,
           0,
           0,
           0,
           0,
           0,
           0,
           0,
           0,
           0,
           0
          ],
          [
           0,
           0.3131462333825702,
           0.7370753323485968,
           0.880354505169867,
           0.7223042836041359,
           0.7223042836041359,
           0.8700147710487445,
           0.4091580502215657,
           0.29394387001477107,
           0.4859675036927622,
           0.7710487444608568,
           1,
           0.11225997045790251,
           0.2791728212703102,
           0.11964549483013295,
           0.7459379615952733,
           0.5745937961595273
          ],
          [
           0.033858267716535426,
           0,
           0.08661417322834646,
           0.6220472440944882,
           0.19685039370078738,
           0.41732283464566927,
           0.07874015748031496,
           0.5196850393700787,
           0.06062992125984251,
           0.3464566929133858,
           0.3385826771653543,
           0.9999999999999999,
           0.06692913385826772,
           0.15748031496062992,
           0.03070866141732283,
           0.07244094488188976,
           0.15748031496062992
          ],
          [
           0.03448275862068966,
           0,
           0.07172413793103448,
           0.48620689655172417,
           0.4103448275862069,
           0,
           0.15517241379310345,
           0,
           0.5517241379310346,
           1,
           0,
           0,
           0.1724137931034483,
           0.10344827586206896,
           0.1206896551724138,
           0.20689655172413793,
           0.10689655172413794
          ],
          [
           0.08116883116883117,
           0,
           0.16233766233766234,
           0.17857142857142855,
           0.29220779220779214,
           0.18506493506493504,
           0.06168831168831168,
           0.9999999999999999,
           0.40584415584415584,
           0.551948051948052,
           0.2662337662337662,
           0.9090909090909091,
           0.016233766233766232,
           0.06493506493506493,
           0.06493506493506493,
           0.16233766233766234,
           0.08116883116883117
          ],
          [
           0,
           0.18224869403895916,
           0.3938387931455354,
           0.44036518088170684,
           0.22374652150563884,
           0.3282234047746913,
           0.3271005223844164,
           0.2231118488502661,
           0.13503881267392473,
           1.0000000000000002,
           0.4276717277742519,
           0.5288776058194601,
           0.13098667187423718,
           0.17575550456476105,
           0.016599130986671876,
           0.5022213542938047,
           0.2546990186984329
          ],
          [
           0.1851851851851852,
           0,
           0,
           0.7777777777777779,
           0,
           0,
           0.11111111111111112,
           0,
           0.07407407407407408,
           0.925925925925926,
           0,
           0,
           1,
           0.5185185185185185,
           0,
           0,
           0.11111111111111112
          ],
          [
           0.9999999999999999,
           0,
           0,
           0,
           0,
           0,
           0,
           0,
           0,
           0,
           0,
           0,
           0,
           0,
           0,
           0,
           0
          ],
          [
           0.5421940928270041,
           0.19198312236286924,
           0.3333333333333333,
           0.32911392405063294,
           0.33755274261603374,
           0.35232067510548526,
           0.2805907172995781,
           0.36497890295358654,
           0.459915611814346,
           0.17510548523206754,
           0.3312236286919832,
           0.3248945147679325,
           0.7151898734177214,
           0,
           0.18776371308016881,
           0.33544303797468356,
           0.9999999999999999
          ],
          [
           1,
           0,
           0,
           0,
           0,
           0,
           0,
           0,
           0.1543427822051851,
           0,
           0,
           0,
           0.013921113689095129,
           0.3353172601634217,
           0.0015131645314233834,
           0.015131645314233833,
           0
          ],
          [
           0,
           0.9821428571428572,
           0,
           0,
           0,
           0,
           0.7142857142857143,
           0,
           0.9857142857142858,
           0,
           0,
           0,
           0,
           0,
           0.09999999999999999,
           0,
           1
          ],
          [
           0.006906077348066299,
           0,
           0.09944751381215469,
           0.3860497237569061,
           0.1464088397790055,
           0,
           0,
           0,
           0,
           1,
           0,
           0,
           0.2451657458563536,
           0.04143646408839779,
           0,
           0.11947513812154696,
           0
          ],
          [
           1,
           0,
           0,
           0,
           0,
           0,
           0,
           0,
           0.5907335907335908,
           0,
           0,
           0,
           0.026640926640926644,
           0.5590733590733591,
           0.0023166023166023165,
           0.031660231660231665,
           0
          ],
          [
           0,
           1,
           0,
           0,
           0,
           0,
           0.7042093287827076,
           0,
           0,
           0,
           0,
           0,
           0,
           0,
           0.17178612059158133,
           0,
           0.844141069397042
          ],
          [
           0,
           0.5885558583106267,
           0.5708446866485014,
           0.4884196185286104,
           0.43732970027247964,
           0.4584468664850137,
           1,
           0.28882833787465945,
           0.3147138964577657,
           0.8208446866485015,
           0.3978201634877384,
           0.473433242506812,
           0.20844686648501365,
           0.28882833787465945,
           0.10354223433242507,
           0.8705722070844688,
           0.6294277929155314
          ],
          [
           0,
           0.10829322880113207,
           0.14505837350715836,
           0.14505837350715836,
           1,
           1,
           0.6469934023288584,
           1,
           0.14262838755489007,
           0.08865190316377322,
           0.06739350978887557,
           0.14505837350715836,
           0.023504997254091692,
           0.47109087227807117,
           0.06717089084314576,
           0.14505837350715836,
           0.43451599306827643
          ],
          [
           0.20809164733178656,
           0.011745939675174016,
           0.10585846867749421,
           0.14791183294663574,
           0.16748839907192578,
           0.3216357308584687,
           0,
           0.08657192575406032,
           0.022186774941995363,
           0.10846867749419956,
           0.11180394431554525,
           0.50377030162413,
           1,
           0.15081206496519722,
           0.0681554524361949,
           0.03973317865429235,
           1.4501160092807426e-05
          ],
          [
           0.014167265130247436,
           0.010902918326042958,
           0.22961415420774303,
           0.2896781354051054,
           0.08924724162695045,
           0.11470914669974538,
           0.0011098779134295226,
           0.08728863354442776,
           0,
           1,
           0.16171574068028988,
           0.32101586472546845,
           0.07945420121433702,
           0.09251158843115492,
           0.00045700855258862683,
           0.10687471436965464,
           0.07292550760592806
          ],
          [
           0.013172043010752687,
           0.021370967741935483,
           0.33521505376344085,
           0.006720430107526881,
           0.13978494623655913,
           0.00868279569892473,
           0.014784946236559139,
           0.596774193548387,
           0.052688172043010746,
           0.2695430107526881,
           0,
           1,
           0.02150537634408602,
           0.008064516129032256,
           0.0018817204301075268,
           0.1075268817204301,
           0.01075268817204301
          ],
          [
           0,
           0.461847389558233,
           0.8192771084337351,
           1.0000000000000002,
           0.47791164658634544,
           0.4437751004016064,
           0.9604417670682731,
           0.4337349397590362,
           0.1244979919678715,
           0.38152610441767076,
           0.6024096385542169,
           0.5943775100401607,
           0.030120481927710843,
           0.13654618473895586,
           0.08433734939759037,
           0.21686746987951805,
           0.7761044176706827
          ],
          [
           0,
           0,
           0,
           0,
           0,
           0,
           0,
           0,
           0,
           0,
           0,
           0,
           0,
           0,
           0,
           0,
           0
          ],
          [
           0.358974358974359,
           0,
           0.6440071556350626,
           1,
           0.9493142516398331,
           0,
           0,
           0,
           0,
           0.9558735837805605,
           0,
           0,
           0.7620751341681574,
           0.6618962432915921,
           0,
           0.774597495527728,
           0
          ],
          [
           0,
           0.5649100257069409,
           0.5661953727506427,
           0.7994858611825193,
           0.6780205655526993,
           0.6253213367609255,
           0.9402313624678663,
           0.4505141388174807,
           0.40102827763496146,
           1,
           0.7043701799485862,
           0.8213367609254498,
           0.3007712082262211,
           0.35539845758354754,
           0.08868894601542417,
           0.9787917737789203,
           0.590616966580977
          ],
          [
           0.14906832298136644,
           0,
           0.44720496894409933,
           1,
           0.09627329192546583,
           0,
           0,
           0,
           0,
           0.3757763975155279,
           0,
           0,
           0.5512422360248447,
           0.4658385093167702,
           0,
           0.537888198757764,
           0
          ],
          [
           0,
           1,
           0.02674897119341564,
           0.005486968449931413,
           0.026063100137174215,
           0.010288065843621401,
           0.7530864197530865,
           0.017146776406035666,
           0.12208504801097393,
           0.0034293552812071334,
           0.009602194787379973,
           0.03155006858710563,
           0.05829903978052126,
           0.010973936899862825,
           0.06858710562414266,
           0.05349794238683128,
           0.8216735253772292
          ],
          [
           0.018913480885311872,
           0.008048289738430584,
           0.9195171026156941,
           1.0000000000000002,
           0.7283702213279678,
           0.6388329979879276,
           0.03420523138832999,
           0.3390342052313884,
           0.17806841046277666,
           0.17635814889336016,
           0.6730382293762576,
           0.5694164989939637,
           0.09456740442655936,
           0.30583501006036223,
           0,
           0.48611670020120734,
           0.02414486921529175
          ],
          [
           0,
           0.3315508021390374,
           0.3850267379679144,
           0.5989304812834225,
           0.6524064171122995,
           0.5454545454545455,
           0.518716577540107,
           0.4117647058823529,
           0.4652406417112299,
           1,
           0.572192513368984,
           0.7326203208556151,
           0.3315508021390374,
           0.06417112299465241,
           0.06417112299465241,
           0.4117647058823529,
           0.5454545454545455
          ],
          [
           0,
           0,
           0,
           0,
           0,
           0,
           0,
           0,
           0,
           0,
           0,
           0,
           0,
           0,
           1,
           0,
           0
          ],
          [
           0,
           0.12950756107018221,
           0.5443970531213648,
           0.9999999999999999,
           0.42678040584205756,
           0.6607212097712292,
           0.5767093188574383,
           0.2639265865322476,
           0.18766963939511436,
           0.3607341346775236,
           0.5340571280858213,
           0.7395631381672482,
           0.4216104433242858,
           0.03127827323251907,
           0.046788160785834296,
           0.7899702727155228,
           0.3828357244409978
          ],
          [
           0.6964856230031948,
           0.13258785942492002,
           0.4504792332268369,
           0.4504792332268369,
           0.840255591054313,
           0.840255591054313,
           0,
           0.840255591054313,
           0.44408945686900947,
           0.6006389776357827,
           0.5479233226837059,
           0.4504792332268369,
           0.36421725239616604,
           0.9999999999999999,
           0.5383386581469648,
           0.4504792332268369,
           0.21725239616613407
          ],
          [
           0,
           0.7948633338832976,
           0.2169059011164274,
           0.2169059011164274,
           0.3532420392674476,
           0.3532420392674476,
           1,
           0.3532420392674476,
           0.2494637848539845,
           0.15157014794038387,
           0.14656547324423913,
           0.2169059011164274,
           0.19050761700489466,
           0.22812517186382883,
           0.15250508716933397,
           0.2169059011164274,
           0.695154814937029
          ],
          [
           0,
           0.815819209039548,
           0.111864406779661,
           0.111864406779661,
           0.20564971751412428,
           0.20564971751412428,
           1,
           0.20564971751412428,
           0.13898305084745763,
           0.1231638418079096,
           0.08248587570621468,
           0.111864406779661,
           0.05423728813559322,
           0.376271186440678,
           0.15706214689265535,
           0.111864406779661,
           0.6926553672316383
          ],
          [
           0.013157894736842108,
           0.6447368421052632,
           0.03947368421052633,
           0.03947368421052633,
           0.3026315789473685,
           0.3026315789473685,
           0.9999999999999999,
           0.3026315789473685,
           0.32894736842105265,
           0.03947368421052633,
           0.03947368421052633,
           0.03947368421052633,
           0.11842105263157897,
           0,
           0.18421052631578946,
           0.03947368421052633,
           0.7763157894736842
          ],
          [
           0,
           0.3941247451420962,
           0.33162734573295044,
           0.33162734573295044,
           0.005326010069487786,
           0.005326010069487786,
           0.295011026505222,
           0.005326010069487786,
           0.16427412308076395,
           0.19997503432779928,
           0.29700828028127985,
           0.33162734573295044,
           0.9999999999999999,
           0.19323430283360377,
           0.04277451837057379,
           0.33162734573295044,
           0.20076561394748887
          ],
          [
           0.013873760804862058,
           0.5065625152128772,
           0.06131954473181781,
           0.06131954473181781,
           0.3582681932545348,
           0.3582681932545348,
           1,
           0.3582681932545348,
           0.23511239956334035,
           0.05039632495954472,
           0.06365799702945635,
           0.06131954473181781,
           0.10706534215601882,
           0,
           0.17760406427720538,
           0.06131954473181781,
           0.7653773612714139
          ],
          [
           0.0003226064747297655,
           0.9461757387373803,
           0.031163297272845517,
           0.031163297272845517,
           0.13881181979808488,
           0.13881181979808488,
           1,
           0.13881181979808488,
           0.3541088648485636,
           0.13881181979808488,
           0.24646034232332426,
           0.031163297272845517,
           0.031163297272845517,
           0,
           0.13881181979808488,
           0.031163297272845517,
           0.6770544324242816
          ],
          [
           0.06237687711290235,
           0.9999999999999999,
           0.5295069778424236,
           0.5295069778424236,
           0.9999999999999999,
           0.9999999999999999,
           0.9999999999999999,
           0.9999999999999999,
           0.5058870425900095,
           0.42552906710282734,
           0.5530268932633193,
           0.5295069778424236,
           0.11792338136009722,
           0.3105533524219988,
           0,
           0.5295069778424236,
           0.8606994357634569
          ],
          [
           0,
           0.9518072289156626,
           0.07228915662650601,
           0.07228915662650601,
           0.15662650602409633,
           0.15662650602409633,
           0.9999999999999999,
           0.15662650602409633,
           0.3614457831325301,
           0.14457831325301201,
           0.25301204819277107,
           0.07228915662650601,
           0.04819277108433735,
           0,
           0.18072289156626506,
           0.07228915662650601,
           0.6867469879518071
          ],
          [
           0,
           1,
           0.10121515622610208,
           0.10121515622610208,
           0.50340169558729,
           0.50340169558729,
           0.7623515702259143,
           0.50340169558729,
           0.1784244480776099,
           0.22255795159057812,
           0.5466247982690446,
           0.10121515622610208,
           0.06472829422563076,
           0.041311362756514675,
           0.06914604830525972,
           0.10121515622610208,
           0.6145507380629596
          ],
          [
           0,
           0.6340757609251843,
           1.0000000000000002,
           1.0000000000000002,
           0.2681515218503683,
           0.2681515218503683,
           0.6340757609251843,
           0.2681515218503683,
           0.2681515218503683,
           0.2681515218503683,
           0.6340757609251843,
           1.0000000000000002,
           0.2681515218503683,
           0.20787556637936688,
           0.05779542457991861,
           1.0000000000000002,
           0.2681515218503683
          ],
          [
           0.049001183267209585,
           0.18994918911394168,
           0.05909375652537064,
           0.05909375652537064,
           1,
           1,
           0.1907844365559964,
           1,
           0.043224055126331186,
           0.019628314888285654,
           0.048165935825154875,
           0.05909375652537064,
           0.04364167884735854,
           0.06431405303821255,
           0,
           0.05909375652537064,
           0.12486949258717897
          ],
          [
           0.1769801695707649,
           0.006279760296553214,
           0.07334063536856496,
           0.07334063536856496,
           0.9999999999999999,
           0.9999999999999999,
           0.0002771604568210654,
           0.9999999999999999,
           0.012376203484917917,
           0.1830766127591296,
           0.03676197623837673,
           0.07334063536856496,
           0.0017841966345559857,
           0,
           0.000164340585108646,
           0.07334063536856496,
           0.0004572439566744779
          ],
          [
           0.025284536597877078,
           1,
           0.20442760037547636,
           0.20442760037547636,
           0.6176893608815738,
           0.6176893608815738,
           0.884074065876743,
           0.6176893608815738,
           0.40022171128739237,
           0.18509724469858096,
           0.17328476993249786,
           0.20442760037547636,
           0.19744615040550023,
           0,
           0.08580551581055429,
           0.20442760037547636,
           0.6458256392941866
          ],
          [
           0.08509043815576013,
           1.0000000000000002,
           0.2857367558190544,
           0.2857367558190544,
           0.802709697663115,
           0.802709697663115,
           0.9046096626307872,
           0.802709697663115,
           0.39220705404094625,
           0.45986321997825247,
           0.5246869144685119,
           0.2857367558190544,
           0.23895983035625484,
           0,
           0.11884429328470307,
           0.2857367558190544,
           0.63125185485934
          ],
          [
           0.012070483576142646,
           0.06775021010848116,
           0.03209919474114451,
           0.03209919474114451,
           1,
           1,
           0.02419190501381019,
           1,
           0.03223136874011734,
           0.012510671201633827,
           0.06044744555005534,
           0.03209919474114451,
           0.017475942455928227,
           0,
           0.013363045550080268,
           0.03209919474114451,
           0.02040173454057846
          ],
          [
           0,
           0.95285929804162,
           0.09921156803606306,
           0.09921156803606306,
           0.5039379684932715,
           0.5039379684932715,
           1,
           0.5039379684932715,
           0.34898891934379106,
           0.16843482428438378,
           0.24135701535211457,
           0.09921156803606306,
           0.06605456496919189,
           0.13489229874507963,
           0.1264647637982657,
           0.09921156803606306,
           0.6778479962075638
          ],
          [
           0,
           0.2,
           0,
           0,
           0,
           0,
           0.7,
           0,
           0.95,
           0,
           0,
           0,
           0,
           0,
           0.2,
           0,
           1
          ],
          [
           0.08854625550660793,
           0,
           0.31718061674008813,
           0.49251101321585905,
           0.46740088105726874,
           0.13656387665198239,
           0,
           0.3392070484581498,
           0,
           0.5170925110132158,
           1,
           0.2555066079295154,
           0.31277533039647576,
           0.13215859030837004,
           0,
           0.3814977973568282,
           0
          ],
          [
           0,
           0,
           0,
           0,
           0,
           0,
           0,
           0,
           0,
           0,
           0,
           0,
           0,
           0,
           0,
           0,
           0
          ],
          [
           0,
           0,
           0,
           0,
           0,
           0,
           0,
           0,
           0,
           0,
           0,
           0,
           0,
           0,
           0,
           0,
           0
          ],
          [
           0,
           0,
           0,
           0,
           0,
           0,
           0,
           0,
           0,
           0,
           0,
           0,
           0,
           0,
           0,
           0,
           0
          ]
         ]
        }
       ],
       "layout": {
        "coloraxis": {
         "colorscale": [
          [
           0,
           "rgb(0, 1, 0)"
          ],
          [
           0.1,
           "rgb(11, 25, 39)"
          ],
          [
           0.2,
           "rgb(17, 48, 77)"
          ],
          [
           0.3,
           "rgb(27, 73, 117)"
          ],
          [
           0.4,
           "rgb(46, 98, 160)"
          ],
          [
           0.5,
           "rgb(78, 125, 199)"
          ],
          [
           0.6,
           "rgb(111, 146, 202)"
          ],
          [
           0.7,
           "rgb(144, 166, 201)"
          ],
          [
           0.8,
           "rgb(176, 185, 200)"
          ],
          [
           0.9,
           "rgb(215, 215, 216)"
          ],
          [
           1,
           "rgb(255, 255, 255)"
          ]
         ],
         "showscale": false
        },
        "height": 2500,
        "margin": {
         "t": 200
        },
        "template": {
         "data": {
          "bar": [
           {
            "error_x": {
             "color": "#2a3f5f"
            },
            "error_y": {
             "color": "#2a3f5f"
            },
            "marker": {
             "line": {
              "color": "#E5ECF6",
              "width": 0.5
             },
             "pattern": {
              "fillmode": "overlay",
              "size": 10,
              "solidity": 0.2
             }
            },
            "type": "bar"
           }
          ],
          "barpolar": [
           {
            "marker": {
             "line": {
              "color": "#E5ECF6",
              "width": 0.5
             },
             "pattern": {
              "fillmode": "overlay",
              "size": 10,
              "solidity": 0.2
             }
            },
            "type": "barpolar"
           }
          ],
          "carpet": [
           {
            "aaxis": {
             "endlinecolor": "#2a3f5f",
             "gridcolor": "white",
             "linecolor": "white",
             "minorgridcolor": "white",
             "startlinecolor": "#2a3f5f"
            },
            "baxis": {
             "endlinecolor": "#2a3f5f",
             "gridcolor": "white",
             "linecolor": "white",
             "minorgridcolor": "white",
             "startlinecolor": "#2a3f5f"
            },
            "type": "carpet"
           }
          ],
          "choropleth": [
           {
            "colorbar": {
             "outlinewidth": 0,
             "ticks": ""
            },
            "type": "choropleth"
           }
          ],
          "contour": [
           {
            "colorbar": {
             "outlinewidth": 0,
             "ticks": ""
            },
            "colorscale": [
             [
              0,
              "#0d0887"
             ],
             [
              0.1111111111111111,
              "#46039f"
             ],
             [
              0.2222222222222222,
              "#7201a8"
             ],
             [
              0.3333333333333333,
              "#9c179e"
             ],
             [
              0.4444444444444444,
              "#bd3786"
             ],
             [
              0.5555555555555556,
              "#d8576b"
             ],
             [
              0.6666666666666666,
              "#ed7953"
             ],
             [
              0.7777777777777778,
              "#fb9f3a"
             ],
             [
              0.8888888888888888,
              "#fdca26"
             ],
             [
              1,
              "#f0f921"
             ]
            ],
            "type": "contour"
           }
          ],
          "contourcarpet": [
           {
            "colorbar": {
             "outlinewidth": 0,
             "ticks": ""
            },
            "type": "contourcarpet"
           }
          ],
          "heatmap": [
           {
            "colorbar": {
             "outlinewidth": 0,
             "ticks": ""
            },
            "colorscale": [
             [
              0,
              "#0d0887"
             ],
             [
              0.1111111111111111,
              "#46039f"
             ],
             [
              0.2222222222222222,
              "#7201a8"
             ],
             [
              0.3333333333333333,
              "#9c179e"
             ],
             [
              0.4444444444444444,
              "#bd3786"
             ],
             [
              0.5555555555555556,
              "#d8576b"
             ],
             [
              0.6666666666666666,
              "#ed7953"
             ],
             [
              0.7777777777777778,
              "#fb9f3a"
             ],
             [
              0.8888888888888888,
              "#fdca26"
             ],
             [
              1,
              "#f0f921"
             ]
            ],
            "type": "heatmap"
           }
          ],
          "heatmapgl": [
           {
            "colorbar": {
             "outlinewidth": 0,
             "ticks": ""
            },
            "colorscale": [
             [
              0,
              "#0d0887"
             ],
             [
              0.1111111111111111,
              "#46039f"
             ],
             [
              0.2222222222222222,
              "#7201a8"
             ],
             [
              0.3333333333333333,
              "#9c179e"
             ],
             [
              0.4444444444444444,
              "#bd3786"
             ],
             [
              0.5555555555555556,
              "#d8576b"
             ],
             [
              0.6666666666666666,
              "#ed7953"
             ],
             [
              0.7777777777777778,
              "#fb9f3a"
             ],
             [
              0.8888888888888888,
              "#fdca26"
             ],
             [
              1,
              "#f0f921"
             ]
            ],
            "type": "heatmapgl"
           }
          ],
          "histogram": [
           {
            "marker": {
             "pattern": {
              "fillmode": "overlay",
              "size": 10,
              "solidity": 0.2
             }
            },
            "type": "histogram"
           }
          ],
          "histogram2d": [
           {
            "colorbar": {
             "outlinewidth": 0,
             "ticks": ""
            },
            "colorscale": [
             [
              0,
              "#0d0887"
             ],
             [
              0.1111111111111111,
              "#46039f"
             ],
             [
              0.2222222222222222,
              "#7201a8"
             ],
             [
              0.3333333333333333,
              "#9c179e"
             ],
             [
              0.4444444444444444,
              "#bd3786"
             ],
             [
              0.5555555555555556,
              "#d8576b"
             ],
             [
              0.6666666666666666,
              "#ed7953"
             ],
             [
              0.7777777777777778,
              "#fb9f3a"
             ],
             [
              0.8888888888888888,
              "#fdca26"
             ],
             [
              1,
              "#f0f921"
             ]
            ],
            "type": "histogram2d"
           }
          ],
          "histogram2dcontour": [
           {
            "colorbar": {
             "outlinewidth": 0,
             "ticks": ""
            },
            "colorscale": [
             [
              0,
              "#0d0887"
             ],
             [
              0.1111111111111111,
              "#46039f"
             ],
             [
              0.2222222222222222,
              "#7201a8"
             ],
             [
              0.3333333333333333,
              "#9c179e"
             ],
             [
              0.4444444444444444,
              "#bd3786"
             ],
             [
              0.5555555555555556,
              "#d8576b"
             ],
             [
              0.6666666666666666,
              "#ed7953"
             ],
             [
              0.7777777777777778,
              "#fb9f3a"
             ],
             [
              0.8888888888888888,
              "#fdca26"
             ],
             [
              1,
              "#f0f921"
             ]
            ],
            "type": "histogram2dcontour"
           }
          ],
          "mesh3d": [
           {
            "colorbar": {
             "outlinewidth": 0,
             "ticks": ""
            },
            "type": "mesh3d"
           }
          ],
          "parcoords": [
           {
            "line": {
             "colorbar": {
              "outlinewidth": 0,
              "ticks": ""
             }
            },
            "type": "parcoords"
           }
          ],
          "pie": [
           {
            "automargin": true,
            "type": "pie"
           }
          ],
          "scatter": [
           {
            "fillpattern": {
             "fillmode": "overlay",
             "size": 10,
             "solidity": 0.2
            },
            "type": "scatter"
           }
          ],
          "scatter3d": [
           {
            "line": {
             "colorbar": {
              "outlinewidth": 0,
              "ticks": ""
             }
            },
            "marker": {
             "colorbar": {
              "outlinewidth": 0,
              "ticks": ""
             }
            },
            "type": "scatter3d"
           }
          ],
          "scattercarpet": [
           {
            "marker": {
             "colorbar": {
              "outlinewidth": 0,
              "ticks": ""
             }
            },
            "type": "scattercarpet"
           }
          ],
          "scattergeo": [
           {
            "marker": {
             "colorbar": {
              "outlinewidth": 0,
              "ticks": ""
             }
            },
            "type": "scattergeo"
           }
          ],
          "scattergl": [
           {
            "marker": {
             "colorbar": {
              "outlinewidth": 0,
              "ticks": ""
             }
            },
            "type": "scattergl"
           }
          ],
          "scattermapbox": [
           {
            "marker": {
             "colorbar": {
              "outlinewidth": 0,
              "ticks": ""
             }
            },
            "type": "scattermapbox"
           }
          ],
          "scatterpolar": [
           {
            "marker": {
             "colorbar": {
              "outlinewidth": 0,
              "ticks": ""
             }
            },
            "type": "scatterpolar"
           }
          ],
          "scatterpolargl": [
           {
            "marker": {
             "colorbar": {
              "outlinewidth": 0,
              "ticks": ""
             }
            },
            "type": "scatterpolargl"
           }
          ],
          "scatterternary": [
           {
            "marker": {
             "colorbar": {
              "outlinewidth": 0,
              "ticks": ""
             }
            },
            "type": "scatterternary"
           }
          ],
          "surface": [
           {
            "colorbar": {
             "outlinewidth": 0,
             "ticks": ""
            },
            "colorscale": [
             [
              0,
              "#0d0887"
             ],
             [
              0.1111111111111111,
              "#46039f"
             ],
             [
              0.2222222222222222,
              "#7201a8"
             ],
             [
              0.3333333333333333,
              "#9c179e"
             ],
             [
              0.4444444444444444,
              "#bd3786"
             ],
             [
              0.5555555555555556,
              "#d8576b"
             ],
             [
              0.6666666666666666,
              "#ed7953"
             ],
             [
              0.7777777777777778,
              "#fb9f3a"
             ],
             [
              0.8888888888888888,
              "#fdca26"
             ],
             [
              1,
              "#f0f921"
             ]
            ],
            "type": "surface"
           }
          ],
          "table": [
           {
            "cells": {
             "fill": {
              "color": "#EBF0F8"
             },
             "line": {
              "color": "white"
             }
            },
            "header": {
             "fill": {
              "color": "#C8D4E3"
             },
             "line": {
              "color": "white"
             }
            },
            "type": "table"
           }
          ]
         },
         "layout": {
          "annotationdefaults": {
           "arrowcolor": "#2a3f5f",
           "arrowhead": 0,
           "arrowwidth": 1
          },
          "autotypenumbers": "strict",
          "coloraxis": {
           "colorbar": {
            "outlinewidth": 0,
            "ticks": ""
           }
          },
          "colorscale": {
           "diverging": [
            [
             0,
             "#8e0152"
            ],
            [
             0.1,
             "#c51b7d"
            ],
            [
             0.2,
             "#de77ae"
            ],
            [
             0.3,
             "#f1b6da"
            ],
            [
             0.4,
             "#fde0ef"
            ],
            [
             0.5,
             "#f7f7f7"
            ],
            [
             0.6,
             "#e6f5d0"
            ],
            [
             0.7,
             "#b8e186"
            ],
            [
             0.8,
             "#7fbc41"
            ],
            [
             0.9,
             "#4d9221"
            ],
            [
             1,
             "#276419"
            ]
           ],
           "sequential": [
            [
             0,
             "#0d0887"
            ],
            [
             0.1111111111111111,
             "#46039f"
            ],
            [
             0.2222222222222222,
             "#7201a8"
            ],
            [
             0.3333333333333333,
             "#9c179e"
            ],
            [
             0.4444444444444444,
             "#bd3786"
            ],
            [
             0.5555555555555556,
             "#d8576b"
            ],
            [
             0.6666666666666666,
             "#ed7953"
            ],
            [
             0.7777777777777778,
             "#fb9f3a"
            ],
            [
             0.8888888888888888,
             "#fdca26"
            ],
            [
             1,
             "#f0f921"
            ]
           ],
           "sequentialminus": [
            [
             0,
             "#0d0887"
            ],
            [
             0.1111111111111111,
             "#46039f"
            ],
            [
             0.2222222222222222,
             "#7201a8"
            ],
            [
             0.3333333333333333,
             "#9c179e"
            ],
            [
             0.4444444444444444,
             "#bd3786"
            ],
            [
             0.5555555555555556,
             "#d8576b"
            ],
            [
             0.6666666666666666,
             "#ed7953"
            ],
            [
             0.7777777777777778,
             "#fb9f3a"
            ],
            [
             0.8888888888888888,
             "#fdca26"
            ],
            [
             1,
             "#f0f921"
            ]
           ]
          },
          "colorway": [
           "#636efa",
           "#EF553B",
           "#00cc96",
           "#ab63fa",
           "#FFA15A",
           "#19d3f3",
           "#FF6692",
           "#B6E880",
           "#FF97FF",
           "#FECB52"
          ],
          "font": {
           "color": "#2a3f5f"
          },
          "geo": {
           "bgcolor": "white",
           "lakecolor": "white",
           "landcolor": "#E5ECF6",
           "showlakes": true,
           "showland": true,
           "subunitcolor": "white"
          },
          "hoverlabel": {
           "align": "left"
          },
          "hovermode": "closest",
          "mapbox": {
           "style": "light"
          },
          "paper_bgcolor": "white",
          "plot_bgcolor": "#E5ECF6",
          "polar": {
           "angularaxis": {
            "gridcolor": "white",
            "linecolor": "white",
            "ticks": ""
           },
           "bgcolor": "#E5ECF6",
           "radialaxis": {
            "gridcolor": "white",
            "linecolor": "white",
            "ticks": ""
           }
          },
          "scene": {
           "xaxis": {
            "backgroundcolor": "#E5ECF6",
            "gridcolor": "white",
            "gridwidth": 2,
            "linecolor": "white",
            "showbackground": true,
            "ticks": "",
            "zerolinecolor": "white"
           },
           "yaxis": {
            "backgroundcolor": "#E5ECF6",
            "gridcolor": "white",
            "gridwidth": 2,
            "linecolor": "white",
            "showbackground": true,
            "ticks": "",
            "zerolinecolor": "white"
           },
           "zaxis": {
            "backgroundcolor": "#E5ECF6",
            "gridcolor": "white",
            "gridwidth": 2,
            "linecolor": "white",
            "showbackground": true,
            "ticks": "",
            "zerolinecolor": "white"
           }
          },
          "shapedefaults": {
           "line": {
            "color": "#2a3f5f"
           }
          },
          "ternary": {
           "aaxis": {
            "gridcolor": "white",
            "linecolor": "white",
            "ticks": ""
           },
           "baxis": {
            "gridcolor": "white",
            "linecolor": "white",
            "ticks": ""
           },
           "bgcolor": "#E5ECF6",
           "caxis": {
            "gridcolor": "white",
            "linecolor": "white",
            "ticks": ""
           }
          },
          "title": {
           "x": 0.05
          },
          "xaxis": {
           "automargin": true,
           "gridcolor": "white",
           "linecolor": "white",
           "ticks": "",
           "title": {
            "standoff": 15
           },
           "zerolinecolor": "white",
           "zerolinewidth": 2
          },
          "yaxis": {
           "automargin": true,
           "gridcolor": "white",
           "linecolor": "white",
           "ticks": "",
           "title": {
            "standoff": 15
           },
           "zerolinecolor": "white",
           "zerolinewidth": 2
          }
         }
        },
        "title": {
         "text": "Comparison of the chosen parameters for the chosen food products (per 100g product). <br> Dark color signifies low values in comparison with the other chosen products, <br> bright colors signify high values.",
         "y": 0.99
        },
        "width": 1000,
        "xaxis": {
         "anchor": "y",
         "domain": [
          0,
          1
         ],
         "side": "top",
         "title": {
          "text": " "
         }
        },
        "yaxis": {
         "anchor": "x",
         "autorange": "reversed",
         "domain": [
          0,
          1
         ]
        }
       }
      },
      "text/html": [
       "<div>                            <div id=\"c0e6b248-4542-4b41-a1a8-a70bd22fb026\" class=\"plotly-graph-div\" style=\"height:2500px; width:1000px;\"></div>            <script type=\"text/javascript\">                require([\"plotly\"], function(Plotly) {                    window.PLOTLYENV=window.PLOTLYENV || {};                                    if (document.getElementById(\"c0e6b248-4542-4b41-a1a8-a70bd22fb026\")) {                    Plotly.newPlot(                        \"c0e6b248-4542-4b41-a1a8-a70bd22fb026\",                        [{\"coloraxis\":\"coloraxis\",\"name\":\"0\",\"x\":[\"Apple\",\"Feta\",\"Pine nut\",\"Sesame\",\"Pistachio\",\"Cashew nut\",\"Hard cheese\",\"Hazel nut\",\"Chicken\",\"Peanut\",\"Linseed\",\"Sunflower seed\",\"Durum wheat\",\"Soybeans\",\"Cow's milk\",\"Pumpkin seed\",\"Soft cheese\"],\"y\":[\"Alanin_mg/100g\",\"Alkohol (Ethanol)_mg/100g\",\"Arginin_mg/100g\",\"Asparagic acid_mg/100g\",\"Butteric acid/butyric acid_mg/100g\",\"Calcium_mg/100g\",\"Cholesterin_mg/100g\",\"Cystein_mg/100g\",\"DOCOSATRIENACE_MG/100G\",\"Decanic acid/capric acid_mg/100g\",\"Decosanic acid/beetic acid_mg/100g\",\"Decosis acid/erucasic acid_mg/100g\",\"Disaccharide (2M)_mg/100g\",\"Docosadi acid_mg/100g\",\"Docosahexaens\\u00e4ure_mg/100g\",\"Docosatetraens\\u00e4ure_mg/100g\",\"Dodecanic acid/lauric acid_mg/100g\",\"EICOSADIACHERION_MG/100G\",\"EICOSATETREENONE/ARACHIDONOCES_MG/100G\",\"EICOSATRIENOCE_MG/100G\",\"Eicosanic acid/arachic acid_mg/100g\",\"Eicosapentaens\\u00e4ure_mg/100g\",\"Eicosenic acid_mg/100g\",\"Energy (kilocalories) _Kcal/100g\",\"Energy (kilojoule) _kJ/100g\",\"Essential _mg/100g\",\"Eutrophying emissions per 100g (gPO\\u2084eq per 100g}\",\"Fat_g/100g\",\"Fluorid_\\u03bcg/100g\",\"Freshwater withdrawals per 100g (liters per 100g)\",\"Fructose (fructose) _MG/100G\",\"Glucose (glucose) _mg/100g\",\"Glutamic acid_mg/100g\",\"Glycerin and lipoid_mg/100g\",\"Glycin_mg/100g\",\"Glycogen (animal strength) _mg/100g\",\"Heptadecanic acid_mg/100g\",\"Heptadecenic acid_mg/100g\",\"Hexadecadios_mg/100g\",\"Hexadecan acid/palmitic acid_mg/100g\",\"Hexadecatetraens\\u00e4ure_mg/100g\",\"Hexadecensic acid/palmitoleic acid_mg/100g\",\"Hexanic acid/capronic acid_mg/100g\",\"Histidin_mg/100g\",\"Iodid_\\u03bcg/100g\",\"Isoleucin_mg/100g\",\"KUPFER_MG/100G\",\"Kalium_mg/100g\",\"Lactose (milk sugar) _mg/100g\",\"Land use per 100g (m\\u00b2 per 100g)\",\"Leucin_mg/100g\",\"Lignin_mg/100g\",\"Long -chain fatty acids_mg/100g\",\"Lysin_mg/100g\",\"Maltose (Malzzucker)_mg/100g\",\"Mangan_\\u03bcg/100g\",\"Mannit_mg/100g\",\"Medium -chain fatty acids_mg/100g\",\"Methionin_mg/100g\",\"Minerals (raw ash) _mg/100g\",\"Monosaccharide (1M)_mg/100g\",\"Non -essential amino acids_mg/100g\",\"Nonadecatrio acid_mg/100g\",\"Octadecanic acid/stearic acid_mg/100g\",\"Octadecenic acid/oleic acid_mg/100g\",\"Octadecriosic acid/linolenic acid_mg/100g\",\"Octadiic acid/linoleic acid_mg/100g\",\"Octanic acid/caprylic acid_mg/100g\",\"OctradeCateTrade acid/stearidonic acid_mg/100g\",\"Oligosaccharide, sorbierbar (3-9 M)_mg/100g\",\"Oligosaccharides, not resorbable_mg/100g\",\"Omega-3 fatty acids_mg/100g\",\"Omega-6 fatty acids_mg/100g\",\"Organic acids_mg/100g\",\"Pentadecensic acid_mg/100g\",\"Pentaecanic acid_mg/100g\",\"Phenylalanine mg/100g\",\"Poly-Hexosen_mg/100g\",\"Poly-Pentosen_mg/100g\",\"Poly-Uronic acid_mg/100g\",\"Polysaccharide (> 9M)_mg/100g\",\"Polyunsaturated fatty acids MG/100G\",\"Prolin_mg/100g\",\"Protein_g/g\",\"Purin_mg/100g\",\"Saccharosis (beet sugar) _MG/100G\",\"Saturated fatty acids_mg/100g\",\"Serin_mg/100g\",\"Short -chain fatty acids_mg/100g\",\"Simply unsaturated fatty acids mg/100g\",\"Sodium_mg/100g\",\"Sorbit_mg/100g\",\"Starch_mg/100g\",\"Sugar (total) _mg/100g\",\"Sum sugar alcohols_mg/100g\",\"TetraCanic acid/myristic acid_mg/100g\",\"Tetracosanic acid/lignoceric acid_mg/100g\",\"Tetracosenic acid/nervous acid_mg/100g\",\"TetradeCensic acid_mg/100g\",\"Threonin_mg/100g\",\"Tryptophan_mg/100g\",\"Tyrosin_mg/100g\",\"Uric acid_mg/100g\",\"Valin_mg/100g\",\"Vitamin A-Beta-Carotin_\\u03bcg/100g\",\"Vitamin A-Retinol_\\u03bcg/100g\",\"Vitamin A-Retinol\\u00e4quivalent_\\u03bcg/100g\",\"Vitamin B1-Thiamin_\\u03bcg/100g\",\"Vitamin B12-Cobalamin_\\u03bcg/100g\",\"Vitamin B2-Riboflavin_\\u03bcg/100g\",\"Vitamin B3-Niacin\\u00e4quivalent_\\u03bcg/100g\",\"Vitamin B3-niacin, nicotinic acid_\\u03bcg/100g\",\"Vitamin B5-Pantothenic acid_\\u03bcg/100g\",\"Vitamin B6-Pyridoxin_\\u03bcg/100g\",\"Vitamin B7-Biotin (VitaminH)_\\u03bcg/100g\",\"Vitamin B9-overall folic acid_\\u03bcg/100g\",\"Vitamin C-ASCORBINCOCHER_INCH/100G\",\"Vitamin D-Calciferole_\\u03bcg/100g\",\"Vitamin E-Alpha-Tocopherol_\\u03bcg/100g\",\"Vitamin E-Tocopherol\\u00e4quivalent_\\u03bcg/100g\",\"Vitamin K-Phyllochinon_\\u03bcg/100g\",\"Water -insoluble fiber_mg/100g\",\"Xylit_mg/100g\",\"http://purl.obolibrary.org/obo/CHEBI_16646_mg/100g\",\"http://purl.obolibrary.org/obo/FOODON_03316427_mg/100g\",\"http://purl.obolibrary.org/obo/FOODON_03420190_mg/100g\"],\"z\":[[0.0,1.0,0.015544041450777204,0.11917098445595854,0.0544041450777202,0.0544041450777202,0.6632124352331605,0.002590673575129534,0.11139896373056996,0.15803108808290153,0.015544041450777204,0.04145077720207254,0.05569948186528497,0.028497409326424868,0.1411917098445596,0.024611398963730567,0.2487046632124352],[0.0,0.9999999999999999,0.5439461898035941,0.5439461898035941,0.8589067683545419,0.8589067683545419,0.8795194399772963,0.8589067683545419,0.498405853359386,0.39046643549855004,0.5339774725256802,0.5439461898035941,0.14466513786905622,0.23805923166503024,0.07126719489559923,0.5439461898035941,0.6005591093394747],[0.02524271844660194,0.0,0.5,0.7087378640776699,0.5728155339805825,1.0,0.024271844660194178,0.7766990291262137,0.03155339805825243,0.37233009708737863,0.5825242718446602,0.9174757281553397,0.07281553398058252,0.048543689320388356,0.0033980582524271844,0.40436893203883495,0.03398058252427185],[0.0,0.0,0.0,0.0,0.0,0.0,0.0,0.0,0.0,0.0,0.0,0.0,0.0,0.0,0.0,0.0,0.0],[0.09355210132412203,0.0,0.00420264824409902,0.005872193436960276,0.06649395509499136,0.6384571099597005,0.0,0.17184801381692572,0.0,0.07584916522740355,0.22193436960276336,0.9999999999999999,0.019861830742659754,0.018508923431203222,0.0,0.021934369602763383,0.0],[0.5421940928270041,0.19198312236286924,0.3333333333333333,0.32911392405063294,0.33755274261603374,0.35232067510548526,0.2805907172995781,0.36497890295358654,0.459915611814346,0.17510548523206754,0.3312236286919832,0.3248945147679325,0.7151898734177214,0.0,0.18776371308016881,0.33544303797468356,0.9999999999999999],[0.0,1.0,0.0,0.0,0.0,0.0199203187250996,0.8207171314741035,0.02390438247011952,0.0,0.0,0.027888446215139442,0.0199203187250996,0.00398406374501992,0.0,0.18326693227091634,0.0,0.9840637450199203],[0.0,0.03508771929824562,0.672514619883041,1.0,0.4473684210526316,0.7397660818713451,0.07309941520467836,0.4619883040935672,0.017543859649122806,0.45321637426900585,0.9298245614035089,0.9678362573099416,0.07309941520467836,0.05555555555555555,0.02046783625730994,0.8187134502923976,0.04385964912280702],[0.0,0.4791553871142392,0.5273416350839197,0.530048727666486,0.6594477531131564,0.5847319978343258,0.8944233892799133,0.3773687060097454,0.4856524093123984,0.9999999999999999,0.591229020032485,0.6172171088251217,0.2788305360043313,0.36383324309691384,0.09258256632376825,0.7644829453167297,0.560368164591229],[0.09355210132412203,0.0,0.00420264824409902,0.005872193436960276,0.06649395509499136,0.6384571099597005,0.0,0.17184801381692572,0.0,0.07584916522740355,0.22193436960276336,0.9999999999999999,0.019861830742659754,0.018508923431203222,0.13485895221646516,0.021934369602763383,2.8785261945883705e-05],[0.237292817679558,0.0,0.039779005524861875,0.15441988950276245,0.05856353591160221,0.0,0.0,0.0,0.0,1.0,0.0,0.0,0.137292817679558,0.10773480662983427,0.0,0.04779005524861878,0.0],[0.0,0.19222462203023755,0.8833693304535636,0.5615550755939525,0.855291576673866,0.8963282937365009,0.34557235421166305,0.6997840172786177,0.529157667386609,0.9416846652267817,0.9136069114470842,0.9999999999999999,0.447084233261339,0.20950323974082072,0.05183585313174946,0.8444924406047516,0.21814254859611226],[0.010833118390508123,0.018700025793139022,0.3198349239102399,0.004642765024503482,0.13231880319834924,0.15303069383543977,0.012380706732009287,0.630642249161723,0.04874903275728656,0.2568222852721176,0.41088470466855814,1.0000000000000002,0.01882899148826412,0.005932421975754449,0.0,0.10136703636832602,0.008511735878256384],[0.0,0.5570737261599772,0.3532593225163678,0.31938514090520925,0.2402504981497296,0.22430970680330203,0.9999999999999999,0.16026188442926276,0.1295189296897239,0.4104753771705096,0.23797324224309707,0.33988044406490187,0.3339026473099915,0.15684600056931397,0.08795900939368062,0.35155138058639346,0.62311414745232],[0.17500000000000002,0.0,0.0,0.775,0.0,0.0,0.125,0.0,0.0625,0.9249999999999999,0.0,0.0,1.0,0.525,0.0,0.0,0.125],[0.0,0.5620305793991416,0.706746244635193,0.6473310085836909,0.6792516094420601,0.6714055793991416,0.9999999999999999,0.541711373390558,0.327320278969957,0.9847103004291845,0.7445010729613732,0.8866684549356223,0.4026287553648068,0.3908932403433476,0.09529238197424891,0.994702253218884,0.6288224248927038],[0.0,0.0,0.0,0.0,0.0,0.0,0.0,0.0,0.0,0.0,0.0,0.0,0.1930970149253731,1.0,0.0,0.0,0.0],[0.0,0.36105336105336105,0.8392238392238391,0.7733887733887734,0.6243936243936244,0.5772695772695773,0.5862785862785862,0.5169785169785169,0.47609147609147606,0.5578655578655578,0.7255717255717256,0.7872487872487872,0.23977823977823978,0.36105336105336105,0.06029106029106029,1.0,0.3652113652113652],[0.0,0.5362897265336289,0.5835920177383592,0.5490022172949002,0.6504065040650407,0.6802660753880266,0.9999999999999999,0.5636363636363637,0.2075388026607539,0.8418329637841834,0.6897265336289727,0.8750923872875093,0.4613451589061346,0.33983739837398375,0.09948263118994827,0.8125646711012565,0.6193643754619365],[0.0,0.33384805435453985,0.615812229771464,0.38511426806670784,0.5540457072266832,0.5518838789376158,0.5145151327980235,0.46819024088943795,0.31778875849289684,1.0,0.6473131562693021,0.7313156269302039,0.11766522544780728,0.3959234095120445,0.03953057442865967,0.92958616429895,0.34681902408894383],[0.025421308197657814,0.0,0.6786632390745502,0.479005998286204,1.0,0.0,0.0,0.0,0.0,0.310197086546701,0.0,0.0,0.3041988003427592,0.1499571550985433,0.0,0.8163381890888318,0.0],[0.0,0.13819320214669054,0.5237030411449017,0.6596601073345261,0.4347048300536673,0.4123434704830054,0.21019677996422184,0.3322898032200358,0.18291592128801432,0.7410554561717353,0.6104651162790699,0.6547406082289805,0.20930232558139536,0.22540250447227195,0.023703041144901613,1.0,0.13998211091234347],[0.0,0.5803814713896459,0.5204359673024525,0.8705722070844688,0.47956403269754766,0.49182561307901906,1.0,0.28065395095367845,0.48092643051771117,0.4237057220708447,0.6008174386920981,0.7670299727520437,0.20844686648501365,0.16212534059945505,0.1253405994550409,0.9168937329700274,0.6267029972752045],[1.0,0.0,0.0,0.0,0.0,0.0,0.0,0.0,0.0,0.0,0.0,0.0,0.0,1.0,0.0,0.0,0.0],[0.5421940928270041,0.19198312236286924,0.3333333333333333,0.32911392405063294,0.33755274261603374,0.35232067510548526,0.2805907172995781,0.36497890295358654,0.459915611814346,0.17510548523206754,0.3312236286919832,0.3248945147679325,0.7151898734177214,0.0,0.18776371308016881,0.33544303797468356,0.9999999999999999],[0.05294117647058823,0.0,0.29411764705882354,0.3529411764705882,0.7058823529411764,1.0,0.8235294117647058,0.0,0.6470588235294117,0.7647058823529411,0.3941176470588235,0.3705882352941176,0.3529411764705882,0.07058823529411765,0.1,0.5294117647058822,0.5882352941176471],[0.0,null,null,null,null,null,1.0,null,0.20955427156417666,0.13093272802311184,null,null,null,null,0.0949236483697895,null,null],[0.0,0.369281045751634,0.9738562091503269,0.8104575163398694,0.8431372549019609,0.6797385620915033,0.5163398692810458,1.0,0.026143790849673203,0.8055555555555557,0.4836601307189543,0.7941176470588236,0.006535947712418302,0.2892156862745099,0.05065359477124183,0.7287581699346406,0.22222222222222224],[0.9431694997347603,0.6309823096616464,0.06589478054293424,0.015441566529049518,0.023663998892912333,0.03915169407477455,0.49371497105427037,0.041688769979472746,0.8726964504001661,0.0,0.07859169222962843,0.035576723481790716,0.1348455843347095,0.7710980925802062,1.0,0.054028184606868555,0.610374334017575],[0.0,null,null,null,null,null,0.9999999999999999,null,0.07328897163185932,0.3082339496046156,null,null,null,null,0.08259755580542297,null,null],[0.0,0.0,0.0,0.0,0.0,0.0,0.0,0.0,0.0,0.0,0.0,0.0,0.0,0.0,0.0,0.0,0.0],[0.32857142857142857,1.0,0.0007142857142857143,0.0,0.0007142857142857143,0.0,0.9285714285714286,0.0,0.0,0.0007142857142857143,0.0,0.0,0.0,0.17857142857142858,0.15,0.0,0.21428571428571427],[0.9999999999999999,0.0,0.0,0.0,0.0,0.0,0.0,0.0,0.0,0.0,0.0,0.0,0.0,0.0,0.0,0.0,0.0],[0.0007996801279488205,1.0,0.01919232307077169,0.039184326269492205,0.04078368652538984,0.003598560575769692,0.7357057177129149,0.009996001599360257,0.011595361855257898,0.09156337465013994,0.007197121151539384,0.008396641343462616,0.00039984006397441024,0.003598560575769692,0.16233506597361058,0.0,0.8812475009996003],[0.0,0.0,0.0,0.0,0.0,0.0,0.0,0.0,0.0,0.0,0.0,0.0,0.0,0.0,0.0,0.0,0.0],[0.0,0.8574338085539714,0.3686354378818737,0.49083503054989813,0.3890020366598778,0.34826883910386963,1.0,0.2871690427698574,0.8126272912423624,0.2973523421588594,0.2871690427698574,0.5112016293279023,0.05906313645621181,0.3075356415478615,0.34826883910386963,0.06720977596741344,0.9185336048879837],[0.0113116158185416,0.0,0.10564399421128799,0.1476121562952243,0.13644821170146784,0.0,0.0,0.0,0.0,0.07154670840839954,0.0,0.0,1.0,0.06333618831034585,0.0,0.026994299890723293,0.0],[0.0,0.5477621910487641,0.5571142284569138,0.509686038744155,0.4959919839679359,0.5013360053440213,0.9999999999999999,0.3607214428857716,0.3269873079492318,0.6830327321309285,0.4462257849031397,0.5617902471609886,0.22611890447561792,0.2842351369405478,0.10287241148964597,0.8747494989979959,0.6346025384101536],[0.0,0.5287356321839081,0.5471264367816092,0.6927203065134101,0.4567049808429119,0.5593869731800767,1.0,0.36168582375478925,0.42375478927203064,0.6551724137931035,0.6582375478927204,0.7272030651340997,0.22375478927203063,0.3586206896551724,0.10268199233716475,0.8398467432950193,0.6268199233716475],[0.0113116158185416,0.0,0.10564399421128799,0.1476121562952243,0.13644821170146784,0.0,0.0,0.0,0.0,0.07154670840839954,0.0,0.0,1.0,0.06333618831034585,0.0,0.026994299890723293,0.0],[0.0,0.4266917293233083,0.537593984962406,0.5413533834586466,0.38721804511278196,0.5845864661654135,0.7781954887218044,0.3890977443609023,0.33646616541353386,0.6071428571428572,0.7330827067669173,0.6917293233082706,0.18984962406015035,0.2706766917293233,0.06203007518796992,1.0,0.4868421052631579],[0.0,0.4371614301191766,0.4761646803900325,0.4989165763813651,0.4685807150595883,0.437703141928494,1.0,0.3049837486457205,0.3927410617551463,0.6706392199349945,0.508667388949079,0.6078006500541712,0.21289274106175518,0.2925243770314193,0.07258938244853737,0.843445287107259,0.6278439869989165],[0.0,0.0,0.0,0.0,0.0,0.0,0.0,0.0,0.0,0.0,0.0,0.0,0.0,0.0,0.0,0.0,0.0],[0.009999999999999998,0.0,1.0,0.34069767441860466,0.10790697674418605,0.45581395348837206,0.009302325581395349,0.8046511627906977,0.01651162790697674,0.3730232558139535,0.5255813953488372,0.5534883720930233,0.13953488372093023,0.0813953488372093,0.00046511627906976747,0.643720930232558,0.0069767441860465115],[0.0,0.43641536273115217,0.6731152204836415,0.5848079658605975,0.5821337126600284,0.5880512091038407,0.8978662873399715,0.4526315789473684,0.3274537695590327,0.8374395448079659,0.6238975817923186,0.7331436699857752,0.2834139402560455,0.32890469416785206,0.08654338549075391,1.0,0.5622190611664296],[0.41379310344827586,0.0,0.06551724137931034,0.0,0.24137931034482757,0.0,0.0,0.0,0.0,0.0,0.0,0.0,0.0,1.0,0.05862068965517241,0.006896551724137931,3.4482758620689657e-05],[0.0,0.37860780984719855,0.8726655348047538,0.8675721561969439,0.8930390492359932,0.9015280135823429,0.3955857385398981,1.0,0.12903225806451615,0.8743633276740237,0.6502546689303905,0.7113752122241087,0.4550084889643464,0.14091680814940574,0.006791171477079791,0.8556876061120543,0.3633276740237691],[0.2577424612876935,0.9610839445802772,0.8414832925835369,0.8343520782396088,0.8372045639771801,0.8264058679706598,0.9999999999999998,0.7612061939690304,0.21332518337408302,0.7671149144254279,0.8321108394458026,0.835574572127139,0.0,0.8932355338223308,0.963325183374083,0.8400570497147515,0.4735126324368377],[0.0,0.0,0.0,0.0,0.0,0.0,0.12286689419795223,0.0,1.0,0.0,0.9556313993174061,0.0,0.0,0.0,0.030716723549488057,0.0,0.23890784982935154],[0.0,null,null,null,null,null,1.0,null,0.06470858191831115,0.09729233593391463,null,null,null,null,0.09545663148233134,null,null],[0.001,0.957,0.004,0.045,0.006,0.0,0.8,0.0,0.144,0.011,0.057,0.0,0.001,0.002,0.045,0.028,1.0],[0.0,0.0975609756097561,0.3170731707317073,0.5609756097560976,0.3231707317073171,0.38414634146341464,0.2134146341463415,0.5182926829268292,0.4207317073170731,1.0,0.41463414634146334,0.7073170731707317,0.07317073170731708,0.23780487804878045,0.024390243902439015,0.27439024390243905,0.27439024390243905],[0.0,1.0,0.0,0.0,0.0,0.0,0.3842195540308748,0.0,0.0,0.0,0.0,0.0,0.0,0.0,0.08404802744425387,0.0,0.4596912521440824],[0.06438213914849428,0.0,0.5638629283489096,0.4164070612668743,0.9999999999999999,0.6562824506749739,0.0446521287642783,0.7144340602284527,0.09345794392523363,0.6261682242990654,0.6998961578400831,0.754932502596054,0.057113187954309454,0.2004153686396677,0.0861889927310488,0.5327102803738317,0.09657320872274142],[0.07250000000000001,0.0,0.045,0.10500000000000001,0.375,0.0,0.275,0.05499999999999999,0.0325,0.005,0.12,0.0375,0.0,1.0,0.0425,0.5700000000000001,0.25],[0.0,0.37931034482758613,0.8734279918864095,0.8673427991886408,0.8941176470588235,0.9014198782961458,0.39675456389452335,1.0,0.12860040567951314,0.8754563894523324,0.6511156186612576,0.711156186612576,0.45517241379310336,0.1403651115618661,0.006896551724137931,0.8555780933062879,0.3638945233265719],[0.0,0.3800888523501605,0.800793663341291,0.7960506553256074,0.8150226873883416,0.7438775671530885,0.2869677949755735,1.0,0.14657475771134054,0.7596875938720336,0.5762912839322698,0.41502901139902926,0.01171522979873836,0.09248865630582916,0.055651294050686945,0.7318619468466901,0.34386808113705714],[0.0,1.0,0.0,0.0,0.0,0.0,0.6158631415241058,0.0,0.0,0.0,0.0,0.0,0.0,0.0,0.13374805598755832,0.0,0.7371695178849145],[0.0,0.27150837988826815,0.023463687150837985,0.8692737430167597,0.1463687150837989,0.036871508379888264,1.0,0.16089385474860335,0.05139664804469273,0.04022346368715084,0.22458100558659216,0.09050279329608937,0.013407821229050279,0.13966480446927373,0.12849162011173185,0.00558659217877095,0.441340782122905],[0.0,0.0,0.0,0.0,0.0,0.0,0.0,0.0,0.0,0.0,0.0,0.0,0.0,0.0,0.0,0.0,0.0],[0.016835016835016838,0.925925925925926,0.010101010101010102,0.023569023569023573,0.08417508417508418,0.0,0.734006734006734,0.01346801346801347,0.9360269360269362,0.0,0.02693602693602694,0.010101010101010102,0.0,0.22558922558922562,0.10437710437710439,0.12794612794612795,1.0],[1.0,0.0,0.0,0.0,0.0,0.0,0.0,0.0,0.0,0.0,0.0,0.0,0.00942236788201557,0.25617916154581455,0.0,0.009285811825754473,0.0],[0.0,0.4488630770745153,0.6457328477212325,0.5367654296682745,0.5085146175804706,0.5246087213308397,0.819371985431637,0.38547101092627234,0.3263116448469338,0.7261049315877547,0.5329264691406636,0.6174820356334285,0.19499950782557338,0.2822128162220692,0.07973225711192047,1.0,0.5111723594842013],[0.07175511826674617,0.0,0.21466905187835422,1.0,0.3164380838799444,0.0,0.0,0.0,0.0,0.5756310872589943,0.0,0.0,0.5645000993838203,0.07751937984496125,0.0,0.25819916517590935,0.0],[0.0,0.596731448763251,0.375,0.2756183745583039,0.4810070671378093,0.43948763250883394,0.9969081272084807,0.19964664310954064,0.3034452296819788,0.48586572438162545,0.39399293286219084,0.428886925795053,0.11572438162544171,0.316696113074205,0.1166077738515901,1.0,0.6250000000000001],[0.0,0.10532475131655941,0.8777062609713283,0.42890579286132247,0.3772186463818998,0.44899551394577725,0.20440803588843381,0.4413887263506925,0.13575190169689877,0.6846108835576362,0.433976984591379,0.4790325726545739,0.08952603861907549,0.18958455236980692,0.0185293543982836,1.0,0.12795006826604252],[0.0,0.46402289452166806,0.4869174161896975,0.4497138184791497,0.5151267375306623,0.4542109566639411,0.8197056418642682,0.3021259198691742,0.3569092395748161,0.5968928863450532,0.4636140637775961,0.5380212591986917,0.1856091578086672,0.21995094031071138,0.07318070318887981,1.0,0.5139002452984465],[0.0,0.0,0.0,0.0,0.0,0.0,0.0,0.0,0.0,0.0,0.0,0.0,0.0,0.0,1.0,0.0,0.00021344717182497332],[0.0,0.4947589098532495,0.5482180293501049,0.5073375262054507,0.4737945492662474,0.5020964360587002,0.9999999999999999,0.42033542976939203,0.26624737945492666,0.7484276729559748,0.5335429769392034,0.7159329140461216,0.19916142557651992,0.3259958071278826,0.07023060796645703,0.8511530398322851,0.5429769392033543],[0.1016949152542373,0.0,0.0,0.03389830508474576,1.0,0.0,0.0,0.1864406779661017,0.15254237288135594,0.0,0.06779661016949153,0.0,0.0,0.0,0.01694915254237288,0.0,0.0],[0.005789473684210526,0.0,0.4263157894736842,0.41578947368421054,0.36315789473684207,0.3052631578947368,0.021052631578947368,0.24210526315789474,0.05263157894736842,0.47368421052631576,0.24210526315789474,0.9999999999999999,0.0631578947368421,0.23157894736842105,0.019473684210526313,0.30842105263157893,0.023684210526315787],[0.0,1.0,0.0,0.0,0.0,0.0,0.2686740011580776,0.0,0.0,0.0,0.0,0.0,0.0,0.0,0.061378112333526344,0.0,0.3219455703532137],[0.001075268817204301,1.0,0.0,0.0,0.05483870967741935,0.0,0.6107526881720429,0.0,0.0,0.04946236559139785,0.004301075268817204,0.0,0.001075268817204301,0.005376344086021505,0.14193548387096774,0.24731182795698925,0.7311827956989247],[0.0,0.0,0.0,0.0,0.0,0.0,0.0,0.0,0.0,0.0,0.0,0.0,0.0,0.0,0.0,0.0,0.0],[0.14627659574468085,0.0,0.547112462006079,0.756079027355623,0.9783434650455927,0.2944528875379939,0.0,0.7313829787234042,0.0,1.0,0.0,0.5509118541033434,0.5057940729483282,0.1424772036474164,0.0,0.6580547112462005,0.0],[0.0,0.0,0.0,0.0,0.0,0.0,0.0,0.0,0.0,0.0,0.0,0.0,0.0,0.0,0.0,0.0,0.0],[0.0,0.3131462333825702,0.7370753323485968,0.880354505169867,0.7223042836041359,0.7223042836041359,0.8700147710487445,0.4091580502215657,0.29394387001477107,0.4859675036927622,0.7710487444608568,1.0,0.11225997045790251,0.2791728212703102,0.11964549483013295,0.7459379615952733,0.5745937961595273],[0.033858267716535426,0.0,0.08661417322834646,0.6220472440944882,0.19685039370078738,0.41732283464566927,0.07874015748031496,0.5196850393700787,0.06062992125984251,0.3464566929133858,0.3385826771653543,0.9999999999999999,0.06692913385826772,0.15748031496062992,0.03070866141732283,0.07244094488188976,0.15748031496062992],[0.03448275862068966,0.0,0.07172413793103448,0.48620689655172417,0.4103448275862069,0.0,0.15517241379310345,0.0,0.5517241379310346,1.0,0.0,0.0,0.1724137931034483,0.10344827586206896,0.1206896551724138,0.20689655172413793,0.10689655172413794],[0.08116883116883117,0.0,0.16233766233766234,0.17857142857142855,0.29220779220779214,0.18506493506493504,0.06168831168831168,0.9999999999999999,0.40584415584415584,0.551948051948052,0.2662337662337662,0.9090909090909091,0.016233766233766232,0.06493506493506493,0.06493506493506493,0.16233766233766234,0.08116883116883117],[0.0,0.18224869403895916,0.3938387931455354,0.44036518088170684,0.22374652150563884,0.3282234047746913,0.3271005223844164,0.2231118488502661,0.13503881267392473,1.0000000000000002,0.4276717277742519,0.5288776058194601,0.13098667187423718,0.17575550456476105,0.016599130986671876,0.5022213542938047,0.2546990186984329],[0.1851851851851852,0.0,0.0,0.7777777777777779,0.0,0.0,0.11111111111111112,0.0,0.07407407407407408,0.925925925925926,0.0,0.0,1.0,0.5185185185185185,0.0,0.0,0.11111111111111112],[0.9999999999999999,0.0,0.0,0.0,0.0,0.0,0.0,0.0,0.0,0.0,0.0,0.0,0.0,0.0,0.0,0.0,0.0],[0.5421940928270041,0.19198312236286924,0.3333333333333333,0.32911392405063294,0.33755274261603374,0.35232067510548526,0.2805907172995781,0.36497890295358654,0.459915611814346,0.17510548523206754,0.3312236286919832,0.3248945147679325,0.7151898734177214,0.0,0.18776371308016881,0.33544303797468356,0.9999999999999999],[1.0,0.0,0.0,0.0,0.0,0.0,0.0,0.0,0.1543427822051851,0.0,0.0,0.0,0.013921113689095129,0.3353172601634217,0.0015131645314233834,0.015131645314233833,0.0],[0.0,0.9821428571428572,0.0,0.0,0.0,0.0,0.7142857142857143,0.0,0.9857142857142858,0.0,0.0,0.0,0.0,0.0,0.09999999999999999,0.0,1.0],[0.006906077348066299,0.0,0.09944751381215469,0.3860497237569061,0.1464088397790055,0.0,0.0,0.0,0.0,1.0,0.0,0.0,0.2451657458563536,0.04143646408839779,0.0,0.11947513812154696,0.0],[1.0,0.0,0.0,0.0,0.0,0.0,0.0,0.0,0.5907335907335908,0.0,0.0,0.0,0.026640926640926644,0.5590733590733591,0.0023166023166023165,0.031660231660231665,0.0],[0.0,1.0,0.0,0.0,0.0,0.0,0.7042093287827076,0.0,0.0,0.0,0.0,0.0,0.0,0.0,0.17178612059158133,0.0,0.844141069397042],[0.0,0.5885558583106267,0.5708446866485014,0.4884196185286104,0.43732970027247964,0.4584468664850137,1.0,0.28882833787465945,0.3147138964577657,0.8208446866485015,0.3978201634877384,0.473433242506812,0.20844686648501365,0.28882833787465945,0.10354223433242507,0.8705722070844688,0.6294277929155314],[0.0,0.10829322880113207,0.14505837350715836,0.14505837350715836,1.0,1.0,0.6469934023288584,1.0,0.14262838755489007,0.08865190316377322,0.06739350978887557,0.14505837350715836,0.023504997254091692,0.47109087227807117,0.06717089084314576,0.14505837350715836,0.43451599306827643],[0.20809164733178656,0.011745939675174016,0.10585846867749421,0.14791183294663574,0.16748839907192578,0.3216357308584687,0.0,0.08657192575406032,0.022186774941995363,0.10846867749419956,0.11180394431554525,0.50377030162413,1.0,0.15081206496519722,0.0681554524361949,0.03973317865429235,1.4501160092807426e-05],[0.014167265130247436,0.010902918326042958,0.22961415420774303,0.2896781354051054,0.08924724162695045,0.11470914669974538,0.0011098779134295226,0.08728863354442776,0.0,1.0,0.16171574068028988,0.32101586472546845,0.07945420121433702,0.09251158843115492,0.00045700855258862683,0.10687471436965464,0.07292550760592806],[0.013172043010752687,0.021370967741935483,0.33521505376344085,0.006720430107526881,0.13978494623655913,0.00868279569892473,0.014784946236559139,0.596774193548387,0.052688172043010746,0.2695430107526881,0.0,1.0,0.02150537634408602,0.008064516129032256,0.0018817204301075268,0.1075268817204301,0.01075268817204301],[0.0,0.461847389558233,0.8192771084337351,1.0000000000000002,0.47791164658634544,0.4437751004016064,0.9604417670682731,0.4337349397590362,0.1244979919678715,0.38152610441767076,0.6024096385542169,0.5943775100401607,0.030120481927710843,0.13654618473895586,0.08433734939759037,0.21686746987951805,0.7761044176706827],[0.0,0.0,0.0,0.0,0.0,0.0,0.0,0.0,0.0,0.0,0.0,0.0,0.0,0.0,0.0,0.0,0.0],[0.358974358974359,0.0,0.6440071556350626,1.0,0.9493142516398331,0.0,0.0,0.0,0.0,0.9558735837805605,0.0,0.0,0.7620751341681574,0.6618962432915921,0.0,0.774597495527728,0.0],[0.0,0.5649100257069409,0.5661953727506427,0.7994858611825193,0.6780205655526993,0.6253213367609255,0.9402313624678663,0.4505141388174807,0.40102827763496146,1.0,0.7043701799485862,0.8213367609254498,0.3007712082262211,0.35539845758354754,0.08868894601542417,0.9787917737789203,0.590616966580977],[0.14906832298136644,0.0,0.44720496894409933,1.0,0.09627329192546583,0.0,0.0,0.0,0.0,0.3757763975155279,0.0,0.0,0.5512422360248447,0.4658385093167702,0.0,0.537888198757764,0.0],[0.0,1.0,0.02674897119341564,0.005486968449931413,0.026063100137174215,0.010288065843621401,0.7530864197530865,0.017146776406035666,0.12208504801097393,0.0034293552812071334,0.009602194787379973,0.03155006858710563,0.05829903978052126,0.010973936899862825,0.06858710562414266,0.05349794238683128,0.8216735253772292],[0.018913480885311872,0.008048289738430584,0.9195171026156941,1.0000000000000002,0.7283702213279678,0.6388329979879276,0.03420523138832999,0.3390342052313884,0.17806841046277666,0.17635814889336016,0.6730382293762576,0.5694164989939637,0.09456740442655936,0.30583501006036223,0.0,0.48611670020120734,0.02414486921529175],[0.0,0.3315508021390374,0.3850267379679144,0.5989304812834225,0.6524064171122995,0.5454545454545455,0.518716577540107,0.4117647058823529,0.4652406417112299,1.0,0.572192513368984,0.7326203208556151,0.3315508021390374,0.06417112299465241,0.06417112299465241,0.4117647058823529,0.5454545454545455],[0.0,0.0,0.0,0.0,0.0,0.0,0.0,0.0,0.0,0.0,0.0,0.0,0.0,0.0,1.0,0.0,0.0],[0.0,0.12950756107018221,0.5443970531213648,0.9999999999999999,0.42678040584205756,0.6607212097712292,0.5767093188574383,0.2639265865322476,0.18766963939511436,0.3607341346775236,0.5340571280858213,0.7395631381672482,0.4216104433242858,0.03127827323251907,0.046788160785834296,0.7899702727155228,0.3828357244409978],[0.6964856230031948,0.13258785942492002,0.4504792332268369,0.4504792332268369,0.840255591054313,0.840255591054313,0.0,0.840255591054313,0.44408945686900947,0.6006389776357827,0.5479233226837059,0.4504792332268369,0.36421725239616604,0.9999999999999999,0.5383386581469648,0.4504792332268369,0.21725239616613407],[0.0,0.7948633338832976,0.2169059011164274,0.2169059011164274,0.3532420392674476,0.3532420392674476,1.0,0.3532420392674476,0.2494637848539845,0.15157014794038387,0.14656547324423913,0.2169059011164274,0.19050761700489466,0.22812517186382883,0.15250508716933397,0.2169059011164274,0.695154814937029],[0.0,0.815819209039548,0.111864406779661,0.111864406779661,0.20564971751412428,0.20564971751412428,1.0,0.20564971751412428,0.13898305084745763,0.1231638418079096,0.08248587570621468,0.111864406779661,0.05423728813559322,0.376271186440678,0.15706214689265535,0.111864406779661,0.6926553672316383],[0.013157894736842108,0.6447368421052632,0.03947368421052633,0.03947368421052633,0.3026315789473685,0.3026315789473685,0.9999999999999999,0.3026315789473685,0.32894736842105265,0.03947368421052633,0.03947368421052633,0.03947368421052633,0.11842105263157897,0.0,0.18421052631578946,0.03947368421052633,0.7763157894736842],[0.0,0.3941247451420962,0.33162734573295044,0.33162734573295044,0.005326010069487786,0.005326010069487786,0.295011026505222,0.005326010069487786,0.16427412308076395,0.19997503432779928,0.29700828028127985,0.33162734573295044,0.9999999999999999,0.19323430283360377,0.04277451837057379,0.33162734573295044,0.20076561394748887],[0.013873760804862058,0.5065625152128772,0.06131954473181781,0.06131954473181781,0.3582681932545348,0.3582681932545348,1.0,0.3582681932545348,0.23511239956334035,0.05039632495954472,0.06365799702945635,0.06131954473181781,0.10706534215601882,0.0,0.17760406427720538,0.06131954473181781,0.7653773612714139],[0.0003226064747297655,0.9461757387373803,0.031163297272845517,0.031163297272845517,0.13881181979808488,0.13881181979808488,1.0,0.13881181979808488,0.3541088648485636,0.13881181979808488,0.24646034232332426,0.031163297272845517,0.031163297272845517,0.0,0.13881181979808488,0.031163297272845517,0.6770544324242816],[0.06237687711290235,0.9999999999999999,0.5295069778424236,0.5295069778424236,0.9999999999999999,0.9999999999999999,0.9999999999999999,0.9999999999999999,0.5058870425900095,0.42552906710282734,0.5530268932633193,0.5295069778424236,0.11792338136009722,0.3105533524219988,0.0,0.5295069778424236,0.8606994357634569],[0.0,0.9518072289156626,0.07228915662650601,0.07228915662650601,0.15662650602409633,0.15662650602409633,0.9999999999999999,0.15662650602409633,0.3614457831325301,0.14457831325301201,0.25301204819277107,0.07228915662650601,0.04819277108433735,0.0,0.18072289156626506,0.07228915662650601,0.6867469879518071],[0.0,1.0,0.10121515622610208,0.10121515622610208,0.50340169558729,0.50340169558729,0.7623515702259143,0.50340169558729,0.1784244480776099,0.22255795159057812,0.5466247982690446,0.10121515622610208,0.06472829422563076,0.041311362756514675,0.06914604830525972,0.10121515622610208,0.6145507380629596],[0.0,0.6340757609251843,1.0000000000000002,1.0000000000000002,0.2681515218503683,0.2681515218503683,0.6340757609251843,0.2681515218503683,0.2681515218503683,0.2681515218503683,0.6340757609251843,1.0000000000000002,0.2681515218503683,0.20787556637936688,0.05779542457991861,1.0000000000000002,0.2681515218503683],[0.049001183267209585,0.18994918911394168,0.05909375652537064,0.05909375652537064,1.0,1.0,0.1907844365559964,1.0,0.043224055126331186,0.019628314888285654,0.048165935825154875,0.05909375652537064,0.04364167884735854,0.06431405303821255,0.0,0.05909375652537064,0.12486949258717897],[0.1769801695707649,0.006279760296553214,0.07334063536856496,0.07334063536856496,0.9999999999999999,0.9999999999999999,0.0002771604568210654,0.9999999999999999,0.012376203484917917,0.1830766127591296,0.03676197623837673,0.07334063536856496,0.0017841966345559857,0.0,0.000164340585108646,0.07334063536856496,0.0004572439566744779],[0.025284536597877078,1.0,0.20442760037547636,0.20442760037547636,0.6176893608815738,0.6176893608815738,0.884074065876743,0.6176893608815738,0.40022171128739237,0.18509724469858096,0.17328476993249786,0.20442760037547636,0.19744615040550023,0.0,0.08580551581055429,0.20442760037547636,0.6458256392941866],[0.08509043815576013,1.0000000000000002,0.2857367558190544,0.2857367558190544,0.802709697663115,0.802709697663115,0.9046096626307872,0.802709697663115,0.39220705404094625,0.45986321997825247,0.5246869144685119,0.2857367558190544,0.23895983035625484,0.0,0.11884429328470307,0.2857367558190544,0.63125185485934],[0.012070483576142646,0.06775021010848116,0.03209919474114451,0.03209919474114451,1.0,1.0,0.02419190501381019,1.0,0.03223136874011734,0.012510671201633827,0.06044744555005534,0.03209919474114451,0.017475942455928227,0.0,0.013363045550080268,0.03209919474114451,0.02040173454057846],[0.0,0.95285929804162,0.09921156803606306,0.09921156803606306,0.5039379684932715,0.5039379684932715,1.0,0.5039379684932715,0.34898891934379106,0.16843482428438378,0.24135701535211457,0.09921156803606306,0.06605456496919189,0.13489229874507963,0.1264647637982657,0.09921156803606306,0.6778479962075638],[0.0,0.2,0.0,0.0,0.0,0.0,0.7,0.0,0.95,0.0,0.0,0.0,0.0,0.0,0.2,0.0,1.0],[0.08854625550660793,0.0,0.31718061674008813,0.49251101321585905,0.46740088105726874,0.13656387665198239,0.0,0.3392070484581498,0.0,0.5170925110132158,1.0,0.2555066079295154,0.31277533039647576,0.13215859030837004,0.0,0.3814977973568282,0.0],[0.0,0.0,0.0,0.0,0.0,0.0,0.0,0.0,0.0,0.0,0.0,0.0,0.0,0.0,0.0,0.0,0.0],[0.0,0.0,0.0,0.0,0.0,0.0,0.0,0.0,0.0,0.0,0.0,0.0,0.0,0.0,0.0,0.0,0.0],[0.0,0.0,0.0,0.0,0.0,0.0,0.0,0.0,0.0,0.0,0.0,0.0,0.0,0.0,0.0,0.0,0.0]],\"type\":\"heatmap\",\"xaxis\":\"x\",\"yaxis\":\"y\",\"hovertemplate\":\" : %{x}<br>y: %{y}<br>color: %{z}<extra></extra>\",\"text\":[[0.0,0.08,0.0,0.01,0.0,0.0,0.05,0.0,0.01,0.01,0.0,0.0,0.01,0.0,0.01,0.0,0.02],[1.83,17.16,10.17,10.17,14.99,14.99,15.31,14.99,9.47,7.81,10.01,10.17,4.04,5.48,2.92,10.17,11.03],[0.05,0.0,1.03,1.46,1.18,2.06,0.05,1.6,0.06,0.77,1.2,1.89,0.15,0.1,0.01,0.83,0.07],[0.0,0.0,0.0,0.0,0.0,0.0,0.0,0.0,0.0,0.0,0.0,0.0,0.0,0.0,0.0,0.0,0.0],[3.25,0.0,0.15,0.2,2.31,22.18,0.0,5.97,0.0,2.64,7.71,34.74,0.69,0.64,0.0,0.76,0.0],[0.3,0.14,0.2,0.2,0.21,0.21,0.18,0.22,0.26,0.13,0.2,0.2,0.38,0.05,0.14,0.2,0.52],[0.0,0.25,0.0,0.0,0.0,0.0,0.21,0.01,0.0,0.0,0.01,0.0,0.0,0.0,0.05,0.0,0.25],[0.0,0.02,0.24,0.35,0.16,0.26,0.03,0.16,0.01,0.16,0.32,0.34,0.03,0.02,0.01,0.28,0.02],[0.02,0.9,0.99,0.99,1.23,1.1,1.67,0.71,0.91,1.86,1.11,1.16,0.53,0.69,0.19,1.43,1.05],[3.25,0.0,0.15,0.2,2.31,22.18,0.0,5.97,0.0,2.64,7.71,34.74,0.69,0.64,4.68,0.76,0.0],[0.86,0.0,0.14,0.56,0.21,0.0,0.0,0.0,0.0,3.62,0.0,0.0,0.5,0.39,0.0,0.17,0.0],[0.0,0.09,0.41,0.26,0.4,0.42,0.16,0.32,0.25,0.44,0.42,0.46,0.21,0.1,0.02,0.39,0.1],[0.49,0.8,12.47,0.25,5.2,6.0,0.55,24.52,1.96,10.03,16.0,38.84,0.8,0.3,0.07,4.0,0.4],[0.01,1.97,1.25,1.14,0.86,0.8,3.53,0.58,0.47,1.46,0.85,1.21,1.19,0.56,0.32,1.25,2.2],[0.01,0.0,0.0,0.06,0.0,0.0,0.01,0.0,0.0,0.07,0.0,0.0,0.08,0.04,0.0,0.0,0.01],[0.22,8.6,10.76,9.87,10.35,10.23,15.13,8.3,5.1,14.9,11.32,13.44,6.22,6.05,1.64,15.05,9.6],[0.0,0.0,0.0,0.0,0.0,0.0,0.0,0.0,0.0,0.0,0.0,0.0,0.41,2.14,0.0,0.0,0.0],[0.02,0.54,1.23,1.14,0.92,0.85,0.86,0.76,0.71,0.82,1.07,1.16,0.36,0.54,0.11,1.46,0.55],[0.03,3.66,3.98,3.75,4.43,4.63,6.8,3.84,1.44,5.73,4.7,5.95,3.15,2.33,0.7,5.53,4.22],[0.13,1.21,2.12,1.38,1.92,1.92,1.8,1.64,1.16,3.37,2.22,2.5,0.51,1.41,0.26,3.14,1.25],[0.18,0.0,4.75,3.35,7.0,0.0,0.0,0.0,0.0,2.17,0.0,0.0,2.13,1.05,0.0,5.72,0.0],[0.01,0.32,1.18,1.49,0.98,0.93,0.48,0.75,0.42,1.67,1.38,1.48,0.48,0.52,0.06,2.25,0.32],[0.0,0.43,0.39,0.64,0.36,0.36,0.74,0.21,0.36,0.32,0.44,0.57,0.16,0.12,0.1,0.68,0.46],[0.0,0.0,0.0,0.0,0.0,0.0,0.0,0.0,0.0,0.0,0.0,0.0,0.0,0.0,0.0,0.0,0.0],[0.3,0.14,0.2,0.2,0.21,0.21,0.18,0.22,0.26,0.13,0.2,0.2,0.38,0.05,0.14,0.2,0.52],[0.01,0.0,0.05,0.06,0.12,0.17,0.14,0.0,0.11,0.13,0.07,0.06,0.06,0.01,0.02,0.09,0.1],[0.14,null,null,null,null,null,9.84,null,2.18,1.41,null,null,null,null,1.06,null,null],[0.4,23.0,60.0,50.0,52.0,42.0,32.0,61.6,2.0,49.7,30.0,49.0,0.8,18.1,3.5,45.0,14.0],[82.47,55.4,6.4,2.02,2.74,4.08,43.5,4.3,76.36,0.68,7.5,3.77,12.38,67.55,87.4,5.37,53.61],[18.01,null,null,null,null,null,560.52,null,57.77,185.23,null,null,null,null,62.82,null,null],[0.0,0.0,0.0,0.0,0.0,0.0,0.0,0.0,0.0,0.0,0.0,0.0,0.0,0.0,0.0,0.0,0.0],[0.46,1.4,0.0,0.0,0.0,0.0,1.3,0.0,0.0,0.0,0.0,0.0,0.0,0.25,0.21,0.0,0.3],[0.42,0.0,0.0,0.0,0.0,0.0,0.0,0.0,0.0,0.0,0.0,0.0,0.0,0.0,0.0,0.0,0.0],[0.0,2.5,0.05,0.1,0.1,0.01,1.84,0.02,0.03,0.23,0.02,0.02,0.0,0.01,0.41,0.0,2.2],[0.0,0.0,0.0,0.0,0.0,0.0,0.0,0.0,0.0,0.0,0.0,0.0,0.0,0.0,0.0,0.0,0.0],[0.01,0.43,0.19,0.25,0.2,0.18,0.5,0.15,0.41,0.16,0.15,0.26,0.04,0.16,0.18,0.04,0.46],[0.77,0.0,7.15,10.0,9.24,0.0,0.0,0.0,0.0,4.84,0.0,0.0,67.72,4.29,0.0,1.83,0.0],[0.02,1.66,1.69,1.55,1.5,1.52,3.01,1.1,1.0,2.06,1.36,1.7,0.7,0.87,0.33,2.64,1.92],[0.01,0.7,0.72,0.91,0.61,0.74,1.32,0.48,0.56,0.86,0.87,0.96,0.3,0.48,0.14,1.11,0.83],[0.77,0.0,7.15,10.0,9.24,0.0,0.0,0.0,0.0,4.84,0.0,0.0,67.72,4.29,0.0,1.83,0.0],[0.0,0.23,0.29,0.29,0.21,0.31,0.42,0.21,0.18,0.33,0.39,0.37,0.1,0.15,0.04,0.54,0.26],[0.01,0.82,0.89,0.93,0.88,0.82,1.86,0.58,0.74,1.25,0.95,1.14,0.41,0.55,0.15,1.57,1.17],[0.0,0.0,0.0,0.0,0.0,0.0,0.0,0.0,0.0,0.0,0.0,0.0,0.0,0.0,0.0,0.0,0.0],[0.04,0.0,4.3,1.46,0.46,1.96,0.04,3.46,0.07,1.6,2.26,2.38,0.6,0.35,0.0,2.77,0.03],[0.34,15.68,24.0,20.9,20.8,21.01,31.9,16.25,11.85,29.78,22.27,26.11,10.3,11.9,3.38,35.49,20.1],[12.0,0.0,1.9,0.0,7.0,0.0,0.0,0.0,0.0,0.0,0.0,0.0,0.0,29.0,1.7,0.2,0.0],[0.06,0.28,0.57,0.57,0.59,0.59,0.29,0.65,0.14,0.58,0.44,0.48,0.33,0.14,0.06,0.56,0.28],[10.57,14.02,13.43,13.4,13.41,13.36,14.21,13.04,10.35,13.07,13.38,13.4,9.3,13.68,14.03,13.42,11.62],[0.0,0.0,0.0,0.0,0.0,0.0,0.0,0.0,0.0,0.0,0.0,0.0,0.0,0.0,0.0,0.0,0.0],[0.06,null,null,null,null,null,8.78,null,0.63,0.91,null,null,null,null,0.89,null,null],[0.0,0.96,0.0,0.04,0.01,0.0,0.8,0.0,0.14,0.01,0.06,0.0,0.0,0.0,0.04,0.03,1.0],[0.0,0.02,0.06,0.1,0.06,0.07,0.04,0.09,0.07,0.17,0.07,0.12,0.02,0.04,0.01,0.05,0.05],[0.0,0.58,0.0,0.0,0.0,0.0,0.22,0.0,0.0,0.0,0.0,0.0,0.0,0.0,0.05,0.0,0.27],[0.12,0.06,0.6,0.46,1.02,0.69,0.1,0.74,0.15,0.66,0.73,0.78,0.11,0.25,0.14,0.57,0.15],[0.03,0.0,0.02,0.04,0.15,0.0,0.11,0.02,0.01,0.0,0.05,0.02,0.0,0.4,0.02,0.23,0.1],[0.26,1.19,2.41,2.39,2.46,2.48,1.23,2.72,0.57,2.41,1.86,2.01,1.38,0.6,0.27,2.36,1.15],[0.05,24.09,50.7,50.4,51.6,47.1,18.2,63.3,9.32,48.1,36.5,26.3,0.79,5.9,3.57,46.34,21.8],[0.0,0.64,0.0,0.0,0.0,0.0,0.4,0.0,0.0,0.0,0.0,0.0,0.0,0.0,0.09,0.0,0.47],[0.0,0.25,0.03,0.78,0.14,0.04,0.9,0.15,0.05,0.04,0.21,0.09,0.02,0.13,0.12,0.01,0.4],[0.0,0.0,0.0,0.0,0.0,0.0,0.0,0.0,0.0,0.0,0.0,0.0,0.0,0.0,0.0,0.0,0.0],[0.0,0.28,0.0,0.01,0.02,0.0,0.22,0.0,0.28,0.0,0.01,0.0,0.0,0.07,0.03,0.04,0.3],[7.32,0.0,0.0,0.0,0.0,0.0,0.0,0.0,0.0,0.0,0.0,0.0,0.07,1.88,0.0,0.07,0.0],[0.12,9.24,13.24,11.03,10.45,10.78,16.77,7.95,6.75,14.87,10.95,12.67,4.08,5.85,1.74,20.44,10.51],[0.36,0.0,1.08,5.03,1.59,0.0,0.0,0.0,0.0,2.9,0.0,0.0,2.84,0.39,0.0,1.3,0.0],[0.02,1.37,0.87,0.64,1.11,1.01,2.28,0.47,0.71,1.12,0.91,0.99,0.28,0.74,0.28,2.28,1.43],[0.01,0.55,4.51,2.21,1.94,2.31,1.06,2.27,0.71,3.52,2.24,2.47,0.47,0.98,0.1,5.14,0.67],[0.02,1.15,1.21,1.12,1.27,1.13,2.02,0.75,0.89,1.48,1.15,1.33,0.47,0.55,0.19,2.46,1.27],[0.0,0.0,0.0,0.0,0.0,0.0,0.0,0.0,0.0,0.0,0.0,0.0,0.0,0.0,4.68,0.0,0.0],[0.01,0.48,0.53,0.49,0.46,0.49,0.96,0.41,0.26,0.72,0.52,0.69,0.2,0.32,0.08,0.82,0.53],[0.01,0.0,0.0,0.0,0.06,0.0,0.0,0.01,0.01,0.0,0.0,0.0,0.0,0.0,0.0,0.0,0.0],[0.01,0.0,0.81,0.79,0.69,0.58,0.04,0.46,0.1,0.9,0.46,1.9,0.12,0.44,0.04,0.59,0.04],[0.0,1.73,0.0,0.0,0.0,0.0,0.46,0.0,0.0,0.0,0.0,0.0,0.0,0.0,0.11,0.0,0.56],[0.0,0.93,0.0,0.0,0.05,0.0,0.57,0.0,0.0,0.05,0.0,0.0,0.0,0.0,0.13,0.23,0.68],[0.0,0.0,0.0,0.0,0.0,0.0,0.0,0.0,0.0,0.0,0.0,0.0,0.0,0.0,0.0,0.0,0.0],[1.54,0.0,5.76,7.96,10.3,3.1,0.0,7.7,0.0,10.53,0.0,5.8,5.32,1.5,0.0,6.93,0.0],[0.0,0.0,0.0,0.0,0.0,0.0,0.0,0.0,0.0,0.0,0.0,0.0,0.0,0.0,0.0,0.0,0.0],[0.01,0.22,0.51,0.61,0.5,0.5,0.6,0.29,0.21,0.34,0.53,0.69,0.09,0.2,0.09,0.52,0.4],[0.04,0.0,0.11,0.79,0.25,0.53,0.1,0.66,0.08,0.44,0.43,1.27,0.08,0.2,0.04,0.09,0.2],[0.1,0.0,0.21,1.41,1.19,0.0,0.45,0.0,1.6,2.9,0.0,0.0,0.5,0.3,0.35,0.6,0.31],[0.0,0.0,0.01,0.01,0.02,0.01,0.0,0.06,0.02,0.03,0.02,0.06,0.0,0.0,0.0,0.01,0.0],[0.35,4.08,8.42,9.37,4.93,7.07,7.05,4.92,3.12,20.83,9.11,11.18,3.03,3.95,0.69,10.64,5.57],[0.0,0.0,0.0,0.02,0.0,0.0,0.0,0.0,0.0,0.02,0.0,0.0,0.03,0.01,0.0,0.0,0.0],[0.42,0.0,0.0,0.0,0.0,0.0,0.0,0.0,0.0,0.0,0.0,0.0,0.0,0.0,0.0,0.0,0.0],[0.3,0.14,0.2,0.2,0.21,0.21,0.18,0.22,0.26,0.13,0.2,0.2,0.38,0.05,0.14,0.2,0.52],[9.91,0.0,0.0,0.0,0.0,0.0,0.0,0.0,1.53,0.0,0.0,0.0,0.14,3.32,0.02,0.15,0.0],[0.0,0.28,0.0,0.0,0.0,0.0,0.2,0.0,0.28,0.0,0.0,0.0,0.0,0.0,0.03,0.0,0.28],[0.01,0.0,0.14,0.56,0.21,0.0,0.0,0.0,0.0,1.45,0.0,0.0,0.36,0.06,0.0,0.17,0.0],[2.59,0.0,0.0,0.0,0.0,0.0,0.0,0.0,1.53,0.0,0.0,0.0,0.07,1.45,0.01,0.08,0.0],[0.0,0.88,0.0,0.0,0.0,0.0,0.62,0.0,0.0,0.0,0.0,0.0,0.0,0.0,0.15,0.0,0.74],[0.01,0.87,0.84,0.72,0.65,0.68,1.47,0.43,0.47,1.21,0.59,0.7,0.31,0.43,0.16,1.28,0.93],[0.0,0.0,0.0,0.0,0.0,0.0,0.0,0.0,0.0,0.0,0.0,0.0,0.0,0.0,0.0,0.0,0.0],[14.35,0.81,7.3,10.2,11.55,22.18,0.0,5.97,1.53,7.48,7.71,34.74,68.96,10.4,4.7,2.74,0.0],[0.3,0.25,3.6,4.52,1.45,1.84,0.1,1.42,0.08,15.4,2.56,5.0,1.3,1.5,0.09,1.72,1.2],[0.49,0.8,12.47,0.25,5.2,0.32,0.55,22.2,1.96,10.03,0.0,37.2,0.8,0.3,0.07,4.0,0.4],[0.32,2.62,4.4,5.3,2.7,2.53,5.1,2.48,0.94,2.22,3.32,3.28,0.47,1.0,0.74,1.4,4.18],[0.0,0.0,0.0,0.0,0.0,0.0,0.0,0.0,0.0,0.0,0.0,0.0,0.0,0.0,0.0,0.0,0.0],[0.6,0.0,1.08,1.68,1.59,0.0,0.0,0.0,0.0,1.6,0.0,0.0,1.28,1.11,0.0,1.3,0.0],[0.01,0.89,0.89,1.25,1.07,0.98,1.47,0.71,0.64,1.57,1.11,1.29,0.48,0.56,0.15,1.53,0.93],[0.48,0.0,1.44,3.22,0.31,0.0,0.0,0.0,0.0,1.21,0.0,0.0,1.78,1.5,0.0,1.73,0.0],[0.0,1.46,0.04,0.01,0.04,0.02,1.1,0.03,0.18,0.01,0.02,0.05,0.09,0.02,0.1,0.08,1.2],[0.25,0.14,9.2,10.0,7.3,6.41,0.4,3.43,1.83,1.81,6.75,5.72,1.0,3.1,0.06,4.89,0.3],[0.01,0.13,0.15,0.23,0.25,0.21,0.2,0.16,0.18,0.38,0.22,0.28,0.13,0.03,0.03,0.16,0.21],[0.0,0.0,0.0,0.0,0.0,0.0,0.0,0.0,0.0,0.0,0.0,0.0,0.0,0.0,0.01,0.0,0.0],[0.04,1.04,4.25,7.78,3.34,5.15,4.5,2.08,1.49,2.83,4.17,5.76,3.3,0.28,0.4,6.15,3.0],[0.0,-0.0,-0.0,-0.0,0.0,0.0,-0.0,0.0,-0.0,-0.0,-0.0,-0.0,-0.0,0.0,-0.0,-0.0,-0.0],[0.01,0.15,0.05,0.05,0.07,0.07,0.19,0.07,0.06,0.04,0.04,0.05,0.04,0.05,0.04,0.05,0.14],[0.0,0.01,0.0,0.0,0.0,0.0,0.01,0.0,0.0,0.0,0.0,0.0,0.0,0.0,0.0,0.0,0.01],[0.0,0.0,0.0,0.0,0.0,0.0,0.0,0.0,0.0,0.0,0.0,0.0,0.0,0.0,0.0,0.0,0.0],[0.0,0.1,0.08,0.08,0.01,0.01,0.08,0.01,0.04,0.05,0.08,0.08,0.24,0.05,0.01,0.08,0.05],[0.0,0.0,0.0,0.0,0.0,0.0,0.0,0.0,0.0,0.0,0.0,0.0,0.0,0.0,0.0,0.0,0.0],[0.0,0.0,0.0,0.0,0.0,0.0,0.0,0.0,0.0,0.0,0.0,0.0,0.0,0.0,0.0,0.0,0.0],[0.0,0.0,0.0,0.0,0.0,0.0,0.0,0.0,0.0,0.0,0.0,0.0,0.0,0.0,0.0,0.0,0.0],[0.0,0.0,0.0,0.0,0.0,0.0,0.0,0.0,0.0,0.0,0.0,0.0,0.0,0.0,0.0,0.0,0.0],[0.0,0.0,0.0,0.0,0.0,0.0,0.0,0.0,0.0,0.0,0.0,0.0,0.0,0.0,0.0,0.0,0.0],[0.0,0.0,0.0,0.0,0.0,0.0,0.0,0.0,0.0,0.0,0.0,0.0,0.0,0.0,0.0,0.0,0.0],[0.01,0.03,0.02,0.02,0.15,0.15,0.03,0.15,0.01,0.01,0.01,0.02,0.01,0.02,0.01,0.02,0.02],[0.0,0.0,0.0,0.0,0.0,0.0,0.0,0.0,0.0,0.0,0.0,0.0,0.0,-0.0,-0.0,0.0,0.0],[0.0,0.0,0.0,0.0,0.0,0.0,0.0,0.0,0.0,0.0,0.0,0.0,0.0,0.0,0.0,0.0,0.0],[0.0,0.0,0.0,0.0,0.0,0.0,0.0,0.0,0.0,0.0,0.0,0.0,0.0,0.0,0.0,0.0,0.0],[0.0,0.0,0.0,0.0,0.0,0.0,0.0,0.0,0.0,0.0,0.0,0.0,0.0,-0.0,0.0,0.0,0.0],[0.0,0.0,0.0,0.0,0.0,0.0,0.0,0.0,0.0,0.0,0.0,0.0,0.0,0.0,0.0,0.0,0.0],[0.0,0.0,0.0,0.0,0.0,0.0,0.0,0.0,0.0,0.0,0.0,0.0,0.0,0.0,0.0,0.0,0.0],[2.01,0.0,7.2,11.18,10.61,3.1,0.0,7.7,0.0,11.74,22.7,5.8,7.1,3.0,0.0,8.66,0.0],[0.0,0.0,0.0,0.0,0.0,0.0,0.0,0.0,0.0,0.0,0.0,0.0,0.0,0.0,0.0,0.0,0.0],[0.0,0.0,0.0,0.0,0.0,0.0,0.0,0.0,0.0,0.0,0.0,0.0,0.0,0.0,0.0,0.0,0.0],[0.0,0.0,0.0,0.0,0.0,0.0,0.0,0.0,0.0,0.0,0.0,0.0,0.0,0.0,0.0,0.0,0.0]],\"texttemplate\":\"%{text}\"}],                        {\"template\":{\"data\":{\"histogram2dcontour\":[{\"type\":\"histogram2dcontour\",\"colorbar\":{\"outlinewidth\":0,\"ticks\":\"\"},\"colorscale\":[[0.0,\"#0d0887\"],[0.1111111111111111,\"#46039f\"],[0.2222222222222222,\"#7201a8\"],[0.3333333333333333,\"#9c179e\"],[0.4444444444444444,\"#bd3786\"],[0.5555555555555556,\"#d8576b\"],[0.6666666666666666,\"#ed7953\"],[0.7777777777777778,\"#fb9f3a\"],[0.8888888888888888,\"#fdca26\"],[1.0,\"#f0f921\"]]}],\"choropleth\":[{\"type\":\"choropleth\",\"colorbar\":{\"outlinewidth\":0,\"ticks\":\"\"}}],\"histogram2d\":[{\"type\":\"histogram2d\",\"colorbar\":{\"outlinewidth\":0,\"ticks\":\"\"},\"colorscale\":[[0.0,\"#0d0887\"],[0.1111111111111111,\"#46039f\"],[0.2222222222222222,\"#7201a8\"],[0.3333333333333333,\"#9c179e\"],[0.4444444444444444,\"#bd3786\"],[0.5555555555555556,\"#d8576b\"],[0.6666666666666666,\"#ed7953\"],[0.7777777777777778,\"#fb9f3a\"],[0.8888888888888888,\"#fdca26\"],[1.0,\"#f0f921\"]]}],\"heatmap\":[{\"type\":\"heatmap\",\"colorbar\":{\"outlinewidth\":0,\"ticks\":\"\"},\"colorscale\":[[0.0,\"#0d0887\"],[0.1111111111111111,\"#46039f\"],[0.2222222222222222,\"#7201a8\"],[0.3333333333333333,\"#9c179e\"],[0.4444444444444444,\"#bd3786\"],[0.5555555555555556,\"#d8576b\"],[0.6666666666666666,\"#ed7953\"],[0.7777777777777778,\"#fb9f3a\"],[0.8888888888888888,\"#fdca26\"],[1.0,\"#f0f921\"]]}],\"heatmapgl\":[{\"type\":\"heatmapgl\",\"colorbar\":{\"outlinewidth\":0,\"ticks\":\"\"},\"colorscale\":[[0.0,\"#0d0887\"],[0.1111111111111111,\"#46039f\"],[0.2222222222222222,\"#7201a8\"],[0.3333333333333333,\"#9c179e\"],[0.4444444444444444,\"#bd3786\"],[0.5555555555555556,\"#d8576b\"],[0.6666666666666666,\"#ed7953\"],[0.7777777777777778,\"#fb9f3a\"],[0.8888888888888888,\"#fdca26\"],[1.0,\"#f0f921\"]]}],\"contourcarpet\":[{\"type\":\"contourcarpet\",\"colorbar\":{\"outlinewidth\":0,\"ticks\":\"\"}}],\"contour\":[{\"type\":\"contour\",\"colorbar\":{\"outlinewidth\":0,\"ticks\":\"\"},\"colorscale\":[[0.0,\"#0d0887\"],[0.1111111111111111,\"#46039f\"],[0.2222222222222222,\"#7201a8\"],[0.3333333333333333,\"#9c179e\"],[0.4444444444444444,\"#bd3786\"],[0.5555555555555556,\"#d8576b\"],[0.6666666666666666,\"#ed7953\"],[0.7777777777777778,\"#fb9f3a\"],[0.8888888888888888,\"#fdca26\"],[1.0,\"#f0f921\"]]}],\"surface\":[{\"type\":\"surface\",\"colorbar\":{\"outlinewidth\":0,\"ticks\":\"\"},\"colorscale\":[[0.0,\"#0d0887\"],[0.1111111111111111,\"#46039f\"],[0.2222222222222222,\"#7201a8\"],[0.3333333333333333,\"#9c179e\"],[0.4444444444444444,\"#bd3786\"],[0.5555555555555556,\"#d8576b\"],[0.6666666666666666,\"#ed7953\"],[0.7777777777777778,\"#fb9f3a\"],[0.8888888888888888,\"#fdca26\"],[1.0,\"#f0f921\"]]}],\"mesh3d\":[{\"type\":\"mesh3d\",\"colorbar\":{\"outlinewidth\":0,\"ticks\":\"\"}}],\"scatter\":[{\"fillpattern\":{\"fillmode\":\"overlay\",\"size\":10,\"solidity\":0.2},\"type\":\"scatter\"}],\"parcoords\":[{\"type\":\"parcoords\",\"line\":{\"colorbar\":{\"outlinewidth\":0,\"ticks\":\"\"}}}],\"scatterpolargl\":[{\"type\":\"scatterpolargl\",\"marker\":{\"colorbar\":{\"outlinewidth\":0,\"ticks\":\"\"}}}],\"bar\":[{\"error_x\":{\"color\":\"#2a3f5f\"},\"error_y\":{\"color\":\"#2a3f5f\"},\"marker\":{\"line\":{\"color\":\"#E5ECF6\",\"width\":0.5},\"pattern\":{\"fillmode\":\"overlay\",\"size\":10,\"solidity\":0.2}},\"type\":\"bar\"}],\"scattergeo\":[{\"type\":\"scattergeo\",\"marker\":{\"colorbar\":{\"outlinewidth\":0,\"ticks\":\"\"}}}],\"scatterpolar\":[{\"type\":\"scatterpolar\",\"marker\":{\"colorbar\":{\"outlinewidth\":0,\"ticks\":\"\"}}}],\"histogram\":[{\"marker\":{\"pattern\":{\"fillmode\":\"overlay\",\"size\":10,\"solidity\":0.2}},\"type\":\"histogram\"}],\"scattergl\":[{\"type\":\"scattergl\",\"marker\":{\"colorbar\":{\"outlinewidth\":0,\"ticks\":\"\"}}}],\"scatter3d\":[{\"type\":\"scatter3d\",\"line\":{\"colorbar\":{\"outlinewidth\":0,\"ticks\":\"\"}},\"marker\":{\"colorbar\":{\"outlinewidth\":0,\"ticks\":\"\"}}}],\"scattermapbox\":[{\"type\":\"scattermapbox\",\"marker\":{\"colorbar\":{\"outlinewidth\":0,\"ticks\":\"\"}}}],\"scatterternary\":[{\"type\":\"scatterternary\",\"marker\":{\"colorbar\":{\"outlinewidth\":0,\"ticks\":\"\"}}}],\"scattercarpet\":[{\"type\":\"scattercarpet\",\"marker\":{\"colorbar\":{\"outlinewidth\":0,\"ticks\":\"\"}}}],\"carpet\":[{\"aaxis\":{\"endlinecolor\":\"#2a3f5f\",\"gridcolor\":\"white\",\"linecolor\":\"white\",\"minorgridcolor\":\"white\",\"startlinecolor\":\"#2a3f5f\"},\"baxis\":{\"endlinecolor\":\"#2a3f5f\",\"gridcolor\":\"white\",\"linecolor\":\"white\",\"minorgridcolor\":\"white\",\"startlinecolor\":\"#2a3f5f\"},\"type\":\"carpet\"}],\"table\":[{\"cells\":{\"fill\":{\"color\":\"#EBF0F8\"},\"line\":{\"color\":\"white\"}},\"header\":{\"fill\":{\"color\":\"#C8D4E3\"},\"line\":{\"color\":\"white\"}},\"type\":\"table\"}],\"barpolar\":[{\"marker\":{\"line\":{\"color\":\"#E5ECF6\",\"width\":0.5},\"pattern\":{\"fillmode\":\"overlay\",\"size\":10,\"solidity\":0.2}},\"type\":\"barpolar\"}],\"pie\":[{\"automargin\":true,\"type\":\"pie\"}]},\"layout\":{\"autotypenumbers\":\"strict\",\"colorway\":[\"#636efa\",\"#EF553B\",\"#00cc96\",\"#ab63fa\",\"#FFA15A\",\"#19d3f3\",\"#FF6692\",\"#B6E880\",\"#FF97FF\",\"#FECB52\"],\"font\":{\"color\":\"#2a3f5f\"},\"hovermode\":\"closest\",\"hoverlabel\":{\"align\":\"left\"},\"paper_bgcolor\":\"white\",\"plot_bgcolor\":\"#E5ECF6\",\"polar\":{\"bgcolor\":\"#E5ECF6\",\"angularaxis\":{\"gridcolor\":\"white\",\"linecolor\":\"white\",\"ticks\":\"\"},\"radialaxis\":{\"gridcolor\":\"white\",\"linecolor\":\"white\",\"ticks\":\"\"}},\"ternary\":{\"bgcolor\":\"#E5ECF6\",\"aaxis\":{\"gridcolor\":\"white\",\"linecolor\":\"white\",\"ticks\":\"\"},\"baxis\":{\"gridcolor\":\"white\",\"linecolor\":\"white\",\"ticks\":\"\"},\"caxis\":{\"gridcolor\":\"white\",\"linecolor\":\"white\",\"ticks\":\"\"}},\"coloraxis\":{\"colorbar\":{\"outlinewidth\":0,\"ticks\":\"\"}},\"colorscale\":{\"sequential\":[[0.0,\"#0d0887\"],[0.1111111111111111,\"#46039f\"],[0.2222222222222222,\"#7201a8\"],[0.3333333333333333,\"#9c179e\"],[0.4444444444444444,\"#bd3786\"],[0.5555555555555556,\"#d8576b\"],[0.6666666666666666,\"#ed7953\"],[0.7777777777777778,\"#fb9f3a\"],[0.8888888888888888,\"#fdca26\"],[1.0,\"#f0f921\"]],\"sequentialminus\":[[0.0,\"#0d0887\"],[0.1111111111111111,\"#46039f\"],[0.2222222222222222,\"#7201a8\"],[0.3333333333333333,\"#9c179e\"],[0.4444444444444444,\"#bd3786\"],[0.5555555555555556,\"#d8576b\"],[0.6666666666666666,\"#ed7953\"],[0.7777777777777778,\"#fb9f3a\"],[0.8888888888888888,\"#fdca26\"],[1.0,\"#f0f921\"]],\"diverging\":[[0,\"#8e0152\"],[0.1,\"#c51b7d\"],[0.2,\"#de77ae\"],[0.3,\"#f1b6da\"],[0.4,\"#fde0ef\"],[0.5,\"#f7f7f7\"],[0.6,\"#e6f5d0\"],[0.7,\"#b8e186\"],[0.8,\"#7fbc41\"],[0.9,\"#4d9221\"],[1,\"#276419\"]]},\"xaxis\":{\"gridcolor\":\"white\",\"linecolor\":\"white\",\"ticks\":\"\",\"title\":{\"standoff\":15},\"zerolinecolor\":\"white\",\"automargin\":true,\"zerolinewidth\":2},\"yaxis\":{\"gridcolor\":\"white\",\"linecolor\":\"white\",\"ticks\":\"\",\"title\":{\"standoff\":15},\"zerolinecolor\":\"white\",\"automargin\":true,\"zerolinewidth\":2},\"scene\":{\"xaxis\":{\"backgroundcolor\":\"#E5ECF6\",\"gridcolor\":\"white\",\"linecolor\":\"white\",\"showbackground\":true,\"ticks\":\"\",\"zerolinecolor\":\"white\",\"gridwidth\":2},\"yaxis\":{\"backgroundcolor\":\"#E5ECF6\",\"gridcolor\":\"white\",\"linecolor\":\"white\",\"showbackground\":true,\"ticks\":\"\",\"zerolinecolor\":\"white\",\"gridwidth\":2},\"zaxis\":{\"backgroundcolor\":\"#E5ECF6\",\"gridcolor\":\"white\",\"linecolor\":\"white\",\"showbackground\":true,\"ticks\":\"\",\"zerolinecolor\":\"white\",\"gridwidth\":2}},\"shapedefaults\":{\"line\":{\"color\":\"#2a3f5f\"}},\"annotationdefaults\":{\"arrowcolor\":\"#2a3f5f\",\"arrowhead\":0,\"arrowwidth\":1},\"geo\":{\"bgcolor\":\"white\",\"landcolor\":\"#E5ECF6\",\"subunitcolor\":\"white\",\"showland\":true,\"showlakes\":true,\"lakecolor\":\"white\"},\"title\":{\"x\":0.05},\"mapbox\":{\"style\":\"light\"}}},\"xaxis\":{\"anchor\":\"y\",\"domain\":[0.0,1.0],\"title\":{\"text\":\" \"},\"side\":\"top\"},\"yaxis\":{\"anchor\":\"x\",\"domain\":[0.0,1.0],\"autorange\":\"reversed\"},\"coloraxis\":{\"colorscale\":[[0.0,\"rgb(0, 1, 0)\"],[0.1,\"rgb(11, 25, 39)\"],[0.2,\"rgb(17, 48, 77)\"],[0.3,\"rgb(27, 73, 117)\"],[0.4,\"rgb(46, 98, 160)\"],[0.5,\"rgb(78, 125, 199)\"],[0.6,\"rgb(111, 146, 202)\"],[0.7,\"rgb(144, 166, 201)\"],[0.8,\"rgb(176, 185, 200)\"],[0.9,\"rgb(215, 215, 216)\"],[1.0,\"rgb(255, 255, 255)\"]],\"showscale\":false},\"margin\":{\"t\":200},\"height\":2500,\"width\":1000,\"title\":{\"text\":\"Comparison of the chosen parameters for the chosen food products (per 100g product). <br> Dark color signifies low values in comparison with the other chosen products, <br> bright colors signify high values.\",\"y\":0.99}},                        {\"responsive\": true}                    ).then(function(){\n",
       "                            \n",
       "var gd = document.getElementById('c0e6b248-4542-4b41-a1a8-a70bd22fb026');\n",
       "var x = new MutationObserver(function (mutations, observer) {{\n",
       "        var display = window.getComputedStyle(gd).display;\n",
       "        if (!display || display === 'none') {{\n",
       "            console.log([gd, 'removed!']);\n",
       "            Plotly.purge(gd);\n",
       "            observer.disconnect();\n",
       "        }}\n",
       "}});\n",
       "\n",
       "// Listen for the removal of the full notebook cells\n",
       "var notebookContainer = gd.closest('#notebook-container');\n",
       "if (notebookContainer) {{\n",
       "    x.observe(notebookContainer, {childList: true});\n",
       "}}\n",
       "\n",
       "// Listen for the clearing of the current output cell\n",
       "var outputEl = gd.closest('.output');\n",
       "if (outputEl) {{\n",
       "    x.observe(outputEl, {childList: true});\n",
       "}}\n",
       "\n",
       "                        })                };                });            </script>        </div>"
      ]
     },
     "metadata": {},
     "output_type": "display_data"
    },
    {
     "data": {
      "text/plain": [
       "<Figure size 2000x2000 with 0 Axes>"
      ]
     },
     "metadata": {},
     "output_type": "display_data"
    }
   ],
   "source": [
    "# create heatmpa with values 0-1 and annitate original values of df dapro\n",
    "# dataframes are transposed to have food items as columns\n",
    "\n",
    "annotations = ((df_dapro.T).to_numpy()).round(2)\n",
    "title_text =  'Comparison of the chosen parameters for the chosen food products (per 100g product). <br> Dark color signifies low values in comparison with the other chosen products, <br> bright colors signify high values.'\n",
    "\n",
    "\n",
    "plt.figure(figsize=(20, 20))\n",
    "fig = px.imshow(df.T, text_auto=False, aspect=\"auto\", width=1000,height=2500,\n",
    "    color_continuous_scale=oslo, \n",
    "               )\n",
    "\n",
    "# set labels on top\n",
    "fig.update_xaxes(side = \"top\")\n",
    "\n",
    "# set title and distance between title and plot\n",
    "fig.update_layout(title_text=title_text,title_y = 0.99, \n",
    "                          margin={'t': 200})\n",
    "\n",
    "# set annotations and format\n",
    "fig.update_traces(text=annotations, texttemplate=\"%{text}\")\n",
    "\n",
    "# do not show colorscale (legend)\n",
    "fig.update_coloraxes(showscale=False)\n",
    "\n",
    "fig.show()\n",
    "# fig.write_html(\"HeatmapGramALL1.html\")"
   ]
  },
  {
   "cell_type": "markdown",
   "id": "3443fde7",
   "metadata": {},
   "source": [
    "#### same as above for chosen parameters"
   ]
  },
  {
   "cell_type": "code",
   "execution_count": 22,
   "id": "5d1848f9",
   "metadata": {},
   "outputs": [
    {
     "data": {
      "application/vnd.plotly.v1+json": {
       "config": {
        "plotlyServerURL": "https://plot.ly"
       },
       "data": [
        {
         "coloraxis": "coloraxis",
         "hovertemplate": " : %{x}<br>y: %{y}<br>color: %{z}<extra></extra>",
         "name": "0",
         "text": [
          [
           0.3,
           0.14,
           0.2,
           0.2,
           0.21,
           0.21,
           0.18,
           0.22,
           0.26,
           0.13,
           0.2,
           0.2,
           0.38,
           0.05,
           0.14,
           0.2,
           0.52
          ],
          [
           18.01,
           null,
           null,
           null,
           null,
           null,
           560.52,
           null,
           57.77,
           185.23,
           null,
           null,
           null,
           null,
           62.82,
           null,
           null
          ],
          [
           0,
           0.08,
           0,
           0.01,
           0,
           0,
           0.05,
           0,
           0.01,
           0.01,
           0,
           0,
           0.01,
           0,
           0.01,
           0,
           0.02
          ],
          [
           0.05,
           0,
           1.03,
           1.46,
           1.18,
           2.06,
           0.05,
           1.6,
           0.06,
           0.77,
           1.2,
           1.89,
           0.15,
           0.1,
           0.01,
           0.83,
           0.07
          ],
          [
           0,
           0.02,
           0.24,
           0.35,
           0.16,
           0.26,
           0.03,
           0.16,
           0.01,
           0.16,
           0.32,
           0.34,
           0.03,
           0.02,
           0.01,
           0.28,
           0.02
          ],
          [
           0.04,
           0,
           4.3,
           1.46,
           0.46,
           1.96,
           0.04,
           3.46,
           0.07,
           1.6,
           2.26,
           2.38,
           0.6,
           0.35,
           0,
           2.77,
           0.03
          ],
          [
           12,
           0,
           1.9,
           0,
           7,
           0,
           0,
           0,
           0,
           0,
           0,
           0,
           0,
           29,
           1.7,
           0.2,
           0
          ],
          [
           0.12,
           0.06,
           0.6,
           0.46,
           1.02,
           0.69,
           0.1,
           0.74,
           0.15,
           0.66,
           0.73,
           0.78,
           0.11,
           0.25,
           0.14,
           0.57,
           0.15
          ],
          [
           0,
           0.1,
           0.08,
           0.08,
           0.01,
           0.01,
           0.08,
           0.01,
           0.04,
           0.05,
           0.08,
           0.08,
           0.24,
           0.05,
           0.01,
           0.08,
           0.05
          ],
          [
           0,
           0,
           0,
           0,
           0,
           0,
           0,
           0,
           0,
           0,
           0,
           0,
           0,
           0,
           0,
           0,
           0
          ]
         ],
         "texttemplate": "%{text}",
         "type": "heatmap",
         "x": [
          "Apple",
          "Feta",
          "Pine nut",
          "Sesame",
          "Pistachio",
          "Cashew nut",
          "Hard cheese",
          "Hazel nut",
          "Chicken",
          "Peanut",
          "Linseed",
          "Sunflower seed",
          "Durum wheat",
          "Soybeans",
          "Cow's milk",
          "Pumpkin seed",
          "Soft cheese"
         ],
         "xaxis": "x",
         "y": [
          "Protein_g/g",
          "Freshwater withdrawals per 100g (liters per 100g)",
          "Alanin_mg/100g",
          "Arginin_mg/100g",
          "Cystein_mg/100g",
          "Histidin_mg/100g",
          "Isoleucin_mg/100g",
          "Lysin_mg/100g",
          "Vitamin B12-Cobalamin_μg/100g",
          "Sodium_mg/100g"
         ],
         "yaxis": "y",
         "z": [
          [
           0.5421940928270041,
           0.19198312236286924,
           0.3333333333333333,
           0.32911392405063294,
           0.33755274261603374,
           0.35232067510548526,
           0.2805907172995781,
           0.36497890295358654,
           0.459915611814346,
           0.17510548523206754,
           0.3312236286919832,
           0.3248945147679325,
           0.7151898734177214,
           0,
           0.18776371308016881,
           0.33544303797468356,
           0.9999999999999999
          ],
          [
           0,
           null,
           null,
           null,
           null,
           null,
           0.9999999999999999,
           null,
           0.07328897163185932,
           0.3082339496046156,
           null,
           null,
           null,
           null,
           0.08259755580542297,
           null,
           null
          ],
          [
           0,
           1,
           0.015544041450777204,
           0.11917098445595854,
           0.0544041450777202,
           0.0544041450777202,
           0.6632124352331605,
           0.002590673575129534,
           0.11139896373056996,
           0.15803108808290153,
           0.015544041450777204,
           0.04145077720207254,
           0.05569948186528497,
           0.028497409326424868,
           0.1411917098445596,
           0.024611398963730567,
           0.2487046632124352
          ],
          [
           0.02524271844660194,
           0,
           0.5,
           0.7087378640776699,
           0.5728155339805825,
           1,
           0.024271844660194178,
           0.7766990291262137,
           0.03155339805825243,
           0.37233009708737863,
           0.5825242718446602,
           0.9174757281553397,
           0.07281553398058252,
           0.048543689320388356,
           0.0033980582524271844,
           0.40436893203883495,
           0.03398058252427185
          ],
          [
           0,
           0.03508771929824562,
           0.672514619883041,
           1,
           0.4473684210526316,
           0.7397660818713451,
           0.07309941520467836,
           0.4619883040935672,
           0.017543859649122806,
           0.45321637426900585,
           0.9298245614035089,
           0.9678362573099416,
           0.07309941520467836,
           0.05555555555555555,
           0.02046783625730994,
           0.8187134502923976,
           0.04385964912280702
          ],
          [
           0.009999999999999998,
           0,
           1,
           0.34069767441860466,
           0.10790697674418605,
           0.45581395348837206,
           0.009302325581395349,
           0.8046511627906977,
           0.01651162790697674,
           0.3730232558139535,
           0.5255813953488372,
           0.5534883720930233,
           0.13953488372093023,
           0.0813953488372093,
           0.00046511627906976747,
           0.643720930232558,
           0.0069767441860465115
          ],
          [
           0.41379310344827586,
           0,
           0.06551724137931034,
           0,
           0.24137931034482757,
           0,
           0,
           0,
           0,
           0,
           0,
           0,
           0,
           1,
           0.05862068965517241,
           0.006896551724137931,
           3.4482758620689657e-05
          ],
          [
           0.06438213914849428,
           0,
           0.5638629283489096,
           0.4164070612668743,
           0.9999999999999999,
           0.6562824506749739,
           0.0446521287642783,
           0.7144340602284527,
           0.09345794392523363,
           0.6261682242990654,
           0.6998961578400831,
           0.754932502596054,
           0.057113187954309454,
           0.2004153686396677,
           0.0861889927310488,
           0.5327102803738317,
           0.09657320872274142
          ],
          [
           0,
           0.3941247451420962,
           0.33162734573295044,
           0.33162734573295044,
           0.005326010069487786,
           0.005326010069487786,
           0.295011026505222,
           0.005326010069487786,
           0.16427412308076395,
           0.19997503432779928,
           0.29700828028127985,
           0.33162734573295044,
           0.9999999999999999,
           0.19323430283360377,
           0.04277451837057379,
           0.33162734573295044,
           0.20076561394748887
          ],
          [
           0,
           0.10829322880113207,
           0.14505837350715836,
           0.14505837350715836,
           1,
           1,
           0.6469934023288584,
           1,
           0.14262838755489007,
           0.08865190316377322,
           0.06739350978887557,
           0.14505837350715836,
           0.023504997254091692,
           0.47109087227807117,
           0.06717089084314576,
           0.14505837350715836,
           0.43451599306827643
          ]
         ]
        }
       ],
       "layout": {
        "coloraxis": {
         "colorscale": [
          [
           0,
           "rgb(0, 1, 0)"
          ],
          [
           0.1,
           "rgb(11, 25, 39)"
          ],
          [
           0.2,
           "rgb(17, 48, 77)"
          ],
          [
           0.3,
           "rgb(27, 73, 117)"
          ],
          [
           0.4,
           "rgb(46, 98, 160)"
          ],
          [
           0.5,
           "rgb(78, 125, 199)"
          ],
          [
           0.6,
           "rgb(111, 146, 202)"
          ],
          [
           0.7,
           "rgb(144, 166, 201)"
          ],
          [
           0.8,
           "rgb(176, 185, 200)"
          ],
          [
           0.9,
           "rgb(215, 215, 216)"
          ],
          [
           1,
           "rgb(255, 255, 255)"
          ]
         ],
         "showscale": false
        },
        "height": 750,
        "margin": {
         "t": 220
        },
        "template": {
         "data": {
          "bar": [
           {
            "error_x": {
             "color": "#2a3f5f"
            },
            "error_y": {
             "color": "#2a3f5f"
            },
            "marker": {
             "line": {
              "color": "#E5ECF6",
              "width": 0.5
             },
             "pattern": {
              "fillmode": "overlay",
              "size": 10,
              "solidity": 0.2
             }
            },
            "type": "bar"
           }
          ],
          "barpolar": [
           {
            "marker": {
             "line": {
              "color": "#E5ECF6",
              "width": 0.5
             },
             "pattern": {
              "fillmode": "overlay",
              "size": 10,
              "solidity": 0.2
             }
            },
            "type": "barpolar"
           }
          ],
          "carpet": [
           {
            "aaxis": {
             "endlinecolor": "#2a3f5f",
             "gridcolor": "white",
             "linecolor": "white",
             "minorgridcolor": "white",
             "startlinecolor": "#2a3f5f"
            },
            "baxis": {
             "endlinecolor": "#2a3f5f",
             "gridcolor": "white",
             "linecolor": "white",
             "minorgridcolor": "white",
             "startlinecolor": "#2a3f5f"
            },
            "type": "carpet"
           }
          ],
          "choropleth": [
           {
            "colorbar": {
             "outlinewidth": 0,
             "ticks": ""
            },
            "type": "choropleth"
           }
          ],
          "contour": [
           {
            "colorbar": {
             "outlinewidth": 0,
             "ticks": ""
            },
            "colorscale": [
             [
              0,
              "#0d0887"
             ],
             [
              0.1111111111111111,
              "#46039f"
             ],
             [
              0.2222222222222222,
              "#7201a8"
             ],
             [
              0.3333333333333333,
              "#9c179e"
             ],
             [
              0.4444444444444444,
              "#bd3786"
             ],
             [
              0.5555555555555556,
              "#d8576b"
             ],
             [
              0.6666666666666666,
              "#ed7953"
             ],
             [
              0.7777777777777778,
              "#fb9f3a"
             ],
             [
              0.8888888888888888,
              "#fdca26"
             ],
             [
              1,
              "#f0f921"
             ]
            ],
            "type": "contour"
           }
          ],
          "contourcarpet": [
           {
            "colorbar": {
             "outlinewidth": 0,
             "ticks": ""
            },
            "type": "contourcarpet"
           }
          ],
          "heatmap": [
           {
            "colorbar": {
             "outlinewidth": 0,
             "ticks": ""
            },
            "colorscale": [
             [
              0,
              "#0d0887"
             ],
             [
              0.1111111111111111,
              "#46039f"
             ],
             [
              0.2222222222222222,
              "#7201a8"
             ],
             [
              0.3333333333333333,
              "#9c179e"
             ],
             [
              0.4444444444444444,
              "#bd3786"
             ],
             [
              0.5555555555555556,
              "#d8576b"
             ],
             [
              0.6666666666666666,
              "#ed7953"
             ],
             [
              0.7777777777777778,
              "#fb9f3a"
             ],
             [
              0.8888888888888888,
              "#fdca26"
             ],
             [
              1,
              "#f0f921"
             ]
            ],
            "type": "heatmap"
           }
          ],
          "heatmapgl": [
           {
            "colorbar": {
             "outlinewidth": 0,
             "ticks": ""
            },
            "colorscale": [
             [
              0,
              "#0d0887"
             ],
             [
              0.1111111111111111,
              "#46039f"
             ],
             [
              0.2222222222222222,
              "#7201a8"
             ],
             [
              0.3333333333333333,
              "#9c179e"
             ],
             [
              0.4444444444444444,
              "#bd3786"
             ],
             [
              0.5555555555555556,
              "#d8576b"
             ],
             [
              0.6666666666666666,
              "#ed7953"
             ],
             [
              0.7777777777777778,
              "#fb9f3a"
             ],
             [
              0.8888888888888888,
              "#fdca26"
             ],
             [
              1,
              "#f0f921"
             ]
            ],
            "type": "heatmapgl"
           }
          ],
          "histogram": [
           {
            "marker": {
             "pattern": {
              "fillmode": "overlay",
              "size": 10,
              "solidity": 0.2
             }
            },
            "type": "histogram"
           }
          ],
          "histogram2d": [
           {
            "colorbar": {
             "outlinewidth": 0,
             "ticks": ""
            },
            "colorscale": [
             [
              0,
              "#0d0887"
             ],
             [
              0.1111111111111111,
              "#46039f"
             ],
             [
              0.2222222222222222,
              "#7201a8"
             ],
             [
              0.3333333333333333,
              "#9c179e"
             ],
             [
              0.4444444444444444,
              "#bd3786"
             ],
             [
              0.5555555555555556,
              "#d8576b"
             ],
             [
              0.6666666666666666,
              "#ed7953"
             ],
             [
              0.7777777777777778,
              "#fb9f3a"
             ],
             [
              0.8888888888888888,
              "#fdca26"
             ],
             [
              1,
              "#f0f921"
             ]
            ],
            "type": "histogram2d"
           }
          ],
          "histogram2dcontour": [
           {
            "colorbar": {
             "outlinewidth": 0,
             "ticks": ""
            },
            "colorscale": [
             [
              0,
              "#0d0887"
             ],
             [
              0.1111111111111111,
              "#46039f"
             ],
             [
              0.2222222222222222,
              "#7201a8"
             ],
             [
              0.3333333333333333,
              "#9c179e"
             ],
             [
              0.4444444444444444,
              "#bd3786"
             ],
             [
              0.5555555555555556,
              "#d8576b"
             ],
             [
              0.6666666666666666,
              "#ed7953"
             ],
             [
              0.7777777777777778,
              "#fb9f3a"
             ],
             [
              0.8888888888888888,
              "#fdca26"
             ],
             [
              1,
              "#f0f921"
             ]
            ],
            "type": "histogram2dcontour"
           }
          ],
          "mesh3d": [
           {
            "colorbar": {
             "outlinewidth": 0,
             "ticks": ""
            },
            "type": "mesh3d"
           }
          ],
          "parcoords": [
           {
            "line": {
             "colorbar": {
              "outlinewidth": 0,
              "ticks": ""
             }
            },
            "type": "parcoords"
           }
          ],
          "pie": [
           {
            "automargin": true,
            "type": "pie"
           }
          ],
          "scatter": [
           {
            "fillpattern": {
             "fillmode": "overlay",
             "size": 10,
             "solidity": 0.2
            },
            "type": "scatter"
           }
          ],
          "scatter3d": [
           {
            "line": {
             "colorbar": {
              "outlinewidth": 0,
              "ticks": ""
             }
            },
            "marker": {
             "colorbar": {
              "outlinewidth": 0,
              "ticks": ""
             }
            },
            "type": "scatter3d"
           }
          ],
          "scattercarpet": [
           {
            "marker": {
             "colorbar": {
              "outlinewidth": 0,
              "ticks": ""
             }
            },
            "type": "scattercarpet"
           }
          ],
          "scattergeo": [
           {
            "marker": {
             "colorbar": {
              "outlinewidth": 0,
              "ticks": ""
             }
            },
            "type": "scattergeo"
           }
          ],
          "scattergl": [
           {
            "marker": {
             "colorbar": {
              "outlinewidth": 0,
              "ticks": ""
             }
            },
            "type": "scattergl"
           }
          ],
          "scattermapbox": [
           {
            "marker": {
             "colorbar": {
              "outlinewidth": 0,
              "ticks": ""
             }
            },
            "type": "scattermapbox"
           }
          ],
          "scatterpolar": [
           {
            "marker": {
             "colorbar": {
              "outlinewidth": 0,
              "ticks": ""
             }
            },
            "type": "scatterpolar"
           }
          ],
          "scatterpolargl": [
           {
            "marker": {
             "colorbar": {
              "outlinewidth": 0,
              "ticks": ""
             }
            },
            "type": "scatterpolargl"
           }
          ],
          "scatterternary": [
           {
            "marker": {
             "colorbar": {
              "outlinewidth": 0,
              "ticks": ""
             }
            },
            "type": "scatterternary"
           }
          ],
          "surface": [
           {
            "colorbar": {
             "outlinewidth": 0,
             "ticks": ""
            },
            "colorscale": [
             [
              0,
              "#0d0887"
             ],
             [
              0.1111111111111111,
              "#46039f"
             ],
             [
              0.2222222222222222,
              "#7201a8"
             ],
             [
              0.3333333333333333,
              "#9c179e"
             ],
             [
              0.4444444444444444,
              "#bd3786"
             ],
             [
              0.5555555555555556,
              "#d8576b"
             ],
             [
              0.6666666666666666,
              "#ed7953"
             ],
             [
              0.7777777777777778,
              "#fb9f3a"
             ],
             [
              0.8888888888888888,
              "#fdca26"
             ],
             [
              1,
              "#f0f921"
             ]
            ],
            "type": "surface"
           }
          ],
          "table": [
           {
            "cells": {
             "fill": {
              "color": "#EBF0F8"
             },
             "line": {
              "color": "white"
             }
            },
            "header": {
             "fill": {
              "color": "#C8D4E3"
             },
             "line": {
              "color": "white"
             }
            },
            "type": "table"
           }
          ]
         },
         "layout": {
          "annotationdefaults": {
           "arrowcolor": "#2a3f5f",
           "arrowhead": 0,
           "arrowwidth": 1
          },
          "autotypenumbers": "strict",
          "coloraxis": {
           "colorbar": {
            "outlinewidth": 0,
            "ticks": ""
           }
          },
          "colorscale": {
           "diverging": [
            [
             0,
             "#8e0152"
            ],
            [
             0.1,
             "#c51b7d"
            ],
            [
             0.2,
             "#de77ae"
            ],
            [
             0.3,
             "#f1b6da"
            ],
            [
             0.4,
             "#fde0ef"
            ],
            [
             0.5,
             "#f7f7f7"
            ],
            [
             0.6,
             "#e6f5d0"
            ],
            [
             0.7,
             "#b8e186"
            ],
            [
             0.8,
             "#7fbc41"
            ],
            [
             0.9,
             "#4d9221"
            ],
            [
             1,
             "#276419"
            ]
           ],
           "sequential": [
            [
             0,
             "#0d0887"
            ],
            [
             0.1111111111111111,
             "#46039f"
            ],
            [
             0.2222222222222222,
             "#7201a8"
            ],
            [
             0.3333333333333333,
             "#9c179e"
            ],
            [
             0.4444444444444444,
             "#bd3786"
            ],
            [
             0.5555555555555556,
             "#d8576b"
            ],
            [
             0.6666666666666666,
             "#ed7953"
            ],
            [
             0.7777777777777778,
             "#fb9f3a"
            ],
            [
             0.8888888888888888,
             "#fdca26"
            ],
            [
             1,
             "#f0f921"
            ]
           ],
           "sequentialminus": [
            [
             0,
             "#0d0887"
            ],
            [
             0.1111111111111111,
             "#46039f"
            ],
            [
             0.2222222222222222,
             "#7201a8"
            ],
            [
             0.3333333333333333,
             "#9c179e"
            ],
            [
             0.4444444444444444,
             "#bd3786"
            ],
            [
             0.5555555555555556,
             "#d8576b"
            ],
            [
             0.6666666666666666,
             "#ed7953"
            ],
            [
             0.7777777777777778,
             "#fb9f3a"
            ],
            [
             0.8888888888888888,
             "#fdca26"
            ],
            [
             1,
             "#f0f921"
            ]
           ]
          },
          "colorway": [
           "#636efa",
           "#EF553B",
           "#00cc96",
           "#ab63fa",
           "#FFA15A",
           "#19d3f3",
           "#FF6692",
           "#B6E880",
           "#FF97FF",
           "#FECB52"
          ],
          "font": {
           "color": "#2a3f5f"
          },
          "geo": {
           "bgcolor": "white",
           "lakecolor": "white",
           "landcolor": "#E5ECF6",
           "showlakes": true,
           "showland": true,
           "subunitcolor": "white"
          },
          "hoverlabel": {
           "align": "left"
          },
          "hovermode": "closest",
          "mapbox": {
           "style": "light"
          },
          "paper_bgcolor": "white",
          "plot_bgcolor": "#E5ECF6",
          "polar": {
           "angularaxis": {
            "gridcolor": "white",
            "linecolor": "white",
            "ticks": ""
           },
           "bgcolor": "#E5ECF6",
           "radialaxis": {
            "gridcolor": "white",
            "linecolor": "white",
            "ticks": ""
           }
          },
          "scene": {
           "xaxis": {
            "backgroundcolor": "#E5ECF6",
            "gridcolor": "white",
            "gridwidth": 2,
            "linecolor": "white",
            "showbackground": true,
            "ticks": "",
            "zerolinecolor": "white"
           },
           "yaxis": {
            "backgroundcolor": "#E5ECF6",
            "gridcolor": "white",
            "gridwidth": 2,
            "linecolor": "white",
            "showbackground": true,
            "ticks": "",
            "zerolinecolor": "white"
           },
           "zaxis": {
            "backgroundcolor": "#E5ECF6",
            "gridcolor": "white",
            "gridwidth": 2,
            "linecolor": "white",
            "showbackground": true,
            "ticks": "",
            "zerolinecolor": "white"
           }
          },
          "shapedefaults": {
           "line": {
            "color": "#2a3f5f"
           }
          },
          "ternary": {
           "aaxis": {
            "gridcolor": "white",
            "linecolor": "white",
            "ticks": ""
           },
           "baxis": {
            "gridcolor": "white",
            "linecolor": "white",
            "ticks": ""
           },
           "bgcolor": "#E5ECF6",
           "caxis": {
            "gridcolor": "white",
            "linecolor": "white",
            "ticks": ""
           }
          },
          "title": {
           "x": 0.05
          },
          "xaxis": {
           "automargin": true,
           "gridcolor": "white",
           "linecolor": "white",
           "ticks": "",
           "title": {
            "standoff": 15
           },
           "zerolinecolor": "white",
           "zerolinewidth": 2
          },
          "yaxis": {
           "automargin": true,
           "gridcolor": "white",
           "linecolor": "white",
           "ticks": "",
           "title": {
            "standoff": 15
           },
           "zerolinecolor": "white",
           "zerolinewidth": 2
          }
         }
        },
        "title": {
         "text": "Comparison of the chosen parameters for the chosen food products (per 100g product). <br>Dark color signifies low values in comparison with the other chosen products, <br>bright colors signify high values.<br>The colours refer to each line separately (white = highest color of each row), so that<br>the values of different foods can be compared with each other.",
         "y": 0.95
        },
        "width": 1000,
        "xaxis": {
         "anchor": "y",
         "domain": [
          0,
          1
         ],
         "side": "top",
         "title": {
          "text": " "
         }
        },
        "yaxis": {
         "anchor": "x",
         "autorange": "reversed",
         "domain": [
          0,
          1
         ]
        }
       }
      },
      "text/html": [
       "<div>                            <div id=\"c8eeedca-8650-478f-ad22-99e69d33903d\" class=\"plotly-graph-div\" style=\"height:750px; width:1000px;\"></div>            <script type=\"text/javascript\">                require([\"plotly\"], function(Plotly) {                    window.PLOTLYENV=window.PLOTLYENV || {};                                    if (document.getElementById(\"c8eeedca-8650-478f-ad22-99e69d33903d\")) {                    Plotly.newPlot(                        \"c8eeedca-8650-478f-ad22-99e69d33903d\",                        [{\"coloraxis\":\"coloraxis\",\"name\":\"0\",\"x\":[\"Apple\",\"Feta\",\"Pine nut\",\"Sesame\",\"Pistachio\",\"Cashew nut\",\"Hard cheese\",\"Hazel nut\",\"Chicken\",\"Peanut\",\"Linseed\",\"Sunflower seed\",\"Durum wheat\",\"Soybeans\",\"Cow's milk\",\"Pumpkin seed\",\"Soft cheese\"],\"y\":[\"Protein_g/g\",\"Freshwater withdrawals per 100g (liters per 100g)\",\"Alanin_mg/100g\",\"Arginin_mg/100g\",\"Cystein_mg/100g\",\"Histidin_mg/100g\",\"Isoleucin_mg/100g\",\"Lysin_mg/100g\",\"Vitamin B12-Cobalamin_\\u03bcg/100g\",\"Sodium_mg/100g\"],\"z\":[[0.5421940928270041,0.19198312236286924,0.3333333333333333,0.32911392405063294,0.33755274261603374,0.35232067510548526,0.2805907172995781,0.36497890295358654,0.459915611814346,0.17510548523206754,0.3312236286919832,0.3248945147679325,0.7151898734177214,0.0,0.18776371308016881,0.33544303797468356,0.9999999999999999],[0.0,null,null,null,null,null,0.9999999999999999,null,0.07328897163185932,0.3082339496046156,null,null,null,null,0.08259755580542297,null,null],[0.0,1.0,0.015544041450777204,0.11917098445595854,0.0544041450777202,0.0544041450777202,0.6632124352331605,0.002590673575129534,0.11139896373056996,0.15803108808290153,0.015544041450777204,0.04145077720207254,0.05569948186528497,0.028497409326424868,0.1411917098445596,0.024611398963730567,0.2487046632124352],[0.02524271844660194,0.0,0.5,0.7087378640776699,0.5728155339805825,1.0,0.024271844660194178,0.7766990291262137,0.03155339805825243,0.37233009708737863,0.5825242718446602,0.9174757281553397,0.07281553398058252,0.048543689320388356,0.0033980582524271844,0.40436893203883495,0.03398058252427185],[0.0,0.03508771929824562,0.672514619883041,1.0,0.4473684210526316,0.7397660818713451,0.07309941520467836,0.4619883040935672,0.017543859649122806,0.45321637426900585,0.9298245614035089,0.9678362573099416,0.07309941520467836,0.05555555555555555,0.02046783625730994,0.8187134502923976,0.04385964912280702],[0.009999999999999998,0.0,1.0,0.34069767441860466,0.10790697674418605,0.45581395348837206,0.009302325581395349,0.8046511627906977,0.01651162790697674,0.3730232558139535,0.5255813953488372,0.5534883720930233,0.13953488372093023,0.0813953488372093,0.00046511627906976747,0.643720930232558,0.0069767441860465115],[0.41379310344827586,0.0,0.06551724137931034,0.0,0.24137931034482757,0.0,0.0,0.0,0.0,0.0,0.0,0.0,0.0,1.0,0.05862068965517241,0.006896551724137931,3.4482758620689657e-05],[0.06438213914849428,0.0,0.5638629283489096,0.4164070612668743,0.9999999999999999,0.6562824506749739,0.0446521287642783,0.7144340602284527,0.09345794392523363,0.6261682242990654,0.6998961578400831,0.754932502596054,0.057113187954309454,0.2004153686396677,0.0861889927310488,0.5327102803738317,0.09657320872274142],[0.0,0.3941247451420962,0.33162734573295044,0.33162734573295044,0.005326010069487786,0.005326010069487786,0.295011026505222,0.005326010069487786,0.16427412308076395,0.19997503432779928,0.29700828028127985,0.33162734573295044,0.9999999999999999,0.19323430283360377,0.04277451837057379,0.33162734573295044,0.20076561394748887],[0.0,0.10829322880113207,0.14505837350715836,0.14505837350715836,1.0,1.0,0.6469934023288584,1.0,0.14262838755489007,0.08865190316377322,0.06739350978887557,0.14505837350715836,0.023504997254091692,0.47109087227807117,0.06717089084314576,0.14505837350715836,0.43451599306827643]],\"type\":\"heatmap\",\"xaxis\":\"x\",\"yaxis\":\"y\",\"hovertemplate\":\" : %{x}<br>y: %{y}<br>color: %{z}<extra></extra>\",\"text\":[[0.3,0.14,0.2,0.2,0.21,0.21,0.18,0.22,0.26,0.13,0.2,0.2,0.38,0.05,0.14,0.2,0.52],[18.01,null,null,null,null,null,560.52,null,57.77,185.23,null,null,null,null,62.82,null,null],[0.0,0.08,0.0,0.01,0.0,0.0,0.05,0.0,0.01,0.01,0.0,0.0,0.01,0.0,0.01,0.0,0.02],[0.05,0.0,1.03,1.46,1.18,2.06,0.05,1.6,0.06,0.77,1.2,1.89,0.15,0.1,0.01,0.83,0.07],[0.0,0.02,0.24,0.35,0.16,0.26,0.03,0.16,0.01,0.16,0.32,0.34,0.03,0.02,0.01,0.28,0.02],[0.04,0.0,4.3,1.46,0.46,1.96,0.04,3.46,0.07,1.6,2.26,2.38,0.6,0.35,0.0,2.77,0.03],[12.0,0.0,1.9,0.0,7.0,0.0,0.0,0.0,0.0,0.0,0.0,0.0,0.0,29.0,1.7,0.2,0.0],[0.12,0.06,0.6,0.46,1.02,0.69,0.1,0.74,0.15,0.66,0.73,0.78,0.11,0.25,0.14,0.57,0.15],[0.0,0.1,0.08,0.08,0.01,0.01,0.08,0.01,0.04,0.05,0.08,0.08,0.24,0.05,0.01,0.08,0.05],[0.0,0.0,0.0,0.0,0.0,0.0,0.0,0.0,0.0,0.0,0.0,0.0,0.0,0.0,0.0,0.0,0.0]],\"texttemplate\":\"%{text}\"}],                        {\"template\":{\"data\":{\"histogram2dcontour\":[{\"type\":\"histogram2dcontour\",\"colorbar\":{\"outlinewidth\":0,\"ticks\":\"\"},\"colorscale\":[[0.0,\"#0d0887\"],[0.1111111111111111,\"#46039f\"],[0.2222222222222222,\"#7201a8\"],[0.3333333333333333,\"#9c179e\"],[0.4444444444444444,\"#bd3786\"],[0.5555555555555556,\"#d8576b\"],[0.6666666666666666,\"#ed7953\"],[0.7777777777777778,\"#fb9f3a\"],[0.8888888888888888,\"#fdca26\"],[1.0,\"#f0f921\"]]}],\"choropleth\":[{\"type\":\"choropleth\",\"colorbar\":{\"outlinewidth\":0,\"ticks\":\"\"}}],\"histogram2d\":[{\"type\":\"histogram2d\",\"colorbar\":{\"outlinewidth\":0,\"ticks\":\"\"},\"colorscale\":[[0.0,\"#0d0887\"],[0.1111111111111111,\"#46039f\"],[0.2222222222222222,\"#7201a8\"],[0.3333333333333333,\"#9c179e\"],[0.4444444444444444,\"#bd3786\"],[0.5555555555555556,\"#d8576b\"],[0.6666666666666666,\"#ed7953\"],[0.7777777777777778,\"#fb9f3a\"],[0.8888888888888888,\"#fdca26\"],[1.0,\"#f0f921\"]]}],\"heatmap\":[{\"type\":\"heatmap\",\"colorbar\":{\"outlinewidth\":0,\"ticks\":\"\"},\"colorscale\":[[0.0,\"#0d0887\"],[0.1111111111111111,\"#46039f\"],[0.2222222222222222,\"#7201a8\"],[0.3333333333333333,\"#9c179e\"],[0.4444444444444444,\"#bd3786\"],[0.5555555555555556,\"#d8576b\"],[0.6666666666666666,\"#ed7953\"],[0.7777777777777778,\"#fb9f3a\"],[0.8888888888888888,\"#fdca26\"],[1.0,\"#f0f921\"]]}],\"heatmapgl\":[{\"type\":\"heatmapgl\",\"colorbar\":{\"outlinewidth\":0,\"ticks\":\"\"},\"colorscale\":[[0.0,\"#0d0887\"],[0.1111111111111111,\"#46039f\"],[0.2222222222222222,\"#7201a8\"],[0.3333333333333333,\"#9c179e\"],[0.4444444444444444,\"#bd3786\"],[0.5555555555555556,\"#d8576b\"],[0.6666666666666666,\"#ed7953\"],[0.7777777777777778,\"#fb9f3a\"],[0.8888888888888888,\"#fdca26\"],[1.0,\"#f0f921\"]]}],\"contourcarpet\":[{\"type\":\"contourcarpet\",\"colorbar\":{\"outlinewidth\":0,\"ticks\":\"\"}}],\"contour\":[{\"type\":\"contour\",\"colorbar\":{\"outlinewidth\":0,\"ticks\":\"\"},\"colorscale\":[[0.0,\"#0d0887\"],[0.1111111111111111,\"#46039f\"],[0.2222222222222222,\"#7201a8\"],[0.3333333333333333,\"#9c179e\"],[0.4444444444444444,\"#bd3786\"],[0.5555555555555556,\"#d8576b\"],[0.6666666666666666,\"#ed7953\"],[0.7777777777777778,\"#fb9f3a\"],[0.8888888888888888,\"#fdca26\"],[1.0,\"#f0f921\"]]}],\"surface\":[{\"type\":\"surface\",\"colorbar\":{\"outlinewidth\":0,\"ticks\":\"\"},\"colorscale\":[[0.0,\"#0d0887\"],[0.1111111111111111,\"#46039f\"],[0.2222222222222222,\"#7201a8\"],[0.3333333333333333,\"#9c179e\"],[0.4444444444444444,\"#bd3786\"],[0.5555555555555556,\"#d8576b\"],[0.6666666666666666,\"#ed7953\"],[0.7777777777777778,\"#fb9f3a\"],[0.8888888888888888,\"#fdca26\"],[1.0,\"#f0f921\"]]}],\"mesh3d\":[{\"type\":\"mesh3d\",\"colorbar\":{\"outlinewidth\":0,\"ticks\":\"\"}}],\"scatter\":[{\"fillpattern\":{\"fillmode\":\"overlay\",\"size\":10,\"solidity\":0.2},\"type\":\"scatter\"}],\"parcoords\":[{\"type\":\"parcoords\",\"line\":{\"colorbar\":{\"outlinewidth\":0,\"ticks\":\"\"}}}],\"scatterpolargl\":[{\"type\":\"scatterpolargl\",\"marker\":{\"colorbar\":{\"outlinewidth\":0,\"ticks\":\"\"}}}],\"bar\":[{\"error_x\":{\"color\":\"#2a3f5f\"},\"error_y\":{\"color\":\"#2a3f5f\"},\"marker\":{\"line\":{\"color\":\"#E5ECF6\",\"width\":0.5},\"pattern\":{\"fillmode\":\"overlay\",\"size\":10,\"solidity\":0.2}},\"type\":\"bar\"}],\"scattergeo\":[{\"type\":\"scattergeo\",\"marker\":{\"colorbar\":{\"outlinewidth\":0,\"ticks\":\"\"}}}],\"scatterpolar\":[{\"type\":\"scatterpolar\",\"marker\":{\"colorbar\":{\"outlinewidth\":0,\"ticks\":\"\"}}}],\"histogram\":[{\"marker\":{\"pattern\":{\"fillmode\":\"overlay\",\"size\":10,\"solidity\":0.2}},\"type\":\"histogram\"}],\"scattergl\":[{\"type\":\"scattergl\",\"marker\":{\"colorbar\":{\"outlinewidth\":0,\"ticks\":\"\"}}}],\"scatter3d\":[{\"type\":\"scatter3d\",\"line\":{\"colorbar\":{\"outlinewidth\":0,\"ticks\":\"\"}},\"marker\":{\"colorbar\":{\"outlinewidth\":0,\"ticks\":\"\"}}}],\"scattermapbox\":[{\"type\":\"scattermapbox\",\"marker\":{\"colorbar\":{\"outlinewidth\":0,\"ticks\":\"\"}}}],\"scatterternary\":[{\"type\":\"scatterternary\",\"marker\":{\"colorbar\":{\"outlinewidth\":0,\"ticks\":\"\"}}}],\"scattercarpet\":[{\"type\":\"scattercarpet\",\"marker\":{\"colorbar\":{\"outlinewidth\":0,\"ticks\":\"\"}}}],\"carpet\":[{\"aaxis\":{\"endlinecolor\":\"#2a3f5f\",\"gridcolor\":\"white\",\"linecolor\":\"white\",\"minorgridcolor\":\"white\",\"startlinecolor\":\"#2a3f5f\"},\"baxis\":{\"endlinecolor\":\"#2a3f5f\",\"gridcolor\":\"white\",\"linecolor\":\"white\",\"minorgridcolor\":\"white\",\"startlinecolor\":\"#2a3f5f\"},\"type\":\"carpet\"}],\"table\":[{\"cells\":{\"fill\":{\"color\":\"#EBF0F8\"},\"line\":{\"color\":\"white\"}},\"header\":{\"fill\":{\"color\":\"#C8D4E3\"},\"line\":{\"color\":\"white\"}},\"type\":\"table\"}],\"barpolar\":[{\"marker\":{\"line\":{\"color\":\"#E5ECF6\",\"width\":0.5},\"pattern\":{\"fillmode\":\"overlay\",\"size\":10,\"solidity\":0.2}},\"type\":\"barpolar\"}],\"pie\":[{\"automargin\":true,\"type\":\"pie\"}]},\"layout\":{\"autotypenumbers\":\"strict\",\"colorway\":[\"#636efa\",\"#EF553B\",\"#00cc96\",\"#ab63fa\",\"#FFA15A\",\"#19d3f3\",\"#FF6692\",\"#B6E880\",\"#FF97FF\",\"#FECB52\"],\"font\":{\"color\":\"#2a3f5f\"},\"hovermode\":\"closest\",\"hoverlabel\":{\"align\":\"left\"},\"paper_bgcolor\":\"white\",\"plot_bgcolor\":\"#E5ECF6\",\"polar\":{\"bgcolor\":\"#E5ECF6\",\"angularaxis\":{\"gridcolor\":\"white\",\"linecolor\":\"white\",\"ticks\":\"\"},\"radialaxis\":{\"gridcolor\":\"white\",\"linecolor\":\"white\",\"ticks\":\"\"}},\"ternary\":{\"bgcolor\":\"#E5ECF6\",\"aaxis\":{\"gridcolor\":\"white\",\"linecolor\":\"white\",\"ticks\":\"\"},\"baxis\":{\"gridcolor\":\"white\",\"linecolor\":\"white\",\"ticks\":\"\"},\"caxis\":{\"gridcolor\":\"white\",\"linecolor\":\"white\",\"ticks\":\"\"}},\"coloraxis\":{\"colorbar\":{\"outlinewidth\":0,\"ticks\":\"\"}},\"colorscale\":{\"sequential\":[[0.0,\"#0d0887\"],[0.1111111111111111,\"#46039f\"],[0.2222222222222222,\"#7201a8\"],[0.3333333333333333,\"#9c179e\"],[0.4444444444444444,\"#bd3786\"],[0.5555555555555556,\"#d8576b\"],[0.6666666666666666,\"#ed7953\"],[0.7777777777777778,\"#fb9f3a\"],[0.8888888888888888,\"#fdca26\"],[1.0,\"#f0f921\"]],\"sequentialminus\":[[0.0,\"#0d0887\"],[0.1111111111111111,\"#46039f\"],[0.2222222222222222,\"#7201a8\"],[0.3333333333333333,\"#9c179e\"],[0.4444444444444444,\"#bd3786\"],[0.5555555555555556,\"#d8576b\"],[0.6666666666666666,\"#ed7953\"],[0.7777777777777778,\"#fb9f3a\"],[0.8888888888888888,\"#fdca26\"],[1.0,\"#f0f921\"]],\"diverging\":[[0,\"#8e0152\"],[0.1,\"#c51b7d\"],[0.2,\"#de77ae\"],[0.3,\"#f1b6da\"],[0.4,\"#fde0ef\"],[0.5,\"#f7f7f7\"],[0.6,\"#e6f5d0\"],[0.7,\"#b8e186\"],[0.8,\"#7fbc41\"],[0.9,\"#4d9221\"],[1,\"#276419\"]]},\"xaxis\":{\"gridcolor\":\"white\",\"linecolor\":\"white\",\"ticks\":\"\",\"title\":{\"standoff\":15},\"zerolinecolor\":\"white\",\"automargin\":true,\"zerolinewidth\":2},\"yaxis\":{\"gridcolor\":\"white\",\"linecolor\":\"white\",\"ticks\":\"\",\"title\":{\"standoff\":15},\"zerolinecolor\":\"white\",\"automargin\":true,\"zerolinewidth\":2},\"scene\":{\"xaxis\":{\"backgroundcolor\":\"#E5ECF6\",\"gridcolor\":\"white\",\"linecolor\":\"white\",\"showbackground\":true,\"ticks\":\"\",\"zerolinecolor\":\"white\",\"gridwidth\":2},\"yaxis\":{\"backgroundcolor\":\"#E5ECF6\",\"gridcolor\":\"white\",\"linecolor\":\"white\",\"showbackground\":true,\"ticks\":\"\",\"zerolinecolor\":\"white\",\"gridwidth\":2},\"zaxis\":{\"backgroundcolor\":\"#E5ECF6\",\"gridcolor\":\"white\",\"linecolor\":\"white\",\"showbackground\":true,\"ticks\":\"\",\"zerolinecolor\":\"white\",\"gridwidth\":2}},\"shapedefaults\":{\"line\":{\"color\":\"#2a3f5f\"}},\"annotationdefaults\":{\"arrowcolor\":\"#2a3f5f\",\"arrowhead\":0,\"arrowwidth\":1},\"geo\":{\"bgcolor\":\"white\",\"landcolor\":\"#E5ECF6\",\"subunitcolor\":\"white\",\"showland\":true,\"showlakes\":true,\"lakecolor\":\"white\"},\"title\":{\"x\":0.05},\"mapbox\":{\"style\":\"light\"}}},\"xaxis\":{\"anchor\":\"y\",\"domain\":[0.0,1.0],\"title\":{\"text\":\" \"},\"side\":\"top\"},\"yaxis\":{\"anchor\":\"x\",\"domain\":[0.0,1.0],\"autorange\":\"reversed\"},\"coloraxis\":{\"colorscale\":[[0.0,\"rgb(0, 1, 0)\"],[0.1,\"rgb(11, 25, 39)\"],[0.2,\"rgb(17, 48, 77)\"],[0.3,\"rgb(27, 73, 117)\"],[0.4,\"rgb(46, 98, 160)\"],[0.5,\"rgb(78, 125, 199)\"],[0.6,\"rgb(111, 146, 202)\"],[0.7,\"rgb(144, 166, 201)\"],[0.8,\"rgb(176, 185, 200)\"],[0.9,\"rgb(215, 215, 216)\"],[1.0,\"rgb(255, 255, 255)\"]],\"showscale\":false},\"margin\":{\"t\":220},\"height\":750,\"width\":1000,\"title\":{\"text\":\"Comparison of the chosen parameters for the chosen food products (per 100g product). <br>Dark color signifies low values in comparison with the other chosen products, <br>bright colors signify high values.<br>The colours refer to each line separately (white = highest color of each row), so that<br>the values of different foods can be compared with each other.\",\"y\":0.95}},                        {\"responsive\": true}                    ).then(function(){\n",
       "                            \n",
       "var gd = document.getElementById('c8eeedca-8650-478f-ad22-99e69d33903d');\n",
       "var x = new MutationObserver(function (mutations, observer) {{\n",
       "        var display = window.getComputedStyle(gd).display;\n",
       "        if (!display || display === 'none') {{\n",
       "            console.log([gd, 'removed!']);\n",
       "            Plotly.purge(gd);\n",
       "            observer.disconnect();\n",
       "        }}\n",
       "}});\n",
       "\n",
       "// Listen for the removal of the full notebook cells\n",
       "var notebookContainer = gd.closest('#notebook-container');\n",
       "if (notebookContainer) {{\n",
       "    x.observe(notebookContainer, {childList: true});\n",
       "}}\n",
       "\n",
       "// Listen for the clearing of the current output cell\n",
       "var outputEl = gd.closest('.output');\n",
       "if (outputEl) {{\n",
       "    x.observe(outputEl, {childList: true});\n",
       "}}\n",
       "\n",
       "                        })                };                });            </script>        </div>"
      ]
     },
     "metadata": {},
     "output_type": "display_data"
    },
    {
     "data": {
      "text/plain": [
       "<Figure size 2000x2000 with 0 Axes>"
      ]
     },
     "metadata": {},
     "output_type": "display_data"
    }
   ],
   "source": [
    "\n",
    "\n",
    "parameters = ['Protein_g/g',\n",
    "              'Freshwater withdrawals per 100g (liters per 100g)' , 'Alanin_mg/100g', 'Arginin_mg/100g', 'Cystein_mg/100g', 'Histidin_mg/100g', \n",
    "       'Isoleucin_mg/100g',  'Lysin_mg/100g', 'Vitamin B12-Cobalamin_μg/100g', 'Sodium_mg/100g']\n",
    "\n",
    "df_plot = df_dapro[parameters]\n",
    "df_n = df[parameters]\n",
    "\n",
    "annotations = ((df_plot.T).to_numpy()).round(2)\n",
    "title_text =  'Comparison of the chosen parameters for the chosen food products (per 100g product). <br>Dark color signifies low values in comparison with the other chosen products, <br>bright colors signify high values.<br>The colours refer to each line separately (white = highest color of each row), so that<br>the values of different foods can be compared with each other.'\n",
    "\n",
    "\n",
    "plt.figure(figsize=(20, 20))\n",
    "fig = px.imshow(df_n.T, text_auto=False, aspect=\"auto\", width=1000,height=750,\n",
    "    color_continuous_scale=oslo, \n",
    "#              ,   text = (df_dapro.T).to_numpy()\n",
    "               )\n",
    "fig.update_xaxes(side = \"top\")\n",
    "# fig['layout'].update(annotations=annotations)\n",
    "fig.update_layout(title_text=title_text,title_y = 0.95, \n",
    "                          margin={'t': 220})\n",
    "\n",
    "fig.update_traces(text=annotations, texttemplate=\"%{text}\")\n",
    "fig.update_coloraxes(showscale=False)\n",
    "\n",
    "fig.show()\n",
    "# fig.write_html(\"HeatmapGramSmall1.html\")"
   ]
  },
  {
   "cell_type": "markdown",
   "id": "50707cb9",
   "metadata": {},
   "source": [
    "#### Same as above but for the data per energy"
   ]
  },
  {
   "cell_type": "code",
   "execution_count": 23,
   "id": "af0ec31c",
   "metadata": {},
   "outputs": [
    {
     "data": {
      "application/vnd.plotly.v1+json": {
       "config": {
        "plotlyServerURL": "https://plot.ly"
       },
       "data": [
        {
         "coloraxis": "coloraxis",
         "hovertemplate": " : %{x}<br>y: %{y}<br>color: %{z}<extra></extra>",
         "name": "0",
         "text": [
          [
           0,
           0.57,
           0.01,
           0.05,
           0.02,
           0.02,
           0.29,
           0,
           0.04,
           0.1,
           0.01,
           0.02,
           0.01,
           0.07,
           0.09,
           0.01,
           0.04
          ],
          [
           6.03,
           125.22,
           49.83,
           50.32,
           72.78,
           70.39,
           85.52,
           68.46,
           35.86,
           60.56,
           49.32,
           50.83,
           10.51,
           119.06,
           21.63,
           49.59,
           21.22
          ],
          [
           0.17,
           0,
           5.05,
           7.23,
           5.73,
           9.67,
           0.28,
           7.31,
           0.25,
           5.95,
           5.91,
           9.45,
           0.39,
           2.17,
           0.05,
           4.06,
           0.13
          ],
          [
           0,
           0,
           0,
           0,
           0,
           0,
           0,
           0,
           0,
           0,
           0,
           0,
           0,
           0,
           0,
           0,
           0
          ],
          [
           10.73,
           0,
           0.72,
           1.01,
           11.21,
           104.13,
           0,
           27.26,
           0,
           20.43,
           37.98,
           173.7,
           1.79,
           13.98,
           0,
           3.72,
           0
          ],
          [
           1,
           1,
           1,
           1,
           1,
           1,
           1,
           1,
           1,
           1,
           1,
           1,
           1,
           1,
           1,
           1,
           1
          ],
          [
           0,
           1.83,
           0,
           0,
           0,
           0.02,
           1.15,
           0.03,
           0,
           0,
           0.03,
           0.02,
           0,
           0,
           0.34,
           0,
           0.48
          ],
          [
           0.02,
           0.12,
           1.15,
           1.72,
           0.77,
           1.21,
           0.17,
           0.74,
           0.04,
           1.24,
           1.59,
           1.68,
           0.08,
           0.52,
           0.09,
           1.39,
           0.04
          ],
          [
           0.05,
           6.57,
           4.85,
           4.92,
           5.99,
           5.14,
           9.31,
           3.25,
           3.45,
           14.43,
           5.45,
           5.78,
           1.38,
           14.93,
           1.38,
           6.96,
           2.02
          ],
          [
           10.73,
           0,
           0.72,
           1.01,
           11.21,
           104.13,
           0,
           27.26,
           0,
           20.43,
           37.98,
           173.7,
           1.79,
           13.98,
           34.7,
           3.72,
           0
          ],
          [
           2.83,
           0,
           0.71,
           2.77,
           1.03,
           0,
           0,
           0,
           0,
           28.06,
           0,
           0,
           1.29,
           8.48,
           0,
           0.84,
           0
          ],
          [
           0,
           0.66,
           2.01,
           1.29,
           1.93,
           1.95,
           0.9,
           1.48,
           0.93,
           3.39,
           2.09,
           2.32,
           0.54,
           2.13,
           0.19,
           1.91,
           0.2
          ],
          [
           1.62,
           5.8,
           61.13,
           1.24,
           25.24,
           28.18,
           3.07,
           111.96,
           7.42,
           77.73,
           78.82,
           194.2,
           2.08,
           6.52,
           0.52,
           19.51,
           0.77
          ],
          [
           0.04,
           14.38,
           6.15,
           5.62,
           4.16,
           3.76,
           19.7,
           2.63,
           1.77,
           11.28,
           4.18,
           6.04,
           3.08,
           12.26,
           2.39,
           6.09,
           4.23
          ],
          [
           0.05,
           0,
           0,
           0.31,
           0,
           0,
           0.06,
           0,
           0.02,
           0.57,
           0,
           0,
           0.21,
           0.91,
           0,
           0,
           0.02
          ],
          [
           0.72,
           62.77,
           52.74,
           48.87,
           50.23,
           48.03,
           84.53,
           37.89,
           19.32,
           115.53,
           55.77,
           67.2,
           16.16,
           131.48,
           12.15,
           73.42,
           18.45
          ],
          [
           0,
           0,
           0,
           0,
           0,
           0,
           0,
           0,
           0,
           0,
           0,
           0,
           1.08,
           46.61,
           0,
           0,
           0
          ],
          [
           0.06,
           3.94,
           6.03,
           5.62,
           4.47,
           4,
           4.83,
           3.49,
           2.67,
           6.39,
           5.25,
           5.78,
           0.95,
           11.74,
           0.79,
           7.13,
           1.05
          ],
          [
           0.11,
           26.72,
           19.51,
           18.54,
           21.51,
           21.76,
           37.97,
           17.56,
           5.44,
           44.4,
           23.14,
           29.76,
           8.19,
           50.67,
           5.22,
           26.97,
           8.12
          ],
          [
           0.43,
           8.83,
           10.41,
           6.81,
           9.33,
           9,
           10.03,
           7.51,
           4.39,
           26.1,
           10.96,
           12.48,
           1.32,
           30.67,
           1.9,
           15.31,
           2.41
          ],
          [
           0.59,
           0,
           23.29,
           16.6,
           33.99,
           0,
           0,
           0,
           0,
           16.84,
           0,
           0,
           5.53,
           22.83,
           0,
           27.88,
           0
          ],
          [
           0.04,
           2.34,
           5.79,
           7.36,
           4.77,
           4.38,
           2.69,
           3.44,
           1.59,
           12.93,
           6.78,
           7.38,
           1.24,
           11.2,
           0.47,
           10.96,
           0.62
          ],
          [
           0.01,
           3.14,
           1.89,
           3.18,
           1.73,
           1.71,
           4.12,
           0.96,
           1.35,
           2.44,
           2.19,
           2.83,
           0.41,
           2.67,
           0.71,
           3.3,
           0.89
          ],
          [
           0,
           0,
           0,
           0,
           0,
           0,
           0,
           0,
           0,
           0,
           0,
           0,
           0,
           0.02,
           0,
           0,
           0
          ],
          [
           1,
           1,
           1,
           1,
           1,
           1,
           1,
           1,
           1,
           1,
           1,
           1,
           1,
           1,
           1,
           1,
           1
          ],
          [
           0.03,
           0,
           0.25,
           0.3,
           0.58,
           0.8,
           0.78,
           0,
           0.42,
           1.01,
           0.33,
           0.32,
           0.16,
           0.26,
           0.13,
           0.44,
           0.19
          ],
          [
           0.48,
           null,
           null,
           null,
           null,
           null,
           54.96,
           null,
           8.24,
           10.96,
           null,
           null,
           null,
           null,
           7.89,
           null,
           null
          ],
          [
           1.32,
           167.88,
           294.12,
           247.52,
           252.43,
           197.18,
           178.77,
           281.28,
           7.58,
           385.27,
           147.78,
           245,
           2.08,
           393.48,
           25.93,
           219.51,
           26.92
          ],
          [
           272.18,
           404.38,
           31.37,
           10.02,
           13.29,
           19.15,
           243,
           19.63,
           289.24,
           5.31,
           36.95,
           18.85,
           32.15,
           1468.48,
           647.4,
           26.2,
           103.1
          ],
          [
           59.44,
           null,
           null,
           null,
           null,
           null,
           3131.4,
           null,
           218.83,
           1435.89,
           null,
           null,
           null,
           null,
           465.33,
           null,
           null
          ],
          [
           0,
           0,
           0,
           0,
           0,
           0,
           0,
           0,
           0,
           0,
           0,
           0,
           0,
           0,
           0,
           0,
           0
          ],
          [
           1.52,
           10.22,
           0,
           0,
           0,
           0,
           7.26,
           0,
           0,
           0.01,
           0,
           0,
           0,
           5.43,
           1.56,
           0,
           0.58
          ],
          [
           1.39,
           0,
           0,
           0,
           0,
           0,
           0,
           0,
           0,
           0,
           0,
           0,
           0,
           0,
           0,
           0,
           0
          ],
          [
           0.01,
           18.26,
           0.24,
           0.49,
           0.5,
           0.04,
           10.28,
           0.11,
           0.11,
           1.78,
           0.09,
           0.1,
           0,
           0.2,
           3.01,
           0,
           4.24
          ],
          [
           0,
           0,
           0,
           0,
           0,
           0,
           0,
           0,
           0,
           0,
           0,
           0,
           0,
           0,
           0,
           0,
           0
          ],
          [
           0.03,
           3.14,
           0.93,
           1.24,
           0.97,
           0.85,
           2.79,
           0.68,
           1.55,
           1.2,
           0.74,
           1.3,
           0.1,
           3.48,
           1.33,
           0.2,
           0.88
          ],
          [
           2.53,
           0,
           35.07,
           49.49,
           44.85,
           0,
           0,
           0,
           0,
           37.56,
           0,
           0,
           175.89,
           93.24,
           0,
           8.92,
           0
          ],
          [
           0.07,
           12.12,
           8.27,
           7.65,
           7.31,
           7.14,
           16.84,
           5.02,
           3.78,
           16.01,
           6.68,
           8.51,
           1.81,
           18.93,
           2.43,
           12.87,
           3.69
          ],
          [
           0.03,
           5.11,
           3.55,
           4.52,
           2.94,
           3.47,
           7.35,
           2.2,
           2.13,
           6.71,
           4.28,
           4.8,
           0.78,
           10.39,
           1.07,
           5.4,
           1.59
          ],
          [
           2.53,
           0,
           35.07,
           49.49,
           44.85,
           0,
           0,
           0,
           0,
           37.56,
           0,
           0,
           175.89,
           93.24,
           0,
           8.92,
           0
          ],
          [
           0.01,
           1.68,
           1.42,
           1.44,
           1.01,
           1.47,
           2.33,
           0.96,
           0.69,
           2.53,
           1.94,
           1.86,
           0.27,
           3.2,
           0.27,
           2.61,
           0.5
          ],
          [
           0.04,
           5.99,
           4.37,
           4.62,
           4.26,
           3.85,
           10.39,
           2.63,
           2.8,
           9.7,
           4.69,
           5.68,
           1.05,
           12.02,
           1.09,
           7.66,
           2.25
          ],
          [
           0,
           0,
           0,
           0,
           0,
           0,
           0,
           0,
           0,
           0,
           0,
           0,
           0,
           0,
           0,
           0,
           0
          ],
          [
           0.14,
           0,
           21.08,
           7.25,
           2.25,
           9.2,
           0.22,
           15.8,
           0.27,
           12.43,
           11.13,
           11.9,
           1.56,
           7.61,
           0.01,
           13.5,
           0.06
          ],
          [
           1.12,
           114.45,
           117.65,
           103.45,
           100.98,
           98.64,
           178.21,
           74.2,
           44.89,
           230.82,
           109.7,
           130.55,
           26.76,
           258.72,
           25.05,
           173.12,
           38.66
          ],
          [
           39.6,
           0,
           9.31,
           0,
           33.98,
           0,
           0,
           0,
           0,
           0,
           0,
           0,
           0,
           630.43,
           12.59,
           0.98,
           0
          ],
          [
           0.2,
           2.07,
           2.82,
           2.83,
           2.85,
           2.78,
           1.64,
           2.97,
           0.52,
           4.47,
           2.19,
           2.4,
           0.85,
           3.13,
           0.48,
           2.76,
           0.53
          ],
          [
           34.87,
           102.32,
           65.84,
           66.32,
           65.1,
           62.71,
           79.38,
           59.53,
           39.2,
           101.29,
           65.94,
           67.01,
           24.16,
           297.5,
           103.92,
           65.48,
           22.36
          ],
          [
           0,
           0,
           0,
           0,
           0,
           0,
           0,
           0,
           0.01,
           0,
           0.01,
           0,
           0,
           0,
           0,
           0,
           0
          ],
          [
           0.21,
           null,
           null,
           null,
           null,
           null,
           49.04,
           null,
           2.38,
           7.06,
           null,
           null,
           null,
           null,
           6.63,
           null,
           null
          ],
          [
           0,
           6.99,
           0.02,
           0.22,
           0.03,
           0,
           4.47,
           0,
           0.55,
           0.09,
           0.28,
           0,
           0,
           0.04,
           0.33,
           0.14,
           1.92
          ],
          [
           0.02,
           0.15,
           0.28,
           0.48,
           0.28,
           0.32,
           0.22,
           0.41,
           0.28,
           1.31,
           0.36,
           0.6,
           0.04,
           0.96,
           0.07,
           0.24,
           0.1
          ],
          [
           0,
           4.26,
           0,
           0,
           0,
           0,
           1.25,
           0,
           0,
           0,
           0,
           0,
           0,
           0,
           0.36,
           0,
           0.52
          ],
          [
           0.39,
           0.42,
           2.94,
           2.27,
           4.95,
           3.23,
           0.56,
           3.4,
           0.56,
           5.12,
           3.6,
           3.92,
           0.29,
           5.43,
           1.04,
           2.78,
           0.29
          ],
          [
           0.1,
           0,
           0.09,
           0.21,
           0.73,
           0,
           0.61,
           0.1,
           0.05,
           0.02,
           0.24,
           0.08,
           0,
           8.7,
           0.13,
           1.11,
           0.19
          ],
          [
           0.84,
           8.69,
           11.8,
           11.85,
           11.94,
           11.63,
           6.89,
           12.42,
           2.17,
           18.71,
           9.16,
           10.04,
           3.58,
           13.07,
           2.01,
           11.53,
           2.22
          ],
          [
           0.16,
           175.84,
           248.53,
           249.5,
           250.49,
           221.13,
           101.68,
           289.04,
           35.3,
           372.87,
           179.8,
           131.5,
           2.05,
           128.24,
           26.44,
           226.05,
           41.92
          ],
          [
           0,
           4.69,
           0,
           0,
           0,
           0,
           2.21,
           0,
           0,
           0,
           0,
           0,
           0,
           0,
           0.64,
           0,
           0.91
          ],
          [
           0.02,
           1.81,
           0.13,
           3.88,
           0.66,
           0.18,
           5.03,
           0.68,
           0.19,
           0.32,
           1.01,
           0.43,
           0.04,
           2.83,
           0.89,
           0.05,
           0.77
          ],
          [
           0,
           0,
           0,
           0,
           0,
           0,
           0,
           0,
           0,
           0,
           0,
           0,
           0,
           0,
           0,
           0,
           0
          ],
          [
           0.02,
           2.01,
           0.01,
           0.03,
           0.12,
           0,
           1.22,
           0.02,
           1.05,
           0,
           0.04,
           0.02,
           0,
           1.46,
           0.23,
           0.19,
           0.57
          ],
          [
           24.17,
           0,
           0,
           0,
           0,
           0,
           0,
           0,
           0,
           0,
           0,
           0,
           0.18,
           40.78,
           0,
           0.33,
           0
          ],
          [
           0.4,
           67.45,
           64.9,
           54.58,
           50.74,
           50.61,
           93.68,
           36.31,
           25.57,
           115.29,
           53.93,
           63.33,
           10.6,
           127.26,
           12.89,
           99.7,
           20.2
          ],
          [
           1.19,
           0,
           5.29,
           24.91,
           7.73,
           0,
           0,
           0,
           0,
           22.45,
           0,
           0,
           7.38,
           8.48,
           0,
           6.34,
           0
          ],
          [
           0.06,
           10,
           4.25,
           3.18,
           5.38,
           4.76,
           12.72,
           2.15,
           2.67,
           8.67,
           4.49,
           4.95,
           0.73,
           16,
           2.1,
           11.14,
           2.76
          ],
          [
           0.03,
           4.01,
           22.11,
           10.94,
           9.44,
           10.85,
           5.91,
           10.38,
           2.67,
           27.29,
           11.01,
           12.33,
           1.22,
           21.35,
           0.78,
           25.06,
           1.28
          ],
          [
           0.05,
           8.39,
           5.91,
           5.52,
           6.19,
           5.29,
           11.28,
           3.44,
           3.36,
           11.43,
           5.66,
           6.65,
           1.22,
           12.02,
           1.44,
           12,
           2.45
          ],
          [
           0,
           0,
           0,
           0,
           0,
           0,
           0,
           0,
           0,
           0,
           0,
           0,
           0,
           0,
           34.7,
           0,
           0
          ],
          [
           0.03,
           3.5,
           2.6,
           2.44,
           2.23,
           2.29,
           5.37,
           1.87,
           0.99,
           5.6,
           2.55,
           3.45,
           0.51,
           6.93,
           0.56,
           4,
           1.01
          ],
          [
           0.02,
           0,
           0,
           0.01,
           0.29,
           0,
           0,
           0.05,
           0.03,
           0,
           0.02,
           0,
           0,
           0,
           0.01,
           0,
           0
          ],
          [
           0.04,
           0,
           3.97,
           3.91,
           3.35,
           2.72,
           0.22,
           2.1,
           0.38,
           6.98,
           2.27,
           9.5,
           0.31,
           9.57,
           0.27,
           2.86,
           0.09
          ],
          [
           0,
           12.61,
           0,
           0,
           0,
           0,
           2.59,
           0,
           0,
           0,
           0,
           0,
           0,
           0,
           0.79,
           0,
           1.07
          ],
          [
           0,
           6.79,
           0,
           0,
           0.25,
           0,
           3.17,
           0,
           0,
           0.36,
           0.02,
           0,
           0,
           0.11,
           0.98,
           1.12,
           1.31
          ],
          [
           0,
           0,
           0,
           0,
           0,
           0,
           0,
           0,
           0,
           0,
           0,
           0,
           0,
           0,
           0,
           0,
           0
          ],
          [
           5.08,
           0,
           28.24,
           39.41,
           50,
           14.55,
           0,
           35.16,
           0,
           81.61,
           0,
           29,
           13.83,
           32.61,
           0,
           33.8,
           0
          ],
          [
           0,
           0,
           0,
           0,
           0,
           0,
           0,
           0,
           0,
           0,
           0,
           0,
           0,
           0,
           0,
           0,
           0
          ],
          [
           0.04,
           1.63,
           2.5,
           3,
           2.43,
           2.35,
           3.35,
           1.32,
           0.8,
           2.64,
           2.63,
           3.44,
           0.23,
           4.35,
           0.68,
           2.52,
           0.77
          ],
          [
           0.14,
           0,
           0.54,
           3.91,
           1.21,
           2.49,
           0.56,
           3.01,
           0.29,
           3.41,
           2.12,
           6.35,
           0.22,
           4.35,
           0.29,
           0.45,
           0.38
          ],
          [
           0.33,
           0,
           1.02,
           6.98,
           5.78,
           0,
           2.51,
           0,
           6.06,
           22.48,
           0,
           0,
           1.3,
           6.52,
           2.59,
           2.93,
           0.6
          ],
          [
           0.02,
           0,
           0.05,
           0.05,
           0.09,
           0.05,
           0.02,
           0.28,
           0.09,
           0.26,
           0.08,
           0.28,
           0,
           0.09,
           0.03,
           0.05,
           0.01
          ],
          [
           1.16,
           29.8,
           41.26,
           46.39,
           23.95,
           33.21,
           39.39,
           22.47,
           11.8,
           161.5,
           44.88,
           55.92,
           7.88,
           85.87,
           5.11,
           51.89,
           10.71
          ],
          [
           0.02,
           0,
           0,
           0.1,
           0,
           0,
           0.02,
           0,
           0.01,
           0.19,
           0,
           0,
           0.07,
           0.3,
           0,
           0,
           0.01
          ],
          [
           1.39,
           0,
           0,
           0,
           0,
           0,
           0,
           0,
           0,
           0,
           0,
           0,
           0,
           0,
           0,
           0,
           0
          ],
          [
           1,
           1,
           1,
           1,
           1,
           1,
           1,
           1,
           1,
           1,
           1,
           1,
           1,
           1,
           1,
           1,
           1
          ],
          [
           32.72,
           0,
           0,
           0,
           0,
           0,
           0,
           0,
           5.8,
           0,
           0,
           0,
           0.36,
           72.26,
           0.11,
           0.73,
           0
          ],
          [
           0,
           2.01,
           0,
           0,
           0,
           0,
           1.12,
           0,
           1.05,
           0,
           0,
           0,
           0,
           0,
           0.21,
           0,
           0.54
          ],
          [
           0.03,
           0,
           0.71,
           2.77,
           1.03,
           0,
           0,
           0,
           0,
           11.22,
           0,
           0,
           0.92,
           1.3,
           0,
           0.84,
           0
          ],
          [
           8.55,
           0,
           0,
           0,
           0,
           0,
           0,
           0,
           5.8,
           0,
           0,
           0,
           0.18,
           31.48,
           0.04,
           0.4,
           0
          ],
          [
           0,
           6.42,
           0,
           0,
           0,
           0,
           3.46,
           0,
           0,
           0,
           0,
           0,
           0,
           0,
           1.12,
           0,
           1.43
          ],
          [
           0.02,
           6.35,
           4.14,
           3.58,
           3.15,
           3.19,
           8.23,
           1.96,
           1.77,
           9.39,
           2.91,
           3.5,
           0.81,
           9.35,
           1.17,
           6.26,
           1.79
          ],
          [
           0,
           0,
           0,
           0,
           0,
           0,
           0,
           0,
           0,
           0,
           0,
           0,
           0,
           0,
           0,
           0,
           0
          ],
          [
           47.36,
           5.91,
           35.78,
           50.5,
           56.07,
           104.13,
           0,
           27.26,
           5.8,
           57.98,
           37.98,
           173.7,
           179.12,
           226.09,
           34.81,
           13.37,
           0
          ],
          [
           0.99,
           1.82,
           17.65,
           22.38,
           7.04,
           8.64,
           0.56,
           6.48,
           0.31,
           119.38,
           12.61,
           25,
           3.38,
           32.61,
           0.67,
           8.39,
           2.31
          ],
          [
           1.62,
           5.8,
           61.13,
           1.24,
           25.24,
           1.52,
           3.07,
           101.37,
           7.42,
           77.73,
           0,
           186,
           2.08,
           6.52,
           0.52,
           19.51,
           0.77
          ],
          [
           1.06,
           19.12,
           21.57,
           26.24,
           13.11,
           11.88,
           28.51,
           11.32,
           3.56,
           17.21,
           16.35,
           16.4,
           1.22,
           21.74,
           5.48,
           6.83,
           8.05
          ],
          [
           0,
           0,
           0,
           0,
           0,
           0,
           0,
           0,
           0,
           0,
           0,
           0,
           0,
           0,
           0,
           0,
           0
          ],
          [
           1.99,
           0,
           5.29,
           8.3,
           7.73,
           0,
           0,
           0,
           0,
           12.43,
           0,
           0,
           3.32,
           24.13,
           0,
           6.34,
           0
          ],
          [
           0.04,
           6.5,
           4.37,
           6.21,
           5.17,
           4.62,
           8.23,
           3.25,
           2.41,
           12.15,
           5.45,
           6.44,
           1.24,
           12.26,
           1.1,
           7.48,
           1.79
          ],
          [
           1.58,
           0,
           7.06,
           15.94,
           1.5,
           0,
           0,
           0,
           0,
           9.38,
           0,
           0,
           4.61,
           32.61,
           0,
           8.45,
           0
          ],
          [
           0.01,
           10.66,
           0.2,
           0.05,
           0.19,
           0.08,
           6.15,
           0.12,
           0.68,
           0.05,
           0.08,
           0.24,
           0.23,
           0.39,
           0.76,
           0.39,
           2.31
          ],
          [
           0.82,
           1.02,
           45.1,
           49.5,
           35.44,
           30.09,
           2.23,
           15.66,
           6.93,
           14.05,
           33.25,
           28.6,
           2.6,
           67.39,
           0.44,
           23.86,
           0.58
          ],
          [
           0.02,
           0.95,
           0.74,
           1.14,
           1.21,
           0.99,
           1.12,
           0.73,
           0.68,
           2.95,
           1.08,
           1.4,
           0.34,
           0.65,
           0.22,
           0.78,
           0.4
          ],
          [
           0,
           0,
           0,
           0,
           0,
           0,
           0,
           0,
           0,
           0,
           0,
           0,
           0,
           0,
           0.07,
           0,
           0
          ],
          [
           0.13,
           7.59,
           20.83,
           38.49,
           16.21,
           24.18,
           25.14,
           9.5,
           5.64,
           21.93,
           20.54,
           28.8,
           8.57,
           6.09,
           2.96,
           30,
           5.77
          ],
          [
           0,
           -0.02,
           -0.01,
           -0.01,
           0.01,
           0.01,
           -0.02,
           0,
           -0.01,
           0,
           0,
           -0.01,
           0,
           0.05,
           -0.01,
           -0.01,
           -0.01
          ],
          [
           0.03,
           1.13,
           0.24,
           0.25,
           0.36,
           0.35,
           1.07,
           0.34,
           0.21,
           0.29,
           0.18,
           0.25,
           0.12,
           1.12,
           0.28,
           0.24,
           0.26
          ],
          [
           0,
           0.06,
           0.01,
           0.01,
           0.01,
           0.01,
           0.05,
           0.01,
           0.01,
           0.01,
           0.01,
           0.01,
           0,
           0.08,
           0.01,
           0.01,
           0.01
          ],
          [
           0,
           0,
           0,
           0,
           0,
           0,
           0,
           0,
           0,
           0,
           0,
           0,
           0,
           0,
           0,
           0,
           0
          ],
          [
           0.01,
           0.72,
           0.41,
           0.42,
           0.03,
           0.03,
           0.42,
           0.03,
           0.17,
           0.41,
           0.37,
           0.42,
           0.64,
           1.11,
           0.11,
           0.41,
           0.1
          ],
          [
           0,
           0,
           0,
           0,
           0,
           0,
           0,
           0,
           0,
           0,
           0,
           0,
           0,
           0,
           0,
           0,
           0
          ],
          [
           0,
           0,
           0,
           0,
           0,
           0,
           0,
           0,
           0,
           0,
           0,
           0,
           0,
           0,
           0,
           0,
           0
          ],
          [
           0,
           0,
           0,
           0,
           0,
           0,
           0,
           0,
           0,
           0,
           0,
           0,
           0,
           0,
           0,
           0,
           0
          ],
          [
           0,
           0.01,
           0,
           0,
           0,
           0,
           0,
           0,
           0,
           0,
           0,
           0,
           0,
           0,
           0,
           0,
           0
          ],
          [
           0,
           0,
           0,
           0,
           0,
           0,
           0,
           0,
           0,
           0,
           0,
           0,
           0,
           0,
           0,
           0,
           0
          ],
          [
           0,
           0,
           0,
           0,
           0,
           0,
           0,
           0,
           0,
           0,
           0,
           0,
           0,
           0,
           0,
           0,
           0
          ],
          [
           0.05,
           0.25,
           0.07,
           0.07,
           0.73,
           0.71,
           0.19,
           0.69,
           0.05,
           0.07,
           0.07,
           0.08,
           0.03,
           0.34,
           0.05,
           0.07,
           0.05
          ],
          [
           0,
           0,
           0,
           0,
           0.01,
           0.01,
           0,
           0.01,
           0,
           0,
           0,
           0,
           0,
           0,
           0,
           0,
           0
          ],
          [
           0,
           0,
           0,
           0,
           0,
           0,
           0,
           0,
           0,
           0,
           0,
           0,
           0,
           0,
           0,
           0,
           0
          ],
          [
           0,
           0,
           0,
           0,
           0,
           0,
           0,
           0,
           0,
           0,
           0,
           0,
           0,
           0,
           0,
           0,
           0
          ],
          [
           0,
           0,
           0,
           0,
           0,
           0,
           0,
           0,
           0,
           0,
           0,
           0,
           0,
           0,
           0,
           0,
           0
          ],
          [
           0,
           0,
           0,
           0,
           0,
           0,
           0,
           0,
           0,
           0,
           0,
           0,
           0,
           0,
           0,
           0,
           0
          ],
          [
           0,
           0,
           0,
           0,
           0,
           0,
           0.01,
           0,
           0.01,
           0,
           0,
           0,
           0,
           0,
           0,
           0,
           0
          ],
          [
           6.63,
           0,
           35.29,
           55.35,
           51.5,
           14.55,
           0,
           35.16,
           0,
           90.99,
           111.82,
           29,
           18.44,
           65.22,
           0,
           42.24,
           0
          ],
          [
           0,
           0,
           0,
           0,
           0,
           0,
           0,
           0,
           0,
           0,
           0,
           0,
           0,
           0,
           0,
           0,
           0
          ],
          [
           0,
           0,
           0,
           0,
           0,
           0,
           0,
           0,
           0,
           0,
           0,
           0,
           0,
           0,
           0,
           0,
           0
          ],
          [
           0,
           0,
           0,
           0,
           0,
           0,
           0,
           0,
           0,
           0,
           0,
           0,
           0,
           0,
           0,
           0,
           0
          ]
         ],
         "texttemplate": "%{text}",
         "type": "heatmap",
         "x": [
          "Apple",
          "Feta",
          "Pine nut",
          "Sesame",
          "Pistachio",
          "Cashew nut",
          "Hard cheese",
          "Hazel nut",
          "Chicken",
          "Peanut",
          "Linseed",
          "Sunflower seed",
          "Durum wheat",
          "Soybeans",
          "Cow's milk",
          "Pumpkin seed",
          "Soft cheese"
         ],
         "xaxis": "x",
         "y": [
          "Alanin_mg/1kJ",
          "Alkohol (Ethanol)_mg/1kJ",
          "Arginin_mg/1kJ",
          "Asparagic acid_mg/1kJ",
          "Butteric acid/1kJ",
          "Calcium_mg/1kJ",
          "Cholesterin_mg/1kJ",
          "Cystein_mg/1kJ",
          "DOCOSATRIENACE_MG/1kJ",
          "Decanic acid/1kJ",
          "Decosanic acid/1kJ",
          "Decosis acid/1kJ",
          "Disaccharide (2M)_mg/1kJ",
          "Docosadi acid_mg/1kJ",
          "Docosahexaensäure_mg/1kJ",
          "Docosatetraensäure_mg/1kJ",
          "Dodecanic acid/1kJ",
          "EICOSADIACHERION_MG/1kJ",
          "EICOSATETREENONE/1kJ",
          "EICOSATRIENOCE_MG/1kJ",
          "Eicosanic acid/1kJ",
          "Eicosapentaensäure_mg/1kJ",
          "Eicosenic acid_mg/1kJ",
          "Energy (kilocalories) _Kcal/1kJ",
          "Energy (kilojoule) _kJ/1kJ",
          "Essential _mg/1kJ",
          "Eutrophying emissions per 100g (gPO₄eq per 100g}/1kJ",
          "Fat_g/1kJ",
          "Fluorid_μg/1kJ",
          "Freshwater withdrawals per 100g (liters per 100g)/1kJ",
          "Fructose (fructose) _MG/1kJ",
          "Glucose (glucose) _mg/1kJ",
          "Glutamic acid_mg/1kJ",
          "Glycerin and lipoid_mg/1kJ",
          "Glycin_mg/1kJ",
          "Glycogen (animal strength) _mg/1kJ",
          "Heptadecanic acid_mg/1kJ",
          "Heptadecenic acid_mg/1kJ",
          "Hexadecadios_mg/1kJ",
          "Hexadecan acid/1kJ",
          "Hexadecatetraensäure_mg/1kJ",
          "Hexadecensic acid/1kJ",
          "Hexanic acid/1kJ",
          "Histidin_mg/1kJ",
          "Iodid_μg/1kJ",
          "Isoleucin_mg/1kJ",
          "KUPFER_MG/1kJ",
          "Kalium_mg/1kJ",
          "Lactose (milk sugar) _mg/1kJ",
          "Land use per 100g (m² per 100g)/1kJ",
          "Leucin_mg/1kJ",
          "Lignin_mg/1kJ",
          "Long -chain fatty acids_mg/1kJ",
          "Lysin_mg/1kJ",
          "Maltose (Malzzucker)_mg/1kJ",
          "Mangan_μg/1kJ",
          "Mannit_mg/1kJ",
          "Medium -chain fatty acids_mg/1kJ",
          "Methionin_mg/1kJ",
          "Minerals (raw ash) _mg/1kJ",
          "Monosaccharide (1M)_mg/1kJ",
          "Non -essential amino acids_mg/1kJ",
          "Nonadecatrio acid_mg/1kJ",
          "Octadecanic acid/1kJ",
          "Octadecenic acid/1kJ",
          "Octadecriosic acid/1kJ",
          "Octadiic acid/1kJ",
          "Octanic acid/1kJ",
          "OctradeCateTrade acid/1kJ",
          "Oligosaccharide, sorbierbar (3-9 M)_mg/1kJ",
          "Oligosaccharides, not resorbable_mg/1kJ",
          "Omega-3 fatty acids_mg/1kJ",
          "Omega-6 fatty acids_mg/1kJ",
          "Organic acids_mg/1kJ",
          "Pentadecensic acid_mg/1kJ",
          "Pentaecanic acid_mg/1kJ",
          "Phenylalanine mg/1kJ",
          "Poly-Hexosen_mg/1kJ",
          "Poly-Pentosen_mg/1kJ",
          "Poly-Uronic acid_mg/1kJ",
          "Polysaccharide (> 9M)_mg/1kJ",
          "Polyunsaturated fatty acids MG/1kJ",
          "Prolin_mg/1kJ",
          "Protein_g/1kJ",
          "Purin_mg/1kJ",
          "Saccharosis (beet sugar) _MG/1kJ",
          "Saturated fatty acids_mg/1kJ",
          "Serin_mg/1kJ",
          "Short -chain fatty acids_mg/1kJ",
          "Simply unsaturated fatty acids mg/1kJ",
          "Sodium_mg/1kJ",
          "Sorbit_mg/1kJ",
          "Starch_mg/1kJ",
          "Sugar (total) _mg/1kJ",
          "Sum sugar alcohols_mg/1kJ",
          "TetraCanic acid/1kJ",
          "Tetracosanic acid/1kJ",
          "Tetracosenic acid/1kJ",
          "TetradeCensic acid_mg/1kJ",
          "Threonin_mg/1kJ",
          "Tryptophan_mg/1kJ",
          "Tyrosin_mg/1kJ",
          "Uric acid_mg/1kJ",
          "Valin_mg/1kJ",
          "Vitamin A-Beta-Carotin_μg/1kJ",
          "Vitamin A-Retinol_μg/1kJ",
          "Vitamin A-Retinoläquivalent_μg/1kJ",
          "Vitamin B1-Thiamin_μg/1kJ",
          "Vitamin B12-Cobalamin_μg/1kJ",
          "Vitamin B2-Riboflavin_μg/1kJ",
          "Vitamin B3-Niacinäquivalent_μg/1kJ",
          "Vitamin B3-niacin, nicotinic acid_μg/1kJ",
          "Vitamin B5-Pantothenic acid_μg/1kJ",
          "Vitamin B6-Pyridoxin_μg/1kJ",
          "Vitamin B7-Biotin (VitaminH)_μg/1kJ",
          "Vitamin B9-overall folic acid_μg/1kJ",
          "Vitamin C-ASCORBINCOCHER_INCH/1kJ",
          "Vitamin D-Calciferole_μg/1kJ",
          "Vitamin E-Alpha-Tocopherol_μg/1kJ",
          "Vitamin E-Tocopheroläquivalent_μg/1kJ",
          "Vitamin K-Phyllochinon_μg/1kJ",
          "Water -insoluble fiber_mg/1kJ",
          "Xylit_mg/1kJ",
          "http:/1kJ",
          "http:/1kJ",
          "http:/1kJ"
         ],
         "yaxis": "y",
         "z": [
          [
           0,
           1,
           0.012640942520756922,
           0.08269711448538537,
           0.03817094351776541,
           0.03676338693944628,
           0.5079603072772937,
           0.003398511554193919,
           0.05817122569834648,
           0.1731682453013655,
           0.012726163874875792,
           0.030632874802332895,
           0.018716140434016343,
           0.11042318318149592,
           0.14827243202802198,
           0.018581993330433044,
           0.0632099829571391
          ],
          [
           0,
           1,
           0.36745654329304056,
           0.37159575935097566,
           0.5600182473918743,
           0.5399508404357617,
           0.6669321656960886,
           0.5237712481345514,
           0.2502591097727882,
           0.4575116816720801,
           0.36320081360148143,
           0.37581775973006953,
           0.037543742875734434,
           0.9482531070863677,
           0.13086265149187454,
           0.3654172222108384,
           0.12740497441539383
          ],
          [
           0.017744881284244927,
           0,
           0.5220588235294118,
           0.7473325002403152,
           0.5922801395041946,
           1,
           0.02888213917665564,
           0.7554196036707009,
           0.02545785525154457,
           0.6147776021675321,
           0.6112200487828207,
           0.9771116504854368,
           0.040284957760685906,
           0.2247783875052765,
           0.005361380798274001,
           0.42014918304522847,
           0.01391896938013443
          ],
          [
           0,
           0,
           0,
           0,
           0,
           0,
           0,
           0,
           0,
           0,
           0,
           0,
           0,
           0,
           0,
           0,
           0
          ],
          [
           0.06175056193011356,
           0,
           0.004120243376567668,
           0.00581405290788146,
           0.0645572379563023,
           0.5994902440936156,
           0,
           0.15693882540358514,
           0,
           0.11759560500372646,
           0.2186545513327718,
           0.9999999999999999,
           0.010317834152031044,
           0.0804735801356662,
           0,
           0.021399384978305742,
           0
          ],
          [
           0,
           0,
           0,
           0,
           0,
           0,
           0,
           0,
           0,
           0,
           0,
           0,
           0,
           0,
           0,
           0,
           0
          ],
          [
           0,
           1,
           0,
           0,
           0,
           0.01281259936778707,
           0.6281466313516884,
           0.014953883097746005,
           0,
           0,
           0.018821266657507902,
           0.013645418326693227,
           0.0014177058001759199,
           0,
           0.18598199793418918,
           0,
           0.25926294820717133
          ],
          [
           0,
           0.0632367413113199,
           0.6673988703143722,
           1,
           0.44112135451489287,
           0.7022581658720511,
           0.0888111016586381,
           0.4277799184194094,
           0.014791464597478179,
           0.7193287167572691,
           0.92553501550458,
           0.9777691561590691,
           0.03610162873014475,
           0.29696790789862104,
           0.04254768832848367,
           0.8074566487662939,
           0.012907558009400882
          ],
          [
           0,
           0.4380058111718506,
           0.322367803636341,
           0.3272553754500629,
           0.39877871807373433,
           0.3420386395763711,
           0.6223158495409563,
           0.21508746262804973,
           0.22875223306126902,
           0.9663644781736377,
           0.3630229239943867,
           0.38464146796419735,
           0.08915644414581614,
           1,
           0.08923399736188029,
           0.4643158708869215,
           0.1323271130015205
          ],
          [
           0.06175056193011356,
           0,
           0.004120243376567668,
           0.00581405290788146,
           0.0645572379563023,
           0.5994902440936156,
           0,
           0.15693882540358514,
           0,
           0.11759560500372646,
           0.2186545513327718,
           0.9999999999999999,
           0.010317834152031044,
           0.0804735801356662,
           0.1997910403206891,
           0.021399384978305742,
           1.1071254594570657e-05
          ],
          [
           0.10102565505169302,
           0,
           0.025154371140721485,
           0.09861468191017998,
           0.036673282197071284,
           0,
           0,
           0,
           0,
           1,
           0,
           0,
           0.04600200904068307,
           0.3021258707662744,
           0,
           0.030072766473521088,
           0
          ],
          [
           0,
           0.19313732209125892,
           0.5928864538059067,
           0.3808114482696059,
           0.5684738605653149,
           0.576117155602915,
           0.264793877376747,
           0.4375260573457328,
           0.2743606633761757,
           1,
           0.616189975692324,
           0.6845439288792126,
           0.15866204372123544,
           0.6285307475531523,
           0.05374376962348115,
           0.5640447735270658,
           0.05698481565606344
          ],
          [
           0.005672422522016609,
           0.02728397753409345,
           0.3129309627243255,
           0.003712823953829964,
           0.12765391786022343,
           0.14283544230157014,
           0.013187152226784831,
           0.5754032391154121,
           0.035655055160160896,
           0.3986450488783896,
           0.4042679500007629,
           0.9999999999999999,
           0.008051381822751386,
           0.030995325758545737,
           0,
           0.098066559890749,
           0.0012944564900812272
          ],
          [
           0,
           0.7293997253127129,
           0.310558340465667,
           0.28368295700674734,
           0.20947351623544344,
           0.18914167901567377,
           0.9999999999999999,
           0.1316294808841485,
           0.08800743031141013,
           0.5716573662767955,
           0.21059645511927164,
           0.30485717381250993,
           0.1545433896360822,
           0.6216079555374889,
           0.11916717763867665,
           0.3075437039792015,
           0.21325981084899748
          ],
          [
           0.050605060506050605,
           0,
           0,
           0.33616218764733613,
           0,
           0,
           0.061186485767491354,
           0,
           0.02074314574314574,
           0.6282761166482095,
           0,
           0,
           0.22758194186765612,
           1,
           0,
           0,
           0.02106227106227106
          ],
          [
           0,
           0.4745571372836872,
           0.397784616159259,
           0.36823322194604025,
           0.37864748902335205,
           0.36182107597822083,
           0.6409517098058308,
           0.284218068944668,
           0.14221513560268106,
           0.8780079577664914,
           0.4209819505228937,
           0.5084469373981465,
           0.11808960566503901,
           1,
           0.08737970385734134,
           0.5560119789184526,
           0.13560481527394563
          ],
          [
           0,
           0,
           0,
           0,
           0,
           0,
           0,
           0,
           0,
           0,
           0,
           0,
           0.023071331653421203,
           1,
           0,
           0,
           0
          ],
          [
           0,
           0.3321992687364422,
           0.5110045173243618,
           0.47583965197301314,
           0.3771114413919648,
           0.3372002998537598,
           0.40848943965669643,
           0.29379237736457636,
           0.22365889735594668,
           0.5416804442591237,
           0.44435909346239255,
           0.4892160175979747,
           0.07582335696083499,
           1,
           0.061875014507951714,
           0.6054080382028796,
           0.08455445909576888
          ],
          [
           0,
           0.526213390598723,
           0.38372245869351734,
           0.364634424910722,
           0.4233670401173126,
           0.4281389115458364,
           0.7488180266919707,
           0.34510683981493956,
           0.10547681287486145,
           0.8758399254463521,
           0.455566935231985,
           0.5864224817364977,
           0.1598629859359889,
           1,
           0.10118219141219306,
           0.5312640493637185,
           0.1584712124944326
          ],
          [
           0,
           0.27791347653960385,
           0.32997434277874593,
           0.21112478919542027,
           0.29453711559576345,
           0.283308459887907,
           0.3174469806829204,
           0.23425128994385921,
           0.13093754103694827,
           0.8488127454077519,
           0.3482805206175125,
           0.39867725018323097,
           0.029718582528242894,
           1,
           0.04886117429648131,
           0.4921438988464302,
           0.06552296230450116
          ],
          [
           0.017283133626130393,
           0,
           0.6853168002419476,
           0.488491265579,
           1,
           0,
           0,
           0,
           0,
           0.49535348704356896,
           0,
           0,
           0.16276611135222957,
           0.6715472597891285,
           0,
           0.8203203265965822,
           0
          ],
          [
           0,
           0.17833685960848242,
           0.4465523308641889,
           0.567719277359445,
           0.367269050136432,
           0.33690103955977896,
           0.20558878697673397,
           0.26420331329169533,
           0.12056879398466945,
           1,
           0.5228834074202008,
           0.5691590523527486,
           0.09367604091494681,
           0.8654730924962829,
           0.033951671842085245,
           0.8472725451323682,
           0.04550771886525926
          ],
          [
           0,
           0.7605134173838668,
           0.45719975847565203,
           0.771337113836822,
           0.41729383469142184,
           0.41375578977006977,
           0.9999999999999999,
           0.23011459139059487,
           0.32583161764166074,
           0.5909572362538542,
           0.5301883204701595,
           0.6866185205789193,
           0.0960144369802599,
           0.6474217881682671,
           0.16981997744857885,
           0.8003588429050671,
           0.2139099153320905
          ],
          [
           0.15181518151815182,
           0,
           0,
           0,
           0,
           0,
           0,
           0,
           0,
           0,
           0,
           0,
           0,
           1,
           0,
           0,
           0
          ],
          [
           0,
           0,
           0,
           0,
           0,
           0,
           0,
           0,
           0,
           0,
           0,
           0,
           0,
           0,
           0,
           0,
           0
          ],
          [
           0.029474485910129473,
           0,
           0.24321266968325794,
           0.2947448591012947,
           0.5780433159073936,
           0.7919826652221019,
           0.7761065749892566,
           0,
           0.41346153846153844,
           1,
           0.32751042061386887,
           0.3125769230769231,
           0.15464535464535464,
           0.2588628762541806,
           0.12495726495726495,
           0.4356472795497186,
           0.1908284023668639
          ],
          [
           0,
           null,
           null,
           null,
           null,
           null,
           0.9999999999999999,
           null,
           0.14251722150949675,
           0.1924250371947443,
           null,
           null,
           null,
           null,
           0.136027566886523,
           null,
           null
          ],
          [
           0,
           0.4247344818565217,
           0.746631252804823,
           0.627819755209572,
           0.6403209164249948,
           0.4994489522620271,
           0.4524981242259653,
           0.7138916324800312,
           0.015951793682816934,
           0.9790723628143538,
           0.3734797481960929,
           0.6213816571836294,
           0.0019323584262569606,
           1,
           0.06274457190134387,
           0.5563879645821834,
           0.06528729873467244
          ],
          [
           0.18239286752489756,
           0.27274341327643875,
           0.017809005031656867,
           0.003218853795764214,
           0.0054514103972293955,
           0.009462242424096918,
           0.16244880471388226,
           0.009790142951419565,
           0.19405311703329312,
           0,
           0.021621393663759314,
           0.00925383878264635,
           0.018344146719902844,
           1,
           0.4388353504314455,
           0.01427385085972798,
           0.06683568346437885
          ],
          [
           0,
           null,
           null,
           null,
           null,
           null,
           1,
           null,
           0.05188444276626333,
           0.4480701433858287,
           null,
           null,
           null,
           null,
           0.13212889906998682,
           null,
           null
          ],
          [
           0,
           0,
           0,
           0,
           0,
           0,
           0,
           0,
           0,
           0,
           0,
           0,
           0,
           0,
           0,
           0,
           0
          ],
          [
           0.1485619990570486,
           1,
           0.0004796918767507004,
           0,
           0.0004750346740638004,
           0,
           0.7106943335993616,
           0,
           0,
           0.0007585825027685493,
           0,
           0,
           0,
           0.531832298136646,
           0.1522222222222222,
           0,
           0.05645604395604396
          ],
          [
           1,
           0,
           0,
           0,
           0,
           0,
           0,
           0,
           0,
           0,
           0,
           0,
           0,
           0,
           0,
           0,
           0
          ],
          [
           0.00036157154299996176,
           1,
           0.012888962062233932,
           0.02657550841049719,
           0.02712313132999228,
           0.0023145671308941215,
           0.5630820297579293,
           0.006253206479965093,
           0.0060172900536755,
           0.0972417234656525,
           0.004857170432319683,
           0.005751699320271891,
           0.00014228075003764728,
           0.010717452149574952,
           0.16474002991396036,
           0,
           0.23217482237874082
          ],
          [
           0,
           0,
           0,
           0,
           0,
           0,
           0,
           0,
           0,
           0,
           0,
           0,
           0,
           0,
           0,
           0,
           0
          ],
          [
           0,
           0.9015313797542974,
           0.2614627925817687,
           0.35026838097615776,
           0.2729172145581379,
           0.2364372227623637,
           0.801376459323737,
           0.1900007352903456,
           0.4395320071265645,
           0.339807957856397,
           0.2056550322124812,
           0.3683560104855823,
           0.020007878777071133,
           1,
           0.37802188657262925,
           0.05079661806479506,
           0.2479043238623815
          ],
          [
           0.0143728451819753,
           0,
           0.19937714593796999,
           0.28134000085970967,
           0.2550124344906074,
           0,
           0,
           0,
           0,
           0.2135308739320451,
           0,
           0,
           1,
           0.5300963586844163,
           0,
           0.05069661198989497,
           0
          ],
          [
           0,
           0.6386626093486821,
           0.43503103750692546,
           0.402117166616602,
           0.383693072564706,
           0.3749495180158761,
           0.8888749444591927,
           0.2626998405968304,
           0.19704957580965687,
           0.8448743750275783,
           0.3505153886075262,
           0.447511454677501,
           0.09244812747719669,
           1,
           0.12526636746140687,
           0.6787490680684908,
           0.19218528483794098
          ],
          [
           0,
           0.49008864749996944,
           0.33943947867426033,
           0.43363763558535473,
           0.280812872607969,
           0.33221423934745387,
           0.7060390870297839,
           0.20929203850501674,
           0.20269467431179375,
           0.6441619166757141,
           0.41008509576352775,
           0.4597275825287102,
           0.07254203953332605,
           1,
           0.09979082106196405,
           0.5176639128658732,
           0.1505366936940489
          ],
          [
           0.0143728451819753,
           0,
           0.19937714593796999,
           0.28134000085970967,
           0.2550124344906074,
           0,
           0,
           0,
           0,
           0.2135308739320451,
           0,
           0,
           1,
           0.5300963586844163,
           0,
           0.05069661198989497,
           0
          ],
          [
           0,
           0.5238736581716466,
           0.4415805238384794,
           0.4490912776163772,
           0.3153611373673912,
           0.4596333263867148,
           0.7281510119918667,
           0.2978899056246662,
           0.21329128048268645,
           0.7901529804449626,
           0.6045856973450402,
           0.5791723532193771,
           0.0816852494171594,
           0.9999999999999999,
           0.08059815778213182,
           0.8160885635611306,
           0.15504825557524698
          ],
          [
           0,
           0.4960830705820236,
           0.36144122420981023,
           0.3824126592437755,
           0.3522238755484029,
           0.31819086366715815,
           0.8634037206494447,
           0.21598366873143124,
           0.22978447334734134,
           0.8059857454526004,
           0.3879134276453989,
           0.4701705787579135,
           0.08445238436194409,
           0.9999999999999999,
           0.08731939395028379,
           0.6357573500807331,
           0.18457069430769876
          ],
          [
           0,
           0,
           0,
           0,
           0,
           0,
           0,
           0,
           0,
           0,
           0,
           0,
           0,
           0,
           0,
           0,
           0
          ],
          [
           0.006732673267326733,
           0,
           1,
           0.34407091871977896,
           0.10685933619327163,
           0.4365542089747789,
           0.010601533064830455,
           0.7495380694488691,
           0.012758985200845665,
           0.5898972417522986,
           0.5281704662618856,
           0.5645581395348837,
           0.07393536695862277,
           0.3609706774519717,
           0.0007028423772609819,
           0.6405808281338627,
           0.002737030411449016
          ],
          [
           0,
           0.4399554329267534,
           0.45235668534974127,
           0.39722557301309086,
           0.3876564456639346,
           0.3785643346596682,
           0.6874744712520526,
           0.2836961969492008,
           0.1698953939653557,
           0.8917073093257027,
           0.42152294742583685,
           0.5024466606858415,
           0.09952173594746783,
           1,
           0.09289665449179124,
           0.667713475238454,
           0.14571532610619467
          ],
          [
           0.06282007511095938,
           0,
           0.01477349560513861,
           0,
           0.053900234348845,
           0,
           0,
           0,
           0,
           0,
           0,
           0,
           0,
           1,
           0.019974457215836527,
           0.001547518923465097,
           3.050397877984085e-06
          ],
          [
           0,
           0.4389685867155728,
           0.613844383900483,
           0.6169063776933739,
           0.6210884244364562,
           0.6046308271025539,
           0.3379941063881117,
           0.6488857117564395,
           0.07449213118348899,
           1,
           0.46575209454708805,
           0.515662520475942,
           0.1532027564177043,
           0.6869734268645923,
           0.06570702252303606,
           0.5991790744325459,
           0.07681559120950335
          ],
          [
           0.045487117294640514,
           0.29063083906531584,
           0.1580351728320194,
           0.15977461104488921,
           0.15534150226729482,
           0.14666181022297803,
           0.20725173440112765,
           0.13510699835718565,
           0.06120862654149391,
           0.286871551891118,
           0.1583903512660434,
           0.16229390179975534,
           0.00655173587551712,
           1,
           0.29643634198587887,
           0.15674381933405218,
           0
          ],
          [
           0,
           0,
           0,
           0,
           0,
           0,
           0.14581005586592183,
           0,
           0.8046401515151516,
           0,
           1,
           0,
           0,
           0,
           0.04833333333333334,
           0,
           0.09759615384615386
          ],
          [
           0,
           null,
           null,
           null,
           null,
           null,
           1,
           null,
           0.04437392402482671,
           0.1403470057248376,
           null,
           null,
           null,
           null,
           0.13149331091613514,
           null,
           null
          ],
          [
           0.00047246103920736904,
           1,
           0.002806974409408487,
           0.031891120146497406,
           0.004169583346014548,
           0,
           0.6398019882897557,
           0,
           0.07808492447990881,
           0.012207074757195046,
           0.04019642664113532,
           0,
           0.00037183297371385147,
           0.006224160646949253,
           0.04771856495994427,
           0.01955297295919668,
           0.2752994132304477
          ],
          [
           0,
           0.10574023883953125,
           0.20324290271466364,
           0.35846089948973536,
           0.20489849432188034,
           0.23403897933704043,
           0.15999219057127495,
           0.30493553824871455,
           0.2039318963936265,
           1,
           0.26523706056243096,
           0.454939183576599,
           0.021378099768986206,
           0.7266833831215398,
           0.03878011154622047,
           0.17579238626134927,
           0.06157520241713905
          ],
          [
           0,
           1,
           0,
           0,
           0,
           0,
           0.2940674799007254,
           0,
           0,
           0,
           0,
           0,
           0,
           0,
           0.08529318340639096,
           0,
           0.12111096450719094
          ],
          [
           0.020262578654291097,
           0.024793800067596808,
           0.5154584985903379,
           0.38452035292887526,
           0.9060831433911967,
           0.5725022215611568,
           0.052503074667913194,
           0.6049690454729235,
           0.05214533638579129,
           0.9381104415015209,
           0.6436682900281319,
           0.7056571892770105,
           0.000475592644560964,
           1,
           0.14545837470289133,
           0.4842345109072536,
           0
          ],
          [
           0.011006600660066005,
           0,
           0.01014705882352941,
           0.023910891089108904,
           0.0837378640776699,
           0,
           0.07067039106145251,
           0.01155251141552511,
           0.005662878787878786,
           0.0017829457364341081,
           0.02719211822660098,
           0.008624999999999997,
           0,
           1,
           0.014481481481481477,
           0.12790243902439022,
           0.022115384615384613
          ],
          [
           0,
           0.4391298994595702,
           0.613660672133153,
           0.6160461099558319,
           0.621104291136328,
           0.6038747825430248,
           0.33848731593850806,
           0.6481532381073682,
           0.07417679206695653,
           1,
           0.4657999844395016,
           0.51491810885593,
           0.1531047569647257,
           0.6842667494083916,
           0.06567627744265137,
           0.5984223908869093,
           0.07690397405711821
          ],
          [
           0,
           0.4713566827268527,
           0.6663894914762756,
           0.6690069363773795,
           0.6716376562490008,
           0.5928660859643501,
           0.2723705147122663,
           0.7750854332689864,
           0.09428682904159498,
           1.0000000000000002,
           0.4819911621288594,
           0.3523906438909612,
           0.005071636464227023,
           0.34364148186267635,
           0.07049869214299849,
           0.6060722412440896,
           0.11204375983687344
          ],
          [
           0,
           1,
           0,
           0,
           0,
           0,
           0.471358940719567,
           0,
           0,
           0,
           0,
           0,
           0,
           0,
           0.13572950866885547,
           0,
           0.19421581528891013
          ],
          [
           0,
           0.3579251548548719,
           0.022139249916408494,
           0.7701863468295285,
           0.1284448463284733,
           0.032306559875801596,
           1,
           0.13246986848196218,
           0.035255430447295934,
           0.060128092857268146,
           0.1991999117738983,
           0.08251102812678207,
           0.005518222694507163,
           0.5606353020027945,
           0.17407945647308426,
           0.006441041618340982,
           0.15020242170221018
          ],
          [
           0,
           0,
           0,
           0,
           0,
           0,
           0,
           0,
           0,
           0,
           0,
           0,
           0,
           0,
           0,
           0,
           0
          ],
          [
           0.008220822082208222,
           1,
           0.007326203208556151,
           0.017263726372637265,
           0.060458958517210955,
           0,
           0.6067242254951752,
           0.009099211290992113,
           0.5246005509641873,
           0,
           0.019632781012091358,
           0.007472727272727273,
           0,
           0.725612648221344,
           0.11439730639730639,
           0.0923458980044346,
           0.2845384615384616
          ],
          [
           0.5926133125039583,
           0,
           0,
           0,
           0,
           0,
           0,
           0,
           0,
           0,
           0,
           0,
           0.00439453936255642,
           1,
           0,
           0.008133548286442353,
           0
          ],
          [
           0,
           0.5285090902732316,
           0.5084618108900052,
           0.42713271147275084,
           0.39681466084085953,
           0.39577236822994927,
           0.7352702721326113,
           0.2830923486841268,
           0.1984170256004654,
           0.9056768063657916,
           0.4219845239626078,
           0.4960709789723352,
           0.08045222463746625,
           1,
           0.09847370062091801,
           0.7827348320411169,
           0.1561331580701667
          ],
          [
           0.047836745511164125,
           0,
           0.21256445333052726,
           1,
           0.3102936550667416,
           0,
           0,
           0,
           0,
           0.9013758110567197,
           0,
           0,
           0.296179272923459,
           0.34041118975396034,
           0,
           0.25442064080748145,
           0
          ],
          [
           0,
           0.6235245392420791,
           0.26304313400655355,
           0.19579623110374816,
           0.33355314875539577,
           0.2947713199886834,
           0.7938849432721997,
           0.13101212140123739,
           0.16386321278638527,
           0.5403497281443989,
           0.2776493006639892,
           0.3066576931041623,
           0.041861803551594405,
           1,
           0.12759945698442282,
           0.6948406224588235,
           0.16909935167338358
          ],
          [
           0,
           0.14609311549061377,
           0.8099723682314177,
           0.40004083471795887,
           0.34504852728434504,
           0.3970620421960075,
           0.2156619354193154,
           0.37961624238038055,
           0.09691262650442013,
           0.9999999999999999,
           0.4027637064744704,
           0.4512027091723225,
           0.04348669607449072,
           0.7820857418878496,
           0.027327344241366035,
           0.9182395256716092,
           0.04578316006559551
          ],
          [
           0,
           0.6970007024610807,
           0.48965461811713523,
           0.4569153048199486,
           0.5128379002260188,
           0.43741877642232463,
           0.9384556868631873,
           0.2834406154216452,
           0.2768181246148993,
           0.9509172144086846,
           0.4686337977813161,
           0.5517345342753895,
           0.09761560374795905,
           0.9999999999999999,
           0.11589583578868584,
           0.9985916511988592,
           0.2001839305544607
          ],
          [
           0,
           0,
           0,
           0,
           0,
           0,
           0,
           0,
           0,
           0,
           0,
           0,
           0,
           0,
           1,
           0,
           5.5414169608406545e-05
          ],
          [
           0,
           0.5033375423271472,
           0.372958428456491,
           0.34874180851395276,
           0.3194102059465604,
           0.3271363686694939,
           0.774117674498401,
           0.26651360765116766,
           0.13983330485215434,
           0.8063390563340447,
           0.36483161042238044,
           0.49629542315321573,
           0.07062192239730693,
           0.9999999999999999,
           0.07659580360511929,
           0.5751851197956153,
           0.1426001212695435
          ],
          [
           0.06913911730156067,
           0,
           0,
           0.03456955865078033,
           1,
           0,
           0,
           0.17537342310966642,
           0.11902927580893682,
           0,
           0.06879853051682391,
           0,
           0,
           0,
           0.025863151286880097,
           0,
           0
          ],
          [
           0.003795379537953796,
           0,
           0.41510695187165786,
           0.4088658865886589,
           0.3501765225066196,
           0.284677763551003,
           0.02336211274758761,
           0.21959319219593196,
           0.03960055096418733,
           0.7293868921775899,
           0.2369010300044783,
           0.993181818181818,
           0.03258559622195986,
           1,
           0.02865319865319865,
           0.2988470066518847,
           0.009047202797202798
          ],
          [
           0,
           0.9999999999999999,
           0,
           0,
           0,
           0,
           0.20563317407070744,
           0,
           0,
           0,
           0,
           0,
           0,
           0,
           0.062287417701430425,
           0,
           0.08482027526613513
          ],
          [
           0.0004861776500230669,
           1,
           0,
           0,
           0.03647040400876919,
           0,
           0.46744758815402176,
           0,
           0,
           0.05252979911644578,
           0.002902696117379099,
           0,
           0.0003826281245636085,
           0.016012155212716227,
           0.14403823178016728,
           0.1652766850249148,
           0.19263854425144752
          ],
          [
           0,
           0,
           0,
           0,
           0,
           0,
           0,
           0,
           0,
           0,
           0,
           0,
           0,
           0,
           0,
           0,
           0
          ],
          [
           0.062276174425953235,
           0,
           0.34596817450384404,
           0.4828425471726503,
           0.6126519756838906,
           0.17833062203005265,
           0,
           0.4308146313028271,
           0,
           1,
           0,
           0.35533814589665647,
           0.16947385820866062,
           0.3995556363155808,
           0,
           0.41409296463785306,
           0
          ],
          [
           0,
           0,
           0,
           0,
           0,
           0,
           0,
           0,
           0,
           0,
           0,
           0,
           0,
           0,
           0,
           0,
           0
          ],
          [
           0,
           0.36911174925706414,
           0.5714214397444004,
           0.6885379572003859,
           0.5545328499913242,
           0.5360320474449184,
           0.7690210848441723,
           0.29659241617356547,
           0.17607490688829922,
           0.6028857116099506,
           0.6005563369440421,
           0.7894418743967782,
           0.04399151286361323,
           1,
           0.14964037822226658,
           0.5753813334718696,
           0.16999265253666693
          ],
          [
           0.022348691562069593,
           0,
           0.08491585610622203,
           0.6158883604895923,
           0.19111688708814312,
           0.3918524268973421,
           0.0879778295869441,
           0.47459820947039155,
           0.04593175853018372,
           0.5371421595556369,
           0.33357899228113724,
           0.9999999999999999,
           0.03476838122507414,
           0.6846970215679563,
           0.04549431321084864,
           0.07067409256769733,
           0.06056935190793459
          ],
          [
           0.014680778422669858,
           0,
           0.045354969574036515,
           0.3104984636394674,
           0.2569635085369937,
           0,
           0.11182816413022542,
           0,
           0.2695924764890283,
           1,
           0,
           0,
           0.05776981639050605,
           0.29010494752623694,
           0.11532567049808429,
           0.13019343986543316,
           0.0265185676392573
          ],
          [
           0.058666580943808666,
           0,
           0.1742742551566081,
           0.19359971711456855,
           0.31064808977430336,
           0.1902780318273276,
           0.07547340927229196,
           1,
           0.3366661747343565,
           0.9370280881908789,
           0.2872177083999744,
           0.9954545454545453,
           0.009234272221285207,
           0.30914737436476564,
           0.10533910533910532,
           0.17342413683877098,
           0.03418456543456543
          ],
          [
           0,
           0.17866798058091155,
           0.25012121839779355,
           0.2820926693673731,
           0.14214383856411122,
           0.19989556978814074,
           0.23843157593801073,
           0.13290821923775314,
           0.06640793200566078,
           0.9999999999999999,
           0.2726796605734447,
           0.3415213924003977,
           0.041928179374992165,
           0.5283392594824579,
           0.0246723881562708,
           0.31640495363568494,
           0.059564635444207974
          ],
          [
           0.05421970768505422,
           0,
           0,
           0.34158415841584155,
           0,
           0,
           0.055067837190742215,
           0,
           0.024891774891774892,
           0.636766334440753,
           0,
           0,
           0.23042671614100182,
           1,
           0,
           0,
           0.018956043956043958
          ],
          [
           1,
           0,
           0,
           0,
           0,
           0,
           0,
           0,
           0,
           0,
           0,
           0,
           0,
           0,
           0,
           0,
           0
          ],
          [
           0,
           0,
           0,
           0,
           0,
           0,
           0,
           0,
           0,
           0,
           0,
           0,
           0,
           0,
           0,
           0,
           0
          ],
          [
           0.4527508707549456,
           0,
           0,
           0,
           0,
           0,
           0,
           0,
           0.08020183787331801,
           0,
           0,
           0,
           0.004960382577711098,
           1,
           0.0015376387217542452,
           0.010125913533503566,
           0
          ],
          [
           0,
           1,
           0,
           0,
           0,
           0,
           0.5566277298120875,
           0,
           0.5208264462809917,
           0,
           0,
           0,
           0,
           0,
           0.10332659932659934,
           0,
           0.2682517482517483
          ],
          [
           0.0029402111481866425,
           0,
           0.06288592785180372,
           0.24653670477544998,
           0.09168320549267822,
           0,
           0,
           0,
           0,
           1,
           0,
           0,
           0.0821464447155055,
           0.1162022579870286,
           0,
           0.07518191618380272,
           0
          ],
          [
           0.27154787301934613,
           0,
           0,
           0,
           0,
           0,
           0,
           0,
           0.1841097438473129,
           0,
           0,
           0,
           0.005693477792925308,
           1,
           0.0014119091467157765,
           0.01270718232044199,
           0
          ],
          [
           0,
           1,
           0,
           0,
           0,
           0,
           0.538975854990117,
           0,
           0,
           0,
           0,
           0,
           0,
           0,
           0.17433110015590106,
           0,
           0.22239870482191304
          ],
          [
           0,
           0.6757794163968853,
           0.43953277770843047,
           0.37996198372838025,
           0.33367821507432033,
           0.33817899243263405,
           0.8769230072090213,
           0.2074840830993138,
           0.18712250937186006,
           1,
           0.30814102845331787,
           0.3720403840954339,
           0.08439420771112739,
           0.9957545171929941,
           0.12282168857427145,
           0.6664975811187982,
           0.188802121902906
          ],
          [
           0,
           0.09335432682468048,
           0.07145037056850989,
           0.07236292640778463,
           0.4288976132833798,
           0.41412152090135473,
           0.32643876498607244,
           0.40220811569314663,
           0.04970831998155008,
           0.0872820802845038,
           0.03887070898563792,
           0.07329373336384488,
           0.0008588093405055112,
           1,
           0.06874326354480521,
           0.07100076988672087,
           0.06350342728975286
          ],
          [
           0.20947575526783446,
           0.026151038742279614,
           0.1582767722473605,
           0.2233434881949733,
           0.24799290515309935,
           0.46058143734200074,
           0,
           0.12057428872497365,
           0.025633741258741256,
           0.25646988670244486,
           0.1679897688518378,
           0.7682884615384614,
           0.7922477522477521,
           1,
           0.15398860398860398,
           0.05911819887429644,
           8.505917159763313e-06
          ],
          [
           0.005675072531183467,
           0.012685657895648505,
           0.14557257991619452,
           0.18529173236256824,
           0.05647684491472306,
           0.06991199917145484,
           0.0020515210448271625,
           0.05181708272632528,
           0,
           1,
           0.10327465602741075,
           0.20732803553632612,
           0.02571887487888971,
           0.2712315070041145,
           0.0029586477374372146,
           0.06782697998232344,
           0.016741198653273767
          ],
          [
           0.008694417828879662,
           0.031198493053920417,
           0.3286422095720009,
           0.006653891195571171,
           0.13571354003549435,
           0.008152859811196933,
           0.016519493001742058,
           0.5449992635145088,
           0.039915281850765726,
           0.4178961407018421,
           0,
           1,
           0.011171624074849883,
           0.03506311360448808,
           0.0027877339705296694,
           0.1049042748492001,
           0.00413564929693962
          ],
          [
           0,
           0.6581597501869675,
           0.7472066479051879,
           0.9172834970639968,
           0.43896874932980273,
           0.39420517776654257,
           0.9999999999999998,
           0.3740344132806244,
           0.09123107341524737,
           0.5884101459724125,
           0.5572789357134599,
           0.5589298079357712,
           0.005998541634559193,
           0.7534175352829479,
           0.16120252282755665,
           0.21029815685653502,
           0.2546955214633626
          ],
          [
           0,
           0,
           0,
           0,
           0,
           0,
           0,
           0,
           0,
           0,
           0,
           0,
           0,
           0,
           0,
           0,
           0
          ],
          [
           0.08233580114768232,
           0,
           0.21939586645468998,
           0.34404602622424396,
           0.3202658969649261,
           0,
           0,
           0,
           0,
           0.5149661289196171,
           0,
           0,
           0.13756405756405754,
           1,
           0,
           0.2625972313777192,
           0
          ],
          [
           0,
           0.5284479440028013,
           0.35471569398479996,
           0.5052586480109866,
           0.4203383317308422,
           0.3749347587408408,
           0.6706441181498702,
           0.2629817646925458,
           0.19379006277724484,
           0.9907086481338268,
           0.44311580214359986,
           0.5242473560034274,
           0.09880532529576465,
           0.9999999999999999,
           0.08731598970703122,
           0.6091523607945575,
           0.14333088941037953
          ],
          [
           0.04858085808580858,
           0,
           0.2164705882352941,
           0.4888448844884488,
           0.046148867313915855,
           0,
           0,
           0,
           0,
           0.28764857881136946,
           0,
           0,
           0.1413852813852814,
           1,
           0,
           0.25909593495934957,
           0
          ],
          [
           0,
           0.9999999999999999,
           0.018251046262261834,
           0.004028445666876269,
           0.01761203953240753,
           0.006874108261462758,
           0.5763810731504594,
           0.010956183631409537,
           0.06339872009304226,
           0.004475250016333029,
           0.006780733479448423,
           0.021914744427806904,
           0.020597792819386736,
           0.03612128037757618,
           0.07032220025665036,
           0.03602171116009812,
           0.21605817470157695
          ],
          [
           0.005587079129330165,
           0.00862554818266189,
           0.667000585773348,
           0.7328275907400233,
           0.5226899186898457,
           0.4428804026351789,
           0.026740498802297202,
           0.22730948149231833,
           0.09690333119038558,
           0.20329286752341855,
           0.49004220855162167,
           0.42056573820176063,
           0.03215921039560814,
           0.9999999999999999,
           0,
           0.349814318752222,
           0.0019788625287254225
          ],
          [
           0,
           0.3175406503208868,
           0.244534574755352,
           0.38237762971512507,
           0.4080030744421462,
           0.33018973185421746,
           0.3750994674844274,
           0.2429280759033902,
           0.2262580423616046,
           1,
           0.36362463989736865,
           0.47171187240963225,
           0.10863550174184453,
           0.2161264863607229,
           0.0691814000664533,
           0.25998047347348247,
           0.13125522109179838
          ],
          [
           0,
           0,
           0,
           0,
           0,
           0,
           0,
           0,
           0,
           0,
           0,
           0,
           0,
           0,
           1,
           0,
           0
          ],
          [
           0,
           0.19460157300541614,
           0.5397651511892986,
           1,
           0.41934865556384726,
           0.6269565433376206,
           0.6520124251154192,
           0.2442950853093107,
           0.14384391899553842,
           0.5683565284628397,
           0.5321680237531271,
           0.7474213944685794,
           0.22015078989572517,
           0.1553914427362,
           0.07396255991894514,
           0.7787001591466302,
           0.14710971853214533
          ],
          [
           0.35950385454433936,
           0,
           0.255287811840447,
           0.25434039327041164,
           0.42622787694275377,
           0.4237548463009644,
           0.01579733442725656,
           0.42176093509858237,
           0.27486061820776897,
           0.3042451156222755,
           0.2979473164680748,
           0.25337402632897554,
           0.2801421691322844,
           1,
           0.2648567393978044,
           0.25575458879446444,
           0.2731375420916714
          ],
          [
           0,
           1,
           0.19126388914566195,
           0.1934586066144345,
           0.2989797676143406,
           0.2881549957847492,
           0.948476483347432,
           0.2794273911002254,
           0.16135805895687838,
           0.236060541829342,
           0.13483352926683753,
           0.19569721843258253,
           0.07566924032480882,
           0.9931287371927597,
           0.22536741665486948,
           0.19018258931958373,
           0.20923743188905275
          ],
          [
           0,
           0.677543350622508,
           0.06899456164779445,
           0.06985261277355963,
           0.11831660285234827,
           0.11384760550799211,
           0.6277943315676143,
           0.11024442173915702,
           0.0606167526087133,
           0.12903144053096796,
           0.05347540356026287,
           0.0707278249218401,
           0.011759145722522232,
           1,
           0.15017855193290655,
           0.06857181450778332,
           0.1393954718796166
          ],
          [
           0,
           0.8460595284658189,
           0.03070868359532035,
           0.031167022156444527,
           0.25947302426360375,
           0.2504336076091775,
           1,
           0.24314546737116655,
           0.21692955762298033,
           0.057622750265984644,
           0.030936723963170307,
           0.0316345274887912,
           0.04573861693088612,
           0.0357404438859228,
           0.24673892540518577,
           0.030482868011546975,
           0.2568282498853169
          ],
          [
           0,
           0.6500273559617433,
           0.36466024630310845,
           0.368402564905421,
           0.011966087816213881,
           0.011135289025478026,
           0.3723759522102526,
           0.010465447339013893,
           0.1390769540994641,
           0.35953669619763556,
           0.32894505937394597,
           0.37221972987977986,
           0.5694904172798045,
           1.0000000000000002,
           0.08638455981431829,
           0.36281646982099347,
           0.07951670556475018
          ],
          [
           0,
           0.6738980930408598,
           0.054892954420160345,
           0.05571164746284446,
           0.3107103938288731,
           0.2995858020117902,
           0.9999999999999998,
           0.2906164637952771,
           0.1532940602650789,
           0.0878930515469749,
           0.057351018040044416,
           0.05654671436638227,
           0.037171626605323735,
           0.10159725652697761,
           0.25049904237813886,
           0.054489598335715955,
           0.24568000334236778
          ],
          [
           0,
           1,
           0.026871421384476395,
           0.0272448262755104,
           0.10120074644146909,
           0.09751857492334706,
           0.8058002822639467,
           0.09454977910051676,
           0.19315540854175675,
           0.16807925703805757,
           0.1786559110073984,
           0.02762569926436509,
           0.009140993298781108,
           0.05957395922623184,
           0.1601271801648124,
           0.026687451169869397,
           0.18149838676165872
          ],
          [
           0.010168643562247684,
           0.6717755159138363,
           0.23960615769549048,
           0.24287882610870548,
           0.4163050698518871,
           0.39963526255969084,
           0.492815893265631,
           0.386195026543282,
           0.1574359723657499,
           0.368288735813748,
           0.2503609321912483,
           0.24621694789018483,
           0,
           1.0000000000000002,
           0.099588393808424,
           0.23799376984312598,
           0.08890956113174993
          ],
          [
           0,
           0.9999999999999999,
           0.05341231626036301,
           0.05399742770609467,
           0.11136107216239045,
           0.10751452247484826,
           0.8025151369692037,
           0.10441319474242677,
           0.19654805324120347,
           0.16787449984514133,
           0.1809620820661083,
           0.05459424138074098,
           0.016682732278301297,
           0.031755924303126626,
           0.1984326524591222,
           0.05312404184075862,
           0.18641136277322645
          ],
          [
           0,
           1,
           0.07974965602478178,
           0.08082863813841769,
           0.336692784325501,
           0.32466723384453566,
           0.5830593539626587,
           0.3149714866857142,
           0.0936301088851022,
           0.2674126404726328,
           0.37023769776012605,
           0.08192919989432633,
           0.015992393150531213,
           0.2819717509165164,
           0.10405743779916662,
           0.07921805995903919,
           0.14397964597126808
          ],
          [
           0,
           0.7939576069976404,
           0.8001708424126136,
           0.8085986963913396,
           0.22994060573550915,
           0.22070642213823413,
           0.5956894467164842,
           0.21326124867037247,
           0.16820948876541414,
           0.3976591496767134,
           0.5192285376143915,
           0.8171951074496401,
           0.09930174932983032,
           1,
           0.1312392637033824,
           0.7960185826474853,
           0.060270092726457634
          ],
          [
           0.016677103923556737,
           0.307546561353653,
           0.05834054401863666,
           0.05939474981259476,
           1,
           0.9655542737643288,
           0.22505379063526817,
           0.9377819856839053,
           0.021735035257507508,
           0.0571024651210812,
           0.04775467417980706,
           0.06047003972243203,
           0,
           0.44748053274791194,
           0.022417040655668678,
           0.057821154822589,
           0.019743434387345334
          ],
          [
           0.12094234615829223,
           0.009981491961469403,
           0.07464789136195792,
           0.0753788564376895,
           1,
           0.9671631123520725,
           0.000928348385044607,
           0.940687970060593,
           0.01032850231178768,
           0.29269647337147325,
           0.03791599610315005,
           0.07612444081493572,
           0.0016764473878418571,
           0,
           0.0007914803963016122,
           0.07428775734903649,
           0.0009288667385170713
          ],
          [
           0,
           1,
           0.14375244051840877,
           0.14577511150016162,
           0.4030547189315575,
           0.38781929952784233,
           0.6668088227803454,
           0.37553555629040475,
           0.19391764705511555,
           0.24300880162769345,
           0.12477768266086442,
           0.14783823590154954,
           0.04534792124658133,
           0.2666290270619805,
           0.13372417264865102,
           0.14275590505910615,
           0.13016371398891172
          ],
          [
           0,
           1,
           0.1686800612382667,
           0.17104069730897342,
           0.5103964077013804,
           0.4913307545218899,
           0.6759438112211955,
           0.4759588384554514,
           0.16977956612224349,
           0.49234162762384914,
           0.33121923467369396,
           0.17344854610109428,
           0.03993380249505217,
           0.13607473464121744,
           0.12106849512603063,
           0.16751701614977213,
           0.1148794174828833
          ],
          [
           0.04726176006400336,
           0.12901844747184024,
           0.0671788903687377,
           0.06738467610802663,
           1,
           0.9686608531216145,
           0.061309639571172206,
           0.9433932826443253,
           0.06255459157931702,
           0.0491091165939445,
           0.09501185302642265,
           0.06759457756210135,
           0.049865101167798846,
           0,
           0.05024225969882785,
           0.06707750324840511,
           0.050081385083662076
          ],
          [
           0,
           1,
           0.0853117489898603,
           0.08653677273518519,
           0.3534408024399971,
           0.34056289088086245,
           0.7924516199707783,
           0.33017991717760714,
           0.18689189712032023,
           0.230808227156106,
           0.18191164362488355,
           0.08778629695541665,
           0.015337731371666184,
           0.6166211529507653,
           0.17622436368287098,
           0.08470820070557826,
           0.16266692241358466
          ],
          [
           0,
           0.37330552659019806,
           0,
           0,
           0,
           0,
           1,
           0,
           0.9201839826839825,
           0,
           0,
           0,
           0,
           0,
           0.3788359788359788,
           0,
           0.4917582417582417
          ],
          [
           0.05932306887076373,
           0,
           0.3156258097952838,
           0.4949491865486108,
           0.4605940721098328,
           0.13015242704390811,
           0,
           0.3144247983424859,
           0,
           0.8137192227572312,
           1,
           0.25933920704845814,
           0.16491790148177815,
           0.5832216050565027,
           0,
           0.37777586762651777,
           0
          ],
          [
           0,
           0,
           0,
           0,
           0,
           0,
           0,
           0,
           0,
           0,
           0,
           0,
           0,
           0,
           0,
           0,
           0
          ],
          [
           0,
           0,
           0,
           0,
           0,
           0,
           0,
           0,
           0,
           0,
           0,
           0,
           0,
           0,
           0,
           0,
           0
          ],
          [
           0,
           0,
           0,
           0,
           0,
           0,
           0,
           0,
           0,
           0,
           0,
           0,
           0,
           0,
           0,
           0,
           0
          ]
         ]
        }
       ],
       "layout": {
        "coloraxis": {
         "colorscale": [
          [
           0,
           "rgb(0, 1, 0)"
          ],
          [
           0.1,
           "rgb(11, 25, 39)"
          ],
          [
           0.2,
           "rgb(17, 48, 77)"
          ],
          [
           0.3,
           "rgb(27, 73, 117)"
          ],
          [
           0.4,
           "rgb(46, 98, 160)"
          ],
          [
           0.5,
           "rgb(78, 125, 199)"
          ],
          [
           0.6,
           "rgb(111, 146, 202)"
          ],
          [
           0.7,
           "rgb(144, 166, 201)"
          ],
          [
           0.8,
           "rgb(176, 185, 200)"
          ],
          [
           0.9,
           "rgb(215, 215, 216)"
          ],
          [
           1,
           "rgb(255, 255, 255)"
          ]
         ],
         "showscale": false
        },
        "height": 2500,
        "margin": {
         "t": 200
        },
        "template": {
         "data": {
          "bar": [
           {
            "error_x": {
             "color": "#2a3f5f"
            },
            "error_y": {
             "color": "#2a3f5f"
            },
            "marker": {
             "line": {
              "color": "#E5ECF6",
              "width": 0.5
             },
             "pattern": {
              "fillmode": "overlay",
              "size": 10,
              "solidity": 0.2
             }
            },
            "type": "bar"
           }
          ],
          "barpolar": [
           {
            "marker": {
             "line": {
              "color": "#E5ECF6",
              "width": 0.5
             },
             "pattern": {
              "fillmode": "overlay",
              "size": 10,
              "solidity": 0.2
             }
            },
            "type": "barpolar"
           }
          ],
          "carpet": [
           {
            "aaxis": {
             "endlinecolor": "#2a3f5f",
             "gridcolor": "white",
             "linecolor": "white",
             "minorgridcolor": "white",
             "startlinecolor": "#2a3f5f"
            },
            "baxis": {
             "endlinecolor": "#2a3f5f",
             "gridcolor": "white",
             "linecolor": "white",
             "minorgridcolor": "white",
             "startlinecolor": "#2a3f5f"
            },
            "type": "carpet"
           }
          ],
          "choropleth": [
           {
            "colorbar": {
             "outlinewidth": 0,
             "ticks": ""
            },
            "type": "choropleth"
           }
          ],
          "contour": [
           {
            "colorbar": {
             "outlinewidth": 0,
             "ticks": ""
            },
            "colorscale": [
             [
              0,
              "#0d0887"
             ],
             [
              0.1111111111111111,
              "#46039f"
             ],
             [
              0.2222222222222222,
              "#7201a8"
             ],
             [
              0.3333333333333333,
              "#9c179e"
             ],
             [
              0.4444444444444444,
              "#bd3786"
             ],
             [
              0.5555555555555556,
              "#d8576b"
             ],
             [
              0.6666666666666666,
              "#ed7953"
             ],
             [
              0.7777777777777778,
              "#fb9f3a"
             ],
             [
              0.8888888888888888,
              "#fdca26"
             ],
             [
              1,
              "#f0f921"
             ]
            ],
            "type": "contour"
           }
          ],
          "contourcarpet": [
           {
            "colorbar": {
             "outlinewidth": 0,
             "ticks": ""
            },
            "type": "contourcarpet"
           }
          ],
          "heatmap": [
           {
            "colorbar": {
             "outlinewidth": 0,
             "ticks": ""
            },
            "colorscale": [
             [
              0,
              "#0d0887"
             ],
             [
              0.1111111111111111,
              "#46039f"
             ],
             [
              0.2222222222222222,
              "#7201a8"
             ],
             [
              0.3333333333333333,
              "#9c179e"
             ],
             [
              0.4444444444444444,
              "#bd3786"
             ],
             [
              0.5555555555555556,
              "#d8576b"
             ],
             [
              0.6666666666666666,
              "#ed7953"
             ],
             [
              0.7777777777777778,
              "#fb9f3a"
             ],
             [
              0.8888888888888888,
              "#fdca26"
             ],
             [
              1,
              "#f0f921"
             ]
            ],
            "type": "heatmap"
           }
          ],
          "heatmapgl": [
           {
            "colorbar": {
             "outlinewidth": 0,
             "ticks": ""
            },
            "colorscale": [
             [
              0,
              "#0d0887"
             ],
             [
              0.1111111111111111,
              "#46039f"
             ],
             [
              0.2222222222222222,
              "#7201a8"
             ],
             [
              0.3333333333333333,
              "#9c179e"
             ],
             [
              0.4444444444444444,
              "#bd3786"
             ],
             [
              0.5555555555555556,
              "#d8576b"
             ],
             [
              0.6666666666666666,
              "#ed7953"
             ],
             [
              0.7777777777777778,
              "#fb9f3a"
             ],
             [
              0.8888888888888888,
              "#fdca26"
             ],
             [
              1,
              "#f0f921"
             ]
            ],
            "type": "heatmapgl"
           }
          ],
          "histogram": [
           {
            "marker": {
             "pattern": {
              "fillmode": "overlay",
              "size": 10,
              "solidity": 0.2
             }
            },
            "type": "histogram"
           }
          ],
          "histogram2d": [
           {
            "colorbar": {
             "outlinewidth": 0,
             "ticks": ""
            },
            "colorscale": [
             [
              0,
              "#0d0887"
             ],
             [
              0.1111111111111111,
              "#46039f"
             ],
             [
              0.2222222222222222,
              "#7201a8"
             ],
             [
              0.3333333333333333,
              "#9c179e"
             ],
             [
              0.4444444444444444,
              "#bd3786"
             ],
             [
              0.5555555555555556,
              "#d8576b"
             ],
             [
              0.6666666666666666,
              "#ed7953"
             ],
             [
              0.7777777777777778,
              "#fb9f3a"
             ],
             [
              0.8888888888888888,
              "#fdca26"
             ],
             [
              1,
              "#f0f921"
             ]
            ],
            "type": "histogram2d"
           }
          ],
          "histogram2dcontour": [
           {
            "colorbar": {
             "outlinewidth": 0,
             "ticks": ""
            },
            "colorscale": [
             [
              0,
              "#0d0887"
             ],
             [
              0.1111111111111111,
              "#46039f"
             ],
             [
              0.2222222222222222,
              "#7201a8"
             ],
             [
              0.3333333333333333,
              "#9c179e"
             ],
             [
              0.4444444444444444,
              "#bd3786"
             ],
             [
              0.5555555555555556,
              "#d8576b"
             ],
             [
              0.6666666666666666,
              "#ed7953"
             ],
             [
              0.7777777777777778,
              "#fb9f3a"
             ],
             [
              0.8888888888888888,
              "#fdca26"
             ],
             [
              1,
              "#f0f921"
             ]
            ],
            "type": "histogram2dcontour"
           }
          ],
          "mesh3d": [
           {
            "colorbar": {
             "outlinewidth": 0,
             "ticks": ""
            },
            "type": "mesh3d"
           }
          ],
          "parcoords": [
           {
            "line": {
             "colorbar": {
              "outlinewidth": 0,
              "ticks": ""
             }
            },
            "type": "parcoords"
           }
          ],
          "pie": [
           {
            "automargin": true,
            "type": "pie"
           }
          ],
          "scatter": [
           {
            "fillpattern": {
             "fillmode": "overlay",
             "size": 10,
             "solidity": 0.2
            },
            "type": "scatter"
           }
          ],
          "scatter3d": [
           {
            "line": {
             "colorbar": {
              "outlinewidth": 0,
              "ticks": ""
             }
            },
            "marker": {
             "colorbar": {
              "outlinewidth": 0,
              "ticks": ""
             }
            },
            "type": "scatter3d"
           }
          ],
          "scattercarpet": [
           {
            "marker": {
             "colorbar": {
              "outlinewidth": 0,
              "ticks": ""
             }
            },
            "type": "scattercarpet"
           }
          ],
          "scattergeo": [
           {
            "marker": {
             "colorbar": {
              "outlinewidth": 0,
              "ticks": ""
             }
            },
            "type": "scattergeo"
           }
          ],
          "scattergl": [
           {
            "marker": {
             "colorbar": {
              "outlinewidth": 0,
              "ticks": ""
             }
            },
            "type": "scattergl"
           }
          ],
          "scattermapbox": [
           {
            "marker": {
             "colorbar": {
              "outlinewidth": 0,
              "ticks": ""
             }
            },
            "type": "scattermapbox"
           }
          ],
          "scatterpolar": [
           {
            "marker": {
             "colorbar": {
              "outlinewidth": 0,
              "ticks": ""
             }
            },
            "type": "scatterpolar"
           }
          ],
          "scatterpolargl": [
           {
            "marker": {
             "colorbar": {
              "outlinewidth": 0,
              "ticks": ""
             }
            },
            "type": "scatterpolargl"
           }
          ],
          "scatterternary": [
           {
            "marker": {
             "colorbar": {
              "outlinewidth": 0,
              "ticks": ""
             }
            },
            "type": "scatterternary"
           }
          ],
          "surface": [
           {
            "colorbar": {
             "outlinewidth": 0,
             "ticks": ""
            },
            "colorscale": [
             [
              0,
              "#0d0887"
             ],
             [
              0.1111111111111111,
              "#46039f"
             ],
             [
              0.2222222222222222,
              "#7201a8"
             ],
             [
              0.3333333333333333,
              "#9c179e"
             ],
             [
              0.4444444444444444,
              "#bd3786"
             ],
             [
              0.5555555555555556,
              "#d8576b"
             ],
             [
              0.6666666666666666,
              "#ed7953"
             ],
             [
              0.7777777777777778,
              "#fb9f3a"
             ],
             [
              0.8888888888888888,
              "#fdca26"
             ],
             [
              1,
              "#f0f921"
             ]
            ],
            "type": "surface"
           }
          ],
          "table": [
           {
            "cells": {
             "fill": {
              "color": "#EBF0F8"
             },
             "line": {
              "color": "white"
             }
            },
            "header": {
             "fill": {
              "color": "#C8D4E3"
             },
             "line": {
              "color": "white"
             }
            },
            "type": "table"
           }
          ]
         },
         "layout": {
          "annotationdefaults": {
           "arrowcolor": "#2a3f5f",
           "arrowhead": 0,
           "arrowwidth": 1
          },
          "autotypenumbers": "strict",
          "coloraxis": {
           "colorbar": {
            "outlinewidth": 0,
            "ticks": ""
           }
          },
          "colorscale": {
           "diverging": [
            [
             0,
             "#8e0152"
            ],
            [
             0.1,
             "#c51b7d"
            ],
            [
             0.2,
             "#de77ae"
            ],
            [
             0.3,
             "#f1b6da"
            ],
            [
             0.4,
             "#fde0ef"
            ],
            [
             0.5,
             "#f7f7f7"
            ],
            [
             0.6,
             "#e6f5d0"
            ],
            [
             0.7,
             "#b8e186"
            ],
            [
             0.8,
             "#7fbc41"
            ],
            [
             0.9,
             "#4d9221"
            ],
            [
             1,
             "#276419"
            ]
           ],
           "sequential": [
            [
             0,
             "#0d0887"
            ],
            [
             0.1111111111111111,
             "#46039f"
            ],
            [
             0.2222222222222222,
             "#7201a8"
            ],
            [
             0.3333333333333333,
             "#9c179e"
            ],
            [
             0.4444444444444444,
             "#bd3786"
            ],
            [
             0.5555555555555556,
             "#d8576b"
            ],
            [
             0.6666666666666666,
             "#ed7953"
            ],
            [
             0.7777777777777778,
             "#fb9f3a"
            ],
            [
             0.8888888888888888,
             "#fdca26"
            ],
            [
             1,
             "#f0f921"
            ]
           ],
           "sequentialminus": [
            [
             0,
             "#0d0887"
            ],
            [
             0.1111111111111111,
             "#46039f"
            ],
            [
             0.2222222222222222,
             "#7201a8"
            ],
            [
             0.3333333333333333,
             "#9c179e"
            ],
            [
             0.4444444444444444,
             "#bd3786"
            ],
            [
             0.5555555555555556,
             "#d8576b"
            ],
            [
             0.6666666666666666,
             "#ed7953"
            ],
            [
             0.7777777777777778,
             "#fb9f3a"
            ],
            [
             0.8888888888888888,
             "#fdca26"
            ],
            [
             1,
             "#f0f921"
            ]
           ]
          },
          "colorway": [
           "#636efa",
           "#EF553B",
           "#00cc96",
           "#ab63fa",
           "#FFA15A",
           "#19d3f3",
           "#FF6692",
           "#B6E880",
           "#FF97FF",
           "#FECB52"
          ],
          "font": {
           "color": "#2a3f5f"
          },
          "geo": {
           "bgcolor": "white",
           "lakecolor": "white",
           "landcolor": "#E5ECF6",
           "showlakes": true,
           "showland": true,
           "subunitcolor": "white"
          },
          "hoverlabel": {
           "align": "left"
          },
          "hovermode": "closest",
          "mapbox": {
           "style": "light"
          },
          "paper_bgcolor": "white",
          "plot_bgcolor": "#E5ECF6",
          "polar": {
           "angularaxis": {
            "gridcolor": "white",
            "linecolor": "white",
            "ticks": ""
           },
           "bgcolor": "#E5ECF6",
           "radialaxis": {
            "gridcolor": "white",
            "linecolor": "white",
            "ticks": ""
           }
          },
          "scene": {
           "xaxis": {
            "backgroundcolor": "#E5ECF6",
            "gridcolor": "white",
            "gridwidth": 2,
            "linecolor": "white",
            "showbackground": true,
            "ticks": "",
            "zerolinecolor": "white"
           },
           "yaxis": {
            "backgroundcolor": "#E5ECF6",
            "gridcolor": "white",
            "gridwidth": 2,
            "linecolor": "white",
            "showbackground": true,
            "ticks": "",
            "zerolinecolor": "white"
           },
           "zaxis": {
            "backgroundcolor": "#E5ECF6",
            "gridcolor": "white",
            "gridwidth": 2,
            "linecolor": "white",
            "showbackground": true,
            "ticks": "",
            "zerolinecolor": "white"
           }
          },
          "shapedefaults": {
           "line": {
            "color": "#2a3f5f"
           }
          },
          "ternary": {
           "aaxis": {
            "gridcolor": "white",
            "linecolor": "white",
            "ticks": ""
           },
           "baxis": {
            "gridcolor": "white",
            "linecolor": "white",
            "ticks": ""
           },
           "bgcolor": "#E5ECF6",
           "caxis": {
            "gridcolor": "white",
            "linecolor": "white",
            "ticks": ""
           }
          },
          "title": {
           "x": 0.05
          },
          "xaxis": {
           "automargin": true,
           "gridcolor": "white",
           "linecolor": "white",
           "ticks": "",
           "title": {
            "standoff": 15
           },
           "zerolinecolor": "white",
           "zerolinewidth": 2
          },
          "yaxis": {
           "automargin": true,
           "gridcolor": "white",
           "linecolor": "white",
           "ticks": "",
           "title": {
            "standoff": 15
           },
           "zerolinecolor": "white",
           "zerolinewidth": 2
          }
         }
        },
        "title": {
         "text": "Comparison of the chosen parameters for the chosen food products (per Energiegehalt 1 kJ). <br> Dark color signifies low values in comparison with the other chosen products, <br> bright colors signify high values.",
         "y": 0.99
        },
        "width": 1000,
        "xaxis": {
         "anchor": "y",
         "domain": [
          0,
          1
         ],
         "side": "top",
         "title": {
          "text": " "
         }
        },
        "yaxis": {
         "anchor": "x",
         "autorange": "reversed",
         "domain": [
          0,
          1
         ]
        }
       }
      },
      "text/html": [
       "<div>                            <div id=\"217ca906-b7a7-49c8-955a-c1b6a1494e3e\" class=\"plotly-graph-div\" style=\"height:2500px; width:1000px;\"></div>            <script type=\"text/javascript\">                require([\"plotly\"], function(Plotly) {                    window.PLOTLYENV=window.PLOTLYENV || {};                                    if (document.getElementById(\"217ca906-b7a7-49c8-955a-c1b6a1494e3e\")) {                    Plotly.newPlot(                        \"217ca906-b7a7-49c8-955a-c1b6a1494e3e\",                        [{\"coloraxis\":\"coloraxis\",\"name\":\"0\",\"x\":[\"Apple\",\"Feta\",\"Pine nut\",\"Sesame\",\"Pistachio\",\"Cashew nut\",\"Hard cheese\",\"Hazel nut\",\"Chicken\",\"Peanut\",\"Linseed\",\"Sunflower seed\",\"Durum wheat\",\"Soybeans\",\"Cow's milk\",\"Pumpkin seed\",\"Soft cheese\"],\"y\":[\"Alanin_mg/1kJ\",\"Alkohol (Ethanol)_mg/1kJ\",\"Arginin_mg/1kJ\",\"Asparagic acid_mg/1kJ\",\"Butteric acid/1kJ\",\"Calcium_mg/1kJ\",\"Cholesterin_mg/1kJ\",\"Cystein_mg/1kJ\",\"DOCOSATRIENACE_MG/1kJ\",\"Decanic acid/1kJ\",\"Decosanic acid/1kJ\",\"Decosis acid/1kJ\",\"Disaccharide (2M)_mg/1kJ\",\"Docosadi acid_mg/1kJ\",\"Docosahexaens\\u00e4ure_mg/1kJ\",\"Docosatetraens\\u00e4ure_mg/1kJ\",\"Dodecanic acid/1kJ\",\"EICOSADIACHERION_MG/1kJ\",\"EICOSATETREENONE/1kJ\",\"EICOSATRIENOCE_MG/1kJ\",\"Eicosanic acid/1kJ\",\"Eicosapentaens\\u00e4ure_mg/1kJ\",\"Eicosenic acid_mg/1kJ\",\"Energy (kilocalories) _Kcal/1kJ\",\"Energy (kilojoule) _kJ/1kJ\",\"Essential _mg/1kJ\",\"Eutrophying emissions per 100g (gPO\\u2084eq per 100g}/1kJ\",\"Fat_g/1kJ\",\"Fluorid_\\u03bcg/1kJ\",\"Freshwater withdrawals per 100g (liters per 100g)/1kJ\",\"Fructose (fructose) _MG/1kJ\",\"Glucose (glucose) _mg/1kJ\",\"Glutamic acid_mg/1kJ\",\"Glycerin and lipoid_mg/1kJ\",\"Glycin_mg/1kJ\",\"Glycogen (animal strength) _mg/1kJ\",\"Heptadecanic acid_mg/1kJ\",\"Heptadecenic acid_mg/1kJ\",\"Hexadecadios_mg/1kJ\",\"Hexadecan acid/1kJ\",\"Hexadecatetraens\\u00e4ure_mg/1kJ\",\"Hexadecensic acid/1kJ\",\"Hexanic acid/1kJ\",\"Histidin_mg/1kJ\",\"Iodid_\\u03bcg/1kJ\",\"Isoleucin_mg/1kJ\",\"KUPFER_MG/1kJ\",\"Kalium_mg/1kJ\",\"Lactose (milk sugar) _mg/1kJ\",\"Land use per 100g (m\\u00b2 per 100g)/1kJ\",\"Leucin_mg/1kJ\",\"Lignin_mg/1kJ\",\"Long -chain fatty acids_mg/1kJ\",\"Lysin_mg/1kJ\",\"Maltose (Malzzucker)_mg/1kJ\",\"Mangan_\\u03bcg/1kJ\",\"Mannit_mg/1kJ\",\"Medium -chain fatty acids_mg/1kJ\",\"Methionin_mg/1kJ\",\"Minerals (raw ash) _mg/1kJ\",\"Monosaccharide (1M)_mg/1kJ\",\"Non -essential amino acids_mg/1kJ\",\"Nonadecatrio acid_mg/1kJ\",\"Octadecanic acid/1kJ\",\"Octadecenic acid/1kJ\",\"Octadecriosic acid/1kJ\",\"Octadiic acid/1kJ\",\"Octanic acid/1kJ\",\"OctradeCateTrade acid/1kJ\",\"Oligosaccharide, sorbierbar (3-9 M)_mg/1kJ\",\"Oligosaccharides, not resorbable_mg/1kJ\",\"Omega-3 fatty acids_mg/1kJ\",\"Omega-6 fatty acids_mg/1kJ\",\"Organic acids_mg/1kJ\",\"Pentadecensic acid_mg/1kJ\",\"Pentaecanic acid_mg/1kJ\",\"Phenylalanine mg/1kJ\",\"Poly-Hexosen_mg/1kJ\",\"Poly-Pentosen_mg/1kJ\",\"Poly-Uronic acid_mg/1kJ\",\"Polysaccharide (> 9M)_mg/1kJ\",\"Polyunsaturated fatty acids MG/1kJ\",\"Prolin_mg/1kJ\",\"Protein_g/1kJ\",\"Purin_mg/1kJ\",\"Saccharosis (beet sugar) _MG/1kJ\",\"Saturated fatty acids_mg/1kJ\",\"Serin_mg/1kJ\",\"Short -chain fatty acids_mg/1kJ\",\"Simply unsaturated fatty acids mg/1kJ\",\"Sodium_mg/1kJ\",\"Sorbit_mg/1kJ\",\"Starch_mg/1kJ\",\"Sugar (total) _mg/1kJ\",\"Sum sugar alcohols_mg/1kJ\",\"TetraCanic acid/1kJ\",\"Tetracosanic acid/1kJ\",\"Tetracosenic acid/1kJ\",\"TetradeCensic acid_mg/1kJ\",\"Threonin_mg/1kJ\",\"Tryptophan_mg/1kJ\",\"Tyrosin_mg/1kJ\",\"Uric acid_mg/1kJ\",\"Valin_mg/1kJ\",\"Vitamin A-Beta-Carotin_\\u03bcg/1kJ\",\"Vitamin A-Retinol_\\u03bcg/1kJ\",\"Vitamin A-Retinol\\u00e4quivalent_\\u03bcg/1kJ\",\"Vitamin B1-Thiamin_\\u03bcg/1kJ\",\"Vitamin B12-Cobalamin_\\u03bcg/1kJ\",\"Vitamin B2-Riboflavin_\\u03bcg/1kJ\",\"Vitamin B3-Niacin\\u00e4quivalent_\\u03bcg/1kJ\",\"Vitamin B3-niacin, nicotinic acid_\\u03bcg/1kJ\",\"Vitamin B5-Pantothenic acid_\\u03bcg/1kJ\",\"Vitamin B6-Pyridoxin_\\u03bcg/1kJ\",\"Vitamin B7-Biotin (VitaminH)_\\u03bcg/1kJ\",\"Vitamin B9-overall folic acid_\\u03bcg/1kJ\",\"Vitamin C-ASCORBINCOCHER_INCH/1kJ\",\"Vitamin D-Calciferole_\\u03bcg/1kJ\",\"Vitamin E-Alpha-Tocopherol_\\u03bcg/1kJ\",\"Vitamin E-Tocopherol\\u00e4quivalent_\\u03bcg/1kJ\",\"Vitamin K-Phyllochinon_\\u03bcg/1kJ\",\"Water -insoluble fiber_mg/1kJ\",\"Xylit_mg/1kJ\",\"http:/1kJ\",\"http:/1kJ\",\"http:/1kJ\"],\"z\":[[0.0,1.0,0.012640942520756922,0.08269711448538537,0.03817094351776541,0.03676338693944628,0.5079603072772937,0.003398511554193919,0.05817122569834648,0.1731682453013655,0.012726163874875792,0.030632874802332895,0.018716140434016343,0.11042318318149592,0.14827243202802198,0.018581993330433044,0.0632099829571391],[0.0,1.0,0.36745654329304056,0.37159575935097566,0.5600182473918743,0.5399508404357617,0.6669321656960886,0.5237712481345514,0.2502591097727882,0.4575116816720801,0.36320081360148143,0.37581775973006953,0.037543742875734434,0.9482531070863677,0.13086265149187454,0.3654172222108384,0.12740497441539383],[0.017744881284244927,0.0,0.5220588235294118,0.7473325002403152,0.5922801395041946,1.0,0.02888213917665564,0.7554196036707009,0.02545785525154457,0.6147776021675321,0.6112200487828207,0.9771116504854368,0.040284957760685906,0.2247783875052765,0.005361380798274001,0.42014918304522847,0.01391896938013443],[0.0,0.0,0.0,0.0,0.0,0.0,0.0,0.0,0.0,0.0,0.0,0.0,0.0,0.0,0.0,0.0,0.0],[0.06175056193011356,0.0,0.004120243376567668,0.00581405290788146,0.0645572379563023,0.5994902440936156,0.0,0.15693882540358514,0.0,0.11759560500372646,0.2186545513327718,0.9999999999999999,0.010317834152031044,0.0804735801356662,0.0,0.021399384978305742,0.0],[0.0,0.0,0.0,0.0,0.0,0.0,0.0,0.0,0.0,0.0,0.0,0.0,0.0,0.0,0.0,0.0,0.0],[0.0,1.0,0.0,0.0,0.0,0.01281259936778707,0.6281466313516884,0.014953883097746005,0.0,0.0,0.018821266657507902,0.013645418326693227,0.0014177058001759199,0.0,0.18598199793418918,0.0,0.25926294820717133],[0.0,0.0632367413113199,0.6673988703143722,1.0,0.44112135451489287,0.7022581658720511,0.0888111016586381,0.4277799184194094,0.014791464597478179,0.7193287167572691,0.92553501550458,0.9777691561590691,0.03610162873014475,0.29696790789862104,0.04254768832848367,0.8074566487662939,0.012907558009400882],[0.0,0.4380058111718506,0.322367803636341,0.3272553754500629,0.39877871807373433,0.3420386395763711,0.6223158495409563,0.21508746262804973,0.22875223306126902,0.9663644781736377,0.3630229239943867,0.38464146796419735,0.08915644414581614,1.0,0.08923399736188029,0.4643158708869215,0.1323271130015205],[0.06175056193011356,0.0,0.004120243376567668,0.00581405290788146,0.0645572379563023,0.5994902440936156,0.0,0.15693882540358514,0.0,0.11759560500372646,0.2186545513327718,0.9999999999999999,0.010317834152031044,0.0804735801356662,0.1997910403206891,0.021399384978305742,1.1071254594570657e-05],[0.10102565505169302,0.0,0.025154371140721485,0.09861468191017998,0.036673282197071284,0.0,0.0,0.0,0.0,1.0,0.0,0.0,0.04600200904068307,0.3021258707662744,0.0,0.030072766473521088,0.0],[0.0,0.19313732209125892,0.5928864538059067,0.3808114482696059,0.5684738605653149,0.576117155602915,0.264793877376747,0.4375260573457328,0.2743606633761757,1.0,0.616189975692324,0.6845439288792126,0.15866204372123544,0.6285307475531523,0.05374376962348115,0.5640447735270658,0.05698481565606344],[0.005672422522016609,0.02728397753409345,0.3129309627243255,0.003712823953829964,0.12765391786022343,0.14283544230157014,0.013187152226784831,0.5754032391154121,0.035655055160160896,0.3986450488783896,0.4042679500007629,0.9999999999999999,0.008051381822751386,0.030995325758545737,0.0,0.098066559890749,0.0012944564900812272],[0.0,0.7293997253127129,0.310558340465667,0.28368295700674734,0.20947351623544344,0.18914167901567377,0.9999999999999999,0.1316294808841485,0.08800743031141013,0.5716573662767955,0.21059645511927164,0.30485717381250993,0.1545433896360822,0.6216079555374889,0.11916717763867665,0.3075437039792015,0.21325981084899748],[0.050605060506050605,0.0,0.0,0.33616218764733613,0.0,0.0,0.061186485767491354,0.0,0.02074314574314574,0.6282761166482095,0.0,0.0,0.22758194186765612,1.0,0.0,0.0,0.02106227106227106],[0.0,0.4745571372836872,0.397784616159259,0.36823322194604025,0.37864748902335205,0.36182107597822083,0.6409517098058308,0.284218068944668,0.14221513560268106,0.8780079577664914,0.4209819505228937,0.5084469373981465,0.11808960566503901,1.0,0.08737970385734134,0.5560119789184526,0.13560481527394563],[0.0,0.0,0.0,0.0,0.0,0.0,0.0,0.0,0.0,0.0,0.0,0.0,0.023071331653421203,1.0,0.0,0.0,0.0],[0.0,0.3321992687364422,0.5110045173243618,0.47583965197301314,0.3771114413919648,0.3372002998537598,0.40848943965669643,0.29379237736457636,0.22365889735594668,0.5416804442591237,0.44435909346239255,0.4892160175979747,0.07582335696083499,1.0,0.061875014507951714,0.6054080382028796,0.08455445909576888],[0.0,0.526213390598723,0.38372245869351734,0.364634424910722,0.4233670401173126,0.4281389115458364,0.7488180266919707,0.34510683981493956,0.10547681287486145,0.8758399254463521,0.455566935231985,0.5864224817364977,0.1598629859359889,1.0,0.10118219141219306,0.5312640493637185,0.1584712124944326],[0.0,0.27791347653960385,0.32997434277874593,0.21112478919542027,0.29453711559576345,0.283308459887907,0.3174469806829204,0.23425128994385921,0.13093754103694827,0.8488127454077519,0.3482805206175125,0.39867725018323097,0.029718582528242894,1.0,0.04886117429648131,0.4921438988464302,0.06552296230450116],[0.017283133626130393,0.0,0.6853168002419476,0.488491265579,1.0,0.0,0.0,0.0,0.0,0.49535348704356896,0.0,0.0,0.16276611135222957,0.6715472597891285,0.0,0.8203203265965822,0.0],[0.0,0.17833685960848242,0.4465523308641889,0.567719277359445,0.367269050136432,0.33690103955977896,0.20558878697673397,0.26420331329169533,0.12056879398466945,1.0,0.5228834074202008,0.5691590523527486,0.09367604091494681,0.8654730924962829,0.033951671842085245,0.8472725451323682,0.04550771886525926],[0.0,0.7605134173838668,0.45719975847565203,0.771337113836822,0.41729383469142184,0.41375578977006977,0.9999999999999999,0.23011459139059487,0.32583161764166074,0.5909572362538542,0.5301883204701595,0.6866185205789193,0.0960144369802599,0.6474217881682671,0.16981997744857885,0.8003588429050671,0.2139099153320905],[0.15181518151815182,0.0,0.0,0.0,0.0,0.0,0.0,0.0,0.0,0.0,0.0,0.0,0.0,1.0,0.0,0.0,0.0],[0.0,0.0,0.0,0.0,0.0,0.0,0.0,0.0,0.0,0.0,0.0,0.0,0.0,0.0,0.0,0.0,0.0],[0.029474485910129473,0.0,0.24321266968325794,0.2947448591012947,0.5780433159073936,0.7919826652221019,0.7761065749892566,0.0,0.41346153846153844,1.0,0.32751042061386887,0.3125769230769231,0.15464535464535464,0.2588628762541806,0.12495726495726495,0.4356472795497186,0.1908284023668639],[0.0,null,null,null,null,null,0.9999999999999999,null,0.14251722150949675,0.1924250371947443,null,null,null,null,0.136027566886523,null,null],[0.0,0.4247344818565217,0.746631252804823,0.627819755209572,0.6403209164249948,0.4994489522620271,0.4524981242259653,0.7138916324800312,0.015951793682816934,0.9790723628143538,0.3734797481960929,0.6213816571836294,0.0019323584262569606,1.0,0.06274457190134387,0.5563879645821834,0.06528729873467244],[0.18239286752489756,0.27274341327643875,0.017809005031656867,0.003218853795764214,0.0054514103972293955,0.009462242424096918,0.16244880471388226,0.009790142951419565,0.19405311703329312,0.0,0.021621393663759314,0.00925383878264635,0.018344146719902844,1.0,0.4388353504314455,0.01427385085972798,0.06683568346437885],[0.0,null,null,null,null,null,1.0,null,0.05188444276626333,0.4480701433858287,null,null,null,null,0.13212889906998682,null,null],[0.0,0.0,0.0,0.0,0.0,0.0,0.0,0.0,0.0,0.0,0.0,0.0,0.0,0.0,0.0,0.0,0.0],[0.1485619990570486,1.0,0.0004796918767507004,0.0,0.0004750346740638004,0.0,0.7106943335993616,0.0,0.0,0.0007585825027685493,0.0,0.0,0.0,0.531832298136646,0.1522222222222222,0.0,0.05645604395604396],[1.0,0.0,0.0,0.0,0.0,0.0,0.0,0.0,0.0,0.0,0.0,0.0,0.0,0.0,0.0,0.0,0.0],[0.00036157154299996176,1.0,0.012888962062233932,0.02657550841049719,0.02712313132999228,0.0023145671308941215,0.5630820297579293,0.006253206479965093,0.0060172900536755,0.0972417234656525,0.004857170432319683,0.005751699320271891,0.00014228075003764728,0.010717452149574952,0.16474002991396036,0.0,0.23217482237874082],[0.0,0.0,0.0,0.0,0.0,0.0,0.0,0.0,0.0,0.0,0.0,0.0,0.0,0.0,0.0,0.0,0.0],[0.0,0.9015313797542974,0.2614627925817687,0.35026838097615776,0.2729172145581379,0.2364372227623637,0.801376459323737,0.1900007352903456,0.4395320071265645,0.339807957856397,0.2056550322124812,0.3683560104855823,0.020007878777071133,1.0,0.37802188657262925,0.05079661806479506,0.2479043238623815],[0.0143728451819753,0.0,0.19937714593796999,0.28134000085970967,0.2550124344906074,0.0,0.0,0.0,0.0,0.2135308739320451,0.0,0.0,1.0,0.5300963586844163,0.0,0.05069661198989497,0.0],[0.0,0.6386626093486821,0.43503103750692546,0.402117166616602,0.383693072564706,0.3749495180158761,0.8888749444591927,0.2626998405968304,0.19704957580965687,0.8448743750275783,0.3505153886075262,0.447511454677501,0.09244812747719669,1.0,0.12526636746140687,0.6787490680684908,0.19218528483794098],[0.0,0.49008864749996944,0.33943947867426033,0.43363763558535473,0.280812872607969,0.33221423934745387,0.7060390870297839,0.20929203850501674,0.20269467431179375,0.6441619166757141,0.41008509576352775,0.4597275825287102,0.07254203953332605,1.0,0.09979082106196405,0.5176639128658732,0.1505366936940489],[0.0143728451819753,0.0,0.19937714593796999,0.28134000085970967,0.2550124344906074,0.0,0.0,0.0,0.0,0.2135308739320451,0.0,0.0,1.0,0.5300963586844163,0.0,0.05069661198989497,0.0],[0.0,0.5238736581716466,0.4415805238384794,0.4490912776163772,0.3153611373673912,0.4596333263867148,0.7281510119918667,0.2978899056246662,0.21329128048268645,0.7901529804449626,0.6045856973450402,0.5791723532193771,0.0816852494171594,0.9999999999999999,0.08059815778213182,0.8160885635611306,0.15504825557524698],[0.0,0.4960830705820236,0.36144122420981023,0.3824126592437755,0.3522238755484029,0.31819086366715815,0.8634037206494447,0.21598366873143124,0.22978447334734134,0.8059857454526004,0.3879134276453989,0.4701705787579135,0.08445238436194409,0.9999999999999999,0.08731939395028379,0.6357573500807331,0.18457069430769876],[0.0,0.0,0.0,0.0,0.0,0.0,0.0,0.0,0.0,0.0,0.0,0.0,0.0,0.0,0.0,0.0,0.0],[0.006732673267326733,0.0,1.0,0.34407091871977896,0.10685933619327163,0.4365542089747789,0.010601533064830455,0.7495380694488691,0.012758985200845665,0.5898972417522986,0.5281704662618856,0.5645581395348837,0.07393536695862277,0.3609706774519717,0.0007028423772609819,0.6405808281338627,0.002737030411449016],[0.0,0.4399554329267534,0.45235668534974127,0.39722557301309086,0.3876564456639346,0.3785643346596682,0.6874744712520526,0.2836961969492008,0.1698953939653557,0.8917073093257027,0.42152294742583685,0.5024466606858415,0.09952173594746783,1.0,0.09289665449179124,0.667713475238454,0.14571532610619467],[0.06282007511095938,0.0,0.01477349560513861,0.0,0.053900234348845,0.0,0.0,0.0,0.0,0.0,0.0,0.0,0.0,1.0,0.019974457215836527,0.001547518923465097,3.050397877984085e-06],[0.0,0.4389685867155728,0.613844383900483,0.6169063776933739,0.6210884244364562,0.6046308271025539,0.3379941063881117,0.6488857117564395,0.07449213118348899,1.0,0.46575209454708805,0.515662520475942,0.1532027564177043,0.6869734268645923,0.06570702252303606,0.5991790744325459,0.07681559120950335],[0.045487117294640514,0.29063083906531584,0.1580351728320194,0.15977461104488921,0.15534150226729482,0.14666181022297803,0.20725173440112765,0.13510699835718565,0.06120862654149391,0.286871551891118,0.1583903512660434,0.16229390179975534,0.00655173587551712,1.0,0.29643634198587887,0.15674381933405218,0.0],[0.0,0.0,0.0,0.0,0.0,0.0,0.14581005586592183,0.0,0.8046401515151516,0.0,1.0,0.0,0.0,0.0,0.04833333333333334,0.0,0.09759615384615386],[0.0,null,null,null,null,null,1.0,null,0.04437392402482671,0.1403470057248376,null,null,null,null,0.13149331091613514,null,null],[0.00047246103920736904,1.0,0.002806974409408487,0.031891120146497406,0.004169583346014548,0.0,0.6398019882897557,0.0,0.07808492447990881,0.012207074757195046,0.04019642664113532,0.0,0.00037183297371385147,0.006224160646949253,0.04771856495994427,0.01955297295919668,0.2752994132304477],[0.0,0.10574023883953125,0.20324290271466364,0.35846089948973536,0.20489849432188034,0.23403897933704043,0.15999219057127495,0.30493553824871455,0.2039318963936265,1.0,0.26523706056243096,0.454939183576599,0.021378099768986206,0.7266833831215398,0.03878011154622047,0.17579238626134927,0.06157520241713905],[0.0,1.0,0.0,0.0,0.0,0.0,0.2940674799007254,0.0,0.0,0.0,0.0,0.0,0.0,0.0,0.08529318340639096,0.0,0.12111096450719094],[0.020262578654291097,0.024793800067596808,0.5154584985903379,0.38452035292887526,0.9060831433911967,0.5725022215611568,0.052503074667913194,0.6049690454729235,0.05214533638579129,0.9381104415015209,0.6436682900281319,0.7056571892770105,0.000475592644560964,1.0,0.14545837470289133,0.4842345109072536,0.0],[0.011006600660066005,0.0,0.01014705882352941,0.023910891089108904,0.0837378640776699,0.0,0.07067039106145251,0.01155251141552511,0.005662878787878786,0.0017829457364341081,0.02719211822660098,0.008624999999999997,0.0,1.0,0.014481481481481477,0.12790243902439022,0.022115384615384613],[0.0,0.4391298994595702,0.613660672133153,0.6160461099558319,0.621104291136328,0.6038747825430248,0.33848731593850806,0.6481532381073682,0.07417679206695653,1.0,0.4657999844395016,0.51491810885593,0.1531047569647257,0.6842667494083916,0.06567627744265137,0.5984223908869093,0.07690397405711821],[0.0,0.4713566827268527,0.6663894914762756,0.6690069363773795,0.6716376562490008,0.5928660859643501,0.2723705147122663,0.7750854332689864,0.09428682904159498,1.0000000000000002,0.4819911621288594,0.3523906438909612,0.005071636464227023,0.34364148186267635,0.07049869214299849,0.6060722412440896,0.11204375983687344],[0.0,1.0,0.0,0.0,0.0,0.0,0.471358940719567,0.0,0.0,0.0,0.0,0.0,0.0,0.0,0.13572950866885547,0.0,0.19421581528891013],[0.0,0.3579251548548719,0.022139249916408494,0.7701863468295285,0.1284448463284733,0.032306559875801596,1.0,0.13246986848196218,0.035255430447295934,0.060128092857268146,0.1991999117738983,0.08251102812678207,0.005518222694507163,0.5606353020027945,0.17407945647308426,0.006441041618340982,0.15020242170221018],[0.0,0.0,0.0,0.0,0.0,0.0,0.0,0.0,0.0,0.0,0.0,0.0,0.0,0.0,0.0,0.0,0.0],[0.008220822082208222,1.0,0.007326203208556151,0.017263726372637265,0.060458958517210955,0.0,0.6067242254951752,0.009099211290992113,0.5246005509641873,0.0,0.019632781012091358,0.007472727272727273,0.0,0.725612648221344,0.11439730639730639,0.0923458980044346,0.2845384615384616],[0.5926133125039583,0.0,0.0,0.0,0.0,0.0,0.0,0.0,0.0,0.0,0.0,0.0,0.00439453936255642,1.0,0.0,0.008133548286442353,0.0],[0.0,0.5285090902732316,0.5084618108900052,0.42713271147275084,0.39681466084085953,0.39577236822994927,0.7352702721326113,0.2830923486841268,0.1984170256004654,0.9056768063657916,0.4219845239626078,0.4960709789723352,0.08045222463746625,1.0,0.09847370062091801,0.7827348320411169,0.1561331580701667],[0.047836745511164125,0.0,0.21256445333052726,1.0,0.3102936550667416,0.0,0.0,0.0,0.0,0.9013758110567197,0.0,0.0,0.296179272923459,0.34041118975396034,0.0,0.25442064080748145,0.0],[0.0,0.6235245392420791,0.26304313400655355,0.19579623110374816,0.33355314875539577,0.2947713199886834,0.7938849432721997,0.13101212140123739,0.16386321278638527,0.5403497281443989,0.2776493006639892,0.3066576931041623,0.041861803551594405,1.0,0.12759945698442282,0.6948406224588235,0.16909935167338358],[0.0,0.14609311549061377,0.8099723682314177,0.40004083471795887,0.34504852728434504,0.3970620421960075,0.2156619354193154,0.37961624238038055,0.09691262650442013,0.9999999999999999,0.4027637064744704,0.4512027091723225,0.04348669607449072,0.7820857418878496,0.027327344241366035,0.9182395256716092,0.04578316006559551],[0.0,0.6970007024610807,0.48965461811713523,0.4569153048199486,0.5128379002260188,0.43741877642232463,0.9384556868631873,0.2834406154216452,0.2768181246148993,0.9509172144086846,0.4686337977813161,0.5517345342753895,0.09761560374795905,0.9999999999999999,0.11589583578868584,0.9985916511988592,0.2001839305544607],[0.0,0.0,0.0,0.0,0.0,0.0,0.0,0.0,0.0,0.0,0.0,0.0,0.0,0.0,1.0,0.0,5.5414169608406545e-05],[0.0,0.5033375423271472,0.372958428456491,0.34874180851395276,0.3194102059465604,0.3271363686694939,0.774117674498401,0.26651360765116766,0.13983330485215434,0.8063390563340447,0.36483161042238044,0.49629542315321573,0.07062192239730693,0.9999999999999999,0.07659580360511929,0.5751851197956153,0.1426001212695435],[0.06913911730156067,0.0,0.0,0.03456955865078033,1.0,0.0,0.0,0.17537342310966642,0.11902927580893682,0.0,0.06879853051682391,0.0,0.0,0.0,0.025863151286880097,0.0,0.0],[0.003795379537953796,0.0,0.41510695187165786,0.4088658865886589,0.3501765225066196,0.284677763551003,0.02336211274758761,0.21959319219593196,0.03960055096418733,0.7293868921775899,0.2369010300044783,0.993181818181818,0.03258559622195986,1.0,0.02865319865319865,0.2988470066518847,0.009047202797202798],[0.0,0.9999999999999999,0.0,0.0,0.0,0.0,0.20563317407070744,0.0,0.0,0.0,0.0,0.0,0.0,0.0,0.062287417701430425,0.0,0.08482027526613513],[0.0004861776500230669,1.0,0.0,0.0,0.03647040400876919,0.0,0.46744758815402176,0.0,0.0,0.05252979911644578,0.002902696117379099,0.0,0.0003826281245636085,0.016012155212716227,0.14403823178016728,0.1652766850249148,0.19263854425144752],[0.0,0.0,0.0,0.0,0.0,0.0,0.0,0.0,0.0,0.0,0.0,0.0,0.0,0.0,0.0,0.0,0.0],[0.062276174425953235,0.0,0.34596817450384404,0.4828425471726503,0.6126519756838906,0.17833062203005265,0.0,0.4308146313028271,0.0,1.0,0.0,0.35533814589665647,0.16947385820866062,0.3995556363155808,0.0,0.41409296463785306,0.0],[0.0,0.0,0.0,0.0,0.0,0.0,0.0,0.0,0.0,0.0,0.0,0.0,0.0,0.0,0.0,0.0,0.0],[0.0,0.36911174925706414,0.5714214397444004,0.6885379572003859,0.5545328499913242,0.5360320474449184,0.7690210848441723,0.29659241617356547,0.17607490688829922,0.6028857116099506,0.6005563369440421,0.7894418743967782,0.04399151286361323,1.0,0.14964037822226658,0.5753813334718696,0.16999265253666693],[0.022348691562069593,0.0,0.08491585610622203,0.6158883604895923,0.19111688708814312,0.3918524268973421,0.0879778295869441,0.47459820947039155,0.04593175853018372,0.5371421595556369,0.33357899228113724,0.9999999999999999,0.03476838122507414,0.6846970215679563,0.04549431321084864,0.07067409256769733,0.06056935190793459],[0.014680778422669858,0.0,0.045354969574036515,0.3104984636394674,0.2569635085369937,0.0,0.11182816413022542,0.0,0.2695924764890283,1.0,0.0,0.0,0.05776981639050605,0.29010494752623694,0.11532567049808429,0.13019343986543316,0.0265185676392573],[0.058666580943808666,0.0,0.1742742551566081,0.19359971711456855,0.31064808977430336,0.1902780318273276,0.07547340927229196,1.0,0.3366661747343565,0.9370280881908789,0.2872177083999744,0.9954545454545453,0.009234272221285207,0.30914737436476564,0.10533910533910532,0.17342413683877098,0.03418456543456543],[0.0,0.17866798058091155,0.25012121839779355,0.2820926693673731,0.14214383856411122,0.19989556978814074,0.23843157593801073,0.13290821923775314,0.06640793200566078,0.9999999999999999,0.2726796605734447,0.3415213924003977,0.041928179374992165,0.5283392594824579,0.0246723881562708,0.31640495363568494,0.059564635444207974],[0.05421970768505422,0.0,0.0,0.34158415841584155,0.0,0.0,0.055067837190742215,0.0,0.024891774891774892,0.636766334440753,0.0,0.0,0.23042671614100182,1.0,0.0,0.0,0.018956043956043958],[1.0,0.0,0.0,0.0,0.0,0.0,0.0,0.0,0.0,0.0,0.0,0.0,0.0,0.0,0.0,0.0,0.0],[0.0,0.0,0.0,0.0,0.0,0.0,0.0,0.0,0.0,0.0,0.0,0.0,0.0,0.0,0.0,0.0,0.0],[0.4527508707549456,0.0,0.0,0.0,0.0,0.0,0.0,0.0,0.08020183787331801,0.0,0.0,0.0,0.004960382577711098,1.0,0.0015376387217542452,0.010125913533503566,0.0],[0.0,1.0,0.0,0.0,0.0,0.0,0.5566277298120875,0.0,0.5208264462809917,0.0,0.0,0.0,0.0,0.0,0.10332659932659934,0.0,0.2682517482517483],[0.0029402111481866425,0.0,0.06288592785180372,0.24653670477544998,0.09168320549267822,0.0,0.0,0.0,0.0,1.0,0.0,0.0,0.0821464447155055,0.1162022579870286,0.0,0.07518191618380272,0.0],[0.27154787301934613,0.0,0.0,0.0,0.0,0.0,0.0,0.0,0.1841097438473129,0.0,0.0,0.0,0.005693477792925308,1.0,0.0014119091467157765,0.01270718232044199,0.0],[0.0,1.0,0.0,0.0,0.0,0.0,0.538975854990117,0.0,0.0,0.0,0.0,0.0,0.0,0.0,0.17433110015590106,0.0,0.22239870482191304],[0.0,0.6757794163968853,0.43953277770843047,0.37996198372838025,0.33367821507432033,0.33817899243263405,0.8769230072090213,0.2074840830993138,0.18712250937186006,1.0,0.30814102845331787,0.3720403840954339,0.08439420771112739,0.9957545171929941,0.12282168857427145,0.6664975811187982,0.188802121902906],[0.0,0.09335432682468048,0.07145037056850989,0.07236292640778463,0.4288976132833798,0.41412152090135473,0.32643876498607244,0.40220811569314663,0.04970831998155008,0.0872820802845038,0.03887070898563792,0.07329373336384488,0.0008588093405055112,1.0,0.06874326354480521,0.07100076988672087,0.06350342728975286],[0.20947575526783446,0.026151038742279614,0.1582767722473605,0.2233434881949733,0.24799290515309935,0.46058143734200074,0.0,0.12057428872497365,0.025633741258741256,0.25646988670244486,0.1679897688518378,0.7682884615384614,0.7922477522477521,1.0,0.15398860398860398,0.05911819887429644,8.505917159763313e-06],[0.005675072531183467,0.012685657895648505,0.14557257991619452,0.18529173236256824,0.05647684491472306,0.06991199917145484,0.0020515210448271625,0.05181708272632528,0.0,1.0,0.10327465602741075,0.20732803553632612,0.02571887487888971,0.2712315070041145,0.0029586477374372146,0.06782697998232344,0.016741198653273767],[0.008694417828879662,0.031198493053920417,0.3286422095720009,0.006653891195571171,0.13571354003549435,0.008152859811196933,0.016519493001742058,0.5449992635145088,0.039915281850765726,0.4178961407018421,0.0,1.0,0.011171624074849883,0.03506311360448808,0.0027877339705296694,0.1049042748492001,0.00413564929693962],[0.0,0.6581597501869675,0.7472066479051879,0.9172834970639968,0.43896874932980273,0.39420517776654257,0.9999999999999998,0.3740344132806244,0.09123107341524737,0.5884101459724125,0.5572789357134599,0.5589298079357712,0.005998541634559193,0.7534175352829479,0.16120252282755665,0.21029815685653502,0.2546955214633626],[0.0,0.0,0.0,0.0,0.0,0.0,0.0,0.0,0.0,0.0,0.0,0.0,0.0,0.0,0.0,0.0,0.0],[0.08233580114768232,0.0,0.21939586645468998,0.34404602622424396,0.3202658969649261,0.0,0.0,0.0,0.0,0.5149661289196171,0.0,0.0,0.13756405756405754,1.0,0.0,0.2625972313777192,0.0],[0.0,0.5284479440028013,0.35471569398479996,0.5052586480109866,0.4203383317308422,0.3749347587408408,0.6706441181498702,0.2629817646925458,0.19379006277724484,0.9907086481338268,0.44311580214359986,0.5242473560034274,0.09880532529576465,0.9999999999999999,0.08731598970703122,0.6091523607945575,0.14333088941037953],[0.04858085808580858,0.0,0.2164705882352941,0.4888448844884488,0.046148867313915855,0.0,0.0,0.0,0.0,0.28764857881136946,0.0,0.0,0.1413852813852814,1.0,0.0,0.25909593495934957,0.0],[0.0,0.9999999999999999,0.018251046262261834,0.004028445666876269,0.01761203953240753,0.006874108261462758,0.5763810731504594,0.010956183631409537,0.06339872009304226,0.004475250016333029,0.006780733479448423,0.021914744427806904,0.020597792819386736,0.03612128037757618,0.07032220025665036,0.03602171116009812,0.21605817470157695],[0.005587079129330165,0.00862554818266189,0.667000585773348,0.7328275907400233,0.5226899186898457,0.4428804026351789,0.026740498802297202,0.22730948149231833,0.09690333119038558,0.20329286752341855,0.49004220855162167,0.42056573820176063,0.03215921039560814,0.9999999999999999,0.0,0.349814318752222,0.0019788625287254225],[0.0,0.3175406503208868,0.244534574755352,0.38237762971512507,0.4080030744421462,0.33018973185421746,0.3750994674844274,0.2429280759033902,0.2262580423616046,1.0,0.36362463989736865,0.47171187240963225,0.10863550174184453,0.2161264863607229,0.0691814000664533,0.25998047347348247,0.13125522109179838],[0.0,0.0,0.0,0.0,0.0,0.0,0.0,0.0,0.0,0.0,0.0,0.0,0.0,0.0,1.0,0.0,0.0],[0.0,0.19460157300541614,0.5397651511892986,1.0,0.41934865556384726,0.6269565433376206,0.6520124251154192,0.2442950853093107,0.14384391899553842,0.5683565284628397,0.5321680237531271,0.7474213944685794,0.22015078989572517,0.1553914427362,0.07396255991894514,0.7787001591466302,0.14710971853214533],[0.35950385454433936,0.0,0.255287811840447,0.25434039327041164,0.42622787694275377,0.4237548463009644,0.01579733442725656,0.42176093509858237,0.27486061820776897,0.3042451156222755,0.2979473164680748,0.25337402632897554,0.2801421691322844,1.0,0.2648567393978044,0.25575458879446444,0.2731375420916714],[0.0,1.0,0.19126388914566195,0.1934586066144345,0.2989797676143406,0.2881549957847492,0.948476483347432,0.2794273911002254,0.16135805895687838,0.236060541829342,0.13483352926683753,0.19569721843258253,0.07566924032480882,0.9931287371927597,0.22536741665486948,0.19018258931958373,0.20923743188905275],[0.0,0.677543350622508,0.06899456164779445,0.06985261277355963,0.11831660285234827,0.11384760550799211,0.6277943315676143,0.11024442173915702,0.0606167526087133,0.12903144053096796,0.05347540356026287,0.0707278249218401,0.011759145722522232,1.0,0.15017855193290655,0.06857181450778332,0.1393954718796166],[0.0,0.8460595284658189,0.03070868359532035,0.031167022156444527,0.25947302426360375,0.2504336076091775,1.0,0.24314546737116655,0.21692955762298033,0.057622750265984644,0.030936723963170307,0.0316345274887912,0.04573861693088612,0.0357404438859228,0.24673892540518577,0.030482868011546975,0.2568282498853169],[0.0,0.6500273559617433,0.36466024630310845,0.368402564905421,0.011966087816213881,0.011135289025478026,0.3723759522102526,0.010465447339013893,0.1390769540994641,0.35953669619763556,0.32894505937394597,0.37221972987977986,0.5694904172798045,1.0000000000000002,0.08638455981431829,0.36281646982099347,0.07951670556475018],[0.0,0.6738980930408598,0.054892954420160345,0.05571164746284446,0.3107103938288731,0.2995858020117902,0.9999999999999998,0.2906164637952771,0.1532940602650789,0.0878930515469749,0.057351018040044416,0.05654671436638227,0.037171626605323735,0.10159725652697761,0.25049904237813886,0.054489598335715955,0.24568000334236778],[0.0,1.0,0.026871421384476395,0.0272448262755104,0.10120074644146909,0.09751857492334706,0.8058002822639467,0.09454977910051676,0.19315540854175675,0.16807925703805757,0.1786559110073984,0.02762569926436509,0.009140993298781108,0.05957395922623184,0.1601271801648124,0.026687451169869397,0.18149838676165872],[0.010168643562247684,0.6717755159138363,0.23960615769549048,0.24287882610870548,0.4163050698518871,0.39963526255969084,0.492815893265631,0.386195026543282,0.1574359723657499,0.368288735813748,0.2503609321912483,0.24621694789018483,0.0,1.0000000000000002,0.099588393808424,0.23799376984312598,0.08890956113174993],[0.0,0.9999999999999999,0.05341231626036301,0.05399742770609467,0.11136107216239045,0.10751452247484826,0.8025151369692037,0.10441319474242677,0.19654805324120347,0.16787449984514133,0.1809620820661083,0.05459424138074098,0.016682732278301297,0.031755924303126626,0.1984326524591222,0.05312404184075862,0.18641136277322645],[0.0,1.0,0.07974965602478178,0.08082863813841769,0.336692784325501,0.32466723384453566,0.5830593539626587,0.3149714866857142,0.0936301088851022,0.2674126404726328,0.37023769776012605,0.08192919989432633,0.015992393150531213,0.2819717509165164,0.10405743779916662,0.07921805995903919,0.14397964597126808],[0.0,0.7939576069976404,0.8001708424126136,0.8085986963913396,0.22994060573550915,0.22070642213823413,0.5956894467164842,0.21326124867037247,0.16820948876541414,0.3976591496767134,0.5192285376143915,0.8171951074496401,0.09930174932983032,1.0,0.1312392637033824,0.7960185826474853,0.060270092726457634],[0.016677103923556737,0.307546561353653,0.05834054401863666,0.05939474981259476,1.0,0.9655542737643288,0.22505379063526817,0.9377819856839053,0.021735035257507508,0.0571024651210812,0.04775467417980706,0.06047003972243203,0.0,0.44748053274791194,0.022417040655668678,0.057821154822589,0.019743434387345334],[0.12094234615829223,0.009981491961469403,0.07464789136195792,0.0753788564376895,1.0,0.9671631123520725,0.000928348385044607,0.940687970060593,0.01032850231178768,0.29269647337147325,0.03791599610315005,0.07612444081493572,0.0016764473878418571,0.0,0.0007914803963016122,0.07428775734903649,0.0009288667385170713],[0.0,1.0,0.14375244051840877,0.14577511150016162,0.4030547189315575,0.38781929952784233,0.6668088227803454,0.37553555629040475,0.19391764705511555,0.24300880162769345,0.12477768266086442,0.14783823590154954,0.04534792124658133,0.2666290270619805,0.13372417264865102,0.14275590505910615,0.13016371398891172],[0.0,1.0,0.1686800612382667,0.17104069730897342,0.5103964077013804,0.4913307545218899,0.6759438112211955,0.4759588384554514,0.16977956612224349,0.49234162762384914,0.33121923467369396,0.17344854610109428,0.03993380249505217,0.13607473464121744,0.12106849512603063,0.16751701614977213,0.1148794174828833],[0.04726176006400336,0.12901844747184024,0.0671788903687377,0.06738467610802663,1.0,0.9686608531216145,0.061309639571172206,0.9433932826443253,0.06255459157931702,0.0491091165939445,0.09501185302642265,0.06759457756210135,0.049865101167798846,0.0,0.05024225969882785,0.06707750324840511,0.050081385083662076],[0.0,1.0,0.0853117489898603,0.08653677273518519,0.3534408024399971,0.34056289088086245,0.7924516199707783,0.33017991717760714,0.18689189712032023,0.230808227156106,0.18191164362488355,0.08778629695541665,0.015337731371666184,0.6166211529507653,0.17622436368287098,0.08470820070557826,0.16266692241358466],[0.0,0.37330552659019806,0.0,0.0,0.0,0.0,1.0,0.0,0.9201839826839825,0.0,0.0,0.0,0.0,0.0,0.3788359788359788,0.0,0.4917582417582417],[0.05932306887076373,0.0,0.3156258097952838,0.4949491865486108,0.4605940721098328,0.13015242704390811,0.0,0.3144247983424859,0.0,0.8137192227572312,1.0,0.25933920704845814,0.16491790148177815,0.5832216050565027,0.0,0.37777586762651777,0.0],[0.0,0.0,0.0,0.0,0.0,0.0,0.0,0.0,0.0,0.0,0.0,0.0,0.0,0.0,0.0,0.0,0.0],[0.0,0.0,0.0,0.0,0.0,0.0,0.0,0.0,0.0,0.0,0.0,0.0,0.0,0.0,0.0,0.0,0.0],[0.0,0.0,0.0,0.0,0.0,0.0,0.0,0.0,0.0,0.0,0.0,0.0,0.0,0.0,0.0,0.0,0.0]],\"type\":\"heatmap\",\"xaxis\":\"x\",\"yaxis\":\"y\",\"hovertemplate\":\" : %{x}<br>y: %{y}<br>color: %{z}<extra></extra>\",\"text\":[[0.0,0.57,0.01,0.05,0.02,0.02,0.29,0.0,0.04,0.1,0.01,0.02,0.01,0.07,0.09,0.01,0.04],[6.03,125.22,49.83,50.32,72.78,70.39,85.52,68.46,35.86,60.56,49.32,50.83,10.51,119.06,21.63,49.59,21.22],[0.17,0.0,5.05,7.23,5.73,9.67,0.28,7.31,0.25,5.95,5.91,9.45,0.39,2.17,0.05,4.06,0.13],[0.0,0.0,0.0,0.0,0.0,0.0,0.0,0.0,0.0,0.0,0.0,0.0,0.0,0.0,0.0,0.0,0.0],[10.73,0.0,0.72,1.01,11.21,104.13,0.0,27.26,0.0,20.43,37.98,173.7,1.79,13.98,0.0,3.72,0.0],[1.0,1.0,1.0,1.0,1.0,1.0,1.0,1.0,1.0,1.0,1.0,1.0,1.0,1.0,1.0,1.0,1.0],[0.0,1.83,0.0,0.0,0.0,0.02,1.15,0.03,0.0,0.0,0.03,0.02,0.0,0.0,0.34,0.0,0.48],[0.02,0.12,1.15,1.72,0.77,1.21,0.17,0.74,0.04,1.24,1.59,1.68,0.08,0.52,0.09,1.39,0.04],[0.05,6.57,4.85,4.92,5.99,5.14,9.31,3.25,3.45,14.43,5.45,5.78,1.38,14.93,1.38,6.96,2.02],[10.73,0.0,0.72,1.01,11.21,104.13,0.0,27.26,0.0,20.43,37.98,173.7,1.79,13.98,34.7,3.72,0.0],[2.83,0.0,0.71,2.77,1.03,0.0,0.0,0.0,0.0,28.06,0.0,0.0,1.29,8.48,0.0,0.84,0.0],[0.0,0.66,2.01,1.29,1.93,1.95,0.9,1.48,0.93,3.39,2.09,2.32,0.54,2.13,0.19,1.91,0.2],[1.62,5.8,61.13,1.24,25.24,28.18,3.07,111.96,7.42,77.73,78.82,194.2,2.08,6.52,0.52,19.51,0.77],[0.04,14.38,6.15,5.62,4.16,3.76,19.7,2.63,1.77,11.28,4.18,6.04,3.08,12.26,2.39,6.09,4.23],[0.05,0.0,0.0,0.31,0.0,0.0,0.06,0.0,0.02,0.57,0.0,0.0,0.21,0.91,0.0,0.0,0.02],[0.72,62.77,52.74,48.87,50.23,48.03,84.53,37.89,19.32,115.53,55.77,67.2,16.16,131.48,12.15,73.42,18.45],[0.0,0.0,0.0,0.0,0.0,0.0,0.0,0.0,0.0,0.0,0.0,0.0,1.08,46.61,0.0,0.0,0.0],[0.06,3.94,6.03,5.62,4.47,4.0,4.83,3.49,2.67,6.39,5.25,5.78,0.95,11.74,0.79,7.13,1.05],[0.11,26.72,19.51,18.54,21.51,21.76,37.97,17.56,5.44,44.4,23.14,29.76,8.19,50.67,5.22,26.97,8.12],[0.43,8.83,10.41,6.81,9.33,9.0,10.03,7.51,4.39,26.1,10.96,12.48,1.32,30.67,1.9,15.31,2.41],[0.59,0.0,23.29,16.6,33.99,0.0,0.0,0.0,0.0,16.84,0.0,0.0,5.53,22.83,0.0,27.88,0.0],[0.04,2.34,5.79,7.36,4.77,4.38,2.69,3.44,1.59,12.93,6.78,7.38,1.24,11.2,0.47,10.96,0.62],[0.01,3.14,1.89,3.18,1.73,1.71,4.12,0.96,1.35,2.44,2.19,2.83,0.41,2.67,0.71,3.3,0.89],[0.0,0.0,0.0,0.0,0.0,0.0,0.0,0.0,0.0,0.0,0.0,0.0,0.0,0.02,0.0,0.0,0.0],[1.0,1.0,1.0,1.0,1.0,1.0,1.0,1.0,1.0,1.0,1.0,1.0,1.0,1.0,1.0,1.0,1.0],[0.03,0.0,0.25,0.3,0.58,0.8,0.78,0.0,0.42,1.01,0.33,0.32,0.16,0.26,0.13,0.44,0.19],[0.48,null,null,null,null,null,54.96,null,8.24,10.96,null,null,null,null,7.89,null,null],[1.32,167.88,294.12,247.52,252.43,197.18,178.77,281.28,7.58,385.27,147.78,245.0,2.08,393.48,25.93,219.51,26.92],[272.18,404.38,31.37,10.02,13.29,19.15,243.0,19.63,289.24,5.31,36.95,18.85,32.15,1468.48,647.4,26.2,103.1],[59.44,null,null,null,null,null,3131.4,null,218.83,1435.89,null,null,null,null,465.33,null,null],[0.0,0.0,0.0,0.0,0.0,0.0,0.0,0.0,0.0,0.0,0.0,0.0,0.0,0.0,0.0,0.0,0.0],[1.52,10.22,0.0,0.0,0.0,0.0,7.26,0.0,0.0,0.01,0.0,0.0,0.0,5.43,1.56,0.0,0.58],[1.39,0.0,0.0,0.0,0.0,0.0,0.0,0.0,0.0,0.0,0.0,0.0,0.0,0.0,0.0,0.0,0.0],[0.01,18.26,0.24,0.49,0.5,0.04,10.28,0.11,0.11,1.78,0.09,0.1,0.0,0.2,3.01,0.0,4.24],[0.0,0.0,0.0,0.0,0.0,0.0,0.0,0.0,0.0,0.0,0.0,0.0,0.0,0.0,0.0,0.0,0.0],[0.03,3.14,0.93,1.24,0.97,0.85,2.79,0.68,1.55,1.2,0.74,1.3,0.1,3.48,1.33,0.2,0.88],[2.53,0.0,35.07,49.49,44.85,0.0,0.0,0.0,0.0,37.56,0.0,0.0,175.89,93.24,0.0,8.92,0.0],[0.07,12.12,8.27,7.65,7.31,7.14,16.84,5.02,3.78,16.01,6.68,8.51,1.81,18.93,2.43,12.87,3.69],[0.03,5.11,3.55,4.52,2.94,3.47,7.35,2.2,2.13,6.71,4.28,4.8,0.78,10.39,1.07,5.4,1.59],[2.53,0.0,35.07,49.49,44.85,0.0,0.0,0.0,0.0,37.56,0.0,0.0,175.89,93.24,0.0,8.92,0.0],[0.01,1.68,1.42,1.44,1.01,1.47,2.33,0.96,0.69,2.53,1.94,1.86,0.27,3.2,0.27,2.61,0.5],[0.04,5.99,4.37,4.62,4.26,3.85,10.39,2.63,2.8,9.7,4.69,5.68,1.05,12.02,1.09,7.66,2.25],[0.0,0.0,0.0,0.0,0.0,0.0,0.0,0.0,0.0,0.0,0.0,0.0,0.0,0.0,0.0,0.0,0.0],[0.14,0.0,21.08,7.25,2.25,9.2,0.22,15.8,0.27,12.43,11.13,11.9,1.56,7.61,0.01,13.5,0.06],[1.12,114.45,117.65,103.45,100.98,98.64,178.21,74.2,44.89,230.82,109.7,130.55,26.76,258.72,25.05,173.12,38.66],[39.6,0.0,9.31,0.0,33.98,0.0,0.0,0.0,0.0,0.0,0.0,0.0,0.0,630.43,12.59,0.98,0.0],[0.2,2.07,2.82,2.83,2.85,2.78,1.64,2.97,0.52,4.47,2.19,2.4,0.85,3.13,0.48,2.76,0.53],[34.87,102.32,65.84,66.32,65.1,62.71,79.38,59.53,39.2,101.29,65.94,67.01,24.16,297.5,103.92,65.48,22.36],[0.0,0.0,0.0,0.0,0.0,0.0,0.0,0.0,0.01,0.0,0.01,0.0,0.0,0.0,0.0,0.0,0.0],[0.21,null,null,null,null,null,49.04,null,2.38,7.06,null,null,null,null,6.63,null,null],[0.0,6.99,0.02,0.22,0.03,0.0,4.47,0.0,0.55,0.09,0.28,0.0,0.0,0.04,0.33,0.14,1.92],[0.02,0.15,0.28,0.48,0.28,0.32,0.22,0.41,0.28,1.31,0.36,0.6,0.04,0.96,0.07,0.24,0.1],[0.0,4.26,0.0,0.0,0.0,0.0,1.25,0.0,0.0,0.0,0.0,0.0,0.0,0.0,0.36,0.0,0.52],[0.39,0.42,2.94,2.27,4.95,3.23,0.56,3.4,0.56,5.12,3.6,3.92,0.29,5.43,1.04,2.78,0.29],[0.1,0.0,0.09,0.21,0.73,0.0,0.61,0.1,0.05,0.02,0.24,0.08,0.0,8.7,0.13,1.11,0.19],[0.84,8.69,11.8,11.85,11.94,11.63,6.89,12.42,2.17,18.71,9.16,10.04,3.58,13.07,2.01,11.53,2.22],[0.16,175.84,248.53,249.5,250.49,221.13,101.68,289.04,35.3,372.87,179.8,131.5,2.05,128.24,26.44,226.05,41.92],[0.0,4.69,0.0,0.0,0.0,0.0,2.21,0.0,0.0,0.0,0.0,0.0,0.0,0.0,0.64,0.0,0.91],[0.02,1.81,0.13,3.88,0.66,0.18,5.03,0.68,0.19,0.32,1.01,0.43,0.04,2.83,0.89,0.05,0.77],[0.0,0.0,0.0,0.0,0.0,0.0,0.0,0.0,0.0,0.0,0.0,0.0,0.0,0.0,0.0,0.0,0.0],[0.02,2.01,0.01,0.03,0.12,0.0,1.22,0.02,1.05,0.0,0.04,0.02,0.0,1.46,0.23,0.19,0.57],[24.17,0.0,0.0,0.0,0.0,0.0,0.0,0.0,0.0,0.0,0.0,0.0,0.18,40.78,0.0,0.33,0.0],[0.4,67.45,64.9,54.58,50.74,50.61,93.68,36.31,25.57,115.29,53.93,63.33,10.6,127.26,12.89,99.7,20.2],[1.19,0.0,5.29,24.91,7.73,0.0,0.0,0.0,0.0,22.45,0.0,0.0,7.38,8.48,0.0,6.34,0.0],[0.06,10.0,4.25,3.18,5.38,4.76,12.72,2.15,2.67,8.67,4.49,4.95,0.73,16.0,2.1,11.14,2.76],[0.03,4.01,22.11,10.94,9.44,10.85,5.91,10.38,2.67,27.29,11.01,12.33,1.22,21.35,0.78,25.06,1.28],[0.05,8.39,5.91,5.52,6.19,5.29,11.28,3.44,3.36,11.43,5.66,6.65,1.22,12.02,1.44,12.0,2.45],[0.0,0.0,0.0,0.0,0.0,0.0,0.0,0.0,0.0,0.0,0.0,0.0,0.0,0.0,34.7,0.0,0.0],[0.03,3.5,2.6,2.44,2.23,2.29,5.37,1.87,0.99,5.6,2.55,3.45,0.51,6.93,0.56,4.0,1.01],[0.02,0.0,0.0,0.01,0.29,0.0,0.0,0.05,0.03,0.0,0.02,0.0,0.0,0.0,0.01,0.0,0.0],[0.04,0.0,3.97,3.91,3.35,2.72,0.22,2.1,0.38,6.98,2.27,9.5,0.31,9.57,0.27,2.86,0.09],[0.0,12.61,0.0,0.0,0.0,0.0,2.59,0.0,0.0,0.0,0.0,0.0,0.0,0.0,0.79,0.0,1.07],[0.0,6.79,0.0,0.0,0.25,0.0,3.17,0.0,0.0,0.36,0.02,0.0,0.0,0.11,0.98,1.12,1.31],[0.0,0.0,0.0,0.0,0.0,0.0,0.0,0.0,0.0,0.0,0.0,0.0,0.0,0.0,0.0,0.0,0.0],[5.08,0.0,28.24,39.41,50.0,14.55,0.0,35.16,0.0,81.61,0.0,29.0,13.83,32.61,0.0,33.8,0.0],[0.0,0.0,0.0,0.0,0.0,0.0,0.0,0.0,0.0,0.0,0.0,0.0,0.0,0.0,0.0,0.0,0.0],[0.04,1.63,2.5,3.0,2.43,2.35,3.35,1.32,0.8,2.64,2.63,3.44,0.23,4.35,0.68,2.52,0.77],[0.14,0.0,0.54,3.91,1.21,2.49,0.56,3.01,0.29,3.41,2.12,6.35,0.22,4.35,0.29,0.45,0.38],[0.33,0.0,1.02,6.98,5.78,0.0,2.51,0.0,6.06,22.48,0.0,0.0,1.3,6.52,2.59,2.93,0.6],[0.02,0.0,0.05,0.05,0.09,0.05,0.02,0.28,0.09,0.26,0.08,0.28,0.0,0.09,0.03,0.05,0.01],[1.16,29.8,41.26,46.39,23.95,33.21,39.39,22.47,11.8,161.5,44.88,55.92,7.88,85.87,5.11,51.89,10.71],[0.02,0.0,0.0,0.1,0.0,0.0,0.02,0.0,0.01,0.19,0.0,0.0,0.07,0.3,0.0,0.0,0.01],[1.39,0.0,0.0,0.0,0.0,0.0,0.0,0.0,0.0,0.0,0.0,0.0,0.0,0.0,0.0,0.0,0.0],[1.0,1.0,1.0,1.0,1.0,1.0,1.0,1.0,1.0,1.0,1.0,1.0,1.0,1.0,1.0,1.0,1.0],[32.72,0.0,0.0,0.0,0.0,0.0,0.0,0.0,5.8,0.0,0.0,0.0,0.36,72.26,0.11,0.73,0.0],[0.0,2.01,0.0,0.0,0.0,0.0,1.12,0.0,1.05,0.0,0.0,0.0,0.0,0.0,0.21,0.0,0.54],[0.03,0.0,0.71,2.77,1.03,0.0,0.0,0.0,0.0,11.22,0.0,0.0,0.92,1.3,0.0,0.84,0.0],[8.55,0.0,0.0,0.0,0.0,0.0,0.0,0.0,5.8,0.0,0.0,0.0,0.18,31.48,0.04,0.4,0.0],[0.0,6.42,0.0,0.0,0.0,0.0,3.46,0.0,0.0,0.0,0.0,0.0,0.0,0.0,1.12,0.0,1.43],[0.02,6.35,4.14,3.58,3.15,3.19,8.23,1.96,1.77,9.39,2.91,3.5,0.81,9.35,1.17,6.26,1.79],[0.0,0.0,0.0,0.0,0.0,0.0,0.0,0.0,0.0,0.0,0.0,0.0,0.0,0.0,0.0,0.0,0.0],[47.36,5.91,35.78,50.5,56.07,104.13,0.0,27.26,5.8,57.98,37.98,173.7,179.12,226.09,34.81,13.37,0.0],[0.99,1.82,17.65,22.38,7.04,8.64,0.56,6.48,0.31,119.38,12.61,25.0,3.38,32.61,0.67,8.39,2.31],[1.62,5.8,61.13,1.24,25.24,1.52,3.07,101.37,7.42,77.73,0.0,186.0,2.08,6.52,0.52,19.51,0.77],[1.06,19.12,21.57,26.24,13.11,11.88,28.51,11.32,3.56,17.21,16.35,16.4,1.22,21.74,5.48,6.83,8.05],[0.0,0.0,0.0,0.0,0.0,0.0,0.0,0.0,0.0,0.0,0.0,0.0,0.0,0.0,0.0,0.0,0.0],[1.99,0.0,5.29,8.3,7.73,0.0,0.0,0.0,0.0,12.43,0.0,0.0,3.32,24.13,0.0,6.34,0.0],[0.04,6.5,4.37,6.21,5.17,4.62,8.23,3.25,2.41,12.15,5.45,6.44,1.24,12.26,1.1,7.48,1.79],[1.58,0.0,7.06,15.94,1.5,0.0,0.0,0.0,0.0,9.38,0.0,0.0,4.61,32.61,0.0,8.45,0.0],[0.01,10.66,0.2,0.05,0.19,0.08,6.15,0.12,0.68,0.05,0.08,0.24,0.23,0.39,0.76,0.39,2.31],[0.82,1.02,45.1,49.5,35.44,30.09,2.23,15.66,6.93,14.05,33.25,28.6,2.6,67.39,0.44,23.86,0.58],[0.02,0.95,0.74,1.14,1.21,0.99,1.12,0.73,0.68,2.95,1.08,1.4,0.34,0.65,0.22,0.78,0.4],[0.0,0.0,0.0,0.0,0.0,0.0,0.0,0.0,0.0,0.0,0.0,0.0,0.0,0.0,0.07,0.0,0.0],[0.13,7.59,20.83,38.49,16.21,24.18,25.14,9.5,5.64,21.93,20.54,28.8,8.57,6.09,2.96,30.0,5.77],[0.0,-0.02,-0.01,-0.01,0.01,0.01,-0.02,0.0,-0.01,-0.0,-0.0,-0.01,-0.0,0.05,-0.01,-0.01,-0.01],[0.03,1.13,0.24,0.25,0.36,0.35,1.07,0.34,0.21,0.29,0.18,0.25,0.12,1.12,0.28,0.24,0.26],[0.0,0.06,0.01,0.01,0.01,0.01,0.05,0.01,0.01,0.01,0.01,0.01,0.0,0.08,0.01,0.01,0.01],[0.0,0.0,0.0,0.0,0.0,0.0,0.0,0.0,0.0,0.0,0.0,0.0,0.0,0.0,0.0,0.0,0.0],[0.01,0.72,0.41,0.42,0.03,0.03,0.42,0.03,0.17,0.41,0.37,0.42,0.64,1.11,0.11,0.41,0.1],[0.0,0.0,0.0,0.0,0.0,0.0,0.0,0.0,0.0,0.0,0.0,0.0,0.0,0.0,0.0,0.0,0.0],[0.0,0.0,0.0,0.0,0.0,0.0,0.0,0.0,0.0,0.0,0.0,0.0,0.0,0.0,0.0,0.0,0.0],[0.0,0.0,0.0,0.0,0.0,0.0,0.0,0.0,0.0,0.0,0.0,0.0,0.0,0.0,0.0,0.0,0.0],[0.0,0.01,0.0,0.0,0.0,0.0,0.0,0.0,0.0,0.0,0.0,0.0,0.0,0.0,0.0,0.0,0.0],[0.0,0.0,0.0,0.0,0.0,0.0,0.0,0.0,0.0,0.0,0.0,0.0,0.0,0.0,0.0,0.0,0.0],[0.0,0.0,0.0,0.0,0.0,0.0,0.0,0.0,0.0,0.0,0.0,0.0,0.0,0.0,0.0,0.0,0.0],[0.05,0.25,0.07,0.07,0.73,0.71,0.19,0.69,0.05,0.07,0.07,0.08,0.03,0.34,0.05,0.07,0.05],[0.0,0.0,0.0,0.0,0.01,0.01,0.0,0.01,0.0,0.0,0.0,0.0,0.0,-0.0,-0.0,0.0,0.0],[0.0,0.0,0.0,0.0,0.0,0.0,0.0,0.0,0.0,0.0,0.0,0.0,0.0,0.0,0.0,0.0,0.0],[0.0,0.0,0.0,0.0,0.0,0.0,0.0,0.0,0.0,0.0,0.0,0.0,0.0,0.0,0.0,0.0,0.0],[0.0,0.0,0.0,0.0,0.0,0.0,0.0,0.0,0.0,0.0,0.0,0.0,0.0,-0.0,0.0,0.0,0.0],[0.0,0.0,0.0,0.0,0.0,0.0,0.0,0.0,0.0,0.0,0.0,0.0,0.0,0.0,0.0,0.0,0.0],[0.0,0.0,0.0,0.0,0.0,0.0,0.01,0.0,0.01,0.0,0.0,0.0,0.0,0.0,0.0,0.0,0.0],[6.63,0.0,35.29,55.35,51.5,14.55,0.0,35.16,0.0,90.99,111.82,29.0,18.44,65.22,0.0,42.24,0.0],[0.0,0.0,0.0,0.0,0.0,0.0,0.0,0.0,0.0,0.0,0.0,0.0,0.0,0.0,0.0,0.0,0.0],[0.0,0.0,0.0,0.0,0.0,0.0,0.0,0.0,0.0,0.0,0.0,0.0,0.0,0.0,0.0,0.0,0.0],[0.0,0.0,0.0,0.0,0.0,0.0,0.0,0.0,0.0,0.0,0.0,0.0,0.0,0.0,0.0,0.0,0.0]],\"texttemplate\":\"%{text}\"}],                        {\"template\":{\"data\":{\"histogram2dcontour\":[{\"type\":\"histogram2dcontour\",\"colorbar\":{\"outlinewidth\":0,\"ticks\":\"\"},\"colorscale\":[[0.0,\"#0d0887\"],[0.1111111111111111,\"#46039f\"],[0.2222222222222222,\"#7201a8\"],[0.3333333333333333,\"#9c179e\"],[0.4444444444444444,\"#bd3786\"],[0.5555555555555556,\"#d8576b\"],[0.6666666666666666,\"#ed7953\"],[0.7777777777777778,\"#fb9f3a\"],[0.8888888888888888,\"#fdca26\"],[1.0,\"#f0f921\"]]}],\"choropleth\":[{\"type\":\"choropleth\",\"colorbar\":{\"outlinewidth\":0,\"ticks\":\"\"}}],\"histogram2d\":[{\"type\":\"histogram2d\",\"colorbar\":{\"outlinewidth\":0,\"ticks\":\"\"},\"colorscale\":[[0.0,\"#0d0887\"],[0.1111111111111111,\"#46039f\"],[0.2222222222222222,\"#7201a8\"],[0.3333333333333333,\"#9c179e\"],[0.4444444444444444,\"#bd3786\"],[0.5555555555555556,\"#d8576b\"],[0.6666666666666666,\"#ed7953\"],[0.7777777777777778,\"#fb9f3a\"],[0.8888888888888888,\"#fdca26\"],[1.0,\"#f0f921\"]]}],\"heatmap\":[{\"type\":\"heatmap\",\"colorbar\":{\"outlinewidth\":0,\"ticks\":\"\"},\"colorscale\":[[0.0,\"#0d0887\"],[0.1111111111111111,\"#46039f\"],[0.2222222222222222,\"#7201a8\"],[0.3333333333333333,\"#9c179e\"],[0.4444444444444444,\"#bd3786\"],[0.5555555555555556,\"#d8576b\"],[0.6666666666666666,\"#ed7953\"],[0.7777777777777778,\"#fb9f3a\"],[0.8888888888888888,\"#fdca26\"],[1.0,\"#f0f921\"]]}],\"heatmapgl\":[{\"type\":\"heatmapgl\",\"colorbar\":{\"outlinewidth\":0,\"ticks\":\"\"},\"colorscale\":[[0.0,\"#0d0887\"],[0.1111111111111111,\"#46039f\"],[0.2222222222222222,\"#7201a8\"],[0.3333333333333333,\"#9c179e\"],[0.4444444444444444,\"#bd3786\"],[0.5555555555555556,\"#d8576b\"],[0.6666666666666666,\"#ed7953\"],[0.7777777777777778,\"#fb9f3a\"],[0.8888888888888888,\"#fdca26\"],[1.0,\"#f0f921\"]]}],\"contourcarpet\":[{\"type\":\"contourcarpet\",\"colorbar\":{\"outlinewidth\":0,\"ticks\":\"\"}}],\"contour\":[{\"type\":\"contour\",\"colorbar\":{\"outlinewidth\":0,\"ticks\":\"\"},\"colorscale\":[[0.0,\"#0d0887\"],[0.1111111111111111,\"#46039f\"],[0.2222222222222222,\"#7201a8\"],[0.3333333333333333,\"#9c179e\"],[0.4444444444444444,\"#bd3786\"],[0.5555555555555556,\"#d8576b\"],[0.6666666666666666,\"#ed7953\"],[0.7777777777777778,\"#fb9f3a\"],[0.8888888888888888,\"#fdca26\"],[1.0,\"#f0f921\"]]}],\"surface\":[{\"type\":\"surface\",\"colorbar\":{\"outlinewidth\":0,\"ticks\":\"\"},\"colorscale\":[[0.0,\"#0d0887\"],[0.1111111111111111,\"#46039f\"],[0.2222222222222222,\"#7201a8\"],[0.3333333333333333,\"#9c179e\"],[0.4444444444444444,\"#bd3786\"],[0.5555555555555556,\"#d8576b\"],[0.6666666666666666,\"#ed7953\"],[0.7777777777777778,\"#fb9f3a\"],[0.8888888888888888,\"#fdca26\"],[1.0,\"#f0f921\"]]}],\"mesh3d\":[{\"type\":\"mesh3d\",\"colorbar\":{\"outlinewidth\":0,\"ticks\":\"\"}}],\"scatter\":[{\"fillpattern\":{\"fillmode\":\"overlay\",\"size\":10,\"solidity\":0.2},\"type\":\"scatter\"}],\"parcoords\":[{\"type\":\"parcoords\",\"line\":{\"colorbar\":{\"outlinewidth\":0,\"ticks\":\"\"}}}],\"scatterpolargl\":[{\"type\":\"scatterpolargl\",\"marker\":{\"colorbar\":{\"outlinewidth\":0,\"ticks\":\"\"}}}],\"bar\":[{\"error_x\":{\"color\":\"#2a3f5f\"},\"error_y\":{\"color\":\"#2a3f5f\"},\"marker\":{\"line\":{\"color\":\"#E5ECF6\",\"width\":0.5},\"pattern\":{\"fillmode\":\"overlay\",\"size\":10,\"solidity\":0.2}},\"type\":\"bar\"}],\"scattergeo\":[{\"type\":\"scattergeo\",\"marker\":{\"colorbar\":{\"outlinewidth\":0,\"ticks\":\"\"}}}],\"scatterpolar\":[{\"type\":\"scatterpolar\",\"marker\":{\"colorbar\":{\"outlinewidth\":0,\"ticks\":\"\"}}}],\"histogram\":[{\"marker\":{\"pattern\":{\"fillmode\":\"overlay\",\"size\":10,\"solidity\":0.2}},\"type\":\"histogram\"}],\"scattergl\":[{\"type\":\"scattergl\",\"marker\":{\"colorbar\":{\"outlinewidth\":0,\"ticks\":\"\"}}}],\"scatter3d\":[{\"type\":\"scatter3d\",\"line\":{\"colorbar\":{\"outlinewidth\":0,\"ticks\":\"\"}},\"marker\":{\"colorbar\":{\"outlinewidth\":0,\"ticks\":\"\"}}}],\"scattermapbox\":[{\"type\":\"scattermapbox\",\"marker\":{\"colorbar\":{\"outlinewidth\":0,\"ticks\":\"\"}}}],\"scatterternary\":[{\"type\":\"scatterternary\",\"marker\":{\"colorbar\":{\"outlinewidth\":0,\"ticks\":\"\"}}}],\"scattercarpet\":[{\"type\":\"scattercarpet\",\"marker\":{\"colorbar\":{\"outlinewidth\":0,\"ticks\":\"\"}}}],\"carpet\":[{\"aaxis\":{\"endlinecolor\":\"#2a3f5f\",\"gridcolor\":\"white\",\"linecolor\":\"white\",\"minorgridcolor\":\"white\",\"startlinecolor\":\"#2a3f5f\"},\"baxis\":{\"endlinecolor\":\"#2a3f5f\",\"gridcolor\":\"white\",\"linecolor\":\"white\",\"minorgridcolor\":\"white\",\"startlinecolor\":\"#2a3f5f\"},\"type\":\"carpet\"}],\"table\":[{\"cells\":{\"fill\":{\"color\":\"#EBF0F8\"},\"line\":{\"color\":\"white\"}},\"header\":{\"fill\":{\"color\":\"#C8D4E3\"},\"line\":{\"color\":\"white\"}},\"type\":\"table\"}],\"barpolar\":[{\"marker\":{\"line\":{\"color\":\"#E5ECF6\",\"width\":0.5},\"pattern\":{\"fillmode\":\"overlay\",\"size\":10,\"solidity\":0.2}},\"type\":\"barpolar\"}],\"pie\":[{\"automargin\":true,\"type\":\"pie\"}]},\"layout\":{\"autotypenumbers\":\"strict\",\"colorway\":[\"#636efa\",\"#EF553B\",\"#00cc96\",\"#ab63fa\",\"#FFA15A\",\"#19d3f3\",\"#FF6692\",\"#B6E880\",\"#FF97FF\",\"#FECB52\"],\"font\":{\"color\":\"#2a3f5f\"},\"hovermode\":\"closest\",\"hoverlabel\":{\"align\":\"left\"},\"paper_bgcolor\":\"white\",\"plot_bgcolor\":\"#E5ECF6\",\"polar\":{\"bgcolor\":\"#E5ECF6\",\"angularaxis\":{\"gridcolor\":\"white\",\"linecolor\":\"white\",\"ticks\":\"\"},\"radialaxis\":{\"gridcolor\":\"white\",\"linecolor\":\"white\",\"ticks\":\"\"}},\"ternary\":{\"bgcolor\":\"#E5ECF6\",\"aaxis\":{\"gridcolor\":\"white\",\"linecolor\":\"white\",\"ticks\":\"\"},\"baxis\":{\"gridcolor\":\"white\",\"linecolor\":\"white\",\"ticks\":\"\"},\"caxis\":{\"gridcolor\":\"white\",\"linecolor\":\"white\",\"ticks\":\"\"}},\"coloraxis\":{\"colorbar\":{\"outlinewidth\":0,\"ticks\":\"\"}},\"colorscale\":{\"sequential\":[[0.0,\"#0d0887\"],[0.1111111111111111,\"#46039f\"],[0.2222222222222222,\"#7201a8\"],[0.3333333333333333,\"#9c179e\"],[0.4444444444444444,\"#bd3786\"],[0.5555555555555556,\"#d8576b\"],[0.6666666666666666,\"#ed7953\"],[0.7777777777777778,\"#fb9f3a\"],[0.8888888888888888,\"#fdca26\"],[1.0,\"#f0f921\"]],\"sequentialminus\":[[0.0,\"#0d0887\"],[0.1111111111111111,\"#46039f\"],[0.2222222222222222,\"#7201a8\"],[0.3333333333333333,\"#9c179e\"],[0.4444444444444444,\"#bd3786\"],[0.5555555555555556,\"#d8576b\"],[0.6666666666666666,\"#ed7953\"],[0.7777777777777778,\"#fb9f3a\"],[0.8888888888888888,\"#fdca26\"],[1.0,\"#f0f921\"]],\"diverging\":[[0,\"#8e0152\"],[0.1,\"#c51b7d\"],[0.2,\"#de77ae\"],[0.3,\"#f1b6da\"],[0.4,\"#fde0ef\"],[0.5,\"#f7f7f7\"],[0.6,\"#e6f5d0\"],[0.7,\"#b8e186\"],[0.8,\"#7fbc41\"],[0.9,\"#4d9221\"],[1,\"#276419\"]]},\"xaxis\":{\"gridcolor\":\"white\",\"linecolor\":\"white\",\"ticks\":\"\",\"title\":{\"standoff\":15},\"zerolinecolor\":\"white\",\"automargin\":true,\"zerolinewidth\":2},\"yaxis\":{\"gridcolor\":\"white\",\"linecolor\":\"white\",\"ticks\":\"\",\"title\":{\"standoff\":15},\"zerolinecolor\":\"white\",\"automargin\":true,\"zerolinewidth\":2},\"scene\":{\"xaxis\":{\"backgroundcolor\":\"#E5ECF6\",\"gridcolor\":\"white\",\"linecolor\":\"white\",\"showbackground\":true,\"ticks\":\"\",\"zerolinecolor\":\"white\",\"gridwidth\":2},\"yaxis\":{\"backgroundcolor\":\"#E5ECF6\",\"gridcolor\":\"white\",\"linecolor\":\"white\",\"showbackground\":true,\"ticks\":\"\",\"zerolinecolor\":\"white\",\"gridwidth\":2},\"zaxis\":{\"backgroundcolor\":\"#E5ECF6\",\"gridcolor\":\"white\",\"linecolor\":\"white\",\"showbackground\":true,\"ticks\":\"\",\"zerolinecolor\":\"white\",\"gridwidth\":2}},\"shapedefaults\":{\"line\":{\"color\":\"#2a3f5f\"}},\"annotationdefaults\":{\"arrowcolor\":\"#2a3f5f\",\"arrowhead\":0,\"arrowwidth\":1},\"geo\":{\"bgcolor\":\"white\",\"landcolor\":\"#E5ECF6\",\"subunitcolor\":\"white\",\"showland\":true,\"showlakes\":true,\"lakecolor\":\"white\"},\"title\":{\"x\":0.05},\"mapbox\":{\"style\":\"light\"}}},\"xaxis\":{\"anchor\":\"y\",\"domain\":[0.0,1.0],\"title\":{\"text\":\" \"},\"side\":\"top\"},\"yaxis\":{\"anchor\":\"x\",\"domain\":[0.0,1.0],\"autorange\":\"reversed\"},\"coloraxis\":{\"colorscale\":[[0.0,\"rgb(0, 1, 0)\"],[0.1,\"rgb(11, 25, 39)\"],[0.2,\"rgb(17, 48, 77)\"],[0.3,\"rgb(27, 73, 117)\"],[0.4,\"rgb(46, 98, 160)\"],[0.5,\"rgb(78, 125, 199)\"],[0.6,\"rgb(111, 146, 202)\"],[0.7,\"rgb(144, 166, 201)\"],[0.8,\"rgb(176, 185, 200)\"],[0.9,\"rgb(215, 215, 216)\"],[1.0,\"rgb(255, 255, 255)\"]],\"showscale\":false},\"margin\":{\"t\":200},\"height\":2500,\"width\":1000,\"title\":{\"text\":\"Comparison of the chosen parameters for the chosen food products (per Energiegehalt 1 kJ). <br> Dark color signifies low values in comparison with the other chosen products, <br> bright colors signify high values.\",\"y\":0.99}},                        {\"responsive\": true}                    ).then(function(){\n",
       "                            \n",
       "var gd = document.getElementById('217ca906-b7a7-49c8-955a-c1b6a1494e3e');\n",
       "var x = new MutationObserver(function (mutations, observer) {{\n",
       "        var display = window.getComputedStyle(gd).display;\n",
       "        if (!display || display === 'none') {{\n",
       "            console.log([gd, 'removed!']);\n",
       "            Plotly.purge(gd);\n",
       "            observer.disconnect();\n",
       "        }}\n",
       "}});\n",
       "\n",
       "// Listen for the removal of the full notebook cells\n",
       "var notebookContainer = gd.closest('#notebook-container');\n",
       "if (notebookContainer) {{\n",
       "    x.observe(notebookContainer, {childList: true});\n",
       "}}\n",
       "\n",
       "// Listen for the clearing of the current output cell\n",
       "var outputEl = gd.closest('.output');\n",
       "if (outputEl) {{\n",
       "    x.observe(outputEl, {childList: true});\n",
       "}}\n",
       "\n",
       "                        })                };                });            </script>        </div>"
      ]
     },
     "metadata": {},
     "output_type": "display_data"
    },
    {
     "data": {
      "text/plain": [
       "<Figure size 2000x2000 with 0 Axes>"
      ]
     },
     "metadata": {},
     "output_type": "display_data"
    }
   ],
   "source": [
    "\n",
    "annotations = ((df_dapro_per_energy.T).to_numpy()).round(2)\n",
    "title_text =  'Comparison of the chosen parameters for the chosen food products (per Energiegehalt 1 kJ). <br> Dark color signifies low values in comparison with the other chosen products, <br> bright colors signify high values.'\n",
    "\n",
    "\n",
    "plt.figure(figsize=(20, 20))\n",
    "fig = px.imshow(normalised_df_food_per_energy.T, text_auto=False, aspect=\"auto\", width=1000,height=2500,\n",
    "    color_continuous_scale=oslo, \n",
    "#              ,   text = (df_dapro.T).to_numpy()\n",
    "               )\n",
    "fig.update_xaxes(side = \"top\")\n",
    "# fig['layout'].update(annotations=annotations)\n",
    "fig.update_layout(title_text=title_text,title_y = 0.99, \n",
    "                          margin={'t': 200})\n",
    "\n",
    "fig.update_traces(text=annotations, texttemplate=\"%{text}\")\n",
    "fig.update_coloraxes(showscale=False)\n",
    "fig.show()\n",
    "# fig.write_html(\"HeatmapEnergyALL1.html\")"
   ]
  },
  {
   "cell_type": "markdown",
   "id": "f3fe3a91",
   "metadata": {},
   "source": [
    "### Compare certain parameters for chosen food items as bar charts"
   ]
  },
  {
   "cell_type": "code",
   "execution_count": 24,
   "id": "be7008e2",
   "metadata": {
    "scrolled": false
   },
   "outputs": [
    {
     "data": {
      "application/vnd.plotly.v1+json": {
       "config": {
        "plotlyServerURL": "https://plot.ly"
       },
       "data": [
        {
         "alignmentgroup": "True",
         "hovertemplate": " =Chicken<br>index=%{x}<br>value=%{y}<extra></extra>",
         "legendgroup": "Chicken",
         "marker": {
          "color": "rgb(11, 25, 39)",
          "pattern": {
           "shape": ""
          }
         },
         "name": "Chicken",
         "offsetgroup": "Chicken",
         "orientation": "v",
         "showlegend": true,
         "textposition": "auto",
         "type": "bar",
         "x": [
          "Protein_g/g"
         ],
         "xaxis": "x",
         "y": [
          0.264
         ],
         "yaxis": "y"
        },
        {
         "alignmentgroup": "True",
         "hovertemplate": " =Chicken<br>index=%{x}<br>value=%{y}<extra></extra>",
         "legendgroup": "Chicken",
         "marker": {
          "color": "rgb(11, 25, 39)",
          "pattern": {
           "shape": ""
          }
         },
         "name": "Chicken",
         "offsetgroup": "Chicken",
         "orientation": "v",
         "showlegend": false,
         "textposition": "auto",
         "type": "bar",
         "x": [
          "Lysin_mg/100g"
         ],
         "xaxis": "x2",
         "y": [
          0.147
         ],
         "yaxis": "y2"
        },
        {
         "alignmentgroup": "True",
         "hovertemplate": " =Cashew nut<br>index=%{x}<br>value=%{y}<extra></extra>",
         "legendgroup": "Cashew nut",
         "marker": {
          "color": "rgb(46, 98, 160)",
          "pattern": {
           "shape": ""
          }
         },
         "name": "Cashew nut",
         "offsetgroup": "Cashew nut",
         "orientation": "v",
         "showlegend": true,
         "textposition": "auto",
         "type": "bar",
         "x": [
          "Protein_g/g"
         ],
         "xaxis": "x",
         "y": [
          0.213
         ],
         "yaxis": "y"
        },
        {
         "alignmentgroup": "True",
         "hovertemplate": " =Cashew nut<br>index=%{x}<br>value=%{y}<extra></extra>",
         "legendgroup": "Cashew nut",
         "marker": {
          "color": "rgb(46, 98, 160)",
          "pattern": {
           "shape": ""
          }
         },
         "name": "Cashew nut",
         "offsetgroup": "Cashew nut",
         "orientation": "v",
         "showlegend": false,
         "textposition": "auto",
         "type": "bar",
         "x": [
          "Lysin_mg/100g"
         ],
         "xaxis": "x2",
         "y": [
          0.689
         ],
         "yaxis": "y2"
        },
        {
         "alignmentgroup": "True",
         "hovertemplate": " =Sunflower seed<br>index=%{x}<br>value=%{y}<extra></extra>",
         "legendgroup": "Sunflower seed",
         "marker": {
          "color": "rgb(144, 166, 201)",
          "pattern": {
           "shape": ""
          }
         },
         "name": "Sunflower seed",
         "offsetgroup": "Sunflower seed",
         "orientation": "v",
         "showlegend": true,
         "textposition": "auto",
         "type": "bar",
         "x": [
          "Protein_g/g"
         ],
         "xaxis": "x",
         "y": [
          0.2
         ],
         "yaxis": "y"
        },
        {
         "alignmentgroup": "True",
         "hovertemplate": " =Sunflower seed<br>index=%{x}<br>value=%{y}<extra></extra>",
         "legendgroup": "Sunflower seed",
         "marker": {
          "color": "rgb(144, 166, 201)",
          "pattern": {
           "shape": ""
          }
         },
         "name": "Sunflower seed",
         "offsetgroup": "Sunflower seed",
         "orientation": "v",
         "showlegend": false,
         "textposition": "auto",
         "type": "bar",
         "x": [
          "Lysin_mg/100g"
         ],
         "xaxis": "x2",
         "y": [
          0.784
         ],
         "yaxis": "y2"
        }
       ],
       "layout": {
        "annotations": [
         {
          "font": {},
          "showarrow": false,
          "text": "index=Protein_g/g",
          "x": 0.235,
          "xanchor": "center",
          "xref": "paper",
          "y": 1,
          "yanchor": "bottom",
          "yref": "paper"
         },
         {
          "font": {},
          "showarrow": false,
          "text": "index=Lysin_mg/100g",
          "x": 0.765,
          "xanchor": "center",
          "xref": "paper",
          "y": 1,
          "yanchor": "bottom",
          "yref": "paper"
         }
        ],
        "barmode": "group",
        "height": 700,
        "legend": {
         "title": {
          "text": " "
         },
         "tracegroupgap": 0
        },
        "template": {
         "data": {
          "bar": [
           {
            "error_x": {
             "color": "#2a3f5f"
            },
            "error_y": {
             "color": "#2a3f5f"
            },
            "marker": {
             "line": {
              "color": "#E5ECF6",
              "width": 0.5
             },
             "pattern": {
              "fillmode": "overlay",
              "size": 10,
              "solidity": 0.2
             }
            },
            "type": "bar"
           }
          ],
          "barpolar": [
           {
            "marker": {
             "line": {
              "color": "#E5ECF6",
              "width": 0.5
             },
             "pattern": {
              "fillmode": "overlay",
              "size": 10,
              "solidity": 0.2
             }
            },
            "type": "barpolar"
           }
          ],
          "carpet": [
           {
            "aaxis": {
             "endlinecolor": "#2a3f5f",
             "gridcolor": "white",
             "linecolor": "white",
             "minorgridcolor": "white",
             "startlinecolor": "#2a3f5f"
            },
            "baxis": {
             "endlinecolor": "#2a3f5f",
             "gridcolor": "white",
             "linecolor": "white",
             "minorgridcolor": "white",
             "startlinecolor": "#2a3f5f"
            },
            "type": "carpet"
           }
          ],
          "choropleth": [
           {
            "colorbar": {
             "outlinewidth": 0,
             "ticks": ""
            },
            "type": "choropleth"
           }
          ],
          "contour": [
           {
            "colorbar": {
             "outlinewidth": 0,
             "ticks": ""
            },
            "colorscale": [
             [
              0,
              "#0d0887"
             ],
             [
              0.1111111111111111,
              "#46039f"
             ],
             [
              0.2222222222222222,
              "#7201a8"
             ],
             [
              0.3333333333333333,
              "#9c179e"
             ],
             [
              0.4444444444444444,
              "#bd3786"
             ],
             [
              0.5555555555555556,
              "#d8576b"
             ],
             [
              0.6666666666666666,
              "#ed7953"
             ],
             [
              0.7777777777777778,
              "#fb9f3a"
             ],
             [
              0.8888888888888888,
              "#fdca26"
             ],
             [
              1,
              "#f0f921"
             ]
            ],
            "type": "contour"
           }
          ],
          "contourcarpet": [
           {
            "colorbar": {
             "outlinewidth": 0,
             "ticks": ""
            },
            "type": "contourcarpet"
           }
          ],
          "heatmap": [
           {
            "colorbar": {
             "outlinewidth": 0,
             "ticks": ""
            },
            "colorscale": [
             [
              0,
              "#0d0887"
             ],
             [
              0.1111111111111111,
              "#46039f"
             ],
             [
              0.2222222222222222,
              "#7201a8"
             ],
             [
              0.3333333333333333,
              "#9c179e"
             ],
             [
              0.4444444444444444,
              "#bd3786"
             ],
             [
              0.5555555555555556,
              "#d8576b"
             ],
             [
              0.6666666666666666,
              "#ed7953"
             ],
             [
              0.7777777777777778,
              "#fb9f3a"
             ],
             [
              0.8888888888888888,
              "#fdca26"
             ],
             [
              1,
              "#f0f921"
             ]
            ],
            "type": "heatmap"
           }
          ],
          "heatmapgl": [
           {
            "colorbar": {
             "outlinewidth": 0,
             "ticks": ""
            },
            "colorscale": [
             [
              0,
              "#0d0887"
             ],
             [
              0.1111111111111111,
              "#46039f"
             ],
             [
              0.2222222222222222,
              "#7201a8"
             ],
             [
              0.3333333333333333,
              "#9c179e"
             ],
             [
              0.4444444444444444,
              "#bd3786"
             ],
             [
              0.5555555555555556,
              "#d8576b"
             ],
             [
              0.6666666666666666,
              "#ed7953"
             ],
             [
              0.7777777777777778,
              "#fb9f3a"
             ],
             [
              0.8888888888888888,
              "#fdca26"
             ],
             [
              1,
              "#f0f921"
             ]
            ],
            "type": "heatmapgl"
           }
          ],
          "histogram": [
           {
            "marker": {
             "pattern": {
              "fillmode": "overlay",
              "size": 10,
              "solidity": 0.2
             }
            },
            "type": "histogram"
           }
          ],
          "histogram2d": [
           {
            "colorbar": {
             "outlinewidth": 0,
             "ticks": ""
            },
            "colorscale": [
             [
              0,
              "#0d0887"
             ],
             [
              0.1111111111111111,
              "#46039f"
             ],
             [
              0.2222222222222222,
              "#7201a8"
             ],
             [
              0.3333333333333333,
              "#9c179e"
             ],
             [
              0.4444444444444444,
              "#bd3786"
             ],
             [
              0.5555555555555556,
              "#d8576b"
             ],
             [
              0.6666666666666666,
              "#ed7953"
             ],
             [
              0.7777777777777778,
              "#fb9f3a"
             ],
             [
              0.8888888888888888,
              "#fdca26"
             ],
             [
              1,
              "#f0f921"
             ]
            ],
            "type": "histogram2d"
           }
          ],
          "histogram2dcontour": [
           {
            "colorbar": {
             "outlinewidth": 0,
             "ticks": ""
            },
            "colorscale": [
             [
              0,
              "#0d0887"
             ],
             [
              0.1111111111111111,
              "#46039f"
             ],
             [
              0.2222222222222222,
              "#7201a8"
             ],
             [
              0.3333333333333333,
              "#9c179e"
             ],
             [
              0.4444444444444444,
              "#bd3786"
             ],
             [
              0.5555555555555556,
              "#d8576b"
             ],
             [
              0.6666666666666666,
              "#ed7953"
             ],
             [
              0.7777777777777778,
              "#fb9f3a"
             ],
             [
              0.8888888888888888,
              "#fdca26"
             ],
             [
              1,
              "#f0f921"
             ]
            ],
            "type": "histogram2dcontour"
           }
          ],
          "mesh3d": [
           {
            "colorbar": {
             "outlinewidth": 0,
             "ticks": ""
            },
            "type": "mesh3d"
           }
          ],
          "parcoords": [
           {
            "line": {
             "colorbar": {
              "outlinewidth": 0,
              "ticks": ""
             }
            },
            "type": "parcoords"
           }
          ],
          "pie": [
           {
            "automargin": true,
            "type": "pie"
           }
          ],
          "scatter": [
           {
            "fillpattern": {
             "fillmode": "overlay",
             "size": 10,
             "solidity": 0.2
            },
            "type": "scatter"
           }
          ],
          "scatter3d": [
           {
            "line": {
             "colorbar": {
              "outlinewidth": 0,
              "ticks": ""
             }
            },
            "marker": {
             "colorbar": {
              "outlinewidth": 0,
              "ticks": ""
             }
            },
            "type": "scatter3d"
           }
          ],
          "scattercarpet": [
           {
            "marker": {
             "colorbar": {
              "outlinewidth": 0,
              "ticks": ""
             }
            },
            "type": "scattercarpet"
           }
          ],
          "scattergeo": [
           {
            "marker": {
             "colorbar": {
              "outlinewidth": 0,
              "ticks": ""
             }
            },
            "type": "scattergeo"
           }
          ],
          "scattergl": [
           {
            "marker": {
             "colorbar": {
              "outlinewidth": 0,
              "ticks": ""
             }
            },
            "type": "scattergl"
           }
          ],
          "scattermapbox": [
           {
            "marker": {
             "colorbar": {
              "outlinewidth": 0,
              "ticks": ""
             }
            },
            "type": "scattermapbox"
           }
          ],
          "scatterpolar": [
           {
            "marker": {
             "colorbar": {
              "outlinewidth": 0,
              "ticks": ""
             }
            },
            "type": "scatterpolar"
           }
          ],
          "scatterpolargl": [
           {
            "marker": {
             "colorbar": {
              "outlinewidth": 0,
              "ticks": ""
             }
            },
            "type": "scatterpolargl"
           }
          ],
          "scatterternary": [
           {
            "marker": {
             "colorbar": {
              "outlinewidth": 0,
              "ticks": ""
             }
            },
            "type": "scatterternary"
           }
          ],
          "surface": [
           {
            "colorbar": {
             "outlinewidth": 0,
             "ticks": ""
            },
            "colorscale": [
             [
              0,
              "#0d0887"
             ],
             [
              0.1111111111111111,
              "#46039f"
             ],
             [
              0.2222222222222222,
              "#7201a8"
             ],
             [
              0.3333333333333333,
              "#9c179e"
             ],
             [
              0.4444444444444444,
              "#bd3786"
             ],
             [
              0.5555555555555556,
              "#d8576b"
             ],
             [
              0.6666666666666666,
              "#ed7953"
             ],
             [
              0.7777777777777778,
              "#fb9f3a"
             ],
             [
              0.8888888888888888,
              "#fdca26"
             ],
             [
              1,
              "#f0f921"
             ]
            ],
            "type": "surface"
           }
          ],
          "table": [
           {
            "cells": {
             "fill": {
              "color": "#EBF0F8"
             },
             "line": {
              "color": "white"
             }
            },
            "header": {
             "fill": {
              "color": "#C8D4E3"
             },
             "line": {
              "color": "white"
             }
            },
            "type": "table"
           }
          ]
         },
         "layout": {
          "annotationdefaults": {
           "arrowcolor": "#2a3f5f",
           "arrowhead": 0,
           "arrowwidth": 1
          },
          "autotypenumbers": "strict",
          "coloraxis": {
           "colorbar": {
            "outlinewidth": 0,
            "ticks": ""
           }
          },
          "colorscale": {
           "diverging": [
            [
             0,
             "#8e0152"
            ],
            [
             0.1,
             "#c51b7d"
            ],
            [
             0.2,
             "#de77ae"
            ],
            [
             0.3,
             "#f1b6da"
            ],
            [
             0.4,
             "#fde0ef"
            ],
            [
             0.5,
             "#f7f7f7"
            ],
            [
             0.6,
             "#e6f5d0"
            ],
            [
             0.7,
             "#b8e186"
            ],
            [
             0.8,
             "#7fbc41"
            ],
            [
             0.9,
             "#4d9221"
            ],
            [
             1,
             "#276419"
            ]
           ],
           "sequential": [
            [
             0,
             "#0d0887"
            ],
            [
             0.1111111111111111,
             "#46039f"
            ],
            [
             0.2222222222222222,
             "#7201a8"
            ],
            [
             0.3333333333333333,
             "#9c179e"
            ],
            [
             0.4444444444444444,
             "#bd3786"
            ],
            [
             0.5555555555555556,
             "#d8576b"
            ],
            [
             0.6666666666666666,
             "#ed7953"
            ],
            [
             0.7777777777777778,
             "#fb9f3a"
            ],
            [
             0.8888888888888888,
             "#fdca26"
            ],
            [
             1,
             "#f0f921"
            ]
           ],
           "sequentialminus": [
            [
             0,
             "#0d0887"
            ],
            [
             0.1111111111111111,
             "#46039f"
            ],
            [
             0.2222222222222222,
             "#7201a8"
            ],
            [
             0.3333333333333333,
             "#9c179e"
            ],
            [
             0.4444444444444444,
             "#bd3786"
            ],
            [
             0.5555555555555556,
             "#d8576b"
            ],
            [
             0.6666666666666666,
             "#ed7953"
            ],
            [
             0.7777777777777778,
             "#fb9f3a"
            ],
            [
             0.8888888888888888,
             "#fdca26"
            ],
            [
             1,
             "#f0f921"
            ]
           ]
          },
          "colorway": [
           "#636efa",
           "#EF553B",
           "#00cc96",
           "#ab63fa",
           "#FFA15A",
           "#19d3f3",
           "#FF6692",
           "#B6E880",
           "#FF97FF",
           "#FECB52"
          ],
          "font": {
           "color": "#2a3f5f"
          },
          "geo": {
           "bgcolor": "white",
           "lakecolor": "white",
           "landcolor": "#E5ECF6",
           "showlakes": true,
           "showland": true,
           "subunitcolor": "white"
          },
          "hoverlabel": {
           "align": "left"
          },
          "hovermode": "closest",
          "mapbox": {
           "style": "light"
          },
          "paper_bgcolor": "white",
          "plot_bgcolor": "#E5ECF6",
          "polar": {
           "angularaxis": {
            "gridcolor": "white",
            "linecolor": "white",
            "ticks": ""
           },
           "bgcolor": "#E5ECF6",
           "radialaxis": {
            "gridcolor": "white",
            "linecolor": "white",
            "ticks": ""
           }
          },
          "scene": {
           "xaxis": {
            "backgroundcolor": "#E5ECF6",
            "gridcolor": "white",
            "gridwidth": 2,
            "linecolor": "white",
            "showbackground": true,
            "ticks": "",
            "zerolinecolor": "white"
           },
           "yaxis": {
            "backgroundcolor": "#E5ECF6",
            "gridcolor": "white",
            "gridwidth": 2,
            "linecolor": "white",
            "showbackground": true,
            "ticks": "",
            "zerolinecolor": "white"
           },
           "zaxis": {
            "backgroundcolor": "#E5ECF6",
            "gridcolor": "white",
            "gridwidth": 2,
            "linecolor": "white",
            "showbackground": true,
            "ticks": "",
            "zerolinecolor": "white"
           }
          },
          "shapedefaults": {
           "line": {
            "color": "#2a3f5f"
           }
          },
          "ternary": {
           "aaxis": {
            "gridcolor": "white",
            "linecolor": "white",
            "ticks": ""
           },
           "baxis": {
            "gridcolor": "white",
            "linecolor": "white",
            "ticks": ""
           },
           "bgcolor": "#E5ECF6",
           "caxis": {
            "gridcolor": "white",
            "linecolor": "white",
            "ticks": ""
           }
          },
          "title": {
           "x": 0.05
          },
          "xaxis": {
           "automargin": true,
           "gridcolor": "white",
           "linecolor": "white",
           "ticks": "",
           "title": {
            "standoff": 15
           },
           "zerolinecolor": "white",
           "zerolinewidth": 2
          },
          "yaxis": {
           "automargin": true,
           "gridcolor": "white",
           "linecolor": "white",
           "ticks": "",
           "title": {
            "standoff": 15
           },
           "zerolinecolor": "white",
           "zerolinewidth": 2
          }
         }
        },
        "title": {
         "text": "Comparison of the chosen parameters for the chosen food items (per 100g). <br>Items can be turned on or off by clicking on the item in the legend."
        },
        "width": 1000,
        "xaxis": {
         "anchor": "y",
         "categoryarray": [
          "Protein_g/g",
          "Lysin_mg/100g"
         ],
         "categoryorder": "array",
         "domain": [
          0,
          0.47
         ],
         "showticklabels": true,
         "title": {
          "text": "index"
         }
        },
        "xaxis2": {
         "anchor": "y2",
         "categoryarray": [
          "Protein_g/g",
          "Lysin_mg/100g"
         ],
         "categoryorder": "array",
         "domain": [
          0.53,
          1
         ],
         "showticklabels": true,
         "title": {
          "text": "index"
         }
        },
        "yaxis": {
         "anchor": "x",
         "domain": [
          0,
          1
         ],
         "showticklabels": true,
         "title": {
          "text": "value"
         }
        },
        "yaxis2": {
         "anchor": "x2",
         "domain": [
          0,
          1
         ],
         "showticklabels": true
        }
       }
      },
      "text/html": [
       "<div>                            <div id=\"a751faef-e241-492d-a4eb-73408886f252\" class=\"plotly-graph-div\" style=\"height:700px; width:1000px;\"></div>            <script type=\"text/javascript\">                require([\"plotly\"], function(Plotly) {                    window.PLOTLYENV=window.PLOTLYENV || {};                                    if (document.getElementById(\"a751faef-e241-492d-a4eb-73408886f252\")) {                    Plotly.newPlot(                        \"a751faef-e241-492d-a4eb-73408886f252\",                        [{\"alignmentgroup\":\"True\",\"hovertemplate\":\" =Chicken<br>index=%{x}<br>value=%{y}<extra></extra>\",\"legendgroup\":\"Chicken\",\"marker\":{\"color\":\"rgb(11, 25, 39)\",\"pattern\":{\"shape\":\"\"}},\"name\":\"Chicken\",\"offsetgroup\":\"Chicken\",\"orientation\":\"v\",\"showlegend\":true,\"textposition\":\"auto\",\"x\":[\"Protein_g/g\"],\"xaxis\":\"x\",\"y\":[0.264],\"yaxis\":\"y\",\"type\":\"bar\"},{\"alignmentgroup\":\"True\",\"hovertemplate\":\" =Chicken<br>index=%{x}<br>value=%{y}<extra></extra>\",\"legendgroup\":\"Chicken\",\"marker\":{\"color\":\"rgb(11, 25, 39)\",\"pattern\":{\"shape\":\"\"}},\"name\":\"Chicken\",\"offsetgroup\":\"Chicken\",\"orientation\":\"v\",\"showlegend\":false,\"textposition\":\"auto\",\"x\":[\"Lysin_mg/100g\"],\"xaxis\":\"x2\",\"y\":[0.147],\"yaxis\":\"y2\",\"type\":\"bar\"},{\"alignmentgroup\":\"True\",\"hovertemplate\":\" =Cashew nut<br>index=%{x}<br>value=%{y}<extra></extra>\",\"legendgroup\":\"Cashew nut\",\"marker\":{\"color\":\"rgb(46, 98, 160)\",\"pattern\":{\"shape\":\"\"}},\"name\":\"Cashew nut\",\"offsetgroup\":\"Cashew nut\",\"orientation\":\"v\",\"showlegend\":true,\"textposition\":\"auto\",\"x\":[\"Protein_g/g\"],\"xaxis\":\"x\",\"y\":[0.213],\"yaxis\":\"y\",\"type\":\"bar\"},{\"alignmentgroup\":\"True\",\"hovertemplate\":\" =Cashew nut<br>index=%{x}<br>value=%{y}<extra></extra>\",\"legendgroup\":\"Cashew nut\",\"marker\":{\"color\":\"rgb(46, 98, 160)\",\"pattern\":{\"shape\":\"\"}},\"name\":\"Cashew nut\",\"offsetgroup\":\"Cashew nut\",\"orientation\":\"v\",\"showlegend\":false,\"textposition\":\"auto\",\"x\":[\"Lysin_mg/100g\"],\"xaxis\":\"x2\",\"y\":[0.689],\"yaxis\":\"y2\",\"type\":\"bar\"},{\"alignmentgroup\":\"True\",\"hovertemplate\":\" =Sunflower seed<br>index=%{x}<br>value=%{y}<extra></extra>\",\"legendgroup\":\"Sunflower seed\",\"marker\":{\"color\":\"rgb(144, 166, 201)\",\"pattern\":{\"shape\":\"\"}},\"name\":\"Sunflower seed\",\"offsetgroup\":\"Sunflower seed\",\"orientation\":\"v\",\"showlegend\":true,\"textposition\":\"auto\",\"x\":[\"Protein_g/g\"],\"xaxis\":\"x\",\"y\":[0.2],\"yaxis\":\"y\",\"type\":\"bar\"},{\"alignmentgroup\":\"True\",\"hovertemplate\":\" =Sunflower seed<br>index=%{x}<br>value=%{y}<extra></extra>\",\"legendgroup\":\"Sunflower seed\",\"marker\":{\"color\":\"rgb(144, 166, 201)\",\"pattern\":{\"shape\":\"\"}},\"name\":\"Sunflower seed\",\"offsetgroup\":\"Sunflower seed\",\"orientation\":\"v\",\"showlegend\":false,\"textposition\":\"auto\",\"x\":[\"Lysin_mg/100g\"],\"xaxis\":\"x2\",\"y\":[0.784],\"yaxis\":\"y2\",\"type\":\"bar\"}],                        {\"template\":{\"data\":{\"histogram2dcontour\":[{\"type\":\"histogram2dcontour\",\"colorbar\":{\"outlinewidth\":0,\"ticks\":\"\"},\"colorscale\":[[0.0,\"#0d0887\"],[0.1111111111111111,\"#46039f\"],[0.2222222222222222,\"#7201a8\"],[0.3333333333333333,\"#9c179e\"],[0.4444444444444444,\"#bd3786\"],[0.5555555555555556,\"#d8576b\"],[0.6666666666666666,\"#ed7953\"],[0.7777777777777778,\"#fb9f3a\"],[0.8888888888888888,\"#fdca26\"],[1.0,\"#f0f921\"]]}],\"choropleth\":[{\"type\":\"choropleth\",\"colorbar\":{\"outlinewidth\":0,\"ticks\":\"\"}}],\"histogram2d\":[{\"type\":\"histogram2d\",\"colorbar\":{\"outlinewidth\":0,\"ticks\":\"\"},\"colorscale\":[[0.0,\"#0d0887\"],[0.1111111111111111,\"#46039f\"],[0.2222222222222222,\"#7201a8\"],[0.3333333333333333,\"#9c179e\"],[0.4444444444444444,\"#bd3786\"],[0.5555555555555556,\"#d8576b\"],[0.6666666666666666,\"#ed7953\"],[0.7777777777777778,\"#fb9f3a\"],[0.8888888888888888,\"#fdca26\"],[1.0,\"#f0f921\"]]}],\"heatmap\":[{\"type\":\"heatmap\",\"colorbar\":{\"outlinewidth\":0,\"ticks\":\"\"},\"colorscale\":[[0.0,\"#0d0887\"],[0.1111111111111111,\"#46039f\"],[0.2222222222222222,\"#7201a8\"],[0.3333333333333333,\"#9c179e\"],[0.4444444444444444,\"#bd3786\"],[0.5555555555555556,\"#d8576b\"],[0.6666666666666666,\"#ed7953\"],[0.7777777777777778,\"#fb9f3a\"],[0.8888888888888888,\"#fdca26\"],[1.0,\"#f0f921\"]]}],\"heatmapgl\":[{\"type\":\"heatmapgl\",\"colorbar\":{\"outlinewidth\":0,\"ticks\":\"\"},\"colorscale\":[[0.0,\"#0d0887\"],[0.1111111111111111,\"#46039f\"],[0.2222222222222222,\"#7201a8\"],[0.3333333333333333,\"#9c179e\"],[0.4444444444444444,\"#bd3786\"],[0.5555555555555556,\"#d8576b\"],[0.6666666666666666,\"#ed7953\"],[0.7777777777777778,\"#fb9f3a\"],[0.8888888888888888,\"#fdca26\"],[1.0,\"#f0f921\"]]}],\"contourcarpet\":[{\"type\":\"contourcarpet\",\"colorbar\":{\"outlinewidth\":0,\"ticks\":\"\"}}],\"contour\":[{\"type\":\"contour\",\"colorbar\":{\"outlinewidth\":0,\"ticks\":\"\"},\"colorscale\":[[0.0,\"#0d0887\"],[0.1111111111111111,\"#46039f\"],[0.2222222222222222,\"#7201a8\"],[0.3333333333333333,\"#9c179e\"],[0.4444444444444444,\"#bd3786\"],[0.5555555555555556,\"#d8576b\"],[0.6666666666666666,\"#ed7953\"],[0.7777777777777778,\"#fb9f3a\"],[0.8888888888888888,\"#fdca26\"],[1.0,\"#f0f921\"]]}],\"surface\":[{\"type\":\"surface\",\"colorbar\":{\"outlinewidth\":0,\"ticks\":\"\"},\"colorscale\":[[0.0,\"#0d0887\"],[0.1111111111111111,\"#46039f\"],[0.2222222222222222,\"#7201a8\"],[0.3333333333333333,\"#9c179e\"],[0.4444444444444444,\"#bd3786\"],[0.5555555555555556,\"#d8576b\"],[0.6666666666666666,\"#ed7953\"],[0.7777777777777778,\"#fb9f3a\"],[0.8888888888888888,\"#fdca26\"],[1.0,\"#f0f921\"]]}],\"mesh3d\":[{\"type\":\"mesh3d\",\"colorbar\":{\"outlinewidth\":0,\"ticks\":\"\"}}],\"scatter\":[{\"fillpattern\":{\"fillmode\":\"overlay\",\"size\":10,\"solidity\":0.2},\"type\":\"scatter\"}],\"parcoords\":[{\"type\":\"parcoords\",\"line\":{\"colorbar\":{\"outlinewidth\":0,\"ticks\":\"\"}}}],\"scatterpolargl\":[{\"type\":\"scatterpolargl\",\"marker\":{\"colorbar\":{\"outlinewidth\":0,\"ticks\":\"\"}}}],\"bar\":[{\"error_x\":{\"color\":\"#2a3f5f\"},\"error_y\":{\"color\":\"#2a3f5f\"},\"marker\":{\"line\":{\"color\":\"#E5ECF6\",\"width\":0.5},\"pattern\":{\"fillmode\":\"overlay\",\"size\":10,\"solidity\":0.2}},\"type\":\"bar\"}],\"scattergeo\":[{\"type\":\"scattergeo\",\"marker\":{\"colorbar\":{\"outlinewidth\":0,\"ticks\":\"\"}}}],\"scatterpolar\":[{\"type\":\"scatterpolar\",\"marker\":{\"colorbar\":{\"outlinewidth\":0,\"ticks\":\"\"}}}],\"histogram\":[{\"marker\":{\"pattern\":{\"fillmode\":\"overlay\",\"size\":10,\"solidity\":0.2}},\"type\":\"histogram\"}],\"scattergl\":[{\"type\":\"scattergl\",\"marker\":{\"colorbar\":{\"outlinewidth\":0,\"ticks\":\"\"}}}],\"scatter3d\":[{\"type\":\"scatter3d\",\"line\":{\"colorbar\":{\"outlinewidth\":0,\"ticks\":\"\"}},\"marker\":{\"colorbar\":{\"outlinewidth\":0,\"ticks\":\"\"}}}],\"scattermapbox\":[{\"type\":\"scattermapbox\",\"marker\":{\"colorbar\":{\"outlinewidth\":0,\"ticks\":\"\"}}}],\"scatterternary\":[{\"type\":\"scatterternary\",\"marker\":{\"colorbar\":{\"outlinewidth\":0,\"ticks\":\"\"}}}],\"scattercarpet\":[{\"type\":\"scattercarpet\",\"marker\":{\"colorbar\":{\"outlinewidth\":0,\"ticks\":\"\"}}}],\"carpet\":[{\"aaxis\":{\"endlinecolor\":\"#2a3f5f\",\"gridcolor\":\"white\",\"linecolor\":\"white\",\"minorgridcolor\":\"white\",\"startlinecolor\":\"#2a3f5f\"},\"baxis\":{\"endlinecolor\":\"#2a3f5f\",\"gridcolor\":\"white\",\"linecolor\":\"white\",\"minorgridcolor\":\"white\",\"startlinecolor\":\"#2a3f5f\"},\"type\":\"carpet\"}],\"table\":[{\"cells\":{\"fill\":{\"color\":\"#EBF0F8\"},\"line\":{\"color\":\"white\"}},\"header\":{\"fill\":{\"color\":\"#C8D4E3\"},\"line\":{\"color\":\"white\"}},\"type\":\"table\"}],\"barpolar\":[{\"marker\":{\"line\":{\"color\":\"#E5ECF6\",\"width\":0.5},\"pattern\":{\"fillmode\":\"overlay\",\"size\":10,\"solidity\":0.2}},\"type\":\"barpolar\"}],\"pie\":[{\"automargin\":true,\"type\":\"pie\"}]},\"layout\":{\"autotypenumbers\":\"strict\",\"colorway\":[\"#636efa\",\"#EF553B\",\"#00cc96\",\"#ab63fa\",\"#FFA15A\",\"#19d3f3\",\"#FF6692\",\"#B6E880\",\"#FF97FF\",\"#FECB52\"],\"font\":{\"color\":\"#2a3f5f\"},\"hovermode\":\"closest\",\"hoverlabel\":{\"align\":\"left\"},\"paper_bgcolor\":\"white\",\"plot_bgcolor\":\"#E5ECF6\",\"polar\":{\"bgcolor\":\"#E5ECF6\",\"angularaxis\":{\"gridcolor\":\"white\",\"linecolor\":\"white\",\"ticks\":\"\"},\"radialaxis\":{\"gridcolor\":\"white\",\"linecolor\":\"white\",\"ticks\":\"\"}},\"ternary\":{\"bgcolor\":\"#E5ECF6\",\"aaxis\":{\"gridcolor\":\"white\",\"linecolor\":\"white\",\"ticks\":\"\"},\"baxis\":{\"gridcolor\":\"white\",\"linecolor\":\"white\",\"ticks\":\"\"},\"caxis\":{\"gridcolor\":\"white\",\"linecolor\":\"white\",\"ticks\":\"\"}},\"coloraxis\":{\"colorbar\":{\"outlinewidth\":0,\"ticks\":\"\"}},\"colorscale\":{\"sequential\":[[0.0,\"#0d0887\"],[0.1111111111111111,\"#46039f\"],[0.2222222222222222,\"#7201a8\"],[0.3333333333333333,\"#9c179e\"],[0.4444444444444444,\"#bd3786\"],[0.5555555555555556,\"#d8576b\"],[0.6666666666666666,\"#ed7953\"],[0.7777777777777778,\"#fb9f3a\"],[0.8888888888888888,\"#fdca26\"],[1.0,\"#f0f921\"]],\"sequentialminus\":[[0.0,\"#0d0887\"],[0.1111111111111111,\"#46039f\"],[0.2222222222222222,\"#7201a8\"],[0.3333333333333333,\"#9c179e\"],[0.4444444444444444,\"#bd3786\"],[0.5555555555555556,\"#d8576b\"],[0.6666666666666666,\"#ed7953\"],[0.7777777777777778,\"#fb9f3a\"],[0.8888888888888888,\"#fdca26\"],[1.0,\"#f0f921\"]],\"diverging\":[[0,\"#8e0152\"],[0.1,\"#c51b7d\"],[0.2,\"#de77ae\"],[0.3,\"#f1b6da\"],[0.4,\"#fde0ef\"],[0.5,\"#f7f7f7\"],[0.6,\"#e6f5d0\"],[0.7,\"#b8e186\"],[0.8,\"#7fbc41\"],[0.9,\"#4d9221\"],[1,\"#276419\"]]},\"xaxis\":{\"gridcolor\":\"white\",\"linecolor\":\"white\",\"ticks\":\"\",\"title\":{\"standoff\":15},\"zerolinecolor\":\"white\",\"automargin\":true,\"zerolinewidth\":2},\"yaxis\":{\"gridcolor\":\"white\",\"linecolor\":\"white\",\"ticks\":\"\",\"title\":{\"standoff\":15},\"zerolinecolor\":\"white\",\"automargin\":true,\"zerolinewidth\":2},\"scene\":{\"xaxis\":{\"backgroundcolor\":\"#E5ECF6\",\"gridcolor\":\"white\",\"linecolor\":\"white\",\"showbackground\":true,\"ticks\":\"\",\"zerolinecolor\":\"white\",\"gridwidth\":2},\"yaxis\":{\"backgroundcolor\":\"#E5ECF6\",\"gridcolor\":\"white\",\"linecolor\":\"white\",\"showbackground\":true,\"ticks\":\"\",\"zerolinecolor\":\"white\",\"gridwidth\":2},\"zaxis\":{\"backgroundcolor\":\"#E5ECF6\",\"gridcolor\":\"white\",\"linecolor\":\"white\",\"showbackground\":true,\"ticks\":\"\",\"zerolinecolor\":\"white\",\"gridwidth\":2}},\"shapedefaults\":{\"line\":{\"color\":\"#2a3f5f\"}},\"annotationdefaults\":{\"arrowcolor\":\"#2a3f5f\",\"arrowhead\":0,\"arrowwidth\":1},\"geo\":{\"bgcolor\":\"white\",\"landcolor\":\"#E5ECF6\",\"subunitcolor\":\"white\",\"showland\":true,\"showlakes\":true,\"lakecolor\":\"white\"},\"title\":{\"x\":0.05},\"mapbox\":{\"style\":\"light\"}}},\"xaxis\":{\"anchor\":\"y\",\"domain\":[0.0,0.47],\"title\":{\"text\":\"index\"},\"categoryorder\":\"array\",\"categoryarray\":[\"Protein_g/g\",\"Lysin_mg/100g\"],\"showticklabels\":true},\"yaxis\":{\"anchor\":\"x\",\"domain\":[0.0,1.0],\"title\":{\"text\":\"value\"},\"showticklabels\":true},\"xaxis2\":{\"anchor\":\"y2\",\"domain\":[0.53,1.0],\"title\":{\"text\":\"index\"},\"categoryorder\":\"array\",\"categoryarray\":[\"Protein_g/g\",\"Lysin_mg/100g\"],\"showticklabels\":true},\"yaxis2\":{\"anchor\":\"x2\",\"domain\":[0.0,1.0],\"showticklabels\":true},\"annotations\":[{\"font\":{},\"showarrow\":false,\"text\":\"index=Protein_g/g\",\"x\":0.235,\"xanchor\":\"center\",\"xref\":\"paper\",\"y\":1.0,\"yanchor\":\"bottom\",\"yref\":\"paper\"},{\"font\":{},\"showarrow\":false,\"text\":\"index=Lysin_mg/100g\",\"x\":0.765,\"xanchor\":\"center\",\"xref\":\"paper\",\"y\":1.0,\"yanchor\":\"bottom\",\"yref\":\"paper\"}],\"legend\":{\"title\":{\"text\":\" \"},\"tracegroupgap\":0},\"title\":{\"text\":\"Comparison of the chosen parameters for the chosen food items (per 100g). <br>Items can be turned on or off by clicking on the item in the legend.\"},\"barmode\":\"group\",\"height\":700,\"width\":1000},                        {\"responsive\": true}                    ).then(function(){\n",
       "                            \n",
       "var gd = document.getElementById('a751faef-e241-492d-a4eb-73408886f252');\n",
       "var x = new MutationObserver(function (mutations, observer) {{\n",
       "        var display = window.getComputedStyle(gd).display;\n",
       "        if (!display || display === 'none') {{\n",
       "            console.log([gd, 'removed!']);\n",
       "            Plotly.purge(gd);\n",
       "            observer.disconnect();\n",
       "        }}\n",
       "}});\n",
       "\n",
       "// Listen for the removal of the full notebook cells\n",
       "var notebookContainer = gd.closest('#notebook-container');\n",
       "if (notebookContainer) {{\n",
       "    x.observe(notebookContainer, {childList: true});\n",
       "}}\n",
       "\n",
       "// Listen for the clearing of the current output cell\n",
       "var outputEl = gd.closest('.output');\n",
       "if (outputEl) {{\n",
       "    x.observe(outputEl, {childList: true});\n",
       "}}\n",
       "\n",
       "                        })                };                });            </script>        </div>"
      ]
     },
     "metadata": {},
     "output_type": "display_data"
    }
   ],
   "source": [
    "# https://community.plotly.com/t/how-to-set-different-x-and-y-axis-for-each-subplot/57417\n",
    "\n",
    "import plotly.express as px\n",
    "import pandas as pd\n",
    "\n",
    "# choose columns\n",
    "column = [   'Protein_g/g', \n",
    "'Lysin_mg/100g']\n",
    "ncols = len(column)\n",
    "\n",
    "# choose food items\n",
    "food = ['Chicken', 'Cashew nut', 'Sunflower seed']\n",
    "\n",
    "# transpose data\n",
    "df_plot = df_dapro.loc[food][column].T\n",
    "\n",
    "# initialize bars: not stacked, but grouped, facet/ subplots = index = parameters, color is oslo with step 3 to have distinguishable colors\n",
    "fig = px.bar(df_plot,\n",
    "#              x='ingredient',\n",
    "#              y='value', \n",
    "             barmode=\"group\",\n",
    "             facet_col=df_plot.index, \n",
    "             color_discrete_sequence=oslo_rgb[1::3],\n",
    "    color_continuous_scale=None, orientation = 'v',\n",
    "                          facet_col_spacing=0.06,\n",
    "             width= 1000,\n",
    "             height = 700,\n",
    "             title = ('Comparison of the chosen parameters for the chosen food items (per 100g). <br>Items can be turned on or off by clicking on the item in the legend.')\n",
    "            \n",
    "    )\n",
    "fig.update_xaxes(matches=None, showticklabels=True)\n",
    "fig.update_yaxes(matches=None, showticklabels=True)\n",
    "\n",
    "fig.show()\n",
    "# fig.write_html(\"BarsFoodItemGram1.html\")"
   ]
  },
  {
   "cell_type": "markdown",
   "id": "8aad86e1",
   "metadata": {},
   "source": [
    "#### same for energy data, but values cannot be correct "
   ]
  },
  {
   "cell_type": "code",
   "execution_count": 25,
   "id": "c3427e95",
   "metadata": {},
   "outputs": [
    {
     "data": {
      "application/vnd.plotly.v1+json": {
       "config": {
        "plotlyServerURL": "https://plot.ly"
       },
       "data": [
        {
         "alignmentgroup": "True",
         "hovertemplate": " =Chicken<br>index=%{x}<br>value=%{y}<extra></extra>",
         "legendgroup": "Chicken",
         "marker": {
          "color": "rgb(11, 25, 39)",
          "pattern": {
           "shape": ""
          }
         },
         "name": "Chicken",
         "offsetgroup": "Chicken",
         "orientation": "v",
         "showlegend": true,
         "textposition": "auto",
         "type": "bar",
         "x": [
          "Protein_g/g"
         ],
         "xaxis": "x",
         "y": [
          1
         ],
         "yaxis": "y"
        },
        {
         "alignmentgroup": "True",
         "hovertemplate": " =Chicken<br>index=%{x}<br>value=%{y}<extra></extra>",
         "legendgroup": "Chicken",
         "marker": {
          "color": "rgb(11, 25, 39)",
          "pattern": {
           "shape": ""
          }
         },
         "name": "Chicken",
         "offsetgroup": "Chicken",
         "orientation": "v",
         "showlegend": false,
         "textposition": "auto",
         "type": "bar",
         "x": [
          "Lysin_mg/100g"
         ],
         "xaxis": "x2",
         "y": [
          0.5568181818181818
         ],
         "yaxis": "y2"
        },
        {
         "alignmentgroup": "True",
         "hovertemplate": " =Cashew nut<br>index=%{x}<br>value=%{y}<extra></extra>",
         "legendgroup": "Cashew nut",
         "marker": {
          "color": "rgb(46, 98, 160)",
          "pattern": {
           "shape": ""
          }
         },
         "name": "Cashew nut",
         "offsetgroup": "Cashew nut",
         "orientation": "v",
         "showlegend": true,
         "textposition": "auto",
         "type": "bar",
         "x": [
          "Protein_g/g"
         ],
         "xaxis": "x",
         "y": [
          1
         ],
         "yaxis": "y"
        },
        {
         "alignmentgroup": "True",
         "hovertemplate": " =Cashew nut<br>index=%{x}<br>value=%{y}<extra></extra>",
         "legendgroup": "Cashew nut",
         "marker": {
          "color": "rgb(46, 98, 160)",
          "pattern": {
           "shape": ""
          }
         },
         "name": "Cashew nut",
         "offsetgroup": "Cashew nut",
         "orientation": "v",
         "showlegend": false,
         "textposition": "auto",
         "type": "bar",
         "x": [
          "Lysin_mg/100g"
         ],
         "xaxis": "x2",
         "y": [
          3.2347417840375585
         ],
         "yaxis": "y2"
        },
        {
         "alignmentgroup": "True",
         "hovertemplate": " =Sunflower seed<br>index=%{x}<br>value=%{y}<extra></extra>",
         "legendgroup": "Sunflower seed",
         "marker": {
          "color": "rgb(144, 166, 201)",
          "pattern": {
           "shape": ""
          }
         },
         "name": "Sunflower seed",
         "offsetgroup": "Sunflower seed",
         "orientation": "v",
         "showlegend": true,
         "textposition": "auto",
         "type": "bar",
         "x": [
          "Protein_g/g"
         ],
         "xaxis": "x",
         "y": [
          1
         ],
         "yaxis": "y"
        },
        {
         "alignmentgroup": "True",
         "hovertemplate": " =Sunflower seed<br>index=%{x}<br>value=%{y}<extra></extra>",
         "legendgroup": "Sunflower seed",
         "marker": {
          "color": "rgb(144, 166, 201)",
          "pattern": {
           "shape": ""
          }
         },
         "name": "Sunflower seed",
         "offsetgroup": "Sunflower seed",
         "orientation": "v",
         "showlegend": false,
         "textposition": "auto",
         "type": "bar",
         "x": [
          "Lysin_mg/100g"
         ],
         "xaxis": "x2",
         "y": [
          3.92
         ],
         "yaxis": "y2"
        }
       ],
       "layout": {
        "annotations": [
         {
          "font": {},
          "showarrow": false,
          "text": "index=Protein_g/g",
          "x": 0.235,
          "xanchor": "center",
          "xref": "paper",
          "y": 1,
          "yanchor": "bottom",
          "yref": "paper"
         },
         {
          "font": {},
          "showarrow": false,
          "text": "index=Lysin_mg/100g",
          "x": 0.765,
          "xanchor": "center",
          "xref": "paper",
          "y": 1,
          "yanchor": "bottom",
          "yref": "paper"
         }
        ],
        "barmode": "group",
        "height": 700,
        "legend": {
         "title": {
          "text": " "
         },
         "tracegroupgap": 0
        },
        "template": {
         "data": {
          "bar": [
           {
            "error_x": {
             "color": "#2a3f5f"
            },
            "error_y": {
             "color": "#2a3f5f"
            },
            "marker": {
             "line": {
              "color": "#E5ECF6",
              "width": 0.5
             },
             "pattern": {
              "fillmode": "overlay",
              "size": 10,
              "solidity": 0.2
             }
            },
            "type": "bar"
           }
          ],
          "barpolar": [
           {
            "marker": {
             "line": {
              "color": "#E5ECF6",
              "width": 0.5
             },
             "pattern": {
              "fillmode": "overlay",
              "size": 10,
              "solidity": 0.2
             }
            },
            "type": "barpolar"
           }
          ],
          "carpet": [
           {
            "aaxis": {
             "endlinecolor": "#2a3f5f",
             "gridcolor": "white",
             "linecolor": "white",
             "minorgridcolor": "white",
             "startlinecolor": "#2a3f5f"
            },
            "baxis": {
             "endlinecolor": "#2a3f5f",
             "gridcolor": "white",
             "linecolor": "white",
             "minorgridcolor": "white",
             "startlinecolor": "#2a3f5f"
            },
            "type": "carpet"
           }
          ],
          "choropleth": [
           {
            "colorbar": {
             "outlinewidth": 0,
             "ticks": ""
            },
            "type": "choropleth"
           }
          ],
          "contour": [
           {
            "colorbar": {
             "outlinewidth": 0,
             "ticks": ""
            },
            "colorscale": [
             [
              0,
              "#0d0887"
             ],
             [
              0.1111111111111111,
              "#46039f"
             ],
             [
              0.2222222222222222,
              "#7201a8"
             ],
             [
              0.3333333333333333,
              "#9c179e"
             ],
             [
              0.4444444444444444,
              "#bd3786"
             ],
             [
              0.5555555555555556,
              "#d8576b"
             ],
             [
              0.6666666666666666,
              "#ed7953"
             ],
             [
              0.7777777777777778,
              "#fb9f3a"
             ],
             [
              0.8888888888888888,
              "#fdca26"
             ],
             [
              1,
              "#f0f921"
             ]
            ],
            "type": "contour"
           }
          ],
          "contourcarpet": [
           {
            "colorbar": {
             "outlinewidth": 0,
             "ticks": ""
            },
            "type": "contourcarpet"
           }
          ],
          "heatmap": [
           {
            "colorbar": {
             "outlinewidth": 0,
             "ticks": ""
            },
            "colorscale": [
             [
              0,
              "#0d0887"
             ],
             [
              0.1111111111111111,
              "#46039f"
             ],
             [
              0.2222222222222222,
              "#7201a8"
             ],
             [
              0.3333333333333333,
              "#9c179e"
             ],
             [
              0.4444444444444444,
              "#bd3786"
             ],
             [
              0.5555555555555556,
              "#d8576b"
             ],
             [
              0.6666666666666666,
              "#ed7953"
             ],
             [
              0.7777777777777778,
              "#fb9f3a"
             ],
             [
              0.8888888888888888,
              "#fdca26"
             ],
             [
              1,
              "#f0f921"
             ]
            ],
            "type": "heatmap"
           }
          ],
          "heatmapgl": [
           {
            "colorbar": {
             "outlinewidth": 0,
             "ticks": ""
            },
            "colorscale": [
             [
              0,
              "#0d0887"
             ],
             [
              0.1111111111111111,
              "#46039f"
             ],
             [
              0.2222222222222222,
              "#7201a8"
             ],
             [
              0.3333333333333333,
              "#9c179e"
             ],
             [
              0.4444444444444444,
              "#bd3786"
             ],
             [
              0.5555555555555556,
              "#d8576b"
             ],
             [
              0.6666666666666666,
              "#ed7953"
             ],
             [
              0.7777777777777778,
              "#fb9f3a"
             ],
             [
              0.8888888888888888,
              "#fdca26"
             ],
             [
              1,
              "#f0f921"
             ]
            ],
            "type": "heatmapgl"
           }
          ],
          "histogram": [
           {
            "marker": {
             "pattern": {
              "fillmode": "overlay",
              "size": 10,
              "solidity": 0.2
             }
            },
            "type": "histogram"
           }
          ],
          "histogram2d": [
           {
            "colorbar": {
             "outlinewidth": 0,
             "ticks": ""
            },
            "colorscale": [
             [
              0,
              "#0d0887"
             ],
             [
              0.1111111111111111,
              "#46039f"
             ],
             [
              0.2222222222222222,
              "#7201a8"
             ],
             [
              0.3333333333333333,
              "#9c179e"
             ],
             [
              0.4444444444444444,
              "#bd3786"
             ],
             [
              0.5555555555555556,
              "#d8576b"
             ],
             [
              0.6666666666666666,
              "#ed7953"
             ],
             [
              0.7777777777777778,
              "#fb9f3a"
             ],
             [
              0.8888888888888888,
              "#fdca26"
             ],
             [
              1,
              "#f0f921"
             ]
            ],
            "type": "histogram2d"
           }
          ],
          "histogram2dcontour": [
           {
            "colorbar": {
             "outlinewidth": 0,
             "ticks": ""
            },
            "colorscale": [
             [
              0,
              "#0d0887"
             ],
             [
              0.1111111111111111,
              "#46039f"
             ],
             [
              0.2222222222222222,
              "#7201a8"
             ],
             [
              0.3333333333333333,
              "#9c179e"
             ],
             [
              0.4444444444444444,
              "#bd3786"
             ],
             [
              0.5555555555555556,
              "#d8576b"
             ],
             [
              0.6666666666666666,
              "#ed7953"
             ],
             [
              0.7777777777777778,
              "#fb9f3a"
             ],
             [
              0.8888888888888888,
              "#fdca26"
             ],
             [
              1,
              "#f0f921"
             ]
            ],
            "type": "histogram2dcontour"
           }
          ],
          "mesh3d": [
           {
            "colorbar": {
             "outlinewidth": 0,
             "ticks": ""
            },
            "type": "mesh3d"
           }
          ],
          "parcoords": [
           {
            "line": {
             "colorbar": {
              "outlinewidth": 0,
              "ticks": ""
             }
            },
            "type": "parcoords"
           }
          ],
          "pie": [
           {
            "automargin": true,
            "type": "pie"
           }
          ],
          "scatter": [
           {
            "fillpattern": {
             "fillmode": "overlay",
             "size": 10,
             "solidity": 0.2
            },
            "type": "scatter"
           }
          ],
          "scatter3d": [
           {
            "line": {
             "colorbar": {
              "outlinewidth": 0,
              "ticks": ""
             }
            },
            "marker": {
             "colorbar": {
              "outlinewidth": 0,
              "ticks": ""
             }
            },
            "type": "scatter3d"
           }
          ],
          "scattercarpet": [
           {
            "marker": {
             "colorbar": {
              "outlinewidth": 0,
              "ticks": ""
             }
            },
            "type": "scattercarpet"
           }
          ],
          "scattergeo": [
           {
            "marker": {
             "colorbar": {
              "outlinewidth": 0,
              "ticks": ""
             }
            },
            "type": "scattergeo"
           }
          ],
          "scattergl": [
           {
            "marker": {
             "colorbar": {
              "outlinewidth": 0,
              "ticks": ""
             }
            },
            "type": "scattergl"
           }
          ],
          "scattermapbox": [
           {
            "marker": {
             "colorbar": {
              "outlinewidth": 0,
              "ticks": ""
             }
            },
            "type": "scattermapbox"
           }
          ],
          "scatterpolar": [
           {
            "marker": {
             "colorbar": {
              "outlinewidth": 0,
              "ticks": ""
             }
            },
            "type": "scatterpolar"
           }
          ],
          "scatterpolargl": [
           {
            "marker": {
             "colorbar": {
              "outlinewidth": 0,
              "ticks": ""
             }
            },
            "type": "scatterpolargl"
           }
          ],
          "scatterternary": [
           {
            "marker": {
             "colorbar": {
              "outlinewidth": 0,
              "ticks": ""
             }
            },
            "type": "scatterternary"
           }
          ],
          "surface": [
           {
            "colorbar": {
             "outlinewidth": 0,
             "ticks": ""
            },
            "colorscale": [
             [
              0,
              "#0d0887"
             ],
             [
              0.1111111111111111,
              "#46039f"
             ],
             [
              0.2222222222222222,
              "#7201a8"
             ],
             [
              0.3333333333333333,
              "#9c179e"
             ],
             [
              0.4444444444444444,
              "#bd3786"
             ],
             [
              0.5555555555555556,
              "#d8576b"
             ],
             [
              0.6666666666666666,
              "#ed7953"
             ],
             [
              0.7777777777777778,
              "#fb9f3a"
             ],
             [
              0.8888888888888888,
              "#fdca26"
             ],
             [
              1,
              "#f0f921"
             ]
            ],
            "type": "surface"
           }
          ],
          "table": [
           {
            "cells": {
             "fill": {
              "color": "#EBF0F8"
             },
             "line": {
              "color": "white"
             }
            },
            "header": {
             "fill": {
              "color": "#C8D4E3"
             },
             "line": {
              "color": "white"
             }
            },
            "type": "table"
           }
          ]
         },
         "layout": {
          "annotationdefaults": {
           "arrowcolor": "#2a3f5f",
           "arrowhead": 0,
           "arrowwidth": 1
          },
          "autotypenumbers": "strict",
          "coloraxis": {
           "colorbar": {
            "outlinewidth": 0,
            "ticks": ""
           }
          },
          "colorscale": {
           "diverging": [
            [
             0,
             "#8e0152"
            ],
            [
             0.1,
             "#c51b7d"
            ],
            [
             0.2,
             "#de77ae"
            ],
            [
             0.3,
             "#f1b6da"
            ],
            [
             0.4,
             "#fde0ef"
            ],
            [
             0.5,
             "#f7f7f7"
            ],
            [
             0.6,
             "#e6f5d0"
            ],
            [
             0.7,
             "#b8e186"
            ],
            [
             0.8,
             "#7fbc41"
            ],
            [
             0.9,
             "#4d9221"
            ],
            [
             1,
             "#276419"
            ]
           ],
           "sequential": [
            [
             0,
             "#0d0887"
            ],
            [
             0.1111111111111111,
             "#46039f"
            ],
            [
             0.2222222222222222,
             "#7201a8"
            ],
            [
             0.3333333333333333,
             "#9c179e"
            ],
            [
             0.4444444444444444,
             "#bd3786"
            ],
            [
             0.5555555555555556,
             "#d8576b"
            ],
            [
             0.6666666666666666,
             "#ed7953"
            ],
            [
             0.7777777777777778,
             "#fb9f3a"
            ],
            [
             0.8888888888888888,
             "#fdca26"
            ],
            [
             1,
             "#f0f921"
            ]
           ],
           "sequentialminus": [
            [
             0,
             "#0d0887"
            ],
            [
             0.1111111111111111,
             "#46039f"
            ],
            [
             0.2222222222222222,
             "#7201a8"
            ],
            [
             0.3333333333333333,
             "#9c179e"
            ],
            [
             0.4444444444444444,
             "#bd3786"
            ],
            [
             0.5555555555555556,
             "#d8576b"
            ],
            [
             0.6666666666666666,
             "#ed7953"
            ],
            [
             0.7777777777777778,
             "#fb9f3a"
            ],
            [
             0.8888888888888888,
             "#fdca26"
            ],
            [
             1,
             "#f0f921"
            ]
           ]
          },
          "colorway": [
           "#636efa",
           "#EF553B",
           "#00cc96",
           "#ab63fa",
           "#FFA15A",
           "#19d3f3",
           "#FF6692",
           "#B6E880",
           "#FF97FF",
           "#FECB52"
          ],
          "font": {
           "color": "#2a3f5f"
          },
          "geo": {
           "bgcolor": "white",
           "lakecolor": "white",
           "landcolor": "#E5ECF6",
           "showlakes": true,
           "showland": true,
           "subunitcolor": "white"
          },
          "hoverlabel": {
           "align": "left"
          },
          "hovermode": "closest",
          "mapbox": {
           "style": "light"
          },
          "paper_bgcolor": "white",
          "plot_bgcolor": "#E5ECF6",
          "polar": {
           "angularaxis": {
            "gridcolor": "white",
            "linecolor": "white",
            "ticks": ""
           },
           "bgcolor": "#E5ECF6",
           "radialaxis": {
            "gridcolor": "white",
            "linecolor": "white",
            "ticks": ""
           }
          },
          "scene": {
           "xaxis": {
            "backgroundcolor": "#E5ECF6",
            "gridcolor": "white",
            "gridwidth": 2,
            "linecolor": "white",
            "showbackground": true,
            "ticks": "",
            "zerolinecolor": "white"
           },
           "yaxis": {
            "backgroundcolor": "#E5ECF6",
            "gridcolor": "white",
            "gridwidth": 2,
            "linecolor": "white",
            "showbackground": true,
            "ticks": "",
            "zerolinecolor": "white"
           },
           "zaxis": {
            "backgroundcolor": "#E5ECF6",
            "gridcolor": "white",
            "gridwidth": 2,
            "linecolor": "white",
            "showbackground": true,
            "ticks": "",
            "zerolinecolor": "white"
           }
          },
          "shapedefaults": {
           "line": {
            "color": "#2a3f5f"
           }
          },
          "ternary": {
           "aaxis": {
            "gridcolor": "white",
            "linecolor": "white",
            "ticks": ""
           },
           "baxis": {
            "gridcolor": "white",
            "linecolor": "white",
            "ticks": ""
           },
           "bgcolor": "#E5ECF6",
           "caxis": {
            "gridcolor": "white",
            "linecolor": "white",
            "ticks": ""
           }
          },
          "title": {
           "x": 0.05
          },
          "xaxis": {
           "automargin": true,
           "gridcolor": "white",
           "linecolor": "white",
           "ticks": "",
           "title": {
            "standoff": 15
           },
           "zerolinecolor": "white",
           "zerolinewidth": 2
          },
          "yaxis": {
           "automargin": true,
           "gridcolor": "white",
           "linecolor": "white",
           "ticks": "",
           "title": {
            "standoff": 15
           },
           "zerolinecolor": "white",
           "zerolinewidth": 2
          }
         }
        },
        "title": {
         "text": "Comparison of the chosen parameters for the chosen food items (per energy, 1 kJ). <br>Items can be turned on or off by clicking on the item in the legend."
        },
        "width": 1000,
        "xaxis": {
         "anchor": "y",
         "categoryarray": [
          "Protein_g/g",
          "Lysin_mg/100g"
         ],
         "categoryorder": "array",
         "domain": [
          0,
          0.47
         ],
         "showticklabels": true,
         "title": {
          "text": "index"
         }
        },
        "xaxis2": {
         "anchor": "y2",
         "categoryarray": [
          "Protein_g/g",
          "Lysin_mg/100g"
         ],
         "categoryorder": "array",
         "domain": [
          0.53,
          1
         ],
         "showticklabels": true,
         "title": {
          "text": "index"
         }
        },
        "yaxis": {
         "anchor": "x",
         "domain": [
          0,
          1
         ],
         "showticklabels": true,
         "title": {
          "text": "value"
         }
        },
        "yaxis2": {
         "anchor": "x2",
         "domain": [
          0,
          1
         ],
         "showticklabels": true
        }
       }
      },
      "text/html": [
       "<div>                            <div id=\"00568ea0-f386-4c1c-9bbb-c5104e91a39a\" class=\"plotly-graph-div\" style=\"height:700px; width:1000px;\"></div>            <script type=\"text/javascript\">                require([\"plotly\"], function(Plotly) {                    window.PLOTLYENV=window.PLOTLYENV || {};                                    if (document.getElementById(\"00568ea0-f386-4c1c-9bbb-c5104e91a39a\")) {                    Plotly.newPlot(                        \"00568ea0-f386-4c1c-9bbb-c5104e91a39a\",                        [{\"alignmentgroup\":\"True\",\"hovertemplate\":\" =Chicken<br>index=%{x}<br>value=%{y}<extra></extra>\",\"legendgroup\":\"Chicken\",\"marker\":{\"color\":\"rgb(11, 25, 39)\",\"pattern\":{\"shape\":\"\"}},\"name\":\"Chicken\",\"offsetgroup\":\"Chicken\",\"orientation\":\"v\",\"showlegend\":true,\"textposition\":\"auto\",\"x\":[\"Protein_g/g\"],\"xaxis\":\"x\",\"y\":[1.0],\"yaxis\":\"y\",\"type\":\"bar\"},{\"alignmentgroup\":\"True\",\"hovertemplate\":\" =Chicken<br>index=%{x}<br>value=%{y}<extra></extra>\",\"legendgroup\":\"Chicken\",\"marker\":{\"color\":\"rgb(11, 25, 39)\",\"pattern\":{\"shape\":\"\"}},\"name\":\"Chicken\",\"offsetgroup\":\"Chicken\",\"orientation\":\"v\",\"showlegend\":false,\"textposition\":\"auto\",\"x\":[\"Lysin_mg/100g\"],\"xaxis\":\"x2\",\"y\":[0.5568181818181818],\"yaxis\":\"y2\",\"type\":\"bar\"},{\"alignmentgroup\":\"True\",\"hovertemplate\":\" =Cashew nut<br>index=%{x}<br>value=%{y}<extra></extra>\",\"legendgroup\":\"Cashew nut\",\"marker\":{\"color\":\"rgb(46, 98, 160)\",\"pattern\":{\"shape\":\"\"}},\"name\":\"Cashew nut\",\"offsetgroup\":\"Cashew nut\",\"orientation\":\"v\",\"showlegend\":true,\"textposition\":\"auto\",\"x\":[\"Protein_g/g\"],\"xaxis\":\"x\",\"y\":[1.0],\"yaxis\":\"y\",\"type\":\"bar\"},{\"alignmentgroup\":\"True\",\"hovertemplate\":\" =Cashew nut<br>index=%{x}<br>value=%{y}<extra></extra>\",\"legendgroup\":\"Cashew nut\",\"marker\":{\"color\":\"rgb(46, 98, 160)\",\"pattern\":{\"shape\":\"\"}},\"name\":\"Cashew nut\",\"offsetgroup\":\"Cashew nut\",\"orientation\":\"v\",\"showlegend\":false,\"textposition\":\"auto\",\"x\":[\"Lysin_mg/100g\"],\"xaxis\":\"x2\",\"y\":[3.2347417840375585],\"yaxis\":\"y2\",\"type\":\"bar\"},{\"alignmentgroup\":\"True\",\"hovertemplate\":\" =Sunflower seed<br>index=%{x}<br>value=%{y}<extra></extra>\",\"legendgroup\":\"Sunflower seed\",\"marker\":{\"color\":\"rgb(144, 166, 201)\",\"pattern\":{\"shape\":\"\"}},\"name\":\"Sunflower seed\",\"offsetgroup\":\"Sunflower seed\",\"orientation\":\"v\",\"showlegend\":true,\"textposition\":\"auto\",\"x\":[\"Protein_g/g\"],\"xaxis\":\"x\",\"y\":[1.0],\"yaxis\":\"y\",\"type\":\"bar\"},{\"alignmentgroup\":\"True\",\"hovertemplate\":\" =Sunflower seed<br>index=%{x}<br>value=%{y}<extra></extra>\",\"legendgroup\":\"Sunflower seed\",\"marker\":{\"color\":\"rgb(144, 166, 201)\",\"pattern\":{\"shape\":\"\"}},\"name\":\"Sunflower seed\",\"offsetgroup\":\"Sunflower seed\",\"orientation\":\"v\",\"showlegend\":false,\"textposition\":\"auto\",\"x\":[\"Lysin_mg/100g\"],\"xaxis\":\"x2\",\"y\":[3.92],\"yaxis\":\"y2\",\"type\":\"bar\"}],                        {\"template\":{\"data\":{\"histogram2dcontour\":[{\"type\":\"histogram2dcontour\",\"colorbar\":{\"outlinewidth\":0,\"ticks\":\"\"},\"colorscale\":[[0.0,\"#0d0887\"],[0.1111111111111111,\"#46039f\"],[0.2222222222222222,\"#7201a8\"],[0.3333333333333333,\"#9c179e\"],[0.4444444444444444,\"#bd3786\"],[0.5555555555555556,\"#d8576b\"],[0.6666666666666666,\"#ed7953\"],[0.7777777777777778,\"#fb9f3a\"],[0.8888888888888888,\"#fdca26\"],[1.0,\"#f0f921\"]]}],\"choropleth\":[{\"type\":\"choropleth\",\"colorbar\":{\"outlinewidth\":0,\"ticks\":\"\"}}],\"histogram2d\":[{\"type\":\"histogram2d\",\"colorbar\":{\"outlinewidth\":0,\"ticks\":\"\"},\"colorscale\":[[0.0,\"#0d0887\"],[0.1111111111111111,\"#46039f\"],[0.2222222222222222,\"#7201a8\"],[0.3333333333333333,\"#9c179e\"],[0.4444444444444444,\"#bd3786\"],[0.5555555555555556,\"#d8576b\"],[0.6666666666666666,\"#ed7953\"],[0.7777777777777778,\"#fb9f3a\"],[0.8888888888888888,\"#fdca26\"],[1.0,\"#f0f921\"]]}],\"heatmap\":[{\"type\":\"heatmap\",\"colorbar\":{\"outlinewidth\":0,\"ticks\":\"\"},\"colorscale\":[[0.0,\"#0d0887\"],[0.1111111111111111,\"#46039f\"],[0.2222222222222222,\"#7201a8\"],[0.3333333333333333,\"#9c179e\"],[0.4444444444444444,\"#bd3786\"],[0.5555555555555556,\"#d8576b\"],[0.6666666666666666,\"#ed7953\"],[0.7777777777777778,\"#fb9f3a\"],[0.8888888888888888,\"#fdca26\"],[1.0,\"#f0f921\"]]}],\"heatmapgl\":[{\"type\":\"heatmapgl\",\"colorbar\":{\"outlinewidth\":0,\"ticks\":\"\"},\"colorscale\":[[0.0,\"#0d0887\"],[0.1111111111111111,\"#46039f\"],[0.2222222222222222,\"#7201a8\"],[0.3333333333333333,\"#9c179e\"],[0.4444444444444444,\"#bd3786\"],[0.5555555555555556,\"#d8576b\"],[0.6666666666666666,\"#ed7953\"],[0.7777777777777778,\"#fb9f3a\"],[0.8888888888888888,\"#fdca26\"],[1.0,\"#f0f921\"]]}],\"contourcarpet\":[{\"type\":\"contourcarpet\",\"colorbar\":{\"outlinewidth\":0,\"ticks\":\"\"}}],\"contour\":[{\"type\":\"contour\",\"colorbar\":{\"outlinewidth\":0,\"ticks\":\"\"},\"colorscale\":[[0.0,\"#0d0887\"],[0.1111111111111111,\"#46039f\"],[0.2222222222222222,\"#7201a8\"],[0.3333333333333333,\"#9c179e\"],[0.4444444444444444,\"#bd3786\"],[0.5555555555555556,\"#d8576b\"],[0.6666666666666666,\"#ed7953\"],[0.7777777777777778,\"#fb9f3a\"],[0.8888888888888888,\"#fdca26\"],[1.0,\"#f0f921\"]]}],\"surface\":[{\"type\":\"surface\",\"colorbar\":{\"outlinewidth\":0,\"ticks\":\"\"},\"colorscale\":[[0.0,\"#0d0887\"],[0.1111111111111111,\"#46039f\"],[0.2222222222222222,\"#7201a8\"],[0.3333333333333333,\"#9c179e\"],[0.4444444444444444,\"#bd3786\"],[0.5555555555555556,\"#d8576b\"],[0.6666666666666666,\"#ed7953\"],[0.7777777777777778,\"#fb9f3a\"],[0.8888888888888888,\"#fdca26\"],[1.0,\"#f0f921\"]]}],\"mesh3d\":[{\"type\":\"mesh3d\",\"colorbar\":{\"outlinewidth\":0,\"ticks\":\"\"}}],\"scatter\":[{\"fillpattern\":{\"fillmode\":\"overlay\",\"size\":10,\"solidity\":0.2},\"type\":\"scatter\"}],\"parcoords\":[{\"type\":\"parcoords\",\"line\":{\"colorbar\":{\"outlinewidth\":0,\"ticks\":\"\"}}}],\"scatterpolargl\":[{\"type\":\"scatterpolargl\",\"marker\":{\"colorbar\":{\"outlinewidth\":0,\"ticks\":\"\"}}}],\"bar\":[{\"error_x\":{\"color\":\"#2a3f5f\"},\"error_y\":{\"color\":\"#2a3f5f\"},\"marker\":{\"line\":{\"color\":\"#E5ECF6\",\"width\":0.5},\"pattern\":{\"fillmode\":\"overlay\",\"size\":10,\"solidity\":0.2}},\"type\":\"bar\"}],\"scattergeo\":[{\"type\":\"scattergeo\",\"marker\":{\"colorbar\":{\"outlinewidth\":0,\"ticks\":\"\"}}}],\"scatterpolar\":[{\"type\":\"scatterpolar\",\"marker\":{\"colorbar\":{\"outlinewidth\":0,\"ticks\":\"\"}}}],\"histogram\":[{\"marker\":{\"pattern\":{\"fillmode\":\"overlay\",\"size\":10,\"solidity\":0.2}},\"type\":\"histogram\"}],\"scattergl\":[{\"type\":\"scattergl\",\"marker\":{\"colorbar\":{\"outlinewidth\":0,\"ticks\":\"\"}}}],\"scatter3d\":[{\"type\":\"scatter3d\",\"line\":{\"colorbar\":{\"outlinewidth\":0,\"ticks\":\"\"}},\"marker\":{\"colorbar\":{\"outlinewidth\":0,\"ticks\":\"\"}}}],\"scattermapbox\":[{\"type\":\"scattermapbox\",\"marker\":{\"colorbar\":{\"outlinewidth\":0,\"ticks\":\"\"}}}],\"scatterternary\":[{\"type\":\"scatterternary\",\"marker\":{\"colorbar\":{\"outlinewidth\":0,\"ticks\":\"\"}}}],\"scattercarpet\":[{\"type\":\"scattercarpet\",\"marker\":{\"colorbar\":{\"outlinewidth\":0,\"ticks\":\"\"}}}],\"carpet\":[{\"aaxis\":{\"endlinecolor\":\"#2a3f5f\",\"gridcolor\":\"white\",\"linecolor\":\"white\",\"minorgridcolor\":\"white\",\"startlinecolor\":\"#2a3f5f\"},\"baxis\":{\"endlinecolor\":\"#2a3f5f\",\"gridcolor\":\"white\",\"linecolor\":\"white\",\"minorgridcolor\":\"white\",\"startlinecolor\":\"#2a3f5f\"},\"type\":\"carpet\"}],\"table\":[{\"cells\":{\"fill\":{\"color\":\"#EBF0F8\"},\"line\":{\"color\":\"white\"}},\"header\":{\"fill\":{\"color\":\"#C8D4E3\"},\"line\":{\"color\":\"white\"}},\"type\":\"table\"}],\"barpolar\":[{\"marker\":{\"line\":{\"color\":\"#E5ECF6\",\"width\":0.5},\"pattern\":{\"fillmode\":\"overlay\",\"size\":10,\"solidity\":0.2}},\"type\":\"barpolar\"}],\"pie\":[{\"automargin\":true,\"type\":\"pie\"}]},\"layout\":{\"autotypenumbers\":\"strict\",\"colorway\":[\"#636efa\",\"#EF553B\",\"#00cc96\",\"#ab63fa\",\"#FFA15A\",\"#19d3f3\",\"#FF6692\",\"#B6E880\",\"#FF97FF\",\"#FECB52\"],\"font\":{\"color\":\"#2a3f5f\"},\"hovermode\":\"closest\",\"hoverlabel\":{\"align\":\"left\"},\"paper_bgcolor\":\"white\",\"plot_bgcolor\":\"#E5ECF6\",\"polar\":{\"bgcolor\":\"#E5ECF6\",\"angularaxis\":{\"gridcolor\":\"white\",\"linecolor\":\"white\",\"ticks\":\"\"},\"radialaxis\":{\"gridcolor\":\"white\",\"linecolor\":\"white\",\"ticks\":\"\"}},\"ternary\":{\"bgcolor\":\"#E5ECF6\",\"aaxis\":{\"gridcolor\":\"white\",\"linecolor\":\"white\",\"ticks\":\"\"},\"baxis\":{\"gridcolor\":\"white\",\"linecolor\":\"white\",\"ticks\":\"\"},\"caxis\":{\"gridcolor\":\"white\",\"linecolor\":\"white\",\"ticks\":\"\"}},\"coloraxis\":{\"colorbar\":{\"outlinewidth\":0,\"ticks\":\"\"}},\"colorscale\":{\"sequential\":[[0.0,\"#0d0887\"],[0.1111111111111111,\"#46039f\"],[0.2222222222222222,\"#7201a8\"],[0.3333333333333333,\"#9c179e\"],[0.4444444444444444,\"#bd3786\"],[0.5555555555555556,\"#d8576b\"],[0.6666666666666666,\"#ed7953\"],[0.7777777777777778,\"#fb9f3a\"],[0.8888888888888888,\"#fdca26\"],[1.0,\"#f0f921\"]],\"sequentialminus\":[[0.0,\"#0d0887\"],[0.1111111111111111,\"#46039f\"],[0.2222222222222222,\"#7201a8\"],[0.3333333333333333,\"#9c179e\"],[0.4444444444444444,\"#bd3786\"],[0.5555555555555556,\"#d8576b\"],[0.6666666666666666,\"#ed7953\"],[0.7777777777777778,\"#fb9f3a\"],[0.8888888888888888,\"#fdca26\"],[1.0,\"#f0f921\"]],\"diverging\":[[0,\"#8e0152\"],[0.1,\"#c51b7d\"],[0.2,\"#de77ae\"],[0.3,\"#f1b6da\"],[0.4,\"#fde0ef\"],[0.5,\"#f7f7f7\"],[0.6,\"#e6f5d0\"],[0.7,\"#b8e186\"],[0.8,\"#7fbc41\"],[0.9,\"#4d9221\"],[1,\"#276419\"]]},\"xaxis\":{\"gridcolor\":\"white\",\"linecolor\":\"white\",\"ticks\":\"\",\"title\":{\"standoff\":15},\"zerolinecolor\":\"white\",\"automargin\":true,\"zerolinewidth\":2},\"yaxis\":{\"gridcolor\":\"white\",\"linecolor\":\"white\",\"ticks\":\"\",\"title\":{\"standoff\":15},\"zerolinecolor\":\"white\",\"automargin\":true,\"zerolinewidth\":2},\"scene\":{\"xaxis\":{\"backgroundcolor\":\"#E5ECF6\",\"gridcolor\":\"white\",\"linecolor\":\"white\",\"showbackground\":true,\"ticks\":\"\",\"zerolinecolor\":\"white\",\"gridwidth\":2},\"yaxis\":{\"backgroundcolor\":\"#E5ECF6\",\"gridcolor\":\"white\",\"linecolor\":\"white\",\"showbackground\":true,\"ticks\":\"\",\"zerolinecolor\":\"white\",\"gridwidth\":2},\"zaxis\":{\"backgroundcolor\":\"#E5ECF6\",\"gridcolor\":\"white\",\"linecolor\":\"white\",\"showbackground\":true,\"ticks\":\"\",\"zerolinecolor\":\"white\",\"gridwidth\":2}},\"shapedefaults\":{\"line\":{\"color\":\"#2a3f5f\"}},\"annotationdefaults\":{\"arrowcolor\":\"#2a3f5f\",\"arrowhead\":0,\"arrowwidth\":1},\"geo\":{\"bgcolor\":\"white\",\"landcolor\":\"#E5ECF6\",\"subunitcolor\":\"white\",\"showland\":true,\"showlakes\":true,\"lakecolor\":\"white\"},\"title\":{\"x\":0.05},\"mapbox\":{\"style\":\"light\"}}},\"xaxis\":{\"anchor\":\"y\",\"domain\":[0.0,0.47],\"title\":{\"text\":\"index\"},\"categoryorder\":\"array\",\"categoryarray\":[\"Protein_g/g\",\"Lysin_mg/100g\"],\"showticklabels\":true},\"yaxis\":{\"anchor\":\"x\",\"domain\":[0.0,1.0],\"title\":{\"text\":\"value\"},\"showticklabels\":true},\"xaxis2\":{\"anchor\":\"y2\",\"domain\":[0.53,1.0],\"title\":{\"text\":\"index\"},\"categoryorder\":\"array\",\"categoryarray\":[\"Protein_g/g\",\"Lysin_mg/100g\"],\"showticklabels\":true},\"yaxis2\":{\"anchor\":\"x2\",\"domain\":[0.0,1.0],\"showticklabels\":true},\"annotations\":[{\"font\":{},\"showarrow\":false,\"text\":\"index=Protein_g/g\",\"x\":0.235,\"xanchor\":\"center\",\"xref\":\"paper\",\"y\":1.0,\"yanchor\":\"bottom\",\"yref\":\"paper\"},{\"font\":{},\"showarrow\":false,\"text\":\"index=Lysin_mg/100g\",\"x\":0.765,\"xanchor\":\"center\",\"xref\":\"paper\",\"y\":1.0,\"yanchor\":\"bottom\",\"yref\":\"paper\"}],\"legend\":{\"title\":{\"text\":\" \"},\"tracegroupgap\":0},\"title\":{\"text\":\"Comparison of the chosen parameters for the chosen food items (per energy, 1 kJ). <br>Items can be turned on or off by clicking on the item in the legend.\"},\"barmode\":\"group\",\"height\":700,\"width\":1000},                        {\"responsive\": true}                    ).then(function(){\n",
       "                            \n",
       "var gd = document.getElementById('00568ea0-f386-4c1c-9bbb-c5104e91a39a');\n",
       "var x = new MutationObserver(function (mutations, observer) {{\n",
       "        var display = window.getComputedStyle(gd).display;\n",
       "        if (!display || display === 'none') {{\n",
       "            console.log([gd, 'removed!']);\n",
       "            Plotly.purge(gd);\n",
       "            observer.disconnect();\n",
       "        }}\n",
       "}});\n",
       "\n",
       "// Listen for the removal of the full notebook cells\n",
       "var notebookContainer = gd.closest('#notebook-container');\n",
       "if (notebookContainer) {{\n",
       "    x.observe(notebookContainer, {childList: true});\n",
       "}}\n",
       "\n",
       "// Listen for the clearing of the current output cell\n",
       "var outputEl = gd.closest('.output');\n",
       "if (outputEl) {{\n",
       "    x.observe(outputEl, {childList: true});\n",
       "}}\n",
       "\n",
       "                        })                };                });            </script>        </div>"
      ]
     },
     "metadata": {},
     "output_type": "display_data"
    }
   ],
   "source": [
    "# https://community.plotly.com/t/how-to-set-different-x-and-y-axis-for-each-subplot/57417\n",
    "\n",
    "import plotly.express as px\n",
    "import pandas as pd\n",
    "\n",
    "# choose columns\n",
    "column = ['Protein_g/g', \n",
    "'Lysin_mg/100g']\n",
    "ncols = len(column)\n",
    "\n",
    "# choose food items\n",
    "food = ['Chicken', 'Cashew nut', 'Sunflower seed']\n",
    "\n",
    "# transpose data\n",
    "df_plot = df_dapro_per_energy.loc[food][column].T\n",
    "\n",
    "# initialize bars: not stacked, but grouped, facet/ subplots = index = parameters, color is oslo with step 3 to have distinguishable colors\n",
    "fig = px.bar(df_plot,\n",
    "#              x='ingredient',\n",
    "#              y='value', \n",
    "             barmode=\"group\",\n",
    "             facet_col=df_plot.index, \n",
    "             color_discrete_sequence=oslo_rgb[1::3],\n",
    "    color_continuous_scale=None, orientation = 'v',\n",
    "                          facet_col_spacing=0.06,\n",
    "             width= 1000,\n",
    "             height = 700,\n",
    "             title = ('Comparison of the chosen parameters for the chosen food items (per energy, 1 kJ). <br>Items can be turned on or off by clicking on the item in the legend.')\n",
    "            \n",
    "    )\n",
    "fig.update_xaxes(matches=None, showticklabels=True)\n",
    "fig.update_yaxes(matches=None, showticklabels=True)\n",
    "\n",
    "fig.show()\n",
    "# fig.write_html(\"BarsFoodItemEnergy1.html\")"
   ]
  }
 ],
 "metadata": {
  "kernelspec": {
   "display_name": "Python 3 (ipykernel)",
   "language": "python",
   "name": "python3"
  },
  "language_info": {
   "codemirror_mode": {
    "name": "ipython",
    "version": 3
   },
   "file_extension": ".py",
   "mimetype": "text/x-python",
   "name": "python",
   "nbconvert_exporter": "python",
   "pygments_lexer": "ipython3",
   "version": "3.9.13"
  }
 },
 "nbformat": 4,
 "nbformat_minor": 5
}
