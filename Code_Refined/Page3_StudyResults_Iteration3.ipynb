{
 "cells": [
  {
   "cell_type": "markdown",
   "id": "8668637c",
   "metadata": {},
   "source": [
    "# MA\n",
    "## Creation of a process for scientific visualization development based on the example of the new ZHAW protein source database\n",
    "## Christina Köck\n",
    "## July 2023\n",
    "### Link to the Gitlab-Repo: https://github.com/TinyTen/MA"
   ]
  },
  {
   "cell_type": "markdown",
   "id": "fdec2b26",
   "metadata": {},
   "source": [
    "Creation of visualizations for study result comparison for iteration 2."
   ]
  },
  {
   "cell_type": "code",
   "execution_count": 1,
   "id": "48de4a20",
   "metadata": {},
   "outputs": [],
   "source": [
    "import warnings\n",
    "warnings.filterwarnings(\"ignore\")"
   ]
  },
  {
   "cell_type": "markdown",
   "id": "d74abbc5",
   "metadata": {},
   "source": [
    "### Libraries and data"
   ]
  },
  {
   "cell_type": "code",
   "execution_count": 2,
   "id": "0843a275",
   "metadata": {},
   "outputs": [],
   "source": [
    "from cmcrameri import cm\n",
    "import math as math\n",
    "import pandas as pd\n",
    "import numpy as np\n",
    "import seaborn as sns\n",
    "\n",
    "import matplotlib.pyplot as plt\n",
    "import plotly.express as px\n",
    "\n",
    "import sys\n",
    "\n",
    "sys.path.insert(1, '../Code')\n",
    "from colors_cameri import davos, oslo\n",
    "\n",
    "import missingno as msno\n",
    "import sparql_dataframe\n",
    "\n"
   ]
  },
  {
   "cell_type": "markdown",
   "id": "081ac765",
   "metadata": {},
   "source": [
    "## scientific colormaps (see http://www.fabiocrameri.ch/visualisation.php)"
   ]
  },
  {
   "cell_type": "code",
   "execution_count": 3,
   "id": "cdf111e8",
   "metadata": {},
   "outputs": [],
   "source": [
    "from colors_cameri import bilbao"
   ]
  },
  {
   "cell_type": "code",
   "execution_count": 4,
   "id": "e75f8899",
   "metadata": {},
   "outputs": [],
   "source": [
    "davos_rgb = [el[1] for el in davos]\n",
    "oslo_rgb = [el[1] for el in oslo]"
   ]
  },
  {
   "cell_type": "code",
   "execution_count": 5,
   "id": "7b3b33be",
   "metadata": {},
   "outputs": [],
   "source": [
    "# colors =  dict(zip(df_food[\"Category\"].unique(), tofino_rgb))"
   ]
  },
  {
   "cell_type": "code",
   "execution_count": 6,
   "id": "29f1149f",
   "metadata": {},
   "outputs": [],
   "source": [
    "zhaw_color = (0.00000 , 0.39216 , 0.65098)"
   ]
  },
  {
   "cell_type": "markdown",
   "id": "05c13fb7",
   "metadata": {},
   "source": [
    "#### Data"
   ]
  },
  {
   "cell_type": "code",
   "execution_count": 7,
   "id": "d28a922e",
   "metadata": {},
   "outputs": [],
   "source": [
    "# Data are from:\n",
    "# ZHAW database mix from end of 2022\n",
    "df_studies = pd.read_excel(\"../Code/study_data.xlsx\")\n",
    "df_studies.rename(columns={\"Unnamed: 0\": \"source\"}, inplace=True)"
   ]
  },
  {
   "cell_type": "code",
   "execution_count": 8,
   "id": "9432a3f2",
   "metadata": {},
   "outputs": [],
   "source": [
    "df_studies.set_index('source', inplace = True)"
   ]
  },
  {
   "cell_type": "code",
   "execution_count": 9,
   "id": "d792deaf",
   "metadata": {},
   "outputs": [],
   "source": [
    "df_studies['Datum der Studie (Jahr)']= pd.to_datetime(df_studies['Datum der Studie (Jahr)'])"
   ]
  },
  {
   "cell_type": "markdown",
   "id": "1784204f",
   "metadata": {},
   "source": [
    "### Short EDA"
   ]
  },
  {
   "cell_type": "code",
   "execution_count": 10,
   "id": "7bde0eae",
   "metadata": {},
   "outputs": [
    {
     "data": {
      "text/html": [
       "<div>\n",
       "<style scoped>\n",
       "    .dataframe tbody tr th:only-of-type {\n",
       "        vertical-align: middle;\n",
       "    }\n",
       "\n",
       "    .dataframe tbody tr th {\n",
       "        vertical-align: top;\n",
       "    }\n",
       "\n",
       "    .dataframe thead th {\n",
       "        text-align: right;\n",
       "    }\n",
       "</style>\n",
       "<table border=\"1\" class=\"dataframe\">\n",
       "  <thead>\n",
       "    <tr style=\"text-align: right;\">\n",
       "      <th></th>\n",
       "      <th>FOODON</th>\n",
       "      <th>Studie</th>\n",
       "      <th>Erfasst durch</th>\n",
       "      <th>Datum der Studie (Jahr)</th>\n",
       "      <th>Systemgrenzen/Beschreibung</th>\n",
       "      <th>Geography</th>\n",
       "      <th>Funktionelle Einheit</th>\n",
       "      <th>Anbau (Pestizide, Dünger, ...) - für pflanzliche LM</th>\n",
       "      <th>Aufzucht (Futter, Platz, …) - für tierische LM</th>\n",
       "      <th>Allokation (ökonomisch oder energiegerichtet)</th>\n",
       "      <th>...</th>\n",
       "      <th>Zinc (mg/100g)</th>\n",
       "      <th>Iron (mg/100g)</th>\n",
       "      <th>Copper (mg/100g)</th>\n",
       "      <th>Manganese (mg/100g)</th>\n",
       "      <th>Calcium (mg/100g)</th>\n",
       "      <th>Chloride (mg/100g)</th>\n",
       "      <th>Potassium (mg/100g)</th>\n",
       "      <th>Sodium (mg/100g)</th>\n",
       "      <th>Phosphorus (mg/100g)</th>\n",
       "      <th>Selenium (mg/100g)</th>\n",
       "    </tr>\n",
       "    <tr>\n",
       "      <th>source</th>\n",
       "      <th></th>\n",
       "      <th></th>\n",
       "      <th></th>\n",
       "      <th></th>\n",
       "      <th></th>\n",
       "      <th></th>\n",
       "      <th></th>\n",
       "      <th></th>\n",
       "      <th></th>\n",
       "      <th></th>\n",
       "      <th></th>\n",
       "      <th></th>\n",
       "      <th></th>\n",
       "      <th></th>\n",
       "      <th></th>\n",
       "      <th></th>\n",
       "      <th></th>\n",
       "      <th></th>\n",
       "      <th></th>\n",
       "      <th></th>\n",
       "      <th></th>\n",
       "    </tr>\n",
       "  </thead>\n",
       "  <tbody>\n",
       "    <tr>\n",
       "      <th>mealworm</th>\n",
       "      <td>2524</td>\n",
       "      <td>https://link.springer.com/article/10.1007/s113...</td>\n",
       "      <td>NaN</td>\n",
       "      <td>1970-01-01 00:00:00.000002021</td>\n",
       "      <td>cradle-to-gate approach. Nur bis zum Tod der M...</td>\n",
       "      <td>Österreich</td>\n",
       "      <td>1 kg essbares Protein</td>\n",
       "      <td>NaN</td>\n",
       "      <td>Futter: Weizenkleie (70%), Mais (12%), Bierhef...</td>\n",
       "      <td>1. Alles rund um Mehlwurmproduktion wurde voll...</td>\n",
       "      <td>...</td>\n",
       "      <td>NaN</td>\n",
       "      <td>NaN</td>\n",
       "      <td>NaN</td>\n",
       "      <td>NaN</td>\n",
       "      <td>NaN</td>\n",
       "      <td>NaN</td>\n",
       "      <td>NaN</td>\n",
       "      <td>NaN</td>\n",
       "      <td>NaN</td>\n",
       "      <td>NaN</td>\n",
       "    </tr>\n",
       "    <tr>\n",
       "      <th>mealworm</th>\n",
       "      <td>2524</td>\n",
       "      <td>https://www.scirp.org/html/3-3000443_33693.htm</td>\n",
       "      <td>NaN</td>\n",
       "      <td>1970-01-01 00:00:00.000002013</td>\n",
       "      <td>NaN</td>\n",
       "      <td>NaN</td>\n",
       "      <td>NaN</td>\n",
       "      <td>NaN</td>\n",
       "      <td>NaN</td>\n",
       "      <td>NaN</td>\n",
       "      <td>...</td>\n",
       "      <td>4.20</td>\n",
       "      <td>3.80</td>\n",
       "      <td>0.78</td>\n",
       "      <td>0.440</td>\n",
       "      <td>NaN</td>\n",
       "      <td>NaN</td>\n",
       "      <td>NaN</td>\n",
       "      <td>NaN</td>\n",
       "      <td>NaN</td>\n",
       "      <td>NaN</td>\n",
       "    </tr>\n",
       "    <tr>\n",
       "      <th>mealworm</th>\n",
       "      <td>2524</td>\n",
       "      <td>https://journals.plos.org/plosone/article?id=1...</td>\n",
       "      <td>NaN</td>\n",
       "      <td>1970-01-01 00:00:00.000002021</td>\n",
       "      <td>cradle-to-gate approach</td>\n",
       "      <td>Niederlanden</td>\n",
       "      <td>1 kg frische Mehlwürmer</td>\n",
       "      <td>NaN</td>\n",
       "      <td>Futter: frische Karotten und eine Getreidemisc...</td>\n",
       "      <td>1. Alles rund um Mehlwurmproduktion wurde voll...</td>\n",
       "      <td>...</td>\n",
       "      <td>NaN</td>\n",
       "      <td>NaN</td>\n",
       "      <td>NaN</td>\n",
       "      <td>NaN</td>\n",
       "      <td>NaN</td>\n",
       "      <td>NaN</td>\n",
       "      <td>NaN</td>\n",
       "      <td>NaN</td>\n",
       "      <td>NaN</td>\n",
       "      <td>NaN</td>\n",
       "    </tr>\n",
       "    <tr>\n",
       "      <th>protein from mealworm</th>\n",
       "      <td>2524</td>\n",
       "      <td>https://journals.plos.org/plosone/article?id=1...</td>\n",
       "      <td>NaN</td>\n",
       "      <td>1970-01-01 00:00:00.000002012</td>\n",
       "      <td>cradle-to-gate approach</td>\n",
       "      <td>Niederlanden</td>\n",
       "      <td>1 kg essbares Protein</td>\n",
       "      <td>NaN</td>\n",
       "      <td>NaN</td>\n",
       "      <td>1. Alles rund um Mehlwurmproduktion wurde voll...</td>\n",
       "      <td>...</td>\n",
       "      <td>NaN</td>\n",
       "      <td>NaN</td>\n",
       "      <td>NaN</td>\n",
       "      <td>NaN</td>\n",
       "      <td>NaN</td>\n",
       "      <td>NaN</td>\n",
       "      <td>NaN</td>\n",
       "      <td>NaN</td>\n",
       "      <td>NaN</td>\n",
       "      <td>NaN</td>\n",
       "    </tr>\n",
       "    <tr>\n",
       "      <th>mealworm</th>\n",
       "      <td>2524</td>\n",
       "      <td>https://www.mdpi.com/2073-4441/7/11/6190</td>\n",
       "      <td>NaN</td>\n",
       "      <td>1970-01-01 00:00:00.000002015</td>\n",
       "      <td>cradle-to-gate approach</td>\n",
       "      <td>Niederlanden</td>\n",
       "      <td>1 kg frische Mehlwürmer</td>\n",
       "      <td>NaN</td>\n",
       "      <td>Futter: gemischtes Getreidesubstrat (d. h. Wei...</td>\n",
       "      <td>NaN</td>\n",
       "      <td>...</td>\n",
       "      <td>NaN</td>\n",
       "      <td>NaN</td>\n",
       "      <td>NaN</td>\n",
       "      <td>NaN</td>\n",
       "      <td>NaN</td>\n",
       "      <td>NaN</td>\n",
       "      <td>NaN</td>\n",
       "      <td>NaN</td>\n",
       "      <td>NaN</td>\n",
       "      <td>NaN</td>\n",
       "    </tr>\n",
       "    <tr>\n",
       "      <th>mealworm</th>\n",
       "      <td>2524</td>\n",
       "      <td>https://www.sciencedirect.com/science/article/...</td>\n",
       "      <td>NaN</td>\n",
       "      <td>1970-01-01 00:00:00.000002016</td>\n",
       "      <td>NaN</td>\n",
       "      <td>NaN</td>\n",
       "      <td>1 kg frische Mehlwürmer</td>\n",
       "      <td>NaN</td>\n",
       "      <td>NaN</td>\n",
       "      <td>NaN</td>\n",
       "      <td>...</td>\n",
       "      <td>4.33</td>\n",
       "      <td>1.89</td>\n",
       "      <td>NaN</td>\n",
       "      <td>0.287</td>\n",
       "      <td>150.00</td>\n",
       "      <td>181.0</td>\n",
       "      <td>337.00</td>\n",
       "      <td>50.00</td>\n",
       "      <td>368.00</td>\n",
       "      <td>16.300</td>\n",
       "    </tr>\n",
       "    <tr>\n",
       "      <th>mealworm</th>\n",
       "      <td>2524</td>\n",
       "      <td>https://koreascience.kr/article/JAKO2012297656...</td>\n",
       "      <td>NaN</td>\n",
       "      <td>1970-01-01 00:00:00.000002012</td>\n",
       "      <td>NaN</td>\n",
       "      <td>Korea</td>\n",
       "      <td>NaN</td>\n",
       "      <td>NaN</td>\n",
       "      <td>Futter: Weizenkleie, Gemüse (Karotten, Kohl, R...</td>\n",
       "      <td>NaN</td>\n",
       "      <td>...</td>\n",
       "      <td>10.40</td>\n",
       "      <td>6.69</td>\n",
       "      <td>1.33</td>\n",
       "      <td>NaN</td>\n",
       "      <td>43.46</td>\n",
       "      <td>NaN</td>\n",
       "      <td>947.97</td>\n",
       "      <td>NaN</td>\n",
       "      <td>706.00</td>\n",
       "      <td>NaN</td>\n",
       "    </tr>\n",
       "    <tr>\n",
       "      <th>mealworm</th>\n",
       "      <td>2524</td>\n",
       "      <td>https://www.cabdirect.org/cabdirect/abstract/2...</td>\n",
       "      <td>NaN</td>\n",
       "      <td>1970-01-01 00:00:00.000002009</td>\n",
       "      <td>NaN</td>\n",
       "      <td>NaN</td>\n",
       "      <td>NaN</td>\n",
       "      <td>NaN</td>\n",
       "      <td>Futter: Weizenmehl und Bierhefe</td>\n",
       "      <td>NaN</td>\n",
       "      <td>...</td>\n",
       "      <td>NaN</td>\n",
       "      <td>NaN</td>\n",
       "      <td>NaN</td>\n",
       "      <td>NaN</td>\n",
       "      <td>NaN</td>\n",
       "      <td>NaN</td>\n",
       "      <td>NaN</td>\n",
       "      <td>NaN</td>\n",
       "      <td>NaN</td>\n",
       "      <td>NaN</td>\n",
       "    </tr>\n",
       "    <tr>\n",
       "      <th>grasshopper</th>\n",
       "      <td>3305441</td>\n",
       "      <td>https://link.springer.com/article/10.1007/s002...</td>\n",
       "      <td>NaN</td>\n",
       "      <td>1970-01-01 00:00:00.000002019</td>\n",
       "      <td>NaN</td>\n",
       "      <td>NaN</td>\n",
       "      <td>NaN</td>\n",
       "      <td>NaN</td>\n",
       "      <td>NaN</td>\n",
       "      <td>NaN</td>\n",
       "      <td>...</td>\n",
       "      <td>NaN</td>\n",
       "      <td>NaN</td>\n",
       "      <td>NaN</td>\n",
       "      <td>NaN</td>\n",
       "      <td>NaN</td>\n",
       "      <td>NaN</td>\n",
       "      <td>NaN</td>\n",
       "      <td>NaN</td>\n",
       "      <td>NaN</td>\n",
       "      <td>NaN</td>\n",
       "    </tr>\n",
       "    <tr>\n",
       "      <th>grasshopper</th>\n",
       "      <td>3305441</td>\n",
       "      <td>https://www.sciencedirect.com/science/article/...</td>\n",
       "      <td>NaN</td>\n",
       "      <td>1970-01-01 00:00:00.000002016</td>\n",
       "      <td>NaN</td>\n",
       "      <td>NaN</td>\n",
       "      <td>NaN</td>\n",
       "      <td>NaN</td>\n",
       "      <td>NaN</td>\n",
       "      <td>NaN</td>\n",
       "      <td>...</td>\n",
       "      <td>1.75</td>\n",
       "      <td>5.73</td>\n",
       "      <td>4.02</td>\n",
       "      <td>3.740</td>\n",
       "      <td>0.20</td>\n",
       "      <td>NaN</td>\n",
       "      <td>1.08</td>\n",
       "      <td>0.15</td>\n",
       "      <td>0.63</td>\n",
       "      <td>NaN</td>\n",
       "    </tr>\n",
       "    <tr>\n",
       "      <th>snail</th>\n",
       "      <td>3411455</td>\n",
       "      <td>https://www.sciencedirect.com/science/article/...</td>\n",
       "      <td>NaN</td>\n",
       "      <td>1970-01-01 00:00:00.000002016</td>\n",
       "      <td>cradle-to-gate approach, Systemgrenzen: Aufzuc...</td>\n",
       "      <td>Italy</td>\n",
       "      <td>1 kg fresh edible snail</td>\n",
       "      <td>NaN</td>\n",
       "      <td>Futter: Kraut und Rüben, Ergänzungsfuttermitte...</td>\n",
       "      <td>economic</td>\n",
       "      <td>...</td>\n",
       "      <td>NaN</td>\n",
       "      <td>NaN</td>\n",
       "      <td>NaN</td>\n",
       "      <td>NaN</td>\n",
       "      <td>NaN</td>\n",
       "      <td>NaN</td>\n",
       "      <td>NaN</td>\n",
       "      <td>NaN</td>\n",
       "      <td>1.60</td>\n",
       "      <td>NaN</td>\n",
       "    </tr>\n",
       "    <tr>\n",
       "      <th>snail</th>\n",
       "      <td>3411455</td>\n",
       "      <td>https://www.sciencedirect.com/science/article/...</td>\n",
       "      <td>NaN</td>\n",
       "      <td>1970-01-01 00:00:00.000002016</td>\n",
       "      <td>cradle-to-gate approach, Systemgrenzen: Aufzuc...</td>\n",
       "      <td>Italy</td>\n",
       "      <td>1 kg snail protein</td>\n",
       "      <td>NaN</td>\n",
       "      <td>Futter: Kraut und Rüben, Ergänzungsfuttermitte...</td>\n",
       "      <td>economic</td>\n",
       "      <td>...</td>\n",
       "      <td>NaN</td>\n",
       "      <td>NaN</td>\n",
       "      <td>NaN</td>\n",
       "      <td>NaN</td>\n",
       "      <td>NaN</td>\n",
       "      <td>NaN</td>\n",
       "      <td>NaN</td>\n",
       "      <td>NaN</td>\n",
       "      <td>NaN</td>\n",
       "      <td>NaN</td>\n",
       "    </tr>\n",
       "    <tr>\n",
       "      <th>snail</th>\n",
       "      <td>3411455</td>\n",
       "      <td>https://www.sciencedirect.com/science/article/...</td>\n",
       "      <td>NaN</td>\n",
       "      <td>1970-01-01 00:00:00.000002016</td>\n",
       "      <td>cradle-to-gate approach, Systemgrenzen: Aufzuc...</td>\n",
       "      <td>Italy</td>\n",
       "      <td>1 kg fresh edible snail</td>\n",
       "      <td>NaN</td>\n",
       "      <td>Futter: Kraut und Rüben, Ergänzungsfuttermitte...</td>\n",
       "      <td>NaN</td>\n",
       "      <td>...</td>\n",
       "      <td>NaN</td>\n",
       "      <td>NaN</td>\n",
       "      <td>NaN</td>\n",
       "      <td>NaN</td>\n",
       "      <td>NaN</td>\n",
       "      <td>NaN</td>\n",
       "      <td>NaN</td>\n",
       "      <td>NaN</td>\n",
       "      <td>1.60</td>\n",
       "      <td>NaN</td>\n",
       "    </tr>\n",
       "    <tr>\n",
       "      <th>snail</th>\n",
       "      <td>3411455</td>\n",
       "      <td>https://www.emerald.com/insight/content/doi/10...</td>\n",
       "      <td>NaN</td>\n",
       "      <td>1970-01-01 00:00:00.000002020</td>\n",
       "      <td>NaN</td>\n",
       "      <td>NaN</td>\n",
       "      <td>NaN</td>\n",
       "      <td>NaN</td>\n",
       "      <td>NaN</td>\n",
       "      <td>NaN</td>\n",
       "      <td>...</td>\n",
       "      <td>NaN</td>\n",
       "      <td>NaN</td>\n",
       "      <td>NaN</td>\n",
       "      <td>NaN</td>\n",
       "      <td>NaN</td>\n",
       "      <td>NaN</td>\n",
       "      <td>NaN</td>\n",
       "      <td>NaN</td>\n",
       "      <td>NaN</td>\n",
       "      <td>NaN</td>\n",
       "    </tr>\n",
       "    <tr>\n",
       "      <th>ant</th>\n",
       "      <td>3412495</td>\n",
       "      <td>https://www.thaiscience.info/Journals/Article/...</td>\n",
       "      <td>NaN</td>\n",
       "      <td>1970-01-01 00:00:00.000002006</td>\n",
       "      <td>Wilde Ameisen</td>\n",
       "      <td>China</td>\n",
       "      <td>NaN</td>\n",
       "      <td>NaN</td>\n",
       "      <td>NaN</td>\n",
       "      <td>NaN</td>\n",
       "      <td>...</td>\n",
       "      <td>227.00</td>\n",
       "      <td>940.50</td>\n",
       "      <td>23.70</td>\n",
       "      <td>210.000</td>\n",
       "      <td>1754.00</td>\n",
       "      <td>NaN</td>\n",
       "      <td>4481.80</td>\n",
       "      <td>1433.30</td>\n",
       "      <td>1579.50</td>\n",
       "      <td>0.500</td>\n",
       "    </tr>\n",
       "    <tr>\n",
       "      <th>ant</th>\n",
       "      <td>3412495</td>\n",
       "      <td>https://www.cabdirect.org/cabdirect/abstract/2...</td>\n",
       "      <td>NaN</td>\n",
       "      <td>1970-01-01 00:00:00.000002010</td>\n",
       "      <td>Kultivierte Ameisen, gleiche Studie mit gleich...</td>\n",
       "      <td>China</td>\n",
       "      <td>NaN</td>\n",
       "      <td>NaN</td>\n",
       "      <td>NaN</td>\n",
       "      <td>NaN</td>\n",
       "      <td>...</td>\n",
       "      <td>17.60</td>\n",
       "      <td>118.00</td>\n",
       "      <td>2.40</td>\n",
       "      <td>25.900</td>\n",
       "      <td>49.10</td>\n",
       "      <td>NaN</td>\n",
       "      <td>NaN</td>\n",
       "      <td>NaN</td>\n",
       "      <td>387.70</td>\n",
       "      <td>0.029</td>\n",
       "    </tr>\n",
       "    <tr>\n",
       "      <th>ant</th>\n",
       "      <td>3412495</td>\n",
       "      <td>https://www.cabdirect.org/cabdirect/abstract/2...</td>\n",
       "      <td>NaN</td>\n",
       "      <td>1970-01-01 00:00:00.000002010</td>\n",
       "      <td>Kultivierte Ameisen, gleiche Studie mit gleich...</td>\n",
       "      <td>China</td>\n",
       "      <td>NaN</td>\n",
       "      <td>NaN</td>\n",
       "      <td>NaN</td>\n",
       "      <td>NaN</td>\n",
       "      <td>...</td>\n",
       "      <td>11.90</td>\n",
       "      <td>53.70</td>\n",
       "      <td>1.90</td>\n",
       "      <td>32.300</td>\n",
       "      <td>108.00</td>\n",
       "      <td>NaN</td>\n",
       "      <td>NaN</td>\n",
       "      <td>NaN</td>\n",
       "      <td>417.00</td>\n",
       "      <td>0.038</td>\n",
       "    </tr>\n",
       "    <tr>\n",
       "      <th>seaweed</th>\n",
       "      <td>3311281</td>\n",
       "      <td>https://www.sciencedirect.com/science/article/...</td>\n",
       "      <td>NaN</td>\n",
       "      <td>1970-01-01 00:00:00.000002017</td>\n",
       "      <td>LCA System beinhaltet Sporenproduktion, Brenns...</td>\n",
       "      <td>NaN</td>\n",
       "      <td>1 kg Protein von Algen</td>\n",
       "      <td>NaN</td>\n",
       "      <td>NaN</td>\n",
       "      <td>NaN</td>\n",
       "      <td>...</td>\n",
       "      <td>NaN</td>\n",
       "      <td>NaN</td>\n",
       "      <td>NaN</td>\n",
       "      <td>NaN</td>\n",
       "      <td>NaN</td>\n",
       "      <td>NaN</td>\n",
       "      <td>NaN</td>\n",
       "      <td>NaN</td>\n",
       "      <td>NaN</td>\n",
       "      <td>NaN</td>\n",
       "    </tr>\n",
       "    <tr>\n",
       "      <th>seaweed</th>\n",
       "      <td>3311281</td>\n",
       "      <td>https://academic.oup.com/nutritionreviews/arti...</td>\n",
       "      <td>NaN</td>\n",
       "      <td>1970-01-01 00:00:00.000002007</td>\n",
       "      <td>NaN</td>\n",
       "      <td>NaN</td>\n",
       "      <td>NaN</td>\n",
       "      <td>NaN</td>\n",
       "      <td>NaN</td>\n",
       "      <td>NaN</td>\n",
       "      <td>...</td>\n",
       "      <td>1.00</td>\n",
       "      <td>24.75</td>\n",
       "      <td>0.45</td>\n",
       "      <td>NaN</td>\n",
       "      <td>302.00</td>\n",
       "      <td>NaN</td>\n",
       "      <td>1037.00</td>\n",
       "      <td>812.00</td>\n",
       "      <td>NaN</td>\n",
       "      <td>NaN</td>\n",
       "    </tr>\n",
       "  </tbody>\n",
       "</table>\n",
       "<p>19 rows × 52 columns</p>\n",
       "</div>"
      ],
      "text/plain": [
       "                        FOODON  \\\n",
       "source                           \n",
       "mealworm                  2524   \n",
       "mealworm                  2524   \n",
       "mealworm                  2524   \n",
       "protein from mealworm     2524   \n",
       "mealworm                  2524   \n",
       "mealworm                  2524   \n",
       "mealworm                  2524   \n",
       "mealworm                  2524   \n",
       "grasshopper            3305441   \n",
       "grasshopper            3305441   \n",
       "snail                  3411455   \n",
       "snail                  3411455   \n",
       "snail                  3411455   \n",
       "snail                  3411455   \n",
       "ant                    3412495   \n",
       "ant                    3412495   \n",
       "ant                    3412495   \n",
       "seaweed                3311281   \n",
       "seaweed                3311281   \n",
       "\n",
       "                                                                  Studie  \\\n",
       "source                                                                     \n",
       "mealworm               https://link.springer.com/article/10.1007/s113...   \n",
       "mealworm                  https://www.scirp.org/html/3-3000443_33693.htm   \n",
       "mealworm               https://journals.plos.org/plosone/article?id=1...   \n",
       "protein from mealworm  https://journals.plos.org/plosone/article?id=1...   \n",
       "mealworm                        https://www.mdpi.com/2073-4441/7/11/6190   \n",
       "mealworm               https://www.sciencedirect.com/science/article/...   \n",
       "mealworm               https://koreascience.kr/article/JAKO2012297656...   \n",
       "mealworm               https://www.cabdirect.org/cabdirect/abstract/2...   \n",
       "grasshopper            https://link.springer.com/article/10.1007/s002...   \n",
       "grasshopper            https://www.sciencedirect.com/science/article/...   \n",
       "snail                  https://www.sciencedirect.com/science/article/...   \n",
       "snail                  https://www.sciencedirect.com/science/article/...   \n",
       "snail                  https://www.sciencedirect.com/science/article/...   \n",
       "snail                  https://www.emerald.com/insight/content/doi/10...   \n",
       "ant                    https://www.thaiscience.info/Journals/Article/...   \n",
       "ant                    https://www.cabdirect.org/cabdirect/abstract/2...   \n",
       "ant                    https://www.cabdirect.org/cabdirect/abstract/2...   \n",
       "seaweed                https://www.sciencedirect.com/science/article/...   \n",
       "seaweed                https://academic.oup.com/nutritionreviews/arti...   \n",
       "\n",
       "                       Erfasst durch       Datum der Studie (Jahr)  \\\n",
       "source                                                               \n",
       "mealworm                         NaN 1970-01-01 00:00:00.000002021   \n",
       "mealworm                         NaN 1970-01-01 00:00:00.000002013   \n",
       "mealworm                         NaN 1970-01-01 00:00:00.000002021   \n",
       "protein from mealworm            NaN 1970-01-01 00:00:00.000002012   \n",
       "mealworm                         NaN 1970-01-01 00:00:00.000002015   \n",
       "mealworm                         NaN 1970-01-01 00:00:00.000002016   \n",
       "mealworm                         NaN 1970-01-01 00:00:00.000002012   \n",
       "mealworm                         NaN 1970-01-01 00:00:00.000002009   \n",
       "grasshopper                      NaN 1970-01-01 00:00:00.000002019   \n",
       "grasshopper                      NaN 1970-01-01 00:00:00.000002016   \n",
       "snail                            NaN 1970-01-01 00:00:00.000002016   \n",
       "snail                            NaN 1970-01-01 00:00:00.000002016   \n",
       "snail                            NaN 1970-01-01 00:00:00.000002016   \n",
       "snail                            NaN 1970-01-01 00:00:00.000002020   \n",
       "ant                              NaN 1970-01-01 00:00:00.000002006   \n",
       "ant                              NaN 1970-01-01 00:00:00.000002010   \n",
       "ant                              NaN 1970-01-01 00:00:00.000002010   \n",
       "seaweed                          NaN 1970-01-01 00:00:00.000002017   \n",
       "seaweed                          NaN 1970-01-01 00:00:00.000002007   \n",
       "\n",
       "                                              Systemgrenzen/Beschreibung  \\\n",
       "source                                                                     \n",
       "mealworm               cradle-to-gate approach. Nur bis zum Tod der M...   \n",
       "mealworm                                                             NaN   \n",
       "mealworm                                         cradle-to-gate approach   \n",
       "protein from mealworm                            cradle-to-gate approach   \n",
       "mealworm                                         cradle-to-gate approach   \n",
       "mealworm                                                             NaN   \n",
       "mealworm                                                             NaN   \n",
       "mealworm                                                             NaN   \n",
       "grasshopper                                                          NaN   \n",
       "grasshopper                                                          NaN   \n",
       "snail                  cradle-to-gate approach, Systemgrenzen: Aufzuc...   \n",
       "snail                  cradle-to-gate approach, Systemgrenzen: Aufzuc...   \n",
       "snail                  cradle-to-gate approach, Systemgrenzen: Aufzuc...   \n",
       "snail                                                                NaN   \n",
       "ant                                                        Wilde Ameisen   \n",
       "ant                    Kultivierte Ameisen, gleiche Studie mit gleich...   \n",
       "ant                    Kultivierte Ameisen, gleiche Studie mit gleich...   \n",
       "seaweed                LCA System beinhaltet Sporenproduktion, Brenns...   \n",
       "seaweed                                                              NaN   \n",
       "\n",
       "                          Geography     Funktionelle Einheit  \\\n",
       "source                                                         \n",
       "mealworm                 Österreich    1 kg essbares Protein   \n",
       "mealworm                        NaN                      NaN   \n",
       "mealworm               Niederlanden  1 kg frische Mehlwürmer   \n",
       "protein from mealworm  Niederlanden    1 kg essbares Protein   \n",
       "mealworm               Niederlanden  1 kg frische Mehlwürmer   \n",
       "mealworm                        NaN  1 kg frische Mehlwürmer   \n",
       "mealworm                      Korea                      NaN   \n",
       "mealworm                        NaN                      NaN   \n",
       "grasshopper                     NaN                      NaN   \n",
       "grasshopper                     NaN                      NaN   \n",
       "snail                         Italy  1 kg fresh edible snail   \n",
       "snail                         Italy       1 kg snail protein   \n",
       "snail                        Italy   1 kg fresh edible snail   \n",
       "snail                           NaN                      NaN   \n",
       "ant                           China                      NaN   \n",
       "ant                           China                      NaN   \n",
       "ant                           China                      NaN   \n",
       "seaweed                         NaN   1 kg Protein von Algen   \n",
       "seaweed                         NaN                      NaN   \n",
       "\n",
       "                       Anbau (Pestizide, Dünger, ...) - für pflanzliche LM  \\\n",
       "source                                                                       \n",
       "mealworm                                                             NaN     \n",
       "mealworm                                                             NaN     \n",
       "mealworm                                                             NaN     \n",
       "protein from mealworm                                                NaN     \n",
       "mealworm                                                             NaN     \n",
       "mealworm                                                             NaN     \n",
       "mealworm                                                             NaN     \n",
       "mealworm                                                             NaN     \n",
       "grasshopper                                                          NaN     \n",
       "grasshopper                                                          NaN     \n",
       "snail                                                                NaN     \n",
       "snail                                                                NaN     \n",
       "snail                                                                NaN     \n",
       "snail                                                                NaN     \n",
       "ant                                                                  NaN     \n",
       "ant                                                                  NaN     \n",
       "ant                                                                  NaN     \n",
       "seaweed                                                              NaN     \n",
       "seaweed                                                              NaN     \n",
       "\n",
       "                          Aufzucht (Futter, Platz, …) - für tierische LM  \\\n",
       "source                                                                     \n",
       "mealworm               Futter: Weizenkleie (70%), Mais (12%), Bierhef...   \n",
       "mealworm                                                             NaN   \n",
       "mealworm               Futter: frische Karotten und eine Getreidemisc...   \n",
       "protein from mealworm                                                NaN   \n",
       "mealworm               Futter: gemischtes Getreidesubstrat (d. h. Wei...   \n",
       "mealworm                                                             NaN   \n",
       "mealworm               Futter: Weizenkleie, Gemüse (Karotten, Kohl, R...   \n",
       "mealworm                                 Futter: Weizenmehl und Bierhefe   \n",
       "grasshopper                                                          NaN   \n",
       "grasshopper                                                          NaN   \n",
       "snail                  Futter: Kraut und Rüben, Ergänzungsfuttermitte...   \n",
       "snail                  Futter: Kraut und Rüben, Ergänzungsfuttermitte...   \n",
       "snail                  Futter: Kraut und Rüben, Ergänzungsfuttermitte...   \n",
       "snail                                                                NaN   \n",
       "ant                                                                  NaN   \n",
       "ant                                                                  NaN   \n",
       "ant                                                                  NaN   \n",
       "seaweed                                                              NaN   \n",
       "seaweed                                                              NaN   \n",
       "\n",
       "                           Allokation (ökonomisch oder energiegerichtet)  ...  \\\n",
       "source                                                                    ...   \n",
       "mealworm               1. Alles rund um Mehlwurmproduktion wurde voll...  ...   \n",
       "mealworm                                                             NaN  ...   \n",
       "mealworm               1. Alles rund um Mehlwurmproduktion wurde voll...  ...   \n",
       "protein from mealworm  1. Alles rund um Mehlwurmproduktion wurde voll...  ...   \n",
       "mealworm                                                             NaN  ...   \n",
       "mealworm                                                             NaN  ...   \n",
       "mealworm                                                             NaN  ...   \n",
       "mealworm                                                             NaN  ...   \n",
       "grasshopper                                                          NaN  ...   \n",
       "grasshopper                                                          NaN  ...   \n",
       "snail                                                           economic  ...   \n",
       "snail                                                           economic  ...   \n",
       "snail                                                                NaN  ...   \n",
       "snail                                                                NaN  ...   \n",
       "ant                                                                  NaN  ...   \n",
       "ant                                                                  NaN  ...   \n",
       "ant                                                                  NaN  ...   \n",
       "seaweed                                                              NaN  ...   \n",
       "seaweed                                                              NaN  ...   \n",
       "\n",
       "                       Zinc (mg/100g) Iron (mg/100g)  Copper (mg/100g)  \\\n",
       "source                                                                   \n",
       "mealworm                          NaN            NaN               NaN   \n",
       "mealworm                         4.20           3.80              0.78   \n",
       "mealworm                          NaN            NaN               NaN   \n",
       "protein from mealworm             NaN            NaN               NaN   \n",
       "mealworm                          NaN            NaN               NaN   \n",
       "mealworm                         4.33           1.89               NaN   \n",
       "mealworm                        10.40           6.69              1.33   \n",
       "mealworm                          NaN            NaN               NaN   \n",
       "grasshopper                       NaN            NaN               NaN   \n",
       "grasshopper                      1.75           5.73              4.02   \n",
       "snail                             NaN            NaN               NaN   \n",
       "snail                             NaN            NaN               NaN   \n",
       "snail                             NaN            NaN               NaN   \n",
       "snail                             NaN            NaN               NaN   \n",
       "ant                            227.00         940.50             23.70   \n",
       "ant                             17.60         118.00              2.40   \n",
       "ant                             11.90          53.70              1.90   \n",
       "seaweed                           NaN            NaN               NaN   \n",
       "seaweed                          1.00          24.75              0.45   \n",
       "\n",
       "                      Manganese (mg/100g)  Calcium (mg/100g)  \\\n",
       "source                                                         \n",
       "mealworm                              NaN                NaN   \n",
       "mealworm                            0.440                NaN   \n",
       "mealworm                              NaN                NaN   \n",
       "protein from mealworm                 NaN                NaN   \n",
       "mealworm                              NaN                NaN   \n",
       "mealworm                            0.287             150.00   \n",
       "mealworm                              NaN              43.46   \n",
       "mealworm                              NaN                NaN   \n",
       "grasshopper                           NaN                NaN   \n",
       "grasshopper                         3.740               0.20   \n",
       "snail                                 NaN                NaN   \n",
       "snail                                 NaN                NaN   \n",
       "snail                                 NaN                NaN   \n",
       "snail                                 NaN                NaN   \n",
       "ant                               210.000            1754.00   \n",
       "ant                                25.900              49.10   \n",
       "ant                                32.300             108.00   \n",
       "seaweed                               NaN                NaN   \n",
       "seaweed                               NaN             302.00   \n",
       "\n",
       "                      Chloride (mg/100g) Potassium (mg/100g) Sodium (mg/100g)  \\\n",
       "source                                                                          \n",
       "mealworm                             NaN                 NaN              NaN   \n",
       "mealworm                             NaN                 NaN              NaN   \n",
       "mealworm                             NaN                 NaN              NaN   \n",
       "protein from mealworm                NaN                 NaN              NaN   \n",
       "mealworm                             NaN                 NaN              NaN   \n",
       "mealworm                           181.0              337.00            50.00   \n",
       "mealworm                             NaN              947.97              NaN   \n",
       "mealworm                             NaN                 NaN              NaN   \n",
       "grasshopper                          NaN                 NaN              NaN   \n",
       "grasshopper                          NaN                1.08             0.15   \n",
       "snail                                NaN                 NaN              NaN   \n",
       "snail                                NaN                 NaN              NaN   \n",
       "snail                                NaN                 NaN              NaN   \n",
       "snail                                NaN                 NaN              NaN   \n",
       "ant                                  NaN             4481.80          1433.30   \n",
       "ant                                  NaN                 NaN              NaN   \n",
       "ant                                  NaN                 NaN              NaN   \n",
       "seaweed                              NaN                 NaN              NaN   \n",
       "seaweed                              NaN             1037.00           812.00   \n",
       "\n",
       "                      Phosphorus (mg/100g) Selenium (mg/100g)  \n",
       "source                                                         \n",
       "mealworm                               NaN                NaN  \n",
       "mealworm                               NaN                NaN  \n",
       "mealworm                               NaN                NaN  \n",
       "protein from mealworm                  NaN                NaN  \n",
       "mealworm                               NaN                NaN  \n",
       "mealworm                            368.00             16.300  \n",
       "mealworm                            706.00                NaN  \n",
       "mealworm                               NaN                NaN  \n",
       "grasshopper                            NaN                NaN  \n",
       "grasshopper                           0.63                NaN  \n",
       "snail                                 1.60                NaN  \n",
       "snail                                  NaN                NaN  \n",
       "snail                                 1.60                NaN  \n",
       "snail                                  NaN                NaN  \n",
       "ant                                1579.50              0.500  \n",
       "ant                                 387.70              0.029  \n",
       "ant                                 417.00              0.038  \n",
       "seaweed                                NaN                NaN  \n",
       "seaweed                                NaN                NaN  \n",
       "\n",
       "[19 rows x 52 columns]"
      ]
     },
     "execution_count": 10,
     "metadata": {},
     "output_type": "execute_result"
    }
   ],
   "source": [
    "df_studies"
   ]
  },
  {
   "cell_type": "code",
   "execution_count": 11,
   "id": "27b82cda",
   "metadata": {},
   "outputs": [],
   "source": [
    "sources = df_studies.index"
   ]
  },
  {
   "cell_type": "code",
   "execution_count": 12,
   "id": "a95612e9",
   "metadata": {},
   "outputs": [],
   "source": [
    "# choose numeric data\n",
    "numerics = ['int16', 'int32', 'int64', 'float16', 'float32', 'float64']\n",
    "\n",
    "df_numeric_studies = df_studies.select_dtypes(include=numerics).reset_index(drop= True)"
   ]
  },
  {
   "cell_type": "code",
   "execution_count": 13,
   "id": "a25f92be",
   "metadata": {},
   "outputs": [
    {
     "data": {
      "text/html": [
       "<div>\n",
       "<style scoped>\n",
       "    .dataframe tbody tr th:only-of-type {\n",
       "        vertical-align: middle;\n",
       "    }\n",
       "\n",
       "    .dataframe tbody tr th {\n",
       "        vertical-align: top;\n",
       "    }\n",
       "\n",
       "    .dataframe thead th {\n",
       "        text-align: right;\n",
       "    }\n",
       "</style>\n",
       "<table border=\"1\" class=\"dataframe\">\n",
       "  <thead>\n",
       "    <tr style=\"text-align: right;\">\n",
       "      <th></th>\n",
       "      <th>FOODON</th>\n",
       "      <th>Erfasst durch</th>\n",
       "      <th>Anbau (Pestizide, Dünger, ...) - für pflanzliche LM</th>\n",
       "      <th>GWP, kg CO2-EQ/kg product</th>\n",
       "      <th>EU, Fossil energy use, MJ/kg product</th>\n",
       "      <th>LU, Land use, m2/Jahr</th>\n",
       "      <th>Water Footprint (WF), m3/kg</th>\n",
       "      <th>Marine eutrophication (ME), kg N eq /kg</th>\n",
       "      <th>Bemerkung zu OD</th>\n",
       "      <th>Photochemical oxidant formation (POF), kg NMVOC eq/ kg</th>\n",
       "      <th>...</th>\n",
       "      <th>Zinc (mg/100g)</th>\n",
       "      <th>Iron (mg/100g)</th>\n",
       "      <th>Copper (mg/100g)</th>\n",
       "      <th>Manganese (mg/100g)</th>\n",
       "      <th>Calcium (mg/100g)</th>\n",
       "      <th>Chloride (mg/100g)</th>\n",
       "      <th>Potassium (mg/100g)</th>\n",
       "      <th>Sodium (mg/100g)</th>\n",
       "      <th>Phosphorus (mg/100g)</th>\n",
       "      <th>Selenium (mg/100g)</th>\n",
       "    </tr>\n",
       "  </thead>\n",
       "  <tbody>\n",
       "    <tr>\n",
       "      <th>0</th>\n",
       "      <td>2524</td>\n",
       "      <td>NaN</td>\n",
       "      <td>NaN</td>\n",
       "      <td>20.400</td>\n",
       "      <td>213.66</td>\n",
       "      <td>22.38</td>\n",
       "      <td>NaN</td>\n",
       "      <td>NaN</td>\n",
       "      <td>NaN</td>\n",
       "      <td>NaN</td>\n",
       "      <td>...</td>\n",
       "      <td>NaN</td>\n",
       "      <td>NaN</td>\n",
       "      <td>NaN</td>\n",
       "      <td>NaN</td>\n",
       "      <td>NaN</td>\n",
       "      <td>NaN</td>\n",
       "      <td>NaN</td>\n",
       "      <td>NaN</td>\n",
       "      <td>NaN</td>\n",
       "      <td>NaN</td>\n",
       "    </tr>\n",
       "    <tr>\n",
       "      <th>1</th>\n",
       "      <td>2524</td>\n",
       "      <td>NaN</td>\n",
       "      <td>NaN</td>\n",
       "      <td>NaN</td>\n",
       "      <td>NaN</td>\n",
       "      <td>NaN</td>\n",
       "      <td>NaN</td>\n",
       "      <td>NaN</td>\n",
       "      <td>NaN</td>\n",
       "      <td>NaN</td>\n",
       "      <td>...</td>\n",
       "      <td>4.20</td>\n",
       "      <td>3.80</td>\n",
       "      <td>0.78</td>\n",
       "      <td>0.440</td>\n",
       "      <td>NaN</td>\n",
       "      <td>NaN</td>\n",
       "      <td>NaN</td>\n",
       "      <td>NaN</td>\n",
       "      <td>NaN</td>\n",
       "      <td>NaN</td>\n",
       "    </tr>\n",
       "    <tr>\n",
       "      <th>2</th>\n",
       "      <td>2524</td>\n",
       "      <td>NaN</td>\n",
       "      <td>NaN</td>\n",
       "      <td>2.700</td>\n",
       "      <td>34.00</td>\n",
       "      <td>3.60</td>\n",
       "      <td>NaN</td>\n",
       "      <td>NaN</td>\n",
       "      <td>NaN</td>\n",
       "      <td>NaN</td>\n",
       "      <td>...</td>\n",
       "      <td>NaN</td>\n",
       "      <td>NaN</td>\n",
       "      <td>NaN</td>\n",
       "      <td>NaN</td>\n",
       "      <td>NaN</td>\n",
       "      <td>NaN</td>\n",
       "      <td>NaN</td>\n",
       "      <td>NaN</td>\n",
       "      <td>NaN</td>\n",
       "      <td>NaN</td>\n",
       "    </tr>\n",
       "    <tr>\n",
       "      <th>3</th>\n",
       "      <td>2524</td>\n",
       "      <td>NaN</td>\n",
       "      <td>NaN</td>\n",
       "      <td>14.000</td>\n",
       "      <td>173.00</td>\n",
       "      <td>18.00</td>\n",
       "      <td>NaN</td>\n",
       "      <td>NaN</td>\n",
       "      <td>NaN</td>\n",
       "      <td>NaN</td>\n",
       "      <td>...</td>\n",
       "      <td>NaN</td>\n",
       "      <td>NaN</td>\n",
       "      <td>NaN</td>\n",
       "      <td>NaN</td>\n",
       "      <td>NaN</td>\n",
       "      <td>NaN</td>\n",
       "      <td>NaN</td>\n",
       "      <td>NaN</td>\n",
       "      <td>NaN</td>\n",
       "      <td>NaN</td>\n",
       "    </tr>\n",
       "    <tr>\n",
       "      <th>4</th>\n",
       "      <td>2524</td>\n",
       "      <td>NaN</td>\n",
       "      <td>NaN</td>\n",
       "      <td>NaN</td>\n",
       "      <td>NaN</td>\n",
       "      <td>NaN</td>\n",
       "      <td>4.341</td>\n",
       "      <td>NaN</td>\n",
       "      <td>NaN</td>\n",
       "      <td>NaN</td>\n",
       "      <td>...</td>\n",
       "      <td>NaN</td>\n",
       "      <td>NaN</td>\n",
       "      <td>NaN</td>\n",
       "      <td>NaN</td>\n",
       "      <td>NaN</td>\n",
       "      <td>NaN</td>\n",
       "      <td>NaN</td>\n",
       "      <td>NaN</td>\n",
       "      <td>NaN</td>\n",
       "      <td>NaN</td>\n",
       "    </tr>\n",
       "    <tr>\n",
       "      <th>5</th>\n",
       "      <td>2524</td>\n",
       "      <td>NaN</td>\n",
       "      <td>NaN</td>\n",
       "      <td>NaN</td>\n",
       "      <td>NaN</td>\n",
       "      <td>NaN</td>\n",
       "      <td>NaN</td>\n",
       "      <td>NaN</td>\n",
       "      <td>NaN</td>\n",
       "      <td>NaN</td>\n",
       "      <td>...</td>\n",
       "      <td>4.33</td>\n",
       "      <td>1.89</td>\n",
       "      <td>NaN</td>\n",
       "      <td>0.287</td>\n",
       "      <td>150.00</td>\n",
       "      <td>181.0</td>\n",
       "      <td>337.00</td>\n",
       "      <td>50.00</td>\n",
       "      <td>368.00</td>\n",
       "      <td>16.300</td>\n",
       "    </tr>\n",
       "    <tr>\n",
       "      <th>6</th>\n",
       "      <td>2524</td>\n",
       "      <td>NaN</td>\n",
       "      <td>NaN</td>\n",
       "      <td>NaN</td>\n",
       "      <td>NaN</td>\n",
       "      <td>NaN</td>\n",
       "      <td>NaN</td>\n",
       "      <td>NaN</td>\n",
       "      <td>NaN</td>\n",
       "      <td>NaN</td>\n",
       "      <td>...</td>\n",
       "      <td>10.40</td>\n",
       "      <td>6.69</td>\n",
       "      <td>1.33</td>\n",
       "      <td>NaN</td>\n",
       "      <td>43.46</td>\n",
       "      <td>NaN</td>\n",
       "      <td>947.97</td>\n",
       "      <td>NaN</td>\n",
       "      <td>706.00</td>\n",
       "      <td>NaN</td>\n",
       "    </tr>\n",
       "    <tr>\n",
       "      <th>7</th>\n",
       "      <td>2524</td>\n",
       "      <td>NaN</td>\n",
       "      <td>NaN</td>\n",
       "      <td>NaN</td>\n",
       "      <td>NaN</td>\n",
       "      <td>NaN</td>\n",
       "      <td>NaN</td>\n",
       "      <td>NaN</td>\n",
       "      <td>NaN</td>\n",
       "      <td>NaN</td>\n",
       "      <td>...</td>\n",
       "      <td>NaN</td>\n",
       "      <td>NaN</td>\n",
       "      <td>NaN</td>\n",
       "      <td>NaN</td>\n",
       "      <td>NaN</td>\n",
       "      <td>NaN</td>\n",
       "      <td>NaN</td>\n",
       "      <td>NaN</td>\n",
       "      <td>NaN</td>\n",
       "      <td>NaN</td>\n",
       "    </tr>\n",
       "    <tr>\n",
       "      <th>8</th>\n",
       "      <td>3305441</td>\n",
       "      <td>NaN</td>\n",
       "      <td>NaN</td>\n",
       "      <td>NaN</td>\n",
       "      <td>NaN</td>\n",
       "      <td>NaN</td>\n",
       "      <td>NaN</td>\n",
       "      <td>NaN</td>\n",
       "      <td>NaN</td>\n",
       "      <td>NaN</td>\n",
       "      <td>...</td>\n",
       "      <td>NaN</td>\n",
       "      <td>NaN</td>\n",
       "      <td>NaN</td>\n",
       "      <td>NaN</td>\n",
       "      <td>NaN</td>\n",
       "      <td>NaN</td>\n",
       "      <td>NaN</td>\n",
       "      <td>NaN</td>\n",
       "      <td>NaN</td>\n",
       "      <td>NaN</td>\n",
       "    </tr>\n",
       "    <tr>\n",
       "      <th>9</th>\n",
       "      <td>3305441</td>\n",
       "      <td>NaN</td>\n",
       "      <td>NaN</td>\n",
       "      <td>NaN</td>\n",
       "      <td>NaN</td>\n",
       "      <td>NaN</td>\n",
       "      <td>NaN</td>\n",
       "      <td>NaN</td>\n",
       "      <td>NaN</td>\n",
       "      <td>NaN</td>\n",
       "      <td>...</td>\n",
       "      <td>1.75</td>\n",
       "      <td>5.73</td>\n",
       "      <td>4.02</td>\n",
       "      <td>3.740</td>\n",
       "      <td>0.20</td>\n",
       "      <td>NaN</td>\n",
       "      <td>1.08</td>\n",
       "      <td>0.15</td>\n",
       "      <td>0.63</td>\n",
       "      <td>NaN</td>\n",
       "    </tr>\n",
       "    <tr>\n",
       "      <th>10</th>\n",
       "      <td>3411455</td>\n",
       "      <td>NaN</td>\n",
       "      <td>NaN</td>\n",
       "      <td>0.676</td>\n",
       "      <td>NaN</td>\n",
       "      <td>NaN</td>\n",
       "      <td>1.760</td>\n",
       "      <td>5.550000e-04</td>\n",
       "      <td>NaN</td>\n",
       "      <td>0.00367</td>\n",
       "      <td>...</td>\n",
       "      <td>NaN</td>\n",
       "      <td>NaN</td>\n",
       "      <td>NaN</td>\n",
       "      <td>NaN</td>\n",
       "      <td>NaN</td>\n",
       "      <td>NaN</td>\n",
       "      <td>NaN</td>\n",
       "      <td>NaN</td>\n",
       "      <td>1.60</td>\n",
       "      <td>NaN</td>\n",
       "    </tr>\n",
       "    <tr>\n",
       "      <th>11</th>\n",
       "      <td>3411455</td>\n",
       "      <td>NaN</td>\n",
       "      <td>NaN</td>\n",
       "      <td>5.210</td>\n",
       "      <td>NaN</td>\n",
       "      <td>NaN</td>\n",
       "      <td>13.600</td>\n",
       "      <td>4.280000e-03</td>\n",
       "      <td>NaN</td>\n",
       "      <td>0.02840</td>\n",
       "      <td>...</td>\n",
       "      <td>NaN</td>\n",
       "      <td>NaN</td>\n",
       "      <td>NaN</td>\n",
       "      <td>NaN</td>\n",
       "      <td>NaN</td>\n",
       "      <td>NaN</td>\n",
       "      <td>NaN</td>\n",
       "      <td>NaN</td>\n",
       "      <td>NaN</td>\n",
       "      <td>NaN</td>\n",
       "    </tr>\n",
       "    <tr>\n",
       "      <th>12</th>\n",
       "      <td>3411455</td>\n",
       "      <td>NaN</td>\n",
       "      <td>NaN</td>\n",
       "      <td>0.700</td>\n",
       "      <td>NaN</td>\n",
       "      <td>NaN</td>\n",
       "      <td>NaN</td>\n",
       "      <td>NaN</td>\n",
       "      <td>NaN</td>\n",
       "      <td>NaN</td>\n",
       "      <td>...</td>\n",
       "      <td>NaN</td>\n",
       "      <td>NaN</td>\n",
       "      <td>NaN</td>\n",
       "      <td>NaN</td>\n",
       "      <td>NaN</td>\n",
       "      <td>NaN</td>\n",
       "      <td>NaN</td>\n",
       "      <td>NaN</td>\n",
       "      <td>1.60</td>\n",
       "      <td>NaN</td>\n",
       "    </tr>\n",
       "    <tr>\n",
       "      <th>13</th>\n",
       "      <td>3411455</td>\n",
       "      <td>NaN</td>\n",
       "      <td>NaN</td>\n",
       "      <td>NaN</td>\n",
       "      <td>NaN</td>\n",
       "      <td>NaN</td>\n",
       "      <td>NaN</td>\n",
       "      <td>NaN</td>\n",
       "      <td>NaN</td>\n",
       "      <td>NaN</td>\n",
       "      <td>...</td>\n",
       "      <td>NaN</td>\n",
       "      <td>NaN</td>\n",
       "      <td>NaN</td>\n",
       "      <td>NaN</td>\n",
       "      <td>NaN</td>\n",
       "      <td>NaN</td>\n",
       "      <td>NaN</td>\n",
       "      <td>NaN</td>\n",
       "      <td>NaN</td>\n",
       "      <td>NaN</td>\n",
       "    </tr>\n",
       "    <tr>\n",
       "      <th>14</th>\n",
       "      <td>3412495</td>\n",
       "      <td>NaN</td>\n",
       "      <td>NaN</td>\n",
       "      <td>NaN</td>\n",
       "      <td>NaN</td>\n",
       "      <td>NaN</td>\n",
       "      <td>NaN</td>\n",
       "      <td>NaN</td>\n",
       "      <td>NaN</td>\n",
       "      <td>NaN</td>\n",
       "      <td>...</td>\n",
       "      <td>227.00</td>\n",
       "      <td>940.50</td>\n",
       "      <td>23.70</td>\n",
       "      <td>210.000</td>\n",
       "      <td>1754.00</td>\n",
       "      <td>NaN</td>\n",
       "      <td>4481.80</td>\n",
       "      <td>1433.30</td>\n",
       "      <td>1579.50</td>\n",
       "      <td>0.500</td>\n",
       "    </tr>\n",
       "    <tr>\n",
       "      <th>15</th>\n",
       "      <td>3412495</td>\n",
       "      <td>NaN</td>\n",
       "      <td>NaN</td>\n",
       "      <td>NaN</td>\n",
       "      <td>NaN</td>\n",
       "      <td>NaN</td>\n",
       "      <td>NaN</td>\n",
       "      <td>NaN</td>\n",
       "      <td>NaN</td>\n",
       "      <td>NaN</td>\n",
       "      <td>...</td>\n",
       "      <td>17.60</td>\n",
       "      <td>118.00</td>\n",
       "      <td>2.40</td>\n",
       "      <td>25.900</td>\n",
       "      <td>49.10</td>\n",
       "      <td>NaN</td>\n",
       "      <td>NaN</td>\n",
       "      <td>NaN</td>\n",
       "      <td>387.70</td>\n",
       "      <td>0.029</td>\n",
       "    </tr>\n",
       "    <tr>\n",
       "      <th>16</th>\n",
       "      <td>3412495</td>\n",
       "      <td>NaN</td>\n",
       "      <td>NaN</td>\n",
       "      <td>NaN</td>\n",
       "      <td>NaN</td>\n",
       "      <td>NaN</td>\n",
       "      <td>NaN</td>\n",
       "      <td>NaN</td>\n",
       "      <td>NaN</td>\n",
       "      <td>NaN</td>\n",
       "      <td>...</td>\n",
       "      <td>11.90</td>\n",
       "      <td>53.70</td>\n",
       "      <td>1.90</td>\n",
       "      <td>32.300</td>\n",
       "      <td>108.00</td>\n",
       "      <td>NaN</td>\n",
       "      <td>NaN</td>\n",
       "      <td>NaN</td>\n",
       "      <td>417.00</td>\n",
       "      <td>0.038</td>\n",
       "    </tr>\n",
       "    <tr>\n",
       "      <th>17</th>\n",
       "      <td>3311281</td>\n",
       "      <td>NaN</td>\n",
       "      <td>NaN</td>\n",
       "      <td>21700.000</td>\n",
       "      <td>340000.00</td>\n",
       "      <td>81.20</td>\n",
       "      <td>5940.000</td>\n",
       "      <td>7.730000e+06</td>\n",
       "      <td>NaN</td>\n",
       "      <td>2.82000</td>\n",
       "      <td>...</td>\n",
       "      <td>NaN</td>\n",
       "      <td>NaN</td>\n",
       "      <td>NaN</td>\n",
       "      <td>NaN</td>\n",
       "      <td>NaN</td>\n",
       "      <td>NaN</td>\n",
       "      <td>NaN</td>\n",
       "      <td>NaN</td>\n",
       "      <td>NaN</td>\n",
       "      <td>NaN</td>\n",
       "    </tr>\n",
       "    <tr>\n",
       "      <th>18</th>\n",
       "      <td>3311281</td>\n",
       "      <td>NaN</td>\n",
       "      <td>NaN</td>\n",
       "      <td>NaN</td>\n",
       "      <td>NaN</td>\n",
       "      <td>NaN</td>\n",
       "      <td>NaN</td>\n",
       "      <td>NaN</td>\n",
       "      <td>NaN</td>\n",
       "      <td>NaN</td>\n",
       "      <td>...</td>\n",
       "      <td>1.00</td>\n",
       "      <td>24.75</td>\n",
       "      <td>0.45</td>\n",
       "      <td>NaN</td>\n",
       "      <td>302.00</td>\n",
       "      <td>NaN</td>\n",
       "      <td>1037.00</td>\n",
       "      <td>812.00</td>\n",
       "      <td>NaN</td>\n",
       "      <td>NaN</td>\n",
       "    </tr>\n",
       "  </tbody>\n",
       "</table>\n",
       "<p>19 rows × 32 columns</p>\n",
       "</div>"
      ],
      "text/plain": [
       "     FOODON  Erfasst durch  \\\n",
       "0      2524            NaN   \n",
       "1      2524            NaN   \n",
       "2      2524            NaN   \n",
       "3      2524            NaN   \n",
       "4      2524            NaN   \n",
       "5      2524            NaN   \n",
       "6      2524            NaN   \n",
       "7      2524            NaN   \n",
       "8   3305441            NaN   \n",
       "9   3305441            NaN   \n",
       "10  3411455            NaN   \n",
       "11  3411455            NaN   \n",
       "12  3411455            NaN   \n",
       "13  3411455            NaN   \n",
       "14  3412495            NaN   \n",
       "15  3412495            NaN   \n",
       "16  3412495            NaN   \n",
       "17  3311281            NaN   \n",
       "18  3311281            NaN   \n",
       "\n",
       "    Anbau (Pestizide, Dünger, ...) - für pflanzliche LM  \\\n",
       "0                                                 NaN     \n",
       "1                                                 NaN     \n",
       "2                                                 NaN     \n",
       "3                                                 NaN     \n",
       "4                                                 NaN     \n",
       "5                                                 NaN     \n",
       "6                                                 NaN     \n",
       "7                                                 NaN     \n",
       "8                                                 NaN     \n",
       "9                                                 NaN     \n",
       "10                                                NaN     \n",
       "11                                                NaN     \n",
       "12                                                NaN     \n",
       "13                                                NaN     \n",
       "14                                                NaN     \n",
       "15                                                NaN     \n",
       "16                                                NaN     \n",
       "17                                                NaN     \n",
       "18                                                NaN     \n",
       "\n",
       "    GWP, kg CO2-EQ/kg product  EU, Fossil energy use, MJ/kg product  \\\n",
       "0                      20.400                                213.66   \n",
       "1                         NaN                                   NaN   \n",
       "2                       2.700                                 34.00   \n",
       "3                      14.000                                173.00   \n",
       "4                         NaN                                   NaN   \n",
       "5                         NaN                                   NaN   \n",
       "6                         NaN                                   NaN   \n",
       "7                         NaN                                   NaN   \n",
       "8                         NaN                                   NaN   \n",
       "9                         NaN                                   NaN   \n",
       "10                      0.676                                   NaN   \n",
       "11                      5.210                                   NaN   \n",
       "12                      0.700                                   NaN   \n",
       "13                        NaN                                   NaN   \n",
       "14                        NaN                                   NaN   \n",
       "15                        NaN                                   NaN   \n",
       "16                        NaN                                   NaN   \n",
       "17                  21700.000                             340000.00   \n",
       "18                        NaN                                   NaN   \n",
       "\n",
       "    LU, Land use, m2/Jahr  Water Footprint (WF), m3/kg  \\\n",
       "0                   22.38                          NaN   \n",
       "1                     NaN                          NaN   \n",
       "2                    3.60                          NaN   \n",
       "3                   18.00                          NaN   \n",
       "4                     NaN                        4.341   \n",
       "5                     NaN                          NaN   \n",
       "6                     NaN                          NaN   \n",
       "7                     NaN                          NaN   \n",
       "8                     NaN                          NaN   \n",
       "9                     NaN                          NaN   \n",
       "10                    NaN                        1.760   \n",
       "11                    NaN                       13.600   \n",
       "12                    NaN                          NaN   \n",
       "13                    NaN                          NaN   \n",
       "14                    NaN                          NaN   \n",
       "15                    NaN                          NaN   \n",
       "16                    NaN                          NaN   \n",
       "17                  81.20                     5940.000   \n",
       "18                    NaN                          NaN   \n",
       "\n",
       "    Marine eutrophication (ME), kg N eq /kg  Bemerkung zu OD  \\\n",
       "0                                       NaN              NaN   \n",
       "1                                       NaN              NaN   \n",
       "2                                       NaN              NaN   \n",
       "3                                       NaN              NaN   \n",
       "4                                       NaN              NaN   \n",
       "5                                       NaN              NaN   \n",
       "6                                       NaN              NaN   \n",
       "7                                       NaN              NaN   \n",
       "8                                       NaN              NaN   \n",
       "9                                       NaN              NaN   \n",
       "10                             5.550000e-04              NaN   \n",
       "11                             4.280000e-03              NaN   \n",
       "12                                      NaN              NaN   \n",
       "13                                      NaN              NaN   \n",
       "14                                      NaN              NaN   \n",
       "15                                      NaN              NaN   \n",
       "16                                      NaN              NaN   \n",
       "17                             7.730000e+06              NaN   \n",
       "18                                      NaN              NaN   \n",
       "\n",
       "    Photochemical oxidant formation (POF), kg NMVOC eq/ kg  ...  \\\n",
       "0                                                 NaN       ...   \n",
       "1                                                 NaN       ...   \n",
       "2                                                 NaN       ...   \n",
       "3                                                 NaN       ...   \n",
       "4                                                 NaN       ...   \n",
       "5                                                 NaN       ...   \n",
       "6                                                 NaN       ...   \n",
       "7                                                 NaN       ...   \n",
       "8                                                 NaN       ...   \n",
       "9                                                 NaN       ...   \n",
       "10                                            0.00367       ...   \n",
       "11                                            0.02840       ...   \n",
       "12                                                NaN       ...   \n",
       "13                                                NaN       ...   \n",
       "14                                                NaN       ...   \n",
       "15                                                NaN       ...   \n",
       "16                                                NaN       ...   \n",
       "17                                            2.82000       ...   \n",
       "18                                                NaN       ...   \n",
       "\n",
       "    Zinc (mg/100g)  Iron (mg/100g)  Copper (mg/100g)  Manganese (mg/100g)  \\\n",
       "0              NaN             NaN               NaN                  NaN   \n",
       "1             4.20            3.80              0.78                0.440   \n",
       "2              NaN             NaN               NaN                  NaN   \n",
       "3              NaN             NaN               NaN                  NaN   \n",
       "4              NaN             NaN               NaN                  NaN   \n",
       "5             4.33            1.89               NaN                0.287   \n",
       "6            10.40            6.69              1.33                  NaN   \n",
       "7              NaN             NaN               NaN                  NaN   \n",
       "8              NaN             NaN               NaN                  NaN   \n",
       "9             1.75            5.73              4.02                3.740   \n",
       "10             NaN             NaN               NaN                  NaN   \n",
       "11             NaN             NaN               NaN                  NaN   \n",
       "12             NaN             NaN               NaN                  NaN   \n",
       "13             NaN             NaN               NaN                  NaN   \n",
       "14          227.00          940.50             23.70              210.000   \n",
       "15           17.60          118.00              2.40               25.900   \n",
       "16           11.90           53.70              1.90               32.300   \n",
       "17             NaN             NaN               NaN                  NaN   \n",
       "18            1.00           24.75              0.45                  NaN   \n",
       "\n",
       "    Calcium (mg/100g)  Chloride (mg/100g)  Potassium (mg/100g)  \\\n",
       "0                 NaN                 NaN                  NaN   \n",
       "1                 NaN                 NaN                  NaN   \n",
       "2                 NaN                 NaN                  NaN   \n",
       "3                 NaN                 NaN                  NaN   \n",
       "4                 NaN                 NaN                  NaN   \n",
       "5              150.00               181.0               337.00   \n",
       "6               43.46                 NaN               947.97   \n",
       "7                 NaN                 NaN                  NaN   \n",
       "8                 NaN                 NaN                  NaN   \n",
       "9                0.20                 NaN                 1.08   \n",
       "10                NaN                 NaN                  NaN   \n",
       "11                NaN                 NaN                  NaN   \n",
       "12                NaN                 NaN                  NaN   \n",
       "13                NaN                 NaN                  NaN   \n",
       "14            1754.00                 NaN              4481.80   \n",
       "15              49.10                 NaN                  NaN   \n",
       "16             108.00                 NaN                  NaN   \n",
       "17                NaN                 NaN                  NaN   \n",
       "18             302.00                 NaN              1037.00   \n",
       "\n",
       "    Sodium (mg/100g)  Phosphorus (mg/100g)  Selenium (mg/100g)  \n",
       "0                NaN                   NaN                 NaN  \n",
       "1                NaN                   NaN                 NaN  \n",
       "2                NaN                   NaN                 NaN  \n",
       "3                NaN                   NaN                 NaN  \n",
       "4                NaN                   NaN                 NaN  \n",
       "5              50.00                368.00              16.300  \n",
       "6                NaN                706.00                 NaN  \n",
       "7                NaN                   NaN                 NaN  \n",
       "8                NaN                   NaN                 NaN  \n",
       "9               0.15                  0.63                 NaN  \n",
       "10               NaN                  1.60                 NaN  \n",
       "11               NaN                   NaN                 NaN  \n",
       "12               NaN                  1.60                 NaN  \n",
       "13               NaN                   NaN                 NaN  \n",
       "14           1433.30               1579.50               0.500  \n",
       "15               NaN                387.70               0.029  \n",
       "16               NaN                417.00               0.038  \n",
       "17               NaN                   NaN                 NaN  \n",
       "18            812.00                   NaN                 NaN  \n",
       "\n",
       "[19 rows x 32 columns]"
      ]
     },
     "execution_count": 13,
     "metadata": {},
     "output_type": "execute_result"
    }
   ],
   "source": [
    "df_numeric_studies"
   ]
  },
  {
   "cell_type": "code",
   "execution_count": 14,
   "id": "c745e197",
   "metadata": {},
   "outputs": [],
   "source": [
    "# divide dataframe per protein, but there are a lot of missing data\n",
    "df_studies_per_g_protein = df_numeric_studies.div(df_numeric_studies['Protein [%]'].dropna(), axis = 0)"
   ]
  },
  {
   "cell_type": "code",
   "execution_count": 15,
   "id": "7ba0a04a",
   "metadata": {},
   "outputs": [],
   "source": [
    "# create dictionary to reduce the long study-links to a number\n",
    "\n",
    "studies_dict = dict(zip(list(range(len(df_studies['Studie']))), df_studies['Studie'], ))\n",
    "df_studies['StudieNr'] = studies_dict.keys()"
   ]
  },
  {
   "cell_type": "code",
   "execution_count": 16,
   "id": "f7f2788d",
   "metadata": {},
   "outputs": [
    {
     "data": {
      "text/plain": [
       "{0: 'https://link.springer.com/article/10.1007/s11367-021-01980-4',\n",
       " 1: 'https://www.scirp.org/html/3-3000443_33693.htm',\n",
       " 2: 'https://journals.plos.org/plosone/article?id=10.1371/journal.pone.0051145',\n",
       " 3: 'https://journals.plos.org/plosone/article?id=10.1371/journal.pone.0051145',\n",
       " 4: 'https://www.mdpi.com/2073-4441/7/11/6190',\n",
       " 5: 'https://www.sciencedirect.com/science/article/pii/S0308814614016781?via%3Dihub',\n",
       " 6: 'https://koreascience.kr/article/JAKO201229765635707.page',\n",
       " 7: 'https://www.cabdirect.org/cabdirect/abstract/20103053822',\n",
       " 8: 'https://link.springer.com/article/10.1007/s00217-019-03383-0',\n",
       " 9: 'https://www.sciencedirect.com/science/article/pii/S1226861516303181',\n",
       " 10: 'https://www.sciencedirect.com/science/article/pii/S0959652616301135',\n",
       " 11: 'https://www.sciencedirect.com/science/article/pii/S0959652616301135',\n",
       " 12: 'https://www.sciencedirect.com/science/article/pii/S0308521X15300500',\n",
       " 13: 'https://www.emerald.com/insight/content/doi/10.1108/NFS-08-2019-0261/full/html#sec006',\n",
       " 14: 'https://www.thaiscience.info/Journals/Article/SONG/10462629.pdf',\n",
       " 15: 'https://www.cabdirect.org/cabdirect/abstract/20113070869',\n",
       " 16: 'https://www.cabdirect.org/cabdirect/abstract/20113070869',\n",
       " 17: 'https://www.sciencedirect.com/science/article/pii/S2211926416302946',\n",
       " 18: 'https://academic.oup.com/nutritionreviews/article/65/12/535/1903132'}"
      ]
     },
     "execution_count": 16,
     "metadata": {},
     "output_type": "execute_result"
    }
   ],
   "source": [
    "studies_dict"
   ]
  },
  {
   "cell_type": "code",
   "execution_count": 17,
   "id": "3475a7f3",
   "metadata": {},
   "outputs": [],
   "source": [
    "# for the sake of simplicity, the protein from mealworm is also counted as just mealworm\n",
    "\n",
    "df_studies.rename(index = {'protein from mealworm': 'mealworm'}, inplace=True)"
   ]
  },
  {
   "cell_type": "markdown",
   "id": "a4adc380",
   "metadata": {},
   "source": [
    "### Countplot of all protein sources in plotly"
   ]
  },
  {
   "cell_type": "code",
   "execution_count": 27,
   "id": "23b08f08",
   "metadata": {},
   "outputs": [
    {
     "data": {
      "application/vnd.plotly.v1+json": {
       "config": {
        "plotlyServerURL": "https://plot.ly"
       },
       "data": [
        {
         "alignmentgroup": "True",
         "bingroup": "x",
         "hovertemplate": "source=%{x}<br>count=%{y}<extra></extra>",
         "legendgroup": "",
         "marker": {
          "color": "rgb(0, 1, 0)",
          "pattern": {
           "shape": ""
          }
         },
         "name": "",
         "offsetgroup": "",
         "orientation": "v",
         "showlegend": false,
         "type": "histogram",
         "x": [
          "mealworm",
          "mealworm",
          "mealworm",
          "mealworm",
          "mealworm",
          "mealworm",
          "mealworm",
          "mealworm",
          "grasshopper",
          "grasshopper",
          "snail",
          "snail",
          "snail",
          "snail",
          "ant",
          "ant",
          "ant",
          "seaweed",
          "seaweed"
         ],
         "xaxis": "x",
         "yaxis": "y"
        }
       ],
       "layout": {
        "barmode": "relative",
        "legend": {
         "tracegroupgap": 0
        },
        "template": {
         "data": {
          "bar": [
           {
            "error_x": {
             "color": "#2a3f5f"
            },
            "error_y": {
             "color": "#2a3f5f"
            },
            "marker": {
             "line": {
              "color": "#E5ECF6",
              "width": 0.5
             },
             "pattern": {
              "fillmode": "overlay",
              "size": 10,
              "solidity": 0.2
             }
            },
            "type": "bar"
           }
          ],
          "barpolar": [
           {
            "marker": {
             "line": {
              "color": "#E5ECF6",
              "width": 0.5
             },
             "pattern": {
              "fillmode": "overlay",
              "size": 10,
              "solidity": 0.2
             }
            },
            "type": "barpolar"
           }
          ],
          "carpet": [
           {
            "aaxis": {
             "endlinecolor": "#2a3f5f",
             "gridcolor": "white",
             "linecolor": "white",
             "minorgridcolor": "white",
             "startlinecolor": "#2a3f5f"
            },
            "baxis": {
             "endlinecolor": "#2a3f5f",
             "gridcolor": "white",
             "linecolor": "white",
             "minorgridcolor": "white",
             "startlinecolor": "#2a3f5f"
            },
            "type": "carpet"
           }
          ],
          "choropleth": [
           {
            "colorbar": {
             "outlinewidth": 0,
             "ticks": ""
            },
            "type": "choropleth"
           }
          ],
          "contour": [
           {
            "colorbar": {
             "outlinewidth": 0,
             "ticks": ""
            },
            "colorscale": [
             [
              0,
              "#0d0887"
             ],
             [
              0.1111111111111111,
              "#46039f"
             ],
             [
              0.2222222222222222,
              "#7201a8"
             ],
             [
              0.3333333333333333,
              "#9c179e"
             ],
             [
              0.4444444444444444,
              "#bd3786"
             ],
             [
              0.5555555555555556,
              "#d8576b"
             ],
             [
              0.6666666666666666,
              "#ed7953"
             ],
             [
              0.7777777777777778,
              "#fb9f3a"
             ],
             [
              0.8888888888888888,
              "#fdca26"
             ],
             [
              1,
              "#f0f921"
             ]
            ],
            "type": "contour"
           }
          ],
          "contourcarpet": [
           {
            "colorbar": {
             "outlinewidth": 0,
             "ticks": ""
            },
            "type": "contourcarpet"
           }
          ],
          "heatmap": [
           {
            "colorbar": {
             "outlinewidth": 0,
             "ticks": ""
            },
            "colorscale": [
             [
              0,
              "#0d0887"
             ],
             [
              0.1111111111111111,
              "#46039f"
             ],
             [
              0.2222222222222222,
              "#7201a8"
             ],
             [
              0.3333333333333333,
              "#9c179e"
             ],
             [
              0.4444444444444444,
              "#bd3786"
             ],
             [
              0.5555555555555556,
              "#d8576b"
             ],
             [
              0.6666666666666666,
              "#ed7953"
             ],
             [
              0.7777777777777778,
              "#fb9f3a"
             ],
             [
              0.8888888888888888,
              "#fdca26"
             ],
             [
              1,
              "#f0f921"
             ]
            ],
            "type": "heatmap"
           }
          ],
          "heatmapgl": [
           {
            "colorbar": {
             "outlinewidth": 0,
             "ticks": ""
            },
            "colorscale": [
             [
              0,
              "#0d0887"
             ],
             [
              0.1111111111111111,
              "#46039f"
             ],
             [
              0.2222222222222222,
              "#7201a8"
             ],
             [
              0.3333333333333333,
              "#9c179e"
             ],
             [
              0.4444444444444444,
              "#bd3786"
             ],
             [
              0.5555555555555556,
              "#d8576b"
             ],
             [
              0.6666666666666666,
              "#ed7953"
             ],
             [
              0.7777777777777778,
              "#fb9f3a"
             ],
             [
              0.8888888888888888,
              "#fdca26"
             ],
             [
              1,
              "#f0f921"
             ]
            ],
            "type": "heatmapgl"
           }
          ],
          "histogram": [
           {
            "marker": {
             "pattern": {
              "fillmode": "overlay",
              "size": 10,
              "solidity": 0.2
             }
            },
            "type": "histogram"
           }
          ],
          "histogram2d": [
           {
            "colorbar": {
             "outlinewidth": 0,
             "ticks": ""
            },
            "colorscale": [
             [
              0,
              "#0d0887"
             ],
             [
              0.1111111111111111,
              "#46039f"
             ],
             [
              0.2222222222222222,
              "#7201a8"
             ],
             [
              0.3333333333333333,
              "#9c179e"
             ],
             [
              0.4444444444444444,
              "#bd3786"
             ],
             [
              0.5555555555555556,
              "#d8576b"
             ],
             [
              0.6666666666666666,
              "#ed7953"
             ],
             [
              0.7777777777777778,
              "#fb9f3a"
             ],
             [
              0.8888888888888888,
              "#fdca26"
             ],
             [
              1,
              "#f0f921"
             ]
            ],
            "type": "histogram2d"
           }
          ],
          "histogram2dcontour": [
           {
            "colorbar": {
             "outlinewidth": 0,
             "ticks": ""
            },
            "colorscale": [
             [
              0,
              "#0d0887"
             ],
             [
              0.1111111111111111,
              "#46039f"
             ],
             [
              0.2222222222222222,
              "#7201a8"
             ],
             [
              0.3333333333333333,
              "#9c179e"
             ],
             [
              0.4444444444444444,
              "#bd3786"
             ],
             [
              0.5555555555555556,
              "#d8576b"
             ],
             [
              0.6666666666666666,
              "#ed7953"
             ],
             [
              0.7777777777777778,
              "#fb9f3a"
             ],
             [
              0.8888888888888888,
              "#fdca26"
             ],
             [
              1,
              "#f0f921"
             ]
            ],
            "type": "histogram2dcontour"
           }
          ],
          "mesh3d": [
           {
            "colorbar": {
             "outlinewidth": 0,
             "ticks": ""
            },
            "type": "mesh3d"
           }
          ],
          "parcoords": [
           {
            "line": {
             "colorbar": {
              "outlinewidth": 0,
              "ticks": ""
             }
            },
            "type": "parcoords"
           }
          ],
          "pie": [
           {
            "automargin": true,
            "type": "pie"
           }
          ],
          "scatter": [
           {
            "fillpattern": {
             "fillmode": "overlay",
             "size": 10,
             "solidity": 0.2
            },
            "type": "scatter"
           }
          ],
          "scatter3d": [
           {
            "line": {
             "colorbar": {
              "outlinewidth": 0,
              "ticks": ""
             }
            },
            "marker": {
             "colorbar": {
              "outlinewidth": 0,
              "ticks": ""
             }
            },
            "type": "scatter3d"
           }
          ],
          "scattercarpet": [
           {
            "marker": {
             "colorbar": {
              "outlinewidth": 0,
              "ticks": ""
             }
            },
            "type": "scattercarpet"
           }
          ],
          "scattergeo": [
           {
            "marker": {
             "colorbar": {
              "outlinewidth": 0,
              "ticks": ""
             }
            },
            "type": "scattergeo"
           }
          ],
          "scattergl": [
           {
            "marker": {
             "colorbar": {
              "outlinewidth": 0,
              "ticks": ""
             }
            },
            "type": "scattergl"
           }
          ],
          "scattermapbox": [
           {
            "marker": {
             "colorbar": {
              "outlinewidth": 0,
              "ticks": ""
             }
            },
            "type": "scattermapbox"
           }
          ],
          "scatterpolar": [
           {
            "marker": {
             "colorbar": {
              "outlinewidth": 0,
              "ticks": ""
             }
            },
            "type": "scatterpolar"
           }
          ],
          "scatterpolargl": [
           {
            "marker": {
             "colorbar": {
              "outlinewidth": 0,
              "ticks": ""
             }
            },
            "type": "scatterpolargl"
           }
          ],
          "scatterternary": [
           {
            "marker": {
             "colorbar": {
              "outlinewidth": 0,
              "ticks": ""
             }
            },
            "type": "scatterternary"
           }
          ],
          "surface": [
           {
            "colorbar": {
             "outlinewidth": 0,
             "ticks": ""
            },
            "colorscale": [
             [
              0,
              "#0d0887"
             ],
             [
              0.1111111111111111,
              "#46039f"
             ],
             [
              0.2222222222222222,
              "#7201a8"
             ],
             [
              0.3333333333333333,
              "#9c179e"
             ],
             [
              0.4444444444444444,
              "#bd3786"
             ],
             [
              0.5555555555555556,
              "#d8576b"
             ],
             [
              0.6666666666666666,
              "#ed7953"
             ],
             [
              0.7777777777777778,
              "#fb9f3a"
             ],
             [
              0.8888888888888888,
              "#fdca26"
             ],
             [
              1,
              "#f0f921"
             ]
            ],
            "type": "surface"
           }
          ],
          "table": [
           {
            "cells": {
             "fill": {
              "color": "#EBF0F8"
             },
             "line": {
              "color": "white"
             }
            },
            "header": {
             "fill": {
              "color": "#C8D4E3"
             },
             "line": {
              "color": "white"
             }
            },
            "type": "table"
           }
          ]
         },
         "layout": {
          "annotationdefaults": {
           "arrowcolor": "#2a3f5f",
           "arrowhead": 0,
           "arrowwidth": 1
          },
          "autotypenumbers": "strict",
          "coloraxis": {
           "colorbar": {
            "outlinewidth": 0,
            "ticks": ""
           }
          },
          "colorscale": {
           "diverging": [
            [
             0,
             "#8e0152"
            ],
            [
             0.1,
             "#c51b7d"
            ],
            [
             0.2,
             "#de77ae"
            ],
            [
             0.3,
             "#f1b6da"
            ],
            [
             0.4,
             "#fde0ef"
            ],
            [
             0.5,
             "#f7f7f7"
            ],
            [
             0.6,
             "#e6f5d0"
            ],
            [
             0.7,
             "#b8e186"
            ],
            [
             0.8,
             "#7fbc41"
            ],
            [
             0.9,
             "#4d9221"
            ],
            [
             1,
             "#276419"
            ]
           ],
           "sequential": [
            [
             0,
             "#0d0887"
            ],
            [
             0.1111111111111111,
             "#46039f"
            ],
            [
             0.2222222222222222,
             "#7201a8"
            ],
            [
             0.3333333333333333,
             "#9c179e"
            ],
            [
             0.4444444444444444,
             "#bd3786"
            ],
            [
             0.5555555555555556,
             "#d8576b"
            ],
            [
             0.6666666666666666,
             "#ed7953"
            ],
            [
             0.7777777777777778,
             "#fb9f3a"
            ],
            [
             0.8888888888888888,
             "#fdca26"
            ],
            [
             1,
             "#f0f921"
            ]
           ],
           "sequentialminus": [
            [
             0,
             "#0d0887"
            ],
            [
             0.1111111111111111,
             "#46039f"
            ],
            [
             0.2222222222222222,
             "#7201a8"
            ],
            [
             0.3333333333333333,
             "#9c179e"
            ],
            [
             0.4444444444444444,
             "#bd3786"
            ],
            [
             0.5555555555555556,
             "#d8576b"
            ],
            [
             0.6666666666666666,
             "#ed7953"
            ],
            [
             0.7777777777777778,
             "#fb9f3a"
            ],
            [
             0.8888888888888888,
             "#fdca26"
            ],
            [
             1,
             "#f0f921"
            ]
           ]
          },
          "colorway": [
           "#636efa",
           "#EF553B",
           "#00cc96",
           "#ab63fa",
           "#FFA15A",
           "#19d3f3",
           "#FF6692",
           "#B6E880",
           "#FF97FF",
           "#FECB52"
          ],
          "font": {
           "color": "#2a3f5f"
          },
          "geo": {
           "bgcolor": "white",
           "lakecolor": "white",
           "landcolor": "#E5ECF6",
           "showlakes": true,
           "showland": true,
           "subunitcolor": "white"
          },
          "hoverlabel": {
           "align": "left"
          },
          "hovermode": "closest",
          "mapbox": {
           "style": "light"
          },
          "paper_bgcolor": "white",
          "plot_bgcolor": "#E5ECF6",
          "polar": {
           "angularaxis": {
            "gridcolor": "white",
            "linecolor": "white",
            "ticks": ""
           },
           "bgcolor": "#E5ECF6",
           "radialaxis": {
            "gridcolor": "white",
            "linecolor": "white",
            "ticks": ""
           }
          },
          "scene": {
           "xaxis": {
            "backgroundcolor": "#E5ECF6",
            "gridcolor": "white",
            "gridwidth": 2,
            "linecolor": "white",
            "showbackground": true,
            "ticks": "",
            "zerolinecolor": "white"
           },
           "yaxis": {
            "backgroundcolor": "#E5ECF6",
            "gridcolor": "white",
            "gridwidth": 2,
            "linecolor": "white",
            "showbackground": true,
            "ticks": "",
            "zerolinecolor": "white"
           },
           "zaxis": {
            "backgroundcolor": "#E5ECF6",
            "gridcolor": "white",
            "gridwidth": 2,
            "linecolor": "white",
            "showbackground": true,
            "ticks": "",
            "zerolinecolor": "white"
           }
          },
          "shapedefaults": {
           "line": {
            "color": "#2a3f5f"
           }
          },
          "ternary": {
           "aaxis": {
            "gridcolor": "white",
            "linecolor": "white",
            "ticks": ""
           },
           "baxis": {
            "gridcolor": "white",
            "linecolor": "white",
            "ticks": ""
           },
           "bgcolor": "#E5ECF6",
           "caxis": {
            "gridcolor": "white",
            "linecolor": "white",
            "ticks": ""
           }
          },
          "title": {
           "x": 0.05
          },
          "xaxis": {
           "automargin": true,
           "gridcolor": "white",
           "linecolor": "white",
           "ticks": "",
           "title": {
            "standoff": 15
           },
           "zerolinecolor": "white",
           "zerolinewidth": 2
          },
          "yaxis": {
           "automargin": true,
           "gridcolor": "white",
           "linecolor": "white",
           "ticks": "",
           "title": {
            "standoff": 15
           },
           "zerolinecolor": "white",
           "zerolinewidth": 2
          }
         }
        },
        "title": {
         "text": "Count of Protein Sources, that are currently contained in the Studies in the Database."
        },
        "xaxis": {
         "anchor": "y",
         "categoryorder": "total ascending",
         "domain": [
          0,
          1
         ],
         "title": {
          "text": "source"
         }
        },
        "yaxis": {
         "anchor": "x",
         "domain": [
          0,
          1
         ],
         "title": {
          "text": "count"
         }
        }
       }
      },
      "text/html": [
       "<div>                            <div id=\"d2c26750-6e30-4de4-9555-ddbb99167606\" class=\"plotly-graph-div\" style=\"height:525px; width:100%;\"></div>            <script type=\"text/javascript\">                require([\"plotly\"], function(Plotly) {                    window.PLOTLYENV=window.PLOTLYENV || {};                                    if (document.getElementById(\"d2c26750-6e30-4de4-9555-ddbb99167606\")) {                    Plotly.newPlot(                        \"d2c26750-6e30-4de4-9555-ddbb99167606\",                        [{\"alignmentgroup\":\"True\",\"bingroup\":\"x\",\"hovertemplate\":\"source=%{x}<br>count=%{y}<extra></extra>\",\"legendgroup\":\"\",\"marker\":{\"color\":\"rgb(0, 1, 0)\",\"pattern\":{\"shape\":\"\"}},\"name\":\"\",\"offsetgroup\":\"\",\"orientation\":\"v\",\"showlegend\":false,\"x\":[\"mealworm\",\"mealworm\",\"mealworm\",\"mealworm\",\"mealworm\",\"mealworm\",\"mealworm\",\"mealworm\",\"grasshopper\",\"grasshopper\",\"snail\",\"snail\",\"snail\",\"snail\",\"ant\",\"ant\",\"ant\",\"seaweed\",\"seaweed\"],\"xaxis\":\"x\",\"yaxis\":\"y\",\"type\":\"histogram\"}],                        {\"template\":{\"data\":{\"histogram2dcontour\":[{\"type\":\"histogram2dcontour\",\"colorbar\":{\"outlinewidth\":0,\"ticks\":\"\"},\"colorscale\":[[0.0,\"#0d0887\"],[0.1111111111111111,\"#46039f\"],[0.2222222222222222,\"#7201a8\"],[0.3333333333333333,\"#9c179e\"],[0.4444444444444444,\"#bd3786\"],[0.5555555555555556,\"#d8576b\"],[0.6666666666666666,\"#ed7953\"],[0.7777777777777778,\"#fb9f3a\"],[0.8888888888888888,\"#fdca26\"],[1.0,\"#f0f921\"]]}],\"choropleth\":[{\"type\":\"choropleth\",\"colorbar\":{\"outlinewidth\":0,\"ticks\":\"\"}}],\"histogram2d\":[{\"type\":\"histogram2d\",\"colorbar\":{\"outlinewidth\":0,\"ticks\":\"\"},\"colorscale\":[[0.0,\"#0d0887\"],[0.1111111111111111,\"#46039f\"],[0.2222222222222222,\"#7201a8\"],[0.3333333333333333,\"#9c179e\"],[0.4444444444444444,\"#bd3786\"],[0.5555555555555556,\"#d8576b\"],[0.6666666666666666,\"#ed7953\"],[0.7777777777777778,\"#fb9f3a\"],[0.8888888888888888,\"#fdca26\"],[1.0,\"#f0f921\"]]}],\"heatmap\":[{\"type\":\"heatmap\",\"colorbar\":{\"outlinewidth\":0,\"ticks\":\"\"},\"colorscale\":[[0.0,\"#0d0887\"],[0.1111111111111111,\"#46039f\"],[0.2222222222222222,\"#7201a8\"],[0.3333333333333333,\"#9c179e\"],[0.4444444444444444,\"#bd3786\"],[0.5555555555555556,\"#d8576b\"],[0.6666666666666666,\"#ed7953\"],[0.7777777777777778,\"#fb9f3a\"],[0.8888888888888888,\"#fdca26\"],[1.0,\"#f0f921\"]]}],\"heatmapgl\":[{\"type\":\"heatmapgl\",\"colorbar\":{\"outlinewidth\":0,\"ticks\":\"\"},\"colorscale\":[[0.0,\"#0d0887\"],[0.1111111111111111,\"#46039f\"],[0.2222222222222222,\"#7201a8\"],[0.3333333333333333,\"#9c179e\"],[0.4444444444444444,\"#bd3786\"],[0.5555555555555556,\"#d8576b\"],[0.6666666666666666,\"#ed7953\"],[0.7777777777777778,\"#fb9f3a\"],[0.8888888888888888,\"#fdca26\"],[1.0,\"#f0f921\"]]}],\"contourcarpet\":[{\"type\":\"contourcarpet\",\"colorbar\":{\"outlinewidth\":0,\"ticks\":\"\"}}],\"contour\":[{\"type\":\"contour\",\"colorbar\":{\"outlinewidth\":0,\"ticks\":\"\"},\"colorscale\":[[0.0,\"#0d0887\"],[0.1111111111111111,\"#46039f\"],[0.2222222222222222,\"#7201a8\"],[0.3333333333333333,\"#9c179e\"],[0.4444444444444444,\"#bd3786\"],[0.5555555555555556,\"#d8576b\"],[0.6666666666666666,\"#ed7953\"],[0.7777777777777778,\"#fb9f3a\"],[0.8888888888888888,\"#fdca26\"],[1.0,\"#f0f921\"]]}],\"surface\":[{\"type\":\"surface\",\"colorbar\":{\"outlinewidth\":0,\"ticks\":\"\"},\"colorscale\":[[0.0,\"#0d0887\"],[0.1111111111111111,\"#46039f\"],[0.2222222222222222,\"#7201a8\"],[0.3333333333333333,\"#9c179e\"],[0.4444444444444444,\"#bd3786\"],[0.5555555555555556,\"#d8576b\"],[0.6666666666666666,\"#ed7953\"],[0.7777777777777778,\"#fb9f3a\"],[0.8888888888888888,\"#fdca26\"],[1.0,\"#f0f921\"]]}],\"mesh3d\":[{\"type\":\"mesh3d\",\"colorbar\":{\"outlinewidth\":0,\"ticks\":\"\"}}],\"scatter\":[{\"fillpattern\":{\"fillmode\":\"overlay\",\"size\":10,\"solidity\":0.2},\"type\":\"scatter\"}],\"parcoords\":[{\"type\":\"parcoords\",\"line\":{\"colorbar\":{\"outlinewidth\":0,\"ticks\":\"\"}}}],\"scatterpolargl\":[{\"type\":\"scatterpolargl\",\"marker\":{\"colorbar\":{\"outlinewidth\":0,\"ticks\":\"\"}}}],\"bar\":[{\"error_x\":{\"color\":\"#2a3f5f\"},\"error_y\":{\"color\":\"#2a3f5f\"},\"marker\":{\"line\":{\"color\":\"#E5ECF6\",\"width\":0.5},\"pattern\":{\"fillmode\":\"overlay\",\"size\":10,\"solidity\":0.2}},\"type\":\"bar\"}],\"scattergeo\":[{\"type\":\"scattergeo\",\"marker\":{\"colorbar\":{\"outlinewidth\":0,\"ticks\":\"\"}}}],\"scatterpolar\":[{\"type\":\"scatterpolar\",\"marker\":{\"colorbar\":{\"outlinewidth\":0,\"ticks\":\"\"}}}],\"histogram\":[{\"marker\":{\"pattern\":{\"fillmode\":\"overlay\",\"size\":10,\"solidity\":0.2}},\"type\":\"histogram\"}],\"scattergl\":[{\"type\":\"scattergl\",\"marker\":{\"colorbar\":{\"outlinewidth\":0,\"ticks\":\"\"}}}],\"scatter3d\":[{\"type\":\"scatter3d\",\"line\":{\"colorbar\":{\"outlinewidth\":0,\"ticks\":\"\"}},\"marker\":{\"colorbar\":{\"outlinewidth\":0,\"ticks\":\"\"}}}],\"scattermapbox\":[{\"type\":\"scattermapbox\",\"marker\":{\"colorbar\":{\"outlinewidth\":0,\"ticks\":\"\"}}}],\"scatterternary\":[{\"type\":\"scatterternary\",\"marker\":{\"colorbar\":{\"outlinewidth\":0,\"ticks\":\"\"}}}],\"scattercarpet\":[{\"type\":\"scattercarpet\",\"marker\":{\"colorbar\":{\"outlinewidth\":0,\"ticks\":\"\"}}}],\"carpet\":[{\"aaxis\":{\"endlinecolor\":\"#2a3f5f\",\"gridcolor\":\"white\",\"linecolor\":\"white\",\"minorgridcolor\":\"white\",\"startlinecolor\":\"#2a3f5f\"},\"baxis\":{\"endlinecolor\":\"#2a3f5f\",\"gridcolor\":\"white\",\"linecolor\":\"white\",\"minorgridcolor\":\"white\",\"startlinecolor\":\"#2a3f5f\"},\"type\":\"carpet\"}],\"table\":[{\"cells\":{\"fill\":{\"color\":\"#EBF0F8\"},\"line\":{\"color\":\"white\"}},\"header\":{\"fill\":{\"color\":\"#C8D4E3\"},\"line\":{\"color\":\"white\"}},\"type\":\"table\"}],\"barpolar\":[{\"marker\":{\"line\":{\"color\":\"#E5ECF6\",\"width\":0.5},\"pattern\":{\"fillmode\":\"overlay\",\"size\":10,\"solidity\":0.2}},\"type\":\"barpolar\"}],\"pie\":[{\"automargin\":true,\"type\":\"pie\"}]},\"layout\":{\"autotypenumbers\":\"strict\",\"colorway\":[\"#636efa\",\"#EF553B\",\"#00cc96\",\"#ab63fa\",\"#FFA15A\",\"#19d3f3\",\"#FF6692\",\"#B6E880\",\"#FF97FF\",\"#FECB52\"],\"font\":{\"color\":\"#2a3f5f\"},\"hovermode\":\"closest\",\"hoverlabel\":{\"align\":\"left\"},\"paper_bgcolor\":\"white\",\"plot_bgcolor\":\"#E5ECF6\",\"polar\":{\"bgcolor\":\"#E5ECF6\",\"angularaxis\":{\"gridcolor\":\"white\",\"linecolor\":\"white\",\"ticks\":\"\"},\"radialaxis\":{\"gridcolor\":\"white\",\"linecolor\":\"white\",\"ticks\":\"\"}},\"ternary\":{\"bgcolor\":\"#E5ECF6\",\"aaxis\":{\"gridcolor\":\"white\",\"linecolor\":\"white\",\"ticks\":\"\"},\"baxis\":{\"gridcolor\":\"white\",\"linecolor\":\"white\",\"ticks\":\"\"},\"caxis\":{\"gridcolor\":\"white\",\"linecolor\":\"white\",\"ticks\":\"\"}},\"coloraxis\":{\"colorbar\":{\"outlinewidth\":0,\"ticks\":\"\"}},\"colorscale\":{\"sequential\":[[0.0,\"#0d0887\"],[0.1111111111111111,\"#46039f\"],[0.2222222222222222,\"#7201a8\"],[0.3333333333333333,\"#9c179e\"],[0.4444444444444444,\"#bd3786\"],[0.5555555555555556,\"#d8576b\"],[0.6666666666666666,\"#ed7953\"],[0.7777777777777778,\"#fb9f3a\"],[0.8888888888888888,\"#fdca26\"],[1.0,\"#f0f921\"]],\"sequentialminus\":[[0.0,\"#0d0887\"],[0.1111111111111111,\"#46039f\"],[0.2222222222222222,\"#7201a8\"],[0.3333333333333333,\"#9c179e\"],[0.4444444444444444,\"#bd3786\"],[0.5555555555555556,\"#d8576b\"],[0.6666666666666666,\"#ed7953\"],[0.7777777777777778,\"#fb9f3a\"],[0.8888888888888888,\"#fdca26\"],[1.0,\"#f0f921\"]],\"diverging\":[[0,\"#8e0152\"],[0.1,\"#c51b7d\"],[0.2,\"#de77ae\"],[0.3,\"#f1b6da\"],[0.4,\"#fde0ef\"],[0.5,\"#f7f7f7\"],[0.6,\"#e6f5d0\"],[0.7,\"#b8e186\"],[0.8,\"#7fbc41\"],[0.9,\"#4d9221\"],[1,\"#276419\"]]},\"xaxis\":{\"gridcolor\":\"white\",\"linecolor\":\"white\",\"ticks\":\"\",\"title\":{\"standoff\":15},\"zerolinecolor\":\"white\",\"automargin\":true,\"zerolinewidth\":2},\"yaxis\":{\"gridcolor\":\"white\",\"linecolor\":\"white\",\"ticks\":\"\",\"title\":{\"standoff\":15},\"zerolinecolor\":\"white\",\"automargin\":true,\"zerolinewidth\":2},\"scene\":{\"xaxis\":{\"backgroundcolor\":\"#E5ECF6\",\"gridcolor\":\"white\",\"linecolor\":\"white\",\"showbackground\":true,\"ticks\":\"\",\"zerolinecolor\":\"white\",\"gridwidth\":2},\"yaxis\":{\"backgroundcolor\":\"#E5ECF6\",\"gridcolor\":\"white\",\"linecolor\":\"white\",\"showbackground\":true,\"ticks\":\"\",\"zerolinecolor\":\"white\",\"gridwidth\":2},\"zaxis\":{\"backgroundcolor\":\"#E5ECF6\",\"gridcolor\":\"white\",\"linecolor\":\"white\",\"showbackground\":true,\"ticks\":\"\",\"zerolinecolor\":\"white\",\"gridwidth\":2}},\"shapedefaults\":{\"line\":{\"color\":\"#2a3f5f\"}},\"annotationdefaults\":{\"arrowcolor\":\"#2a3f5f\",\"arrowhead\":0,\"arrowwidth\":1},\"geo\":{\"bgcolor\":\"white\",\"landcolor\":\"#E5ECF6\",\"subunitcolor\":\"white\",\"showland\":true,\"showlakes\":true,\"lakecolor\":\"white\"},\"title\":{\"x\":0.05},\"mapbox\":{\"style\":\"light\"}}},\"xaxis\":{\"anchor\":\"y\",\"domain\":[0.0,1.0],\"title\":{\"text\":\"source\"},\"categoryorder\":\"total ascending\"},\"yaxis\":{\"anchor\":\"x\",\"domain\":[0.0,1.0],\"title\":{\"text\":\"count\"}},\"legend\":{\"tracegroupgap\":0},\"title\":{\"text\":\"Count of Protein Sources, that are currently contained in the Studies in the Database.\"},\"barmode\":\"relative\"},                        {\"responsive\": true}                    ).then(function(){\n",
       "                            \n",
       "var gd = document.getElementById('d2c26750-6e30-4de4-9555-ddbb99167606');\n",
       "var x = new MutationObserver(function (mutations, observer) {{\n",
       "        var display = window.getComputedStyle(gd).display;\n",
       "        if (!display || display === 'none') {{\n",
       "            console.log([gd, 'removed!']);\n",
       "            Plotly.purge(gd);\n",
       "            observer.disconnect();\n",
       "        }}\n",
       "}});\n",
       "\n",
       "// Listen for the removal of the full notebook cells\n",
       "var notebookContainer = gd.closest('#notebook-container');\n",
       "if (notebookContainer) {{\n",
       "    x.observe(notebookContainer, {childList: true});\n",
       "}}\n",
       "\n",
       "// Listen for the clearing of the current output cell\n",
       "var outputEl = gd.closest('.output');\n",
       "if (outputEl) {{\n",
       "    x.observe(outputEl, {childList: true});\n",
       "}}\n",
       "\n",
       "                        })                };                });            </script>        </div>"
      ]
     },
     "metadata": {},
     "output_type": "display_data"
    }
   ],
   "source": [
    "fig = px.histogram(df_studies,\n",
    "                 x = df_studies.index, \n",
    "                   color_discrete_sequence=oslo_rgb,\n",
    "\n",
    "                  title = ('Count of Protein Sources, that are currently contained in the Studies in the Database.')\n",
    "                  )\n",
    "fig.update_layout(xaxis={'categoryorder':'total ascending'})\n",
    "fig.show()\n",
    "# fig.write_html(\"CountStudySources3.html\")"
   ]
  },
  {
   "cell_type": "markdown",
   "id": "0fd25733",
   "metadata": {},
   "source": [
    "## Show missing data as heatmap (plotly)"
   ]
  },
  {
   "cell_type": "code",
   "execution_count": 28,
   "id": "281a627f",
   "metadata": {},
   "outputs": [
    {
     "data": {
      "application/vnd.plotly.v1+json": {
       "config": {
        "plotlyServerURL": "https://plot.ly"
       },
       "data": [
        {
         "coloraxis": "coloraxis",
         "hovertemplate": "x: %{x}<br>source: %{y}<br>color: %{z}<extra></extra>",
         "name": "0",
         "type": "heatmap",
         "x": [
          "FOODON",
          "Studie",
          "Erfasst durch",
          "Datum der Studie (Jahr)",
          "Systemgrenzen/Beschreibung",
          "Geography",
          "Funktionelle Einheit",
          "Anbau (Pestizide, Dünger, ...) - für pflanzliche LM",
          "Aufzucht (Futter, Platz, …) - für tierische LM",
          "Allokation (ökonomisch oder energiegerichtet)",
          "GWP, kg CO2-EQ/kg product",
          "Bermerkung zu GWP",
          "EU, Fossil energy use, MJ/kg product",
          "Bemerkung zu EU",
          "LU, Land use, m2/Jahr",
          "Bemerkung zu LU",
          "TAP, terrestrial acidification potential, g SO2-eq ",
          "Bemerkung zu TAP",
          "FEP, freshwater eutrophication potential, g P-eq ",
          "Bemerkung zu FEP",
          "Water Footprint (WF), m3/kg",
          "Bemerkung zu WF",
          "Marine eutrophication (ME), kg N eq /kg",
          "Bemerkung zu ME",
          "Ozone depletion (OD), kg CFC-11 eq/ kg",
          "Bemerkung zu OD",
          "Photochemical oxidant formation (POF), kg NMVOC eq/ kg",
          "Bemerkung zu POF",
          "Particulate matter formation (PMF), kg PM10 eq/ kg",
          "Bemerkung zuPMF",
          "Fossil depletion (FD), kg oil eq/ kg",
          "Bemerkung zu FD",
          "Verteilung über WSK-Stufen",
          "Dry Mass (DM) oder Fresh (F)",
          "Water [%]",
          "Protein [%]",
          "Fat [%]",
          "Fiber [%]",
          "Carbohydrates [%]",
          "Energy [kcal/100g]",
          "Ash [%]",
          "Magnesium (mg/100g)",
          "Zinc (mg/100g)",
          "Iron (mg/100g)",
          "Copper (mg/100g)",
          "Manganese (mg/100g)",
          "Calcium (mg/100g)",
          "Chloride (mg/100g)",
          "Potassium (mg/100g)",
          "Sodium (mg/100g)",
          "Phosphorus (mg/100g)",
          "Selenium (mg/100g)",
          "StudieNr"
         ],
         "xaxis": "x",
         "y": [
          "mealworm",
          "mealworm",
          "mealworm",
          "mealworm",
          "mealworm",
          "mealworm",
          "mealworm",
          "mealworm",
          "mealworm",
          "mealworm",
          "mealworm",
          "mealworm",
          "mealworm",
          "mealworm",
          "mealworm",
          "mealworm",
          "mealworm",
          "mealworm",
          "mealworm",
          "mealworm",
          "mealworm",
          "mealworm",
          "mealworm",
          "mealworm",
          "mealworm",
          "mealworm",
          "mealworm",
          "mealworm",
          "mealworm",
          "mealworm",
          "mealworm",
          "mealworm",
          "mealworm",
          "mealworm",
          "mealworm",
          "mealworm",
          "mealworm",
          "mealworm",
          "mealworm",
          "mealworm",
          "mealworm",
          "mealworm",
          "mealworm",
          "mealworm",
          "mealworm",
          "mealworm",
          "mealworm",
          "mealworm",
          "mealworm",
          "mealworm",
          "mealworm",
          "mealworm",
          "mealworm",
          "mealworm",
          "mealworm",
          "mealworm",
          "mealworm",
          "mealworm",
          "mealworm",
          "mealworm",
          "mealworm",
          "mealworm",
          "mealworm",
          "mealworm",
          "grasshopper",
          "grasshopper",
          "grasshopper",
          "grasshopper",
          "snail",
          "snail",
          "snail",
          "snail",
          "snail",
          "snail",
          "snail",
          "snail",
          "snail",
          "snail",
          "snail",
          "snail",
          "snail",
          "snail",
          "snail",
          "snail",
          "ant",
          "ant",
          "ant",
          "ant",
          "ant",
          "ant",
          "ant",
          "ant",
          "ant",
          "seaweed",
          "seaweed",
          "seaweed",
          "seaweed"
         ],
         "yaxis": "y",
         "z": [
          [
           0,
           0,
           255,
           0,
           0,
           0,
           0,
           255,
           0,
           0,
           0,
           0,
           0,
           0,
           0,
           0,
           0,
           0,
           0,
           0,
           255,
           255,
           255,
           255,
           255,
           255,
           255,
           255,
           255,
           255,
           255,
           255,
           255,
           0,
           255,
           0,
           255,
           255,
           255,
           255,
           255,
           255,
           255,
           255,
           255,
           255,
           255,
           255,
           255,
           255,
           255,
           255,
           0
          ],
          [
           0,
           0,
           255,
           0,
           255,
           255,
           255,
           255,
           255,
           255,
           255,
           255,
           255,
           255,
           255,
           255,
           255,
           255,
           255,
           255,
           255,
           255,
           255,
           255,
           255,
           255,
           255,
           255,
           255,
           255,
           255,
           255,
           255,
           0,
           0,
           0,
           0,
           255,
           255,
           255,
           0,
           0,
           0,
           0,
           0,
           0,
           255,
           255,
           255,
           255,
           255,
           255,
           0
          ],
          [
           0,
           0,
           255,
           0,
           0,
           0,
           0,
           255,
           0,
           0,
           0,
           0,
           0,
           0,
           0,
           0,
           255,
           255,
           255,
           255,
           255,
           255,
           255,
           255,
           255,
           255,
           255,
           255,
           255,
           255,
           255,
           255,
           255,
           0,
           255,
           0,
           255,
           255,
           255,
           255,
           255,
           255,
           255,
           255,
           255,
           255,
           255,
           255,
           255,
           255,
           255,
           255,
           0
          ],
          [
           0,
           0,
           255,
           0,
           0,
           0,
           0,
           255,
           255,
           0,
           0,
           0,
           0,
           0,
           0,
           0,
           255,
           255,
           255,
           255,
           255,
           255,
           255,
           255,
           255,
           255,
           255,
           255,
           255,
           255,
           255,
           255,
           255,
           0,
           255,
           0,
           255,
           255,
           255,
           255,
           255,
           255,
           255,
           255,
           255,
           255,
           255,
           255,
           255,
           255,
           255,
           255,
           0
          ],
          [
           0,
           0,
           255,
           0,
           0,
           0,
           0,
           255,
           0,
           255,
           255,
           255,
           255,
           255,
           255,
           255,
           255,
           255,
           255,
           255,
           0,
           0,
           255,
           255,
           255,
           255,
           255,
           255,
           255,
           255,
           255,
           255,
           255,
           255,
           255,
           255,
           255,
           255,
           255,
           255,
           255,
           255,
           255,
           255,
           255,
           255,
           255,
           255,
           255,
           255,
           255,
           255,
           0
          ],
          [
           0,
           0,
           255,
           0,
           255,
           255,
           0,
           255,
           255,
           255,
           255,
           255,
           255,
           255,
           255,
           255,
           255,
           255,
           255,
           255,
           255,
           255,
           255,
           255,
           255,
           255,
           255,
           255,
           255,
           255,
           255,
           255,
           255,
           0,
           0,
           0,
           0,
           255,
           255,
           255,
           0,
           0,
           0,
           0,
           255,
           0,
           0,
           0,
           0,
           0,
           0,
           0,
           0
          ],
          [
           0,
           0,
           255,
           0,
           255,
           0,
           255,
           255,
           0,
           255,
           255,
           255,
           255,
           255,
           255,
           255,
           255,
           255,
           255,
           255,
           255,
           255,
           255,
           255,
           255,
           255,
           255,
           255,
           255,
           255,
           255,
           255,
           255,
           0,
           0,
           0,
           0,
           0,
           255,
           255,
           0,
           0,
           0,
           0,
           0,
           255,
           0,
           255,
           0,
           255,
           0,
           255,
           0
          ],
          [
           0,
           0,
           255,
           0,
           255,
           255,
           255,
           255,
           0,
           255,
           255,
           255,
           255,
           255,
           255,
           255,
           255,
           255,
           255,
           255,
           255,
           255,
           255,
           255,
           255,
           255,
           255,
           255,
           255,
           255,
           255,
           255,
           255,
           0,
           0,
           0,
           0,
           255,
           255,
           255,
           0,
           255,
           255,
           255,
           255,
           255,
           255,
           255,
           255,
           255,
           255,
           255,
           0
          ],
          [
           0,
           0,
           255,
           0,
           0,
           0,
           0,
           255,
           0,
           0,
           0,
           0,
           0,
           0,
           0,
           0,
           0,
           0,
           0,
           0,
           255,
           255,
           255,
           255,
           255,
           255,
           255,
           255,
           255,
           255,
           255,
           255,
           255,
           0,
           255,
           0,
           255,
           255,
           255,
           255,
           255,
           255,
           255,
           255,
           255,
           255,
           255,
           255,
           255,
           255,
           255,
           255,
           0
          ],
          [
           0,
           0,
           255,
           0,
           255,
           255,
           255,
           255,
           255,
           255,
           255,
           255,
           255,
           255,
           255,
           255,
           255,
           255,
           255,
           255,
           255,
           255,
           255,
           255,
           255,
           255,
           255,
           255,
           255,
           255,
           255,
           255,
           255,
           0,
           0,
           0,
           0,
           255,
           255,
           255,
           0,
           0,
           0,
           0,
           0,
           0,
           255,
           255,
           255,
           255,
           255,
           255,
           0
          ],
          [
           0,
           0,
           255,
           0,
           0,
           0,
           0,
           255,
           0,
           0,
           0,
           0,
           0,
           0,
           0,
           0,
           255,
           255,
           255,
           255,
           255,
           255,
           255,
           255,
           255,
           255,
           255,
           255,
           255,
           255,
           255,
           255,
           255,
           0,
           255,
           0,
           255,
           255,
           255,
           255,
           255,
           255,
           255,
           255,
           255,
           255,
           255,
           255,
           255,
           255,
           255,
           255,
           0
          ],
          [
           0,
           0,
           255,
           0,
           0,
           0,
           0,
           255,
           255,
           0,
           0,
           0,
           0,
           0,
           0,
           0,
           255,
           255,
           255,
           255,
           255,
           255,
           255,
           255,
           255,
           255,
           255,
           255,
           255,
           255,
           255,
           255,
           255,
           0,
           255,
           0,
           255,
           255,
           255,
           255,
           255,
           255,
           255,
           255,
           255,
           255,
           255,
           255,
           255,
           255,
           255,
           255,
           0
          ],
          [
           0,
           0,
           255,
           0,
           0,
           0,
           0,
           255,
           0,
           255,
           255,
           255,
           255,
           255,
           255,
           255,
           255,
           255,
           255,
           255,
           0,
           0,
           255,
           255,
           255,
           255,
           255,
           255,
           255,
           255,
           255,
           255,
           255,
           255,
           255,
           255,
           255,
           255,
           255,
           255,
           255,
           255,
           255,
           255,
           255,
           255,
           255,
           255,
           255,
           255,
           255,
           255,
           0
          ],
          [
           0,
           0,
           255,
           0,
           255,
           255,
           0,
           255,
           255,
           255,
           255,
           255,
           255,
           255,
           255,
           255,
           255,
           255,
           255,
           255,
           255,
           255,
           255,
           255,
           255,
           255,
           255,
           255,
           255,
           255,
           255,
           255,
           255,
           0,
           0,
           0,
           0,
           255,
           255,
           255,
           0,
           0,
           0,
           0,
           255,
           0,
           0,
           0,
           0,
           0,
           0,
           0,
           0
          ],
          [
           0,
           0,
           255,
           0,
           255,
           0,
           255,
           255,
           0,
           255,
           255,
           255,
           255,
           255,
           255,
           255,
           255,
           255,
           255,
           255,
           255,
           255,
           255,
           255,
           255,
           255,
           255,
           255,
           255,
           255,
           255,
           255,
           255,
           0,
           0,
           0,
           0,
           0,
           255,
           255,
           0,
           0,
           0,
           0,
           0,
           255,
           0,
           255,
           0,
           255,
           0,
           255,
           0
          ],
          [
           0,
           0,
           255,
           0,
           255,
           255,
           255,
           255,
           0,
           255,
           255,
           255,
           255,
           255,
           255,
           255,
           255,
           255,
           255,
           255,
           255,
           255,
           255,
           255,
           255,
           255,
           255,
           255,
           255,
           255,
           255,
           255,
           255,
           0,
           0,
           0,
           0,
           255,
           255,
           255,
           0,
           255,
           255,
           255,
           255,
           255,
           255,
           255,
           255,
           255,
           255,
           255,
           0
          ],
          [
           0,
           0,
           255,
           0,
           0,
           0,
           0,
           255,
           0,
           0,
           0,
           0,
           0,
           0,
           0,
           0,
           0,
           0,
           0,
           0,
           255,
           255,
           255,
           255,
           255,
           255,
           255,
           255,
           255,
           255,
           255,
           255,
           255,
           0,
           255,
           0,
           255,
           255,
           255,
           255,
           255,
           255,
           255,
           255,
           255,
           255,
           255,
           255,
           255,
           255,
           255,
           255,
           0
          ],
          [
           0,
           0,
           255,
           0,
           255,
           255,
           255,
           255,
           255,
           255,
           255,
           255,
           255,
           255,
           255,
           255,
           255,
           255,
           255,
           255,
           255,
           255,
           255,
           255,
           255,
           255,
           255,
           255,
           255,
           255,
           255,
           255,
           255,
           0,
           0,
           0,
           0,
           255,
           255,
           255,
           0,
           0,
           0,
           0,
           0,
           0,
           255,
           255,
           255,
           255,
           255,
           255,
           0
          ],
          [
           0,
           0,
           255,
           0,
           0,
           0,
           0,
           255,
           0,
           0,
           0,
           0,
           0,
           0,
           0,
           0,
           255,
           255,
           255,
           255,
           255,
           255,
           255,
           255,
           255,
           255,
           255,
           255,
           255,
           255,
           255,
           255,
           255,
           0,
           255,
           0,
           255,
           255,
           255,
           255,
           255,
           255,
           255,
           255,
           255,
           255,
           255,
           255,
           255,
           255,
           255,
           255,
           0
          ],
          [
           0,
           0,
           255,
           0,
           0,
           0,
           0,
           255,
           255,
           0,
           0,
           0,
           0,
           0,
           0,
           0,
           255,
           255,
           255,
           255,
           255,
           255,
           255,
           255,
           255,
           255,
           255,
           255,
           255,
           255,
           255,
           255,
           255,
           0,
           255,
           0,
           255,
           255,
           255,
           255,
           255,
           255,
           255,
           255,
           255,
           255,
           255,
           255,
           255,
           255,
           255,
           255,
           0
          ],
          [
           0,
           0,
           255,
           0,
           0,
           0,
           0,
           255,
           0,
           255,
           255,
           255,
           255,
           255,
           255,
           255,
           255,
           255,
           255,
           255,
           0,
           0,
           255,
           255,
           255,
           255,
           255,
           255,
           255,
           255,
           255,
           255,
           255,
           255,
           255,
           255,
           255,
           255,
           255,
           255,
           255,
           255,
           255,
           255,
           255,
           255,
           255,
           255,
           255,
           255,
           255,
           255,
           0
          ],
          [
           0,
           0,
           255,
           0,
           255,
           255,
           0,
           255,
           255,
           255,
           255,
           255,
           255,
           255,
           255,
           255,
           255,
           255,
           255,
           255,
           255,
           255,
           255,
           255,
           255,
           255,
           255,
           255,
           255,
           255,
           255,
           255,
           255,
           0,
           0,
           0,
           0,
           255,
           255,
           255,
           0,
           0,
           0,
           0,
           255,
           0,
           0,
           0,
           0,
           0,
           0,
           0,
           0
          ],
          [
           0,
           0,
           255,
           0,
           255,
           0,
           255,
           255,
           0,
           255,
           255,
           255,
           255,
           255,
           255,
           255,
           255,
           255,
           255,
           255,
           255,
           255,
           255,
           255,
           255,
           255,
           255,
           255,
           255,
           255,
           255,
           255,
           255,
           0,
           0,
           0,
           0,
           0,
           255,
           255,
           0,
           0,
           0,
           0,
           0,
           255,
           0,
           255,
           0,
           255,
           0,
           255,
           0
          ],
          [
           0,
           0,
           255,
           0,
           255,
           255,
           255,
           255,
           0,
           255,
           255,
           255,
           255,
           255,
           255,
           255,
           255,
           255,
           255,
           255,
           255,
           255,
           255,
           255,
           255,
           255,
           255,
           255,
           255,
           255,
           255,
           255,
           255,
           0,
           0,
           0,
           0,
           255,
           255,
           255,
           0,
           255,
           255,
           255,
           255,
           255,
           255,
           255,
           255,
           255,
           255,
           255,
           0
          ],
          [
           0,
           0,
           255,
           0,
           0,
           0,
           0,
           255,
           0,
           0,
           0,
           0,
           0,
           0,
           0,
           0,
           0,
           0,
           0,
           0,
           255,
           255,
           255,
           255,
           255,
           255,
           255,
           255,
           255,
           255,
           255,
           255,
           255,
           0,
           255,
           0,
           255,
           255,
           255,
           255,
           255,
           255,
           255,
           255,
           255,
           255,
           255,
           255,
           255,
           255,
           255,
           255,
           0
          ],
          [
           0,
           0,
           255,
           0,
           255,
           255,
           255,
           255,
           255,
           255,
           255,
           255,
           255,
           255,
           255,
           255,
           255,
           255,
           255,
           255,
           255,
           255,
           255,
           255,
           255,
           255,
           255,
           255,
           255,
           255,
           255,
           255,
           255,
           0,
           0,
           0,
           0,
           255,
           255,
           255,
           0,
           0,
           0,
           0,
           0,
           0,
           255,
           255,
           255,
           255,
           255,
           255,
           0
          ],
          [
           0,
           0,
           255,
           0,
           0,
           0,
           0,
           255,
           0,
           0,
           0,
           0,
           0,
           0,
           0,
           0,
           255,
           255,
           255,
           255,
           255,
           255,
           255,
           255,
           255,
           255,
           255,
           255,
           255,
           255,
           255,
           255,
           255,
           0,
           255,
           0,
           255,
           255,
           255,
           255,
           255,
           255,
           255,
           255,
           255,
           255,
           255,
           255,
           255,
           255,
           255,
           255,
           0
          ],
          [
           0,
           0,
           255,
           0,
           0,
           0,
           0,
           255,
           255,
           0,
           0,
           0,
           0,
           0,
           0,
           0,
           255,
           255,
           255,
           255,
           255,
           255,
           255,
           255,
           255,
           255,
           255,
           255,
           255,
           255,
           255,
           255,
           255,
           0,
           255,
           0,
           255,
           255,
           255,
           255,
           255,
           255,
           255,
           255,
           255,
           255,
           255,
           255,
           255,
           255,
           255,
           255,
           0
          ],
          [
           0,
           0,
           255,
           0,
           0,
           0,
           0,
           255,
           0,
           255,
           255,
           255,
           255,
           255,
           255,
           255,
           255,
           255,
           255,
           255,
           0,
           0,
           255,
           255,
           255,
           255,
           255,
           255,
           255,
           255,
           255,
           255,
           255,
           255,
           255,
           255,
           255,
           255,
           255,
           255,
           255,
           255,
           255,
           255,
           255,
           255,
           255,
           255,
           255,
           255,
           255,
           255,
           0
          ],
          [
           0,
           0,
           255,
           0,
           255,
           255,
           0,
           255,
           255,
           255,
           255,
           255,
           255,
           255,
           255,
           255,
           255,
           255,
           255,
           255,
           255,
           255,
           255,
           255,
           255,
           255,
           255,
           255,
           255,
           255,
           255,
           255,
           255,
           0,
           0,
           0,
           0,
           255,
           255,
           255,
           0,
           0,
           0,
           0,
           255,
           0,
           0,
           0,
           0,
           0,
           0,
           0,
           0
          ],
          [
           0,
           0,
           255,
           0,
           255,
           0,
           255,
           255,
           0,
           255,
           255,
           255,
           255,
           255,
           255,
           255,
           255,
           255,
           255,
           255,
           255,
           255,
           255,
           255,
           255,
           255,
           255,
           255,
           255,
           255,
           255,
           255,
           255,
           0,
           0,
           0,
           0,
           0,
           255,
           255,
           0,
           0,
           0,
           0,
           0,
           255,
           0,
           255,
           0,
           255,
           0,
           255,
           0
          ],
          [
           0,
           0,
           255,
           0,
           255,
           255,
           255,
           255,
           0,
           255,
           255,
           255,
           255,
           255,
           255,
           255,
           255,
           255,
           255,
           255,
           255,
           255,
           255,
           255,
           255,
           255,
           255,
           255,
           255,
           255,
           255,
           255,
           255,
           0,
           0,
           0,
           0,
           255,
           255,
           255,
           0,
           255,
           255,
           255,
           255,
           255,
           255,
           255,
           255,
           255,
           255,
           255,
           0
          ],
          [
           0,
           0,
           255,
           0,
           0,
           0,
           0,
           255,
           0,
           0,
           0,
           0,
           0,
           0,
           0,
           0,
           0,
           0,
           0,
           0,
           255,
           255,
           255,
           255,
           255,
           255,
           255,
           255,
           255,
           255,
           255,
           255,
           255,
           0,
           255,
           0,
           255,
           255,
           255,
           255,
           255,
           255,
           255,
           255,
           255,
           255,
           255,
           255,
           255,
           255,
           255,
           255,
           0
          ],
          [
           0,
           0,
           255,
           0,
           255,
           255,
           255,
           255,
           255,
           255,
           255,
           255,
           255,
           255,
           255,
           255,
           255,
           255,
           255,
           255,
           255,
           255,
           255,
           255,
           255,
           255,
           255,
           255,
           255,
           255,
           255,
           255,
           255,
           0,
           0,
           0,
           0,
           255,
           255,
           255,
           0,
           0,
           0,
           0,
           0,
           0,
           255,
           255,
           255,
           255,
           255,
           255,
           0
          ],
          [
           0,
           0,
           255,
           0,
           0,
           0,
           0,
           255,
           0,
           0,
           0,
           0,
           0,
           0,
           0,
           0,
           255,
           255,
           255,
           255,
           255,
           255,
           255,
           255,
           255,
           255,
           255,
           255,
           255,
           255,
           255,
           255,
           255,
           0,
           255,
           0,
           255,
           255,
           255,
           255,
           255,
           255,
           255,
           255,
           255,
           255,
           255,
           255,
           255,
           255,
           255,
           255,
           0
          ],
          [
           0,
           0,
           255,
           0,
           0,
           0,
           0,
           255,
           255,
           0,
           0,
           0,
           0,
           0,
           0,
           0,
           255,
           255,
           255,
           255,
           255,
           255,
           255,
           255,
           255,
           255,
           255,
           255,
           255,
           255,
           255,
           255,
           255,
           0,
           255,
           0,
           255,
           255,
           255,
           255,
           255,
           255,
           255,
           255,
           255,
           255,
           255,
           255,
           255,
           255,
           255,
           255,
           0
          ],
          [
           0,
           0,
           255,
           0,
           0,
           0,
           0,
           255,
           0,
           255,
           255,
           255,
           255,
           255,
           255,
           255,
           255,
           255,
           255,
           255,
           0,
           0,
           255,
           255,
           255,
           255,
           255,
           255,
           255,
           255,
           255,
           255,
           255,
           255,
           255,
           255,
           255,
           255,
           255,
           255,
           255,
           255,
           255,
           255,
           255,
           255,
           255,
           255,
           255,
           255,
           255,
           255,
           0
          ],
          [
           0,
           0,
           255,
           0,
           255,
           255,
           0,
           255,
           255,
           255,
           255,
           255,
           255,
           255,
           255,
           255,
           255,
           255,
           255,
           255,
           255,
           255,
           255,
           255,
           255,
           255,
           255,
           255,
           255,
           255,
           255,
           255,
           255,
           0,
           0,
           0,
           0,
           255,
           255,
           255,
           0,
           0,
           0,
           0,
           255,
           0,
           0,
           0,
           0,
           0,
           0,
           0,
           0
          ],
          [
           0,
           0,
           255,
           0,
           255,
           0,
           255,
           255,
           0,
           255,
           255,
           255,
           255,
           255,
           255,
           255,
           255,
           255,
           255,
           255,
           255,
           255,
           255,
           255,
           255,
           255,
           255,
           255,
           255,
           255,
           255,
           255,
           255,
           0,
           0,
           0,
           0,
           0,
           255,
           255,
           0,
           0,
           0,
           0,
           0,
           255,
           0,
           255,
           0,
           255,
           0,
           255,
           0
          ],
          [
           0,
           0,
           255,
           0,
           255,
           255,
           255,
           255,
           0,
           255,
           255,
           255,
           255,
           255,
           255,
           255,
           255,
           255,
           255,
           255,
           255,
           255,
           255,
           255,
           255,
           255,
           255,
           255,
           255,
           255,
           255,
           255,
           255,
           0,
           0,
           0,
           0,
           255,
           255,
           255,
           0,
           255,
           255,
           255,
           255,
           255,
           255,
           255,
           255,
           255,
           255,
           255,
           0
          ],
          [
           0,
           0,
           255,
           0,
           0,
           0,
           0,
           255,
           0,
           0,
           0,
           0,
           0,
           0,
           0,
           0,
           0,
           0,
           0,
           0,
           255,
           255,
           255,
           255,
           255,
           255,
           255,
           255,
           255,
           255,
           255,
           255,
           255,
           0,
           255,
           0,
           255,
           255,
           255,
           255,
           255,
           255,
           255,
           255,
           255,
           255,
           255,
           255,
           255,
           255,
           255,
           255,
           0
          ],
          [
           0,
           0,
           255,
           0,
           255,
           255,
           255,
           255,
           255,
           255,
           255,
           255,
           255,
           255,
           255,
           255,
           255,
           255,
           255,
           255,
           255,
           255,
           255,
           255,
           255,
           255,
           255,
           255,
           255,
           255,
           255,
           255,
           255,
           0,
           0,
           0,
           0,
           255,
           255,
           255,
           0,
           0,
           0,
           0,
           0,
           0,
           255,
           255,
           255,
           255,
           255,
           255,
           0
          ],
          [
           0,
           0,
           255,
           0,
           0,
           0,
           0,
           255,
           0,
           0,
           0,
           0,
           0,
           0,
           0,
           0,
           255,
           255,
           255,
           255,
           255,
           255,
           255,
           255,
           255,
           255,
           255,
           255,
           255,
           255,
           255,
           255,
           255,
           0,
           255,
           0,
           255,
           255,
           255,
           255,
           255,
           255,
           255,
           255,
           255,
           255,
           255,
           255,
           255,
           255,
           255,
           255,
           0
          ],
          [
           0,
           0,
           255,
           0,
           0,
           0,
           0,
           255,
           255,
           0,
           0,
           0,
           0,
           0,
           0,
           0,
           255,
           255,
           255,
           255,
           255,
           255,
           255,
           255,
           255,
           255,
           255,
           255,
           255,
           255,
           255,
           255,
           255,
           0,
           255,
           0,
           255,
           255,
           255,
           255,
           255,
           255,
           255,
           255,
           255,
           255,
           255,
           255,
           255,
           255,
           255,
           255,
           0
          ],
          [
           0,
           0,
           255,
           0,
           0,
           0,
           0,
           255,
           0,
           255,
           255,
           255,
           255,
           255,
           255,
           255,
           255,
           255,
           255,
           255,
           0,
           0,
           255,
           255,
           255,
           255,
           255,
           255,
           255,
           255,
           255,
           255,
           255,
           255,
           255,
           255,
           255,
           255,
           255,
           255,
           255,
           255,
           255,
           255,
           255,
           255,
           255,
           255,
           255,
           255,
           255,
           255,
           0
          ],
          [
           0,
           0,
           255,
           0,
           255,
           255,
           0,
           255,
           255,
           255,
           255,
           255,
           255,
           255,
           255,
           255,
           255,
           255,
           255,
           255,
           255,
           255,
           255,
           255,
           255,
           255,
           255,
           255,
           255,
           255,
           255,
           255,
           255,
           0,
           0,
           0,
           0,
           255,
           255,
           255,
           0,
           0,
           0,
           0,
           255,
           0,
           0,
           0,
           0,
           0,
           0,
           0,
           0
          ],
          [
           0,
           0,
           255,
           0,
           255,
           0,
           255,
           255,
           0,
           255,
           255,
           255,
           255,
           255,
           255,
           255,
           255,
           255,
           255,
           255,
           255,
           255,
           255,
           255,
           255,
           255,
           255,
           255,
           255,
           255,
           255,
           255,
           255,
           0,
           0,
           0,
           0,
           0,
           255,
           255,
           0,
           0,
           0,
           0,
           0,
           255,
           0,
           255,
           0,
           255,
           0,
           255,
           0
          ],
          [
           0,
           0,
           255,
           0,
           255,
           255,
           255,
           255,
           0,
           255,
           255,
           255,
           255,
           255,
           255,
           255,
           255,
           255,
           255,
           255,
           255,
           255,
           255,
           255,
           255,
           255,
           255,
           255,
           255,
           255,
           255,
           255,
           255,
           0,
           0,
           0,
           0,
           255,
           255,
           255,
           0,
           255,
           255,
           255,
           255,
           255,
           255,
           255,
           255,
           255,
           255,
           255,
           0
          ],
          [
           0,
           0,
           255,
           0,
           0,
           0,
           0,
           255,
           0,
           0,
           0,
           0,
           0,
           0,
           0,
           0,
           0,
           0,
           0,
           0,
           255,
           255,
           255,
           255,
           255,
           255,
           255,
           255,
           255,
           255,
           255,
           255,
           255,
           0,
           255,
           0,
           255,
           255,
           255,
           255,
           255,
           255,
           255,
           255,
           255,
           255,
           255,
           255,
           255,
           255,
           255,
           255,
           0
          ],
          [
           0,
           0,
           255,
           0,
           255,
           255,
           255,
           255,
           255,
           255,
           255,
           255,
           255,
           255,
           255,
           255,
           255,
           255,
           255,
           255,
           255,
           255,
           255,
           255,
           255,
           255,
           255,
           255,
           255,
           255,
           255,
           255,
           255,
           0,
           0,
           0,
           0,
           255,
           255,
           255,
           0,
           0,
           0,
           0,
           0,
           0,
           255,
           255,
           255,
           255,
           255,
           255,
           0
          ],
          [
           0,
           0,
           255,
           0,
           0,
           0,
           0,
           255,
           0,
           0,
           0,
           0,
           0,
           0,
           0,
           0,
           255,
           255,
           255,
           255,
           255,
           255,
           255,
           255,
           255,
           255,
           255,
           255,
           255,
           255,
           255,
           255,
           255,
           0,
           255,
           0,
           255,
           255,
           255,
           255,
           255,
           255,
           255,
           255,
           255,
           255,
           255,
           255,
           255,
           255,
           255,
           255,
           0
          ],
          [
           0,
           0,
           255,
           0,
           0,
           0,
           0,
           255,
           255,
           0,
           0,
           0,
           0,
           0,
           0,
           0,
           255,
           255,
           255,
           255,
           255,
           255,
           255,
           255,
           255,
           255,
           255,
           255,
           255,
           255,
           255,
           255,
           255,
           0,
           255,
           0,
           255,
           255,
           255,
           255,
           255,
           255,
           255,
           255,
           255,
           255,
           255,
           255,
           255,
           255,
           255,
           255,
           0
          ],
          [
           0,
           0,
           255,
           0,
           0,
           0,
           0,
           255,
           0,
           255,
           255,
           255,
           255,
           255,
           255,
           255,
           255,
           255,
           255,
           255,
           0,
           0,
           255,
           255,
           255,
           255,
           255,
           255,
           255,
           255,
           255,
           255,
           255,
           255,
           255,
           255,
           255,
           255,
           255,
           255,
           255,
           255,
           255,
           255,
           255,
           255,
           255,
           255,
           255,
           255,
           255,
           255,
           0
          ],
          [
           0,
           0,
           255,
           0,
           255,
           255,
           0,
           255,
           255,
           255,
           255,
           255,
           255,
           255,
           255,
           255,
           255,
           255,
           255,
           255,
           255,
           255,
           255,
           255,
           255,
           255,
           255,
           255,
           255,
           255,
           255,
           255,
           255,
           0,
           0,
           0,
           0,
           255,
           255,
           255,
           0,
           0,
           0,
           0,
           255,
           0,
           0,
           0,
           0,
           0,
           0,
           0,
           0
          ],
          [
           0,
           0,
           255,
           0,
           255,
           0,
           255,
           255,
           0,
           255,
           255,
           255,
           255,
           255,
           255,
           255,
           255,
           255,
           255,
           255,
           255,
           255,
           255,
           255,
           255,
           255,
           255,
           255,
           255,
           255,
           255,
           255,
           255,
           0,
           0,
           0,
           0,
           0,
           255,
           255,
           0,
           0,
           0,
           0,
           0,
           255,
           0,
           255,
           0,
           255,
           0,
           255,
           0
          ],
          [
           0,
           0,
           255,
           0,
           255,
           255,
           255,
           255,
           0,
           255,
           255,
           255,
           255,
           255,
           255,
           255,
           255,
           255,
           255,
           255,
           255,
           255,
           255,
           255,
           255,
           255,
           255,
           255,
           255,
           255,
           255,
           255,
           255,
           0,
           0,
           0,
           0,
           255,
           255,
           255,
           0,
           255,
           255,
           255,
           255,
           255,
           255,
           255,
           255,
           255,
           255,
           255,
           0
          ],
          [
           0,
           0,
           255,
           0,
           0,
           0,
           0,
           255,
           0,
           0,
           0,
           0,
           0,
           0,
           0,
           0,
           0,
           0,
           0,
           0,
           255,
           255,
           255,
           255,
           255,
           255,
           255,
           255,
           255,
           255,
           255,
           255,
           255,
           0,
           255,
           0,
           255,
           255,
           255,
           255,
           255,
           255,
           255,
           255,
           255,
           255,
           255,
           255,
           255,
           255,
           255,
           255,
           0
          ],
          [
           0,
           0,
           255,
           0,
           255,
           255,
           255,
           255,
           255,
           255,
           255,
           255,
           255,
           255,
           255,
           255,
           255,
           255,
           255,
           255,
           255,
           255,
           255,
           255,
           255,
           255,
           255,
           255,
           255,
           255,
           255,
           255,
           255,
           0,
           0,
           0,
           0,
           255,
           255,
           255,
           0,
           0,
           0,
           0,
           0,
           0,
           255,
           255,
           255,
           255,
           255,
           255,
           0
          ],
          [
           0,
           0,
           255,
           0,
           0,
           0,
           0,
           255,
           0,
           0,
           0,
           0,
           0,
           0,
           0,
           0,
           255,
           255,
           255,
           255,
           255,
           255,
           255,
           255,
           255,
           255,
           255,
           255,
           255,
           255,
           255,
           255,
           255,
           0,
           255,
           0,
           255,
           255,
           255,
           255,
           255,
           255,
           255,
           255,
           255,
           255,
           255,
           255,
           255,
           255,
           255,
           255,
           0
          ],
          [
           0,
           0,
           255,
           0,
           0,
           0,
           0,
           255,
           255,
           0,
           0,
           0,
           0,
           0,
           0,
           0,
           255,
           255,
           255,
           255,
           255,
           255,
           255,
           255,
           255,
           255,
           255,
           255,
           255,
           255,
           255,
           255,
           255,
           0,
           255,
           0,
           255,
           255,
           255,
           255,
           255,
           255,
           255,
           255,
           255,
           255,
           255,
           255,
           255,
           255,
           255,
           255,
           0
          ],
          [
           0,
           0,
           255,
           0,
           0,
           0,
           0,
           255,
           0,
           255,
           255,
           255,
           255,
           255,
           255,
           255,
           255,
           255,
           255,
           255,
           0,
           0,
           255,
           255,
           255,
           255,
           255,
           255,
           255,
           255,
           255,
           255,
           255,
           255,
           255,
           255,
           255,
           255,
           255,
           255,
           255,
           255,
           255,
           255,
           255,
           255,
           255,
           255,
           255,
           255,
           255,
           255,
           0
          ],
          [
           0,
           0,
           255,
           0,
           255,
           255,
           0,
           255,
           255,
           255,
           255,
           255,
           255,
           255,
           255,
           255,
           255,
           255,
           255,
           255,
           255,
           255,
           255,
           255,
           255,
           255,
           255,
           255,
           255,
           255,
           255,
           255,
           255,
           0,
           0,
           0,
           0,
           255,
           255,
           255,
           0,
           0,
           0,
           0,
           255,
           0,
           0,
           0,
           0,
           0,
           0,
           0,
           0
          ],
          [
           0,
           0,
           255,
           0,
           255,
           0,
           255,
           255,
           0,
           255,
           255,
           255,
           255,
           255,
           255,
           255,
           255,
           255,
           255,
           255,
           255,
           255,
           255,
           255,
           255,
           255,
           255,
           255,
           255,
           255,
           255,
           255,
           255,
           0,
           0,
           0,
           0,
           0,
           255,
           255,
           0,
           0,
           0,
           0,
           0,
           255,
           0,
           255,
           0,
           255,
           0,
           255,
           0
          ],
          [
           0,
           0,
           255,
           0,
           255,
           255,
           255,
           255,
           0,
           255,
           255,
           255,
           255,
           255,
           255,
           255,
           255,
           255,
           255,
           255,
           255,
           255,
           255,
           255,
           255,
           255,
           255,
           255,
           255,
           255,
           255,
           255,
           255,
           0,
           0,
           0,
           0,
           255,
           255,
           255,
           0,
           255,
           255,
           255,
           255,
           255,
           255,
           255,
           255,
           255,
           255,
           255,
           0
          ],
          [
           0,
           0,
           255,
           0,
           255,
           255,
           255,
           255,
           255,
           255,
           255,
           255,
           255,
           255,
           255,
           255,
           255,
           255,
           255,
           255,
           255,
           255,
           255,
           255,
           255,
           255,
           255,
           255,
           255,
           255,
           255,
           255,
           255,
           0,
           255,
           0,
           0,
           255,
           255,
           255,
           255,
           255,
           255,
           255,
           255,
           255,
           255,
           255,
           255,
           255,
           255,
           255,
           0
          ],
          [
           0,
           0,
           255,
           0,
           255,
           255,
           255,
           255,
           255,
           255,
           255,
           255,
           255,
           255,
           255,
           255,
           255,
           255,
           255,
           255,
           255,
           255,
           255,
           255,
           255,
           255,
           255,
           255,
           255,
           255,
           255,
           255,
           255,
           0,
           255,
           0,
           0,
           255,
           255,
           0,
           0,
           0,
           0,
           0,
           0,
           0,
           0,
           255,
           0,
           0,
           0,
           255,
           0
          ],
          [
           0,
           0,
           255,
           0,
           255,
           255,
           255,
           255,
           255,
           255,
           255,
           255,
           255,
           255,
           255,
           255,
           255,
           255,
           255,
           255,
           255,
           255,
           255,
           255,
           255,
           255,
           255,
           255,
           255,
           255,
           255,
           255,
           255,
           0,
           255,
           0,
           0,
           255,
           255,
           255,
           255,
           255,
           255,
           255,
           255,
           255,
           255,
           255,
           255,
           255,
           255,
           255,
           0
          ],
          [
           0,
           0,
           255,
           0,
           255,
           255,
           255,
           255,
           255,
           255,
           255,
           255,
           255,
           255,
           255,
           255,
           255,
           255,
           255,
           255,
           255,
           255,
           255,
           255,
           255,
           255,
           255,
           255,
           255,
           255,
           255,
           255,
           255,
           0,
           255,
           0,
           0,
           255,
           255,
           0,
           0,
           0,
           0,
           0,
           0,
           0,
           0,
           255,
           0,
           0,
           0,
           255,
           0
          ],
          [
           0,
           0,
           255,
           0,
           0,
           0,
           0,
           255,
           0,
           0,
           0,
           255,
           255,
           255,
           255,
           255,
           0,
           0,
           0,
           0,
           0,
           0,
           0,
           0,
           0,
           255,
           0,
           0,
           0,
           0,
           0,
           255,
           255,
           0,
           255,
           0,
           0,
           255,
           255,
           0,
           255,
           255,
           255,
           255,
           255,
           255,
           255,
           255,
           255,
           255,
           0,
           255,
           0
          ],
          [
           0,
           0,
           255,
           0,
           0,
           0,
           0,
           255,
           0,
           0,
           0,
           255,
           255,
           255,
           255,
           255,
           0,
           0,
           0,
           0,
           0,
           0,
           0,
           0,
           0,
           255,
           0,
           0,
           0,
           0,
           0,
           255,
           255,
           255,
           255,
           255,
           255,
           255,
           255,
           255,
           255,
           255,
           255,
           255,
           255,
           255,
           255,
           255,
           255,
           255,
           255,
           255,
           0
          ],
          [
           0,
           0,
           255,
           0,
           0,
           0,
           0,
           255,
           0,
           255,
           0,
           0,
           255,
           255,
           255,
           255,
           255,
           255,
           255,
           255,
           255,
           255,
           255,
           255,
           0,
           255,
           255,
           255,
           255,
           255,
           255,
           255,
           255,
           0,
           255,
           0,
           0,
           255,
           255,
           0,
           255,
           255,
           255,
           255,
           255,
           255,
           255,
           255,
           255,
           255,
           0,
           255,
           0
          ],
          [
           0,
           0,
           255,
           0,
           255,
           255,
           255,
           255,
           255,
           255,
           255,
           255,
           255,
           255,
           255,
           255,
           255,
           255,
           255,
           255,
           255,
           255,
           255,
           255,
           255,
           255,
           255,
           255,
           255,
           255,
           255,
           255,
           255,
           0,
           255,
           0,
           0,
           255,
           255,
           255,
           255,
           255,
           255,
           255,
           255,
           255,
           255,
           255,
           255,
           255,
           255,
           255,
           0
          ],
          [
           0,
           0,
           255,
           0,
           0,
           0,
           0,
           255,
           0,
           0,
           0,
           255,
           255,
           255,
           255,
           255,
           0,
           0,
           0,
           0,
           0,
           0,
           0,
           0,
           0,
           255,
           0,
           0,
           0,
           0,
           0,
           255,
           255,
           0,
           255,
           0,
           0,
           255,
           255,
           0,
           255,
           255,
           255,
           255,
           255,
           255,
           255,
           255,
           255,
           255,
           0,
           255,
           0
          ],
          [
           0,
           0,
           255,
           0,
           0,
           0,
           0,
           255,
           0,
           0,
           0,
           255,
           255,
           255,
           255,
           255,
           0,
           0,
           0,
           0,
           0,
           0,
           0,
           0,
           0,
           255,
           0,
           0,
           0,
           0,
           0,
           255,
           255,
           255,
           255,
           255,
           255,
           255,
           255,
           255,
           255,
           255,
           255,
           255,
           255,
           255,
           255,
           255,
           255,
           255,
           255,
           255,
           0
          ],
          [
           0,
           0,
           255,
           0,
           0,
           0,
           0,
           255,
           0,
           255,
           0,
           0,
           255,
           255,
           255,
           255,
           255,
           255,
           255,
           255,
           255,
           255,
           255,
           255,
           0,
           255,
           255,
           255,
           255,
           255,
           255,
           255,
           255,
           0,
           255,
           0,
           0,
           255,
           255,
           0,
           255,
           255,
           255,
           255,
           255,
           255,
           255,
           255,
           255,
           255,
           0,
           255,
           0
          ],
          [
           0,
           0,
           255,
           0,
           255,
           255,
           255,
           255,
           255,
           255,
           255,
           255,
           255,
           255,
           255,
           255,
           255,
           255,
           255,
           255,
           255,
           255,
           255,
           255,
           255,
           255,
           255,
           255,
           255,
           255,
           255,
           255,
           255,
           0,
           255,
           0,
           0,
           255,
           255,
           255,
           255,
           255,
           255,
           255,
           255,
           255,
           255,
           255,
           255,
           255,
           255,
           255,
           0
          ],
          [
           0,
           0,
           255,
           0,
           0,
           0,
           0,
           255,
           0,
           0,
           0,
           255,
           255,
           255,
           255,
           255,
           0,
           0,
           0,
           0,
           0,
           0,
           0,
           0,
           0,
           255,
           0,
           0,
           0,
           0,
           0,
           255,
           255,
           0,
           255,
           0,
           0,
           255,
           255,
           0,
           255,
           255,
           255,
           255,
           255,
           255,
           255,
           255,
           255,
           255,
           0,
           255,
           0
          ],
          [
           0,
           0,
           255,
           0,
           0,
           0,
           0,
           255,
           0,
           0,
           0,
           255,
           255,
           255,
           255,
           255,
           0,
           0,
           0,
           0,
           0,
           0,
           0,
           0,
           0,
           255,
           0,
           0,
           0,
           0,
           0,
           255,
           255,
           255,
           255,
           255,
           255,
           255,
           255,
           255,
           255,
           255,
           255,
           255,
           255,
           255,
           255,
           255,
           255,
           255,
           255,
           255,
           0
          ],
          [
           0,
           0,
           255,
           0,
           0,
           0,
           0,
           255,
           0,
           255,
           0,
           0,
           255,
           255,
           255,
           255,
           255,
           255,
           255,
           255,
           255,
           255,
           255,
           255,
           0,
           255,
           255,
           255,
           255,
           255,
           255,
           255,
           255,
           0,
           255,
           0,
           0,
           255,
           255,
           0,
           255,
           255,
           255,
           255,
           255,
           255,
           255,
           255,
           255,
           255,
           0,
           255,
           0
          ],
          [
           0,
           0,
           255,
           0,
           255,
           255,
           255,
           255,
           255,
           255,
           255,
           255,
           255,
           255,
           255,
           255,
           255,
           255,
           255,
           255,
           255,
           255,
           255,
           255,
           255,
           255,
           255,
           255,
           255,
           255,
           255,
           255,
           255,
           0,
           255,
           0,
           0,
           255,
           255,
           255,
           255,
           255,
           255,
           255,
           255,
           255,
           255,
           255,
           255,
           255,
           255,
           255,
           0
          ],
          [
           0,
           0,
           255,
           0,
           0,
           0,
           0,
           255,
           0,
           0,
           0,
           255,
           255,
           255,
           255,
           255,
           0,
           0,
           0,
           0,
           0,
           0,
           0,
           0,
           0,
           255,
           0,
           0,
           0,
           0,
           0,
           255,
           255,
           0,
           255,
           0,
           0,
           255,
           255,
           0,
           255,
           255,
           255,
           255,
           255,
           255,
           255,
           255,
           255,
           255,
           0,
           255,
           0
          ],
          [
           0,
           0,
           255,
           0,
           0,
           0,
           0,
           255,
           0,
           0,
           0,
           255,
           255,
           255,
           255,
           255,
           0,
           0,
           0,
           0,
           0,
           0,
           0,
           0,
           0,
           255,
           0,
           0,
           0,
           0,
           0,
           255,
           255,
           255,
           255,
           255,
           255,
           255,
           255,
           255,
           255,
           255,
           255,
           255,
           255,
           255,
           255,
           255,
           255,
           255,
           255,
           255,
           0
          ],
          [
           0,
           0,
           255,
           0,
           0,
           0,
           0,
           255,
           0,
           255,
           0,
           0,
           255,
           255,
           255,
           255,
           255,
           255,
           255,
           255,
           255,
           255,
           255,
           255,
           0,
           255,
           255,
           255,
           255,
           255,
           255,
           255,
           255,
           0,
           255,
           0,
           0,
           255,
           255,
           0,
           255,
           255,
           255,
           255,
           255,
           255,
           255,
           255,
           255,
           255,
           0,
           255,
           0
          ],
          [
           0,
           0,
           255,
           0,
           255,
           255,
           255,
           255,
           255,
           255,
           255,
           255,
           255,
           255,
           255,
           255,
           255,
           255,
           255,
           255,
           255,
           255,
           255,
           255,
           255,
           255,
           255,
           255,
           255,
           255,
           255,
           255,
           255,
           0,
           255,
           0,
           0,
           255,
           255,
           255,
           255,
           255,
           255,
           255,
           255,
           255,
           255,
           255,
           255,
           255,
           255,
           255,
           0
          ],
          [
           0,
           0,
           255,
           0,
           0,
           0,
           255,
           255,
           255,
           255,
           255,
           255,
           255,
           255,
           255,
           255,
           255,
           255,
           255,
           255,
           255,
           255,
           255,
           255,
           255,
           255,
           255,
           255,
           255,
           255,
           255,
           255,
           255,
           0,
           0,
           0,
           0,
           255,
           255,
           255,
           0,
           0,
           0,
           0,
           0,
           0,
           0,
           255,
           0,
           0,
           0,
           0,
           0
          ],
          [
           0,
           0,
           255,
           0,
           0,
           0,
           255,
           255,
           255,
           255,
           255,
           255,
           255,
           255,
           255,
           255,
           255,
           255,
           255,
           255,
           255,
           255,
           255,
           255,
           255,
           255,
           255,
           255,
           255,
           255,
           255,
           255,
           255,
           0,
           0,
           0,
           0,
           0,
           0,
           255,
           0,
           0,
           0,
           0,
           0,
           0,
           0,
           255,
           255,
           255,
           0,
           0,
           0
          ],
          [
           0,
           0,
           255,
           0,
           0,
           0,
           255,
           255,
           255,
           255,
           255,
           255,
           255,
           255,
           255,
           255,
           255,
           255,
           255,
           255,
           255,
           255,
           255,
           255,
           255,
           255,
           255,
           255,
           255,
           255,
           255,
           255,
           255,
           0,
           0,
           0,
           0,
           0,
           0,
           255,
           0,
           0,
           0,
           0,
           0,
           0,
           0,
           255,
           255,
           255,
           0,
           0,
           0
          ],
          [
           0,
           0,
           255,
           0,
           0,
           0,
           255,
           255,
           255,
           255,
           255,
           255,
           255,
           255,
           255,
           255,
           255,
           255,
           255,
           255,
           255,
           255,
           255,
           255,
           255,
           255,
           255,
           255,
           255,
           255,
           255,
           255,
           255,
           0,
           0,
           0,
           0,
           255,
           255,
           255,
           0,
           0,
           0,
           0,
           0,
           0,
           0,
           255,
           0,
           0,
           0,
           0,
           0
          ],
          [
           0,
           0,
           255,
           0,
           0,
           0,
           255,
           255,
           255,
           255,
           255,
           255,
           255,
           255,
           255,
           255,
           255,
           255,
           255,
           255,
           255,
           255,
           255,
           255,
           255,
           255,
           255,
           255,
           255,
           255,
           255,
           255,
           255,
           0,
           0,
           0,
           0,
           0,
           0,
           255,
           0,
           0,
           0,
           0,
           0,
           0,
           0,
           255,
           255,
           255,
           0,
           0,
           0
          ],
          [
           0,
           0,
           255,
           0,
           0,
           0,
           255,
           255,
           255,
           255,
           255,
           255,
           255,
           255,
           255,
           255,
           255,
           255,
           255,
           255,
           255,
           255,
           255,
           255,
           255,
           255,
           255,
           255,
           255,
           255,
           255,
           255,
           255,
           0,
           0,
           0,
           0,
           0,
           0,
           255,
           0,
           0,
           0,
           0,
           0,
           0,
           0,
           255,
           255,
           255,
           0,
           0,
           0
          ],
          [
           0,
           0,
           255,
           0,
           0,
           0,
           255,
           255,
           255,
           255,
           255,
           255,
           255,
           255,
           255,
           255,
           255,
           255,
           255,
           255,
           255,
           255,
           255,
           255,
           255,
           255,
           255,
           255,
           255,
           255,
           255,
           255,
           255,
           0,
           0,
           0,
           0,
           255,
           255,
           255,
           0,
           0,
           0,
           0,
           0,
           0,
           0,
           255,
           0,
           0,
           0,
           0,
           0
          ],
          [
           0,
           0,
           255,
           0,
           0,
           0,
           255,
           255,
           255,
           255,
           255,
           255,
           255,
           255,
           255,
           255,
           255,
           255,
           255,
           255,
           255,
           255,
           255,
           255,
           255,
           255,
           255,
           255,
           255,
           255,
           255,
           255,
           255,
           0,
           0,
           0,
           0,
           0,
           0,
           255,
           0,
           0,
           0,
           0,
           0,
           0,
           0,
           255,
           255,
           255,
           0,
           0,
           0
          ],
          [
           0,
           0,
           255,
           0,
           0,
           0,
           255,
           255,
           255,
           255,
           255,
           255,
           255,
           255,
           255,
           255,
           255,
           255,
           255,
           255,
           255,
           255,
           255,
           255,
           255,
           255,
           255,
           255,
           255,
           255,
           255,
           255,
           255,
           0,
           0,
           0,
           0,
           0,
           0,
           255,
           0,
           0,
           0,
           0,
           0,
           0,
           0,
           255,
           255,
           255,
           0,
           0,
           0
          ],
          [
           0,
           0,
           255,
           0,
           0,
           255,
           0,
           255,
           255,
           255,
           0,
           255,
           0,
           255,
           0,
           255,
           0,
           255,
           0,
           255,
           0,
           255,
           0,
           255,
           0,
           255,
           0,
           255,
           255,
           255,
           255,
           255,
           255,
           255,
           255,
           255,
           255,
           255,
           255,
           255,
           255,
           255,
           255,
           255,
           255,
           255,
           255,
           255,
           255,
           255,
           255,
           255,
           0
          ],
          [
           0,
           0,
           255,
           0,
           255,
           255,
           255,
           255,
           255,
           255,
           255,
           255,
           255,
           255,
           255,
           255,
           255,
           255,
           255,
           255,
           255,
           255,
           255,
           255,
           255,
           255,
           255,
           255,
           255,
           255,
           255,
           255,
           255,
           0,
           255,
           0,
           0,
           0,
           0,
           255,
           255,
           0,
           0,
           0,
           0,
           255,
           0,
           255,
           0,
           0,
           255,
           255,
           0
          ],
          [
           0,
           0,
           255,
           0,
           0,
           255,
           0,
           255,
           255,
           255,
           0,
           255,
           0,
           255,
           0,
           255,
           0,
           255,
           0,
           255,
           0,
           255,
           0,
           255,
           0,
           255,
           0,
           255,
           255,
           255,
           255,
           255,
           255,
           255,
           255,
           255,
           255,
           255,
           255,
           255,
           255,
           255,
           255,
           255,
           255,
           255,
           255,
           255,
           255,
           255,
           255,
           255,
           0
          ],
          [
           0,
           0,
           255,
           0,
           255,
           255,
           255,
           255,
           255,
           255,
           255,
           255,
           255,
           255,
           255,
           255,
           255,
           255,
           255,
           255,
           255,
           255,
           255,
           255,
           255,
           255,
           255,
           255,
           255,
           255,
           255,
           255,
           255,
           0,
           255,
           0,
           0,
           0,
           0,
           255,
           255,
           0,
           0,
           0,
           0,
           255,
           0,
           255,
           0,
           0,
           255,
           255,
           0
          ]
         ]
        }
       ],
       "layout": {
        "coloraxis": {
         "colorscale": [
          [
           0,
           "rgb(0, 1, 0)"
          ],
          [
           0.1,
           "rgb(11, 25, 39)"
          ],
          [
           0.2,
           "rgb(17, 48, 77)"
          ],
          [
           0.3,
           "rgb(27, 73, 117)"
          ],
          [
           0.4,
           "rgb(46, 98, 160)"
          ],
          [
           0.5,
           "rgb(78, 125, 199)"
          ],
          [
           0.6,
           "rgb(111, 146, 202)"
          ],
          [
           0.7,
           "rgb(144, 166, 201)"
          ],
          [
           0.8,
           "rgb(176, 185, 200)"
          ],
          [
           0.9,
           "rgb(215, 215, 216)"
          ],
          [
           1,
           "rgb(255, 255, 255)"
          ]
         ]
        },
        "height": 800,
        "margin": {
         "t": 60
        },
        "template": {
         "data": {
          "bar": [
           {
            "error_x": {
             "color": "#2a3f5f"
            },
            "error_y": {
             "color": "#2a3f5f"
            },
            "marker": {
             "line": {
              "color": "#E5ECF6",
              "width": 0.5
             },
             "pattern": {
              "fillmode": "overlay",
              "size": 10,
              "solidity": 0.2
             }
            },
            "type": "bar"
           }
          ],
          "barpolar": [
           {
            "marker": {
             "line": {
              "color": "#E5ECF6",
              "width": 0.5
             },
             "pattern": {
              "fillmode": "overlay",
              "size": 10,
              "solidity": 0.2
             }
            },
            "type": "barpolar"
           }
          ],
          "carpet": [
           {
            "aaxis": {
             "endlinecolor": "#2a3f5f",
             "gridcolor": "white",
             "linecolor": "white",
             "minorgridcolor": "white",
             "startlinecolor": "#2a3f5f"
            },
            "baxis": {
             "endlinecolor": "#2a3f5f",
             "gridcolor": "white",
             "linecolor": "white",
             "minorgridcolor": "white",
             "startlinecolor": "#2a3f5f"
            },
            "type": "carpet"
           }
          ],
          "choropleth": [
           {
            "colorbar": {
             "outlinewidth": 0,
             "ticks": ""
            },
            "type": "choropleth"
           }
          ],
          "contour": [
           {
            "colorbar": {
             "outlinewidth": 0,
             "ticks": ""
            },
            "colorscale": [
             [
              0,
              "#0d0887"
             ],
             [
              0.1111111111111111,
              "#46039f"
             ],
             [
              0.2222222222222222,
              "#7201a8"
             ],
             [
              0.3333333333333333,
              "#9c179e"
             ],
             [
              0.4444444444444444,
              "#bd3786"
             ],
             [
              0.5555555555555556,
              "#d8576b"
             ],
             [
              0.6666666666666666,
              "#ed7953"
             ],
             [
              0.7777777777777778,
              "#fb9f3a"
             ],
             [
              0.8888888888888888,
              "#fdca26"
             ],
             [
              1,
              "#f0f921"
             ]
            ],
            "type": "contour"
           }
          ],
          "contourcarpet": [
           {
            "colorbar": {
             "outlinewidth": 0,
             "ticks": ""
            },
            "type": "contourcarpet"
           }
          ],
          "heatmap": [
           {
            "colorbar": {
             "outlinewidth": 0,
             "ticks": ""
            },
            "colorscale": [
             [
              0,
              "#0d0887"
             ],
             [
              0.1111111111111111,
              "#46039f"
             ],
             [
              0.2222222222222222,
              "#7201a8"
             ],
             [
              0.3333333333333333,
              "#9c179e"
             ],
             [
              0.4444444444444444,
              "#bd3786"
             ],
             [
              0.5555555555555556,
              "#d8576b"
             ],
             [
              0.6666666666666666,
              "#ed7953"
             ],
             [
              0.7777777777777778,
              "#fb9f3a"
             ],
             [
              0.8888888888888888,
              "#fdca26"
             ],
             [
              1,
              "#f0f921"
             ]
            ],
            "type": "heatmap"
           }
          ],
          "heatmapgl": [
           {
            "colorbar": {
             "outlinewidth": 0,
             "ticks": ""
            },
            "colorscale": [
             [
              0,
              "#0d0887"
             ],
             [
              0.1111111111111111,
              "#46039f"
             ],
             [
              0.2222222222222222,
              "#7201a8"
             ],
             [
              0.3333333333333333,
              "#9c179e"
             ],
             [
              0.4444444444444444,
              "#bd3786"
             ],
             [
              0.5555555555555556,
              "#d8576b"
             ],
             [
              0.6666666666666666,
              "#ed7953"
             ],
             [
              0.7777777777777778,
              "#fb9f3a"
             ],
             [
              0.8888888888888888,
              "#fdca26"
             ],
             [
              1,
              "#f0f921"
             ]
            ],
            "type": "heatmapgl"
           }
          ],
          "histogram": [
           {
            "marker": {
             "pattern": {
              "fillmode": "overlay",
              "size": 10,
              "solidity": 0.2
             }
            },
            "type": "histogram"
           }
          ],
          "histogram2d": [
           {
            "colorbar": {
             "outlinewidth": 0,
             "ticks": ""
            },
            "colorscale": [
             [
              0,
              "#0d0887"
             ],
             [
              0.1111111111111111,
              "#46039f"
             ],
             [
              0.2222222222222222,
              "#7201a8"
             ],
             [
              0.3333333333333333,
              "#9c179e"
             ],
             [
              0.4444444444444444,
              "#bd3786"
             ],
             [
              0.5555555555555556,
              "#d8576b"
             ],
             [
              0.6666666666666666,
              "#ed7953"
             ],
             [
              0.7777777777777778,
              "#fb9f3a"
             ],
             [
              0.8888888888888888,
              "#fdca26"
             ],
             [
              1,
              "#f0f921"
             ]
            ],
            "type": "histogram2d"
           }
          ],
          "histogram2dcontour": [
           {
            "colorbar": {
             "outlinewidth": 0,
             "ticks": ""
            },
            "colorscale": [
             [
              0,
              "#0d0887"
             ],
             [
              0.1111111111111111,
              "#46039f"
             ],
             [
              0.2222222222222222,
              "#7201a8"
             ],
             [
              0.3333333333333333,
              "#9c179e"
             ],
             [
              0.4444444444444444,
              "#bd3786"
             ],
             [
              0.5555555555555556,
              "#d8576b"
             ],
             [
              0.6666666666666666,
              "#ed7953"
             ],
             [
              0.7777777777777778,
              "#fb9f3a"
             ],
             [
              0.8888888888888888,
              "#fdca26"
             ],
             [
              1,
              "#f0f921"
             ]
            ],
            "type": "histogram2dcontour"
           }
          ],
          "mesh3d": [
           {
            "colorbar": {
             "outlinewidth": 0,
             "ticks": ""
            },
            "type": "mesh3d"
           }
          ],
          "parcoords": [
           {
            "line": {
             "colorbar": {
              "outlinewidth": 0,
              "ticks": ""
             }
            },
            "type": "parcoords"
           }
          ],
          "pie": [
           {
            "automargin": true,
            "type": "pie"
           }
          ],
          "scatter": [
           {
            "fillpattern": {
             "fillmode": "overlay",
             "size": 10,
             "solidity": 0.2
            },
            "type": "scatter"
           }
          ],
          "scatter3d": [
           {
            "line": {
             "colorbar": {
              "outlinewidth": 0,
              "ticks": ""
             }
            },
            "marker": {
             "colorbar": {
              "outlinewidth": 0,
              "ticks": ""
             }
            },
            "type": "scatter3d"
           }
          ],
          "scattercarpet": [
           {
            "marker": {
             "colorbar": {
              "outlinewidth": 0,
              "ticks": ""
             }
            },
            "type": "scattercarpet"
           }
          ],
          "scattergeo": [
           {
            "marker": {
             "colorbar": {
              "outlinewidth": 0,
              "ticks": ""
             }
            },
            "type": "scattergeo"
           }
          ],
          "scattergl": [
           {
            "marker": {
             "colorbar": {
              "outlinewidth": 0,
              "ticks": ""
             }
            },
            "type": "scattergl"
           }
          ],
          "scattermapbox": [
           {
            "marker": {
             "colorbar": {
              "outlinewidth": 0,
              "ticks": ""
             }
            },
            "type": "scattermapbox"
           }
          ],
          "scatterpolar": [
           {
            "marker": {
             "colorbar": {
              "outlinewidth": 0,
              "ticks": ""
             }
            },
            "type": "scatterpolar"
           }
          ],
          "scatterpolargl": [
           {
            "marker": {
             "colorbar": {
              "outlinewidth": 0,
              "ticks": ""
             }
            },
            "type": "scatterpolargl"
           }
          ],
          "scatterternary": [
           {
            "marker": {
             "colorbar": {
              "outlinewidth": 0,
              "ticks": ""
             }
            },
            "type": "scatterternary"
           }
          ],
          "surface": [
           {
            "colorbar": {
             "outlinewidth": 0,
             "ticks": ""
            },
            "colorscale": [
             [
              0,
              "#0d0887"
             ],
             [
              0.1111111111111111,
              "#46039f"
             ],
             [
              0.2222222222222222,
              "#7201a8"
             ],
             [
              0.3333333333333333,
              "#9c179e"
             ],
             [
              0.4444444444444444,
              "#bd3786"
             ],
             [
              0.5555555555555556,
              "#d8576b"
             ],
             [
              0.6666666666666666,
              "#ed7953"
             ],
             [
              0.7777777777777778,
              "#fb9f3a"
             ],
             [
              0.8888888888888888,
              "#fdca26"
             ],
             [
              1,
              "#f0f921"
             ]
            ],
            "type": "surface"
           }
          ],
          "table": [
           {
            "cells": {
             "fill": {
              "color": "#EBF0F8"
             },
             "line": {
              "color": "white"
             }
            },
            "header": {
             "fill": {
              "color": "#C8D4E3"
             },
             "line": {
              "color": "white"
             }
            },
            "type": "table"
           }
          ]
         },
         "layout": {
          "annotationdefaults": {
           "arrowcolor": "#2a3f5f",
           "arrowhead": 0,
           "arrowwidth": 1
          },
          "autotypenumbers": "strict",
          "coloraxis": {
           "colorbar": {
            "outlinewidth": 0,
            "ticks": ""
           }
          },
          "colorscale": {
           "diverging": [
            [
             0,
             "#8e0152"
            ],
            [
             0.1,
             "#c51b7d"
            ],
            [
             0.2,
             "#de77ae"
            ],
            [
             0.3,
             "#f1b6da"
            ],
            [
             0.4,
             "#fde0ef"
            ],
            [
             0.5,
             "#f7f7f7"
            ],
            [
             0.6,
             "#e6f5d0"
            ],
            [
             0.7,
             "#b8e186"
            ],
            [
             0.8,
             "#7fbc41"
            ],
            [
             0.9,
             "#4d9221"
            ],
            [
             1,
             "#276419"
            ]
           ],
           "sequential": [
            [
             0,
             "#0d0887"
            ],
            [
             0.1111111111111111,
             "#46039f"
            ],
            [
             0.2222222222222222,
             "#7201a8"
            ],
            [
             0.3333333333333333,
             "#9c179e"
            ],
            [
             0.4444444444444444,
             "#bd3786"
            ],
            [
             0.5555555555555556,
             "#d8576b"
            ],
            [
             0.6666666666666666,
             "#ed7953"
            ],
            [
             0.7777777777777778,
             "#fb9f3a"
            ],
            [
             0.8888888888888888,
             "#fdca26"
            ],
            [
             1,
             "#f0f921"
            ]
           ],
           "sequentialminus": [
            [
             0,
             "#0d0887"
            ],
            [
             0.1111111111111111,
             "#46039f"
            ],
            [
             0.2222222222222222,
             "#7201a8"
            ],
            [
             0.3333333333333333,
             "#9c179e"
            ],
            [
             0.4444444444444444,
             "#bd3786"
            ],
            [
             0.5555555555555556,
             "#d8576b"
            ],
            [
             0.6666666666666666,
             "#ed7953"
            ],
            [
             0.7777777777777778,
             "#fb9f3a"
            ],
            [
             0.8888888888888888,
             "#fdca26"
            ],
            [
             1,
             "#f0f921"
            ]
           ]
          },
          "colorway": [
           "#636efa",
           "#EF553B",
           "#00cc96",
           "#ab63fa",
           "#FFA15A",
           "#19d3f3",
           "#FF6692",
           "#B6E880",
           "#FF97FF",
           "#FECB52"
          ],
          "font": {
           "color": "#2a3f5f"
          },
          "geo": {
           "bgcolor": "white",
           "lakecolor": "white",
           "landcolor": "#E5ECF6",
           "showlakes": true,
           "showland": true,
           "subunitcolor": "white"
          },
          "hoverlabel": {
           "align": "left"
          },
          "hovermode": "closest",
          "mapbox": {
           "style": "light"
          },
          "paper_bgcolor": "white",
          "plot_bgcolor": "#E5ECF6",
          "polar": {
           "angularaxis": {
            "gridcolor": "white",
            "linecolor": "white",
            "ticks": ""
           },
           "bgcolor": "#E5ECF6",
           "radialaxis": {
            "gridcolor": "white",
            "linecolor": "white",
            "ticks": ""
           }
          },
          "scene": {
           "xaxis": {
            "backgroundcolor": "#E5ECF6",
            "gridcolor": "white",
            "gridwidth": 2,
            "linecolor": "white",
            "showbackground": true,
            "ticks": "",
            "zerolinecolor": "white"
           },
           "yaxis": {
            "backgroundcolor": "#E5ECF6",
            "gridcolor": "white",
            "gridwidth": 2,
            "linecolor": "white",
            "showbackground": true,
            "ticks": "",
            "zerolinecolor": "white"
           },
           "zaxis": {
            "backgroundcolor": "#E5ECF6",
            "gridcolor": "white",
            "gridwidth": 2,
            "linecolor": "white",
            "showbackground": true,
            "ticks": "",
            "zerolinecolor": "white"
           }
          },
          "shapedefaults": {
           "line": {
            "color": "#2a3f5f"
           }
          },
          "ternary": {
           "aaxis": {
            "gridcolor": "white",
            "linecolor": "white",
            "ticks": ""
           },
           "baxis": {
            "gridcolor": "white",
            "linecolor": "white",
            "ticks": ""
           },
           "bgcolor": "#E5ECF6",
           "caxis": {
            "gridcolor": "white",
            "linecolor": "white",
            "ticks": ""
           }
          },
          "title": {
           "x": 0.05
          },
          "xaxis": {
           "automargin": true,
           "gridcolor": "white",
           "linecolor": "white",
           "ticks": "",
           "title": {
            "standoff": 15
           },
           "zerolinecolor": "white",
           "zerolinewidth": 2
          },
          "yaxis": {
           "automargin": true,
           "gridcolor": "white",
           "linecolor": "white",
           "ticks": "",
           "title": {
            "standoff": 15
           },
           "zerolinecolor": "white",
           "zerolinewidth": 2
          }
         }
        },
        "title": {
         "text": "Count of unknown values in the database. Dark color signifies <br> known values, bright color signifies unknown value.",
         "y": 0.95
        },
        "width": 1200,
        "xaxis": {
         "anchor": "y",
         "domain": [
          0,
          1
         ],
         "side": "top"
        },
        "yaxis": {
         "anchor": "x",
         "autorange": "reversed",
         "domain": [
          0,
          1
         ],
         "title": {
          "text": "source"
         }
        }
       }
      },
      "text/html": [
       "<div>                            <div id=\"5323e70e-5080-4b13-a748-965d7a21957d\" class=\"plotly-graph-div\" style=\"height:800px; width:1200px;\"></div>            <script type=\"text/javascript\">                require([\"plotly\"], function(Plotly) {                    window.PLOTLYENV=window.PLOTLYENV || {};                                    if (document.getElementById(\"5323e70e-5080-4b13-a748-965d7a21957d\")) {                    Plotly.newPlot(                        \"5323e70e-5080-4b13-a748-965d7a21957d\",                        [{\"coloraxis\":\"coloraxis\",\"name\":\"0\",\"x\":[\"FOODON\",\"Studie\",\"Erfasst durch\",\"Datum der Studie (Jahr)\",\"Systemgrenzen/Beschreibung\",\"Geography\",\"Funktionelle Einheit\",\"Anbau (Pestizide, D\\u00fcnger, ...) - f\\u00fcr pflanzliche LM\",\"Aufzucht (Futter, Platz, \\u2026) - f\\u00fcr tierische LM\",\"Allokation (\\u00f6konomisch oder energiegerichtet)\",\"GWP, kg CO2-EQ/kg product\",\"Bermerkung zu GWP\",\"EU, Fossil energy use, MJ/kg product\",\"Bemerkung zu EU\",\"LU, Land use, m2/Jahr\",\"Bemerkung zu LU\",\"TAP, terrestrial acidification potential, g SO2-eq \",\"Bemerkung zu TAP\",\"FEP, freshwater eutrophication potential, g P-eq \",\"Bemerkung zu FEP\",\"Water Footprint (WF), m3/kg\",\"Bemerkung zu WF\",\"Marine eutrophication (ME), kg N eq /kg\",\"Bemerkung zu ME\",\"Ozone depletion (OD), kg CFC-11 eq/ kg\",\"Bemerkung zu OD\",\"Photochemical oxidant formation (POF), kg NMVOC eq/ kg\",\"Bemerkung zu POF\",\"Particulate matter formation (PMF), kg PM10 eq/ kg\",\"Bemerkung zuPMF\",\"Fossil depletion (FD), kg oil eq/ kg\",\"Bemerkung zu FD\",\"Verteilung \\u00fcber WSK-Stufen\",\"Dry Mass (DM) oder Fresh (F)\",\"Water [%]\",\"Protein [%]\",\"Fat [%]\",\"Fiber [%]\",\"Carbohydrates [%]\",\"Energy [kcal/100g]\",\"Ash [%]\",\"Magnesium (mg/100g)\",\"Zinc (mg/100g)\",\"Iron (mg/100g)\",\"Copper (mg/100g)\",\"Manganese (mg/100g)\",\"Calcium (mg/100g)\",\"Chloride (mg/100g)\",\"Potassium (mg/100g)\",\"Sodium (mg/100g)\",\"Phosphorus (mg/100g)\",\"Selenium (mg/100g)\",\"StudieNr\"],\"y\":[\"mealworm\",\"mealworm\",\"mealworm\",\"mealworm\",\"mealworm\",\"mealworm\",\"mealworm\",\"mealworm\",\"mealworm\",\"mealworm\",\"mealworm\",\"mealworm\",\"mealworm\",\"mealworm\",\"mealworm\",\"mealworm\",\"mealworm\",\"mealworm\",\"mealworm\",\"mealworm\",\"mealworm\",\"mealworm\",\"mealworm\",\"mealworm\",\"mealworm\",\"mealworm\",\"mealworm\",\"mealworm\",\"mealworm\",\"mealworm\",\"mealworm\",\"mealworm\",\"mealworm\",\"mealworm\",\"mealworm\",\"mealworm\",\"mealworm\",\"mealworm\",\"mealworm\",\"mealworm\",\"mealworm\",\"mealworm\",\"mealworm\",\"mealworm\",\"mealworm\",\"mealworm\",\"mealworm\",\"mealworm\",\"mealworm\",\"mealworm\",\"mealworm\",\"mealworm\",\"mealworm\",\"mealworm\",\"mealworm\",\"mealworm\",\"mealworm\",\"mealworm\",\"mealworm\",\"mealworm\",\"mealworm\",\"mealworm\",\"mealworm\",\"mealworm\",\"grasshopper\",\"grasshopper\",\"grasshopper\",\"grasshopper\",\"snail\",\"snail\",\"snail\",\"snail\",\"snail\",\"snail\",\"snail\",\"snail\",\"snail\",\"snail\",\"snail\",\"snail\",\"snail\",\"snail\",\"snail\",\"snail\",\"ant\",\"ant\",\"ant\",\"ant\",\"ant\",\"ant\",\"ant\",\"ant\",\"ant\",\"seaweed\",\"seaweed\",\"seaweed\",\"seaweed\"],\"z\":[[0,0,255,0,0,0,0,255,0,0,0,0,0,0,0,0,0,0,0,0,255,255,255,255,255,255,255,255,255,255,255,255,255,0,255,0,255,255,255,255,255,255,255,255,255,255,255,255,255,255,255,255,0],[0,0,255,0,255,255,255,255,255,255,255,255,255,255,255,255,255,255,255,255,255,255,255,255,255,255,255,255,255,255,255,255,255,0,0,0,0,255,255,255,0,0,0,0,0,0,255,255,255,255,255,255,0],[0,0,255,0,0,0,0,255,0,0,0,0,0,0,0,0,255,255,255,255,255,255,255,255,255,255,255,255,255,255,255,255,255,0,255,0,255,255,255,255,255,255,255,255,255,255,255,255,255,255,255,255,0],[0,0,255,0,0,0,0,255,255,0,0,0,0,0,0,0,255,255,255,255,255,255,255,255,255,255,255,255,255,255,255,255,255,0,255,0,255,255,255,255,255,255,255,255,255,255,255,255,255,255,255,255,0],[0,0,255,0,0,0,0,255,0,255,255,255,255,255,255,255,255,255,255,255,0,0,255,255,255,255,255,255,255,255,255,255,255,255,255,255,255,255,255,255,255,255,255,255,255,255,255,255,255,255,255,255,0],[0,0,255,0,255,255,0,255,255,255,255,255,255,255,255,255,255,255,255,255,255,255,255,255,255,255,255,255,255,255,255,255,255,0,0,0,0,255,255,255,0,0,0,0,255,0,0,0,0,0,0,0,0],[0,0,255,0,255,0,255,255,0,255,255,255,255,255,255,255,255,255,255,255,255,255,255,255,255,255,255,255,255,255,255,255,255,0,0,0,0,0,255,255,0,0,0,0,0,255,0,255,0,255,0,255,0],[0,0,255,0,255,255,255,255,0,255,255,255,255,255,255,255,255,255,255,255,255,255,255,255,255,255,255,255,255,255,255,255,255,0,0,0,0,255,255,255,0,255,255,255,255,255,255,255,255,255,255,255,0],[0,0,255,0,0,0,0,255,0,0,0,0,0,0,0,0,0,0,0,0,255,255,255,255,255,255,255,255,255,255,255,255,255,0,255,0,255,255,255,255,255,255,255,255,255,255,255,255,255,255,255,255,0],[0,0,255,0,255,255,255,255,255,255,255,255,255,255,255,255,255,255,255,255,255,255,255,255,255,255,255,255,255,255,255,255,255,0,0,0,0,255,255,255,0,0,0,0,0,0,255,255,255,255,255,255,0],[0,0,255,0,0,0,0,255,0,0,0,0,0,0,0,0,255,255,255,255,255,255,255,255,255,255,255,255,255,255,255,255,255,0,255,0,255,255,255,255,255,255,255,255,255,255,255,255,255,255,255,255,0],[0,0,255,0,0,0,0,255,255,0,0,0,0,0,0,0,255,255,255,255,255,255,255,255,255,255,255,255,255,255,255,255,255,0,255,0,255,255,255,255,255,255,255,255,255,255,255,255,255,255,255,255,0],[0,0,255,0,0,0,0,255,0,255,255,255,255,255,255,255,255,255,255,255,0,0,255,255,255,255,255,255,255,255,255,255,255,255,255,255,255,255,255,255,255,255,255,255,255,255,255,255,255,255,255,255,0],[0,0,255,0,255,255,0,255,255,255,255,255,255,255,255,255,255,255,255,255,255,255,255,255,255,255,255,255,255,255,255,255,255,0,0,0,0,255,255,255,0,0,0,0,255,0,0,0,0,0,0,0,0],[0,0,255,0,255,0,255,255,0,255,255,255,255,255,255,255,255,255,255,255,255,255,255,255,255,255,255,255,255,255,255,255,255,0,0,0,0,0,255,255,0,0,0,0,0,255,0,255,0,255,0,255,0],[0,0,255,0,255,255,255,255,0,255,255,255,255,255,255,255,255,255,255,255,255,255,255,255,255,255,255,255,255,255,255,255,255,0,0,0,0,255,255,255,0,255,255,255,255,255,255,255,255,255,255,255,0],[0,0,255,0,0,0,0,255,0,0,0,0,0,0,0,0,0,0,0,0,255,255,255,255,255,255,255,255,255,255,255,255,255,0,255,0,255,255,255,255,255,255,255,255,255,255,255,255,255,255,255,255,0],[0,0,255,0,255,255,255,255,255,255,255,255,255,255,255,255,255,255,255,255,255,255,255,255,255,255,255,255,255,255,255,255,255,0,0,0,0,255,255,255,0,0,0,0,0,0,255,255,255,255,255,255,0],[0,0,255,0,0,0,0,255,0,0,0,0,0,0,0,0,255,255,255,255,255,255,255,255,255,255,255,255,255,255,255,255,255,0,255,0,255,255,255,255,255,255,255,255,255,255,255,255,255,255,255,255,0],[0,0,255,0,0,0,0,255,255,0,0,0,0,0,0,0,255,255,255,255,255,255,255,255,255,255,255,255,255,255,255,255,255,0,255,0,255,255,255,255,255,255,255,255,255,255,255,255,255,255,255,255,0],[0,0,255,0,0,0,0,255,0,255,255,255,255,255,255,255,255,255,255,255,0,0,255,255,255,255,255,255,255,255,255,255,255,255,255,255,255,255,255,255,255,255,255,255,255,255,255,255,255,255,255,255,0],[0,0,255,0,255,255,0,255,255,255,255,255,255,255,255,255,255,255,255,255,255,255,255,255,255,255,255,255,255,255,255,255,255,0,0,0,0,255,255,255,0,0,0,0,255,0,0,0,0,0,0,0,0],[0,0,255,0,255,0,255,255,0,255,255,255,255,255,255,255,255,255,255,255,255,255,255,255,255,255,255,255,255,255,255,255,255,0,0,0,0,0,255,255,0,0,0,0,0,255,0,255,0,255,0,255,0],[0,0,255,0,255,255,255,255,0,255,255,255,255,255,255,255,255,255,255,255,255,255,255,255,255,255,255,255,255,255,255,255,255,0,0,0,0,255,255,255,0,255,255,255,255,255,255,255,255,255,255,255,0],[0,0,255,0,0,0,0,255,0,0,0,0,0,0,0,0,0,0,0,0,255,255,255,255,255,255,255,255,255,255,255,255,255,0,255,0,255,255,255,255,255,255,255,255,255,255,255,255,255,255,255,255,0],[0,0,255,0,255,255,255,255,255,255,255,255,255,255,255,255,255,255,255,255,255,255,255,255,255,255,255,255,255,255,255,255,255,0,0,0,0,255,255,255,0,0,0,0,0,0,255,255,255,255,255,255,0],[0,0,255,0,0,0,0,255,0,0,0,0,0,0,0,0,255,255,255,255,255,255,255,255,255,255,255,255,255,255,255,255,255,0,255,0,255,255,255,255,255,255,255,255,255,255,255,255,255,255,255,255,0],[0,0,255,0,0,0,0,255,255,0,0,0,0,0,0,0,255,255,255,255,255,255,255,255,255,255,255,255,255,255,255,255,255,0,255,0,255,255,255,255,255,255,255,255,255,255,255,255,255,255,255,255,0],[0,0,255,0,0,0,0,255,0,255,255,255,255,255,255,255,255,255,255,255,0,0,255,255,255,255,255,255,255,255,255,255,255,255,255,255,255,255,255,255,255,255,255,255,255,255,255,255,255,255,255,255,0],[0,0,255,0,255,255,0,255,255,255,255,255,255,255,255,255,255,255,255,255,255,255,255,255,255,255,255,255,255,255,255,255,255,0,0,0,0,255,255,255,0,0,0,0,255,0,0,0,0,0,0,0,0],[0,0,255,0,255,0,255,255,0,255,255,255,255,255,255,255,255,255,255,255,255,255,255,255,255,255,255,255,255,255,255,255,255,0,0,0,0,0,255,255,0,0,0,0,0,255,0,255,0,255,0,255,0],[0,0,255,0,255,255,255,255,0,255,255,255,255,255,255,255,255,255,255,255,255,255,255,255,255,255,255,255,255,255,255,255,255,0,0,0,0,255,255,255,0,255,255,255,255,255,255,255,255,255,255,255,0],[0,0,255,0,0,0,0,255,0,0,0,0,0,0,0,0,0,0,0,0,255,255,255,255,255,255,255,255,255,255,255,255,255,0,255,0,255,255,255,255,255,255,255,255,255,255,255,255,255,255,255,255,0],[0,0,255,0,255,255,255,255,255,255,255,255,255,255,255,255,255,255,255,255,255,255,255,255,255,255,255,255,255,255,255,255,255,0,0,0,0,255,255,255,0,0,0,0,0,0,255,255,255,255,255,255,0],[0,0,255,0,0,0,0,255,0,0,0,0,0,0,0,0,255,255,255,255,255,255,255,255,255,255,255,255,255,255,255,255,255,0,255,0,255,255,255,255,255,255,255,255,255,255,255,255,255,255,255,255,0],[0,0,255,0,0,0,0,255,255,0,0,0,0,0,0,0,255,255,255,255,255,255,255,255,255,255,255,255,255,255,255,255,255,0,255,0,255,255,255,255,255,255,255,255,255,255,255,255,255,255,255,255,0],[0,0,255,0,0,0,0,255,0,255,255,255,255,255,255,255,255,255,255,255,0,0,255,255,255,255,255,255,255,255,255,255,255,255,255,255,255,255,255,255,255,255,255,255,255,255,255,255,255,255,255,255,0],[0,0,255,0,255,255,0,255,255,255,255,255,255,255,255,255,255,255,255,255,255,255,255,255,255,255,255,255,255,255,255,255,255,0,0,0,0,255,255,255,0,0,0,0,255,0,0,0,0,0,0,0,0],[0,0,255,0,255,0,255,255,0,255,255,255,255,255,255,255,255,255,255,255,255,255,255,255,255,255,255,255,255,255,255,255,255,0,0,0,0,0,255,255,0,0,0,0,0,255,0,255,0,255,0,255,0],[0,0,255,0,255,255,255,255,0,255,255,255,255,255,255,255,255,255,255,255,255,255,255,255,255,255,255,255,255,255,255,255,255,0,0,0,0,255,255,255,0,255,255,255,255,255,255,255,255,255,255,255,0],[0,0,255,0,0,0,0,255,0,0,0,0,0,0,0,0,0,0,0,0,255,255,255,255,255,255,255,255,255,255,255,255,255,0,255,0,255,255,255,255,255,255,255,255,255,255,255,255,255,255,255,255,0],[0,0,255,0,255,255,255,255,255,255,255,255,255,255,255,255,255,255,255,255,255,255,255,255,255,255,255,255,255,255,255,255,255,0,0,0,0,255,255,255,0,0,0,0,0,0,255,255,255,255,255,255,0],[0,0,255,0,0,0,0,255,0,0,0,0,0,0,0,0,255,255,255,255,255,255,255,255,255,255,255,255,255,255,255,255,255,0,255,0,255,255,255,255,255,255,255,255,255,255,255,255,255,255,255,255,0],[0,0,255,0,0,0,0,255,255,0,0,0,0,0,0,0,255,255,255,255,255,255,255,255,255,255,255,255,255,255,255,255,255,0,255,0,255,255,255,255,255,255,255,255,255,255,255,255,255,255,255,255,0],[0,0,255,0,0,0,0,255,0,255,255,255,255,255,255,255,255,255,255,255,0,0,255,255,255,255,255,255,255,255,255,255,255,255,255,255,255,255,255,255,255,255,255,255,255,255,255,255,255,255,255,255,0],[0,0,255,0,255,255,0,255,255,255,255,255,255,255,255,255,255,255,255,255,255,255,255,255,255,255,255,255,255,255,255,255,255,0,0,0,0,255,255,255,0,0,0,0,255,0,0,0,0,0,0,0,0],[0,0,255,0,255,0,255,255,0,255,255,255,255,255,255,255,255,255,255,255,255,255,255,255,255,255,255,255,255,255,255,255,255,0,0,0,0,0,255,255,0,0,0,0,0,255,0,255,0,255,0,255,0],[0,0,255,0,255,255,255,255,0,255,255,255,255,255,255,255,255,255,255,255,255,255,255,255,255,255,255,255,255,255,255,255,255,0,0,0,0,255,255,255,0,255,255,255,255,255,255,255,255,255,255,255,0],[0,0,255,0,0,0,0,255,0,0,0,0,0,0,0,0,0,0,0,0,255,255,255,255,255,255,255,255,255,255,255,255,255,0,255,0,255,255,255,255,255,255,255,255,255,255,255,255,255,255,255,255,0],[0,0,255,0,255,255,255,255,255,255,255,255,255,255,255,255,255,255,255,255,255,255,255,255,255,255,255,255,255,255,255,255,255,0,0,0,0,255,255,255,0,0,0,0,0,0,255,255,255,255,255,255,0],[0,0,255,0,0,0,0,255,0,0,0,0,0,0,0,0,255,255,255,255,255,255,255,255,255,255,255,255,255,255,255,255,255,0,255,0,255,255,255,255,255,255,255,255,255,255,255,255,255,255,255,255,0],[0,0,255,0,0,0,0,255,255,0,0,0,0,0,0,0,255,255,255,255,255,255,255,255,255,255,255,255,255,255,255,255,255,0,255,0,255,255,255,255,255,255,255,255,255,255,255,255,255,255,255,255,0],[0,0,255,0,0,0,0,255,0,255,255,255,255,255,255,255,255,255,255,255,0,0,255,255,255,255,255,255,255,255,255,255,255,255,255,255,255,255,255,255,255,255,255,255,255,255,255,255,255,255,255,255,0],[0,0,255,0,255,255,0,255,255,255,255,255,255,255,255,255,255,255,255,255,255,255,255,255,255,255,255,255,255,255,255,255,255,0,0,0,0,255,255,255,0,0,0,0,255,0,0,0,0,0,0,0,0],[0,0,255,0,255,0,255,255,0,255,255,255,255,255,255,255,255,255,255,255,255,255,255,255,255,255,255,255,255,255,255,255,255,0,0,0,0,0,255,255,0,0,0,0,0,255,0,255,0,255,0,255,0],[0,0,255,0,255,255,255,255,0,255,255,255,255,255,255,255,255,255,255,255,255,255,255,255,255,255,255,255,255,255,255,255,255,0,0,0,0,255,255,255,0,255,255,255,255,255,255,255,255,255,255,255,0],[0,0,255,0,0,0,0,255,0,0,0,0,0,0,0,0,0,0,0,0,255,255,255,255,255,255,255,255,255,255,255,255,255,0,255,0,255,255,255,255,255,255,255,255,255,255,255,255,255,255,255,255,0],[0,0,255,0,255,255,255,255,255,255,255,255,255,255,255,255,255,255,255,255,255,255,255,255,255,255,255,255,255,255,255,255,255,0,0,0,0,255,255,255,0,0,0,0,0,0,255,255,255,255,255,255,0],[0,0,255,0,0,0,0,255,0,0,0,0,0,0,0,0,255,255,255,255,255,255,255,255,255,255,255,255,255,255,255,255,255,0,255,0,255,255,255,255,255,255,255,255,255,255,255,255,255,255,255,255,0],[0,0,255,0,0,0,0,255,255,0,0,0,0,0,0,0,255,255,255,255,255,255,255,255,255,255,255,255,255,255,255,255,255,0,255,0,255,255,255,255,255,255,255,255,255,255,255,255,255,255,255,255,0],[0,0,255,0,0,0,0,255,0,255,255,255,255,255,255,255,255,255,255,255,0,0,255,255,255,255,255,255,255,255,255,255,255,255,255,255,255,255,255,255,255,255,255,255,255,255,255,255,255,255,255,255,0],[0,0,255,0,255,255,0,255,255,255,255,255,255,255,255,255,255,255,255,255,255,255,255,255,255,255,255,255,255,255,255,255,255,0,0,0,0,255,255,255,0,0,0,0,255,0,0,0,0,0,0,0,0],[0,0,255,0,255,0,255,255,0,255,255,255,255,255,255,255,255,255,255,255,255,255,255,255,255,255,255,255,255,255,255,255,255,0,0,0,0,0,255,255,0,0,0,0,0,255,0,255,0,255,0,255,0],[0,0,255,0,255,255,255,255,0,255,255,255,255,255,255,255,255,255,255,255,255,255,255,255,255,255,255,255,255,255,255,255,255,0,0,0,0,255,255,255,0,255,255,255,255,255,255,255,255,255,255,255,0],[0,0,255,0,255,255,255,255,255,255,255,255,255,255,255,255,255,255,255,255,255,255,255,255,255,255,255,255,255,255,255,255,255,0,255,0,0,255,255,255,255,255,255,255,255,255,255,255,255,255,255,255,0],[0,0,255,0,255,255,255,255,255,255,255,255,255,255,255,255,255,255,255,255,255,255,255,255,255,255,255,255,255,255,255,255,255,0,255,0,0,255,255,0,0,0,0,0,0,0,0,255,0,0,0,255,0],[0,0,255,0,255,255,255,255,255,255,255,255,255,255,255,255,255,255,255,255,255,255,255,255,255,255,255,255,255,255,255,255,255,0,255,0,0,255,255,255,255,255,255,255,255,255,255,255,255,255,255,255,0],[0,0,255,0,255,255,255,255,255,255,255,255,255,255,255,255,255,255,255,255,255,255,255,255,255,255,255,255,255,255,255,255,255,0,255,0,0,255,255,0,0,0,0,0,0,0,0,255,0,0,0,255,0],[0,0,255,0,0,0,0,255,0,0,0,255,255,255,255,255,0,0,0,0,0,0,0,0,0,255,0,0,0,0,0,255,255,0,255,0,0,255,255,0,255,255,255,255,255,255,255,255,255,255,0,255,0],[0,0,255,0,0,0,0,255,0,0,0,255,255,255,255,255,0,0,0,0,0,0,0,0,0,255,0,0,0,0,0,255,255,255,255,255,255,255,255,255,255,255,255,255,255,255,255,255,255,255,255,255,0],[0,0,255,0,0,0,0,255,0,255,0,0,255,255,255,255,255,255,255,255,255,255,255,255,0,255,255,255,255,255,255,255,255,0,255,0,0,255,255,0,255,255,255,255,255,255,255,255,255,255,0,255,0],[0,0,255,0,255,255,255,255,255,255,255,255,255,255,255,255,255,255,255,255,255,255,255,255,255,255,255,255,255,255,255,255,255,0,255,0,0,255,255,255,255,255,255,255,255,255,255,255,255,255,255,255,0],[0,0,255,0,0,0,0,255,0,0,0,255,255,255,255,255,0,0,0,0,0,0,0,0,0,255,0,0,0,0,0,255,255,0,255,0,0,255,255,0,255,255,255,255,255,255,255,255,255,255,0,255,0],[0,0,255,0,0,0,0,255,0,0,0,255,255,255,255,255,0,0,0,0,0,0,0,0,0,255,0,0,0,0,0,255,255,255,255,255,255,255,255,255,255,255,255,255,255,255,255,255,255,255,255,255,0],[0,0,255,0,0,0,0,255,0,255,0,0,255,255,255,255,255,255,255,255,255,255,255,255,0,255,255,255,255,255,255,255,255,0,255,0,0,255,255,0,255,255,255,255,255,255,255,255,255,255,0,255,0],[0,0,255,0,255,255,255,255,255,255,255,255,255,255,255,255,255,255,255,255,255,255,255,255,255,255,255,255,255,255,255,255,255,0,255,0,0,255,255,255,255,255,255,255,255,255,255,255,255,255,255,255,0],[0,0,255,0,0,0,0,255,0,0,0,255,255,255,255,255,0,0,0,0,0,0,0,0,0,255,0,0,0,0,0,255,255,0,255,0,0,255,255,0,255,255,255,255,255,255,255,255,255,255,0,255,0],[0,0,255,0,0,0,0,255,0,0,0,255,255,255,255,255,0,0,0,0,0,0,0,0,0,255,0,0,0,0,0,255,255,255,255,255,255,255,255,255,255,255,255,255,255,255,255,255,255,255,255,255,0],[0,0,255,0,0,0,0,255,0,255,0,0,255,255,255,255,255,255,255,255,255,255,255,255,0,255,255,255,255,255,255,255,255,0,255,0,0,255,255,0,255,255,255,255,255,255,255,255,255,255,0,255,0],[0,0,255,0,255,255,255,255,255,255,255,255,255,255,255,255,255,255,255,255,255,255,255,255,255,255,255,255,255,255,255,255,255,0,255,0,0,255,255,255,255,255,255,255,255,255,255,255,255,255,255,255,0],[0,0,255,0,0,0,0,255,0,0,0,255,255,255,255,255,0,0,0,0,0,0,0,0,0,255,0,0,0,0,0,255,255,0,255,0,0,255,255,0,255,255,255,255,255,255,255,255,255,255,0,255,0],[0,0,255,0,0,0,0,255,0,0,0,255,255,255,255,255,0,0,0,0,0,0,0,0,0,255,0,0,0,0,0,255,255,255,255,255,255,255,255,255,255,255,255,255,255,255,255,255,255,255,255,255,0],[0,0,255,0,0,0,0,255,0,255,0,0,255,255,255,255,255,255,255,255,255,255,255,255,0,255,255,255,255,255,255,255,255,0,255,0,0,255,255,0,255,255,255,255,255,255,255,255,255,255,0,255,0],[0,0,255,0,255,255,255,255,255,255,255,255,255,255,255,255,255,255,255,255,255,255,255,255,255,255,255,255,255,255,255,255,255,0,255,0,0,255,255,255,255,255,255,255,255,255,255,255,255,255,255,255,0],[0,0,255,0,0,0,255,255,255,255,255,255,255,255,255,255,255,255,255,255,255,255,255,255,255,255,255,255,255,255,255,255,255,0,0,0,0,255,255,255,0,0,0,0,0,0,0,255,0,0,0,0,0],[0,0,255,0,0,0,255,255,255,255,255,255,255,255,255,255,255,255,255,255,255,255,255,255,255,255,255,255,255,255,255,255,255,0,0,0,0,0,0,255,0,0,0,0,0,0,0,255,255,255,0,0,0],[0,0,255,0,0,0,255,255,255,255,255,255,255,255,255,255,255,255,255,255,255,255,255,255,255,255,255,255,255,255,255,255,255,0,0,0,0,0,0,255,0,0,0,0,0,0,0,255,255,255,0,0,0],[0,0,255,0,0,0,255,255,255,255,255,255,255,255,255,255,255,255,255,255,255,255,255,255,255,255,255,255,255,255,255,255,255,0,0,0,0,255,255,255,0,0,0,0,0,0,0,255,0,0,0,0,0],[0,0,255,0,0,0,255,255,255,255,255,255,255,255,255,255,255,255,255,255,255,255,255,255,255,255,255,255,255,255,255,255,255,0,0,0,0,0,0,255,0,0,0,0,0,0,0,255,255,255,0,0,0],[0,0,255,0,0,0,255,255,255,255,255,255,255,255,255,255,255,255,255,255,255,255,255,255,255,255,255,255,255,255,255,255,255,0,0,0,0,0,0,255,0,0,0,0,0,0,0,255,255,255,0,0,0],[0,0,255,0,0,0,255,255,255,255,255,255,255,255,255,255,255,255,255,255,255,255,255,255,255,255,255,255,255,255,255,255,255,0,0,0,0,255,255,255,0,0,0,0,0,0,0,255,0,0,0,0,0],[0,0,255,0,0,0,255,255,255,255,255,255,255,255,255,255,255,255,255,255,255,255,255,255,255,255,255,255,255,255,255,255,255,0,0,0,0,0,0,255,0,0,0,0,0,0,0,255,255,255,0,0,0],[0,0,255,0,0,0,255,255,255,255,255,255,255,255,255,255,255,255,255,255,255,255,255,255,255,255,255,255,255,255,255,255,255,0,0,0,0,0,0,255,0,0,0,0,0,0,0,255,255,255,0,0,0],[0,0,255,0,0,255,0,255,255,255,0,255,0,255,0,255,0,255,0,255,0,255,0,255,0,255,0,255,255,255,255,255,255,255,255,255,255,255,255,255,255,255,255,255,255,255,255,255,255,255,255,255,0],[0,0,255,0,255,255,255,255,255,255,255,255,255,255,255,255,255,255,255,255,255,255,255,255,255,255,255,255,255,255,255,255,255,0,255,0,0,0,0,255,255,0,0,0,0,255,0,255,0,0,255,255,0],[0,0,255,0,0,255,0,255,255,255,0,255,0,255,0,255,0,255,0,255,0,255,0,255,0,255,0,255,255,255,255,255,255,255,255,255,255,255,255,255,255,255,255,255,255,255,255,255,255,255,255,255,0],[0,0,255,0,255,255,255,255,255,255,255,255,255,255,255,255,255,255,255,255,255,255,255,255,255,255,255,255,255,255,255,255,255,0,255,0,0,0,0,255,255,0,0,0,0,255,0,255,0,0,255,255,0]],\"type\":\"heatmap\",\"xaxis\":\"x\",\"yaxis\":\"y\",\"hovertemplate\":\"x: %{x}<br>source: %{y}<br>color: %{z}<extra></extra>\"}],                        {\"template\":{\"data\":{\"histogram2dcontour\":[{\"type\":\"histogram2dcontour\",\"colorbar\":{\"outlinewidth\":0,\"ticks\":\"\"},\"colorscale\":[[0.0,\"#0d0887\"],[0.1111111111111111,\"#46039f\"],[0.2222222222222222,\"#7201a8\"],[0.3333333333333333,\"#9c179e\"],[0.4444444444444444,\"#bd3786\"],[0.5555555555555556,\"#d8576b\"],[0.6666666666666666,\"#ed7953\"],[0.7777777777777778,\"#fb9f3a\"],[0.8888888888888888,\"#fdca26\"],[1.0,\"#f0f921\"]]}],\"choropleth\":[{\"type\":\"choropleth\",\"colorbar\":{\"outlinewidth\":0,\"ticks\":\"\"}}],\"histogram2d\":[{\"type\":\"histogram2d\",\"colorbar\":{\"outlinewidth\":0,\"ticks\":\"\"},\"colorscale\":[[0.0,\"#0d0887\"],[0.1111111111111111,\"#46039f\"],[0.2222222222222222,\"#7201a8\"],[0.3333333333333333,\"#9c179e\"],[0.4444444444444444,\"#bd3786\"],[0.5555555555555556,\"#d8576b\"],[0.6666666666666666,\"#ed7953\"],[0.7777777777777778,\"#fb9f3a\"],[0.8888888888888888,\"#fdca26\"],[1.0,\"#f0f921\"]]}],\"heatmap\":[{\"type\":\"heatmap\",\"colorbar\":{\"outlinewidth\":0,\"ticks\":\"\"},\"colorscale\":[[0.0,\"#0d0887\"],[0.1111111111111111,\"#46039f\"],[0.2222222222222222,\"#7201a8\"],[0.3333333333333333,\"#9c179e\"],[0.4444444444444444,\"#bd3786\"],[0.5555555555555556,\"#d8576b\"],[0.6666666666666666,\"#ed7953\"],[0.7777777777777778,\"#fb9f3a\"],[0.8888888888888888,\"#fdca26\"],[1.0,\"#f0f921\"]]}],\"heatmapgl\":[{\"type\":\"heatmapgl\",\"colorbar\":{\"outlinewidth\":0,\"ticks\":\"\"},\"colorscale\":[[0.0,\"#0d0887\"],[0.1111111111111111,\"#46039f\"],[0.2222222222222222,\"#7201a8\"],[0.3333333333333333,\"#9c179e\"],[0.4444444444444444,\"#bd3786\"],[0.5555555555555556,\"#d8576b\"],[0.6666666666666666,\"#ed7953\"],[0.7777777777777778,\"#fb9f3a\"],[0.8888888888888888,\"#fdca26\"],[1.0,\"#f0f921\"]]}],\"contourcarpet\":[{\"type\":\"contourcarpet\",\"colorbar\":{\"outlinewidth\":0,\"ticks\":\"\"}}],\"contour\":[{\"type\":\"contour\",\"colorbar\":{\"outlinewidth\":0,\"ticks\":\"\"},\"colorscale\":[[0.0,\"#0d0887\"],[0.1111111111111111,\"#46039f\"],[0.2222222222222222,\"#7201a8\"],[0.3333333333333333,\"#9c179e\"],[0.4444444444444444,\"#bd3786\"],[0.5555555555555556,\"#d8576b\"],[0.6666666666666666,\"#ed7953\"],[0.7777777777777778,\"#fb9f3a\"],[0.8888888888888888,\"#fdca26\"],[1.0,\"#f0f921\"]]}],\"surface\":[{\"type\":\"surface\",\"colorbar\":{\"outlinewidth\":0,\"ticks\":\"\"},\"colorscale\":[[0.0,\"#0d0887\"],[0.1111111111111111,\"#46039f\"],[0.2222222222222222,\"#7201a8\"],[0.3333333333333333,\"#9c179e\"],[0.4444444444444444,\"#bd3786\"],[0.5555555555555556,\"#d8576b\"],[0.6666666666666666,\"#ed7953\"],[0.7777777777777778,\"#fb9f3a\"],[0.8888888888888888,\"#fdca26\"],[1.0,\"#f0f921\"]]}],\"mesh3d\":[{\"type\":\"mesh3d\",\"colorbar\":{\"outlinewidth\":0,\"ticks\":\"\"}}],\"scatter\":[{\"fillpattern\":{\"fillmode\":\"overlay\",\"size\":10,\"solidity\":0.2},\"type\":\"scatter\"}],\"parcoords\":[{\"type\":\"parcoords\",\"line\":{\"colorbar\":{\"outlinewidth\":0,\"ticks\":\"\"}}}],\"scatterpolargl\":[{\"type\":\"scatterpolargl\",\"marker\":{\"colorbar\":{\"outlinewidth\":0,\"ticks\":\"\"}}}],\"bar\":[{\"error_x\":{\"color\":\"#2a3f5f\"},\"error_y\":{\"color\":\"#2a3f5f\"},\"marker\":{\"line\":{\"color\":\"#E5ECF6\",\"width\":0.5},\"pattern\":{\"fillmode\":\"overlay\",\"size\":10,\"solidity\":0.2}},\"type\":\"bar\"}],\"scattergeo\":[{\"type\":\"scattergeo\",\"marker\":{\"colorbar\":{\"outlinewidth\":0,\"ticks\":\"\"}}}],\"scatterpolar\":[{\"type\":\"scatterpolar\",\"marker\":{\"colorbar\":{\"outlinewidth\":0,\"ticks\":\"\"}}}],\"histogram\":[{\"marker\":{\"pattern\":{\"fillmode\":\"overlay\",\"size\":10,\"solidity\":0.2}},\"type\":\"histogram\"}],\"scattergl\":[{\"type\":\"scattergl\",\"marker\":{\"colorbar\":{\"outlinewidth\":0,\"ticks\":\"\"}}}],\"scatter3d\":[{\"type\":\"scatter3d\",\"line\":{\"colorbar\":{\"outlinewidth\":0,\"ticks\":\"\"}},\"marker\":{\"colorbar\":{\"outlinewidth\":0,\"ticks\":\"\"}}}],\"scattermapbox\":[{\"type\":\"scattermapbox\",\"marker\":{\"colorbar\":{\"outlinewidth\":0,\"ticks\":\"\"}}}],\"scatterternary\":[{\"type\":\"scatterternary\",\"marker\":{\"colorbar\":{\"outlinewidth\":0,\"ticks\":\"\"}}}],\"scattercarpet\":[{\"type\":\"scattercarpet\",\"marker\":{\"colorbar\":{\"outlinewidth\":0,\"ticks\":\"\"}}}],\"carpet\":[{\"aaxis\":{\"endlinecolor\":\"#2a3f5f\",\"gridcolor\":\"white\",\"linecolor\":\"white\",\"minorgridcolor\":\"white\",\"startlinecolor\":\"#2a3f5f\"},\"baxis\":{\"endlinecolor\":\"#2a3f5f\",\"gridcolor\":\"white\",\"linecolor\":\"white\",\"minorgridcolor\":\"white\",\"startlinecolor\":\"#2a3f5f\"},\"type\":\"carpet\"}],\"table\":[{\"cells\":{\"fill\":{\"color\":\"#EBF0F8\"},\"line\":{\"color\":\"white\"}},\"header\":{\"fill\":{\"color\":\"#C8D4E3\"},\"line\":{\"color\":\"white\"}},\"type\":\"table\"}],\"barpolar\":[{\"marker\":{\"line\":{\"color\":\"#E5ECF6\",\"width\":0.5},\"pattern\":{\"fillmode\":\"overlay\",\"size\":10,\"solidity\":0.2}},\"type\":\"barpolar\"}],\"pie\":[{\"automargin\":true,\"type\":\"pie\"}]},\"layout\":{\"autotypenumbers\":\"strict\",\"colorway\":[\"#636efa\",\"#EF553B\",\"#00cc96\",\"#ab63fa\",\"#FFA15A\",\"#19d3f3\",\"#FF6692\",\"#B6E880\",\"#FF97FF\",\"#FECB52\"],\"font\":{\"color\":\"#2a3f5f\"},\"hovermode\":\"closest\",\"hoverlabel\":{\"align\":\"left\"},\"paper_bgcolor\":\"white\",\"plot_bgcolor\":\"#E5ECF6\",\"polar\":{\"bgcolor\":\"#E5ECF6\",\"angularaxis\":{\"gridcolor\":\"white\",\"linecolor\":\"white\",\"ticks\":\"\"},\"radialaxis\":{\"gridcolor\":\"white\",\"linecolor\":\"white\",\"ticks\":\"\"}},\"ternary\":{\"bgcolor\":\"#E5ECF6\",\"aaxis\":{\"gridcolor\":\"white\",\"linecolor\":\"white\",\"ticks\":\"\"},\"baxis\":{\"gridcolor\":\"white\",\"linecolor\":\"white\",\"ticks\":\"\"},\"caxis\":{\"gridcolor\":\"white\",\"linecolor\":\"white\",\"ticks\":\"\"}},\"coloraxis\":{\"colorbar\":{\"outlinewidth\":0,\"ticks\":\"\"}},\"colorscale\":{\"sequential\":[[0.0,\"#0d0887\"],[0.1111111111111111,\"#46039f\"],[0.2222222222222222,\"#7201a8\"],[0.3333333333333333,\"#9c179e\"],[0.4444444444444444,\"#bd3786\"],[0.5555555555555556,\"#d8576b\"],[0.6666666666666666,\"#ed7953\"],[0.7777777777777778,\"#fb9f3a\"],[0.8888888888888888,\"#fdca26\"],[1.0,\"#f0f921\"]],\"sequentialminus\":[[0.0,\"#0d0887\"],[0.1111111111111111,\"#46039f\"],[0.2222222222222222,\"#7201a8\"],[0.3333333333333333,\"#9c179e\"],[0.4444444444444444,\"#bd3786\"],[0.5555555555555556,\"#d8576b\"],[0.6666666666666666,\"#ed7953\"],[0.7777777777777778,\"#fb9f3a\"],[0.8888888888888888,\"#fdca26\"],[1.0,\"#f0f921\"]],\"diverging\":[[0,\"#8e0152\"],[0.1,\"#c51b7d\"],[0.2,\"#de77ae\"],[0.3,\"#f1b6da\"],[0.4,\"#fde0ef\"],[0.5,\"#f7f7f7\"],[0.6,\"#e6f5d0\"],[0.7,\"#b8e186\"],[0.8,\"#7fbc41\"],[0.9,\"#4d9221\"],[1,\"#276419\"]]},\"xaxis\":{\"gridcolor\":\"white\",\"linecolor\":\"white\",\"ticks\":\"\",\"title\":{\"standoff\":15},\"zerolinecolor\":\"white\",\"automargin\":true,\"zerolinewidth\":2},\"yaxis\":{\"gridcolor\":\"white\",\"linecolor\":\"white\",\"ticks\":\"\",\"title\":{\"standoff\":15},\"zerolinecolor\":\"white\",\"automargin\":true,\"zerolinewidth\":2},\"scene\":{\"xaxis\":{\"backgroundcolor\":\"#E5ECF6\",\"gridcolor\":\"white\",\"linecolor\":\"white\",\"showbackground\":true,\"ticks\":\"\",\"zerolinecolor\":\"white\",\"gridwidth\":2},\"yaxis\":{\"backgroundcolor\":\"#E5ECF6\",\"gridcolor\":\"white\",\"linecolor\":\"white\",\"showbackground\":true,\"ticks\":\"\",\"zerolinecolor\":\"white\",\"gridwidth\":2},\"zaxis\":{\"backgroundcolor\":\"#E5ECF6\",\"gridcolor\":\"white\",\"linecolor\":\"white\",\"showbackground\":true,\"ticks\":\"\",\"zerolinecolor\":\"white\",\"gridwidth\":2}},\"shapedefaults\":{\"line\":{\"color\":\"#2a3f5f\"}},\"annotationdefaults\":{\"arrowcolor\":\"#2a3f5f\",\"arrowhead\":0,\"arrowwidth\":1},\"geo\":{\"bgcolor\":\"white\",\"landcolor\":\"#E5ECF6\",\"subunitcolor\":\"white\",\"showland\":true,\"showlakes\":true,\"lakecolor\":\"white\"},\"title\":{\"x\":0.05},\"mapbox\":{\"style\":\"light\"}}},\"xaxis\":{\"anchor\":\"y\",\"domain\":[0.0,1.0],\"side\":\"top\"},\"yaxis\":{\"anchor\":\"x\",\"domain\":[0.0,1.0],\"autorange\":\"reversed\",\"title\":{\"text\":\"source\"}},\"coloraxis\":{\"colorscale\":[[0.0,\"rgb(0, 1, 0)\"],[0.1,\"rgb(11, 25, 39)\"],[0.2,\"rgb(17, 48, 77)\"],[0.3,\"rgb(27, 73, 117)\"],[0.4,\"rgb(46, 98, 160)\"],[0.5,\"rgb(78, 125, 199)\"],[0.6,\"rgb(111, 146, 202)\"],[0.7,\"rgb(144, 166, 201)\"],[0.8,\"rgb(176, 185, 200)\"],[0.9,\"rgb(215, 215, 216)\"],[1.0,\"rgb(255, 255, 255)\"]]},\"margin\":{\"t\":60},\"height\":800,\"width\":1200,\"title\":{\"text\":\"Count of unknown values in the database. Dark color signifies <br> known values, bright color signifies unknown value.\",\"y\":0.95}},                        {\"responsive\": true}                    ).then(function(){\n",
       "                            \n",
       "var gd = document.getElementById('5323e70e-5080-4b13-a748-965d7a21957d');\n",
       "var x = new MutationObserver(function (mutations, observer) {{\n",
       "        var display = window.getComputedStyle(gd).display;\n",
       "        if (!display || display === 'none') {{\n",
       "            console.log([gd, 'removed!']);\n",
       "            Plotly.purge(gd);\n",
       "            observer.disconnect();\n",
       "        }}\n",
       "}});\n",
       "\n",
       "// Listen for the removal of the full notebook cells\n",
       "var notebookContainer = gd.closest('#notebook-container');\n",
       "if (notebookContainer) {{\n",
       "    x.observe(notebookContainer, {childList: true});\n",
       "}}\n",
       "\n",
       "// Listen for the clearing of the current output cell\n",
       "var outputEl = gd.closest('.output');\n",
       "if (outputEl) {{\n",
       "    x.observe(outputEl, {childList: true});\n",
       "}}\n",
       "\n",
       "                        })                };                });            </script>        </div>"
      ]
     },
     "metadata": {},
     "output_type": "display_data"
    },
    {
     "data": {
      "text/plain": [
       "<Figure size 2000x2000 with 0 Axes>"
      ]
     },
     "metadata": {},
     "output_type": "display_data"
    }
   ],
   "source": [
    "import plotly\n",
    "\n",
    "# chose studies to display (index), all parameters are used in this example\n",
    "choice = df_studies.index[:50]\n",
    "\n",
    "df_plot = df_studies.loc[choice].isna()\n",
    "\n",
    "title_text = title = 'Count of unknown values in the database. Dark color signifies <br> known values, bright color signifies unknown value.'\n",
    "\n",
    "plt.figure(figsize=(20, 20))\n",
    "\n",
    "# initiate plot, chose size and color\n",
    "fig = px.imshow(df_plot, text_auto=False, aspect=\"auto\", width=1200,height=800,\n",
    "    color_continuous_scale=oslo,               )\n",
    "\n",
    "# set the labels on top\n",
    "fig.update_xaxes(side = \"top\")\n",
    "fig.update_layout(title_text=title_text,title_y = 0.95)\n",
    "fig.show()\n",
    "# fig.write_html(\"MissingDataStudyResults3.html\")"
   ]
  },
  {
   "cell_type": "markdown",
   "id": "4c95fd0e",
   "metadata": {},
   "source": [
    "### create lists of the parameters to faster select them in the plots (not used)"
   ]
  },
  {
   "cell_type": "code",
   "execution_count": 20,
   "id": "329f22fa",
   "metadata": {},
   "outputs": [],
   "source": [
    "nutrition =  [ 'Water [%]', 'Protein [%]', 'Fat [%]', 'Fiber [%]', 'Carbohydrates [%]',\n",
    "       'Energy [kcal/100g]', 'Ash [%]', 'Magnesium (mg/100g)',\n",
    "       'Zinc (mg/100g)', 'Iron (mg/100g)', 'Copper (mg/100g)',\n",
    "       'Manganese (mg/100g)', 'Calcium (mg/100g)', 'Chloride (mg/100g)',\n",
    "       'Potassium (mg/100g)', 'Sodium (mg/100g)', 'Phosphorus (mg/100g)',\n",
    "       'Selenium (mg/100g)']"
   ]
  },
  {
   "cell_type": "code",
   "execution_count": 21,
   "id": "299182b8",
   "metadata": {},
   "outputs": [],
   "source": [
    "ecology = [ 'GWP, kg CO2-EQ/kg product', \n",
    "       'EU, Fossil energy use, MJ/kg product', \n",
    "       'LU, Land use, m2/Jahr', \n",
    "       'TAP, terrestrial acidification potential, g SO2-eq ',\n",
    "        'FEP, freshwater eutrophication potential, g P-eq ',\n",
    "        'Water Footprint (WF), m3/kg', 'Bemerkung zu WF',\n",
    "       'Marine eutrophication (ME), kg N eq /kg', \n",
    "       'Ozone depletion (OD), kg CFC-11 eq/ kg', \n",
    "       'Photochemical oxidant formation (POF), kg NMVOC eq/ kg',\n",
    "       'Particulate matter formation (PMF), kg PM10 eq/ kg', \n",
    "       'Fossil depletion (FD), kg oil eq/ kg']"
   ]
  },
  {
   "cell_type": "code",
   "execution_count": 22,
   "id": "0578bdf0",
   "metadata": {},
   "outputs": [],
   "source": [
    "all_aspects = nutrition + ecology"
   ]
  },
  {
   "cell_type": "code",
   "execution_count": 23,
   "id": "269a5201",
   "metadata": {},
   "outputs": [],
   "source": [
    "def filter_data(df = df_studies,\n",
    "               choice_aspects = all_aspects\n",
    "               ):\n",
    "\n",
    "    df = df[['Studie', 'StudieNr'] + choice_aspects]\n",
    "    \n",
    "    return df"
   ]
  },
  {
   "cell_type": "code",
   "execution_count": 24,
   "id": "00ec33b0",
   "metadata": {},
   "outputs": [],
   "source": [
    "df_show = filter_data(df = df_studies)"
   ]
  },
  {
   "cell_type": "markdown",
   "id": "67aa1913",
   "metadata": {},
   "source": [
    "## Barplots for comparing several parameters for chosen studies in Plotly"
   ]
  },
  {
   "cell_type": "code",
   "execution_count": 29,
   "id": "6d851695",
   "metadata": {
    "scrolled": true
   },
   "outputs": [
    {
     "data": {
      "application/vnd.plotly.v1+json": {
       "config": {
        "plotlyServerURL": "https://plot.ly"
       },
       "data": [
        {
         "alignmentgroup": "True",
         "hovertemplate": "variable=0<br>index=%{x}<br>value=%{y}<extra></extra>",
         "legendgroup": "0",
         "marker": {
          "color": "rgb(0, 1, 0)",
          "pattern": {
           "shape": ""
          }
         },
         "name": "0",
         "offsetgroup": "0",
         "orientation": "v",
         "showlegend": true,
         "textposition": "auto",
         "type": "bar",
         "x": [
          "Fat [%]"
         ],
         "xaxis": "x",
         "y": [
          11
         ],
         "yaxis": "y"
        },
        {
         "alignmentgroup": "True",
         "hovertemplate": "variable=0<br>index=%{x}<br>value=%{y}<extra></extra>",
         "legendgroup": "0",
         "marker": {
          "color": "rgb(0, 1, 0)",
          "pattern": {
           "shape": ""
          }
         },
         "name": "0",
         "offsetgroup": "0",
         "orientation": "v",
         "showlegend": false,
         "textposition": "auto",
         "type": "bar",
         "x": [
          "Protein [%]"
         ],
         "xaxis": "x2",
         "y": [
          50
         ],
         "yaxis": "y2"
        },
        {
         "alignmentgroup": "True",
         "hovertemplate": "variable=0<br>index=%{x}<br>value=%{y}<extra></extra>",
         "legendgroup": "0",
         "marker": {
          "color": "rgb(0, 1, 0)",
          "pattern": {
           "shape": ""
          }
         },
         "name": "0",
         "offsetgroup": "0",
         "orientation": "v",
         "showlegend": false,
         "textposition": "auto",
         "type": "bar",
         "x": [
          "GWP, kg CO2-EQ/kg product"
         ],
         "xaxis": "x3",
         "y": [
          null
         ],
         "yaxis": "y3"
        },
        {
         "alignmentgroup": "True",
         "hovertemplate": "variable=1<br>index=%{x}<br>value=%{y}<extra></extra>",
         "legendgroup": "1",
         "marker": {
          "color": "rgb(11, 25, 39)",
          "pattern": {
           "shape": ""
          }
         },
         "name": "1",
         "offsetgroup": "1",
         "orientation": "v",
         "showlegend": true,
         "textposition": "auto",
         "type": "bar",
         "x": [
          "Fat [%]"
         ],
         "xaxis": "x",
         "y": [
          10.46
         ],
         "yaxis": "y"
        },
        {
         "alignmentgroup": "True",
         "hovertemplate": "variable=1<br>index=%{x}<br>value=%{y}<extra></extra>",
         "legendgroup": "1",
         "marker": {
          "color": "rgb(11, 25, 39)",
          "pattern": {
           "shape": ""
          }
         },
         "name": "1",
         "offsetgroup": "1",
         "orientation": "v",
         "showlegend": false,
         "textposition": "auto",
         "type": "bar",
         "x": [
          "Protein [%]"
         ],
         "xaxis": "x2",
         "y": [
          69
         ],
         "yaxis": "y2"
        },
        {
         "alignmentgroup": "True",
         "hovertemplate": "variable=1<br>index=%{x}<br>value=%{y}<extra></extra>",
         "legendgroup": "1",
         "marker": {
          "color": "rgb(11, 25, 39)",
          "pattern": {
           "shape": ""
          }
         },
         "name": "1",
         "offsetgroup": "1",
         "orientation": "v",
         "showlegend": false,
         "textposition": "auto",
         "type": "bar",
         "x": [
          "GWP, kg CO2-EQ/kg product"
         ],
         "xaxis": "x3",
         "y": [
          null
         ],
         "yaxis": "y3"
        },
        {
         "alignmentgroup": "True",
         "hovertemplate": "variable=2<br>index=%{x}<br>value=%{y}<extra></extra>",
         "legendgroup": "2",
         "marker": {
          "color": "rgb(17, 48, 77)",
          "pattern": {
           "shape": ""
          }
         },
         "name": "2",
         "offsetgroup": "2",
         "orientation": "v",
         "showlegend": true,
         "textposition": "auto",
         "type": "bar",
         "x": [
          "Fat [%]"
         ],
         "xaxis": "x",
         "y": [
          1.05
         ],
         "yaxis": "y"
        },
        {
         "alignmentgroup": "True",
         "hovertemplate": "variable=2<br>index=%{x}<br>value=%{y}<extra></extra>",
         "legendgroup": "2",
         "marker": {
          "color": "rgb(17, 48, 77)",
          "pattern": {
           "shape": ""
          }
         },
         "name": "2",
         "offsetgroup": "2",
         "orientation": "v",
         "showlegend": false,
         "textposition": "auto",
         "type": "bar",
         "x": [
          "Protein [%]"
         ],
         "xaxis": "x2",
         "y": [
          12.9
         ],
         "yaxis": "y2"
        },
        {
         "alignmentgroup": "True",
         "hovertemplate": "variable=2<br>index=%{x}<br>value=%{y}<extra></extra>",
         "legendgroup": "2",
         "marker": {
          "color": "rgb(17, 48, 77)",
          "pattern": {
           "shape": ""
          }
         },
         "name": "2",
         "offsetgroup": "2",
         "orientation": "v",
         "showlegend": false,
         "textposition": "auto",
         "type": "bar",
         "x": [
          "GWP, kg CO2-EQ/kg product"
         ],
         "xaxis": "x3",
         "y": [
          0.676
         ],
         "yaxis": "y3"
        },
        {
         "alignmentgroup": "True",
         "hovertemplate": "variable=3<br>index=%{x}<br>value=%{y}<extra></extra>",
         "legendgroup": "3",
         "marker": {
          "color": "rgb(27, 73, 117)",
          "pattern": {
           "shape": ""
          }
         },
         "name": "3",
         "offsetgroup": "3",
         "orientation": "v",
         "showlegend": true,
         "textposition": "auto",
         "type": "bar",
         "x": [
          "Fat [%]"
         ],
         "xaxis": "x",
         "y": [
          null
         ],
         "yaxis": "y"
        },
        {
         "alignmentgroup": "True",
         "hovertemplate": "variable=3<br>index=%{x}<br>value=%{y}<extra></extra>",
         "legendgroup": "3",
         "marker": {
          "color": "rgb(27, 73, 117)",
          "pattern": {
           "shape": ""
          }
         },
         "name": "3",
         "offsetgroup": "3",
         "orientation": "v",
         "showlegend": false,
         "textposition": "auto",
         "type": "bar",
         "x": [
          "Protein [%]"
         ],
         "xaxis": "x2",
         "y": [
          null
         ],
         "yaxis": "y2"
        },
        {
         "alignmentgroup": "True",
         "hovertemplate": "variable=3<br>index=%{x}<br>value=%{y}<extra></extra>",
         "legendgroup": "3",
         "marker": {
          "color": "rgb(27, 73, 117)",
          "pattern": {
           "shape": ""
          }
         },
         "name": "3",
         "offsetgroup": "3",
         "orientation": "v",
         "showlegend": false,
         "textposition": "auto",
         "type": "bar",
         "x": [
          "GWP, kg CO2-EQ/kg product"
         ],
         "xaxis": "x3",
         "y": [
          5.21
         ],
         "yaxis": "y3"
        },
        {
         "alignmentgroup": "True",
         "hovertemplate": "variable=4<br>index=%{x}<br>value=%{y}<extra></extra>",
         "legendgroup": "4",
         "marker": {
          "color": "rgb(46, 98, 160)",
          "pattern": {
           "shape": ""
          }
         },
         "name": "4",
         "offsetgroup": "4",
         "orientation": "v",
         "showlegend": true,
         "textposition": "auto",
         "type": "bar",
         "x": [
          "Fat [%]"
         ],
         "xaxis": "x",
         "y": [
          1.05
         ],
         "yaxis": "y"
        },
        {
         "alignmentgroup": "True",
         "hovertemplate": "variable=4<br>index=%{x}<br>value=%{y}<extra></extra>",
         "legendgroup": "4",
         "marker": {
          "color": "rgb(46, 98, 160)",
          "pattern": {
           "shape": ""
          }
         },
         "name": "4",
         "offsetgroup": "4",
         "orientation": "v",
         "showlegend": false,
         "textposition": "auto",
         "type": "bar",
         "x": [
          "Protein [%]"
         ],
         "xaxis": "x2",
         "y": [
          12.9
         ],
         "yaxis": "y2"
        },
        {
         "alignmentgroup": "True",
         "hovertemplate": "variable=4<br>index=%{x}<br>value=%{y}<extra></extra>",
         "legendgroup": "4",
         "marker": {
          "color": "rgb(46, 98, 160)",
          "pattern": {
           "shape": ""
          }
         },
         "name": "4",
         "offsetgroup": "4",
         "orientation": "v",
         "showlegend": false,
         "textposition": "auto",
         "type": "bar",
         "x": [
          "GWP, kg CO2-EQ/kg product"
         ],
         "xaxis": "x3",
         "y": [
          0.7
         ],
         "yaxis": "y3"
        },
        {
         "alignmentgroup": "True",
         "hovertemplate": "variable=5<br>index=%{x}<br>value=%{y}<extra></extra>",
         "legendgroup": "5",
         "marker": {
          "color": "rgb(78, 125, 199)",
          "pattern": {
           "shape": ""
          }
         },
         "name": "5",
         "offsetgroup": "5",
         "orientation": "v",
         "showlegend": true,
         "textposition": "auto",
         "type": "bar",
         "x": [
          "Fat [%]"
         ],
         "xaxis": "x",
         "y": [
          0.49
         ],
         "yaxis": "y"
        },
        {
         "alignmentgroup": "True",
         "hovertemplate": "variable=5<br>index=%{x}<br>value=%{y}<extra></extra>",
         "legendgroup": "5",
         "marker": {
          "color": "rgb(78, 125, 199)",
          "pattern": {
           "shape": ""
          }
         },
         "name": "5",
         "offsetgroup": "5",
         "orientation": "v",
         "showlegend": false,
         "textposition": "auto",
         "type": "bar",
         "x": [
          "Protein [%]"
         ],
         "xaxis": "x2",
         "y": [
          18
         ],
         "yaxis": "y2"
        },
        {
         "alignmentgroup": "True",
         "hovertemplate": "variable=5<br>index=%{x}<br>value=%{y}<extra></extra>",
         "legendgroup": "5",
         "marker": {
          "color": "rgb(78, 125, 199)",
          "pattern": {
           "shape": ""
          }
         },
         "name": "5",
         "offsetgroup": "5",
         "orientation": "v",
         "showlegend": false,
         "textposition": "auto",
         "type": "bar",
         "x": [
          "GWP, kg CO2-EQ/kg product"
         ],
         "xaxis": "x3",
         "y": [
          null
         ],
         "yaxis": "y3"
        }
       ],
       "layout": {
        "annotations": [
         {
          "font": {},
          "showarrow": false,
          "text": "Fat [%]",
          "x": 0.14666666666666667,
          "xanchor": "center",
          "xref": "paper",
          "y": 1,
          "yanchor": "bottom",
          "yref": "paper"
         },
         {
          "font": {},
          "showarrow": false,
          "text": "Protein [%]",
          "x": 0.5,
          "xanchor": "center",
          "xref": "paper",
          "y": 1,
          "yanchor": "bottom",
          "yref": "paper"
         },
         {
          "font": {},
          "showarrow": false,
          "text": "GWP, kg CO2-EQ/kg product",
          "x": 0.8533333333333333,
          "xanchor": "center",
          "xref": "paper",
          "y": 1,
          "yanchor": "bottom",
          "yref": "paper"
         }
        ],
        "barmode": "group",
        "legend": {
         "title": {
          "text": "Study number"
         },
         "tracegroupgap": 0
        },
        "margin": {
         "t": 250
        },
        "template": {
         "data": {
          "bar": [
           {
            "error_x": {
             "color": "#2a3f5f"
            },
            "error_y": {
             "color": "#2a3f5f"
            },
            "marker": {
             "line": {
              "color": "#E5ECF6",
              "width": 0.5
             },
             "pattern": {
              "fillmode": "overlay",
              "size": 10,
              "solidity": 0.2
             }
            },
            "type": "bar"
           }
          ],
          "barpolar": [
           {
            "marker": {
             "line": {
              "color": "#E5ECF6",
              "width": 0.5
             },
             "pattern": {
              "fillmode": "overlay",
              "size": 10,
              "solidity": 0.2
             }
            },
            "type": "barpolar"
           }
          ],
          "carpet": [
           {
            "aaxis": {
             "endlinecolor": "#2a3f5f",
             "gridcolor": "white",
             "linecolor": "white",
             "minorgridcolor": "white",
             "startlinecolor": "#2a3f5f"
            },
            "baxis": {
             "endlinecolor": "#2a3f5f",
             "gridcolor": "white",
             "linecolor": "white",
             "minorgridcolor": "white",
             "startlinecolor": "#2a3f5f"
            },
            "type": "carpet"
           }
          ],
          "choropleth": [
           {
            "colorbar": {
             "outlinewidth": 0,
             "ticks": ""
            },
            "type": "choropleth"
           }
          ],
          "contour": [
           {
            "colorbar": {
             "outlinewidth": 0,
             "ticks": ""
            },
            "colorscale": [
             [
              0,
              "#0d0887"
             ],
             [
              0.1111111111111111,
              "#46039f"
             ],
             [
              0.2222222222222222,
              "#7201a8"
             ],
             [
              0.3333333333333333,
              "#9c179e"
             ],
             [
              0.4444444444444444,
              "#bd3786"
             ],
             [
              0.5555555555555556,
              "#d8576b"
             ],
             [
              0.6666666666666666,
              "#ed7953"
             ],
             [
              0.7777777777777778,
              "#fb9f3a"
             ],
             [
              0.8888888888888888,
              "#fdca26"
             ],
             [
              1,
              "#f0f921"
             ]
            ],
            "type": "contour"
           }
          ],
          "contourcarpet": [
           {
            "colorbar": {
             "outlinewidth": 0,
             "ticks": ""
            },
            "type": "contourcarpet"
           }
          ],
          "heatmap": [
           {
            "colorbar": {
             "outlinewidth": 0,
             "ticks": ""
            },
            "colorscale": [
             [
              0,
              "#0d0887"
             ],
             [
              0.1111111111111111,
              "#46039f"
             ],
             [
              0.2222222222222222,
              "#7201a8"
             ],
             [
              0.3333333333333333,
              "#9c179e"
             ],
             [
              0.4444444444444444,
              "#bd3786"
             ],
             [
              0.5555555555555556,
              "#d8576b"
             ],
             [
              0.6666666666666666,
              "#ed7953"
             ],
             [
              0.7777777777777778,
              "#fb9f3a"
             ],
             [
              0.8888888888888888,
              "#fdca26"
             ],
             [
              1,
              "#f0f921"
             ]
            ],
            "type": "heatmap"
           }
          ],
          "heatmapgl": [
           {
            "colorbar": {
             "outlinewidth": 0,
             "ticks": ""
            },
            "colorscale": [
             [
              0,
              "#0d0887"
             ],
             [
              0.1111111111111111,
              "#46039f"
             ],
             [
              0.2222222222222222,
              "#7201a8"
             ],
             [
              0.3333333333333333,
              "#9c179e"
             ],
             [
              0.4444444444444444,
              "#bd3786"
             ],
             [
              0.5555555555555556,
              "#d8576b"
             ],
             [
              0.6666666666666666,
              "#ed7953"
             ],
             [
              0.7777777777777778,
              "#fb9f3a"
             ],
             [
              0.8888888888888888,
              "#fdca26"
             ],
             [
              1,
              "#f0f921"
             ]
            ],
            "type": "heatmapgl"
           }
          ],
          "histogram": [
           {
            "marker": {
             "pattern": {
              "fillmode": "overlay",
              "size": 10,
              "solidity": 0.2
             }
            },
            "type": "histogram"
           }
          ],
          "histogram2d": [
           {
            "colorbar": {
             "outlinewidth": 0,
             "ticks": ""
            },
            "colorscale": [
             [
              0,
              "#0d0887"
             ],
             [
              0.1111111111111111,
              "#46039f"
             ],
             [
              0.2222222222222222,
              "#7201a8"
             ],
             [
              0.3333333333333333,
              "#9c179e"
             ],
             [
              0.4444444444444444,
              "#bd3786"
             ],
             [
              0.5555555555555556,
              "#d8576b"
             ],
             [
              0.6666666666666666,
              "#ed7953"
             ],
             [
              0.7777777777777778,
              "#fb9f3a"
             ],
             [
              0.8888888888888888,
              "#fdca26"
             ],
             [
              1,
              "#f0f921"
             ]
            ],
            "type": "histogram2d"
           }
          ],
          "histogram2dcontour": [
           {
            "colorbar": {
             "outlinewidth": 0,
             "ticks": ""
            },
            "colorscale": [
             [
              0,
              "#0d0887"
             ],
             [
              0.1111111111111111,
              "#46039f"
             ],
             [
              0.2222222222222222,
              "#7201a8"
             ],
             [
              0.3333333333333333,
              "#9c179e"
             ],
             [
              0.4444444444444444,
              "#bd3786"
             ],
             [
              0.5555555555555556,
              "#d8576b"
             ],
             [
              0.6666666666666666,
              "#ed7953"
             ],
             [
              0.7777777777777778,
              "#fb9f3a"
             ],
             [
              0.8888888888888888,
              "#fdca26"
             ],
             [
              1,
              "#f0f921"
             ]
            ],
            "type": "histogram2dcontour"
           }
          ],
          "mesh3d": [
           {
            "colorbar": {
             "outlinewidth": 0,
             "ticks": ""
            },
            "type": "mesh3d"
           }
          ],
          "parcoords": [
           {
            "line": {
             "colorbar": {
              "outlinewidth": 0,
              "ticks": ""
             }
            },
            "type": "parcoords"
           }
          ],
          "pie": [
           {
            "automargin": true,
            "type": "pie"
           }
          ],
          "scatter": [
           {
            "fillpattern": {
             "fillmode": "overlay",
             "size": 10,
             "solidity": 0.2
            },
            "type": "scatter"
           }
          ],
          "scatter3d": [
           {
            "line": {
             "colorbar": {
              "outlinewidth": 0,
              "ticks": ""
             }
            },
            "marker": {
             "colorbar": {
              "outlinewidth": 0,
              "ticks": ""
             }
            },
            "type": "scatter3d"
           }
          ],
          "scattercarpet": [
           {
            "marker": {
             "colorbar": {
              "outlinewidth": 0,
              "ticks": ""
             }
            },
            "type": "scattercarpet"
           }
          ],
          "scattergeo": [
           {
            "marker": {
             "colorbar": {
              "outlinewidth": 0,
              "ticks": ""
             }
            },
            "type": "scattergeo"
           }
          ],
          "scattergl": [
           {
            "marker": {
             "colorbar": {
              "outlinewidth": 0,
              "ticks": ""
             }
            },
            "type": "scattergl"
           }
          ],
          "scattermapbox": [
           {
            "marker": {
             "colorbar": {
              "outlinewidth": 0,
              "ticks": ""
             }
            },
            "type": "scattermapbox"
           }
          ],
          "scatterpolar": [
           {
            "marker": {
             "colorbar": {
              "outlinewidth": 0,
              "ticks": ""
             }
            },
            "type": "scatterpolar"
           }
          ],
          "scatterpolargl": [
           {
            "marker": {
             "colorbar": {
              "outlinewidth": 0,
              "ticks": ""
             }
            },
            "type": "scatterpolargl"
           }
          ],
          "scatterternary": [
           {
            "marker": {
             "colorbar": {
              "outlinewidth": 0,
              "ticks": ""
             }
            },
            "type": "scatterternary"
           }
          ],
          "surface": [
           {
            "colorbar": {
             "outlinewidth": 0,
             "ticks": ""
            },
            "colorscale": [
             [
              0,
              "#0d0887"
             ],
             [
              0.1111111111111111,
              "#46039f"
             ],
             [
              0.2222222222222222,
              "#7201a8"
             ],
             [
              0.3333333333333333,
              "#9c179e"
             ],
             [
              0.4444444444444444,
              "#bd3786"
             ],
             [
              0.5555555555555556,
              "#d8576b"
             ],
             [
              0.6666666666666666,
              "#ed7953"
             ],
             [
              0.7777777777777778,
              "#fb9f3a"
             ],
             [
              0.8888888888888888,
              "#fdca26"
             ],
             [
              1,
              "#f0f921"
             ]
            ],
            "type": "surface"
           }
          ],
          "table": [
           {
            "cells": {
             "fill": {
              "color": "#EBF0F8"
             },
             "line": {
              "color": "white"
             }
            },
            "header": {
             "fill": {
              "color": "#C8D4E3"
             },
             "line": {
              "color": "white"
             }
            },
            "type": "table"
           }
          ]
         },
         "layout": {
          "annotationdefaults": {
           "arrowcolor": "#2a3f5f",
           "arrowhead": 0,
           "arrowwidth": 1
          },
          "autotypenumbers": "strict",
          "coloraxis": {
           "colorbar": {
            "outlinewidth": 0,
            "ticks": ""
           }
          },
          "colorscale": {
           "diverging": [
            [
             0,
             "#8e0152"
            ],
            [
             0.1,
             "#c51b7d"
            ],
            [
             0.2,
             "#de77ae"
            ],
            [
             0.3,
             "#f1b6da"
            ],
            [
             0.4,
             "#fde0ef"
            ],
            [
             0.5,
             "#f7f7f7"
            ],
            [
             0.6,
             "#e6f5d0"
            ],
            [
             0.7,
             "#b8e186"
            ],
            [
             0.8,
             "#7fbc41"
            ],
            [
             0.9,
             "#4d9221"
            ],
            [
             1,
             "#276419"
            ]
           ],
           "sequential": [
            [
             0,
             "#0d0887"
            ],
            [
             0.1111111111111111,
             "#46039f"
            ],
            [
             0.2222222222222222,
             "#7201a8"
            ],
            [
             0.3333333333333333,
             "#9c179e"
            ],
            [
             0.4444444444444444,
             "#bd3786"
            ],
            [
             0.5555555555555556,
             "#d8576b"
            ],
            [
             0.6666666666666666,
             "#ed7953"
            ],
            [
             0.7777777777777778,
             "#fb9f3a"
            ],
            [
             0.8888888888888888,
             "#fdca26"
            ],
            [
             1,
             "#f0f921"
            ]
           ],
           "sequentialminus": [
            [
             0,
             "#0d0887"
            ],
            [
             0.1111111111111111,
             "#46039f"
            ],
            [
             0.2222222222222222,
             "#7201a8"
            ],
            [
             0.3333333333333333,
             "#9c179e"
            ],
            [
             0.4444444444444444,
             "#bd3786"
            ],
            [
             0.5555555555555556,
             "#d8576b"
            ],
            [
             0.6666666666666666,
             "#ed7953"
            ],
            [
             0.7777777777777778,
             "#fb9f3a"
            ],
            [
             0.8888888888888888,
             "#fdca26"
            ],
            [
             1,
             "#f0f921"
            ]
           ]
          },
          "colorway": [
           "#636efa",
           "#EF553B",
           "#00cc96",
           "#ab63fa",
           "#FFA15A",
           "#19d3f3",
           "#FF6692",
           "#B6E880",
           "#FF97FF",
           "#FECB52"
          ],
          "font": {
           "color": "#2a3f5f"
          },
          "geo": {
           "bgcolor": "white",
           "lakecolor": "white",
           "landcolor": "#E5ECF6",
           "showlakes": true,
           "showland": true,
           "subunitcolor": "white"
          },
          "hoverlabel": {
           "align": "left"
          },
          "hovermode": "closest",
          "mapbox": {
           "style": "light"
          },
          "paper_bgcolor": "white",
          "plot_bgcolor": "#E5ECF6",
          "polar": {
           "angularaxis": {
            "gridcolor": "white",
            "linecolor": "white",
            "ticks": ""
           },
           "bgcolor": "#E5ECF6",
           "radialaxis": {
            "gridcolor": "white",
            "linecolor": "white",
            "ticks": ""
           }
          },
          "scene": {
           "xaxis": {
            "backgroundcolor": "#E5ECF6",
            "gridcolor": "white",
            "gridwidth": 2,
            "linecolor": "white",
            "showbackground": true,
            "ticks": "",
            "zerolinecolor": "white"
           },
           "yaxis": {
            "backgroundcolor": "#E5ECF6",
            "gridcolor": "white",
            "gridwidth": 2,
            "linecolor": "white",
            "showbackground": true,
            "ticks": "",
            "zerolinecolor": "white"
           },
           "zaxis": {
            "backgroundcolor": "#E5ECF6",
            "gridcolor": "white",
            "gridwidth": 2,
            "linecolor": "white",
            "showbackground": true,
            "ticks": "",
            "zerolinecolor": "white"
           }
          },
          "shapedefaults": {
           "line": {
            "color": "#2a3f5f"
           }
          },
          "ternary": {
           "aaxis": {
            "gridcolor": "white",
            "linecolor": "white",
            "ticks": ""
           },
           "baxis": {
            "gridcolor": "white",
            "linecolor": "white",
            "ticks": ""
           },
           "bgcolor": "#E5ECF6",
           "caxis": {
            "gridcolor": "white",
            "linecolor": "white",
            "ticks": ""
           }
          },
          "title": {
           "x": 0.05
          },
          "xaxis": {
           "automargin": true,
           "gridcolor": "white",
           "linecolor": "white",
           "ticks": "",
           "title": {
            "standoff": 15
           },
           "zerolinecolor": "white",
           "zerolinewidth": 2
          },
          "yaxis": {
           "automargin": true,
           "gridcolor": "white",
           "linecolor": "white",
           "ticks": "",
           "title": {
            "standoff": 15
           },
           "zerolinecolor": "white",
           "zerolinewidth": 2
          }
         }
        },
        "title": {
         "text": "Values for chosen parameter ['Fat [%]', 'Protein [%]', 'GWP, kg CO2-EQ/kg product']<br>for studies about ['grasshopper', 'snail'].<br>The different studies are placed on the x-axis, encoded by numbers (see legend) because the names are<br>too long and sorted in ascending order for each subplot. See studies dictionary for the translation of <br>numbers into study titles."
        },
        "xaxis": {
         "anchor": "y",
         "categoryarray": [
          "Fat [%]",
          "Protein [%]",
          "GWP, kg CO2-EQ/kg product"
         ],
         "categoryorder": "array",
         "domain": [
          0,
          0.29333333333333333
         ],
         "showticklabels": true,
         "title": {
          "text": "index"
         }
        },
        "xaxis2": {
         "anchor": "y2",
         "categoryarray": [
          "Fat [%]",
          "Protein [%]",
          "GWP, kg CO2-EQ/kg product"
         ],
         "categoryorder": "array",
         "domain": [
          0.35333333333333333,
          0.6466666666666667
         ],
         "showticklabels": true,
         "title": {
          "text": "index"
         }
        },
        "xaxis3": {
         "anchor": "y3",
         "categoryarray": [
          "Fat [%]",
          "Protein [%]",
          "GWP, kg CO2-EQ/kg product"
         ],
         "categoryorder": "array",
         "domain": [
          0.7066666666666667,
          1
         ],
         "showticklabels": true,
         "title": {
          "text": "index"
         }
        },
        "yaxis": {
         "anchor": "x",
         "domain": [
          0,
          1
         ],
         "showticklabels": true,
         "ticktext": [
          0,
          1,
          2,
          3,
          4,
          5
         ],
         "title": {
          "text": "value"
         }
        },
        "yaxis2": {
         "anchor": "x2",
         "domain": [
          0,
          1
         ],
         "showticklabels": true,
         "ticktext": [
          0,
          1,
          2,
          3,
          4,
          5
         ]
        },
        "yaxis3": {
         "anchor": "x3",
         "domain": [
          0,
          1
         ],
         "showticklabels": true,
         "ticktext": [
          0,
          1,
          2,
          3,
          4,
          5
         ]
        }
       }
      },
      "text/html": [
       "<div>                            <div id=\"f13034f1-4c18-4c02-b9da-4bcdeff27e1d\" class=\"plotly-graph-div\" style=\"height:525px; width:100%;\"></div>            <script type=\"text/javascript\">                require([\"plotly\"], function(Plotly) {                    window.PLOTLYENV=window.PLOTLYENV || {};                                    if (document.getElementById(\"f13034f1-4c18-4c02-b9da-4bcdeff27e1d\")) {                    Plotly.newPlot(                        \"f13034f1-4c18-4c02-b9da-4bcdeff27e1d\",                        [{\"alignmentgroup\":\"True\",\"hovertemplate\":\"variable=0<br>index=%{x}<br>value=%{y}<extra></extra>\",\"legendgroup\":\"0\",\"marker\":{\"color\":\"rgb(0, 1, 0)\",\"pattern\":{\"shape\":\"\"}},\"name\":\"0\",\"offsetgroup\":\"0\",\"orientation\":\"v\",\"showlegend\":true,\"textposition\":\"auto\",\"x\":[\"Fat [%]\"],\"xaxis\":\"x\",\"y\":[11.0],\"yaxis\":\"y\",\"type\":\"bar\"},{\"alignmentgroup\":\"True\",\"hovertemplate\":\"variable=0<br>index=%{x}<br>value=%{y}<extra></extra>\",\"legendgroup\":\"0\",\"marker\":{\"color\":\"rgb(0, 1, 0)\",\"pattern\":{\"shape\":\"\"}},\"name\":\"0\",\"offsetgroup\":\"0\",\"orientation\":\"v\",\"showlegend\":false,\"textposition\":\"auto\",\"x\":[\"Protein [%]\"],\"xaxis\":\"x2\",\"y\":[50.0],\"yaxis\":\"y2\",\"type\":\"bar\"},{\"alignmentgroup\":\"True\",\"hovertemplate\":\"variable=0<br>index=%{x}<br>value=%{y}<extra></extra>\",\"legendgroup\":\"0\",\"marker\":{\"color\":\"rgb(0, 1, 0)\",\"pattern\":{\"shape\":\"\"}},\"name\":\"0\",\"offsetgroup\":\"0\",\"orientation\":\"v\",\"showlegend\":false,\"textposition\":\"auto\",\"x\":[\"GWP, kg CO2-EQ/kg product\"],\"xaxis\":\"x3\",\"y\":[null],\"yaxis\":\"y3\",\"type\":\"bar\"},{\"alignmentgroup\":\"True\",\"hovertemplate\":\"variable=1<br>index=%{x}<br>value=%{y}<extra></extra>\",\"legendgroup\":\"1\",\"marker\":{\"color\":\"rgb(11, 25, 39)\",\"pattern\":{\"shape\":\"\"}},\"name\":\"1\",\"offsetgroup\":\"1\",\"orientation\":\"v\",\"showlegend\":true,\"textposition\":\"auto\",\"x\":[\"Fat [%]\"],\"xaxis\":\"x\",\"y\":[10.46],\"yaxis\":\"y\",\"type\":\"bar\"},{\"alignmentgroup\":\"True\",\"hovertemplate\":\"variable=1<br>index=%{x}<br>value=%{y}<extra></extra>\",\"legendgroup\":\"1\",\"marker\":{\"color\":\"rgb(11, 25, 39)\",\"pattern\":{\"shape\":\"\"}},\"name\":\"1\",\"offsetgroup\":\"1\",\"orientation\":\"v\",\"showlegend\":false,\"textposition\":\"auto\",\"x\":[\"Protein [%]\"],\"xaxis\":\"x2\",\"y\":[69.0],\"yaxis\":\"y2\",\"type\":\"bar\"},{\"alignmentgroup\":\"True\",\"hovertemplate\":\"variable=1<br>index=%{x}<br>value=%{y}<extra></extra>\",\"legendgroup\":\"1\",\"marker\":{\"color\":\"rgb(11, 25, 39)\",\"pattern\":{\"shape\":\"\"}},\"name\":\"1\",\"offsetgroup\":\"1\",\"orientation\":\"v\",\"showlegend\":false,\"textposition\":\"auto\",\"x\":[\"GWP, kg CO2-EQ/kg product\"],\"xaxis\":\"x3\",\"y\":[null],\"yaxis\":\"y3\",\"type\":\"bar\"},{\"alignmentgroup\":\"True\",\"hovertemplate\":\"variable=2<br>index=%{x}<br>value=%{y}<extra></extra>\",\"legendgroup\":\"2\",\"marker\":{\"color\":\"rgb(17, 48, 77)\",\"pattern\":{\"shape\":\"\"}},\"name\":\"2\",\"offsetgroup\":\"2\",\"orientation\":\"v\",\"showlegend\":true,\"textposition\":\"auto\",\"x\":[\"Fat [%]\"],\"xaxis\":\"x\",\"y\":[1.05],\"yaxis\":\"y\",\"type\":\"bar\"},{\"alignmentgroup\":\"True\",\"hovertemplate\":\"variable=2<br>index=%{x}<br>value=%{y}<extra></extra>\",\"legendgroup\":\"2\",\"marker\":{\"color\":\"rgb(17, 48, 77)\",\"pattern\":{\"shape\":\"\"}},\"name\":\"2\",\"offsetgroup\":\"2\",\"orientation\":\"v\",\"showlegend\":false,\"textposition\":\"auto\",\"x\":[\"Protein [%]\"],\"xaxis\":\"x2\",\"y\":[12.9],\"yaxis\":\"y2\",\"type\":\"bar\"},{\"alignmentgroup\":\"True\",\"hovertemplate\":\"variable=2<br>index=%{x}<br>value=%{y}<extra></extra>\",\"legendgroup\":\"2\",\"marker\":{\"color\":\"rgb(17, 48, 77)\",\"pattern\":{\"shape\":\"\"}},\"name\":\"2\",\"offsetgroup\":\"2\",\"orientation\":\"v\",\"showlegend\":false,\"textposition\":\"auto\",\"x\":[\"GWP, kg CO2-EQ/kg product\"],\"xaxis\":\"x3\",\"y\":[0.676],\"yaxis\":\"y3\",\"type\":\"bar\"},{\"alignmentgroup\":\"True\",\"hovertemplate\":\"variable=3<br>index=%{x}<br>value=%{y}<extra></extra>\",\"legendgroup\":\"3\",\"marker\":{\"color\":\"rgb(27, 73, 117)\",\"pattern\":{\"shape\":\"\"}},\"name\":\"3\",\"offsetgroup\":\"3\",\"orientation\":\"v\",\"showlegend\":true,\"textposition\":\"auto\",\"x\":[\"Fat [%]\"],\"xaxis\":\"x\",\"y\":[null],\"yaxis\":\"y\",\"type\":\"bar\"},{\"alignmentgroup\":\"True\",\"hovertemplate\":\"variable=3<br>index=%{x}<br>value=%{y}<extra></extra>\",\"legendgroup\":\"3\",\"marker\":{\"color\":\"rgb(27, 73, 117)\",\"pattern\":{\"shape\":\"\"}},\"name\":\"3\",\"offsetgroup\":\"3\",\"orientation\":\"v\",\"showlegend\":false,\"textposition\":\"auto\",\"x\":[\"Protein [%]\"],\"xaxis\":\"x2\",\"y\":[null],\"yaxis\":\"y2\",\"type\":\"bar\"},{\"alignmentgroup\":\"True\",\"hovertemplate\":\"variable=3<br>index=%{x}<br>value=%{y}<extra></extra>\",\"legendgroup\":\"3\",\"marker\":{\"color\":\"rgb(27, 73, 117)\",\"pattern\":{\"shape\":\"\"}},\"name\":\"3\",\"offsetgroup\":\"3\",\"orientation\":\"v\",\"showlegend\":false,\"textposition\":\"auto\",\"x\":[\"GWP, kg CO2-EQ/kg product\"],\"xaxis\":\"x3\",\"y\":[5.21],\"yaxis\":\"y3\",\"type\":\"bar\"},{\"alignmentgroup\":\"True\",\"hovertemplate\":\"variable=4<br>index=%{x}<br>value=%{y}<extra></extra>\",\"legendgroup\":\"4\",\"marker\":{\"color\":\"rgb(46, 98, 160)\",\"pattern\":{\"shape\":\"\"}},\"name\":\"4\",\"offsetgroup\":\"4\",\"orientation\":\"v\",\"showlegend\":true,\"textposition\":\"auto\",\"x\":[\"Fat [%]\"],\"xaxis\":\"x\",\"y\":[1.05],\"yaxis\":\"y\",\"type\":\"bar\"},{\"alignmentgroup\":\"True\",\"hovertemplate\":\"variable=4<br>index=%{x}<br>value=%{y}<extra></extra>\",\"legendgroup\":\"4\",\"marker\":{\"color\":\"rgb(46, 98, 160)\",\"pattern\":{\"shape\":\"\"}},\"name\":\"4\",\"offsetgroup\":\"4\",\"orientation\":\"v\",\"showlegend\":false,\"textposition\":\"auto\",\"x\":[\"Protein [%]\"],\"xaxis\":\"x2\",\"y\":[12.9],\"yaxis\":\"y2\",\"type\":\"bar\"},{\"alignmentgroup\":\"True\",\"hovertemplate\":\"variable=4<br>index=%{x}<br>value=%{y}<extra></extra>\",\"legendgroup\":\"4\",\"marker\":{\"color\":\"rgb(46, 98, 160)\",\"pattern\":{\"shape\":\"\"}},\"name\":\"4\",\"offsetgroup\":\"4\",\"orientation\":\"v\",\"showlegend\":false,\"textposition\":\"auto\",\"x\":[\"GWP, kg CO2-EQ/kg product\"],\"xaxis\":\"x3\",\"y\":[0.7],\"yaxis\":\"y3\",\"type\":\"bar\"},{\"alignmentgroup\":\"True\",\"hovertemplate\":\"variable=5<br>index=%{x}<br>value=%{y}<extra></extra>\",\"legendgroup\":\"5\",\"marker\":{\"color\":\"rgb(78, 125, 199)\",\"pattern\":{\"shape\":\"\"}},\"name\":\"5\",\"offsetgroup\":\"5\",\"orientation\":\"v\",\"showlegend\":true,\"textposition\":\"auto\",\"x\":[\"Fat [%]\"],\"xaxis\":\"x\",\"y\":[0.49],\"yaxis\":\"y\",\"type\":\"bar\"},{\"alignmentgroup\":\"True\",\"hovertemplate\":\"variable=5<br>index=%{x}<br>value=%{y}<extra></extra>\",\"legendgroup\":\"5\",\"marker\":{\"color\":\"rgb(78, 125, 199)\",\"pattern\":{\"shape\":\"\"}},\"name\":\"5\",\"offsetgroup\":\"5\",\"orientation\":\"v\",\"showlegend\":false,\"textposition\":\"auto\",\"x\":[\"Protein [%]\"],\"xaxis\":\"x2\",\"y\":[18.0],\"yaxis\":\"y2\",\"type\":\"bar\"},{\"alignmentgroup\":\"True\",\"hovertemplate\":\"variable=5<br>index=%{x}<br>value=%{y}<extra></extra>\",\"legendgroup\":\"5\",\"marker\":{\"color\":\"rgb(78, 125, 199)\",\"pattern\":{\"shape\":\"\"}},\"name\":\"5\",\"offsetgroup\":\"5\",\"orientation\":\"v\",\"showlegend\":false,\"textposition\":\"auto\",\"x\":[\"GWP, kg CO2-EQ/kg product\"],\"xaxis\":\"x3\",\"y\":[null],\"yaxis\":\"y3\",\"type\":\"bar\"}],                        {\"template\":{\"data\":{\"histogram2dcontour\":[{\"type\":\"histogram2dcontour\",\"colorbar\":{\"outlinewidth\":0,\"ticks\":\"\"},\"colorscale\":[[0.0,\"#0d0887\"],[0.1111111111111111,\"#46039f\"],[0.2222222222222222,\"#7201a8\"],[0.3333333333333333,\"#9c179e\"],[0.4444444444444444,\"#bd3786\"],[0.5555555555555556,\"#d8576b\"],[0.6666666666666666,\"#ed7953\"],[0.7777777777777778,\"#fb9f3a\"],[0.8888888888888888,\"#fdca26\"],[1.0,\"#f0f921\"]]}],\"choropleth\":[{\"type\":\"choropleth\",\"colorbar\":{\"outlinewidth\":0,\"ticks\":\"\"}}],\"histogram2d\":[{\"type\":\"histogram2d\",\"colorbar\":{\"outlinewidth\":0,\"ticks\":\"\"},\"colorscale\":[[0.0,\"#0d0887\"],[0.1111111111111111,\"#46039f\"],[0.2222222222222222,\"#7201a8\"],[0.3333333333333333,\"#9c179e\"],[0.4444444444444444,\"#bd3786\"],[0.5555555555555556,\"#d8576b\"],[0.6666666666666666,\"#ed7953\"],[0.7777777777777778,\"#fb9f3a\"],[0.8888888888888888,\"#fdca26\"],[1.0,\"#f0f921\"]]}],\"heatmap\":[{\"type\":\"heatmap\",\"colorbar\":{\"outlinewidth\":0,\"ticks\":\"\"},\"colorscale\":[[0.0,\"#0d0887\"],[0.1111111111111111,\"#46039f\"],[0.2222222222222222,\"#7201a8\"],[0.3333333333333333,\"#9c179e\"],[0.4444444444444444,\"#bd3786\"],[0.5555555555555556,\"#d8576b\"],[0.6666666666666666,\"#ed7953\"],[0.7777777777777778,\"#fb9f3a\"],[0.8888888888888888,\"#fdca26\"],[1.0,\"#f0f921\"]]}],\"heatmapgl\":[{\"type\":\"heatmapgl\",\"colorbar\":{\"outlinewidth\":0,\"ticks\":\"\"},\"colorscale\":[[0.0,\"#0d0887\"],[0.1111111111111111,\"#46039f\"],[0.2222222222222222,\"#7201a8\"],[0.3333333333333333,\"#9c179e\"],[0.4444444444444444,\"#bd3786\"],[0.5555555555555556,\"#d8576b\"],[0.6666666666666666,\"#ed7953\"],[0.7777777777777778,\"#fb9f3a\"],[0.8888888888888888,\"#fdca26\"],[1.0,\"#f0f921\"]]}],\"contourcarpet\":[{\"type\":\"contourcarpet\",\"colorbar\":{\"outlinewidth\":0,\"ticks\":\"\"}}],\"contour\":[{\"type\":\"contour\",\"colorbar\":{\"outlinewidth\":0,\"ticks\":\"\"},\"colorscale\":[[0.0,\"#0d0887\"],[0.1111111111111111,\"#46039f\"],[0.2222222222222222,\"#7201a8\"],[0.3333333333333333,\"#9c179e\"],[0.4444444444444444,\"#bd3786\"],[0.5555555555555556,\"#d8576b\"],[0.6666666666666666,\"#ed7953\"],[0.7777777777777778,\"#fb9f3a\"],[0.8888888888888888,\"#fdca26\"],[1.0,\"#f0f921\"]]}],\"surface\":[{\"type\":\"surface\",\"colorbar\":{\"outlinewidth\":0,\"ticks\":\"\"},\"colorscale\":[[0.0,\"#0d0887\"],[0.1111111111111111,\"#46039f\"],[0.2222222222222222,\"#7201a8\"],[0.3333333333333333,\"#9c179e\"],[0.4444444444444444,\"#bd3786\"],[0.5555555555555556,\"#d8576b\"],[0.6666666666666666,\"#ed7953\"],[0.7777777777777778,\"#fb9f3a\"],[0.8888888888888888,\"#fdca26\"],[1.0,\"#f0f921\"]]}],\"mesh3d\":[{\"type\":\"mesh3d\",\"colorbar\":{\"outlinewidth\":0,\"ticks\":\"\"}}],\"scatter\":[{\"fillpattern\":{\"fillmode\":\"overlay\",\"size\":10,\"solidity\":0.2},\"type\":\"scatter\"}],\"parcoords\":[{\"type\":\"parcoords\",\"line\":{\"colorbar\":{\"outlinewidth\":0,\"ticks\":\"\"}}}],\"scatterpolargl\":[{\"type\":\"scatterpolargl\",\"marker\":{\"colorbar\":{\"outlinewidth\":0,\"ticks\":\"\"}}}],\"bar\":[{\"error_x\":{\"color\":\"#2a3f5f\"},\"error_y\":{\"color\":\"#2a3f5f\"},\"marker\":{\"line\":{\"color\":\"#E5ECF6\",\"width\":0.5},\"pattern\":{\"fillmode\":\"overlay\",\"size\":10,\"solidity\":0.2}},\"type\":\"bar\"}],\"scattergeo\":[{\"type\":\"scattergeo\",\"marker\":{\"colorbar\":{\"outlinewidth\":0,\"ticks\":\"\"}}}],\"scatterpolar\":[{\"type\":\"scatterpolar\",\"marker\":{\"colorbar\":{\"outlinewidth\":0,\"ticks\":\"\"}}}],\"histogram\":[{\"marker\":{\"pattern\":{\"fillmode\":\"overlay\",\"size\":10,\"solidity\":0.2}},\"type\":\"histogram\"}],\"scattergl\":[{\"type\":\"scattergl\",\"marker\":{\"colorbar\":{\"outlinewidth\":0,\"ticks\":\"\"}}}],\"scatter3d\":[{\"type\":\"scatter3d\",\"line\":{\"colorbar\":{\"outlinewidth\":0,\"ticks\":\"\"}},\"marker\":{\"colorbar\":{\"outlinewidth\":0,\"ticks\":\"\"}}}],\"scattermapbox\":[{\"type\":\"scattermapbox\",\"marker\":{\"colorbar\":{\"outlinewidth\":0,\"ticks\":\"\"}}}],\"scatterternary\":[{\"type\":\"scatterternary\",\"marker\":{\"colorbar\":{\"outlinewidth\":0,\"ticks\":\"\"}}}],\"scattercarpet\":[{\"type\":\"scattercarpet\",\"marker\":{\"colorbar\":{\"outlinewidth\":0,\"ticks\":\"\"}}}],\"carpet\":[{\"aaxis\":{\"endlinecolor\":\"#2a3f5f\",\"gridcolor\":\"white\",\"linecolor\":\"white\",\"minorgridcolor\":\"white\",\"startlinecolor\":\"#2a3f5f\"},\"baxis\":{\"endlinecolor\":\"#2a3f5f\",\"gridcolor\":\"white\",\"linecolor\":\"white\",\"minorgridcolor\":\"white\",\"startlinecolor\":\"#2a3f5f\"},\"type\":\"carpet\"}],\"table\":[{\"cells\":{\"fill\":{\"color\":\"#EBF0F8\"},\"line\":{\"color\":\"white\"}},\"header\":{\"fill\":{\"color\":\"#C8D4E3\"},\"line\":{\"color\":\"white\"}},\"type\":\"table\"}],\"barpolar\":[{\"marker\":{\"line\":{\"color\":\"#E5ECF6\",\"width\":0.5},\"pattern\":{\"fillmode\":\"overlay\",\"size\":10,\"solidity\":0.2}},\"type\":\"barpolar\"}],\"pie\":[{\"automargin\":true,\"type\":\"pie\"}]},\"layout\":{\"autotypenumbers\":\"strict\",\"colorway\":[\"#636efa\",\"#EF553B\",\"#00cc96\",\"#ab63fa\",\"#FFA15A\",\"#19d3f3\",\"#FF6692\",\"#B6E880\",\"#FF97FF\",\"#FECB52\"],\"font\":{\"color\":\"#2a3f5f\"},\"hovermode\":\"closest\",\"hoverlabel\":{\"align\":\"left\"},\"paper_bgcolor\":\"white\",\"plot_bgcolor\":\"#E5ECF6\",\"polar\":{\"bgcolor\":\"#E5ECF6\",\"angularaxis\":{\"gridcolor\":\"white\",\"linecolor\":\"white\",\"ticks\":\"\"},\"radialaxis\":{\"gridcolor\":\"white\",\"linecolor\":\"white\",\"ticks\":\"\"}},\"ternary\":{\"bgcolor\":\"#E5ECF6\",\"aaxis\":{\"gridcolor\":\"white\",\"linecolor\":\"white\",\"ticks\":\"\"},\"baxis\":{\"gridcolor\":\"white\",\"linecolor\":\"white\",\"ticks\":\"\"},\"caxis\":{\"gridcolor\":\"white\",\"linecolor\":\"white\",\"ticks\":\"\"}},\"coloraxis\":{\"colorbar\":{\"outlinewidth\":0,\"ticks\":\"\"}},\"colorscale\":{\"sequential\":[[0.0,\"#0d0887\"],[0.1111111111111111,\"#46039f\"],[0.2222222222222222,\"#7201a8\"],[0.3333333333333333,\"#9c179e\"],[0.4444444444444444,\"#bd3786\"],[0.5555555555555556,\"#d8576b\"],[0.6666666666666666,\"#ed7953\"],[0.7777777777777778,\"#fb9f3a\"],[0.8888888888888888,\"#fdca26\"],[1.0,\"#f0f921\"]],\"sequentialminus\":[[0.0,\"#0d0887\"],[0.1111111111111111,\"#46039f\"],[0.2222222222222222,\"#7201a8\"],[0.3333333333333333,\"#9c179e\"],[0.4444444444444444,\"#bd3786\"],[0.5555555555555556,\"#d8576b\"],[0.6666666666666666,\"#ed7953\"],[0.7777777777777778,\"#fb9f3a\"],[0.8888888888888888,\"#fdca26\"],[1.0,\"#f0f921\"]],\"diverging\":[[0,\"#8e0152\"],[0.1,\"#c51b7d\"],[0.2,\"#de77ae\"],[0.3,\"#f1b6da\"],[0.4,\"#fde0ef\"],[0.5,\"#f7f7f7\"],[0.6,\"#e6f5d0\"],[0.7,\"#b8e186\"],[0.8,\"#7fbc41\"],[0.9,\"#4d9221\"],[1,\"#276419\"]]},\"xaxis\":{\"gridcolor\":\"white\",\"linecolor\":\"white\",\"ticks\":\"\",\"title\":{\"standoff\":15},\"zerolinecolor\":\"white\",\"automargin\":true,\"zerolinewidth\":2},\"yaxis\":{\"gridcolor\":\"white\",\"linecolor\":\"white\",\"ticks\":\"\",\"title\":{\"standoff\":15},\"zerolinecolor\":\"white\",\"automargin\":true,\"zerolinewidth\":2},\"scene\":{\"xaxis\":{\"backgroundcolor\":\"#E5ECF6\",\"gridcolor\":\"white\",\"linecolor\":\"white\",\"showbackground\":true,\"ticks\":\"\",\"zerolinecolor\":\"white\",\"gridwidth\":2},\"yaxis\":{\"backgroundcolor\":\"#E5ECF6\",\"gridcolor\":\"white\",\"linecolor\":\"white\",\"showbackground\":true,\"ticks\":\"\",\"zerolinecolor\":\"white\",\"gridwidth\":2},\"zaxis\":{\"backgroundcolor\":\"#E5ECF6\",\"gridcolor\":\"white\",\"linecolor\":\"white\",\"showbackground\":true,\"ticks\":\"\",\"zerolinecolor\":\"white\",\"gridwidth\":2}},\"shapedefaults\":{\"line\":{\"color\":\"#2a3f5f\"}},\"annotationdefaults\":{\"arrowcolor\":\"#2a3f5f\",\"arrowhead\":0,\"arrowwidth\":1},\"geo\":{\"bgcolor\":\"white\",\"landcolor\":\"#E5ECF6\",\"subunitcolor\":\"white\",\"showland\":true,\"showlakes\":true,\"lakecolor\":\"white\"},\"title\":{\"x\":0.05},\"mapbox\":{\"style\":\"light\"}}},\"xaxis\":{\"anchor\":\"y\",\"domain\":[0.0,0.29333333333333333],\"title\":{\"text\":\"index\"},\"categoryorder\":\"array\",\"categoryarray\":[\"Fat [%]\",\"Protein [%]\",\"GWP, kg CO2-EQ/kg product\"],\"showticklabels\":true},\"yaxis\":{\"anchor\":\"x\",\"domain\":[0.0,1.0],\"title\":{\"text\":\"value\"},\"showticklabels\":true,\"ticktext\":[0,1,2,3,4,5]},\"xaxis2\":{\"anchor\":\"y2\",\"domain\":[0.35333333333333333,0.6466666666666667],\"title\":{\"text\":\"index\"},\"categoryorder\":\"array\",\"categoryarray\":[\"Fat [%]\",\"Protein [%]\",\"GWP, kg CO2-EQ/kg product\"],\"showticklabels\":true},\"yaxis2\":{\"anchor\":\"x2\",\"domain\":[0.0,1.0],\"showticklabels\":true,\"ticktext\":[0,1,2,3,4,5]},\"xaxis3\":{\"anchor\":\"y3\",\"domain\":[0.7066666666666667,1.0],\"title\":{\"text\":\"index\"},\"categoryorder\":\"array\",\"categoryarray\":[\"Fat [%]\",\"Protein [%]\",\"GWP, kg CO2-EQ/kg product\"],\"showticklabels\":true},\"yaxis3\":{\"anchor\":\"x3\",\"domain\":[0.0,1.0],\"showticklabels\":true,\"ticktext\":[0,1,2,3,4,5]},\"annotations\":[{\"font\":{},\"showarrow\":false,\"text\":\"Fat [%]\",\"x\":0.14666666666666667,\"xanchor\":\"center\",\"xref\":\"paper\",\"y\":1.0,\"yanchor\":\"bottom\",\"yref\":\"paper\"},{\"font\":{},\"showarrow\":false,\"text\":\"Protein [%]\",\"x\":0.5,\"xanchor\":\"center\",\"xref\":\"paper\",\"y\":1.0,\"yanchor\":\"bottom\",\"yref\":\"paper\"},{\"font\":{},\"showarrow\":false,\"text\":\"GWP, kg CO2-EQ/kg product\",\"x\":0.8533333333333333,\"xanchor\":\"center\",\"xref\":\"paper\",\"y\":1.0,\"yanchor\":\"bottom\",\"yref\":\"paper\"}],\"legend\":{\"title\":{\"text\":\"Study number\"},\"tracegroupgap\":0},\"title\":{\"text\":\"Values for chosen parameter ['Fat [%]', 'Protein [%]', 'GWP, kg CO2-EQ/kg product']<br>for studies about ['grasshopper', 'snail'].<br>The different studies are placed on the x-axis, encoded by numbers (see legend) because the names are<br>too long and sorted in ascending order for each subplot. See studies dictionary for the translation of <br>numbers into study titles.\"},\"barmode\":\"group\",\"margin\":{\"t\":250}},                        {\"responsive\": true}                    ).then(function(){\n",
       "                            \n",
       "var gd = document.getElementById('f13034f1-4c18-4c02-b9da-4bcdeff27e1d');\n",
       "var x = new MutationObserver(function (mutations, observer) {{\n",
       "        var display = window.getComputedStyle(gd).display;\n",
       "        if (!display || display === 'none') {{\n",
       "            console.log([gd, 'removed!']);\n",
       "            Plotly.purge(gd);\n",
       "            observer.disconnect();\n",
       "        }}\n",
       "}});\n",
       "\n",
       "// Listen for the removal of the full notebook cells\n",
       "var notebookContainer = gd.closest('#notebook-container');\n",
       "if (notebookContainer) {{\n",
       "    x.observe(notebookContainer, {childList: true});\n",
       "}}\n",
       "\n",
       "// Listen for the clearing of the current output cell\n",
       "var outputEl = gd.closest('.output');\n",
       "if (outputEl) {{\n",
       "    x.observe(outputEl, {childList: true});\n",
       "}}\n",
       "\n",
       "                        })                };                });            </script>        </div>"
      ]
     },
     "metadata": {},
     "output_type": "display_data"
    }
   ],
   "source": [
    "# https://community.plotly.com/t/how-to-set-different-x-and-y-axis-for-each-subplot/57417\n",
    "\n",
    "import plotly.express as px\n",
    "import pandas as pd\n",
    "\n",
    "# choose parameters and sources\n",
    "column = ['Fat [%]',  'Protein [%]', 'GWP, kg CO2-EQ/kg product']\n",
    "ncols = len(column)\n",
    "source = [ 'grasshopper', 'snail']\n",
    "\n",
    "# create dataframe to plot with choice and transpose\n",
    "df_plot = df_show.loc[source][column].reset_index(drop = True).T\n",
    "\n",
    "# initiate plot, choose subplot columns ( = index = parameters) and spacing, choose colors and title\n",
    "fig = px.bar(df_plot, \n",
    "             barmode=\"group\",\n",
    "             facet_col=df_plot.index, \n",
    "             facet_col_spacing=0.06,\n",
    "             color_discrete_sequence=oslo_rgb[:10],\n",
    "    color_continuous_scale=None, orientation = 'v'\n",
    "    , title = 'Values for chosen parameter {}<br>for studies about {}.<br>The different studies are placed on the x-axis, encoded by numbers (see legend) because the names are<br>too long and sorted in ascending order for each subplot. See studies dictionary for the translation of <br>numbers into study titles.'.format(column, source))\n",
    "fig.update_xaxes(matches=None, showticklabels=True)\n",
    "fig.update_yaxes(matches=None, showticklabels=True)\n",
    "\n",
    "# set distance between label and plot\n",
    "fig.update_layout(\n",
    "                          margin={'t': 250},\n",
    "\n",
    "            legend=dict(title = 'Study number',\n",
    "                       )\n",
    "        )\n",
    "\n",
    "# show numbers as x-lables instead of study links\n",
    "fig.update_yaxes(ticktext = list(range(0, 6)))\n",
    "\n",
    "# split original label (index = parameter) by =, only use parameter\n",
    "fig.for_each_annotation(lambda a: a.update(text=a.text.split(\"=\")[1]))\n",
    "\n",
    "\n",
    "fig.show()\n",
    "# fig.write_html(\"BarsStudyResultsGram3.html\")"
   ]
  },
  {
   "cell_type": "markdown",
   "id": "0e71b030",
   "metadata": {},
   "source": [
    "#### Same for data per protein"
   ]
  },
  {
   "cell_type": "code",
   "execution_count": 31,
   "id": "a15f6d8e",
   "metadata": {},
   "outputs": [
    {
     "data": {
      "application/vnd.plotly.v1+json": {
       "config": {
        "plotlyServerURL": "https://plot.ly"
       },
       "data": [
        {
         "alignmentgroup": "True",
         "hovertemplate": "variable=0<br>index=%{x}<br>value=%{y}<extra></extra>",
         "legendgroup": "0",
         "marker": {
          "color": "rgb(0, 1, 0)",
          "pattern": {
           "shape": ""
          }
         },
         "name": "0",
         "offsetgroup": "0",
         "orientation": "v",
         "showlegend": true,
         "textposition": "auto",
         "type": "bar",
         "x": [
          "Fat [%]"
         ],
         "xaxis": "x",
         "y": [
          null
         ],
         "yaxis": "y"
        },
        {
         "alignmentgroup": "True",
         "hovertemplate": "variable=0<br>index=%{x}<br>value=%{y}<extra></extra>",
         "legendgroup": "0",
         "marker": {
          "color": "rgb(0, 1, 0)",
          "pattern": {
           "shape": ""
          }
         },
         "name": "0",
         "offsetgroup": "0",
         "orientation": "v",
         "showlegend": false,
         "textposition": "auto",
         "type": "bar",
         "x": [
          "Water [%]"
         ],
         "xaxis": "x2",
         "y": [
          null
         ],
         "yaxis": "y2"
        },
        {
         "alignmentgroup": "True",
         "hovertemplate": "variable=0<br>index=%{x}<br>value=%{y}<extra></extra>",
         "legendgroup": "0",
         "marker": {
          "color": "rgb(0, 1, 0)",
          "pattern": {
           "shape": ""
          }
         },
         "name": "0",
         "offsetgroup": "0",
         "orientation": "v",
         "showlegend": false,
         "textposition": "auto",
         "type": "bar",
         "x": [
          "Protein [%]"
         ],
         "xaxis": "x3",
         "y": [
          1
         ],
         "yaxis": "y3"
        },
        {
         "alignmentgroup": "True",
         "hovertemplate": "variable=0<br>index=%{x}<br>value=%{y}<extra></extra>",
         "legendgroup": "0",
         "marker": {
          "color": "rgb(0, 1, 0)",
          "pattern": {
           "shape": ""
          }
         },
         "name": "0",
         "offsetgroup": "0",
         "orientation": "v",
         "showlegend": false,
         "textposition": "auto",
         "type": "bar",
         "x": [
          "Energy [kcal/100g]"
         ],
         "xaxis": "x4",
         "y": [
          null
         ],
         "yaxis": "y4"
        },
        {
         "alignmentgroup": "True",
         "hovertemplate": "variable=1<br>index=%{x}<br>value=%{y}<extra></extra>",
         "legendgroup": "1",
         "marker": {
          "color": "rgb(11, 25, 39)",
          "pattern": {
           "shape": ""
          }
         },
         "name": "1",
         "offsetgroup": "1",
         "orientation": "v",
         "showlegend": true,
         "textposition": "auto",
         "type": "bar",
         "x": [
          "Fat [%]"
         ],
         "xaxis": "x",
         "y": [
          1.2222222222222223
         ],
         "yaxis": "y"
        },
        {
         "alignmentgroup": "True",
         "hovertemplate": "variable=1<br>index=%{x}<br>value=%{y}<extra></extra>",
         "legendgroup": "1",
         "marker": {
          "color": "rgb(11, 25, 39)",
          "pattern": {
           "shape": ""
          }
         },
         "name": "1",
         "offsetgroup": "1",
         "orientation": "v",
         "showlegend": false,
         "textposition": "auto",
         "type": "bar",
         "x": [
          "Water [%]"
         ],
         "xaxis": "x2",
         "y": [
          3.111111111111111
         ],
         "yaxis": "y2"
        },
        {
         "alignmentgroup": "True",
         "hovertemplate": "variable=1<br>index=%{x}<br>value=%{y}<extra></extra>",
         "legendgroup": "1",
         "marker": {
          "color": "rgb(11, 25, 39)",
          "pattern": {
           "shape": ""
          }
         },
         "name": "1",
         "offsetgroup": "1",
         "orientation": "v",
         "showlegend": false,
         "textposition": "auto",
         "type": "bar",
         "x": [
          "Protein [%]"
         ],
         "xaxis": "x3",
         "y": [
          1
         ],
         "yaxis": "y3"
        },
        {
         "alignmentgroup": "True",
         "hovertemplate": "variable=1<br>index=%{x}<br>value=%{y}<extra></extra>",
         "legendgroup": "1",
         "marker": {
          "color": "rgb(11, 25, 39)",
          "pattern": {
           "shape": ""
          }
         },
         "name": "1",
         "offsetgroup": "1",
         "orientation": "v",
         "showlegend": false,
         "textposition": "auto",
         "type": "bar",
         "x": [
          "Energy [kcal/100g]"
         ],
         "xaxis": "x4",
         "y": [
          null
         ],
         "yaxis": "y4"
        },
        {
         "alignmentgroup": "True",
         "hovertemplate": "variable=2<br>index=%{x}<br>value=%{y}<extra></extra>",
         "legendgroup": "2",
         "marker": {
          "color": "rgb(17, 48, 77)",
          "pattern": {
           "shape": ""
          }
         },
         "name": "2",
         "offsetgroup": "2",
         "orientation": "v",
         "showlegend": true,
         "textposition": "auto",
         "type": "bar",
         "x": [
          "Fat [%]"
         ],
         "xaxis": "x",
         "y": [
          null
         ],
         "yaxis": "y"
        },
        {
         "alignmentgroup": "True",
         "hovertemplate": "variable=2<br>index=%{x}<br>value=%{y}<extra></extra>",
         "legendgroup": "2",
         "marker": {
          "color": "rgb(17, 48, 77)",
          "pattern": {
           "shape": ""
          }
         },
         "name": "2",
         "offsetgroup": "2",
         "orientation": "v",
         "showlegend": false,
         "textposition": "auto",
         "type": "bar",
         "x": [
          "Water [%]"
         ],
         "xaxis": "x2",
         "y": [
          null
         ],
         "yaxis": "y2"
        },
        {
         "alignmentgroup": "True",
         "hovertemplate": "variable=2<br>index=%{x}<br>value=%{y}<extra></extra>",
         "legendgroup": "2",
         "marker": {
          "color": "rgb(17, 48, 77)",
          "pattern": {
           "shape": ""
          }
         },
         "name": "2",
         "offsetgroup": "2",
         "orientation": "v",
         "showlegend": false,
         "textposition": "auto",
         "type": "bar",
         "x": [
          "Protein [%]"
         ],
         "xaxis": "x3",
         "y": [
          1
         ],
         "yaxis": "y3"
        },
        {
         "alignmentgroup": "True",
         "hovertemplate": "variable=2<br>index=%{x}<br>value=%{y}<extra></extra>",
         "legendgroup": "2",
         "marker": {
          "color": "rgb(17, 48, 77)",
          "pattern": {
           "shape": ""
          }
         },
         "name": "2",
         "offsetgroup": "2",
         "orientation": "v",
         "showlegend": false,
         "textposition": "auto",
         "type": "bar",
         "x": [
          "Energy [kcal/100g]"
         ],
         "xaxis": "x4",
         "y": [
          null
         ],
         "yaxis": "y4"
        },
        {
         "alignmentgroup": "True",
         "hovertemplate": "variable=3<br>index=%{x}<br>value=%{y}<extra></extra>",
         "legendgroup": "3",
         "marker": {
          "color": "rgb(27, 73, 117)",
          "pattern": {
           "shape": ""
          }
         },
         "name": "3",
         "offsetgroup": "3",
         "orientation": "v",
         "showlegend": true,
         "textposition": "auto",
         "type": "bar",
         "x": [
          "Fat [%]"
         ],
         "xaxis": "x",
         "y": [
          null
         ],
         "yaxis": "y"
        },
        {
         "alignmentgroup": "True",
         "hovertemplate": "variable=3<br>index=%{x}<br>value=%{y}<extra></extra>",
         "legendgroup": "3",
         "marker": {
          "color": "rgb(27, 73, 117)",
          "pattern": {
           "shape": ""
          }
         },
         "name": "3",
         "offsetgroup": "3",
         "orientation": "v",
         "showlegend": false,
         "textposition": "auto",
         "type": "bar",
         "x": [
          "Water [%]"
         ],
         "xaxis": "x2",
         "y": [
          null
         ],
         "yaxis": "y2"
        },
        {
         "alignmentgroup": "True",
         "hovertemplate": "variable=3<br>index=%{x}<br>value=%{y}<extra></extra>",
         "legendgroup": "3",
         "marker": {
          "color": "rgb(27, 73, 117)",
          "pattern": {
           "shape": ""
          }
         },
         "name": "3",
         "offsetgroup": "3",
         "orientation": "v",
         "showlegend": false,
         "textposition": "auto",
         "type": "bar",
         "x": [
          "Protein [%]"
         ],
         "xaxis": "x3",
         "y": [
          null
         ],
         "yaxis": "y3"
        },
        {
         "alignmentgroup": "True",
         "hovertemplate": "variable=3<br>index=%{x}<br>value=%{y}<extra></extra>",
         "legendgroup": "3",
         "marker": {
          "color": "rgb(27, 73, 117)",
          "pattern": {
           "shape": ""
          }
         },
         "name": "3",
         "offsetgroup": "3",
         "orientation": "v",
         "showlegend": false,
         "textposition": "auto",
         "type": "bar",
         "x": [
          "Energy [kcal/100g]"
         ],
         "xaxis": "x4",
         "y": [
          null
         ],
         "yaxis": "y4"
        },
        {
         "alignmentgroup": "True",
         "hovertemplate": "variable=4<br>index=%{x}<br>value=%{y}<extra></extra>",
         "legendgroup": "4",
         "marker": {
          "color": "rgb(46, 98, 160)",
          "pattern": {
           "shape": ""
          }
         },
         "name": "4",
         "offsetgroup": "4",
         "orientation": "v",
         "showlegend": true,
         "textposition": "auto",
         "type": "bar",
         "x": [
          "Fat [%]"
         ],
         "xaxis": "x",
         "y": [
          0.7322128851540616
         ],
         "yaxis": "y"
        },
        {
         "alignmentgroup": "True",
         "hovertemplate": "variable=4<br>index=%{x}<br>value=%{y}<extra></extra>",
         "legendgroup": "4",
         "marker": {
          "color": "rgb(46, 98, 160)",
          "pattern": {
           "shape": ""
          }
         },
         "name": "4",
         "offsetgroup": "4",
         "orientation": "v",
         "showlegend": false,
         "textposition": "auto",
         "type": "bar",
         "x": [
          "Water [%]"
         ],
         "xaxis": "x2",
         "y": [
          3.4733893557422966
         ],
         "yaxis": "y2"
        },
        {
         "alignmentgroup": "True",
         "hovertemplate": "variable=4<br>index=%{x}<br>value=%{y}<extra></extra>",
         "legendgroup": "4",
         "marker": {
          "color": "rgb(46, 98, 160)",
          "pattern": {
           "shape": ""
          }
         },
         "name": "4",
         "offsetgroup": "4",
         "orientation": "v",
         "showlegend": false,
         "textposition": "auto",
         "type": "bar",
         "x": [
          "Protein [%]"
         ],
         "xaxis": "x3",
         "y": [
          1
         ],
         "yaxis": "y3"
        },
        {
         "alignmentgroup": "True",
         "hovertemplate": "variable=4<br>index=%{x}<br>value=%{y}<extra></extra>",
         "legendgroup": "4",
         "marker": {
          "color": "rgb(46, 98, 160)",
          "pattern": {
           "shape": ""
          }
         },
         "name": "4",
         "offsetgroup": "4",
         "orientation": "v",
         "showlegend": false,
         "textposition": "auto",
         "type": "bar",
         "x": [
          "Energy [kcal/100g]"
         ],
         "xaxis": "x4",
         "y": [
          null
         ],
         "yaxis": "y4"
        },
        {
         "alignmentgroup": "True",
         "hovertemplate": "variable=5<br>index=%{x}<br>value=%{y}<extra></extra>",
         "legendgroup": "5",
         "marker": {
          "color": "rgb(78, 125, 199)",
          "pattern": {
           "shape": ""
          }
         },
         "name": "5",
         "offsetgroup": "5",
         "orientation": "v",
         "showlegend": true,
         "textposition": "auto",
         "type": "bar",
         "x": [
          "Fat [%]"
         ],
         "xaxis": "x",
         "y": [
          0.7041343669250647
         ],
         "yaxis": "y"
        },
        {
         "alignmentgroup": "True",
         "hovertemplate": "variable=5<br>index=%{x}<br>value=%{y}<extra></extra>",
         "legendgroup": "5",
         "marker": {
          "color": "rgb(78, 125, 199)",
          "pattern": {
           "shape": ""
          }
         },
         "name": "5",
         "offsetgroup": "5",
         "orientation": "v",
         "showlegend": false,
         "textposition": "auto",
         "type": "bar",
         "x": [
          "Water [%]"
         ],
         "xaxis": "x2",
         "y": [
          0.11477174849267874
         ],
         "yaxis": "y2"
        },
        {
         "alignmentgroup": "True",
         "hovertemplate": "variable=5<br>index=%{x}<br>value=%{y}<extra></extra>",
         "legendgroup": "5",
         "marker": {
          "color": "rgb(78, 125, 199)",
          "pattern": {
           "shape": ""
          }
         },
         "name": "5",
         "offsetgroup": "5",
         "orientation": "v",
         "showlegend": false,
         "textposition": "auto",
         "type": "bar",
         "x": [
          "Protein [%]"
         ],
         "xaxis": "x3",
         "y": [
          1
         ],
         "yaxis": "y3"
        },
        {
         "alignmentgroup": "True",
         "hovertemplate": "variable=5<br>index=%{x}<br>value=%{y}<extra></extra>",
         "legendgroup": "5",
         "marker": {
          "color": "rgb(78, 125, 199)",
          "pattern": {
           "shape": ""
          }
         },
         "name": "5",
         "offsetgroup": "5",
         "orientation": "v",
         "showlegend": false,
         "textposition": "auto",
         "type": "bar",
         "x": [
          "Energy [kcal/100g]"
         ],
         "xaxis": "x4",
         "y": [
          null
         ],
         "yaxis": "y4"
        },
        {
         "alignmentgroup": "True",
         "hovertemplate": "variable=6<br>index=%{x}<br>value=%{y}<extra></extra>",
         "legendgroup": "6",
         "marker": {
          "color": "rgb(111, 146, 202)",
          "pattern": {
           "shape": ""
          }
         },
         "name": "6",
         "offsetgroup": "6",
         "orientation": "v",
         "showlegend": true,
         "textposition": "auto",
         "type": "bar",
         "x": [
          "Fat [%]"
         ],
         "xaxis": "x",
         "y": [
          0.4720616570327553
         ],
         "yaxis": "y"
        },
        {
         "alignmentgroup": "True",
         "hovertemplate": "variable=6<br>index=%{x}<br>value=%{y}<extra></extra>",
         "legendgroup": "6",
         "marker": {
          "color": "rgb(111, 146, 202)",
          "pattern": {
           "shape": ""
          }
         },
         "name": "6",
         "offsetgroup": "6",
         "orientation": "v",
         "showlegend": false,
         "textposition": "auto",
         "type": "bar",
         "x": [
          "Water [%]"
         ],
         "xaxis": "x2",
         "y": [
          2.304431599229287
         ],
         "yaxis": "y2"
        },
        {
         "alignmentgroup": "True",
         "hovertemplate": "variable=6<br>index=%{x}<br>value=%{y}<extra></extra>",
         "legendgroup": "6",
         "marker": {
          "color": "rgb(111, 146, 202)",
          "pattern": {
           "shape": ""
          }
         },
         "name": "6",
         "offsetgroup": "6",
         "orientation": "v",
         "showlegend": false,
         "textposition": "auto",
         "type": "bar",
         "x": [
          "Protein [%]"
         ],
         "xaxis": "x3",
         "y": [
          1
         ],
         "yaxis": "y3"
        },
        {
         "alignmentgroup": "True",
         "hovertemplate": "variable=6<br>index=%{x}<br>value=%{y}<extra></extra>",
         "legendgroup": "6",
         "marker": {
          "color": "rgb(111, 146, 202)",
          "pattern": {
           "shape": ""
          }
         },
         "name": "6",
         "offsetgroup": "6",
         "orientation": "v",
         "showlegend": false,
         "textposition": "auto",
         "type": "bar",
         "x": [
          "Energy [kcal/100g]"
         ],
         "xaxis": "x4",
         "y": [
          null
         ],
         "yaxis": "y4"
        },
        {
         "alignmentgroup": "True",
         "hovertemplate": "variable=7<br>index=%{x}<br>value=%{y}<extra></extra>",
         "legendgroup": "7",
         "marker": {
          "color": "rgb(144, 166, 201)",
          "pattern": {
           "shape": ""
          }
         },
         "name": "7",
         "offsetgroup": "7",
         "orientation": "v",
         "showlegend": true,
         "textposition": "auto",
         "type": "bar",
         "x": [
          "Fat [%]"
         ],
         "xaxis": "x",
         "y": [
          0.22
         ],
         "yaxis": "y"
        },
        {
         "alignmentgroup": "True",
         "hovertemplate": "variable=7<br>index=%{x}<br>value=%{y}<extra></extra>",
         "legendgroup": "7",
         "marker": {
          "color": "rgb(144, 166, 201)",
          "pattern": {
           "shape": ""
          }
         },
         "name": "7",
         "offsetgroup": "7",
         "orientation": "v",
         "showlegend": false,
         "textposition": "auto",
         "type": "bar",
         "x": [
          "Water [%]"
         ],
         "xaxis": "x2",
         "y": [
          null
         ],
         "yaxis": "y2"
        },
        {
         "alignmentgroup": "True",
         "hovertemplate": "variable=7<br>index=%{x}<br>value=%{y}<extra></extra>",
         "legendgroup": "7",
         "marker": {
          "color": "rgb(144, 166, 201)",
          "pattern": {
           "shape": ""
          }
         },
         "name": "7",
         "offsetgroup": "7",
         "orientation": "v",
         "showlegend": false,
         "textposition": "auto",
         "type": "bar",
         "x": [
          "Protein [%]"
         ],
         "xaxis": "x3",
         "y": [
          1
         ],
         "yaxis": "y3"
        },
        {
         "alignmentgroup": "True",
         "hovertemplate": "variable=7<br>index=%{x}<br>value=%{y}<extra></extra>",
         "legendgroup": "7",
         "marker": {
          "color": "rgb(144, 166, 201)",
          "pattern": {
           "shape": ""
          }
         },
         "name": "7",
         "offsetgroup": "7",
         "orientation": "v",
         "showlegend": false,
         "textposition": "auto",
         "type": "bar",
         "x": [
          "Energy [kcal/100g]"
         ],
         "xaxis": "x4",
         "y": [
          null
         ],
         "yaxis": "y4"
        },
        {
         "alignmentgroup": "True",
         "hovertemplate": "variable=8<br>index=%{x}<br>value=%{y}<extra></extra>",
         "legendgroup": "8",
         "marker": {
          "color": "rgb(176, 185, 200)",
          "pattern": {
           "shape": ""
          }
         },
         "name": "8",
         "offsetgroup": "8",
         "orientation": "v",
         "showlegend": true,
         "textposition": "auto",
         "type": "bar",
         "x": [
          "Fat [%]"
         ],
         "xaxis": "x",
         "y": [
          0.15159420289855075
         ],
         "yaxis": "y"
        },
        {
         "alignmentgroup": "True",
         "hovertemplate": "variable=8<br>index=%{x}<br>value=%{y}<extra></extra>",
         "legendgroup": "8",
         "marker": {
          "color": "rgb(176, 185, 200)",
          "pattern": {
           "shape": ""
          }
         },
         "name": "8",
         "offsetgroup": "8",
         "orientation": "v",
         "showlegend": false,
         "textposition": "auto",
         "type": "bar",
         "x": [
          "Water [%]"
         ],
         "xaxis": "x2",
         "y": [
          null
         ],
         "yaxis": "y2"
        },
        {
         "alignmentgroup": "True",
         "hovertemplate": "variable=8<br>index=%{x}<br>value=%{y}<extra></extra>",
         "legendgroup": "8",
         "marker": {
          "color": "rgb(176, 185, 200)",
          "pattern": {
           "shape": ""
          }
         },
         "name": "8",
         "offsetgroup": "8",
         "orientation": "v",
         "showlegend": false,
         "textposition": "auto",
         "type": "bar",
         "x": [
          "Protein [%]"
         ],
         "xaxis": "x3",
         "y": [
          1
         ],
         "yaxis": "y3"
        },
        {
         "alignmentgroup": "True",
         "hovertemplate": "variable=8<br>index=%{x}<br>value=%{y}<extra></extra>",
         "legendgroup": "8",
         "marker": {
          "color": "rgb(176, 185, 200)",
          "pattern": {
           "shape": ""
          }
         },
         "name": "8",
         "offsetgroup": "8",
         "orientation": "v",
         "showlegend": false,
         "textposition": "auto",
         "type": "bar",
         "x": [
          "Energy [kcal/100g]"
         ],
         "xaxis": "x4",
         "y": [
          7.594202898550725
         ],
         "yaxis": "y4"
        }
       ],
       "layout": {
        "annotations": [
         {
          "font": {},
          "showarrow": false,
          "text": "index=Fat [%]",
          "x": 0.10250000000000001,
          "xanchor": "center",
          "xref": "paper",
          "y": 1,
          "yanchor": "bottom",
          "yref": "paper"
         },
         {
          "font": {},
          "showarrow": false,
          "text": "index=Water [%]",
          "x": 0.36750000000000005,
          "xanchor": "center",
          "xref": "paper",
          "y": 1,
          "yanchor": "bottom",
          "yref": "paper"
         },
         {
          "font": {},
          "showarrow": false,
          "text": "index=Protein [%]",
          "x": 0.6325000000000001,
          "xanchor": "center",
          "xref": "paper",
          "y": 1,
          "yanchor": "bottom",
          "yref": "paper"
         },
         {
          "font": {},
          "showarrow": false,
          "text": "index=Energy [kcal/100g]",
          "x": 0.8975,
          "xanchor": "center",
          "xref": "paper",
          "y": 1,
          "yanchor": "bottom",
          "yref": "paper"
         }
        ],
        "barmode": "group",
        "legend": {
         "title": {
          "text": "variable"
         },
         "tracegroupgap": 0
        },
        "margin": {
         "t": 200
        },
        "template": {
         "data": {
          "bar": [
           {
            "error_x": {
             "color": "#2a3f5f"
            },
            "error_y": {
             "color": "#2a3f5f"
            },
            "marker": {
             "line": {
              "color": "#E5ECF6",
              "width": 0.5
             },
             "pattern": {
              "fillmode": "overlay",
              "size": 10,
              "solidity": 0.2
             }
            },
            "type": "bar"
           }
          ],
          "barpolar": [
           {
            "marker": {
             "line": {
              "color": "#E5ECF6",
              "width": 0.5
             },
             "pattern": {
              "fillmode": "overlay",
              "size": 10,
              "solidity": 0.2
             }
            },
            "type": "barpolar"
           }
          ],
          "carpet": [
           {
            "aaxis": {
             "endlinecolor": "#2a3f5f",
             "gridcolor": "white",
             "linecolor": "white",
             "minorgridcolor": "white",
             "startlinecolor": "#2a3f5f"
            },
            "baxis": {
             "endlinecolor": "#2a3f5f",
             "gridcolor": "white",
             "linecolor": "white",
             "minorgridcolor": "white",
             "startlinecolor": "#2a3f5f"
            },
            "type": "carpet"
           }
          ],
          "choropleth": [
           {
            "colorbar": {
             "outlinewidth": 0,
             "ticks": ""
            },
            "type": "choropleth"
           }
          ],
          "contour": [
           {
            "colorbar": {
             "outlinewidth": 0,
             "ticks": ""
            },
            "colorscale": [
             [
              0,
              "#0d0887"
             ],
             [
              0.1111111111111111,
              "#46039f"
             ],
             [
              0.2222222222222222,
              "#7201a8"
             ],
             [
              0.3333333333333333,
              "#9c179e"
             ],
             [
              0.4444444444444444,
              "#bd3786"
             ],
             [
              0.5555555555555556,
              "#d8576b"
             ],
             [
              0.6666666666666666,
              "#ed7953"
             ],
             [
              0.7777777777777778,
              "#fb9f3a"
             ],
             [
              0.8888888888888888,
              "#fdca26"
             ],
             [
              1,
              "#f0f921"
             ]
            ],
            "type": "contour"
           }
          ],
          "contourcarpet": [
           {
            "colorbar": {
             "outlinewidth": 0,
             "ticks": ""
            },
            "type": "contourcarpet"
           }
          ],
          "heatmap": [
           {
            "colorbar": {
             "outlinewidth": 0,
             "ticks": ""
            },
            "colorscale": [
             [
              0,
              "#0d0887"
             ],
             [
              0.1111111111111111,
              "#46039f"
             ],
             [
              0.2222222222222222,
              "#7201a8"
             ],
             [
              0.3333333333333333,
              "#9c179e"
             ],
             [
              0.4444444444444444,
              "#bd3786"
             ],
             [
              0.5555555555555556,
              "#d8576b"
             ],
             [
              0.6666666666666666,
              "#ed7953"
             ],
             [
              0.7777777777777778,
              "#fb9f3a"
             ],
             [
              0.8888888888888888,
              "#fdca26"
             ],
             [
              1,
              "#f0f921"
             ]
            ],
            "type": "heatmap"
           }
          ],
          "heatmapgl": [
           {
            "colorbar": {
             "outlinewidth": 0,
             "ticks": ""
            },
            "colorscale": [
             [
              0,
              "#0d0887"
             ],
             [
              0.1111111111111111,
              "#46039f"
             ],
             [
              0.2222222222222222,
              "#7201a8"
             ],
             [
              0.3333333333333333,
              "#9c179e"
             ],
             [
              0.4444444444444444,
              "#bd3786"
             ],
             [
              0.5555555555555556,
              "#d8576b"
             ],
             [
              0.6666666666666666,
              "#ed7953"
             ],
             [
              0.7777777777777778,
              "#fb9f3a"
             ],
             [
              0.8888888888888888,
              "#fdca26"
             ],
             [
              1,
              "#f0f921"
             ]
            ],
            "type": "heatmapgl"
           }
          ],
          "histogram": [
           {
            "marker": {
             "pattern": {
              "fillmode": "overlay",
              "size": 10,
              "solidity": 0.2
             }
            },
            "type": "histogram"
           }
          ],
          "histogram2d": [
           {
            "colorbar": {
             "outlinewidth": 0,
             "ticks": ""
            },
            "colorscale": [
             [
              0,
              "#0d0887"
             ],
             [
              0.1111111111111111,
              "#46039f"
             ],
             [
              0.2222222222222222,
              "#7201a8"
             ],
             [
              0.3333333333333333,
              "#9c179e"
             ],
             [
              0.4444444444444444,
              "#bd3786"
             ],
             [
              0.5555555555555556,
              "#d8576b"
             ],
             [
              0.6666666666666666,
              "#ed7953"
             ],
             [
              0.7777777777777778,
              "#fb9f3a"
             ],
             [
              0.8888888888888888,
              "#fdca26"
             ],
             [
              1,
              "#f0f921"
             ]
            ],
            "type": "histogram2d"
           }
          ],
          "histogram2dcontour": [
           {
            "colorbar": {
             "outlinewidth": 0,
             "ticks": ""
            },
            "colorscale": [
             [
              0,
              "#0d0887"
             ],
             [
              0.1111111111111111,
              "#46039f"
             ],
             [
              0.2222222222222222,
              "#7201a8"
             ],
             [
              0.3333333333333333,
              "#9c179e"
             ],
             [
              0.4444444444444444,
              "#bd3786"
             ],
             [
              0.5555555555555556,
              "#d8576b"
             ],
             [
              0.6666666666666666,
              "#ed7953"
             ],
             [
              0.7777777777777778,
              "#fb9f3a"
             ],
             [
              0.8888888888888888,
              "#fdca26"
             ],
             [
              1,
              "#f0f921"
             ]
            ],
            "type": "histogram2dcontour"
           }
          ],
          "mesh3d": [
           {
            "colorbar": {
             "outlinewidth": 0,
             "ticks": ""
            },
            "type": "mesh3d"
           }
          ],
          "parcoords": [
           {
            "line": {
             "colorbar": {
              "outlinewidth": 0,
              "ticks": ""
             }
            },
            "type": "parcoords"
           }
          ],
          "pie": [
           {
            "automargin": true,
            "type": "pie"
           }
          ],
          "scatter": [
           {
            "fillpattern": {
             "fillmode": "overlay",
             "size": 10,
             "solidity": 0.2
            },
            "type": "scatter"
           }
          ],
          "scatter3d": [
           {
            "line": {
             "colorbar": {
              "outlinewidth": 0,
              "ticks": ""
             }
            },
            "marker": {
             "colorbar": {
              "outlinewidth": 0,
              "ticks": ""
             }
            },
            "type": "scatter3d"
           }
          ],
          "scattercarpet": [
           {
            "marker": {
             "colorbar": {
              "outlinewidth": 0,
              "ticks": ""
             }
            },
            "type": "scattercarpet"
           }
          ],
          "scattergeo": [
           {
            "marker": {
             "colorbar": {
              "outlinewidth": 0,
              "ticks": ""
             }
            },
            "type": "scattergeo"
           }
          ],
          "scattergl": [
           {
            "marker": {
             "colorbar": {
              "outlinewidth": 0,
              "ticks": ""
             }
            },
            "type": "scattergl"
           }
          ],
          "scattermapbox": [
           {
            "marker": {
             "colorbar": {
              "outlinewidth": 0,
              "ticks": ""
             }
            },
            "type": "scattermapbox"
           }
          ],
          "scatterpolar": [
           {
            "marker": {
             "colorbar": {
              "outlinewidth": 0,
              "ticks": ""
             }
            },
            "type": "scatterpolar"
           }
          ],
          "scatterpolargl": [
           {
            "marker": {
             "colorbar": {
              "outlinewidth": 0,
              "ticks": ""
             }
            },
            "type": "scatterpolargl"
           }
          ],
          "scatterternary": [
           {
            "marker": {
             "colorbar": {
              "outlinewidth": 0,
              "ticks": ""
             }
            },
            "type": "scatterternary"
           }
          ],
          "surface": [
           {
            "colorbar": {
             "outlinewidth": 0,
             "ticks": ""
            },
            "colorscale": [
             [
              0,
              "#0d0887"
             ],
             [
              0.1111111111111111,
              "#46039f"
             ],
             [
              0.2222222222222222,
              "#7201a8"
             ],
             [
              0.3333333333333333,
              "#9c179e"
             ],
             [
              0.4444444444444444,
              "#bd3786"
             ],
             [
              0.5555555555555556,
              "#d8576b"
             ],
             [
              0.6666666666666666,
              "#ed7953"
             ],
             [
              0.7777777777777778,
              "#fb9f3a"
             ],
             [
              0.8888888888888888,
              "#fdca26"
             ],
             [
              1,
              "#f0f921"
             ]
            ],
            "type": "surface"
           }
          ],
          "table": [
           {
            "cells": {
             "fill": {
              "color": "#EBF0F8"
             },
             "line": {
              "color": "white"
             }
            },
            "header": {
             "fill": {
              "color": "#C8D4E3"
             },
             "line": {
              "color": "white"
             }
            },
            "type": "table"
           }
          ]
         },
         "layout": {
          "annotationdefaults": {
           "arrowcolor": "#2a3f5f",
           "arrowhead": 0,
           "arrowwidth": 1
          },
          "autotypenumbers": "strict",
          "coloraxis": {
           "colorbar": {
            "outlinewidth": 0,
            "ticks": ""
           }
          },
          "colorscale": {
           "diverging": [
            [
             0,
             "#8e0152"
            ],
            [
             0.1,
             "#c51b7d"
            ],
            [
             0.2,
             "#de77ae"
            ],
            [
             0.3,
             "#f1b6da"
            ],
            [
             0.4,
             "#fde0ef"
            ],
            [
             0.5,
             "#f7f7f7"
            ],
            [
             0.6,
             "#e6f5d0"
            ],
            [
             0.7,
             "#b8e186"
            ],
            [
             0.8,
             "#7fbc41"
            ],
            [
             0.9,
             "#4d9221"
            ],
            [
             1,
             "#276419"
            ]
           ],
           "sequential": [
            [
             0,
             "#0d0887"
            ],
            [
             0.1111111111111111,
             "#46039f"
            ],
            [
             0.2222222222222222,
             "#7201a8"
            ],
            [
             0.3333333333333333,
             "#9c179e"
            ],
            [
             0.4444444444444444,
             "#bd3786"
            ],
            [
             0.5555555555555556,
             "#d8576b"
            ],
            [
             0.6666666666666666,
             "#ed7953"
            ],
            [
             0.7777777777777778,
             "#fb9f3a"
            ],
            [
             0.8888888888888888,
             "#fdca26"
            ],
            [
             1,
             "#f0f921"
            ]
           ],
           "sequentialminus": [
            [
             0,
             "#0d0887"
            ],
            [
             0.1111111111111111,
             "#46039f"
            ],
            [
             0.2222222222222222,
             "#7201a8"
            ],
            [
             0.3333333333333333,
             "#9c179e"
            ],
            [
             0.4444444444444444,
             "#bd3786"
            ],
            [
             0.5555555555555556,
             "#d8576b"
            ],
            [
             0.6666666666666666,
             "#ed7953"
            ],
            [
             0.7777777777777778,
             "#fb9f3a"
            ],
            [
             0.8888888888888888,
             "#fdca26"
            ],
            [
             1,
             "#f0f921"
            ]
           ]
          },
          "colorway": [
           "#636efa",
           "#EF553B",
           "#00cc96",
           "#ab63fa",
           "#FFA15A",
           "#19d3f3",
           "#FF6692",
           "#B6E880",
           "#FF97FF",
           "#FECB52"
          ],
          "font": {
           "color": "#2a3f5f"
          },
          "geo": {
           "bgcolor": "white",
           "lakecolor": "white",
           "landcolor": "#E5ECF6",
           "showlakes": true,
           "showland": true,
           "subunitcolor": "white"
          },
          "hoverlabel": {
           "align": "left"
          },
          "hovermode": "closest",
          "mapbox": {
           "style": "light"
          },
          "paper_bgcolor": "white",
          "plot_bgcolor": "#E5ECF6",
          "polar": {
           "angularaxis": {
            "gridcolor": "white",
            "linecolor": "white",
            "ticks": ""
           },
           "bgcolor": "#E5ECF6",
           "radialaxis": {
            "gridcolor": "white",
            "linecolor": "white",
            "ticks": ""
           }
          },
          "scene": {
           "xaxis": {
            "backgroundcolor": "#E5ECF6",
            "gridcolor": "white",
            "gridwidth": 2,
            "linecolor": "white",
            "showbackground": true,
            "ticks": "",
            "zerolinecolor": "white"
           },
           "yaxis": {
            "backgroundcolor": "#E5ECF6",
            "gridcolor": "white",
            "gridwidth": 2,
            "linecolor": "white",
            "showbackground": true,
            "ticks": "",
            "zerolinecolor": "white"
           },
           "zaxis": {
            "backgroundcolor": "#E5ECF6",
            "gridcolor": "white",
            "gridwidth": 2,
            "linecolor": "white",
            "showbackground": true,
            "ticks": "",
            "zerolinecolor": "white"
           }
          },
          "shapedefaults": {
           "line": {
            "color": "#2a3f5f"
           }
          },
          "ternary": {
           "aaxis": {
            "gridcolor": "white",
            "linecolor": "white",
            "ticks": ""
           },
           "baxis": {
            "gridcolor": "white",
            "linecolor": "white",
            "ticks": ""
           },
           "bgcolor": "#E5ECF6",
           "caxis": {
            "gridcolor": "white",
            "linecolor": "white",
            "ticks": ""
           }
          },
          "title": {
           "x": 0.05
          },
          "xaxis": {
           "automargin": true,
           "gridcolor": "white",
           "linecolor": "white",
           "ticks": "",
           "title": {
            "standoff": 15
           },
           "zerolinecolor": "white",
           "zerolinewidth": 2
          },
          "yaxis": {
           "automargin": true,
           "gridcolor": "white",
           "linecolor": "white",
           "ticks": "",
           "title": {
            "standoff": 15
           },
           "zerolinecolor": "white",
           "zerolinewidth": 2
          }
         }
        },
        "title": {
         "text": "Values for chosen parameter ['Fat [%]', 'Water [%]', 'Protein [%]', 'Energy [kcal/100g]'] PER 100g PROTEIN <br>for studies about ['mealworm', 'grasshopper'].<br>The different studies are placed on the x-axis, encoded by numbers (see legend = variable) and sorted<br>in ascending order for each subplot. See studies dictionary for the numbers."
        },
        "xaxis": {
         "anchor": "y",
         "categoryarray": [
          "Fat [%]",
          "Water [%]",
          "Protein [%]",
          "Energy [kcal/100g]"
         ],
         "categoryorder": "array",
         "domain": [
          0,
          0.20500000000000002
         ],
         "showticklabels": true,
         "title": {
          "text": "index"
         }
        },
        "xaxis2": {
         "anchor": "y2",
         "categoryarray": [
          "Fat [%]",
          "Water [%]",
          "Protein [%]",
          "Energy [kcal/100g]"
         ],
         "categoryorder": "array",
         "domain": [
          0.265,
          0.47000000000000003
         ],
         "showticklabels": true,
         "title": {
          "text": "index"
         }
        },
        "xaxis3": {
         "anchor": "y3",
         "categoryarray": [
          "Fat [%]",
          "Water [%]",
          "Protein [%]",
          "Energy [kcal/100g]"
         ],
         "categoryorder": "array",
         "domain": [
          0.53,
          0.7350000000000001
         ],
         "showticklabels": true,
         "title": {
          "text": "index"
         }
        },
        "xaxis4": {
         "anchor": "y4",
         "categoryarray": [
          "Fat [%]",
          "Water [%]",
          "Protein [%]",
          "Energy [kcal/100g]"
         ],
         "categoryorder": "array",
         "domain": [
          0.7949999999999999,
          1
         ],
         "showticklabels": true,
         "title": {
          "text": "index"
         }
        },
        "yaxis": {
         "anchor": "x",
         "domain": [
          0,
          1
         ],
         "showticklabels": true,
         "title": {
          "text": "value"
         }
        },
        "yaxis2": {
         "anchor": "x2",
         "domain": [
          0,
          1
         ],
         "showticklabels": true
        },
        "yaxis3": {
         "anchor": "x3",
         "domain": [
          0,
          1
         ],
         "showticklabels": true
        },
        "yaxis4": {
         "anchor": "x4",
         "domain": [
          0,
          1
         ],
         "showticklabels": true
        }
       }
      },
      "text/html": [
       "<div>                            <div id=\"395e7b05-38ec-4878-9435-59fe2e3de0eb\" class=\"plotly-graph-div\" style=\"height:525px; width:100%;\"></div>            <script type=\"text/javascript\">                require([\"plotly\"], function(Plotly) {                    window.PLOTLYENV=window.PLOTLYENV || {};                                    if (document.getElementById(\"395e7b05-38ec-4878-9435-59fe2e3de0eb\")) {                    Plotly.newPlot(                        \"395e7b05-38ec-4878-9435-59fe2e3de0eb\",                        [{\"alignmentgroup\":\"True\",\"hovertemplate\":\"variable=0<br>index=%{x}<br>value=%{y}<extra></extra>\",\"legendgroup\":\"0\",\"marker\":{\"color\":\"rgb(0, 1, 0)\",\"pattern\":{\"shape\":\"\"}},\"name\":\"0\",\"offsetgroup\":\"0\",\"orientation\":\"v\",\"showlegend\":true,\"textposition\":\"auto\",\"x\":[\"Fat [%]\"],\"xaxis\":\"x\",\"y\":[null],\"yaxis\":\"y\",\"type\":\"bar\"},{\"alignmentgroup\":\"True\",\"hovertemplate\":\"variable=0<br>index=%{x}<br>value=%{y}<extra></extra>\",\"legendgroup\":\"0\",\"marker\":{\"color\":\"rgb(0, 1, 0)\",\"pattern\":{\"shape\":\"\"}},\"name\":\"0\",\"offsetgroup\":\"0\",\"orientation\":\"v\",\"showlegend\":false,\"textposition\":\"auto\",\"x\":[\"Water [%]\"],\"xaxis\":\"x2\",\"y\":[null],\"yaxis\":\"y2\",\"type\":\"bar\"},{\"alignmentgroup\":\"True\",\"hovertemplate\":\"variable=0<br>index=%{x}<br>value=%{y}<extra></extra>\",\"legendgroup\":\"0\",\"marker\":{\"color\":\"rgb(0, 1, 0)\",\"pattern\":{\"shape\":\"\"}},\"name\":\"0\",\"offsetgroup\":\"0\",\"orientation\":\"v\",\"showlegend\":false,\"textposition\":\"auto\",\"x\":[\"Protein [%]\"],\"xaxis\":\"x3\",\"y\":[1.0],\"yaxis\":\"y3\",\"type\":\"bar\"},{\"alignmentgroup\":\"True\",\"hovertemplate\":\"variable=0<br>index=%{x}<br>value=%{y}<extra></extra>\",\"legendgroup\":\"0\",\"marker\":{\"color\":\"rgb(0, 1, 0)\",\"pattern\":{\"shape\":\"\"}},\"name\":\"0\",\"offsetgroup\":\"0\",\"orientation\":\"v\",\"showlegend\":false,\"textposition\":\"auto\",\"x\":[\"Energy [kcal/100g]\"],\"xaxis\":\"x4\",\"y\":[null],\"yaxis\":\"y4\",\"type\":\"bar\"},{\"alignmentgroup\":\"True\",\"hovertemplate\":\"variable=1<br>index=%{x}<br>value=%{y}<extra></extra>\",\"legendgroup\":\"1\",\"marker\":{\"color\":\"rgb(11, 25, 39)\",\"pattern\":{\"shape\":\"\"}},\"name\":\"1\",\"offsetgroup\":\"1\",\"orientation\":\"v\",\"showlegend\":true,\"textposition\":\"auto\",\"x\":[\"Fat [%]\"],\"xaxis\":\"x\",\"y\":[1.2222222222222223],\"yaxis\":\"y\",\"type\":\"bar\"},{\"alignmentgroup\":\"True\",\"hovertemplate\":\"variable=1<br>index=%{x}<br>value=%{y}<extra></extra>\",\"legendgroup\":\"1\",\"marker\":{\"color\":\"rgb(11, 25, 39)\",\"pattern\":{\"shape\":\"\"}},\"name\":\"1\",\"offsetgroup\":\"1\",\"orientation\":\"v\",\"showlegend\":false,\"textposition\":\"auto\",\"x\":[\"Water [%]\"],\"xaxis\":\"x2\",\"y\":[3.111111111111111],\"yaxis\":\"y2\",\"type\":\"bar\"},{\"alignmentgroup\":\"True\",\"hovertemplate\":\"variable=1<br>index=%{x}<br>value=%{y}<extra></extra>\",\"legendgroup\":\"1\",\"marker\":{\"color\":\"rgb(11, 25, 39)\",\"pattern\":{\"shape\":\"\"}},\"name\":\"1\",\"offsetgroup\":\"1\",\"orientation\":\"v\",\"showlegend\":false,\"textposition\":\"auto\",\"x\":[\"Protein [%]\"],\"xaxis\":\"x3\",\"y\":[1.0],\"yaxis\":\"y3\",\"type\":\"bar\"},{\"alignmentgroup\":\"True\",\"hovertemplate\":\"variable=1<br>index=%{x}<br>value=%{y}<extra></extra>\",\"legendgroup\":\"1\",\"marker\":{\"color\":\"rgb(11, 25, 39)\",\"pattern\":{\"shape\":\"\"}},\"name\":\"1\",\"offsetgroup\":\"1\",\"orientation\":\"v\",\"showlegend\":false,\"textposition\":\"auto\",\"x\":[\"Energy [kcal/100g]\"],\"xaxis\":\"x4\",\"y\":[null],\"yaxis\":\"y4\",\"type\":\"bar\"},{\"alignmentgroup\":\"True\",\"hovertemplate\":\"variable=2<br>index=%{x}<br>value=%{y}<extra></extra>\",\"legendgroup\":\"2\",\"marker\":{\"color\":\"rgb(17, 48, 77)\",\"pattern\":{\"shape\":\"\"}},\"name\":\"2\",\"offsetgroup\":\"2\",\"orientation\":\"v\",\"showlegend\":true,\"textposition\":\"auto\",\"x\":[\"Fat [%]\"],\"xaxis\":\"x\",\"y\":[null],\"yaxis\":\"y\",\"type\":\"bar\"},{\"alignmentgroup\":\"True\",\"hovertemplate\":\"variable=2<br>index=%{x}<br>value=%{y}<extra></extra>\",\"legendgroup\":\"2\",\"marker\":{\"color\":\"rgb(17, 48, 77)\",\"pattern\":{\"shape\":\"\"}},\"name\":\"2\",\"offsetgroup\":\"2\",\"orientation\":\"v\",\"showlegend\":false,\"textposition\":\"auto\",\"x\":[\"Water [%]\"],\"xaxis\":\"x2\",\"y\":[null],\"yaxis\":\"y2\",\"type\":\"bar\"},{\"alignmentgroup\":\"True\",\"hovertemplate\":\"variable=2<br>index=%{x}<br>value=%{y}<extra></extra>\",\"legendgroup\":\"2\",\"marker\":{\"color\":\"rgb(17, 48, 77)\",\"pattern\":{\"shape\":\"\"}},\"name\":\"2\",\"offsetgroup\":\"2\",\"orientation\":\"v\",\"showlegend\":false,\"textposition\":\"auto\",\"x\":[\"Protein [%]\"],\"xaxis\":\"x3\",\"y\":[1.0],\"yaxis\":\"y3\",\"type\":\"bar\"},{\"alignmentgroup\":\"True\",\"hovertemplate\":\"variable=2<br>index=%{x}<br>value=%{y}<extra></extra>\",\"legendgroup\":\"2\",\"marker\":{\"color\":\"rgb(17, 48, 77)\",\"pattern\":{\"shape\":\"\"}},\"name\":\"2\",\"offsetgroup\":\"2\",\"orientation\":\"v\",\"showlegend\":false,\"textposition\":\"auto\",\"x\":[\"Energy [kcal/100g]\"],\"xaxis\":\"x4\",\"y\":[null],\"yaxis\":\"y4\",\"type\":\"bar\"},{\"alignmentgroup\":\"True\",\"hovertemplate\":\"variable=3<br>index=%{x}<br>value=%{y}<extra></extra>\",\"legendgroup\":\"3\",\"marker\":{\"color\":\"rgb(27, 73, 117)\",\"pattern\":{\"shape\":\"\"}},\"name\":\"3\",\"offsetgroup\":\"3\",\"orientation\":\"v\",\"showlegend\":true,\"textposition\":\"auto\",\"x\":[\"Fat [%]\"],\"xaxis\":\"x\",\"y\":[null],\"yaxis\":\"y\",\"type\":\"bar\"},{\"alignmentgroup\":\"True\",\"hovertemplate\":\"variable=3<br>index=%{x}<br>value=%{y}<extra></extra>\",\"legendgroup\":\"3\",\"marker\":{\"color\":\"rgb(27, 73, 117)\",\"pattern\":{\"shape\":\"\"}},\"name\":\"3\",\"offsetgroup\":\"3\",\"orientation\":\"v\",\"showlegend\":false,\"textposition\":\"auto\",\"x\":[\"Water [%]\"],\"xaxis\":\"x2\",\"y\":[null],\"yaxis\":\"y2\",\"type\":\"bar\"},{\"alignmentgroup\":\"True\",\"hovertemplate\":\"variable=3<br>index=%{x}<br>value=%{y}<extra></extra>\",\"legendgroup\":\"3\",\"marker\":{\"color\":\"rgb(27, 73, 117)\",\"pattern\":{\"shape\":\"\"}},\"name\":\"3\",\"offsetgroup\":\"3\",\"orientation\":\"v\",\"showlegend\":false,\"textposition\":\"auto\",\"x\":[\"Protein [%]\"],\"xaxis\":\"x3\",\"y\":[null],\"yaxis\":\"y3\",\"type\":\"bar\"},{\"alignmentgroup\":\"True\",\"hovertemplate\":\"variable=3<br>index=%{x}<br>value=%{y}<extra></extra>\",\"legendgroup\":\"3\",\"marker\":{\"color\":\"rgb(27, 73, 117)\",\"pattern\":{\"shape\":\"\"}},\"name\":\"3\",\"offsetgroup\":\"3\",\"orientation\":\"v\",\"showlegend\":false,\"textposition\":\"auto\",\"x\":[\"Energy [kcal/100g]\"],\"xaxis\":\"x4\",\"y\":[null],\"yaxis\":\"y4\",\"type\":\"bar\"},{\"alignmentgroup\":\"True\",\"hovertemplate\":\"variable=4<br>index=%{x}<br>value=%{y}<extra></extra>\",\"legendgroup\":\"4\",\"marker\":{\"color\":\"rgb(46, 98, 160)\",\"pattern\":{\"shape\":\"\"}},\"name\":\"4\",\"offsetgroup\":\"4\",\"orientation\":\"v\",\"showlegend\":true,\"textposition\":\"auto\",\"x\":[\"Fat [%]\"],\"xaxis\":\"x\",\"y\":[0.7322128851540616],\"yaxis\":\"y\",\"type\":\"bar\"},{\"alignmentgroup\":\"True\",\"hovertemplate\":\"variable=4<br>index=%{x}<br>value=%{y}<extra></extra>\",\"legendgroup\":\"4\",\"marker\":{\"color\":\"rgb(46, 98, 160)\",\"pattern\":{\"shape\":\"\"}},\"name\":\"4\",\"offsetgroup\":\"4\",\"orientation\":\"v\",\"showlegend\":false,\"textposition\":\"auto\",\"x\":[\"Water [%]\"],\"xaxis\":\"x2\",\"y\":[3.4733893557422966],\"yaxis\":\"y2\",\"type\":\"bar\"},{\"alignmentgroup\":\"True\",\"hovertemplate\":\"variable=4<br>index=%{x}<br>value=%{y}<extra></extra>\",\"legendgroup\":\"4\",\"marker\":{\"color\":\"rgb(46, 98, 160)\",\"pattern\":{\"shape\":\"\"}},\"name\":\"4\",\"offsetgroup\":\"4\",\"orientation\":\"v\",\"showlegend\":false,\"textposition\":\"auto\",\"x\":[\"Protein [%]\"],\"xaxis\":\"x3\",\"y\":[1.0],\"yaxis\":\"y3\",\"type\":\"bar\"},{\"alignmentgroup\":\"True\",\"hovertemplate\":\"variable=4<br>index=%{x}<br>value=%{y}<extra></extra>\",\"legendgroup\":\"4\",\"marker\":{\"color\":\"rgb(46, 98, 160)\",\"pattern\":{\"shape\":\"\"}},\"name\":\"4\",\"offsetgroup\":\"4\",\"orientation\":\"v\",\"showlegend\":false,\"textposition\":\"auto\",\"x\":[\"Energy [kcal/100g]\"],\"xaxis\":\"x4\",\"y\":[null],\"yaxis\":\"y4\",\"type\":\"bar\"},{\"alignmentgroup\":\"True\",\"hovertemplate\":\"variable=5<br>index=%{x}<br>value=%{y}<extra></extra>\",\"legendgroup\":\"5\",\"marker\":{\"color\":\"rgb(78, 125, 199)\",\"pattern\":{\"shape\":\"\"}},\"name\":\"5\",\"offsetgroup\":\"5\",\"orientation\":\"v\",\"showlegend\":true,\"textposition\":\"auto\",\"x\":[\"Fat [%]\"],\"xaxis\":\"x\",\"y\":[0.7041343669250647],\"yaxis\":\"y\",\"type\":\"bar\"},{\"alignmentgroup\":\"True\",\"hovertemplate\":\"variable=5<br>index=%{x}<br>value=%{y}<extra></extra>\",\"legendgroup\":\"5\",\"marker\":{\"color\":\"rgb(78, 125, 199)\",\"pattern\":{\"shape\":\"\"}},\"name\":\"5\",\"offsetgroup\":\"5\",\"orientation\":\"v\",\"showlegend\":false,\"textposition\":\"auto\",\"x\":[\"Water [%]\"],\"xaxis\":\"x2\",\"y\":[0.11477174849267874],\"yaxis\":\"y2\",\"type\":\"bar\"},{\"alignmentgroup\":\"True\",\"hovertemplate\":\"variable=5<br>index=%{x}<br>value=%{y}<extra></extra>\",\"legendgroup\":\"5\",\"marker\":{\"color\":\"rgb(78, 125, 199)\",\"pattern\":{\"shape\":\"\"}},\"name\":\"5\",\"offsetgroup\":\"5\",\"orientation\":\"v\",\"showlegend\":false,\"textposition\":\"auto\",\"x\":[\"Protein [%]\"],\"xaxis\":\"x3\",\"y\":[1.0],\"yaxis\":\"y3\",\"type\":\"bar\"},{\"alignmentgroup\":\"True\",\"hovertemplate\":\"variable=5<br>index=%{x}<br>value=%{y}<extra></extra>\",\"legendgroup\":\"5\",\"marker\":{\"color\":\"rgb(78, 125, 199)\",\"pattern\":{\"shape\":\"\"}},\"name\":\"5\",\"offsetgroup\":\"5\",\"orientation\":\"v\",\"showlegend\":false,\"textposition\":\"auto\",\"x\":[\"Energy [kcal/100g]\"],\"xaxis\":\"x4\",\"y\":[null],\"yaxis\":\"y4\",\"type\":\"bar\"},{\"alignmentgroup\":\"True\",\"hovertemplate\":\"variable=6<br>index=%{x}<br>value=%{y}<extra></extra>\",\"legendgroup\":\"6\",\"marker\":{\"color\":\"rgb(111, 146, 202)\",\"pattern\":{\"shape\":\"\"}},\"name\":\"6\",\"offsetgroup\":\"6\",\"orientation\":\"v\",\"showlegend\":true,\"textposition\":\"auto\",\"x\":[\"Fat [%]\"],\"xaxis\":\"x\",\"y\":[0.4720616570327553],\"yaxis\":\"y\",\"type\":\"bar\"},{\"alignmentgroup\":\"True\",\"hovertemplate\":\"variable=6<br>index=%{x}<br>value=%{y}<extra></extra>\",\"legendgroup\":\"6\",\"marker\":{\"color\":\"rgb(111, 146, 202)\",\"pattern\":{\"shape\":\"\"}},\"name\":\"6\",\"offsetgroup\":\"6\",\"orientation\":\"v\",\"showlegend\":false,\"textposition\":\"auto\",\"x\":[\"Water [%]\"],\"xaxis\":\"x2\",\"y\":[2.304431599229287],\"yaxis\":\"y2\",\"type\":\"bar\"},{\"alignmentgroup\":\"True\",\"hovertemplate\":\"variable=6<br>index=%{x}<br>value=%{y}<extra></extra>\",\"legendgroup\":\"6\",\"marker\":{\"color\":\"rgb(111, 146, 202)\",\"pattern\":{\"shape\":\"\"}},\"name\":\"6\",\"offsetgroup\":\"6\",\"orientation\":\"v\",\"showlegend\":false,\"textposition\":\"auto\",\"x\":[\"Protein [%]\"],\"xaxis\":\"x3\",\"y\":[1.0],\"yaxis\":\"y3\",\"type\":\"bar\"},{\"alignmentgroup\":\"True\",\"hovertemplate\":\"variable=6<br>index=%{x}<br>value=%{y}<extra></extra>\",\"legendgroup\":\"6\",\"marker\":{\"color\":\"rgb(111, 146, 202)\",\"pattern\":{\"shape\":\"\"}},\"name\":\"6\",\"offsetgroup\":\"6\",\"orientation\":\"v\",\"showlegend\":false,\"textposition\":\"auto\",\"x\":[\"Energy [kcal/100g]\"],\"xaxis\":\"x4\",\"y\":[null],\"yaxis\":\"y4\",\"type\":\"bar\"},{\"alignmentgroup\":\"True\",\"hovertemplate\":\"variable=7<br>index=%{x}<br>value=%{y}<extra></extra>\",\"legendgroup\":\"7\",\"marker\":{\"color\":\"rgb(144, 166, 201)\",\"pattern\":{\"shape\":\"\"}},\"name\":\"7\",\"offsetgroup\":\"7\",\"orientation\":\"v\",\"showlegend\":true,\"textposition\":\"auto\",\"x\":[\"Fat [%]\"],\"xaxis\":\"x\",\"y\":[0.22],\"yaxis\":\"y\",\"type\":\"bar\"},{\"alignmentgroup\":\"True\",\"hovertemplate\":\"variable=7<br>index=%{x}<br>value=%{y}<extra></extra>\",\"legendgroup\":\"7\",\"marker\":{\"color\":\"rgb(144, 166, 201)\",\"pattern\":{\"shape\":\"\"}},\"name\":\"7\",\"offsetgroup\":\"7\",\"orientation\":\"v\",\"showlegend\":false,\"textposition\":\"auto\",\"x\":[\"Water [%]\"],\"xaxis\":\"x2\",\"y\":[null],\"yaxis\":\"y2\",\"type\":\"bar\"},{\"alignmentgroup\":\"True\",\"hovertemplate\":\"variable=7<br>index=%{x}<br>value=%{y}<extra></extra>\",\"legendgroup\":\"7\",\"marker\":{\"color\":\"rgb(144, 166, 201)\",\"pattern\":{\"shape\":\"\"}},\"name\":\"7\",\"offsetgroup\":\"7\",\"orientation\":\"v\",\"showlegend\":false,\"textposition\":\"auto\",\"x\":[\"Protein [%]\"],\"xaxis\":\"x3\",\"y\":[1.0],\"yaxis\":\"y3\",\"type\":\"bar\"},{\"alignmentgroup\":\"True\",\"hovertemplate\":\"variable=7<br>index=%{x}<br>value=%{y}<extra></extra>\",\"legendgroup\":\"7\",\"marker\":{\"color\":\"rgb(144, 166, 201)\",\"pattern\":{\"shape\":\"\"}},\"name\":\"7\",\"offsetgroup\":\"7\",\"orientation\":\"v\",\"showlegend\":false,\"textposition\":\"auto\",\"x\":[\"Energy [kcal/100g]\"],\"xaxis\":\"x4\",\"y\":[null],\"yaxis\":\"y4\",\"type\":\"bar\"},{\"alignmentgroup\":\"True\",\"hovertemplate\":\"variable=8<br>index=%{x}<br>value=%{y}<extra></extra>\",\"legendgroup\":\"8\",\"marker\":{\"color\":\"rgb(176, 185, 200)\",\"pattern\":{\"shape\":\"\"}},\"name\":\"8\",\"offsetgroup\":\"8\",\"orientation\":\"v\",\"showlegend\":true,\"textposition\":\"auto\",\"x\":[\"Fat [%]\"],\"xaxis\":\"x\",\"y\":[0.15159420289855075],\"yaxis\":\"y\",\"type\":\"bar\"},{\"alignmentgroup\":\"True\",\"hovertemplate\":\"variable=8<br>index=%{x}<br>value=%{y}<extra></extra>\",\"legendgroup\":\"8\",\"marker\":{\"color\":\"rgb(176, 185, 200)\",\"pattern\":{\"shape\":\"\"}},\"name\":\"8\",\"offsetgroup\":\"8\",\"orientation\":\"v\",\"showlegend\":false,\"textposition\":\"auto\",\"x\":[\"Water [%]\"],\"xaxis\":\"x2\",\"y\":[null],\"yaxis\":\"y2\",\"type\":\"bar\"},{\"alignmentgroup\":\"True\",\"hovertemplate\":\"variable=8<br>index=%{x}<br>value=%{y}<extra></extra>\",\"legendgroup\":\"8\",\"marker\":{\"color\":\"rgb(176, 185, 200)\",\"pattern\":{\"shape\":\"\"}},\"name\":\"8\",\"offsetgroup\":\"8\",\"orientation\":\"v\",\"showlegend\":false,\"textposition\":\"auto\",\"x\":[\"Protein [%]\"],\"xaxis\":\"x3\",\"y\":[1.0],\"yaxis\":\"y3\",\"type\":\"bar\"},{\"alignmentgroup\":\"True\",\"hovertemplate\":\"variable=8<br>index=%{x}<br>value=%{y}<extra></extra>\",\"legendgroup\":\"8\",\"marker\":{\"color\":\"rgb(176, 185, 200)\",\"pattern\":{\"shape\":\"\"}},\"name\":\"8\",\"offsetgroup\":\"8\",\"orientation\":\"v\",\"showlegend\":false,\"textposition\":\"auto\",\"x\":[\"Energy [kcal/100g]\"],\"xaxis\":\"x4\",\"y\":[7.594202898550725],\"yaxis\":\"y4\",\"type\":\"bar\"}],                        {\"template\":{\"data\":{\"histogram2dcontour\":[{\"type\":\"histogram2dcontour\",\"colorbar\":{\"outlinewidth\":0,\"ticks\":\"\"},\"colorscale\":[[0.0,\"#0d0887\"],[0.1111111111111111,\"#46039f\"],[0.2222222222222222,\"#7201a8\"],[0.3333333333333333,\"#9c179e\"],[0.4444444444444444,\"#bd3786\"],[0.5555555555555556,\"#d8576b\"],[0.6666666666666666,\"#ed7953\"],[0.7777777777777778,\"#fb9f3a\"],[0.8888888888888888,\"#fdca26\"],[1.0,\"#f0f921\"]]}],\"choropleth\":[{\"type\":\"choropleth\",\"colorbar\":{\"outlinewidth\":0,\"ticks\":\"\"}}],\"histogram2d\":[{\"type\":\"histogram2d\",\"colorbar\":{\"outlinewidth\":0,\"ticks\":\"\"},\"colorscale\":[[0.0,\"#0d0887\"],[0.1111111111111111,\"#46039f\"],[0.2222222222222222,\"#7201a8\"],[0.3333333333333333,\"#9c179e\"],[0.4444444444444444,\"#bd3786\"],[0.5555555555555556,\"#d8576b\"],[0.6666666666666666,\"#ed7953\"],[0.7777777777777778,\"#fb9f3a\"],[0.8888888888888888,\"#fdca26\"],[1.0,\"#f0f921\"]]}],\"heatmap\":[{\"type\":\"heatmap\",\"colorbar\":{\"outlinewidth\":0,\"ticks\":\"\"},\"colorscale\":[[0.0,\"#0d0887\"],[0.1111111111111111,\"#46039f\"],[0.2222222222222222,\"#7201a8\"],[0.3333333333333333,\"#9c179e\"],[0.4444444444444444,\"#bd3786\"],[0.5555555555555556,\"#d8576b\"],[0.6666666666666666,\"#ed7953\"],[0.7777777777777778,\"#fb9f3a\"],[0.8888888888888888,\"#fdca26\"],[1.0,\"#f0f921\"]]}],\"heatmapgl\":[{\"type\":\"heatmapgl\",\"colorbar\":{\"outlinewidth\":0,\"ticks\":\"\"},\"colorscale\":[[0.0,\"#0d0887\"],[0.1111111111111111,\"#46039f\"],[0.2222222222222222,\"#7201a8\"],[0.3333333333333333,\"#9c179e\"],[0.4444444444444444,\"#bd3786\"],[0.5555555555555556,\"#d8576b\"],[0.6666666666666666,\"#ed7953\"],[0.7777777777777778,\"#fb9f3a\"],[0.8888888888888888,\"#fdca26\"],[1.0,\"#f0f921\"]]}],\"contourcarpet\":[{\"type\":\"contourcarpet\",\"colorbar\":{\"outlinewidth\":0,\"ticks\":\"\"}}],\"contour\":[{\"type\":\"contour\",\"colorbar\":{\"outlinewidth\":0,\"ticks\":\"\"},\"colorscale\":[[0.0,\"#0d0887\"],[0.1111111111111111,\"#46039f\"],[0.2222222222222222,\"#7201a8\"],[0.3333333333333333,\"#9c179e\"],[0.4444444444444444,\"#bd3786\"],[0.5555555555555556,\"#d8576b\"],[0.6666666666666666,\"#ed7953\"],[0.7777777777777778,\"#fb9f3a\"],[0.8888888888888888,\"#fdca26\"],[1.0,\"#f0f921\"]]}],\"surface\":[{\"type\":\"surface\",\"colorbar\":{\"outlinewidth\":0,\"ticks\":\"\"},\"colorscale\":[[0.0,\"#0d0887\"],[0.1111111111111111,\"#46039f\"],[0.2222222222222222,\"#7201a8\"],[0.3333333333333333,\"#9c179e\"],[0.4444444444444444,\"#bd3786\"],[0.5555555555555556,\"#d8576b\"],[0.6666666666666666,\"#ed7953\"],[0.7777777777777778,\"#fb9f3a\"],[0.8888888888888888,\"#fdca26\"],[1.0,\"#f0f921\"]]}],\"mesh3d\":[{\"type\":\"mesh3d\",\"colorbar\":{\"outlinewidth\":0,\"ticks\":\"\"}}],\"scatter\":[{\"fillpattern\":{\"fillmode\":\"overlay\",\"size\":10,\"solidity\":0.2},\"type\":\"scatter\"}],\"parcoords\":[{\"type\":\"parcoords\",\"line\":{\"colorbar\":{\"outlinewidth\":0,\"ticks\":\"\"}}}],\"scatterpolargl\":[{\"type\":\"scatterpolargl\",\"marker\":{\"colorbar\":{\"outlinewidth\":0,\"ticks\":\"\"}}}],\"bar\":[{\"error_x\":{\"color\":\"#2a3f5f\"},\"error_y\":{\"color\":\"#2a3f5f\"},\"marker\":{\"line\":{\"color\":\"#E5ECF6\",\"width\":0.5},\"pattern\":{\"fillmode\":\"overlay\",\"size\":10,\"solidity\":0.2}},\"type\":\"bar\"}],\"scattergeo\":[{\"type\":\"scattergeo\",\"marker\":{\"colorbar\":{\"outlinewidth\":0,\"ticks\":\"\"}}}],\"scatterpolar\":[{\"type\":\"scatterpolar\",\"marker\":{\"colorbar\":{\"outlinewidth\":0,\"ticks\":\"\"}}}],\"histogram\":[{\"marker\":{\"pattern\":{\"fillmode\":\"overlay\",\"size\":10,\"solidity\":0.2}},\"type\":\"histogram\"}],\"scattergl\":[{\"type\":\"scattergl\",\"marker\":{\"colorbar\":{\"outlinewidth\":0,\"ticks\":\"\"}}}],\"scatter3d\":[{\"type\":\"scatter3d\",\"line\":{\"colorbar\":{\"outlinewidth\":0,\"ticks\":\"\"}},\"marker\":{\"colorbar\":{\"outlinewidth\":0,\"ticks\":\"\"}}}],\"scattermapbox\":[{\"type\":\"scattermapbox\",\"marker\":{\"colorbar\":{\"outlinewidth\":0,\"ticks\":\"\"}}}],\"scatterternary\":[{\"type\":\"scatterternary\",\"marker\":{\"colorbar\":{\"outlinewidth\":0,\"ticks\":\"\"}}}],\"scattercarpet\":[{\"type\":\"scattercarpet\",\"marker\":{\"colorbar\":{\"outlinewidth\":0,\"ticks\":\"\"}}}],\"carpet\":[{\"aaxis\":{\"endlinecolor\":\"#2a3f5f\",\"gridcolor\":\"white\",\"linecolor\":\"white\",\"minorgridcolor\":\"white\",\"startlinecolor\":\"#2a3f5f\"},\"baxis\":{\"endlinecolor\":\"#2a3f5f\",\"gridcolor\":\"white\",\"linecolor\":\"white\",\"minorgridcolor\":\"white\",\"startlinecolor\":\"#2a3f5f\"},\"type\":\"carpet\"}],\"table\":[{\"cells\":{\"fill\":{\"color\":\"#EBF0F8\"},\"line\":{\"color\":\"white\"}},\"header\":{\"fill\":{\"color\":\"#C8D4E3\"},\"line\":{\"color\":\"white\"}},\"type\":\"table\"}],\"barpolar\":[{\"marker\":{\"line\":{\"color\":\"#E5ECF6\",\"width\":0.5},\"pattern\":{\"fillmode\":\"overlay\",\"size\":10,\"solidity\":0.2}},\"type\":\"barpolar\"}],\"pie\":[{\"automargin\":true,\"type\":\"pie\"}]},\"layout\":{\"autotypenumbers\":\"strict\",\"colorway\":[\"#636efa\",\"#EF553B\",\"#00cc96\",\"#ab63fa\",\"#FFA15A\",\"#19d3f3\",\"#FF6692\",\"#B6E880\",\"#FF97FF\",\"#FECB52\"],\"font\":{\"color\":\"#2a3f5f\"},\"hovermode\":\"closest\",\"hoverlabel\":{\"align\":\"left\"},\"paper_bgcolor\":\"white\",\"plot_bgcolor\":\"#E5ECF6\",\"polar\":{\"bgcolor\":\"#E5ECF6\",\"angularaxis\":{\"gridcolor\":\"white\",\"linecolor\":\"white\",\"ticks\":\"\"},\"radialaxis\":{\"gridcolor\":\"white\",\"linecolor\":\"white\",\"ticks\":\"\"}},\"ternary\":{\"bgcolor\":\"#E5ECF6\",\"aaxis\":{\"gridcolor\":\"white\",\"linecolor\":\"white\",\"ticks\":\"\"},\"baxis\":{\"gridcolor\":\"white\",\"linecolor\":\"white\",\"ticks\":\"\"},\"caxis\":{\"gridcolor\":\"white\",\"linecolor\":\"white\",\"ticks\":\"\"}},\"coloraxis\":{\"colorbar\":{\"outlinewidth\":0,\"ticks\":\"\"}},\"colorscale\":{\"sequential\":[[0.0,\"#0d0887\"],[0.1111111111111111,\"#46039f\"],[0.2222222222222222,\"#7201a8\"],[0.3333333333333333,\"#9c179e\"],[0.4444444444444444,\"#bd3786\"],[0.5555555555555556,\"#d8576b\"],[0.6666666666666666,\"#ed7953\"],[0.7777777777777778,\"#fb9f3a\"],[0.8888888888888888,\"#fdca26\"],[1.0,\"#f0f921\"]],\"sequentialminus\":[[0.0,\"#0d0887\"],[0.1111111111111111,\"#46039f\"],[0.2222222222222222,\"#7201a8\"],[0.3333333333333333,\"#9c179e\"],[0.4444444444444444,\"#bd3786\"],[0.5555555555555556,\"#d8576b\"],[0.6666666666666666,\"#ed7953\"],[0.7777777777777778,\"#fb9f3a\"],[0.8888888888888888,\"#fdca26\"],[1.0,\"#f0f921\"]],\"diverging\":[[0,\"#8e0152\"],[0.1,\"#c51b7d\"],[0.2,\"#de77ae\"],[0.3,\"#f1b6da\"],[0.4,\"#fde0ef\"],[0.5,\"#f7f7f7\"],[0.6,\"#e6f5d0\"],[0.7,\"#b8e186\"],[0.8,\"#7fbc41\"],[0.9,\"#4d9221\"],[1,\"#276419\"]]},\"xaxis\":{\"gridcolor\":\"white\",\"linecolor\":\"white\",\"ticks\":\"\",\"title\":{\"standoff\":15},\"zerolinecolor\":\"white\",\"automargin\":true,\"zerolinewidth\":2},\"yaxis\":{\"gridcolor\":\"white\",\"linecolor\":\"white\",\"ticks\":\"\",\"title\":{\"standoff\":15},\"zerolinecolor\":\"white\",\"automargin\":true,\"zerolinewidth\":2},\"scene\":{\"xaxis\":{\"backgroundcolor\":\"#E5ECF6\",\"gridcolor\":\"white\",\"linecolor\":\"white\",\"showbackground\":true,\"ticks\":\"\",\"zerolinecolor\":\"white\",\"gridwidth\":2},\"yaxis\":{\"backgroundcolor\":\"#E5ECF6\",\"gridcolor\":\"white\",\"linecolor\":\"white\",\"showbackground\":true,\"ticks\":\"\",\"zerolinecolor\":\"white\",\"gridwidth\":2},\"zaxis\":{\"backgroundcolor\":\"#E5ECF6\",\"gridcolor\":\"white\",\"linecolor\":\"white\",\"showbackground\":true,\"ticks\":\"\",\"zerolinecolor\":\"white\",\"gridwidth\":2}},\"shapedefaults\":{\"line\":{\"color\":\"#2a3f5f\"}},\"annotationdefaults\":{\"arrowcolor\":\"#2a3f5f\",\"arrowhead\":0,\"arrowwidth\":1},\"geo\":{\"bgcolor\":\"white\",\"landcolor\":\"#E5ECF6\",\"subunitcolor\":\"white\",\"showland\":true,\"showlakes\":true,\"lakecolor\":\"white\"},\"title\":{\"x\":0.05},\"mapbox\":{\"style\":\"light\"}}},\"xaxis\":{\"anchor\":\"y\",\"domain\":[0.0,0.20500000000000002],\"title\":{\"text\":\"index\"},\"categoryorder\":\"array\",\"categoryarray\":[\"Fat [%]\",\"Water [%]\",\"Protein [%]\",\"Energy [kcal/100g]\"],\"showticklabels\":true},\"yaxis\":{\"anchor\":\"x\",\"domain\":[0.0,1.0],\"title\":{\"text\":\"value\"},\"showticklabels\":true},\"xaxis2\":{\"anchor\":\"y2\",\"domain\":[0.265,0.47000000000000003],\"title\":{\"text\":\"index\"},\"categoryorder\":\"array\",\"categoryarray\":[\"Fat [%]\",\"Water [%]\",\"Protein [%]\",\"Energy [kcal/100g]\"],\"showticklabels\":true},\"yaxis2\":{\"anchor\":\"x2\",\"domain\":[0.0,1.0],\"showticklabels\":true},\"xaxis3\":{\"anchor\":\"y3\",\"domain\":[0.53,0.7350000000000001],\"title\":{\"text\":\"index\"},\"categoryorder\":\"array\",\"categoryarray\":[\"Fat [%]\",\"Water [%]\",\"Protein [%]\",\"Energy [kcal/100g]\"],\"showticklabels\":true},\"yaxis3\":{\"anchor\":\"x3\",\"domain\":[0.0,1.0],\"showticklabels\":true},\"xaxis4\":{\"anchor\":\"y4\",\"domain\":[0.7949999999999999,1.0],\"title\":{\"text\":\"index\"},\"categoryorder\":\"array\",\"categoryarray\":[\"Fat [%]\",\"Water [%]\",\"Protein [%]\",\"Energy [kcal/100g]\"],\"showticklabels\":true},\"yaxis4\":{\"anchor\":\"x4\",\"domain\":[0.0,1.0],\"showticklabels\":true},\"annotations\":[{\"font\":{},\"showarrow\":false,\"text\":\"index=Fat [%]\",\"x\":0.10250000000000001,\"xanchor\":\"center\",\"xref\":\"paper\",\"y\":1.0,\"yanchor\":\"bottom\",\"yref\":\"paper\"},{\"font\":{},\"showarrow\":false,\"text\":\"index=Water [%]\",\"x\":0.36750000000000005,\"xanchor\":\"center\",\"xref\":\"paper\",\"y\":1.0,\"yanchor\":\"bottom\",\"yref\":\"paper\"},{\"font\":{},\"showarrow\":false,\"text\":\"index=Protein [%]\",\"x\":0.6325000000000001,\"xanchor\":\"center\",\"xref\":\"paper\",\"y\":1.0,\"yanchor\":\"bottom\",\"yref\":\"paper\"},{\"font\":{},\"showarrow\":false,\"text\":\"index=Energy [kcal/100g]\",\"x\":0.8975,\"xanchor\":\"center\",\"xref\":\"paper\",\"y\":1.0,\"yanchor\":\"bottom\",\"yref\":\"paper\"}],\"legend\":{\"title\":{\"text\":\"variable\"},\"tracegroupgap\":0},\"title\":{\"text\":\"Values for chosen parameter ['Fat [%]', 'Water [%]', 'Protein [%]', 'Energy [kcal/100g]'] PER 100g PROTEIN <br>for studies about ['mealworm', 'grasshopper'].<br>The different studies are placed on the x-axis, encoded by numbers (see legend = variable) and sorted<br>in ascending order for each subplot. See studies dictionary for the numbers.\"},\"barmode\":\"group\",\"margin\":{\"t\":200}},                        {\"responsive\": true}                    ).then(function(){\n",
       "                            \n",
       "var gd = document.getElementById('395e7b05-38ec-4878-9435-59fe2e3de0eb');\n",
       "var x = new MutationObserver(function (mutations, observer) {{\n",
       "        var display = window.getComputedStyle(gd).display;\n",
       "        if (!display || display === 'none') {{\n",
       "            console.log([gd, 'removed!']);\n",
       "            Plotly.purge(gd);\n",
       "            observer.disconnect();\n",
       "        }}\n",
       "}});\n",
       "\n",
       "// Listen for the removal of the full notebook cells\n",
       "var notebookContainer = gd.closest('#notebook-container');\n",
       "if (notebookContainer) {{\n",
       "    x.observe(notebookContainer, {childList: true});\n",
       "}}\n",
       "\n",
       "// Listen for the clearing of the current output cell\n",
       "var outputEl = gd.closest('.output');\n",
       "if (outputEl) {{\n",
       "    x.observe(outputEl, {childList: true});\n",
       "}}\n",
       "\n",
       "                        })                };                });            </script>        </div>"
      ]
     },
     "metadata": {},
     "output_type": "display_data"
    }
   ],
   "source": [
    "# https://community.plotly.com/t/how-to-set-different-x-and-y-axis-for-each-subplot/57417\n",
    "\n",
    "import plotly.express as px\n",
    "import pandas as pd\n",
    "\n",
    "\n",
    "# similar to above with dataframe per protein:\n",
    "# first add column source\n",
    "df_studies_per_g_protein['source']= sources\n",
    "df_studies_per_g_protein['StudieNr']= studies_dict.keys()\n",
    "\n",
    "# choose columns and sources\n",
    "column = ['Fat [%]', 'Water [%]', 'Protein [%]', 'Energy [kcal/100g]']\n",
    "ncols = len(column)\n",
    "source = ['mealworm', 'grasshopper']\n",
    "\n",
    "# create dataframe with choice and transpose\n",
    "df_plot = df_studies_per_g_protein.set_index('source').loc[source][column].reset_index(drop = True).T\n",
    "\n",
    "# initiate plot, index (parameters) are the subplots\n",
    "fig = px.bar(df_plot,\n",
    "             barmode=\"group\",\n",
    "             facet_col=df_plot.index, \n",
    "             color_discrete_sequence=oslo_rgb,\n",
    "                          facet_col_spacing=0.06,\n",
    "    color_continuous_scale=None, orientation = 'v'\n",
    "    , title = 'Values for chosen parameter {} PER 100g PROTEIN <br>for studies about {}.<br>The different studies are placed on the x-axis, encoded by numbers (see legend = variable) and sorted<br>in ascending order for each subplot. See studies dictionary for the numbers.'.format(column, source))\n",
    "fig.update_xaxes(matches=None, showticklabels=True)\n",
    "fig.update_yaxes(matches=None, showticklabels=True)\n",
    "\n",
    "# set distance between label and plot\n",
    "fig.update_layout(\n",
    "                          margin={'t': 200})\n",
    "fig.show()\n",
    "# fig.write_html(\"BarsStudyResultsProtein3.html\")"
   ]
  }
 ],
 "metadata": {
  "kernelspec": {
   "display_name": "Python 3 (ipykernel)",
   "language": "python",
   "name": "python3"
  },
  "language_info": {
   "codemirror_mode": {
    "name": "ipython",
    "version": 3
   },
   "file_extension": ".py",
   "mimetype": "text/x-python",
   "name": "python",
   "nbconvert_exporter": "python",
   "pygments_lexer": "ipython3",
   "version": "3.9.13"
  }
 },
 "nbformat": 4,
 "nbformat_minor": 5
}
