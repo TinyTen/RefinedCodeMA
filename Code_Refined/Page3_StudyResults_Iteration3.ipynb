{
 "cells": [
  {
   "cell_type": "markdown",
   "id": "8668637c",
   "metadata": {},
   "source": [
    "# MA\n",
    "## Creation of a process for scientific visualization development based on the example of the new ZHAW protein source database\n",
    "## Christina Köck\n",
    "## July 2023\n",
    "### Link to the Gitlab-Repo: https://github.com/TinyTen/MA"
   ]
  },
  {
   "cell_type": "markdown",
   "id": "fdec2b26",
   "metadata": {},
   "source": [
    "Creation of visualizations for study result comparison for iteration 2."
   ]
  },
  {
   "cell_type": "code",
   "execution_count": 1,
   "id": "48de4a20",
   "metadata": {},
   "outputs": [],
   "source": [
    "import warnings\n",
    "warnings.filterwarnings(\"ignore\")"
   ]
  },
  {
   "cell_type": "markdown",
   "id": "d74abbc5",
   "metadata": {},
   "source": [
    "### Libraries and data"
   ]
  },
  {
   "cell_type": "code",
   "execution_count": 2,
   "id": "0843a275",
   "metadata": {},
   "outputs": [],
   "source": [
    "from cmcrameri import cm\n",
    "import math as math\n",
    "import pandas as pd\n",
    "import numpy as np\n",
    "import seaborn as sns\n",
    "\n",
    "import matplotlib.pyplot as plt\n",
    "import plotly.express as px\n",
    "\n",
    "import sys\n",
    "\n",
    "sys.path.insert(1, '../Data')\n",
    "from colors_cameri import davos, oslo\n",
    "\n",
    "import missingno as msno\n",
    "import sparql_dataframe\n",
    "\n"
   ]
  },
  {
   "cell_type": "markdown",
   "id": "081ac765",
   "metadata": {},
   "source": [
    "## scientific colormaps (see http://www.fabiocrameri.ch/visualisation.php)"
   ]
  },
  {
   "cell_type": "code",
   "execution_count": 3,
   "id": "cdf111e8",
   "metadata": {},
   "outputs": [],
   "source": [
    "from colors_cameri import bilbao"
   ]
  },
  {
   "cell_type": "code",
   "execution_count": 4,
   "id": "e75f8899",
   "metadata": {},
   "outputs": [],
   "source": [
    "davos_rgb = [el[1] for el in davos]\n",
    "oslo_rgb = [el[1] for el in oslo]"
   ]
  },
  {
   "cell_type": "code",
   "execution_count": null,
   "id": "7b3b33be",
   "metadata": {},
   "outputs": [],
   "source": [
    "# colors =  dict(zip(df_food[\"Category\"].unique(), tofino_rgb))"
   ]
  },
  {
   "cell_type": "code",
   "execution_count": null,
   "id": "29f1149f",
   "metadata": {},
   "outputs": [],
   "source": [
    "zhaw_color = (0.00000 , 0.39216 , 0.65098)"
   ]
  },
  {
   "cell_type": "markdown",
   "id": "05c13fb7",
   "metadata": {},
   "source": [
    "#### Data"
   ]
  },
  {
   "cell_type": "code",
   "execution_count": null,
   "id": "d28a922e",
   "metadata": {},
   "outputs": [],
   "source": [
    "# Data are from:\n",
    "# ZHAW database mix from end of 2022\n",
    "df_studies = pd.read_excel(\"../Data/study_data.xlsx\")\n",
    "df_studies.rename(columns={\"Unnamed: 0\": \"source\"}, inplace=True)"
   ]
  },
  {
   "cell_type": "code",
   "execution_count": null,
   "id": "9432a3f2",
   "metadata": {},
   "outputs": [],
   "source": [
    "df_studies.set_index('source', inplace = True)"
   ]
  },
  {
   "cell_type": "code",
   "execution_count": null,
   "id": "d792deaf",
   "metadata": {},
   "outputs": [],
   "source": [
    "df_studies['Datum der Studie (Jahr)']= pd.to_datetime(df_studies['Datum der Studie (Jahr)'])"
   ]
  },
  {
   "cell_type": "markdown",
   "id": "1784204f",
   "metadata": {},
   "source": [
    "### Short EDA"
   ]
  },
  {
   "cell_type": "code",
   "execution_count": null,
   "id": "7bde0eae",
   "metadata": {},
   "outputs": [],
   "source": [
    "df_studies"
   ]
  },
  {
   "cell_type": "code",
   "execution_count": null,
   "id": "27b82cda",
   "metadata": {},
   "outputs": [],
   "source": [
    "sources = df_studies.index"
   ]
  },
  {
   "cell_type": "code",
   "execution_count": null,
   "id": "a95612e9",
   "metadata": {},
   "outputs": [],
   "source": [
    "# choose numeric data\n",
    "numerics = ['int16', 'int32', 'int64', 'float16', 'float32', 'float64']\n",
    "\n",
    "df_numeric_studies = df_studies.select_dtypes(include=numerics).reset_index(drop= True)"
   ]
  },
  {
   "cell_type": "code",
   "execution_count": null,
   "id": "a25f92be",
   "metadata": {},
   "outputs": [],
   "source": [
    "df_numeric_studies"
   ]
  },
  {
   "cell_type": "code",
   "execution_count": null,
   "id": "c745e197",
   "metadata": {},
   "outputs": [],
   "source": [
    "# divide dataframe per protein, but there are a lot of missing data\n",
    "df_studies_per_g_protein = df_numeric_studies.div(df_numeric_studies['Protein [%]'].dropna(), axis = 0)"
   ]
  },
  {
   "cell_type": "code",
   "execution_count": null,
   "id": "7ba0a04a",
   "metadata": {},
   "outputs": [],
   "source": [
    "# create dictionary to reduce the long study-links to a number\n",
    "\n",
    "studies_dict = dict(zip(list(range(len(df_studies['Studie']))), df_studies['Studie'], ))\n",
    "df_studies['StudieNr'] = studies_dict.keys()"
   ]
  },
  {
   "cell_type": "code",
   "execution_count": null,
   "id": "f7f2788d",
   "metadata": {},
   "outputs": [],
   "source": [
    "studies_dict"
   ]
  },
  {
   "cell_type": "code",
   "execution_count": null,
   "id": "3475a7f3",
   "metadata": {},
   "outputs": [],
   "source": [
    "# for the sake of simplicity, the protein from mealworm is also counted as just mealworm\n",
    "\n",
    "df_studies.rename(index = {'protein from mealworm': 'mealworm'}, inplace=True)"
   ]
  },
  {
   "cell_type": "markdown",
   "id": "a4adc380",
   "metadata": {},
   "source": [
    "### Countplot of all protein sources in plotly"
   ]
  },
  {
   "cell_type": "code",
   "execution_count": null,
   "id": "23b08f08",
   "metadata": {},
   "outputs": [],
   "source": [
    "fig = px.histogram(df_studies,\n",
    "                 x = df_studies.index, \n",
    "                   color_discrete_sequence=oslo_rgb,\n",
    "\n",
    "                  title = ('Count of Protein Sources, that are currently contained in the Studies in the Database.')\n",
    "                  )\n",
    "fig.update_layout(xaxis={'categoryorder':'total ascending'})\n",
    "fig.show()\n",
    "# fig.write_html(\"CountStudySources3.html\")"
   ]
  },
  {
   "cell_type": "markdown",
   "id": "0fd25733",
   "metadata": {},
   "source": [
    "## Show missing data as heatmap (plotly)"
   ]
  },
  {
   "cell_type": "code",
   "execution_count": null,
   "id": "281a627f",
   "metadata": {},
   "outputs": [],
   "source": [
    "import plotly\n",
    "\n",
    "# chose studies to display (index), all parameters are used in this example\n",
    "choice = df_studies.index[:50]\n",
    "\n",
    "df_plot = df_studies.loc[choice].isna()\n",
    "\n",
    "title_text = title = 'Count of unknown values in the database. Dark color signifies <br> known values, bright color signifies unknown value.'\n",
    "\n",
    "plt.figure(figsize=(20, 20))\n",
    "\n",
    "# initiate plot, chose size and color\n",
    "fig = px.imshow(df_plot, text_auto=False, aspect=\"auto\", width=1200,height=800,\n",
    "    color_continuous_scale=oslo,               )\n",
    "\n",
    "# set the labels on top\n",
    "fig.update_xaxes(side = \"top\")\n",
    "fig.update_layout(title_text=title_text,title_y = 0.95)\n",
    "fig.show()\n",
    "# fig.write_html(\"MissingDataStudyResults3.html\")"
   ]
  },
  {
   "cell_type": "markdown",
   "id": "4c95fd0e",
   "metadata": {},
   "source": [
    "### create lists of the parameters to faster select them in the plots (not used)"
   ]
  },
  {
   "cell_type": "code",
   "execution_count": null,
   "id": "329f22fa",
   "metadata": {},
   "outputs": [],
   "source": [
    "nutrition =  [ 'Water [%]', 'Protein [%]', 'Fat [%]', 'Fiber [%]', 'Carbohydrates [%]',\n",
    "       'Energy [kcal/100g]', 'Ash [%]', 'Magnesium (mg/100g)',\n",
    "       'Zinc (mg/100g)', 'Iron (mg/100g)', 'Copper (mg/100g)',\n",
    "       'Manganese (mg/100g)', 'Calcium (mg/100g)', 'Chloride (mg/100g)',\n",
    "       'Potassium (mg/100g)', 'Sodium (mg/100g)', 'Phosphorus (mg/100g)',\n",
    "       'Selenium (mg/100g)']"
   ]
  },
  {
   "cell_type": "code",
   "execution_count": null,
   "id": "299182b8",
   "metadata": {},
   "outputs": [],
   "source": [
    "ecology = [ 'GWP, kg CO2-EQ/kg product', \n",
    "       'EU, Fossil energy use, MJ/kg product', \n",
    "       'LU, Land use, m2/Jahr', \n",
    "       'TAP, terrestrial acidification potential, g SO2-eq ',\n",
    "        'FEP, freshwater eutrophication potential, g P-eq ',\n",
    "        'Water Footprint (WF), m3/kg', 'Bemerkung zu WF',\n",
    "       'Marine eutrophication (ME), kg N eq /kg', \n",
    "       'Ozone depletion (OD), kg CFC-11 eq/ kg', \n",
    "       'Photochemical oxidant formation (POF), kg NMVOC eq/ kg',\n",
    "       'Particulate matter formation (PMF), kg PM10 eq/ kg', \n",
    "       'Fossil depletion (FD), kg oil eq/ kg']"
   ]
  },
  {
   "cell_type": "code",
   "execution_count": null,
   "id": "0578bdf0",
   "metadata": {},
   "outputs": [],
   "source": [
    "all_aspects = nutrition + ecology"
   ]
  },
  {
   "cell_type": "code",
   "execution_count": null,
   "id": "269a5201",
   "metadata": {},
   "outputs": [],
   "source": [
    "def filter_data(df = df_studies,\n",
    "               choice_aspects = all_aspects\n",
    "               ):\n",
    "\n",
    "    df = df[['Studie', 'StudieNr'] + choice_aspects]\n",
    "    \n",
    "    return df"
   ]
  },
  {
   "cell_type": "code",
   "execution_count": null,
   "id": "00ec33b0",
   "metadata": {},
   "outputs": [],
   "source": [
    "df_show = filter_data(df = df_studies)"
   ]
  },
  {
   "cell_type": "markdown",
   "id": "67aa1913",
   "metadata": {},
   "source": [
    "## Barplots for comparing several parameters for chosen studies in Plotly"
   ]
  },
  {
   "cell_type": "code",
   "execution_count": null,
   "id": "6d851695",
   "metadata": {
    "scrolled": true
   },
   "outputs": [],
   "source": [
    "# https://community.plotly.com/t/how-to-set-different-x-and-y-axis-for-each-subplot/57417\n",
    "\n",
    "import plotly.express as px\n",
    "import pandas as pd\n",
    "\n",
    "# choose parameters and sources\n",
    "column = ['Fat [%]',  'Protein [%]', 'GWP, kg CO2-EQ/kg product']\n",
    "ncols = len(column)\n",
    "source = [ 'grasshopper', 'snail']\n",
    "\n",
    "# create dataframe to plot with choice and transpose\n",
    "df_plot = df_show.loc[source][column].reset_index(drop = True).T\n",
    "\n",
    "# initiate plot, choose subplot columns ( = index = parameters) and spacing, choose colors and title\n",
    "fig = px.bar(df_plot, \n",
    "             barmode=\"group\",\n",
    "             facet_col=df_plot.index, \n",
    "             facet_col_spacing=0.06,\n",
    "             color_discrete_sequence=oslo_rgb[:10],\n",
    "    color_continuous_scale=None, orientation = 'v'\n",
    "    , title = 'Values for chosen parameter {}<br>for studies about {}.<br>The different studies are placed on the x-axis, encoded by numbers (see legend) because the names are<br>too long and sorted in ascending order for each subplot. See studies dictionary for the translation of <br>numbers into study titles.'.format(column, source))\n",
    "fig.update_xaxes(matches=None, showticklabels=True)\n",
    "fig.update_yaxes(matches=None, showticklabels=True)\n",
    "\n",
    "# set distance between label and plot\n",
    "fig.update_layout(\n",
    "                          margin={'t': 250},\n",
    "\n",
    "            legend=dict(title = 'Study number',\n",
    "                       )\n",
    "        )\n",
    "\n",
    "# show numbers as x-lables instead of study links\n",
    "fig.update_yaxes(ticktext = list(range(0, 6)))\n",
    "\n",
    "# split original label (index = parameter) by =, only use parameter\n",
    "fig.for_each_annotation(lambda a: a.update(text=a.text.split(\"=\")[1]))\n",
    "\n",
    "\n",
    "fig.show()\n",
    "# fig.write_html(\"BarsStudyResultsGram3.html\")"
   ]
  },
  {
   "cell_type": "markdown",
   "id": "0e71b030",
   "metadata": {},
   "source": [
    "#### Same for data per protein"
   ]
  },
  {
   "cell_type": "code",
   "execution_count": null,
   "id": "a15f6d8e",
   "metadata": {},
   "outputs": [],
   "source": [
    "# https://community.plotly.com/t/how-to-set-different-x-and-y-axis-for-each-subplot/57417\n",
    "\n",
    "import plotly.express as px\n",
    "import pandas as pd\n",
    "\n",
    "\n",
    "# similar to above with dataframe per protein:\n",
    "# first add column source\n",
    "df_studies_per_g_protein['source']= sources\n",
    "df_studies_per_g_protein['StudieNr']= studies_dict.keys()\n",
    "\n",
    "# choose columns and sources\n",
    "column = ['Fat [%]', 'Water [%]', 'Protein [%]', 'Energy [kcal/100g]']\n",
    "ncols = len(column)\n",
    "source = ['mealworm', 'grasshopper']\n",
    "\n",
    "# create dataframe with choice and transpose\n",
    "df_plot = df_studies_per_g_protein.set_index('source').loc[source][column].reset_index(drop = True).T\n",
    "\n",
    "# initiate plot, index (parameters) are the subplots\n",
    "fig = px.bar(df_plot,\n",
    "             barmode=\"group\",\n",
    "             facet_col=df_plot.index, \n",
    "             color_discrete_sequence=oslo_rgb,\n",
    "                          facet_col_spacing=0.06,\n",
    "    color_continuous_scale=None, orientation = 'v'\n",
    "    , title = 'Values for chosen parameter {} PER 100g PROTEIN <br>for studies about {}.<br>The different studies are placed on the x-axis, encoded by numbers (see legend = variable) and sorted<br>in ascending order for each subplot. See studies dictionary for the numbers.'.format(column, source))\n",
    "fig.update_xaxes(matches=None, showticklabels=True)\n",
    "fig.update_yaxes(matches=None, showticklabels=True)\n",
    "\n",
    "# set distance between label and plot\n",
    "fig.update_layout(\n",
    "                          margin={'t': 200})\n",
    "fig.show()\n",
    "# fig.write_html(\"BarsStudyResultsProtein3.html\")"
   ]
  }
 ],
 "metadata": {
  "kernelspec": {
   "display_name": "Python 3 (ipykernel)",
   "language": "python",
   "name": "python3"
  },
  "language_info": {
   "codemirror_mode": {
    "name": "ipython",
    "version": 3
   },
   "file_extension": ".py",
   "mimetype": "text/x-python",
   "name": "python",
   "nbconvert_exporter": "python",
   "pygments_lexer": "ipython3",
   "version": "3.9.13"
  }
 },
 "nbformat": 4,
 "nbformat_minor": 5
}
