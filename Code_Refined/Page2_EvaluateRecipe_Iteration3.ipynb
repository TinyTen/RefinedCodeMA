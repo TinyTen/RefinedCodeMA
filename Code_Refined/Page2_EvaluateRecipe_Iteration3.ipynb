{
 "cells": [
  {
   "cell_type": "markdown",
   "id": "8668637c",
   "metadata": {},
   "source": [
    "# MA\n",
    "## Creation of a process for scientific visualization development based on the example of the new ZHAW protein source database\n",
    "## Christina Köck\n",
    "## July 2023\n",
    "### Link to the Gitlab-Repo: https://github.com/TinyTen/MA"
   ]
  },
  {
   "cell_type": "markdown",
   "id": "6857209e",
   "metadata": {},
   "source": [
    "Code for Visualizations for section recipe comparison for iteration 2. Data are read from Dapro Excel."
   ]
  },
  {
   "cell_type": "markdown",
   "id": "d74abbc5",
   "metadata": {},
   "source": [
    "### Libraries and data"
   ]
  },
  {
   "cell_type": "code",
   "execution_count": 31,
   "id": "0843a275",
   "metadata": {},
   "outputs": [],
   "source": [
    "from cmcrameri import cm\n",
    "import math as math\n",
    "import pandas as pd\n",
    "import numpy as np\n",
    "import seaborn as sns\n",
    "\n",
    "import matplotlib.pyplot as plt\n",
    "import plotly.express as px\n",
    "\n",
    "\n",
    "from math import pi\n",
    "\n",
    "from matplotlib import colors\n",
    "\n",
    "import sparql_dataframe"
   ]
  },
  {
   "cell_type": "markdown",
   "id": "e338b42e",
   "metadata": {},
   "source": [
    "### Read in dapro Data"
   ]
  },
  {
   "cell_type": "code",
   "execution_count": 32,
   "id": "fbf2e822",
   "metadata": {},
   "outputs": [
    {
     "data": {
      "text/html": [
       "<div>\n",
       "<style scoped>\n",
       "    .dataframe tbody tr th:only-of-type {\n",
       "        vertical-align: middle;\n",
       "    }\n",
       "\n",
       "    .dataframe tbody tr th {\n",
       "        vertical-align: top;\n",
       "    }\n",
       "\n",
       "    .dataframe thead th {\n",
       "        text-align: right;\n",
       "    }\n",
       "</style>\n",
       "<table border=\"1\" class=\"dataframe\">\n",
       "  <thead>\n",
       "    <tr style=\"text-align: right;\">\n",
       "      <th></th>\n",
       "      <th>Alanin_mg/100g</th>\n",
       "      <th>Alkohol (Ethanol)_mg/100g</th>\n",
       "      <th>Arginin_mg/100g</th>\n",
       "      <th>Asparagic acid_mg/100g</th>\n",
       "      <th>Butteric acid/butyric acid_mg/100g</th>\n",
       "      <th>Calcium_mg/100g</th>\n",
       "      <th>Cholesterin_mg/100g</th>\n",
       "      <th>Cystein_mg/100g</th>\n",
       "      <th>Decanic acid/capric acid_mg/100g</th>\n",
       "      <th>Decosanic acid/beetic acid_mg/100g</th>\n",
       "      <th>...</th>\n",
       "      <th>Water -insoluble fiber_mg/100g</th>\n",
       "      <th>Xylit_mg/100g</th>\n",
       "      <th>Sugar (total) _mg/100g</th>\n",
       "      <th>http://purl.obolibrary.org/obo/CHEBI_16646_mg/100g</th>\n",
       "      <th>http://purl.obolibrary.org/obo/FOODON_03316427_mg/100g</th>\n",
       "      <th>http://purl.obolibrary.org/obo/FOODON_03420190_mg/100g</th>\n",
       "      <th>Eutrophying emissions per 100g (gPO₄eq per 100g}</th>\n",
       "      <th>Freshwater withdrawals per 100g (liters per 100g)</th>\n",
       "      <th>Land use per 100g (m² per 100g)</th>\n",
       "      <th>Fat_g/100g</th>\n",
       "    </tr>\n",
       "    <tr>\n",
       "      <th></th>\n",
       "      <th></th>\n",
       "      <th></th>\n",
       "      <th></th>\n",
       "      <th></th>\n",
       "      <th></th>\n",
       "      <th></th>\n",
       "      <th></th>\n",
       "      <th></th>\n",
       "      <th></th>\n",
       "      <th></th>\n",
       "      <th></th>\n",
       "      <th></th>\n",
       "      <th></th>\n",
       "      <th></th>\n",
       "      <th></th>\n",
       "      <th></th>\n",
       "      <th></th>\n",
       "      <th></th>\n",
       "      <th></th>\n",
       "      <th></th>\n",
       "      <th></th>\n",
       "    </tr>\n",
       "  </thead>\n",
       "  <tbody>\n",
       "    <tr>\n",
       "      <th>Apple</th>\n",
       "      <td>0.0008</td>\n",
       "      <td>1.82757</td>\n",
       "      <td>0.052</td>\n",
       "      <td>0</td>\n",
       "      <td>3.250</td>\n",
       "      <td>0.303</td>\n",
       "      <td>0.000</td>\n",
       "      <td>0.005</td>\n",
       "      <td>3.250</td>\n",
       "      <td>0.859</td>\n",
       "      <td>...</td>\n",
       "      <td>0.0000</td>\n",
       "      <td>2.010</td>\n",
       "      <td>0.490</td>\n",
       "      <td>0</td>\n",
       "      <td>0</td>\n",
       "      <td>0</td>\n",
       "      <td>0.145</td>\n",
       "      <td>18.01</td>\n",
       "      <td>0.063</td>\n",
       "      <td>0.4</td>\n",
       "    </tr>\n",
       "    <tr>\n",
       "      <th>Feta</th>\n",
       "      <td>0.0780</td>\n",
       "      <td>17.15552</td>\n",
       "      <td>0.000</td>\n",
       "      <td>0</td>\n",
       "      <td>0.000</td>\n",
       "      <td>0.137</td>\n",
       "      <td>0.251</td>\n",
       "      <td>0.017</td>\n",
       "      <td>0.000</td>\n",
       "      <td>0.000</td>\n",
       "      <td>...</td>\n",
       "      <td>0.0004</td>\n",
       "      <td>0.000</td>\n",
       "      <td>0.795</td>\n",
       "      <td>0</td>\n",
       "      <td>0</td>\n",
       "      <td>0</td>\n",
       "      <td>NaN</td>\n",
       "      <td>NaN</td>\n",
       "      <td>NaN</td>\n",
       "      <td>23.0</td>\n",
       "    </tr>\n",
       "    <tr>\n",
       "      <th>Pine nut</th>\n",
       "      <td>0.0020</td>\n",
       "      <td>10.16515</td>\n",
       "      <td>1.030</td>\n",
       "      <td>0</td>\n",
       "      <td>0.146</td>\n",
       "      <td>0.204</td>\n",
       "      <td>0.000</td>\n",
       "      <td>0.235</td>\n",
       "      <td>0.146</td>\n",
       "      <td>0.144</td>\n",
       "      <td>...</td>\n",
       "      <td>0.0000</td>\n",
       "      <td>7.200</td>\n",
       "      <td>12.470</td>\n",
       "      <td>0</td>\n",
       "      <td>0</td>\n",
       "      <td>0</td>\n",
       "      <td>NaN</td>\n",
       "      <td>NaN</td>\n",
       "      <td>NaN</td>\n",
       "      <td>60.0</td>\n",
       "    </tr>\n",
       "    <tr>\n",
       "      <th>Sesame</th>\n",
       "      <td>0.0100</td>\n",
       "      <td>10.16515</td>\n",
       "      <td>1.460</td>\n",
       "      <td>0</td>\n",
       "      <td>0.204</td>\n",
       "      <td>0.202</td>\n",
       "      <td>0.000</td>\n",
       "      <td>0.347</td>\n",
       "      <td>0.204</td>\n",
       "      <td>0.559</td>\n",
       "      <td>...</td>\n",
       "      <td>0.0000</td>\n",
       "      <td>11.180</td>\n",
       "      <td>0.250</td>\n",
       "      <td>0</td>\n",
       "      <td>0</td>\n",
       "      <td>0</td>\n",
       "      <td>NaN</td>\n",
       "      <td>NaN</td>\n",
       "      <td>NaN</td>\n",
       "      <td>50.0</td>\n",
       "    </tr>\n",
       "    <tr>\n",
       "      <th>Pistachio</th>\n",
       "      <td>0.0050</td>\n",
       "      <td>14.99285</td>\n",
       "      <td>1.180</td>\n",
       "      <td>0</td>\n",
       "      <td>2.310</td>\n",
       "      <td>0.206</td>\n",
       "      <td>0.000</td>\n",
       "      <td>0.158</td>\n",
       "      <td>2.310</td>\n",
       "      <td>0.212</td>\n",
       "      <td>...</td>\n",
       "      <td>0.0000</td>\n",
       "      <td>10.610</td>\n",
       "      <td>5.200</td>\n",
       "      <td>0</td>\n",
       "      <td>0</td>\n",
       "      <td>0</td>\n",
       "      <td>NaN</td>\n",
       "      <td>NaN</td>\n",
       "      <td>NaN</td>\n",
       "      <td>52.0</td>\n",
       "    </tr>\n",
       "    <tr>\n",
       "      <th>Cashew nut</th>\n",
       "      <td>0.0050</td>\n",
       "      <td>14.99285</td>\n",
       "      <td>2.060</td>\n",
       "      <td>0</td>\n",
       "      <td>22.180</td>\n",
       "      <td>0.213</td>\n",
       "      <td>0.005</td>\n",
       "      <td>0.258</td>\n",
       "      <td>22.180</td>\n",
       "      <td>0.000</td>\n",
       "      <td>...</td>\n",
       "      <td>0.0000</td>\n",
       "      <td>3.100</td>\n",
       "      <td>0.323</td>\n",
       "      <td>0</td>\n",
       "      <td>0</td>\n",
       "      <td>0</td>\n",
       "      <td>NaN</td>\n",
       "      <td>NaN</td>\n",
       "      <td>NaN</td>\n",
       "      <td>42.0</td>\n",
       "    </tr>\n",
       "    <tr>\n",
       "      <th>Hard cheese</th>\n",
       "      <td>0.0520</td>\n",
       "      <td>15.30880</td>\n",
       "      <td>0.050</td>\n",
       "      <td>0</td>\n",
       "      <td>0.000</td>\n",
       "      <td>0.179</td>\n",
       "      <td>0.206</td>\n",
       "      <td>0.030</td>\n",
       "      <td>0.000</td>\n",
       "      <td>0.000</td>\n",
       "      <td>...</td>\n",
       "      <td>0.0014</td>\n",
       "      <td>0.000</td>\n",
       "      <td>0.550</td>\n",
       "      <td>0</td>\n",
       "      <td>0</td>\n",
       "      <td>0</td>\n",
       "      <td>9.837</td>\n",
       "      <td>560.52</td>\n",
       "      <td>8.779</td>\n",
       "      <td>32.0</td>\n",
       "    </tr>\n",
       "    <tr>\n",
       "      <th>Hazel nut</th>\n",
       "      <td>0.0010</td>\n",
       "      <td>14.99285</td>\n",
       "      <td>1.600</td>\n",
       "      <td>0</td>\n",
       "      <td>5.970</td>\n",
       "      <td>0.219</td>\n",
       "      <td>0.006</td>\n",
       "      <td>0.163</td>\n",
       "      <td>5.970</td>\n",
       "      <td>0.000</td>\n",
       "      <td>...</td>\n",
       "      <td>0.0000</td>\n",
       "      <td>7.700</td>\n",
       "      <td>22.200</td>\n",
       "      <td>0</td>\n",
       "      <td>0</td>\n",
       "      <td>0</td>\n",
       "      <td>NaN</td>\n",
       "      <td>NaN</td>\n",
       "      <td>NaN</td>\n",
       "      <td>61.6</td>\n",
       "    </tr>\n",
       "    <tr>\n",
       "      <th>Chicken</th>\n",
       "      <td>0.0094</td>\n",
       "      <td>9.46711</td>\n",
       "      <td>0.065</td>\n",
       "      <td>0</td>\n",
       "      <td>0.000</td>\n",
       "      <td>0.264</td>\n",
       "      <td>0.000</td>\n",
       "      <td>0.011</td>\n",
       "      <td>0.000</td>\n",
       "      <td>0.000</td>\n",
       "      <td>...</td>\n",
       "      <td>0.0019</td>\n",
       "      <td>0.000</td>\n",
       "      <td>1.960</td>\n",
       "      <td>0</td>\n",
       "      <td>0</td>\n",
       "      <td>0</td>\n",
       "      <td>2.176</td>\n",
       "      <td>57.77</td>\n",
       "      <td>0.627</td>\n",
       "      <td>2.0</td>\n",
       "    </tr>\n",
       "    <tr>\n",
       "      <th>Peanut</th>\n",
       "      <td>0.0130</td>\n",
       "      <td>7.81262</td>\n",
       "      <td>0.767</td>\n",
       "      <td>0</td>\n",
       "      <td>2.635</td>\n",
       "      <td>0.129</td>\n",
       "      <td>0.000</td>\n",
       "      <td>0.160</td>\n",
       "      <td>2.635</td>\n",
       "      <td>3.620</td>\n",
       "      <td>...</td>\n",
       "      <td>0.0000</td>\n",
       "      <td>11.738</td>\n",
       "      <td>10.027</td>\n",
       "      <td>0</td>\n",
       "      <td>0</td>\n",
       "      <td>0</td>\n",
       "      <td>1.414</td>\n",
       "      <td>185.23</td>\n",
       "      <td>0.911</td>\n",
       "      <td>49.7</td>\n",
       "    </tr>\n",
       "    <tr>\n",
       "      <th>Linseed</th>\n",
       "      <td>0.0020</td>\n",
       "      <td>10.01235</td>\n",
       "      <td>1.200</td>\n",
       "      <td>0</td>\n",
       "      <td>7.710</td>\n",
       "      <td>0.203</td>\n",
       "      <td>0.007</td>\n",
       "      <td>0.323</td>\n",
       "      <td>7.710</td>\n",
       "      <td>0.000</td>\n",
       "      <td>...</td>\n",
       "      <td>0.0000</td>\n",
       "      <td>22.700</td>\n",
       "      <td>0.000</td>\n",
       "      <td>0</td>\n",
       "      <td>0</td>\n",
       "      <td>0</td>\n",
       "      <td>NaN</td>\n",
       "      <td>NaN</td>\n",
       "      <td>NaN</td>\n",
       "      <td>30.0</td>\n",
       "    </tr>\n",
       "    <tr>\n",
       "      <th>Sunflower seed</th>\n",
       "      <td>0.0040</td>\n",
       "      <td>10.16515</td>\n",
       "      <td>1.890</td>\n",
       "      <td>0</td>\n",
       "      <td>34.740</td>\n",
       "      <td>0.200</td>\n",
       "      <td>0.005</td>\n",
       "      <td>0.336</td>\n",
       "      <td>34.740</td>\n",
       "      <td>0.000</td>\n",
       "      <td>...</td>\n",
       "      <td>0.0000</td>\n",
       "      <td>5.800</td>\n",
       "      <td>37.200</td>\n",
       "      <td>0</td>\n",
       "      <td>0</td>\n",
       "      <td>0</td>\n",
       "      <td>NaN</td>\n",
       "      <td>NaN</td>\n",
       "      <td>NaN</td>\n",
       "      <td>49.0</td>\n",
       "    </tr>\n",
       "    <tr>\n",
       "      <th>Durum wheat</th>\n",
       "      <td>0.0051</td>\n",
       "      <td>4.04499</td>\n",
       "      <td>0.150</td>\n",
       "      <td>0</td>\n",
       "      <td>0.690</td>\n",
       "      <td>0.385</td>\n",
       "      <td>0.001</td>\n",
       "      <td>0.030</td>\n",
       "      <td>0.690</td>\n",
       "      <td>0.497</td>\n",
       "      <td>...</td>\n",
       "      <td>0.0000</td>\n",
       "      <td>7.100</td>\n",
       "      <td>0.800</td>\n",
       "      <td>0</td>\n",
       "      <td>0</td>\n",
       "      <td>0</td>\n",
       "      <td>NaN</td>\n",
       "      <td>NaN</td>\n",
       "      <td>NaN</td>\n",
       "      <td>0.8</td>\n",
       "    </tr>\n",
       "    <tr>\n",
       "      <th>Soybeans</th>\n",
       "      <td>0.0030</td>\n",
       "      <td>5.47653</td>\n",
       "      <td>0.100</td>\n",
       "      <td>0</td>\n",
       "      <td>0.643</td>\n",
       "      <td>0.046</td>\n",
       "      <td>0.000</td>\n",
       "      <td>0.024</td>\n",
       "      <td>0.643</td>\n",
       "      <td>0.390</td>\n",
       "      <td>...</td>\n",
       "      <td>0.0000</td>\n",
       "      <td>3.000</td>\n",
       "      <td>0.300</td>\n",
       "      <td>0</td>\n",
       "      <td>0</td>\n",
       "      <td>0</td>\n",
       "      <td>NaN</td>\n",
       "      <td>NaN</td>\n",
       "      <td>NaN</td>\n",
       "      <td>18.1</td>\n",
       "    </tr>\n",
       "    <tr>\n",
       "      <th>Cow's milk</th>\n",
       "      <td>0.0117</td>\n",
       "      <td>2.91995</td>\n",
       "      <td>0.007</td>\n",
       "      <td>0</td>\n",
       "      <td>0.000</td>\n",
       "      <td>0.135</td>\n",
       "      <td>0.046</td>\n",
       "      <td>0.012</td>\n",
       "      <td>4.685</td>\n",
       "      <td>0.000</td>\n",
       "      <td>...</td>\n",
       "      <td>0.0004</td>\n",
       "      <td>0.000</td>\n",
       "      <td>0.070</td>\n",
       "      <td>0</td>\n",
       "      <td>0</td>\n",
       "      <td>0</td>\n",
       "      <td>1.065</td>\n",
       "      <td>62.82</td>\n",
       "      <td>0.895</td>\n",
       "      <td>3.5</td>\n",
       "    </tr>\n",
       "    <tr>\n",
       "      <th>Pumpkin seed</th>\n",
       "      <td>0.0027</td>\n",
       "      <td>10.16515</td>\n",
       "      <td>0.833</td>\n",
       "      <td>0</td>\n",
       "      <td>0.762</td>\n",
       "      <td>0.205</td>\n",
       "      <td>0.000</td>\n",
       "      <td>0.285</td>\n",
       "      <td>0.762</td>\n",
       "      <td>0.173</td>\n",
       "      <td>...</td>\n",
       "      <td>0.0000</td>\n",
       "      <td>8.660</td>\n",
       "      <td>4.000</td>\n",
       "      <td>0</td>\n",
       "      <td>0</td>\n",
       "      <td>0</td>\n",
       "      <td>NaN</td>\n",
       "      <td>NaN</td>\n",
       "      <td>NaN</td>\n",
       "      <td>45.0</td>\n",
       "    </tr>\n",
       "    <tr>\n",
       "      <th>Soft cheese</th>\n",
       "      <td>0.0200</td>\n",
       "      <td>11.03291</td>\n",
       "      <td>0.070</td>\n",
       "      <td>0</td>\n",
       "      <td>0.000</td>\n",
       "      <td>0.520</td>\n",
       "      <td>0.247</td>\n",
       "      <td>0.020</td>\n",
       "      <td>0.001</td>\n",
       "      <td>0.000</td>\n",
       "      <td>...</td>\n",
       "      <td>0.0020</td>\n",
       "      <td>0.000</td>\n",
       "      <td>0.400</td>\n",
       "      <td>0</td>\n",
       "      <td>0</td>\n",
       "      <td>0</td>\n",
       "      <td>NaN</td>\n",
       "      <td>NaN</td>\n",
       "      <td>NaN</td>\n",
       "      <td>14.0</td>\n",
       "    </tr>\n",
       "  </tbody>\n",
       "</table>\n",
       "<p>17 rows × 126 columns</p>\n",
       "</div>"
      ],
      "text/plain": [
       "                Alanin_mg/100g  Alkohol (Ethanol)_mg/100g  Arginin_mg/100g  \\\n",
       "                                                                             \n",
       "Apple                   0.0008                    1.82757            0.052   \n",
       "Feta                    0.0780                   17.15552            0.000   \n",
       "Pine nut                0.0020                   10.16515            1.030   \n",
       "Sesame                  0.0100                   10.16515            1.460   \n",
       "Pistachio               0.0050                   14.99285            1.180   \n",
       "Cashew nut              0.0050                   14.99285            2.060   \n",
       "Hard cheese             0.0520                   15.30880            0.050   \n",
       "Hazel nut               0.0010                   14.99285            1.600   \n",
       "Chicken                 0.0094                    9.46711            0.065   \n",
       "Peanut                  0.0130                    7.81262            0.767   \n",
       "Linseed                 0.0020                   10.01235            1.200   \n",
       "Sunflower seed          0.0040                   10.16515            1.890   \n",
       "Durum wheat             0.0051                    4.04499            0.150   \n",
       "Soybeans                0.0030                    5.47653            0.100   \n",
       "Cow's milk              0.0117                    2.91995            0.007   \n",
       "Pumpkin seed            0.0027                   10.16515            0.833   \n",
       "Soft cheese             0.0200                   11.03291            0.070   \n",
       "\n",
       "                Asparagic acid_mg/100g  Butteric acid/butyric acid_mg/100g  \\\n",
       "                                                                             \n",
       "Apple                                0                               3.250   \n",
       "Feta                                 0                               0.000   \n",
       "Pine nut                             0                               0.146   \n",
       "Sesame                               0                               0.204   \n",
       "Pistachio                            0                               2.310   \n",
       "Cashew nut                           0                              22.180   \n",
       "Hard cheese                          0                               0.000   \n",
       "Hazel nut                            0                               5.970   \n",
       "Chicken                              0                               0.000   \n",
       "Peanut                               0                               2.635   \n",
       "Linseed                              0                               7.710   \n",
       "Sunflower seed                       0                              34.740   \n",
       "Durum wheat                          0                               0.690   \n",
       "Soybeans                             0                               0.643   \n",
       "Cow's milk                           0                               0.000   \n",
       "Pumpkin seed                         0                               0.762   \n",
       "Soft cheese                          0                               0.000   \n",
       "\n",
       "                Calcium_mg/100g  Cholesterin_mg/100g  Cystein_mg/100g  \\\n",
       "                                                                        \n",
       "Apple                     0.303                0.000            0.005   \n",
       "Feta                      0.137                0.251            0.017   \n",
       "Pine nut                  0.204                0.000            0.235   \n",
       "Sesame                    0.202                0.000            0.347   \n",
       "Pistachio                 0.206                0.000            0.158   \n",
       "Cashew nut                0.213                0.005            0.258   \n",
       "Hard cheese               0.179                0.206            0.030   \n",
       "Hazel nut                 0.219                0.006            0.163   \n",
       "Chicken                   0.264                0.000            0.011   \n",
       "Peanut                    0.129                0.000            0.160   \n",
       "Linseed                   0.203                0.007            0.323   \n",
       "Sunflower seed            0.200                0.005            0.336   \n",
       "Durum wheat               0.385                0.001            0.030   \n",
       "Soybeans                  0.046                0.000            0.024   \n",
       "Cow's milk                0.135                0.046            0.012   \n",
       "Pumpkin seed              0.205                0.000            0.285   \n",
       "Soft cheese               0.520                0.247            0.020   \n",
       "\n",
       "                Decanic acid/capric acid_mg/100g  \\\n",
       "                                                   \n",
       "Apple                                      3.250   \n",
       "Feta                                       0.000   \n",
       "Pine nut                                   0.146   \n",
       "Sesame                                     0.204   \n",
       "Pistachio                                  2.310   \n",
       "Cashew nut                                22.180   \n",
       "Hard cheese                                0.000   \n",
       "Hazel nut                                  5.970   \n",
       "Chicken                                    0.000   \n",
       "Peanut                                     2.635   \n",
       "Linseed                                    7.710   \n",
       "Sunflower seed                            34.740   \n",
       "Durum wheat                                0.690   \n",
       "Soybeans                                   0.643   \n",
       "Cow's milk                                 4.685   \n",
       "Pumpkin seed                               0.762   \n",
       "Soft cheese                                0.001   \n",
       "\n",
       "                Decosanic acid/beetic acid_mg/100g  ...  \\\n",
       "                                                    ...   \n",
       "Apple                                        0.859  ...   \n",
       "Feta                                         0.000  ...   \n",
       "Pine nut                                     0.144  ...   \n",
       "Sesame                                       0.559  ...   \n",
       "Pistachio                                    0.212  ...   \n",
       "Cashew nut                                   0.000  ...   \n",
       "Hard cheese                                  0.000  ...   \n",
       "Hazel nut                                    0.000  ...   \n",
       "Chicken                                      0.000  ...   \n",
       "Peanut                                       3.620  ...   \n",
       "Linseed                                      0.000  ...   \n",
       "Sunflower seed                               0.000  ...   \n",
       "Durum wheat                                  0.497  ...   \n",
       "Soybeans                                     0.390  ...   \n",
       "Cow's milk                                   0.000  ...   \n",
       "Pumpkin seed                                 0.173  ...   \n",
       "Soft cheese                                  0.000  ...   \n",
       "\n",
       "                Water -insoluble fiber_mg/100g  Xylit_mg/100g  \\\n",
       "                                                                \n",
       "Apple                                   0.0000          2.010   \n",
       "Feta                                    0.0004          0.000   \n",
       "Pine nut                                0.0000          7.200   \n",
       "Sesame                                  0.0000         11.180   \n",
       "Pistachio                               0.0000         10.610   \n",
       "Cashew nut                              0.0000          3.100   \n",
       "Hard cheese                             0.0014          0.000   \n",
       "Hazel nut                               0.0000          7.700   \n",
       "Chicken                                 0.0019          0.000   \n",
       "Peanut                                  0.0000         11.738   \n",
       "Linseed                                 0.0000         22.700   \n",
       "Sunflower seed                          0.0000          5.800   \n",
       "Durum wheat                             0.0000          7.100   \n",
       "Soybeans                                0.0000          3.000   \n",
       "Cow's milk                              0.0004          0.000   \n",
       "Pumpkin seed                            0.0000          8.660   \n",
       "Soft cheese                             0.0020          0.000   \n",
       "\n",
       "                Sugar (total) _mg/100g  \\\n",
       "                                         \n",
       "Apple                            0.490   \n",
       "Feta                             0.795   \n",
       "Pine nut                        12.470   \n",
       "Sesame                           0.250   \n",
       "Pistachio                        5.200   \n",
       "Cashew nut                       0.323   \n",
       "Hard cheese                      0.550   \n",
       "Hazel nut                       22.200   \n",
       "Chicken                          1.960   \n",
       "Peanut                          10.027   \n",
       "Linseed                          0.000   \n",
       "Sunflower seed                  37.200   \n",
       "Durum wheat                      0.800   \n",
       "Soybeans                         0.300   \n",
       "Cow's milk                       0.070   \n",
       "Pumpkin seed                     4.000   \n",
       "Soft cheese                      0.400   \n",
       "\n",
       "                http://purl.obolibrary.org/obo/CHEBI_16646_mg/100g  \\\n",
       "                                                                     \n",
       "Apple                                                           0    \n",
       "Feta                                                            0    \n",
       "Pine nut                                                        0    \n",
       "Sesame                                                          0    \n",
       "Pistachio                                                       0    \n",
       "Cashew nut                                                      0    \n",
       "Hard cheese                                                     0    \n",
       "Hazel nut                                                       0    \n",
       "Chicken                                                         0    \n",
       "Peanut                                                          0    \n",
       "Linseed                                                         0    \n",
       "Sunflower seed                                                  0    \n",
       "Durum wheat                                                     0    \n",
       "Soybeans                                                        0    \n",
       "Cow's milk                                                      0    \n",
       "Pumpkin seed                                                    0    \n",
       "Soft cheese                                                     0    \n",
       "\n",
       "                http://purl.obolibrary.org/obo/FOODON_03316427_mg/100g  \\\n",
       "                                                                         \n",
       "Apple                                                           0        \n",
       "Feta                                                            0        \n",
       "Pine nut                                                        0        \n",
       "Sesame                                                          0        \n",
       "Pistachio                                                       0        \n",
       "Cashew nut                                                      0        \n",
       "Hard cheese                                                     0        \n",
       "Hazel nut                                                       0        \n",
       "Chicken                                                         0        \n",
       "Peanut                                                          0        \n",
       "Linseed                                                         0        \n",
       "Sunflower seed                                                  0        \n",
       "Durum wheat                                                     0        \n",
       "Soybeans                                                        0        \n",
       "Cow's milk                                                      0        \n",
       "Pumpkin seed                                                    0        \n",
       "Soft cheese                                                     0        \n",
       "\n",
       "                http://purl.obolibrary.org/obo/FOODON_03420190_mg/100g  \\\n",
       "                                                                         \n",
       "Apple                                                           0        \n",
       "Feta                                                            0        \n",
       "Pine nut                                                        0        \n",
       "Sesame                                                          0        \n",
       "Pistachio                                                       0        \n",
       "Cashew nut                                                      0        \n",
       "Hard cheese                                                     0        \n",
       "Hazel nut                                                       0        \n",
       "Chicken                                                         0        \n",
       "Peanut                                                          0        \n",
       "Linseed                                                         0        \n",
       "Sunflower seed                                                  0        \n",
       "Durum wheat                                                     0        \n",
       "Soybeans                                                        0        \n",
       "Cow's milk                                                      0        \n",
       "Pumpkin seed                                                    0        \n",
       "Soft cheese                                                     0        \n",
       "\n",
       "                Eutrophying emissions per 100g (gPO₄eq per 100g}  \\\n",
       "                                                                   \n",
       "Apple                                                      0.145   \n",
       "Feta                                                         NaN   \n",
       "Pine nut                                                     NaN   \n",
       "Sesame                                                       NaN   \n",
       "Pistachio                                                    NaN   \n",
       "Cashew nut                                                   NaN   \n",
       "Hard cheese                                                9.837   \n",
       "Hazel nut                                                    NaN   \n",
       "Chicken                                                    2.176   \n",
       "Peanut                                                     1.414   \n",
       "Linseed                                                      NaN   \n",
       "Sunflower seed                                               NaN   \n",
       "Durum wheat                                                  NaN   \n",
       "Soybeans                                                     NaN   \n",
       "Cow's milk                                                 1.065   \n",
       "Pumpkin seed                                                 NaN   \n",
       "Soft cheese                                                  NaN   \n",
       "\n",
       "                Freshwater withdrawals per 100g (liters per 100g)  \\\n",
       "                                                                    \n",
       "Apple                                                       18.01   \n",
       "Feta                                                          NaN   \n",
       "Pine nut                                                      NaN   \n",
       "Sesame                                                        NaN   \n",
       "Pistachio                                                     NaN   \n",
       "Cashew nut                                                    NaN   \n",
       "Hard cheese                                                560.52   \n",
       "Hazel nut                                                     NaN   \n",
       "Chicken                                                     57.77   \n",
       "Peanut                                                     185.23   \n",
       "Linseed                                                       NaN   \n",
       "Sunflower seed                                                NaN   \n",
       "Durum wheat                                                   NaN   \n",
       "Soybeans                                                      NaN   \n",
       "Cow's milk                                                  62.82   \n",
       "Pumpkin seed                                                  NaN   \n",
       "Soft cheese                                                   NaN   \n",
       "\n",
       "                Land use per 100g (m² per 100g)  Fat_g/100g  \n",
       "                                                             \n",
       "Apple                                     0.063         0.4  \n",
       "Feta                                        NaN        23.0  \n",
       "Pine nut                                    NaN        60.0  \n",
       "Sesame                                      NaN        50.0  \n",
       "Pistachio                                   NaN        52.0  \n",
       "Cashew nut                                  NaN        42.0  \n",
       "Hard cheese                               8.779        32.0  \n",
       "Hazel nut                                   NaN        61.6  \n",
       "Chicken                                   0.627         2.0  \n",
       "Peanut                                    0.911        49.7  \n",
       "Linseed                                     NaN        30.0  \n",
       "Sunflower seed                              NaN        49.0  \n",
       "Durum wheat                                 NaN         0.8  \n",
       "Soybeans                                    NaN        18.1  \n",
       "Cow's milk                                0.895         3.5  \n",
       "Pumpkin seed                                NaN        45.0  \n",
       "Soft cheese                                 NaN        14.0  \n",
       "\n",
       "[17 rows x 126 columns]"
      ]
     },
     "execution_count": 32,
     "metadata": {},
     "output_type": "execute_result"
    }
   ],
   "source": [
    "df_dapro = pd.read_excel('../Data/df_dapro_en.xlsx')\n",
    "df_dapro.rename(columns= {'Unnamed: 0': ' '}, inplace=True)\n",
    "df_dapro.set_index(' ', drop = True, inplace=True)\n",
    "df_dapro"
   ]
  },
  {
   "cell_type": "markdown",
   "id": "2a84783a",
   "metadata": {},
   "source": [
    "## Visualisierungen"
   ]
  },
  {
   "cell_type": "markdown",
   "id": "7226b96e",
   "metadata": {},
   "source": [
    "## scientific colormaps (see http://www.fabiocrameri.ch/visualisation.php)"
   ]
  },
  {
   "cell_type": "code",
   "execution_count": 33,
   "id": "ac22be57",
   "metadata": {},
   "outputs": [],
   "source": [
    "import sys\n",
    "\n",
    "sys.path.insert(1, '../Data')\n",
    "\n",
    "from cmcrameri import cm\n",
    "from colors_cameri import davos, oslo, bilbao"
   ]
  },
  {
   "cell_type": "code",
   "execution_count": 34,
   "id": "47fad269",
   "metadata": {},
   "outputs": [],
   "source": [
    "davos_rgb = [el[1] for el in davos]\n",
    "oslo_rgb = [el[1] for el in oslo]"
   ]
  },
  {
   "cell_type": "code",
   "execution_count": 35,
   "id": "bd5d4129",
   "metadata": {},
   "outputs": [],
   "source": [
    "zhaw_color = (0.00000 , 0.39216 , 0.65098)"
   ]
  },
  {
   "cell_type": "markdown",
   "id": "7b8267e0",
   "metadata": {},
   "source": [
    "## Overview over chosen samples (food products)"
   ]
  },
  {
   "cell_type": "code",
   "execution_count": 36,
   "id": "fa3f3507",
   "metadata": {},
   "outputs": [],
   "source": [
    "# rename dataset\n",
    "df_food = df_dapro"
   ]
  },
  {
   "cell_type": "markdown",
   "id": "209718b6",
   "metadata": {},
   "source": [
    "## function for calculating recipes"
   ]
  },
  {
   "cell_type": "code",
   "execution_count": 37,
   "id": "71393be0",
   "metadata": {},
   "outputs": [],
   "source": [
    "# arguments are orginal dataframe, ingredient names as string and proportions (= g of ingredients to use)\n",
    "\n",
    "def calculate_recipe(df, ingredients, proportions):\n",
    "    # create column recipe in the df dataframe\n",
    "    df.loc['recipe'] = 0\n",
    "    sum_recipe = df.loc['recipe']\n",
    "    # create dictionary with ingredient and proportion\n",
    "    dict_recipe = dict(zip(ingredients, proportions))\n",
    "    # multiply amount of food item of all parameters with proportion\n",
    "    for key in dict_recipe:\n",
    "        sum_recipe += (dict_recipe[key] * (df.loc[key]/100))\n",
    "    # devide per sum proportions to create values per 100g\n",
    "    sum_recipe_per100 = (sum_recipe/sum(dict_recipe.values()))*100\n",
    "    return pd.DataFrame(sum_recipe_per100)"
   ]
  },
  {
   "cell_type": "code",
   "execution_count": 38,
   "id": "afc526ba",
   "metadata": {},
   "outputs": [],
   "source": [
    "ingredients = ['Durum wheat', 'Chicken','Hard cheese']\n",
    "proportions = [300,200,50]\n",
    "dict_recipe = dict(zip(ingredients, proportions))"
   ]
  },
  {
   "cell_type": "markdown",
   "id": "a7880c3f",
   "metadata": {},
   "source": [
    "#### Werte werden auf 100 g des Rezeptes berechnet."
   ]
  },
  {
   "cell_type": "code",
   "execution_count": 39,
   "id": "d89d5eb5",
   "metadata": {},
   "outputs": [],
   "source": [
    "df_recipe = calculate_recipe(df_food.select_dtypes(include=np.number),\n",
    "                             ingredients = ingredients, \n",
    "                             proportions = proportions)"
   ]
  },
  {
   "cell_type": "code",
   "execution_count": 40,
   "id": "16cd582c",
   "metadata": {},
   "outputs": [
    {
     "data": {
      "text/html": [
       "<div>\n",
       "<style scoped>\n",
       "    .dataframe tbody tr th:only-of-type {\n",
       "        vertical-align: middle;\n",
       "    }\n",
       "\n",
       "    .dataframe tbody tr th {\n",
       "        vertical-align: top;\n",
       "    }\n",
       "\n",
       "    .dataframe thead th {\n",
       "        text-align: right;\n",
       "    }\n",
       "</style>\n",
       "<table border=\"1\" class=\"dataframe\">\n",
       "  <thead>\n",
       "    <tr style=\"text-align: right;\">\n",
       "      <th></th>\n",
       "      <th>recipe</th>\n",
       "    </tr>\n",
       "  </thead>\n",
       "  <tbody>\n",
       "    <tr>\n",
       "      <th>Protein_g/g</th>\n",
       "      <td>3.222727e-01</td>\n",
       "    </tr>\n",
       "    <tr>\n",
       "      <th>Freshwater withdrawals per 100g (liters per 100g)</th>\n",
       "      <td>NaN</td>\n",
       "    </tr>\n",
       "    <tr>\n",
       "      <th>Alanin_mg/100g</th>\n",
       "      <td>1.092727e-02</td>\n",
       "    </tr>\n",
       "    <tr>\n",
       "      <th>Arginin_mg/100g</th>\n",
       "      <td>1.100000e-01</td>\n",
       "    </tr>\n",
       "    <tr>\n",
       "      <th>Cystein_mg/100g</th>\n",
       "      <td>2.309091e-02</td>\n",
       "    </tr>\n",
       "    <tr>\n",
       "      <th>Histidin_mg/100g</th>\n",
       "      <td>3.567273e-01</td>\n",
       "    </tr>\n",
       "    <tr>\n",
       "      <th>Isoleucin_mg/100g</th>\n",
       "      <td>0.000000e+00</td>\n",
       "    </tr>\n",
       "    <tr>\n",
       "      <th>Lysin_mg/100g</th>\n",
       "      <td>1.236364e-01</td>\n",
       "    </tr>\n",
       "    <tr>\n",
       "      <th>Vitamin B12-Cobalamin_μg/100g</th>\n",
       "      <td>1.562909e-01</td>\n",
       "    </tr>\n",
       "    <tr>\n",
       "      <th>Sodium_mg/100g</th>\n",
       "      <td>1.297801e-07</td>\n",
       "    </tr>\n",
       "  </tbody>\n",
       "</table>\n",
       "</div>"
      ],
      "text/plain": [
       "                                                         recipe\n",
       "Protein_g/g                                        3.222727e-01\n",
       "Freshwater withdrawals per 100g (liters per 100g)           NaN\n",
       "Alanin_mg/100g                                     1.092727e-02\n",
       "Arginin_mg/100g                                    1.100000e-01\n",
       "Cystein_mg/100g                                    2.309091e-02\n",
       "Histidin_mg/100g                                   3.567273e-01\n",
       "Isoleucin_mg/100g                                  0.000000e+00\n",
       "Lysin_mg/100g                                      1.236364e-01\n",
       "Vitamin B12-Cobalamin_μg/100g                      1.562909e-01\n",
       "Sodium_mg/100g                                     1.297801e-07"
      ]
     },
     "execution_count": 40,
     "metadata": {},
     "output_type": "execute_result"
    }
   ],
   "source": [
    "df_recipe.loc[['Protein_g/g', \n",
    "              'Freshwater withdrawals per 100g (liters per 100g)' , \n",
    "               'Alanin_mg/100g', 'Arginin_mg/100g', 'Cystein_mg/100g', \n",
    "               'Histidin_mg/100g',        'Isoleucin_mg/100g',  'Lysin_mg/100g', \n",
    "               'Vitamin B12-Cobalamin_μg/100g', 'Sodium_mg/100g']]"
   ]
  },
  {
   "cell_type": "markdown",
   "id": "c89c1b73",
   "metadata": {},
   "source": [
    "## Show plotly plot for recipe composition"
   ]
  },
  {
   "cell_type": "code",
   "execution_count": 41,
   "id": "c65ca9ea",
   "metadata": {},
   "outputs": [
    {
     "data": {
      "application/vnd.plotly.v1+json": {
       "config": {
        "plotlyServerURL": "https://plot.ly"
       },
       "data": [
        {
         "domain": {
          "x": [
           0,
           1
          ],
          "y": [
           0,
           1
          ]
         },
         "hovertemplate": "label=%{label}<br>value=%{value}<extra></extra>",
         "labels": [
          "Durum wheat",
          "Chicken",
          "Hard cheese"
         ],
         "legendgroup": "",
         "name": "",
         "showlegend": true,
         "type": "pie",
         "values": [
          300,
          200,
          50
         ]
        }
       ],
       "layout": {
        "legend": {
         "tracegroupgap": 0
        },
        "piecolorway": [
         "rgb(11, 25, 39)",
         "rgb(46, 98, 160)",
         "rgb(144, 166, 201)",
         "rgb(255, 255, 255)"
        ],
        "template": {
         "data": {
          "bar": [
           {
            "error_x": {
             "color": "#2a3f5f"
            },
            "error_y": {
             "color": "#2a3f5f"
            },
            "marker": {
             "line": {
              "color": "#E5ECF6",
              "width": 0.5
             },
             "pattern": {
              "fillmode": "overlay",
              "size": 10,
              "solidity": 0.2
             }
            },
            "type": "bar"
           }
          ],
          "barpolar": [
           {
            "marker": {
             "line": {
              "color": "#E5ECF6",
              "width": 0.5
             },
             "pattern": {
              "fillmode": "overlay",
              "size": 10,
              "solidity": 0.2
             }
            },
            "type": "barpolar"
           }
          ],
          "carpet": [
           {
            "aaxis": {
             "endlinecolor": "#2a3f5f",
             "gridcolor": "white",
             "linecolor": "white",
             "minorgridcolor": "white",
             "startlinecolor": "#2a3f5f"
            },
            "baxis": {
             "endlinecolor": "#2a3f5f",
             "gridcolor": "white",
             "linecolor": "white",
             "minorgridcolor": "white",
             "startlinecolor": "#2a3f5f"
            },
            "type": "carpet"
           }
          ],
          "choropleth": [
           {
            "colorbar": {
             "outlinewidth": 0,
             "ticks": ""
            },
            "type": "choropleth"
           }
          ],
          "contour": [
           {
            "colorbar": {
             "outlinewidth": 0,
             "ticks": ""
            },
            "colorscale": [
             [
              0,
              "#0d0887"
             ],
             [
              0.1111111111111111,
              "#46039f"
             ],
             [
              0.2222222222222222,
              "#7201a8"
             ],
             [
              0.3333333333333333,
              "#9c179e"
             ],
             [
              0.4444444444444444,
              "#bd3786"
             ],
             [
              0.5555555555555556,
              "#d8576b"
             ],
             [
              0.6666666666666666,
              "#ed7953"
             ],
             [
              0.7777777777777778,
              "#fb9f3a"
             ],
             [
              0.8888888888888888,
              "#fdca26"
             ],
             [
              1,
              "#f0f921"
             ]
            ],
            "type": "contour"
           }
          ],
          "contourcarpet": [
           {
            "colorbar": {
             "outlinewidth": 0,
             "ticks": ""
            },
            "type": "contourcarpet"
           }
          ],
          "heatmap": [
           {
            "colorbar": {
             "outlinewidth": 0,
             "ticks": ""
            },
            "colorscale": [
             [
              0,
              "#0d0887"
             ],
             [
              0.1111111111111111,
              "#46039f"
             ],
             [
              0.2222222222222222,
              "#7201a8"
             ],
             [
              0.3333333333333333,
              "#9c179e"
             ],
             [
              0.4444444444444444,
              "#bd3786"
             ],
             [
              0.5555555555555556,
              "#d8576b"
             ],
             [
              0.6666666666666666,
              "#ed7953"
             ],
             [
              0.7777777777777778,
              "#fb9f3a"
             ],
             [
              0.8888888888888888,
              "#fdca26"
             ],
             [
              1,
              "#f0f921"
             ]
            ],
            "type": "heatmap"
           }
          ],
          "heatmapgl": [
           {
            "colorbar": {
             "outlinewidth": 0,
             "ticks": ""
            },
            "colorscale": [
             [
              0,
              "#0d0887"
             ],
             [
              0.1111111111111111,
              "#46039f"
             ],
             [
              0.2222222222222222,
              "#7201a8"
             ],
             [
              0.3333333333333333,
              "#9c179e"
             ],
             [
              0.4444444444444444,
              "#bd3786"
             ],
             [
              0.5555555555555556,
              "#d8576b"
             ],
             [
              0.6666666666666666,
              "#ed7953"
             ],
             [
              0.7777777777777778,
              "#fb9f3a"
             ],
             [
              0.8888888888888888,
              "#fdca26"
             ],
             [
              1,
              "#f0f921"
             ]
            ],
            "type": "heatmapgl"
           }
          ],
          "histogram": [
           {
            "marker": {
             "pattern": {
              "fillmode": "overlay",
              "size": 10,
              "solidity": 0.2
             }
            },
            "type": "histogram"
           }
          ],
          "histogram2d": [
           {
            "colorbar": {
             "outlinewidth": 0,
             "ticks": ""
            },
            "colorscale": [
             [
              0,
              "#0d0887"
             ],
             [
              0.1111111111111111,
              "#46039f"
             ],
             [
              0.2222222222222222,
              "#7201a8"
             ],
             [
              0.3333333333333333,
              "#9c179e"
             ],
             [
              0.4444444444444444,
              "#bd3786"
             ],
             [
              0.5555555555555556,
              "#d8576b"
             ],
             [
              0.6666666666666666,
              "#ed7953"
             ],
             [
              0.7777777777777778,
              "#fb9f3a"
             ],
             [
              0.8888888888888888,
              "#fdca26"
             ],
             [
              1,
              "#f0f921"
             ]
            ],
            "type": "histogram2d"
           }
          ],
          "histogram2dcontour": [
           {
            "colorbar": {
             "outlinewidth": 0,
             "ticks": ""
            },
            "colorscale": [
             [
              0,
              "#0d0887"
             ],
             [
              0.1111111111111111,
              "#46039f"
             ],
             [
              0.2222222222222222,
              "#7201a8"
             ],
             [
              0.3333333333333333,
              "#9c179e"
             ],
             [
              0.4444444444444444,
              "#bd3786"
             ],
             [
              0.5555555555555556,
              "#d8576b"
             ],
             [
              0.6666666666666666,
              "#ed7953"
             ],
             [
              0.7777777777777778,
              "#fb9f3a"
             ],
             [
              0.8888888888888888,
              "#fdca26"
             ],
             [
              1,
              "#f0f921"
             ]
            ],
            "type": "histogram2dcontour"
           }
          ],
          "mesh3d": [
           {
            "colorbar": {
             "outlinewidth": 0,
             "ticks": ""
            },
            "type": "mesh3d"
           }
          ],
          "parcoords": [
           {
            "line": {
             "colorbar": {
              "outlinewidth": 0,
              "ticks": ""
             }
            },
            "type": "parcoords"
           }
          ],
          "pie": [
           {
            "automargin": true,
            "type": "pie"
           }
          ],
          "scatter": [
           {
            "fillpattern": {
             "fillmode": "overlay",
             "size": 10,
             "solidity": 0.2
            },
            "type": "scatter"
           }
          ],
          "scatter3d": [
           {
            "line": {
             "colorbar": {
              "outlinewidth": 0,
              "ticks": ""
             }
            },
            "marker": {
             "colorbar": {
              "outlinewidth": 0,
              "ticks": ""
             }
            },
            "type": "scatter3d"
           }
          ],
          "scattercarpet": [
           {
            "marker": {
             "colorbar": {
              "outlinewidth": 0,
              "ticks": ""
             }
            },
            "type": "scattercarpet"
           }
          ],
          "scattergeo": [
           {
            "marker": {
             "colorbar": {
              "outlinewidth": 0,
              "ticks": ""
             }
            },
            "type": "scattergeo"
           }
          ],
          "scattergl": [
           {
            "marker": {
             "colorbar": {
              "outlinewidth": 0,
              "ticks": ""
             }
            },
            "type": "scattergl"
           }
          ],
          "scattermapbox": [
           {
            "marker": {
             "colorbar": {
              "outlinewidth": 0,
              "ticks": ""
             }
            },
            "type": "scattermapbox"
           }
          ],
          "scatterpolar": [
           {
            "marker": {
             "colorbar": {
              "outlinewidth": 0,
              "ticks": ""
             }
            },
            "type": "scatterpolar"
           }
          ],
          "scatterpolargl": [
           {
            "marker": {
             "colorbar": {
              "outlinewidth": 0,
              "ticks": ""
             }
            },
            "type": "scatterpolargl"
           }
          ],
          "scatterternary": [
           {
            "marker": {
             "colorbar": {
              "outlinewidth": 0,
              "ticks": ""
             }
            },
            "type": "scatterternary"
           }
          ],
          "surface": [
           {
            "colorbar": {
             "outlinewidth": 0,
             "ticks": ""
            },
            "colorscale": [
             [
              0,
              "#0d0887"
             ],
             [
              0.1111111111111111,
              "#46039f"
             ],
             [
              0.2222222222222222,
              "#7201a8"
             ],
             [
              0.3333333333333333,
              "#9c179e"
             ],
             [
              0.4444444444444444,
              "#bd3786"
             ],
             [
              0.5555555555555556,
              "#d8576b"
             ],
             [
              0.6666666666666666,
              "#ed7953"
             ],
             [
              0.7777777777777778,
              "#fb9f3a"
             ],
             [
              0.8888888888888888,
              "#fdca26"
             ],
             [
              1,
              "#f0f921"
             ]
            ],
            "type": "surface"
           }
          ],
          "table": [
           {
            "cells": {
             "fill": {
              "color": "#EBF0F8"
             },
             "line": {
              "color": "white"
             }
            },
            "header": {
             "fill": {
              "color": "#C8D4E3"
             },
             "line": {
              "color": "white"
             }
            },
            "type": "table"
           }
          ]
         },
         "layout": {
          "annotationdefaults": {
           "arrowcolor": "#2a3f5f",
           "arrowhead": 0,
           "arrowwidth": 1
          },
          "autotypenumbers": "strict",
          "coloraxis": {
           "colorbar": {
            "outlinewidth": 0,
            "ticks": ""
           }
          },
          "colorscale": {
           "diverging": [
            [
             0,
             "#8e0152"
            ],
            [
             0.1,
             "#c51b7d"
            ],
            [
             0.2,
             "#de77ae"
            ],
            [
             0.3,
             "#f1b6da"
            ],
            [
             0.4,
             "#fde0ef"
            ],
            [
             0.5,
             "#f7f7f7"
            ],
            [
             0.6,
             "#e6f5d0"
            ],
            [
             0.7,
             "#b8e186"
            ],
            [
             0.8,
             "#7fbc41"
            ],
            [
             0.9,
             "#4d9221"
            ],
            [
             1,
             "#276419"
            ]
           ],
           "sequential": [
            [
             0,
             "#0d0887"
            ],
            [
             0.1111111111111111,
             "#46039f"
            ],
            [
             0.2222222222222222,
             "#7201a8"
            ],
            [
             0.3333333333333333,
             "#9c179e"
            ],
            [
             0.4444444444444444,
             "#bd3786"
            ],
            [
             0.5555555555555556,
             "#d8576b"
            ],
            [
             0.6666666666666666,
             "#ed7953"
            ],
            [
             0.7777777777777778,
             "#fb9f3a"
            ],
            [
             0.8888888888888888,
             "#fdca26"
            ],
            [
             1,
             "#f0f921"
            ]
           ],
           "sequentialminus": [
            [
             0,
             "#0d0887"
            ],
            [
             0.1111111111111111,
             "#46039f"
            ],
            [
             0.2222222222222222,
             "#7201a8"
            ],
            [
             0.3333333333333333,
             "#9c179e"
            ],
            [
             0.4444444444444444,
             "#bd3786"
            ],
            [
             0.5555555555555556,
             "#d8576b"
            ],
            [
             0.6666666666666666,
             "#ed7953"
            ],
            [
             0.7777777777777778,
             "#fb9f3a"
            ],
            [
             0.8888888888888888,
             "#fdca26"
            ],
            [
             1,
             "#f0f921"
            ]
           ]
          },
          "colorway": [
           "#636efa",
           "#EF553B",
           "#00cc96",
           "#ab63fa",
           "#FFA15A",
           "#19d3f3",
           "#FF6692",
           "#B6E880",
           "#FF97FF",
           "#FECB52"
          ],
          "font": {
           "color": "#2a3f5f"
          },
          "geo": {
           "bgcolor": "white",
           "lakecolor": "white",
           "landcolor": "#E5ECF6",
           "showlakes": true,
           "showland": true,
           "subunitcolor": "white"
          },
          "hoverlabel": {
           "align": "left"
          },
          "hovermode": "closest",
          "mapbox": {
           "style": "light"
          },
          "paper_bgcolor": "white",
          "plot_bgcolor": "#E5ECF6",
          "polar": {
           "angularaxis": {
            "gridcolor": "white",
            "linecolor": "white",
            "ticks": ""
           },
           "bgcolor": "#E5ECF6",
           "radialaxis": {
            "gridcolor": "white",
            "linecolor": "white",
            "ticks": ""
           }
          },
          "scene": {
           "xaxis": {
            "backgroundcolor": "#E5ECF6",
            "gridcolor": "white",
            "gridwidth": 2,
            "linecolor": "white",
            "showbackground": true,
            "ticks": "",
            "zerolinecolor": "white"
           },
           "yaxis": {
            "backgroundcolor": "#E5ECF6",
            "gridcolor": "white",
            "gridwidth": 2,
            "linecolor": "white",
            "showbackground": true,
            "ticks": "",
            "zerolinecolor": "white"
           },
           "zaxis": {
            "backgroundcolor": "#E5ECF6",
            "gridcolor": "white",
            "gridwidth": 2,
            "linecolor": "white",
            "showbackground": true,
            "ticks": "",
            "zerolinecolor": "white"
           }
          },
          "shapedefaults": {
           "line": {
            "color": "#2a3f5f"
           }
          },
          "ternary": {
           "aaxis": {
            "gridcolor": "white",
            "linecolor": "white",
            "ticks": ""
           },
           "baxis": {
            "gridcolor": "white",
            "linecolor": "white",
            "ticks": ""
           },
           "bgcolor": "#E5ECF6",
           "caxis": {
            "gridcolor": "white",
            "linecolor": "white",
            "ticks": ""
           }
          },
          "title": {
           "x": 0.05
          },
          "xaxis": {
           "automargin": true,
           "gridcolor": "white",
           "linecolor": "white",
           "ticks": "",
           "title": {
            "standoff": 15
           },
           "zerolinecolor": "white",
           "zerolinewidth": 2
          },
          "yaxis": {
           "automargin": true,
           "gridcolor": "white",
           "linecolor": "white",
           "ticks": "",
           "title": {
            "standoff": 15
           },
           "zerolinecolor": "white",
           "zerolinewidth": 2
          }
         }
        },
        "title": {
         "text": "Currently Chosen Composition of the Recipe: Proportions in Percent of Weight. Sum of the Recipe is 550g."
        }
       }
      },
      "text/html": [
       "<div>                            <div id=\"cf015572-5acd-49aa-b8ae-3d467e040b2b\" class=\"plotly-graph-div\" style=\"height:525px; width:100%;\"></div>            <script type=\"text/javascript\">                require([\"plotly\"], function(Plotly) {                    window.PLOTLYENV=window.PLOTLYENV || {};                                    if (document.getElementById(\"cf015572-5acd-49aa-b8ae-3d467e040b2b\")) {                    Plotly.newPlot(                        \"cf015572-5acd-49aa-b8ae-3d467e040b2b\",                        [{\"domain\":{\"x\":[0.0,1.0],\"y\":[0.0,1.0]},\"hovertemplate\":\"label=%{label}<br>value=%{value}<extra></extra>\",\"labels\":[\"Durum wheat\",\"Chicken\",\"Hard cheese\"],\"legendgroup\":\"\",\"name\":\"\",\"showlegend\":true,\"values\":[300,200,50],\"type\":\"pie\"}],                        {\"template\":{\"data\":{\"histogram2dcontour\":[{\"type\":\"histogram2dcontour\",\"colorbar\":{\"outlinewidth\":0,\"ticks\":\"\"},\"colorscale\":[[0.0,\"#0d0887\"],[0.1111111111111111,\"#46039f\"],[0.2222222222222222,\"#7201a8\"],[0.3333333333333333,\"#9c179e\"],[0.4444444444444444,\"#bd3786\"],[0.5555555555555556,\"#d8576b\"],[0.6666666666666666,\"#ed7953\"],[0.7777777777777778,\"#fb9f3a\"],[0.8888888888888888,\"#fdca26\"],[1.0,\"#f0f921\"]]}],\"choropleth\":[{\"type\":\"choropleth\",\"colorbar\":{\"outlinewidth\":0,\"ticks\":\"\"}}],\"histogram2d\":[{\"type\":\"histogram2d\",\"colorbar\":{\"outlinewidth\":0,\"ticks\":\"\"},\"colorscale\":[[0.0,\"#0d0887\"],[0.1111111111111111,\"#46039f\"],[0.2222222222222222,\"#7201a8\"],[0.3333333333333333,\"#9c179e\"],[0.4444444444444444,\"#bd3786\"],[0.5555555555555556,\"#d8576b\"],[0.6666666666666666,\"#ed7953\"],[0.7777777777777778,\"#fb9f3a\"],[0.8888888888888888,\"#fdca26\"],[1.0,\"#f0f921\"]]}],\"heatmap\":[{\"type\":\"heatmap\",\"colorbar\":{\"outlinewidth\":0,\"ticks\":\"\"},\"colorscale\":[[0.0,\"#0d0887\"],[0.1111111111111111,\"#46039f\"],[0.2222222222222222,\"#7201a8\"],[0.3333333333333333,\"#9c179e\"],[0.4444444444444444,\"#bd3786\"],[0.5555555555555556,\"#d8576b\"],[0.6666666666666666,\"#ed7953\"],[0.7777777777777778,\"#fb9f3a\"],[0.8888888888888888,\"#fdca26\"],[1.0,\"#f0f921\"]]}],\"heatmapgl\":[{\"type\":\"heatmapgl\",\"colorbar\":{\"outlinewidth\":0,\"ticks\":\"\"},\"colorscale\":[[0.0,\"#0d0887\"],[0.1111111111111111,\"#46039f\"],[0.2222222222222222,\"#7201a8\"],[0.3333333333333333,\"#9c179e\"],[0.4444444444444444,\"#bd3786\"],[0.5555555555555556,\"#d8576b\"],[0.6666666666666666,\"#ed7953\"],[0.7777777777777778,\"#fb9f3a\"],[0.8888888888888888,\"#fdca26\"],[1.0,\"#f0f921\"]]}],\"contourcarpet\":[{\"type\":\"contourcarpet\",\"colorbar\":{\"outlinewidth\":0,\"ticks\":\"\"}}],\"contour\":[{\"type\":\"contour\",\"colorbar\":{\"outlinewidth\":0,\"ticks\":\"\"},\"colorscale\":[[0.0,\"#0d0887\"],[0.1111111111111111,\"#46039f\"],[0.2222222222222222,\"#7201a8\"],[0.3333333333333333,\"#9c179e\"],[0.4444444444444444,\"#bd3786\"],[0.5555555555555556,\"#d8576b\"],[0.6666666666666666,\"#ed7953\"],[0.7777777777777778,\"#fb9f3a\"],[0.8888888888888888,\"#fdca26\"],[1.0,\"#f0f921\"]]}],\"surface\":[{\"type\":\"surface\",\"colorbar\":{\"outlinewidth\":0,\"ticks\":\"\"},\"colorscale\":[[0.0,\"#0d0887\"],[0.1111111111111111,\"#46039f\"],[0.2222222222222222,\"#7201a8\"],[0.3333333333333333,\"#9c179e\"],[0.4444444444444444,\"#bd3786\"],[0.5555555555555556,\"#d8576b\"],[0.6666666666666666,\"#ed7953\"],[0.7777777777777778,\"#fb9f3a\"],[0.8888888888888888,\"#fdca26\"],[1.0,\"#f0f921\"]]}],\"mesh3d\":[{\"type\":\"mesh3d\",\"colorbar\":{\"outlinewidth\":0,\"ticks\":\"\"}}],\"scatter\":[{\"fillpattern\":{\"fillmode\":\"overlay\",\"size\":10,\"solidity\":0.2},\"type\":\"scatter\"}],\"parcoords\":[{\"type\":\"parcoords\",\"line\":{\"colorbar\":{\"outlinewidth\":0,\"ticks\":\"\"}}}],\"scatterpolargl\":[{\"type\":\"scatterpolargl\",\"marker\":{\"colorbar\":{\"outlinewidth\":0,\"ticks\":\"\"}}}],\"bar\":[{\"error_x\":{\"color\":\"#2a3f5f\"},\"error_y\":{\"color\":\"#2a3f5f\"},\"marker\":{\"line\":{\"color\":\"#E5ECF6\",\"width\":0.5},\"pattern\":{\"fillmode\":\"overlay\",\"size\":10,\"solidity\":0.2}},\"type\":\"bar\"}],\"scattergeo\":[{\"type\":\"scattergeo\",\"marker\":{\"colorbar\":{\"outlinewidth\":0,\"ticks\":\"\"}}}],\"scatterpolar\":[{\"type\":\"scatterpolar\",\"marker\":{\"colorbar\":{\"outlinewidth\":0,\"ticks\":\"\"}}}],\"histogram\":[{\"marker\":{\"pattern\":{\"fillmode\":\"overlay\",\"size\":10,\"solidity\":0.2}},\"type\":\"histogram\"}],\"scattergl\":[{\"type\":\"scattergl\",\"marker\":{\"colorbar\":{\"outlinewidth\":0,\"ticks\":\"\"}}}],\"scatter3d\":[{\"type\":\"scatter3d\",\"line\":{\"colorbar\":{\"outlinewidth\":0,\"ticks\":\"\"}},\"marker\":{\"colorbar\":{\"outlinewidth\":0,\"ticks\":\"\"}}}],\"scattermapbox\":[{\"type\":\"scattermapbox\",\"marker\":{\"colorbar\":{\"outlinewidth\":0,\"ticks\":\"\"}}}],\"scatterternary\":[{\"type\":\"scatterternary\",\"marker\":{\"colorbar\":{\"outlinewidth\":0,\"ticks\":\"\"}}}],\"scattercarpet\":[{\"type\":\"scattercarpet\",\"marker\":{\"colorbar\":{\"outlinewidth\":0,\"ticks\":\"\"}}}],\"carpet\":[{\"aaxis\":{\"endlinecolor\":\"#2a3f5f\",\"gridcolor\":\"white\",\"linecolor\":\"white\",\"minorgridcolor\":\"white\",\"startlinecolor\":\"#2a3f5f\"},\"baxis\":{\"endlinecolor\":\"#2a3f5f\",\"gridcolor\":\"white\",\"linecolor\":\"white\",\"minorgridcolor\":\"white\",\"startlinecolor\":\"#2a3f5f\"},\"type\":\"carpet\"}],\"table\":[{\"cells\":{\"fill\":{\"color\":\"#EBF0F8\"},\"line\":{\"color\":\"white\"}},\"header\":{\"fill\":{\"color\":\"#C8D4E3\"},\"line\":{\"color\":\"white\"}},\"type\":\"table\"}],\"barpolar\":[{\"marker\":{\"line\":{\"color\":\"#E5ECF6\",\"width\":0.5},\"pattern\":{\"fillmode\":\"overlay\",\"size\":10,\"solidity\":0.2}},\"type\":\"barpolar\"}],\"pie\":[{\"automargin\":true,\"type\":\"pie\"}]},\"layout\":{\"autotypenumbers\":\"strict\",\"colorway\":[\"#636efa\",\"#EF553B\",\"#00cc96\",\"#ab63fa\",\"#FFA15A\",\"#19d3f3\",\"#FF6692\",\"#B6E880\",\"#FF97FF\",\"#FECB52\"],\"font\":{\"color\":\"#2a3f5f\"},\"hovermode\":\"closest\",\"hoverlabel\":{\"align\":\"left\"},\"paper_bgcolor\":\"white\",\"plot_bgcolor\":\"#E5ECF6\",\"polar\":{\"bgcolor\":\"#E5ECF6\",\"angularaxis\":{\"gridcolor\":\"white\",\"linecolor\":\"white\",\"ticks\":\"\"},\"radialaxis\":{\"gridcolor\":\"white\",\"linecolor\":\"white\",\"ticks\":\"\"}},\"ternary\":{\"bgcolor\":\"#E5ECF6\",\"aaxis\":{\"gridcolor\":\"white\",\"linecolor\":\"white\",\"ticks\":\"\"},\"baxis\":{\"gridcolor\":\"white\",\"linecolor\":\"white\",\"ticks\":\"\"},\"caxis\":{\"gridcolor\":\"white\",\"linecolor\":\"white\",\"ticks\":\"\"}},\"coloraxis\":{\"colorbar\":{\"outlinewidth\":0,\"ticks\":\"\"}},\"colorscale\":{\"sequential\":[[0.0,\"#0d0887\"],[0.1111111111111111,\"#46039f\"],[0.2222222222222222,\"#7201a8\"],[0.3333333333333333,\"#9c179e\"],[0.4444444444444444,\"#bd3786\"],[0.5555555555555556,\"#d8576b\"],[0.6666666666666666,\"#ed7953\"],[0.7777777777777778,\"#fb9f3a\"],[0.8888888888888888,\"#fdca26\"],[1.0,\"#f0f921\"]],\"sequentialminus\":[[0.0,\"#0d0887\"],[0.1111111111111111,\"#46039f\"],[0.2222222222222222,\"#7201a8\"],[0.3333333333333333,\"#9c179e\"],[0.4444444444444444,\"#bd3786\"],[0.5555555555555556,\"#d8576b\"],[0.6666666666666666,\"#ed7953\"],[0.7777777777777778,\"#fb9f3a\"],[0.8888888888888888,\"#fdca26\"],[1.0,\"#f0f921\"]],\"diverging\":[[0,\"#8e0152\"],[0.1,\"#c51b7d\"],[0.2,\"#de77ae\"],[0.3,\"#f1b6da\"],[0.4,\"#fde0ef\"],[0.5,\"#f7f7f7\"],[0.6,\"#e6f5d0\"],[0.7,\"#b8e186\"],[0.8,\"#7fbc41\"],[0.9,\"#4d9221\"],[1,\"#276419\"]]},\"xaxis\":{\"gridcolor\":\"white\",\"linecolor\":\"white\",\"ticks\":\"\",\"title\":{\"standoff\":15},\"zerolinecolor\":\"white\",\"automargin\":true,\"zerolinewidth\":2},\"yaxis\":{\"gridcolor\":\"white\",\"linecolor\":\"white\",\"ticks\":\"\",\"title\":{\"standoff\":15},\"zerolinecolor\":\"white\",\"automargin\":true,\"zerolinewidth\":2},\"scene\":{\"xaxis\":{\"backgroundcolor\":\"#E5ECF6\",\"gridcolor\":\"white\",\"linecolor\":\"white\",\"showbackground\":true,\"ticks\":\"\",\"zerolinecolor\":\"white\",\"gridwidth\":2},\"yaxis\":{\"backgroundcolor\":\"#E5ECF6\",\"gridcolor\":\"white\",\"linecolor\":\"white\",\"showbackground\":true,\"ticks\":\"\",\"zerolinecolor\":\"white\",\"gridwidth\":2},\"zaxis\":{\"backgroundcolor\":\"#E5ECF6\",\"gridcolor\":\"white\",\"linecolor\":\"white\",\"showbackground\":true,\"ticks\":\"\",\"zerolinecolor\":\"white\",\"gridwidth\":2}},\"shapedefaults\":{\"line\":{\"color\":\"#2a3f5f\"}},\"annotationdefaults\":{\"arrowcolor\":\"#2a3f5f\",\"arrowhead\":0,\"arrowwidth\":1},\"geo\":{\"bgcolor\":\"white\",\"landcolor\":\"#E5ECF6\",\"subunitcolor\":\"white\",\"showland\":true,\"showlakes\":true,\"lakecolor\":\"white\"},\"title\":{\"x\":0.05},\"mapbox\":{\"style\":\"light\"}}},\"legend\":{\"tracegroupgap\":0},\"title\":{\"text\":\"Currently Chosen Composition of the Recipe: Proportions in Percent of Weight. Sum of the Recipe is 550g.\"},\"piecolorway\":[\"rgb(11, 25, 39)\",\"rgb(46, 98, 160)\",\"rgb(144, 166, 201)\",\"rgb(255, 255, 255)\"]},                        {\"responsive\": true}                    ).then(function(){\n",
       "                            \n",
       "var gd = document.getElementById('cf015572-5acd-49aa-b8ae-3d467e040b2b');\n",
       "var x = new MutationObserver(function (mutations, observer) {{\n",
       "        var display = window.getComputedStyle(gd).display;\n",
       "        if (!display || display === 'none') {{\n",
       "            console.log([gd, 'removed!']);\n",
       "            Plotly.purge(gd);\n",
       "            observer.disconnect();\n",
       "        }}\n",
       "}});\n",
       "\n",
       "// Listen for the removal of the full notebook cells\n",
       "var notebookContainer = gd.closest('#notebook-container');\n",
       "if (notebookContainer) {{\n",
       "    x.observe(notebookContainer, {childList: true});\n",
       "}}\n",
       "\n",
       "// Listen for the clearing of the current output cell\n",
       "var outputEl = gd.closest('.output');\n",
       "if (outputEl) {{\n",
       "    x.observe(outputEl, {childList: true});\n",
       "}}\n",
       "\n",
       "                        })                };                });            </script>        </div>"
      ]
     },
     "metadata": {},
     "output_type": "display_data"
    }
   ],
   "source": [
    "import plotly.express as px\n",
    "\n",
    "# give ingredients as names, value = proportion, sum of recipe is in title\n",
    "\n",
    "fig = px.pie(names = ingredients, values = proportions, \n",
    "    color_discrete_sequence=oslo_rgb[1::3], \n",
    "            title = ('Currently Chosen Composition of the Recipe: Proportions in Percent of Weight. Sum of the Recipe is {}g.').format(sum(proportions)))\n",
    "fig.show()\n",
    "# fig.write_html(\"PieChartRecipe2.html\")"
   ]
  },
  {
   "cell_type": "markdown",
   "id": "8adb71be",
   "metadata": {},
   "source": [
    "## fast way to calculate recipe for ingredients separately:\n",
    "just multiply the columns with proportions and divide per sum of recipe mass"
   ]
  },
  {
   "cell_type": "code",
   "execution_count": 42,
   "id": "819aa623",
   "metadata": {},
   "outputs": [
    {
     "data": {
      "text/html": [
       "<div>\n",
       "<style scoped>\n",
       "    .dataframe tbody tr th:only-of-type {\n",
       "        vertical-align: middle;\n",
       "    }\n",
       "\n",
       "    .dataframe tbody tr th {\n",
       "        vertical-align: top;\n",
       "    }\n",
       "\n",
       "    .dataframe thead th {\n",
       "        text-align: right;\n",
       "    }\n",
       "</style>\n",
       "<table border=\"1\" class=\"dataframe\">\n",
       "  <thead>\n",
       "    <tr style=\"text-align: right;\">\n",
       "      <th></th>\n",
       "      <th>Protein_g/g</th>\n",
       "      <th>Freshwater withdrawals per 100g (liters per 100g)</th>\n",
       "      <th>Alanin_mg/100g</th>\n",
       "      <th>Arginin_mg/100g</th>\n",
       "      <th>Cystein_mg/100g</th>\n",
       "      <th>Histidin_mg/100g</th>\n",
       "      <th>Isoleucin_mg/100g</th>\n",
       "      <th>Lysin_mg/100g</th>\n",
       "      <th>Vitamin B12-Cobalamin_μg/100g</th>\n",
       "      <th>Sodium_mg/100g</th>\n",
       "    </tr>\n",
       "    <tr>\n",
       "      <th></th>\n",
       "      <th></th>\n",
       "      <th></th>\n",
       "      <th></th>\n",
       "      <th></th>\n",
       "      <th></th>\n",
       "      <th></th>\n",
       "      <th></th>\n",
       "      <th></th>\n",
       "      <th></th>\n",
       "      <th></th>\n",
       "    </tr>\n",
       "  </thead>\n",
       "  <tbody>\n",
       "    <tr>\n",
       "      <th>Durum wheat</th>\n",
       "      <td>0.210000</td>\n",
       "      <td>NaN</td>\n",
       "      <td>0.002782</td>\n",
       "      <td>0.081818</td>\n",
       "      <td>0.016364</td>\n",
       "      <td>0.327273</td>\n",
       "      <td>0.0</td>\n",
       "      <td>0.061091</td>\n",
       "      <td>0.133489</td>\n",
       "      <td>3.471095e-08</td>\n",
       "    </tr>\n",
       "    <tr>\n",
       "      <th>Chicken</th>\n",
       "      <td>0.096000</td>\n",
       "      <td>21.007273</td>\n",
       "      <td>0.003418</td>\n",
       "      <td>0.023636</td>\n",
       "      <td>0.004000</td>\n",
       "      <td>0.025818</td>\n",
       "      <td>0.0</td>\n",
       "      <td>0.053455</td>\n",
       "      <td>0.015956</td>\n",
       "      <td>5.179280e-08</td>\n",
       "    </tr>\n",
       "    <tr>\n",
       "      <th>Hard cheese</th>\n",
       "      <td>0.016273</td>\n",
       "      <td>50.956364</td>\n",
       "      <td>0.004727</td>\n",
       "      <td>0.004545</td>\n",
       "      <td>0.002727</td>\n",
       "      <td>0.003636</td>\n",
       "      <td>0.0</td>\n",
       "      <td>0.009091</td>\n",
       "      <td>0.006845</td>\n",
       "      <td>4.327632e-08</td>\n",
       "    </tr>\n",
       "  </tbody>\n",
       "</table>\n",
       "</div>"
      ],
      "text/plain": [
       "             Protein_g/g  Freshwater withdrawals per 100g (liters per 100g)  \\\n",
       "                                                                              \n",
       "Durum wheat     0.210000                                                NaN   \n",
       "Chicken         0.096000                                          21.007273   \n",
       "Hard cheese     0.016273                                          50.956364   \n",
       "\n",
       "             Alanin_mg/100g  Arginin_mg/100g  Cystein_mg/100g  \\\n",
       "                                                                \n",
       "Durum wheat        0.002782         0.081818         0.016364   \n",
       "Chicken            0.003418         0.023636         0.004000   \n",
       "Hard cheese        0.004727         0.004545         0.002727   \n",
       "\n",
       "             Histidin_mg/100g  Isoleucin_mg/100g  Lysin_mg/100g  \\\n",
       "                                                                  \n",
       "Durum wheat          0.327273                0.0       0.061091   \n",
       "Chicken              0.025818                0.0       0.053455   \n",
       "Hard cheese          0.003636                0.0       0.009091   \n",
       "\n",
       "             Vitamin B12-Cobalamin_μg/100g  Sodium_mg/100g  \n",
       "                                                            \n",
       "Durum wheat                       0.133489    3.471095e-08  \n",
       "Chicken                           0.015956    5.179280e-08  \n",
       "Hard cheese                       0.006845    4.327632e-08  "
      ]
     },
     "execution_count": 42,
     "metadata": {},
     "output_type": "execute_result"
    }
   ],
   "source": [
    "df_food.loc[ingredients][['Protein_g/g', \n",
    "              'Freshwater withdrawals per 100g (liters per 100g)' , \n",
    "               'Alanin_mg/100g', 'Arginin_mg/100g', 'Cystein_mg/100g', \n",
    "               'Histidin_mg/100g',        'Isoleucin_mg/100g',  'Lysin_mg/100g', \n",
    "               'Vitamin B12-Cobalamin_μg/100g', 'Sodium_mg/100g']].mul(proportions, axis='rows')/sum(proportions)"
   ]
  },
  {
   "cell_type": "markdown",
   "id": "9a35c72e",
   "metadata": {},
   "source": [
    "## create plotly bar plot for recipe with contribution of ingredients stacked"
   ]
  },
  {
   "cell_type": "code",
   "execution_count": 43,
   "id": "b5f95915",
   "metadata": {
    "scrolled": true
   },
   "outputs": [
    {
     "data": {
      "application/vnd.plotly.v1+json": {
       "config": {
        "plotlyServerURL": "https://plot.ly"
       },
       "data": [
        {
         "alignmentgroup": "True",
         "hovertemplate": " =Durum wheat<br>index=Protein_g/g<br>_index=%{x}<br>value=%{y}<extra></extra>",
         "legendgroup": "Durum wheat",
         "marker": {
          "color": "rgb(0, 1, 0)",
          "pattern": {
           "shape": ""
          }
         },
         "name": "Durum wheat",
         "offsetgroup": "Durum wheat",
         "orientation": "v",
         "showlegend": true,
         "textposition": "auto",
         "type": "bar",
         "x": [
          0
         ],
         "xaxis": "x",
         "y": [
          0.21
         ],
         "yaxis": "y"
        },
        {
         "alignmentgroup": "True",
         "hovertemplate": " =Durum wheat<br>index=Fat_g/100g<br>_index=%{x}<br>value=%{y}<extra></extra>",
         "legendgroup": "Durum wheat",
         "marker": {
          "color": "rgb(0, 1, 0)",
          "pattern": {
           "shape": ""
          }
         },
         "name": "Durum wheat",
         "offsetgroup": "Durum wheat",
         "orientation": "v",
         "showlegend": false,
         "textposition": "auto",
         "type": "bar",
         "x": [
          1
         ],
         "xaxis": "x2",
         "y": [
          0.43636363636363634
         ],
         "yaxis": "y2"
        },
        {
         "alignmentgroup": "True",
         "hovertemplate": " =Chicken<br>index=Protein_g/g<br>_index=%{x}<br>value=%{y}<extra></extra>",
         "legendgroup": "Chicken",
         "marker": {
          "color": "rgb(27, 73, 117)",
          "pattern": {
           "shape": ""
          }
         },
         "name": "Chicken",
         "offsetgroup": "Chicken",
         "orientation": "v",
         "showlegend": true,
         "textposition": "auto",
         "type": "bar",
         "x": [
          0
         ],
         "xaxis": "x",
         "y": [
          0.096
         ],
         "yaxis": "y"
        },
        {
         "alignmentgroup": "True",
         "hovertemplate": " =Chicken<br>index=Fat_g/100g<br>_index=%{x}<br>value=%{y}<extra></extra>",
         "legendgroup": "Chicken",
         "marker": {
          "color": "rgb(27, 73, 117)",
          "pattern": {
           "shape": ""
          }
         },
         "name": "Chicken",
         "offsetgroup": "Chicken",
         "orientation": "v",
         "showlegend": false,
         "textposition": "auto",
         "type": "bar",
         "x": [
          1
         ],
         "xaxis": "x2",
         "y": [
          0.7272727272727273
         ],
         "yaxis": "y2"
        },
        {
         "alignmentgroup": "True",
         "hovertemplate": " =Hard cheese<br>index=Protein_g/g<br>_index=%{x}<br>value=%{y}<extra></extra>",
         "legendgroup": "Hard cheese",
         "marker": {
          "color": "rgb(111, 146, 202)",
          "pattern": {
           "shape": ""
          }
         },
         "name": "Hard cheese",
         "offsetgroup": "Hard cheese",
         "orientation": "v",
         "showlegend": true,
         "textposition": "auto",
         "type": "bar",
         "x": [
          0
         ],
         "xaxis": "x",
         "y": [
          0.016272727272727272
         ],
         "yaxis": "y"
        },
        {
         "alignmentgroup": "True",
         "hovertemplate": " =Hard cheese<br>index=Fat_g/100g<br>_index=%{x}<br>value=%{y}<extra></extra>",
         "legendgroup": "Hard cheese",
         "marker": {
          "color": "rgb(111, 146, 202)",
          "pattern": {
           "shape": ""
          }
         },
         "name": "Hard cheese",
         "offsetgroup": "Hard cheese",
         "orientation": "v",
         "showlegend": false,
         "textposition": "auto",
         "type": "bar",
         "x": [
          1
         ],
         "xaxis": "x2",
         "y": [
          2.909090909090909
         ],
         "yaxis": "y2"
        }
       ],
       "layout": {
        "annotations": [
         {
          "font": {},
          "showarrow": false,
          "text": "Protein_g/g",
          "x": 0.225,
          "xanchor": "center",
          "xref": "paper",
          "y": 1,
          "yanchor": "bottom",
          "yref": "paper"
         },
         {
          "font": {},
          "showarrow": false,
          "text": "Fat_g/100g",
          "x": 0.775,
          "xanchor": "center",
          "xref": "paper",
          "y": 1,
          "yanchor": "bottom",
          "yref": "paper"
         }
        ],
        "barmode": "stack",
        "height": 600,
        "legend": {
         "title": {
          "text": " "
         },
         "tracegroupgap": 0
        },
        "margin": {
         "t": 120
        },
        "template": {
         "data": {
          "bar": [
           {
            "error_x": {
             "color": "#2a3f5f"
            },
            "error_y": {
             "color": "#2a3f5f"
            },
            "marker": {
             "line": {
              "color": "#E5ECF6",
              "width": 0.5
             },
             "pattern": {
              "fillmode": "overlay",
              "size": 10,
              "solidity": 0.2
             }
            },
            "type": "bar"
           }
          ],
          "barpolar": [
           {
            "marker": {
             "line": {
              "color": "#E5ECF6",
              "width": 0.5
             },
             "pattern": {
              "fillmode": "overlay",
              "size": 10,
              "solidity": 0.2
             }
            },
            "type": "barpolar"
           }
          ],
          "carpet": [
           {
            "aaxis": {
             "endlinecolor": "#2a3f5f",
             "gridcolor": "white",
             "linecolor": "white",
             "minorgridcolor": "white",
             "startlinecolor": "#2a3f5f"
            },
            "baxis": {
             "endlinecolor": "#2a3f5f",
             "gridcolor": "white",
             "linecolor": "white",
             "minorgridcolor": "white",
             "startlinecolor": "#2a3f5f"
            },
            "type": "carpet"
           }
          ],
          "choropleth": [
           {
            "colorbar": {
             "outlinewidth": 0,
             "ticks": ""
            },
            "type": "choropleth"
           }
          ],
          "contour": [
           {
            "colorbar": {
             "outlinewidth": 0,
             "ticks": ""
            },
            "colorscale": [
             [
              0,
              "#0d0887"
             ],
             [
              0.1111111111111111,
              "#46039f"
             ],
             [
              0.2222222222222222,
              "#7201a8"
             ],
             [
              0.3333333333333333,
              "#9c179e"
             ],
             [
              0.4444444444444444,
              "#bd3786"
             ],
             [
              0.5555555555555556,
              "#d8576b"
             ],
             [
              0.6666666666666666,
              "#ed7953"
             ],
             [
              0.7777777777777778,
              "#fb9f3a"
             ],
             [
              0.8888888888888888,
              "#fdca26"
             ],
             [
              1,
              "#f0f921"
             ]
            ],
            "type": "contour"
           }
          ],
          "contourcarpet": [
           {
            "colorbar": {
             "outlinewidth": 0,
             "ticks": ""
            },
            "type": "contourcarpet"
           }
          ],
          "heatmap": [
           {
            "colorbar": {
             "outlinewidth": 0,
             "ticks": ""
            },
            "colorscale": [
             [
              0,
              "#0d0887"
             ],
             [
              0.1111111111111111,
              "#46039f"
             ],
             [
              0.2222222222222222,
              "#7201a8"
             ],
             [
              0.3333333333333333,
              "#9c179e"
             ],
             [
              0.4444444444444444,
              "#bd3786"
             ],
             [
              0.5555555555555556,
              "#d8576b"
             ],
             [
              0.6666666666666666,
              "#ed7953"
             ],
             [
              0.7777777777777778,
              "#fb9f3a"
             ],
             [
              0.8888888888888888,
              "#fdca26"
             ],
             [
              1,
              "#f0f921"
             ]
            ],
            "type": "heatmap"
           }
          ],
          "heatmapgl": [
           {
            "colorbar": {
             "outlinewidth": 0,
             "ticks": ""
            },
            "colorscale": [
             [
              0,
              "#0d0887"
             ],
             [
              0.1111111111111111,
              "#46039f"
             ],
             [
              0.2222222222222222,
              "#7201a8"
             ],
             [
              0.3333333333333333,
              "#9c179e"
             ],
             [
              0.4444444444444444,
              "#bd3786"
             ],
             [
              0.5555555555555556,
              "#d8576b"
             ],
             [
              0.6666666666666666,
              "#ed7953"
             ],
             [
              0.7777777777777778,
              "#fb9f3a"
             ],
             [
              0.8888888888888888,
              "#fdca26"
             ],
             [
              1,
              "#f0f921"
             ]
            ],
            "type": "heatmapgl"
           }
          ],
          "histogram": [
           {
            "marker": {
             "pattern": {
              "fillmode": "overlay",
              "size": 10,
              "solidity": 0.2
             }
            },
            "type": "histogram"
           }
          ],
          "histogram2d": [
           {
            "colorbar": {
             "outlinewidth": 0,
             "ticks": ""
            },
            "colorscale": [
             [
              0,
              "#0d0887"
             ],
             [
              0.1111111111111111,
              "#46039f"
             ],
             [
              0.2222222222222222,
              "#7201a8"
             ],
             [
              0.3333333333333333,
              "#9c179e"
             ],
             [
              0.4444444444444444,
              "#bd3786"
             ],
             [
              0.5555555555555556,
              "#d8576b"
             ],
             [
              0.6666666666666666,
              "#ed7953"
             ],
             [
              0.7777777777777778,
              "#fb9f3a"
             ],
             [
              0.8888888888888888,
              "#fdca26"
             ],
             [
              1,
              "#f0f921"
             ]
            ],
            "type": "histogram2d"
           }
          ],
          "histogram2dcontour": [
           {
            "colorbar": {
             "outlinewidth": 0,
             "ticks": ""
            },
            "colorscale": [
             [
              0,
              "#0d0887"
             ],
             [
              0.1111111111111111,
              "#46039f"
             ],
             [
              0.2222222222222222,
              "#7201a8"
             ],
             [
              0.3333333333333333,
              "#9c179e"
             ],
             [
              0.4444444444444444,
              "#bd3786"
             ],
             [
              0.5555555555555556,
              "#d8576b"
             ],
             [
              0.6666666666666666,
              "#ed7953"
             ],
             [
              0.7777777777777778,
              "#fb9f3a"
             ],
             [
              0.8888888888888888,
              "#fdca26"
             ],
             [
              1,
              "#f0f921"
             ]
            ],
            "type": "histogram2dcontour"
           }
          ],
          "mesh3d": [
           {
            "colorbar": {
             "outlinewidth": 0,
             "ticks": ""
            },
            "type": "mesh3d"
           }
          ],
          "parcoords": [
           {
            "line": {
             "colorbar": {
              "outlinewidth": 0,
              "ticks": ""
             }
            },
            "type": "parcoords"
           }
          ],
          "pie": [
           {
            "automargin": true,
            "type": "pie"
           }
          ],
          "scatter": [
           {
            "fillpattern": {
             "fillmode": "overlay",
             "size": 10,
             "solidity": 0.2
            },
            "type": "scatter"
           }
          ],
          "scatter3d": [
           {
            "line": {
             "colorbar": {
              "outlinewidth": 0,
              "ticks": ""
             }
            },
            "marker": {
             "colorbar": {
              "outlinewidth": 0,
              "ticks": ""
             }
            },
            "type": "scatter3d"
           }
          ],
          "scattercarpet": [
           {
            "marker": {
             "colorbar": {
              "outlinewidth": 0,
              "ticks": ""
             }
            },
            "type": "scattercarpet"
           }
          ],
          "scattergeo": [
           {
            "marker": {
             "colorbar": {
              "outlinewidth": 0,
              "ticks": ""
             }
            },
            "type": "scattergeo"
           }
          ],
          "scattergl": [
           {
            "marker": {
             "colorbar": {
              "outlinewidth": 0,
              "ticks": ""
             }
            },
            "type": "scattergl"
           }
          ],
          "scattermapbox": [
           {
            "marker": {
             "colorbar": {
              "outlinewidth": 0,
              "ticks": ""
             }
            },
            "type": "scattermapbox"
           }
          ],
          "scatterpolar": [
           {
            "marker": {
             "colorbar": {
              "outlinewidth": 0,
              "ticks": ""
             }
            },
            "type": "scatterpolar"
           }
          ],
          "scatterpolargl": [
           {
            "marker": {
             "colorbar": {
              "outlinewidth": 0,
              "ticks": ""
             }
            },
            "type": "scatterpolargl"
           }
          ],
          "scatterternary": [
           {
            "marker": {
             "colorbar": {
              "outlinewidth": 0,
              "ticks": ""
             }
            },
            "type": "scatterternary"
           }
          ],
          "surface": [
           {
            "colorbar": {
             "outlinewidth": 0,
             "ticks": ""
            },
            "colorscale": [
             [
              0,
              "#0d0887"
             ],
             [
              0.1111111111111111,
              "#46039f"
             ],
             [
              0.2222222222222222,
              "#7201a8"
             ],
             [
              0.3333333333333333,
              "#9c179e"
             ],
             [
              0.4444444444444444,
              "#bd3786"
             ],
             [
              0.5555555555555556,
              "#d8576b"
             ],
             [
              0.6666666666666666,
              "#ed7953"
             ],
             [
              0.7777777777777778,
              "#fb9f3a"
             ],
             [
              0.8888888888888888,
              "#fdca26"
             ],
             [
              1,
              "#f0f921"
             ]
            ],
            "type": "surface"
           }
          ],
          "table": [
           {
            "cells": {
             "fill": {
              "color": "#EBF0F8"
             },
             "line": {
              "color": "white"
             }
            },
            "header": {
             "fill": {
              "color": "#C8D4E3"
             },
             "line": {
              "color": "white"
             }
            },
            "type": "table"
           }
          ]
         },
         "layout": {
          "annotationdefaults": {
           "arrowcolor": "#2a3f5f",
           "arrowhead": 0,
           "arrowwidth": 1
          },
          "autotypenumbers": "strict",
          "coloraxis": {
           "colorbar": {
            "outlinewidth": 0,
            "ticks": ""
           }
          },
          "colorscale": {
           "diverging": [
            [
             0,
             "#8e0152"
            ],
            [
             0.1,
             "#c51b7d"
            ],
            [
             0.2,
             "#de77ae"
            ],
            [
             0.3,
             "#f1b6da"
            ],
            [
             0.4,
             "#fde0ef"
            ],
            [
             0.5,
             "#f7f7f7"
            ],
            [
             0.6,
             "#e6f5d0"
            ],
            [
             0.7,
             "#b8e186"
            ],
            [
             0.8,
             "#7fbc41"
            ],
            [
             0.9,
             "#4d9221"
            ],
            [
             1,
             "#276419"
            ]
           ],
           "sequential": [
            [
             0,
             "#0d0887"
            ],
            [
             0.1111111111111111,
             "#46039f"
            ],
            [
             0.2222222222222222,
             "#7201a8"
            ],
            [
             0.3333333333333333,
             "#9c179e"
            ],
            [
             0.4444444444444444,
             "#bd3786"
            ],
            [
             0.5555555555555556,
             "#d8576b"
            ],
            [
             0.6666666666666666,
             "#ed7953"
            ],
            [
             0.7777777777777778,
             "#fb9f3a"
            ],
            [
             0.8888888888888888,
             "#fdca26"
            ],
            [
             1,
             "#f0f921"
            ]
           ],
           "sequentialminus": [
            [
             0,
             "#0d0887"
            ],
            [
             0.1111111111111111,
             "#46039f"
            ],
            [
             0.2222222222222222,
             "#7201a8"
            ],
            [
             0.3333333333333333,
             "#9c179e"
            ],
            [
             0.4444444444444444,
             "#bd3786"
            ],
            [
             0.5555555555555556,
             "#d8576b"
            ],
            [
             0.6666666666666666,
             "#ed7953"
            ],
            [
             0.7777777777777778,
             "#fb9f3a"
            ],
            [
             0.8888888888888888,
             "#fdca26"
            ],
            [
             1,
             "#f0f921"
            ]
           ]
          },
          "colorway": [
           "#636efa",
           "#EF553B",
           "#00cc96",
           "#ab63fa",
           "#FFA15A",
           "#19d3f3",
           "#FF6692",
           "#B6E880",
           "#FF97FF",
           "#FECB52"
          ],
          "font": {
           "color": "#2a3f5f"
          },
          "geo": {
           "bgcolor": "white",
           "lakecolor": "white",
           "landcolor": "#E5ECF6",
           "showlakes": true,
           "showland": true,
           "subunitcolor": "white"
          },
          "hoverlabel": {
           "align": "left"
          },
          "hovermode": "closest",
          "mapbox": {
           "style": "light"
          },
          "paper_bgcolor": "white",
          "plot_bgcolor": "#E5ECF6",
          "polar": {
           "angularaxis": {
            "gridcolor": "white",
            "linecolor": "white",
            "ticks": ""
           },
           "bgcolor": "#E5ECF6",
           "radialaxis": {
            "gridcolor": "white",
            "linecolor": "white",
            "ticks": ""
           }
          },
          "scene": {
           "xaxis": {
            "backgroundcolor": "#E5ECF6",
            "gridcolor": "white",
            "gridwidth": 2,
            "linecolor": "white",
            "showbackground": true,
            "ticks": "",
            "zerolinecolor": "white"
           },
           "yaxis": {
            "backgroundcolor": "#E5ECF6",
            "gridcolor": "white",
            "gridwidth": 2,
            "linecolor": "white",
            "showbackground": true,
            "ticks": "",
            "zerolinecolor": "white"
           },
           "zaxis": {
            "backgroundcolor": "#E5ECF6",
            "gridcolor": "white",
            "gridwidth": 2,
            "linecolor": "white",
            "showbackground": true,
            "ticks": "",
            "zerolinecolor": "white"
           }
          },
          "shapedefaults": {
           "line": {
            "color": "#2a3f5f"
           }
          },
          "ternary": {
           "aaxis": {
            "gridcolor": "white",
            "linecolor": "white",
            "ticks": ""
           },
           "baxis": {
            "gridcolor": "white",
            "linecolor": "white",
            "ticks": ""
           },
           "bgcolor": "#E5ECF6",
           "caxis": {
            "gridcolor": "white",
            "linecolor": "white",
            "ticks": ""
           }
          },
          "title": {
           "x": 0.05
          },
          "xaxis": {
           "automargin": true,
           "gridcolor": "white",
           "linecolor": "white",
           "ticks": "",
           "title": {
            "standoff": 15
           },
           "zerolinecolor": "white",
           "zerolinewidth": 2
          },
          "yaxis": {
           "automargin": true,
           "gridcolor": "white",
           "linecolor": "white",
           "ticks": "",
           "title": {
            "standoff": 15
           },
           "zerolinecolor": "white",
           "zerolinewidth": 2
          }
         }
        },
        "title": {
         "text": "Display of the chosen parameter for the current recipe (per 100g of total recipe): <br>The absolute contribution of all ingredients is shown. <br>Items can be turned on or off by clicking on the item in the legend.",
         "y": 0.95
        },
        "width": 1050,
        "xaxis": {
         "anchor": "y",
         "color": "white",
         "domain": [
          0,
          0.45
         ],
         "showticklabels": false,
         "side": "bottom",
         "title": {
          "text": " "
         }
        },
        "xaxis2": {
         "anchor": "y2",
         "color": "white",
         "domain": [
          0.55,
          1
         ],
         "showticklabels": false,
         "side": "bottom",
         "title": {
          "text": "_index"
         }
        },
        "yaxis": {
         "anchor": "x",
         "domain": [
          0,
          1
         ],
         "showticklabels": true,
         "title": {
          "text": "value"
         }
        },
        "yaxis2": {
         "anchor": "x2",
         "domain": [
          0,
          1
         ],
         "showticklabels": true
        }
       }
      },
      "text/html": [
       "<div>                            <div id=\"a7d1bb51-c4ff-48a0-ac71-8bc33bd76a81\" class=\"plotly-graph-div\" style=\"height:600px; width:1050px;\"></div>            <script type=\"text/javascript\">                require([\"plotly\"], function(Plotly) {                    window.PLOTLYENV=window.PLOTLYENV || {};                                    if (document.getElementById(\"a7d1bb51-c4ff-48a0-ac71-8bc33bd76a81\")) {                    Plotly.newPlot(                        \"a7d1bb51-c4ff-48a0-ac71-8bc33bd76a81\",                        [{\"alignmentgroup\":\"True\",\"hovertemplate\":\" =Durum wheat<br>index=Protein_g/g<br>_index=%{x}<br>value=%{y}<extra></extra>\",\"legendgroup\":\"Durum wheat\",\"marker\":{\"color\":\"rgb(0, 1, 0)\",\"pattern\":{\"shape\":\"\"}},\"name\":\"Durum wheat\",\"offsetgroup\":\"Durum wheat\",\"orientation\":\"v\",\"showlegend\":true,\"textposition\":\"auto\",\"x\":[0],\"xaxis\":\"x\",\"y\":[0.21],\"yaxis\":\"y\",\"type\":\"bar\"},{\"alignmentgroup\":\"True\",\"hovertemplate\":\" =Durum wheat<br>index=Fat_g/100g<br>_index=%{x}<br>value=%{y}<extra></extra>\",\"legendgroup\":\"Durum wheat\",\"marker\":{\"color\":\"rgb(0, 1, 0)\",\"pattern\":{\"shape\":\"\"}},\"name\":\"Durum wheat\",\"offsetgroup\":\"Durum wheat\",\"orientation\":\"v\",\"showlegend\":false,\"textposition\":\"auto\",\"x\":[1],\"xaxis\":\"x2\",\"y\":[0.43636363636363634],\"yaxis\":\"y2\",\"type\":\"bar\"},{\"alignmentgroup\":\"True\",\"hovertemplate\":\" =Chicken<br>index=Protein_g/g<br>_index=%{x}<br>value=%{y}<extra></extra>\",\"legendgroup\":\"Chicken\",\"marker\":{\"color\":\"rgb(27, 73, 117)\",\"pattern\":{\"shape\":\"\"}},\"name\":\"Chicken\",\"offsetgroup\":\"Chicken\",\"orientation\":\"v\",\"showlegend\":true,\"textposition\":\"auto\",\"x\":[0],\"xaxis\":\"x\",\"y\":[0.096],\"yaxis\":\"y\",\"type\":\"bar\"},{\"alignmentgroup\":\"True\",\"hovertemplate\":\" =Chicken<br>index=Fat_g/100g<br>_index=%{x}<br>value=%{y}<extra></extra>\",\"legendgroup\":\"Chicken\",\"marker\":{\"color\":\"rgb(27, 73, 117)\",\"pattern\":{\"shape\":\"\"}},\"name\":\"Chicken\",\"offsetgroup\":\"Chicken\",\"orientation\":\"v\",\"showlegend\":false,\"textposition\":\"auto\",\"x\":[1],\"xaxis\":\"x2\",\"y\":[0.7272727272727273],\"yaxis\":\"y2\",\"type\":\"bar\"},{\"alignmentgroup\":\"True\",\"hovertemplate\":\" =Hard cheese<br>index=Protein_g/g<br>_index=%{x}<br>value=%{y}<extra></extra>\",\"legendgroup\":\"Hard cheese\",\"marker\":{\"color\":\"rgb(111, 146, 202)\",\"pattern\":{\"shape\":\"\"}},\"name\":\"Hard cheese\",\"offsetgroup\":\"Hard cheese\",\"orientation\":\"v\",\"showlegend\":true,\"textposition\":\"auto\",\"x\":[0],\"xaxis\":\"x\",\"y\":[0.016272727272727272],\"yaxis\":\"y\",\"type\":\"bar\"},{\"alignmentgroup\":\"True\",\"hovertemplate\":\" =Hard cheese<br>index=Fat_g/100g<br>_index=%{x}<br>value=%{y}<extra></extra>\",\"legendgroup\":\"Hard cheese\",\"marker\":{\"color\":\"rgb(111, 146, 202)\",\"pattern\":{\"shape\":\"\"}},\"name\":\"Hard cheese\",\"offsetgroup\":\"Hard cheese\",\"orientation\":\"v\",\"showlegend\":false,\"textposition\":\"auto\",\"x\":[1],\"xaxis\":\"x2\",\"y\":[2.909090909090909],\"yaxis\":\"y2\",\"type\":\"bar\"}],                        {\"template\":{\"data\":{\"histogram2dcontour\":[{\"type\":\"histogram2dcontour\",\"colorbar\":{\"outlinewidth\":0,\"ticks\":\"\"},\"colorscale\":[[0.0,\"#0d0887\"],[0.1111111111111111,\"#46039f\"],[0.2222222222222222,\"#7201a8\"],[0.3333333333333333,\"#9c179e\"],[0.4444444444444444,\"#bd3786\"],[0.5555555555555556,\"#d8576b\"],[0.6666666666666666,\"#ed7953\"],[0.7777777777777778,\"#fb9f3a\"],[0.8888888888888888,\"#fdca26\"],[1.0,\"#f0f921\"]]}],\"choropleth\":[{\"type\":\"choropleth\",\"colorbar\":{\"outlinewidth\":0,\"ticks\":\"\"}}],\"histogram2d\":[{\"type\":\"histogram2d\",\"colorbar\":{\"outlinewidth\":0,\"ticks\":\"\"},\"colorscale\":[[0.0,\"#0d0887\"],[0.1111111111111111,\"#46039f\"],[0.2222222222222222,\"#7201a8\"],[0.3333333333333333,\"#9c179e\"],[0.4444444444444444,\"#bd3786\"],[0.5555555555555556,\"#d8576b\"],[0.6666666666666666,\"#ed7953\"],[0.7777777777777778,\"#fb9f3a\"],[0.8888888888888888,\"#fdca26\"],[1.0,\"#f0f921\"]]}],\"heatmap\":[{\"type\":\"heatmap\",\"colorbar\":{\"outlinewidth\":0,\"ticks\":\"\"},\"colorscale\":[[0.0,\"#0d0887\"],[0.1111111111111111,\"#46039f\"],[0.2222222222222222,\"#7201a8\"],[0.3333333333333333,\"#9c179e\"],[0.4444444444444444,\"#bd3786\"],[0.5555555555555556,\"#d8576b\"],[0.6666666666666666,\"#ed7953\"],[0.7777777777777778,\"#fb9f3a\"],[0.8888888888888888,\"#fdca26\"],[1.0,\"#f0f921\"]]}],\"heatmapgl\":[{\"type\":\"heatmapgl\",\"colorbar\":{\"outlinewidth\":0,\"ticks\":\"\"},\"colorscale\":[[0.0,\"#0d0887\"],[0.1111111111111111,\"#46039f\"],[0.2222222222222222,\"#7201a8\"],[0.3333333333333333,\"#9c179e\"],[0.4444444444444444,\"#bd3786\"],[0.5555555555555556,\"#d8576b\"],[0.6666666666666666,\"#ed7953\"],[0.7777777777777778,\"#fb9f3a\"],[0.8888888888888888,\"#fdca26\"],[1.0,\"#f0f921\"]]}],\"contourcarpet\":[{\"type\":\"contourcarpet\",\"colorbar\":{\"outlinewidth\":0,\"ticks\":\"\"}}],\"contour\":[{\"type\":\"contour\",\"colorbar\":{\"outlinewidth\":0,\"ticks\":\"\"},\"colorscale\":[[0.0,\"#0d0887\"],[0.1111111111111111,\"#46039f\"],[0.2222222222222222,\"#7201a8\"],[0.3333333333333333,\"#9c179e\"],[0.4444444444444444,\"#bd3786\"],[0.5555555555555556,\"#d8576b\"],[0.6666666666666666,\"#ed7953\"],[0.7777777777777778,\"#fb9f3a\"],[0.8888888888888888,\"#fdca26\"],[1.0,\"#f0f921\"]]}],\"surface\":[{\"type\":\"surface\",\"colorbar\":{\"outlinewidth\":0,\"ticks\":\"\"},\"colorscale\":[[0.0,\"#0d0887\"],[0.1111111111111111,\"#46039f\"],[0.2222222222222222,\"#7201a8\"],[0.3333333333333333,\"#9c179e\"],[0.4444444444444444,\"#bd3786\"],[0.5555555555555556,\"#d8576b\"],[0.6666666666666666,\"#ed7953\"],[0.7777777777777778,\"#fb9f3a\"],[0.8888888888888888,\"#fdca26\"],[1.0,\"#f0f921\"]]}],\"mesh3d\":[{\"type\":\"mesh3d\",\"colorbar\":{\"outlinewidth\":0,\"ticks\":\"\"}}],\"scatter\":[{\"fillpattern\":{\"fillmode\":\"overlay\",\"size\":10,\"solidity\":0.2},\"type\":\"scatter\"}],\"parcoords\":[{\"type\":\"parcoords\",\"line\":{\"colorbar\":{\"outlinewidth\":0,\"ticks\":\"\"}}}],\"scatterpolargl\":[{\"type\":\"scatterpolargl\",\"marker\":{\"colorbar\":{\"outlinewidth\":0,\"ticks\":\"\"}}}],\"bar\":[{\"error_x\":{\"color\":\"#2a3f5f\"},\"error_y\":{\"color\":\"#2a3f5f\"},\"marker\":{\"line\":{\"color\":\"#E5ECF6\",\"width\":0.5},\"pattern\":{\"fillmode\":\"overlay\",\"size\":10,\"solidity\":0.2}},\"type\":\"bar\"}],\"scattergeo\":[{\"type\":\"scattergeo\",\"marker\":{\"colorbar\":{\"outlinewidth\":0,\"ticks\":\"\"}}}],\"scatterpolar\":[{\"type\":\"scatterpolar\",\"marker\":{\"colorbar\":{\"outlinewidth\":0,\"ticks\":\"\"}}}],\"histogram\":[{\"marker\":{\"pattern\":{\"fillmode\":\"overlay\",\"size\":10,\"solidity\":0.2}},\"type\":\"histogram\"}],\"scattergl\":[{\"type\":\"scattergl\",\"marker\":{\"colorbar\":{\"outlinewidth\":0,\"ticks\":\"\"}}}],\"scatter3d\":[{\"type\":\"scatter3d\",\"line\":{\"colorbar\":{\"outlinewidth\":0,\"ticks\":\"\"}},\"marker\":{\"colorbar\":{\"outlinewidth\":0,\"ticks\":\"\"}}}],\"scattermapbox\":[{\"type\":\"scattermapbox\",\"marker\":{\"colorbar\":{\"outlinewidth\":0,\"ticks\":\"\"}}}],\"scatterternary\":[{\"type\":\"scatterternary\",\"marker\":{\"colorbar\":{\"outlinewidth\":0,\"ticks\":\"\"}}}],\"scattercarpet\":[{\"type\":\"scattercarpet\",\"marker\":{\"colorbar\":{\"outlinewidth\":0,\"ticks\":\"\"}}}],\"carpet\":[{\"aaxis\":{\"endlinecolor\":\"#2a3f5f\",\"gridcolor\":\"white\",\"linecolor\":\"white\",\"minorgridcolor\":\"white\",\"startlinecolor\":\"#2a3f5f\"},\"baxis\":{\"endlinecolor\":\"#2a3f5f\",\"gridcolor\":\"white\",\"linecolor\":\"white\",\"minorgridcolor\":\"white\",\"startlinecolor\":\"#2a3f5f\"},\"type\":\"carpet\"}],\"table\":[{\"cells\":{\"fill\":{\"color\":\"#EBF0F8\"},\"line\":{\"color\":\"white\"}},\"header\":{\"fill\":{\"color\":\"#C8D4E3\"},\"line\":{\"color\":\"white\"}},\"type\":\"table\"}],\"barpolar\":[{\"marker\":{\"line\":{\"color\":\"#E5ECF6\",\"width\":0.5},\"pattern\":{\"fillmode\":\"overlay\",\"size\":10,\"solidity\":0.2}},\"type\":\"barpolar\"}],\"pie\":[{\"automargin\":true,\"type\":\"pie\"}]},\"layout\":{\"autotypenumbers\":\"strict\",\"colorway\":[\"#636efa\",\"#EF553B\",\"#00cc96\",\"#ab63fa\",\"#FFA15A\",\"#19d3f3\",\"#FF6692\",\"#B6E880\",\"#FF97FF\",\"#FECB52\"],\"font\":{\"color\":\"#2a3f5f\"},\"hovermode\":\"closest\",\"hoverlabel\":{\"align\":\"left\"},\"paper_bgcolor\":\"white\",\"plot_bgcolor\":\"#E5ECF6\",\"polar\":{\"bgcolor\":\"#E5ECF6\",\"angularaxis\":{\"gridcolor\":\"white\",\"linecolor\":\"white\",\"ticks\":\"\"},\"radialaxis\":{\"gridcolor\":\"white\",\"linecolor\":\"white\",\"ticks\":\"\"}},\"ternary\":{\"bgcolor\":\"#E5ECF6\",\"aaxis\":{\"gridcolor\":\"white\",\"linecolor\":\"white\",\"ticks\":\"\"},\"baxis\":{\"gridcolor\":\"white\",\"linecolor\":\"white\",\"ticks\":\"\"},\"caxis\":{\"gridcolor\":\"white\",\"linecolor\":\"white\",\"ticks\":\"\"}},\"coloraxis\":{\"colorbar\":{\"outlinewidth\":0,\"ticks\":\"\"}},\"colorscale\":{\"sequential\":[[0.0,\"#0d0887\"],[0.1111111111111111,\"#46039f\"],[0.2222222222222222,\"#7201a8\"],[0.3333333333333333,\"#9c179e\"],[0.4444444444444444,\"#bd3786\"],[0.5555555555555556,\"#d8576b\"],[0.6666666666666666,\"#ed7953\"],[0.7777777777777778,\"#fb9f3a\"],[0.8888888888888888,\"#fdca26\"],[1.0,\"#f0f921\"]],\"sequentialminus\":[[0.0,\"#0d0887\"],[0.1111111111111111,\"#46039f\"],[0.2222222222222222,\"#7201a8\"],[0.3333333333333333,\"#9c179e\"],[0.4444444444444444,\"#bd3786\"],[0.5555555555555556,\"#d8576b\"],[0.6666666666666666,\"#ed7953\"],[0.7777777777777778,\"#fb9f3a\"],[0.8888888888888888,\"#fdca26\"],[1.0,\"#f0f921\"]],\"diverging\":[[0,\"#8e0152\"],[0.1,\"#c51b7d\"],[0.2,\"#de77ae\"],[0.3,\"#f1b6da\"],[0.4,\"#fde0ef\"],[0.5,\"#f7f7f7\"],[0.6,\"#e6f5d0\"],[0.7,\"#b8e186\"],[0.8,\"#7fbc41\"],[0.9,\"#4d9221\"],[1,\"#276419\"]]},\"xaxis\":{\"gridcolor\":\"white\",\"linecolor\":\"white\",\"ticks\":\"\",\"title\":{\"standoff\":15},\"zerolinecolor\":\"white\",\"automargin\":true,\"zerolinewidth\":2},\"yaxis\":{\"gridcolor\":\"white\",\"linecolor\":\"white\",\"ticks\":\"\",\"title\":{\"standoff\":15},\"zerolinecolor\":\"white\",\"automargin\":true,\"zerolinewidth\":2},\"scene\":{\"xaxis\":{\"backgroundcolor\":\"#E5ECF6\",\"gridcolor\":\"white\",\"linecolor\":\"white\",\"showbackground\":true,\"ticks\":\"\",\"zerolinecolor\":\"white\",\"gridwidth\":2},\"yaxis\":{\"backgroundcolor\":\"#E5ECF6\",\"gridcolor\":\"white\",\"linecolor\":\"white\",\"showbackground\":true,\"ticks\":\"\",\"zerolinecolor\":\"white\",\"gridwidth\":2},\"zaxis\":{\"backgroundcolor\":\"#E5ECF6\",\"gridcolor\":\"white\",\"linecolor\":\"white\",\"showbackground\":true,\"ticks\":\"\",\"zerolinecolor\":\"white\",\"gridwidth\":2}},\"shapedefaults\":{\"line\":{\"color\":\"#2a3f5f\"}},\"annotationdefaults\":{\"arrowcolor\":\"#2a3f5f\",\"arrowhead\":0,\"arrowwidth\":1},\"geo\":{\"bgcolor\":\"white\",\"landcolor\":\"#E5ECF6\",\"subunitcolor\":\"white\",\"showland\":true,\"showlakes\":true,\"lakecolor\":\"white\"},\"title\":{\"x\":0.05},\"mapbox\":{\"style\":\"light\"}}},\"xaxis\":{\"anchor\":\"y\",\"domain\":[0.0,0.45],\"title\":{\"text\":\" \"},\"showticklabels\":false,\"side\":\"bottom\",\"color\":\"white\"},\"yaxis\":{\"anchor\":\"x\",\"domain\":[0.0,1.0],\"title\":{\"text\":\"value\"},\"showticklabels\":true},\"xaxis2\":{\"anchor\":\"y2\",\"domain\":[0.55,1.0],\"title\":{\"text\":\"_index\"},\"showticklabels\":false,\"side\":\"bottom\",\"color\":\"white\"},\"yaxis2\":{\"anchor\":\"x2\",\"domain\":[0.0,1.0],\"showticklabels\":true},\"annotations\":[{\"font\":{},\"showarrow\":false,\"text\":\"Protein_g/g\",\"x\":0.225,\"xanchor\":\"center\",\"xref\":\"paper\",\"y\":1.0,\"yanchor\":\"bottom\",\"yref\":\"paper\"},{\"font\":{},\"showarrow\":false,\"text\":\"Fat_g/100g\",\"x\":0.775,\"xanchor\":\"center\",\"xref\":\"paper\",\"y\":1.0,\"yanchor\":\"bottom\",\"yref\":\"paper\"}],\"legend\":{\"title\":{\"text\":\" \"},\"tracegroupgap\":0},\"margin\":{\"t\":120},\"barmode\":\"stack\",\"height\":600,\"width\":1050,\"title\":{\"text\":\"Display of the chosen parameter for the current recipe (per 100g of total recipe): <br>The absolute contribution of all ingredients is shown. <br>Items can be turned on or off by clicking on the item in the legend.\",\"y\":0.95}},                        {\"responsive\": true}                    ).then(function(){\n",
       "                            \n",
       "var gd = document.getElementById('a7d1bb51-c4ff-48a0-ac71-8bc33bd76a81');\n",
       "var x = new MutationObserver(function (mutations, observer) {{\n",
       "        var display = window.getComputedStyle(gd).display;\n",
       "        if (!display || display === 'none') {{\n",
       "            console.log([gd, 'removed!']);\n",
       "            Plotly.purge(gd);\n",
       "            observer.disconnect();\n",
       "        }}\n",
       "}});\n",
       "\n",
       "// Listen for the removal of the full notebook cells\n",
       "var notebookContainer = gd.closest('#notebook-container');\n",
       "if (notebookContainer) {{\n",
       "    x.observe(notebookContainer, {childList: true});\n",
       "}}\n",
       "\n",
       "// Listen for the clearing of the current output cell\n",
       "var outputEl = gd.closest('.output');\n",
       "if (outputEl) {{\n",
       "    x.observe(outputEl, {childList: true});\n",
       "}}\n",
       "\n",
       "                        })                };                });            </script>        </div>"
      ]
     },
     "metadata": {},
     "output_type": "display_data"
    }
   ],
   "source": [
    "# https://community.plotly.com/t/how-to-set-different-x-and-y-axis-for-each-subplot/57417\n",
    "\n",
    "import plotly.express as px\n",
    "import pandas as pd\n",
    "\n",
    "# choose parameters to display, ingredients and proportion is taken from lists preciously specified\n",
    "# recipe is calculated directely as shown above, dataframe is transposed to have parameters as index\n",
    "choice = ['Protein_g/g',\n",
    "              'Fat_g/100g'] \n",
    "df_plot = (df_food.loc[ingredients][choice].mul(proportions, axis='rows')/sum(proportions)).T.reset_index()\n",
    "\n",
    "\n",
    "# initiate plot, specify stacked and use index (= parameter) for subplots\n",
    "# choose size and oslo color (every third color so colors are distinguishable)\n",
    "fig = px.bar(df_plot,\n",
    "             barmode=\"stack\",\n",
    "             facet_col='index', \n",
    "             color_discrete_sequence=oslo_rgb[0::3],\n",
    "                                       facet_col_spacing=0.1,\n",
    "    color_continuous_scale=None,\n",
    "   width = 1050, height = 600\n",
    "  )\n",
    "\n",
    "\n",
    "\n",
    "title = 'Display of the chosen parameter for the current recipe (per 100g of total recipe): <br>The absolute contribution of all ingredients is shown. <br>Items can be turned on or off by clicking on the item in the legend.'\n",
    "    \n",
    "# set title, set bottom ticks to be white, remove x title\n",
    "fig.update_layout(title_text=title, title_y = 0.95, \n",
    "         margin={'t': 120})\n",
    "fig.update_xaxes(matches=None,showticklabels=False, side = \"bottom\", color = 'white', )\n",
    "fig.update_layout(  xaxis_title=' ')\n",
    "\n",
    "\n",
    "fig.update_yaxes(matches=None, showticklabels=True)\n",
    "\n",
    "# original name of subplots was 'index = parameter', therefore all before the '=' is removed\n",
    "fig.for_each_annotation(lambda a: a.update(text=a.text.split(\"=\")[1]))\n",
    "\n",
    "fig.show()\n",
    "# fig.write_html(\"BarsRecipeGram2.html\")"
   ]
  },
  {
   "cell_type": "markdown",
   "id": "6d898dc2",
   "metadata": {},
   "source": [
    "## Calculation of contributions to the recipe measures per unit of energy"
   ]
  },
  {
   "cell_type": "markdown",
   "id": "698e474f",
   "metadata": {},
   "source": [
    "### Per energy"
   ]
  },
  {
   "cell_type": "code",
   "execution_count": 44,
   "id": "ced642a8",
   "metadata": {},
   "outputs": [
    {
     "data": {
      "text/html": [
       "<div>\n",
       "<style scoped>\n",
       "    .dataframe tbody tr th:only-of-type {\n",
       "        vertical-align: middle;\n",
       "    }\n",
       "\n",
       "    .dataframe tbody tr th {\n",
       "        vertical-align: top;\n",
       "    }\n",
       "\n",
       "    .dataframe thead th {\n",
       "        text-align: right;\n",
       "    }\n",
       "</style>\n",
       "<table border=\"1\" class=\"dataframe\">\n",
       "  <thead>\n",
       "    <tr style=\"text-align: right;\">\n",
       "      <th></th>\n",
       "      <th>Durum wheat</th>\n",
       "      <th>Chicken</th>\n",
       "      <th>Hard cheese</th>\n",
       "    </tr>\n",
       "  </thead>\n",
       "  <tbody>\n",
       "    <tr>\n",
       "      <th>Alanin_mg/100g</th>\n",
       "      <td>0.863188</td>\n",
       "      <td>1.060649</td>\n",
       "      <td>1.466855</td>\n",
       "    </tr>\n",
       "    <tr>\n",
       "      <th>Alkohol (Ethanol)_mg/100g</th>\n",
       "      <td>684.624542</td>\n",
       "      <td>1068.221157</td>\n",
       "      <td>431.842031</td>\n",
       "    </tr>\n",
       "    <tr>\n",
       "      <th>Arginin_mg/100g</th>\n",
       "      <td>25.387870</td>\n",
       "      <td>7.334274</td>\n",
       "      <td>1.410437</td>\n",
       "    </tr>\n",
       "    <tr>\n",
       "      <th>Asparagic acid_mg/100g</th>\n",
       "      <td>0.000000</td>\n",
       "      <td>0.000000</td>\n",
       "      <td>0.000000</td>\n",
       "    </tr>\n",
       "    <tr>\n",
       "      <th>Butteric acid/butyric acid_mg/100g</th>\n",
       "      <td>116.784203</td>\n",
       "      <td>0.000000</td>\n",
       "      <td>0.000000</td>\n",
       "    </tr>\n",
       "    <tr>\n",
       "      <th>...</th>\n",
       "      <td>...</td>\n",
       "      <td>...</td>\n",
       "      <td>...</td>\n",
       "    </tr>\n",
       "    <tr>\n",
       "      <th>http://purl.obolibrary.org/obo/FOODON_03420190_mg/100g</th>\n",
       "      <td>0.000000</td>\n",
       "      <td>0.000000</td>\n",
       "      <td>0.000000</td>\n",
       "    </tr>\n",
       "    <tr>\n",
       "      <th>Eutrophying emissions per 100g (gPO₄eq per 100g}</th>\n",
       "      <td>NaN</td>\n",
       "      <td>245.528914</td>\n",
       "      <td>277.489422</td>\n",
       "    </tr>\n",
       "    <tr>\n",
       "      <th>Freshwater withdrawals per 100g (liters per 100g)</th>\n",
       "      <td>NaN</td>\n",
       "      <td>6518.476728</td>\n",
       "      <td>15811.565585</td>\n",
       "    </tr>\n",
       "    <tr>\n",
       "      <th>Land use per 100g (m² per 100g)</th>\n",
       "      <td>NaN</td>\n",
       "      <td>70.747532</td>\n",
       "      <td>247.644570</td>\n",
       "    </tr>\n",
       "    <tr>\n",
       "      <th>Fat_g/100g</th>\n",
       "      <td>135.401975</td>\n",
       "      <td>225.669958</td>\n",
       "      <td>902.679831</td>\n",
       "    </tr>\n",
       "  </tbody>\n",
       "</table>\n",
       "<p>126 rows × 3 columns</p>\n",
       "</div>"
      ],
      "text/plain": [
       "                                                    Durum wheat      Chicken  \\\n",
       "Alanin_mg/100g                                         0.863188     1.060649   \n",
       "Alkohol (Ethanol)_mg/100g                            684.624542  1068.221157   \n",
       "Arginin_mg/100g                                       25.387870     7.334274   \n",
       "Asparagic acid_mg/100g                                 0.000000     0.000000   \n",
       "Butteric acid/butyric acid_mg/100g                   116.784203     0.000000   \n",
       "...                                                         ...          ...   \n",
       "http://purl.obolibrary.org/obo/FOODON_03420190_...     0.000000     0.000000   \n",
       "Eutrophying emissions per 100g (gPO₄eq per 100g}            NaN   245.528914   \n",
       "Freshwater withdrawals per 100g (liters per 100g)           NaN  6518.476728   \n",
       "Land use per 100g (m² per 100g)                             NaN    70.747532   \n",
       "Fat_g/100g                                           135.401975   225.669958   \n",
       "\n",
       "                                                     Hard cheese  \n",
       "Alanin_mg/100g                                          1.466855  \n",
       "Alkohol (Ethanol)_mg/100g                             431.842031  \n",
       "Arginin_mg/100g                                         1.410437  \n",
       "Asparagic acid_mg/100g                                  0.000000  \n",
       "Butteric acid/butyric acid_mg/100g                      0.000000  \n",
       "...                                                          ...  \n",
       "http://purl.obolibrary.org/obo/FOODON_03420190_...      0.000000  \n",
       "Eutrophying emissions per 100g (gPO₄eq per 100g}      277.489422  \n",
       "Freshwater withdrawals per 100g (liters per 100g)   15811.565585  \n",
       "Land use per 100g (m² per 100g)                       247.644570  \n",
       "Fat_g/100g                                            902.679831  \n",
       "\n",
       "[126 rows x 3 columns]"
      ]
     },
     "execution_count": 44,
     "metadata": {},
     "output_type": "execute_result"
    }
   ],
   "source": [
    "# calculate how much energy the ingredients bring into the recipe\n",
    "energy_per_ingredient = df_food.loc[ingredients]['Energy (kilojoule) _kJ/100g'].mul(proportions, axis='rows')/100\n",
    "\n",
    "# calculate proportions but not divide per mass but per energy per ingredient\n",
    "df_per_energy = ((df_food.loc[ingredients].mul(proportions, axis='rows')/sum(energy_per_ingredient))).T\n",
    "df_per_energy"
   ]
  },
  {
   "cell_type": "markdown",
   "id": "8a8f0a5d",
   "metadata": {},
   "source": [
    "### Units need to be changed, /100g is remove, /1kJ is added"
   ]
  },
  {
   "cell_type": "code",
   "execution_count": 45,
   "id": "f9149de2",
   "metadata": {},
   "outputs": [],
   "source": [
    "sep = '/'\n",
    "dict_unit_per_energy = {}\n",
    "for index in df_per_energy.index:\n",
    "    dict_unit_per_energy[index] = index.split(sep, 1)[0] + '/1kJ'\n"
   ]
  },
  {
   "cell_type": "code",
   "execution_count": 46,
   "id": "958535f9",
   "metadata": {},
   "outputs": [],
   "source": [
    "df_per_energy.rename(index = dict_unit_per_energy, inplace=True)"
   ]
  },
  {
   "cell_type": "markdown",
   "id": "6365ad19",
   "metadata": {},
   "source": [
    "## create plotly bar plot for recipe (per energy) with contribution of ingredients stacked"
   ]
  },
  {
   "cell_type": "code",
   "execution_count": 47,
   "id": "ae3a6b8d",
   "metadata": {},
   "outputs": [
    {
     "data": {
      "application/vnd.plotly.v1+json": {
       "config": {
        "plotlyServerURL": "https://plot.ly"
       },
       "data": [
        {
         "alignmentgroup": "True",
         "hovertemplate": " =Durum wheat<br>index=%{x}<br>value=%{y}<extra></extra>",
         "legendgroup": "Durum wheat",
         "marker": {
          "color": "rgb(11, 25, 39)",
          "pattern": {
           "shape": ""
          }
         },
         "name": "Durum wheat",
         "offsetgroup": "Durum wheat",
         "orientation": "v",
         "showlegend": true,
         "textposition": "auto",
         "type": "bar",
         "x": [
          "Protein_g/1kJ"
         ],
         "xaxis": "x",
         "y": [
          65.16220028208745
         ],
         "yaxis": "y"
        },
        {
         "alignmentgroup": "True",
         "hovertemplate": " =Durum wheat<br>index=%{x}<br>value=%{y}<extra></extra>",
         "legendgroup": "Durum wheat",
         "marker": {
          "color": "rgb(11, 25, 39)",
          "pattern": {
           "shape": ""
          }
         },
         "name": "Durum wheat",
         "offsetgroup": "Durum wheat",
         "orientation": "v",
         "showlegend": false,
         "textposition": "auto",
         "type": "bar",
         "x": [
          "Freshwater withdrawals per 100g (liters per 100g)/1kJ"
         ],
         "xaxis": "x2",
         "y": [
          null
         ],
         "yaxis": "y2"
        },
        {
         "alignmentgroup": "True",
         "hovertemplate": " =Chicken<br>index=%{x}<br>value=%{y}<extra></extra>",
         "legendgroup": "Chicken",
         "marker": {
          "color": "rgb(46, 98, 160)",
          "pattern": {
           "shape": ""
          }
         },
         "name": "Chicken",
         "offsetgroup": "Chicken",
         "orientation": "v",
         "showlegend": true,
         "textposition": "auto",
         "type": "bar",
         "x": [
          "Protein_g/1kJ"
         ],
         "xaxis": "x",
         "y": [
          29.78843441466855
         ],
         "yaxis": "y"
        },
        {
         "alignmentgroup": "True",
         "hovertemplate": " =Chicken<br>index=%{x}<br>value=%{y}<extra></extra>",
         "legendgroup": "Chicken",
         "marker": {
          "color": "rgb(46, 98, 160)",
          "pattern": {
           "shape": ""
          }
         },
         "name": "Chicken",
         "offsetgroup": "Chicken",
         "orientation": "v",
         "showlegend": false,
         "textposition": "auto",
         "type": "bar",
         "x": [
          "Freshwater withdrawals per 100g (liters per 100g)/1kJ"
         ],
         "xaxis": "x2",
         "y": [
          6518.476727785614
         ],
         "yaxis": "y2"
        },
        {
         "alignmentgroup": "True",
         "hovertemplate": " =Hard cheese<br>index=%{x}<br>value=%{y}<extra></extra>",
         "legendgroup": "Hard cheese",
         "marker": {
          "color": "rgb(144, 166, 201)",
          "pattern": {
           "shape": ""
          }
         },
         "name": "Hard cheese",
         "offsetgroup": "Hard cheese",
         "orientation": "v",
         "showlegend": true,
         "textposition": "auto",
         "type": "bar",
         "x": [
          "Protein_g/1kJ"
         ],
         "xaxis": "x",
         "y": [
          5.049365303244005
         ],
         "yaxis": "y"
        },
        {
         "alignmentgroup": "True",
         "hovertemplate": " =Hard cheese<br>index=%{x}<br>value=%{y}<extra></extra>",
         "legendgroup": "Hard cheese",
         "marker": {
          "color": "rgb(144, 166, 201)",
          "pattern": {
           "shape": ""
          }
         },
         "name": "Hard cheese",
         "offsetgroup": "Hard cheese",
         "orientation": "v",
         "showlegend": false,
         "textposition": "auto",
         "type": "bar",
         "x": [
          "Freshwater withdrawals per 100g (liters per 100g)/1kJ"
         ],
         "xaxis": "x2",
         "y": [
          15811.565585331453
         ],
         "yaxis": "y2"
        }
       ],
       "layout": {
        "annotations": [
         {
          "font": {},
          "showarrow": false,
          "text": "index=Protein_g/1kJ",
          "x": 0.235,
          "xanchor": "center",
          "xref": "paper",
          "y": 1,
          "yanchor": "bottom",
          "yref": "paper"
         },
         {
          "font": {},
          "showarrow": false,
          "text": "index=Freshwater withdrawals per 100g (liters per 100g)/1kJ",
          "x": 0.765,
          "xanchor": "center",
          "xref": "paper",
          "y": 1,
          "yanchor": "bottom",
          "yref": "paper"
         }
        ],
        "barmode": "stack",
        "legend": {
         "title": {
          "text": " "
         },
         "tracegroupgap": 0
        },
        "template": {
         "data": {
          "bar": [
           {
            "error_x": {
             "color": "#2a3f5f"
            },
            "error_y": {
             "color": "#2a3f5f"
            },
            "marker": {
             "line": {
              "color": "#E5ECF6",
              "width": 0.5
             },
             "pattern": {
              "fillmode": "overlay",
              "size": 10,
              "solidity": 0.2
             }
            },
            "type": "bar"
           }
          ],
          "barpolar": [
           {
            "marker": {
             "line": {
              "color": "#E5ECF6",
              "width": 0.5
             },
             "pattern": {
              "fillmode": "overlay",
              "size": 10,
              "solidity": 0.2
             }
            },
            "type": "barpolar"
           }
          ],
          "carpet": [
           {
            "aaxis": {
             "endlinecolor": "#2a3f5f",
             "gridcolor": "white",
             "linecolor": "white",
             "minorgridcolor": "white",
             "startlinecolor": "#2a3f5f"
            },
            "baxis": {
             "endlinecolor": "#2a3f5f",
             "gridcolor": "white",
             "linecolor": "white",
             "minorgridcolor": "white",
             "startlinecolor": "#2a3f5f"
            },
            "type": "carpet"
           }
          ],
          "choropleth": [
           {
            "colorbar": {
             "outlinewidth": 0,
             "ticks": ""
            },
            "type": "choropleth"
           }
          ],
          "contour": [
           {
            "colorbar": {
             "outlinewidth": 0,
             "ticks": ""
            },
            "colorscale": [
             [
              0,
              "#0d0887"
             ],
             [
              0.1111111111111111,
              "#46039f"
             ],
             [
              0.2222222222222222,
              "#7201a8"
             ],
             [
              0.3333333333333333,
              "#9c179e"
             ],
             [
              0.4444444444444444,
              "#bd3786"
             ],
             [
              0.5555555555555556,
              "#d8576b"
             ],
             [
              0.6666666666666666,
              "#ed7953"
             ],
             [
              0.7777777777777778,
              "#fb9f3a"
             ],
             [
              0.8888888888888888,
              "#fdca26"
             ],
             [
              1,
              "#f0f921"
             ]
            ],
            "type": "contour"
           }
          ],
          "contourcarpet": [
           {
            "colorbar": {
             "outlinewidth": 0,
             "ticks": ""
            },
            "type": "contourcarpet"
           }
          ],
          "heatmap": [
           {
            "colorbar": {
             "outlinewidth": 0,
             "ticks": ""
            },
            "colorscale": [
             [
              0,
              "#0d0887"
             ],
             [
              0.1111111111111111,
              "#46039f"
             ],
             [
              0.2222222222222222,
              "#7201a8"
             ],
             [
              0.3333333333333333,
              "#9c179e"
             ],
             [
              0.4444444444444444,
              "#bd3786"
             ],
             [
              0.5555555555555556,
              "#d8576b"
             ],
             [
              0.6666666666666666,
              "#ed7953"
             ],
             [
              0.7777777777777778,
              "#fb9f3a"
             ],
             [
              0.8888888888888888,
              "#fdca26"
             ],
             [
              1,
              "#f0f921"
             ]
            ],
            "type": "heatmap"
           }
          ],
          "heatmapgl": [
           {
            "colorbar": {
             "outlinewidth": 0,
             "ticks": ""
            },
            "colorscale": [
             [
              0,
              "#0d0887"
             ],
             [
              0.1111111111111111,
              "#46039f"
             ],
             [
              0.2222222222222222,
              "#7201a8"
             ],
             [
              0.3333333333333333,
              "#9c179e"
             ],
             [
              0.4444444444444444,
              "#bd3786"
             ],
             [
              0.5555555555555556,
              "#d8576b"
             ],
             [
              0.6666666666666666,
              "#ed7953"
             ],
             [
              0.7777777777777778,
              "#fb9f3a"
             ],
             [
              0.8888888888888888,
              "#fdca26"
             ],
             [
              1,
              "#f0f921"
             ]
            ],
            "type": "heatmapgl"
           }
          ],
          "histogram": [
           {
            "marker": {
             "pattern": {
              "fillmode": "overlay",
              "size": 10,
              "solidity": 0.2
             }
            },
            "type": "histogram"
           }
          ],
          "histogram2d": [
           {
            "colorbar": {
             "outlinewidth": 0,
             "ticks": ""
            },
            "colorscale": [
             [
              0,
              "#0d0887"
             ],
             [
              0.1111111111111111,
              "#46039f"
             ],
             [
              0.2222222222222222,
              "#7201a8"
             ],
             [
              0.3333333333333333,
              "#9c179e"
             ],
             [
              0.4444444444444444,
              "#bd3786"
             ],
             [
              0.5555555555555556,
              "#d8576b"
             ],
             [
              0.6666666666666666,
              "#ed7953"
             ],
             [
              0.7777777777777778,
              "#fb9f3a"
             ],
             [
              0.8888888888888888,
              "#fdca26"
             ],
             [
              1,
              "#f0f921"
             ]
            ],
            "type": "histogram2d"
           }
          ],
          "histogram2dcontour": [
           {
            "colorbar": {
             "outlinewidth": 0,
             "ticks": ""
            },
            "colorscale": [
             [
              0,
              "#0d0887"
             ],
             [
              0.1111111111111111,
              "#46039f"
             ],
             [
              0.2222222222222222,
              "#7201a8"
             ],
             [
              0.3333333333333333,
              "#9c179e"
             ],
             [
              0.4444444444444444,
              "#bd3786"
             ],
             [
              0.5555555555555556,
              "#d8576b"
             ],
             [
              0.6666666666666666,
              "#ed7953"
             ],
             [
              0.7777777777777778,
              "#fb9f3a"
             ],
             [
              0.8888888888888888,
              "#fdca26"
             ],
             [
              1,
              "#f0f921"
             ]
            ],
            "type": "histogram2dcontour"
           }
          ],
          "mesh3d": [
           {
            "colorbar": {
             "outlinewidth": 0,
             "ticks": ""
            },
            "type": "mesh3d"
           }
          ],
          "parcoords": [
           {
            "line": {
             "colorbar": {
              "outlinewidth": 0,
              "ticks": ""
             }
            },
            "type": "parcoords"
           }
          ],
          "pie": [
           {
            "automargin": true,
            "type": "pie"
           }
          ],
          "scatter": [
           {
            "fillpattern": {
             "fillmode": "overlay",
             "size": 10,
             "solidity": 0.2
            },
            "type": "scatter"
           }
          ],
          "scatter3d": [
           {
            "line": {
             "colorbar": {
              "outlinewidth": 0,
              "ticks": ""
             }
            },
            "marker": {
             "colorbar": {
              "outlinewidth": 0,
              "ticks": ""
             }
            },
            "type": "scatter3d"
           }
          ],
          "scattercarpet": [
           {
            "marker": {
             "colorbar": {
              "outlinewidth": 0,
              "ticks": ""
             }
            },
            "type": "scattercarpet"
           }
          ],
          "scattergeo": [
           {
            "marker": {
             "colorbar": {
              "outlinewidth": 0,
              "ticks": ""
             }
            },
            "type": "scattergeo"
           }
          ],
          "scattergl": [
           {
            "marker": {
             "colorbar": {
              "outlinewidth": 0,
              "ticks": ""
             }
            },
            "type": "scattergl"
           }
          ],
          "scattermapbox": [
           {
            "marker": {
             "colorbar": {
              "outlinewidth": 0,
              "ticks": ""
             }
            },
            "type": "scattermapbox"
           }
          ],
          "scatterpolar": [
           {
            "marker": {
             "colorbar": {
              "outlinewidth": 0,
              "ticks": ""
             }
            },
            "type": "scatterpolar"
           }
          ],
          "scatterpolargl": [
           {
            "marker": {
             "colorbar": {
              "outlinewidth": 0,
              "ticks": ""
             }
            },
            "type": "scatterpolargl"
           }
          ],
          "scatterternary": [
           {
            "marker": {
             "colorbar": {
              "outlinewidth": 0,
              "ticks": ""
             }
            },
            "type": "scatterternary"
           }
          ],
          "surface": [
           {
            "colorbar": {
             "outlinewidth": 0,
             "ticks": ""
            },
            "colorscale": [
             [
              0,
              "#0d0887"
             ],
             [
              0.1111111111111111,
              "#46039f"
             ],
             [
              0.2222222222222222,
              "#7201a8"
             ],
             [
              0.3333333333333333,
              "#9c179e"
             ],
             [
              0.4444444444444444,
              "#bd3786"
             ],
             [
              0.5555555555555556,
              "#d8576b"
             ],
             [
              0.6666666666666666,
              "#ed7953"
             ],
             [
              0.7777777777777778,
              "#fb9f3a"
             ],
             [
              0.8888888888888888,
              "#fdca26"
             ],
             [
              1,
              "#f0f921"
             ]
            ],
            "type": "surface"
           }
          ],
          "table": [
           {
            "cells": {
             "fill": {
              "color": "#EBF0F8"
             },
             "line": {
              "color": "white"
             }
            },
            "header": {
             "fill": {
              "color": "#C8D4E3"
             },
             "line": {
              "color": "white"
             }
            },
            "type": "table"
           }
          ]
         },
         "layout": {
          "annotationdefaults": {
           "arrowcolor": "#2a3f5f",
           "arrowhead": 0,
           "arrowwidth": 1
          },
          "autotypenumbers": "strict",
          "coloraxis": {
           "colorbar": {
            "outlinewidth": 0,
            "ticks": ""
           }
          },
          "colorscale": {
           "diverging": [
            [
             0,
             "#8e0152"
            ],
            [
             0.1,
             "#c51b7d"
            ],
            [
             0.2,
             "#de77ae"
            ],
            [
             0.3,
             "#f1b6da"
            ],
            [
             0.4,
             "#fde0ef"
            ],
            [
             0.5,
             "#f7f7f7"
            ],
            [
             0.6,
             "#e6f5d0"
            ],
            [
             0.7,
             "#b8e186"
            ],
            [
             0.8,
             "#7fbc41"
            ],
            [
             0.9,
             "#4d9221"
            ],
            [
             1,
             "#276419"
            ]
           ],
           "sequential": [
            [
             0,
             "#0d0887"
            ],
            [
             0.1111111111111111,
             "#46039f"
            ],
            [
             0.2222222222222222,
             "#7201a8"
            ],
            [
             0.3333333333333333,
             "#9c179e"
            ],
            [
             0.4444444444444444,
             "#bd3786"
            ],
            [
             0.5555555555555556,
             "#d8576b"
            ],
            [
             0.6666666666666666,
             "#ed7953"
            ],
            [
             0.7777777777777778,
             "#fb9f3a"
            ],
            [
             0.8888888888888888,
             "#fdca26"
            ],
            [
             1,
             "#f0f921"
            ]
           ],
           "sequentialminus": [
            [
             0,
             "#0d0887"
            ],
            [
             0.1111111111111111,
             "#46039f"
            ],
            [
             0.2222222222222222,
             "#7201a8"
            ],
            [
             0.3333333333333333,
             "#9c179e"
            ],
            [
             0.4444444444444444,
             "#bd3786"
            ],
            [
             0.5555555555555556,
             "#d8576b"
            ],
            [
             0.6666666666666666,
             "#ed7953"
            ],
            [
             0.7777777777777778,
             "#fb9f3a"
            ],
            [
             0.8888888888888888,
             "#fdca26"
            ],
            [
             1,
             "#f0f921"
            ]
           ]
          },
          "colorway": [
           "#636efa",
           "#EF553B",
           "#00cc96",
           "#ab63fa",
           "#FFA15A",
           "#19d3f3",
           "#FF6692",
           "#B6E880",
           "#FF97FF",
           "#FECB52"
          ],
          "font": {
           "color": "#2a3f5f"
          },
          "geo": {
           "bgcolor": "white",
           "lakecolor": "white",
           "landcolor": "#E5ECF6",
           "showlakes": true,
           "showland": true,
           "subunitcolor": "white"
          },
          "hoverlabel": {
           "align": "left"
          },
          "hovermode": "closest",
          "mapbox": {
           "style": "light"
          },
          "paper_bgcolor": "white",
          "plot_bgcolor": "#E5ECF6",
          "polar": {
           "angularaxis": {
            "gridcolor": "white",
            "linecolor": "white",
            "ticks": ""
           },
           "bgcolor": "#E5ECF6",
           "radialaxis": {
            "gridcolor": "white",
            "linecolor": "white",
            "ticks": ""
           }
          },
          "scene": {
           "xaxis": {
            "backgroundcolor": "#E5ECF6",
            "gridcolor": "white",
            "gridwidth": 2,
            "linecolor": "white",
            "showbackground": true,
            "ticks": "",
            "zerolinecolor": "white"
           },
           "yaxis": {
            "backgroundcolor": "#E5ECF6",
            "gridcolor": "white",
            "gridwidth": 2,
            "linecolor": "white",
            "showbackground": true,
            "ticks": "",
            "zerolinecolor": "white"
           },
           "zaxis": {
            "backgroundcolor": "#E5ECF6",
            "gridcolor": "white",
            "gridwidth": 2,
            "linecolor": "white",
            "showbackground": true,
            "ticks": "",
            "zerolinecolor": "white"
           }
          },
          "shapedefaults": {
           "line": {
            "color": "#2a3f5f"
           }
          },
          "ternary": {
           "aaxis": {
            "gridcolor": "white",
            "linecolor": "white",
            "ticks": ""
           },
           "baxis": {
            "gridcolor": "white",
            "linecolor": "white",
            "ticks": ""
           },
           "bgcolor": "#E5ECF6",
           "caxis": {
            "gridcolor": "white",
            "linecolor": "white",
            "ticks": ""
           }
          },
          "title": {
           "x": 0.05
          },
          "xaxis": {
           "automargin": true,
           "gridcolor": "white",
           "linecolor": "white",
           "ticks": "",
           "title": {
            "standoff": 15
           },
           "zerolinecolor": "white",
           "zerolinewidth": 2
          },
          "yaxis": {
           "automargin": true,
           "gridcolor": "white",
           "linecolor": "white",
           "ticks": "",
           "title": {
            "standoff": 15
           },
           "zerolinecolor": "white",
           "zerolinewidth": 2
          }
         }
        },
        "title": {
         "text": "Display of the chosen parameter for the current recipe (per Energy 1kJ): <br> The absolute content of all ingredients is shown."
        },
        "xaxis": {
         "anchor": "y",
         "categoryarray": [
          "Protein_g/1kJ",
          "Freshwater withdrawals per 100g (liters per 100g)/1kJ"
         ],
         "categoryorder": "array",
         "domain": [
          0,
          0.47
         ],
         "showticklabels": true,
         "title": {
          "text": "index"
         }
        },
        "xaxis2": {
         "anchor": "y2",
         "categoryarray": [
          "Protein_g/1kJ",
          "Freshwater withdrawals per 100g (liters per 100g)/1kJ"
         ],
         "categoryorder": "array",
         "domain": [
          0.53,
          1
         ],
         "showticklabels": true,
         "title": {
          "text": "index"
         }
        },
        "yaxis": {
         "anchor": "x",
         "domain": [
          0,
          1
         ],
         "showticklabels": true,
         "title": {
          "text": "value"
         }
        },
        "yaxis2": {
         "anchor": "x2",
         "domain": [
          0,
          1
         ],
         "showticklabels": true
        }
       }
      },
      "text/html": [
       "<div>                            <div id=\"5f27a0f7-fa6f-4db4-879c-9029ed31c222\" class=\"plotly-graph-div\" style=\"height:525px; width:100%;\"></div>            <script type=\"text/javascript\">                require([\"plotly\"], function(Plotly) {                    window.PLOTLYENV=window.PLOTLYENV || {};                                    if (document.getElementById(\"5f27a0f7-fa6f-4db4-879c-9029ed31c222\")) {                    Plotly.newPlot(                        \"5f27a0f7-fa6f-4db4-879c-9029ed31c222\",                        [{\"alignmentgroup\":\"True\",\"hovertemplate\":\" =Durum wheat<br>index=%{x}<br>value=%{y}<extra></extra>\",\"legendgroup\":\"Durum wheat\",\"marker\":{\"color\":\"rgb(11, 25, 39)\",\"pattern\":{\"shape\":\"\"}},\"name\":\"Durum wheat\",\"offsetgroup\":\"Durum wheat\",\"orientation\":\"v\",\"showlegend\":true,\"textposition\":\"auto\",\"x\":[\"Protein_g/1kJ\"],\"xaxis\":\"x\",\"y\":[65.16220028208745],\"yaxis\":\"y\",\"type\":\"bar\"},{\"alignmentgroup\":\"True\",\"hovertemplate\":\" =Durum wheat<br>index=%{x}<br>value=%{y}<extra></extra>\",\"legendgroup\":\"Durum wheat\",\"marker\":{\"color\":\"rgb(11, 25, 39)\",\"pattern\":{\"shape\":\"\"}},\"name\":\"Durum wheat\",\"offsetgroup\":\"Durum wheat\",\"orientation\":\"v\",\"showlegend\":false,\"textposition\":\"auto\",\"x\":[\"Freshwater withdrawals per 100g (liters per 100g)/1kJ\"],\"xaxis\":\"x2\",\"y\":[null],\"yaxis\":\"y2\",\"type\":\"bar\"},{\"alignmentgroup\":\"True\",\"hovertemplate\":\" =Chicken<br>index=%{x}<br>value=%{y}<extra></extra>\",\"legendgroup\":\"Chicken\",\"marker\":{\"color\":\"rgb(46, 98, 160)\",\"pattern\":{\"shape\":\"\"}},\"name\":\"Chicken\",\"offsetgroup\":\"Chicken\",\"orientation\":\"v\",\"showlegend\":true,\"textposition\":\"auto\",\"x\":[\"Protein_g/1kJ\"],\"xaxis\":\"x\",\"y\":[29.78843441466855],\"yaxis\":\"y\",\"type\":\"bar\"},{\"alignmentgroup\":\"True\",\"hovertemplate\":\" =Chicken<br>index=%{x}<br>value=%{y}<extra></extra>\",\"legendgroup\":\"Chicken\",\"marker\":{\"color\":\"rgb(46, 98, 160)\",\"pattern\":{\"shape\":\"\"}},\"name\":\"Chicken\",\"offsetgroup\":\"Chicken\",\"orientation\":\"v\",\"showlegend\":false,\"textposition\":\"auto\",\"x\":[\"Freshwater withdrawals per 100g (liters per 100g)/1kJ\"],\"xaxis\":\"x2\",\"y\":[6518.476727785614],\"yaxis\":\"y2\",\"type\":\"bar\"},{\"alignmentgroup\":\"True\",\"hovertemplate\":\" =Hard cheese<br>index=%{x}<br>value=%{y}<extra></extra>\",\"legendgroup\":\"Hard cheese\",\"marker\":{\"color\":\"rgb(144, 166, 201)\",\"pattern\":{\"shape\":\"\"}},\"name\":\"Hard cheese\",\"offsetgroup\":\"Hard cheese\",\"orientation\":\"v\",\"showlegend\":true,\"textposition\":\"auto\",\"x\":[\"Protein_g/1kJ\"],\"xaxis\":\"x\",\"y\":[5.049365303244005],\"yaxis\":\"y\",\"type\":\"bar\"},{\"alignmentgroup\":\"True\",\"hovertemplate\":\" =Hard cheese<br>index=%{x}<br>value=%{y}<extra></extra>\",\"legendgroup\":\"Hard cheese\",\"marker\":{\"color\":\"rgb(144, 166, 201)\",\"pattern\":{\"shape\":\"\"}},\"name\":\"Hard cheese\",\"offsetgroup\":\"Hard cheese\",\"orientation\":\"v\",\"showlegend\":false,\"textposition\":\"auto\",\"x\":[\"Freshwater withdrawals per 100g (liters per 100g)/1kJ\"],\"xaxis\":\"x2\",\"y\":[15811.565585331453],\"yaxis\":\"y2\",\"type\":\"bar\"}],                        {\"template\":{\"data\":{\"histogram2dcontour\":[{\"type\":\"histogram2dcontour\",\"colorbar\":{\"outlinewidth\":0,\"ticks\":\"\"},\"colorscale\":[[0.0,\"#0d0887\"],[0.1111111111111111,\"#46039f\"],[0.2222222222222222,\"#7201a8\"],[0.3333333333333333,\"#9c179e\"],[0.4444444444444444,\"#bd3786\"],[0.5555555555555556,\"#d8576b\"],[0.6666666666666666,\"#ed7953\"],[0.7777777777777778,\"#fb9f3a\"],[0.8888888888888888,\"#fdca26\"],[1.0,\"#f0f921\"]]}],\"choropleth\":[{\"type\":\"choropleth\",\"colorbar\":{\"outlinewidth\":0,\"ticks\":\"\"}}],\"histogram2d\":[{\"type\":\"histogram2d\",\"colorbar\":{\"outlinewidth\":0,\"ticks\":\"\"},\"colorscale\":[[0.0,\"#0d0887\"],[0.1111111111111111,\"#46039f\"],[0.2222222222222222,\"#7201a8\"],[0.3333333333333333,\"#9c179e\"],[0.4444444444444444,\"#bd3786\"],[0.5555555555555556,\"#d8576b\"],[0.6666666666666666,\"#ed7953\"],[0.7777777777777778,\"#fb9f3a\"],[0.8888888888888888,\"#fdca26\"],[1.0,\"#f0f921\"]]}],\"heatmap\":[{\"type\":\"heatmap\",\"colorbar\":{\"outlinewidth\":0,\"ticks\":\"\"},\"colorscale\":[[0.0,\"#0d0887\"],[0.1111111111111111,\"#46039f\"],[0.2222222222222222,\"#7201a8\"],[0.3333333333333333,\"#9c179e\"],[0.4444444444444444,\"#bd3786\"],[0.5555555555555556,\"#d8576b\"],[0.6666666666666666,\"#ed7953\"],[0.7777777777777778,\"#fb9f3a\"],[0.8888888888888888,\"#fdca26\"],[1.0,\"#f0f921\"]]}],\"heatmapgl\":[{\"type\":\"heatmapgl\",\"colorbar\":{\"outlinewidth\":0,\"ticks\":\"\"},\"colorscale\":[[0.0,\"#0d0887\"],[0.1111111111111111,\"#46039f\"],[0.2222222222222222,\"#7201a8\"],[0.3333333333333333,\"#9c179e\"],[0.4444444444444444,\"#bd3786\"],[0.5555555555555556,\"#d8576b\"],[0.6666666666666666,\"#ed7953\"],[0.7777777777777778,\"#fb9f3a\"],[0.8888888888888888,\"#fdca26\"],[1.0,\"#f0f921\"]]}],\"contourcarpet\":[{\"type\":\"contourcarpet\",\"colorbar\":{\"outlinewidth\":0,\"ticks\":\"\"}}],\"contour\":[{\"type\":\"contour\",\"colorbar\":{\"outlinewidth\":0,\"ticks\":\"\"},\"colorscale\":[[0.0,\"#0d0887\"],[0.1111111111111111,\"#46039f\"],[0.2222222222222222,\"#7201a8\"],[0.3333333333333333,\"#9c179e\"],[0.4444444444444444,\"#bd3786\"],[0.5555555555555556,\"#d8576b\"],[0.6666666666666666,\"#ed7953\"],[0.7777777777777778,\"#fb9f3a\"],[0.8888888888888888,\"#fdca26\"],[1.0,\"#f0f921\"]]}],\"surface\":[{\"type\":\"surface\",\"colorbar\":{\"outlinewidth\":0,\"ticks\":\"\"},\"colorscale\":[[0.0,\"#0d0887\"],[0.1111111111111111,\"#46039f\"],[0.2222222222222222,\"#7201a8\"],[0.3333333333333333,\"#9c179e\"],[0.4444444444444444,\"#bd3786\"],[0.5555555555555556,\"#d8576b\"],[0.6666666666666666,\"#ed7953\"],[0.7777777777777778,\"#fb9f3a\"],[0.8888888888888888,\"#fdca26\"],[1.0,\"#f0f921\"]]}],\"mesh3d\":[{\"type\":\"mesh3d\",\"colorbar\":{\"outlinewidth\":0,\"ticks\":\"\"}}],\"scatter\":[{\"fillpattern\":{\"fillmode\":\"overlay\",\"size\":10,\"solidity\":0.2},\"type\":\"scatter\"}],\"parcoords\":[{\"type\":\"parcoords\",\"line\":{\"colorbar\":{\"outlinewidth\":0,\"ticks\":\"\"}}}],\"scatterpolargl\":[{\"type\":\"scatterpolargl\",\"marker\":{\"colorbar\":{\"outlinewidth\":0,\"ticks\":\"\"}}}],\"bar\":[{\"error_x\":{\"color\":\"#2a3f5f\"},\"error_y\":{\"color\":\"#2a3f5f\"},\"marker\":{\"line\":{\"color\":\"#E5ECF6\",\"width\":0.5},\"pattern\":{\"fillmode\":\"overlay\",\"size\":10,\"solidity\":0.2}},\"type\":\"bar\"}],\"scattergeo\":[{\"type\":\"scattergeo\",\"marker\":{\"colorbar\":{\"outlinewidth\":0,\"ticks\":\"\"}}}],\"scatterpolar\":[{\"type\":\"scatterpolar\",\"marker\":{\"colorbar\":{\"outlinewidth\":0,\"ticks\":\"\"}}}],\"histogram\":[{\"marker\":{\"pattern\":{\"fillmode\":\"overlay\",\"size\":10,\"solidity\":0.2}},\"type\":\"histogram\"}],\"scattergl\":[{\"type\":\"scattergl\",\"marker\":{\"colorbar\":{\"outlinewidth\":0,\"ticks\":\"\"}}}],\"scatter3d\":[{\"type\":\"scatter3d\",\"line\":{\"colorbar\":{\"outlinewidth\":0,\"ticks\":\"\"}},\"marker\":{\"colorbar\":{\"outlinewidth\":0,\"ticks\":\"\"}}}],\"scattermapbox\":[{\"type\":\"scattermapbox\",\"marker\":{\"colorbar\":{\"outlinewidth\":0,\"ticks\":\"\"}}}],\"scatterternary\":[{\"type\":\"scatterternary\",\"marker\":{\"colorbar\":{\"outlinewidth\":0,\"ticks\":\"\"}}}],\"scattercarpet\":[{\"type\":\"scattercarpet\",\"marker\":{\"colorbar\":{\"outlinewidth\":0,\"ticks\":\"\"}}}],\"carpet\":[{\"aaxis\":{\"endlinecolor\":\"#2a3f5f\",\"gridcolor\":\"white\",\"linecolor\":\"white\",\"minorgridcolor\":\"white\",\"startlinecolor\":\"#2a3f5f\"},\"baxis\":{\"endlinecolor\":\"#2a3f5f\",\"gridcolor\":\"white\",\"linecolor\":\"white\",\"minorgridcolor\":\"white\",\"startlinecolor\":\"#2a3f5f\"},\"type\":\"carpet\"}],\"table\":[{\"cells\":{\"fill\":{\"color\":\"#EBF0F8\"},\"line\":{\"color\":\"white\"}},\"header\":{\"fill\":{\"color\":\"#C8D4E3\"},\"line\":{\"color\":\"white\"}},\"type\":\"table\"}],\"barpolar\":[{\"marker\":{\"line\":{\"color\":\"#E5ECF6\",\"width\":0.5},\"pattern\":{\"fillmode\":\"overlay\",\"size\":10,\"solidity\":0.2}},\"type\":\"barpolar\"}],\"pie\":[{\"automargin\":true,\"type\":\"pie\"}]},\"layout\":{\"autotypenumbers\":\"strict\",\"colorway\":[\"#636efa\",\"#EF553B\",\"#00cc96\",\"#ab63fa\",\"#FFA15A\",\"#19d3f3\",\"#FF6692\",\"#B6E880\",\"#FF97FF\",\"#FECB52\"],\"font\":{\"color\":\"#2a3f5f\"},\"hovermode\":\"closest\",\"hoverlabel\":{\"align\":\"left\"},\"paper_bgcolor\":\"white\",\"plot_bgcolor\":\"#E5ECF6\",\"polar\":{\"bgcolor\":\"#E5ECF6\",\"angularaxis\":{\"gridcolor\":\"white\",\"linecolor\":\"white\",\"ticks\":\"\"},\"radialaxis\":{\"gridcolor\":\"white\",\"linecolor\":\"white\",\"ticks\":\"\"}},\"ternary\":{\"bgcolor\":\"#E5ECF6\",\"aaxis\":{\"gridcolor\":\"white\",\"linecolor\":\"white\",\"ticks\":\"\"},\"baxis\":{\"gridcolor\":\"white\",\"linecolor\":\"white\",\"ticks\":\"\"},\"caxis\":{\"gridcolor\":\"white\",\"linecolor\":\"white\",\"ticks\":\"\"}},\"coloraxis\":{\"colorbar\":{\"outlinewidth\":0,\"ticks\":\"\"}},\"colorscale\":{\"sequential\":[[0.0,\"#0d0887\"],[0.1111111111111111,\"#46039f\"],[0.2222222222222222,\"#7201a8\"],[0.3333333333333333,\"#9c179e\"],[0.4444444444444444,\"#bd3786\"],[0.5555555555555556,\"#d8576b\"],[0.6666666666666666,\"#ed7953\"],[0.7777777777777778,\"#fb9f3a\"],[0.8888888888888888,\"#fdca26\"],[1.0,\"#f0f921\"]],\"sequentialminus\":[[0.0,\"#0d0887\"],[0.1111111111111111,\"#46039f\"],[0.2222222222222222,\"#7201a8\"],[0.3333333333333333,\"#9c179e\"],[0.4444444444444444,\"#bd3786\"],[0.5555555555555556,\"#d8576b\"],[0.6666666666666666,\"#ed7953\"],[0.7777777777777778,\"#fb9f3a\"],[0.8888888888888888,\"#fdca26\"],[1.0,\"#f0f921\"]],\"diverging\":[[0,\"#8e0152\"],[0.1,\"#c51b7d\"],[0.2,\"#de77ae\"],[0.3,\"#f1b6da\"],[0.4,\"#fde0ef\"],[0.5,\"#f7f7f7\"],[0.6,\"#e6f5d0\"],[0.7,\"#b8e186\"],[0.8,\"#7fbc41\"],[0.9,\"#4d9221\"],[1,\"#276419\"]]},\"xaxis\":{\"gridcolor\":\"white\",\"linecolor\":\"white\",\"ticks\":\"\",\"title\":{\"standoff\":15},\"zerolinecolor\":\"white\",\"automargin\":true,\"zerolinewidth\":2},\"yaxis\":{\"gridcolor\":\"white\",\"linecolor\":\"white\",\"ticks\":\"\",\"title\":{\"standoff\":15},\"zerolinecolor\":\"white\",\"automargin\":true,\"zerolinewidth\":2},\"scene\":{\"xaxis\":{\"backgroundcolor\":\"#E5ECF6\",\"gridcolor\":\"white\",\"linecolor\":\"white\",\"showbackground\":true,\"ticks\":\"\",\"zerolinecolor\":\"white\",\"gridwidth\":2},\"yaxis\":{\"backgroundcolor\":\"#E5ECF6\",\"gridcolor\":\"white\",\"linecolor\":\"white\",\"showbackground\":true,\"ticks\":\"\",\"zerolinecolor\":\"white\",\"gridwidth\":2},\"zaxis\":{\"backgroundcolor\":\"#E5ECF6\",\"gridcolor\":\"white\",\"linecolor\":\"white\",\"showbackground\":true,\"ticks\":\"\",\"zerolinecolor\":\"white\",\"gridwidth\":2}},\"shapedefaults\":{\"line\":{\"color\":\"#2a3f5f\"}},\"annotationdefaults\":{\"arrowcolor\":\"#2a3f5f\",\"arrowhead\":0,\"arrowwidth\":1},\"geo\":{\"bgcolor\":\"white\",\"landcolor\":\"#E5ECF6\",\"subunitcolor\":\"white\",\"showland\":true,\"showlakes\":true,\"lakecolor\":\"white\"},\"title\":{\"x\":0.05},\"mapbox\":{\"style\":\"light\"}}},\"xaxis\":{\"anchor\":\"y\",\"domain\":[0.0,0.47],\"title\":{\"text\":\"index\"},\"categoryorder\":\"array\",\"categoryarray\":[\"Protein_g/1kJ\",\"Freshwater withdrawals per 100g (liters per 100g)/1kJ\"],\"showticklabels\":true},\"yaxis\":{\"anchor\":\"x\",\"domain\":[0.0,1.0],\"title\":{\"text\":\"value\"},\"showticklabels\":true},\"xaxis2\":{\"anchor\":\"y2\",\"domain\":[0.53,1.0],\"title\":{\"text\":\"index\"},\"categoryorder\":\"array\",\"categoryarray\":[\"Protein_g/1kJ\",\"Freshwater withdrawals per 100g (liters per 100g)/1kJ\"],\"showticklabels\":true},\"yaxis2\":{\"anchor\":\"x2\",\"domain\":[0.0,1.0],\"showticklabels\":true},\"annotations\":[{\"font\":{},\"showarrow\":false,\"text\":\"index=Protein_g/1kJ\",\"x\":0.235,\"xanchor\":\"center\",\"xref\":\"paper\",\"y\":1.0,\"yanchor\":\"bottom\",\"yref\":\"paper\"},{\"font\":{},\"showarrow\":false,\"text\":\"index=Freshwater withdrawals per 100g (liters per 100g)/1kJ\",\"x\":0.765,\"xanchor\":\"center\",\"xref\":\"paper\",\"y\":1.0,\"yanchor\":\"bottom\",\"yref\":\"paper\"}],\"legend\":{\"title\":{\"text\":\" \"},\"tracegroupgap\":0},\"title\":{\"text\":\"Display of the chosen parameter for the current recipe (per Energy 1kJ): <br> The absolute content of all ingredients is shown.\"},\"barmode\":\"stack\"},                        {\"responsive\": true}                    ).then(function(){\n",
       "                            \n",
       "var gd = document.getElementById('5f27a0f7-fa6f-4db4-879c-9029ed31c222');\n",
       "var x = new MutationObserver(function (mutations, observer) {{\n",
       "        var display = window.getComputedStyle(gd).display;\n",
       "        if (!display || display === 'none') {{\n",
       "            console.log([gd, 'removed!']);\n",
       "            Plotly.purge(gd);\n",
       "            observer.disconnect();\n",
       "        }}\n",
       "}});\n",
       "\n",
       "// Listen for the removal of the full notebook cells\n",
       "var notebookContainer = gd.closest('#notebook-container');\n",
       "if (notebookContainer) {{\n",
       "    x.observe(notebookContainer, {childList: true});\n",
       "}}\n",
       "\n",
       "// Listen for the clearing of the current output cell\n",
       "var outputEl = gd.closest('.output');\n",
       "if (outputEl) {{\n",
       "    x.observe(outputEl, {childList: true});\n",
       "}}\n",
       "\n",
       "                        })                };                });            </script>        </div>"
      ]
     },
     "metadata": {},
     "output_type": "display_data"
    }
   ],
   "source": [
    "# https://community.plotly.com/t/how-to-set-different-x-and-y-axis-for-each-subplot/57417\n",
    "# same plot as previous, just for energy dataframe\n",
    "\n",
    "import plotly.express as px\n",
    "import pandas as pd\n",
    "\n",
    "\n",
    "choice = ['Protein_g/1kJ', \n",
    "              'Freshwater withdrawals per 100g (liters per 100g)/1kJ']\n",
    "df_plot_per_energy = df_per_energy.loc[choice]\n",
    "fig = px.bar(df_plot_per_energy,\n",
    "#              x='ingredient',\n",
    "#              y='value', \n",
    "             barmode=\"stack\",\n",
    "             facet_col=df_plot_per_energy.index, \n",
    "             color_discrete_sequence=oslo_rgb[1::3],\n",
    "                                                    facet_col_spacing=0.06,\n",
    "    color_continuous_scale=None,\n",
    "    title = 'Display of the chosen parameter for the current recipe (per Energy 1kJ): <br> The absolute content of all ingredients is shown.'\n",
    "            )\n",
    "fig.update_xaxes(matches=None, showticklabels=True)\n",
    "fig.update_yaxes(matches=None, showticklabels=True)\n",
    "fig.show()\n",
    "# fig.write_html(\"BarsRecipeItemEnergy2.html\")"
   ]
  },
  {
   "cell_type": "markdown",
   "id": "42d2ceba",
   "metadata": {},
   "source": [
    "## AAs Diagram (Rose Chart)"
   ]
  },
  {
   "cell_type": "markdown",
   "id": "0354e87b",
   "metadata": {},
   "source": [
    "### Calculate AA Score first"
   ]
  },
  {
   "cell_type": "code",
   "execution_count": 48,
   "id": "8db43541",
   "metadata": {},
   "outputs": [],
   "source": [
    "# only use amino acid parameters\n",
    "\n",
    "df_recipe_prot = (df_food.loc[ingredients][[\n",
    "'Histidin_mg/100g',\n",
    "'Isoleucin_mg/100g',\n",
    "'Leucin_mg/100g',\n",
    "'Lysin_mg/100g',\n",
    " 'Threonin_mg/100g',\n",
    "'Tryptophan_mg/100g',\n",
    "'Valin_mg/100g',\n",
    "    'Methionin_mg/100g',\n",
    "    'Cystein_mg/100g',\n",
    "    'Alanin_mg/100g',\n",
    "    'Tyrosin_mg/100g',\n",
    "    'Protein_g/g']]).T"
   ]
  },
  {
   "cell_type": "code",
   "execution_count": 49,
   "id": "b866a245",
   "metadata": {},
   "outputs": [
    {
     "data": {
      "text/html": [
       "<div>\n",
       "<style scoped>\n",
       "    .dataframe tbody tr th:only-of-type {\n",
       "        vertical-align: middle;\n",
       "    }\n",
       "\n",
       "    .dataframe tbody tr th {\n",
       "        vertical-align: top;\n",
       "    }\n",
       "\n",
       "    .dataframe thead th {\n",
       "        text-align: right;\n",
       "    }\n",
       "</style>\n",
       "<table border=\"1\" class=\"dataframe\">\n",
       "  <thead>\n",
       "    <tr style=\"text-align: right;\">\n",
       "      <th></th>\n",
       "      <th>Durum wheat</th>\n",
       "      <th>Chicken</th>\n",
       "      <th>Hard cheese</th>\n",
       "    </tr>\n",
       "  </thead>\n",
       "  <tbody>\n",
       "    <tr>\n",
       "      <th>Histidin_mg/100g</th>\n",
       "      <td>0.6000</td>\n",
       "      <td>0.0710</td>\n",
       "      <td>0.040</td>\n",
       "    </tr>\n",
       "    <tr>\n",
       "      <th>Isoleucin_mg/100g</th>\n",
       "      <td>0.0000</td>\n",
       "      <td>0.0000</td>\n",
       "      <td>0.000</td>\n",
       "    </tr>\n",
       "    <tr>\n",
       "      <th>Leucin_mg/100g</th>\n",
       "      <td>0.0010</td>\n",
       "      <td>0.1440</td>\n",
       "      <td>0.800</td>\n",
       "    </tr>\n",
       "    <tr>\n",
       "      <th>Lysin_mg/100g</th>\n",
       "      <td>0.1120</td>\n",
       "      <td>0.1470</td>\n",
       "      <td>0.100</td>\n",
       "    </tr>\n",
       "    <tr>\n",
       "      <th>Threonin_mg/100g</th>\n",
       "      <td>0.0870</td>\n",
       "      <td>0.1800</td>\n",
       "      <td>1.100</td>\n",
       "    </tr>\n",
       "    <tr>\n",
       "      <th>Tryptophan_mg/100g</th>\n",
       "      <td>1.0000</td>\n",
       "      <td>1.8300</td>\n",
       "      <td>0.400</td>\n",
       "    </tr>\n",
       "    <tr>\n",
       "      <th>Valin_mg/100g</th>\n",
       "      <td>3.3000</td>\n",
       "      <td>1.4900</td>\n",
       "      <td>4.500</td>\n",
       "    </tr>\n",
       "    <tr>\n",
       "      <th>Methionin_mg/100g</th>\n",
       "      <td>0.0170</td>\n",
       "      <td>0.0510</td>\n",
       "      <td>0.900</td>\n",
       "    </tr>\n",
       "    <tr>\n",
       "      <th>Cystein_mg/100g</th>\n",
       "      <td>0.0300</td>\n",
       "      <td>0.0110</td>\n",
       "      <td>0.030</td>\n",
       "    </tr>\n",
       "    <tr>\n",
       "      <th>Alanin_mg/100g</th>\n",
       "      <td>0.0051</td>\n",
       "      <td>0.0094</td>\n",
       "      <td>0.052</td>\n",
       "    </tr>\n",
       "    <tr>\n",
       "      <th>Tyrosin_mg/100g</th>\n",
       "      <td>0.1300</td>\n",
       "      <td>0.1800</td>\n",
       "      <td>0.200</td>\n",
       "    </tr>\n",
       "    <tr>\n",
       "      <th>Protein_g/g</th>\n",
       "      <td>0.3850</td>\n",
       "      <td>0.2640</td>\n",
       "      <td>0.179</td>\n",
       "    </tr>\n",
       "  </tbody>\n",
       "</table>\n",
       "</div>"
      ],
      "text/plain": [
       "                    Durum wheat  Chicken  Hard cheese\n",
       "Histidin_mg/100g         0.6000   0.0710        0.040\n",
       "Isoleucin_mg/100g        0.0000   0.0000        0.000\n",
       "Leucin_mg/100g           0.0010   0.1440        0.800\n",
       "Lysin_mg/100g            0.1120   0.1470        0.100\n",
       "Threonin_mg/100g         0.0870   0.1800        1.100\n",
       "Tryptophan_mg/100g       1.0000   1.8300        0.400\n",
       "Valin_mg/100g            3.3000   1.4900        4.500\n",
       "Methionin_mg/100g        0.0170   0.0510        0.900\n",
       "Cystein_mg/100g          0.0300   0.0110        0.030\n",
       "Alanin_mg/100g           0.0051   0.0094        0.052\n",
       "Tyrosin_mg/100g          0.1300   0.1800        0.200\n",
       "Protein_g/g              0.3850   0.2640        0.179"
      ]
     },
     "execution_count": 49,
     "metadata": {},
     "output_type": "execute_result"
    }
   ],
   "source": [
    "df_recipe_prot"
   ]
  },
  {
   "cell_type": "code",
   "execution_count": 50,
   "id": "944c88c5",
   "metadata": {},
   "outputs": [],
   "source": [
    "# combine values according to FAO standard\n",
    "df_recipe_prot.loc['Methionine+Cysteine(SAA)_mg/100g'] = df_recipe_prot.loc['Methionin_mg/100g'] + df_recipe_prot.loc['Cystein_mg/100g']\n",
    "df_recipe_prot.loc['Phenylalanine+Tyrosine_mg/100g'] = df_recipe_prot.loc['Alanin_mg/100g'] + df_recipe_prot.loc['Tyrosin_mg/100g']"
   ]
  },
  {
   "cell_type": "code",
   "execution_count": 51,
   "id": "183b07a4",
   "metadata": {},
   "outputs": [],
   "source": [
    "# reference values essential amino acids: https://www.fao.org/ag/humannutrition/35978-02317b979a686a57aa4593304ffc17f06.pdf, TABLE 5:\n",
    "ess_aa= pd.read_excel(\"../Data/EssentialAminoAcids.xlsx\", sheet_name = 'Sheet2')\n",
    "ess_aa.set_index('Amino acid', inplace=True)"
   ]
  },
  {
   "cell_type": "code",
   "execution_count": 52,
   "id": "291751e6",
   "metadata": {},
   "outputs": [],
   "source": [
    "# comnine reference values with recipe df\n",
    "\n",
    "df_aa_sep = df_recipe_prot.merge(ess_aa, right_on= ess_aa.index, left_index=True )\n",
    "\n",
    "\n",
    "    "
   ]
  },
  {
   "cell_type": "code",
   "execution_count": 53,
   "id": "3b84a83b",
   "metadata": {},
   "outputs": [],
   "source": [
    "# score is calculated by dividing per reference value ('mg/g crude protein')\n",
    "for ingredient in ingredients:\n",
    "    list_new = df_aa_sep[ingredient]/df_aa_sep['mg/g crude protein']\n",
    "    df_aa_sep[ingredient] = list_new"
   ]
  },
  {
   "cell_type": "code",
   "execution_count": 54,
   "id": "1adad593",
   "metadata": {},
   "outputs": [],
   "source": [
    "# remove reference values\n",
    "df_aa_sep.drop(['key_0', 'mg/g crude protein'], axis =1, inplace = True)"
   ]
  },
  {
   "cell_type": "code",
   "execution_count": 55,
   "id": "c591ecb1",
   "metadata": {},
   "outputs": [
    {
     "data": {
      "text/html": [
       "<div>\n",
       "<style scoped>\n",
       "    .dataframe tbody tr th:only-of-type {\n",
       "        vertical-align: middle;\n",
       "    }\n",
       "\n",
       "    .dataframe tbody tr th {\n",
       "        vertical-align: top;\n",
       "    }\n",
       "\n",
       "    .dataframe thead th {\n",
       "        text-align: right;\n",
       "    }\n",
       "</style>\n",
       "<table border=\"1\" class=\"dataframe\">\n",
       "  <thead>\n",
       "    <tr style=\"text-align: right;\">\n",
       "      <th></th>\n",
       "      <th>Durum wheat</th>\n",
       "      <th>Chicken</th>\n",
       "      <th>Hard cheese</th>\n",
       "    </tr>\n",
       "    <tr>\n",
       "      <th>Amino acid</th>\n",
       "      <th></th>\n",
       "      <th></th>\n",
       "      <th></th>\n",
       "    </tr>\n",
       "  </thead>\n",
       "  <tbody>\n",
       "    <tr>\n",
       "      <th>Histidin_mg/100g</th>\n",
       "      <td>0.037500</td>\n",
       "      <td>0.004437</td>\n",
       "      <td>0.002500</td>\n",
       "    </tr>\n",
       "    <tr>\n",
       "      <th>Isoleucin_mg/100g</th>\n",
       "      <td>0.000000</td>\n",
       "      <td>0.000000</td>\n",
       "      <td>0.000000</td>\n",
       "    </tr>\n",
       "    <tr>\n",
       "      <th>Leucin_mg/100g</th>\n",
       "      <td>0.000016</td>\n",
       "      <td>0.002361</td>\n",
       "      <td>0.013115</td>\n",
       "    </tr>\n",
       "    <tr>\n",
       "      <th>Lysin_mg/100g</th>\n",
       "      <td>0.002333</td>\n",
       "      <td>0.003062</td>\n",
       "      <td>0.002083</td>\n",
       "    </tr>\n",
       "    <tr>\n",
       "      <th>Threonin_mg/100g</th>\n",
       "      <td>0.003480</td>\n",
       "      <td>0.007200</td>\n",
       "      <td>0.044000</td>\n",
       "    </tr>\n",
       "    <tr>\n",
       "      <th>Tryptophan_mg/100g</th>\n",
       "      <td>0.151515</td>\n",
       "      <td>0.277273</td>\n",
       "      <td>0.060606</td>\n",
       "    </tr>\n",
       "    <tr>\n",
       "      <th>Valin_mg/100g</th>\n",
       "      <td>0.082500</td>\n",
       "      <td>0.037250</td>\n",
       "      <td>0.112500</td>\n",
       "    </tr>\n",
       "    <tr>\n",
       "      <th>Methionine+Cysteine(SAA)_mg/100g</th>\n",
       "      <td>0.002043</td>\n",
       "      <td>0.002696</td>\n",
       "      <td>0.040435</td>\n",
       "    </tr>\n",
       "    <tr>\n",
       "      <th>Phenylalanine+Tyrosine_mg/100g</th>\n",
       "      <td>0.003295</td>\n",
       "      <td>0.004620</td>\n",
       "      <td>0.006146</td>\n",
       "    </tr>\n",
       "  </tbody>\n",
       "</table>\n",
       "</div>"
      ],
      "text/plain": [
       "                                  Durum wheat   Chicken  Hard cheese\n",
       "Amino acid                                                          \n",
       "Histidin_mg/100g                     0.037500  0.004437     0.002500\n",
       "Isoleucin_mg/100g                    0.000000  0.000000     0.000000\n",
       "Leucin_mg/100g                       0.000016  0.002361     0.013115\n",
       "Lysin_mg/100g                        0.002333  0.003062     0.002083\n",
       "Threonin_mg/100g                     0.003480  0.007200     0.044000\n",
       "Tryptophan_mg/100g                   0.151515  0.277273     0.060606\n",
       "Valin_mg/100g                        0.082500  0.037250     0.112500\n",
       "Methionine+Cysteine(SAA)_mg/100g     0.002043  0.002696     0.040435\n",
       "Phenylalanine+Tyrosine_mg/100g       0.003295  0.004620     0.006146"
      ]
     },
     "execution_count": 55,
     "metadata": {},
     "output_type": "execute_result"
    }
   ],
   "source": [
    "df_aa_sep"
   ]
  },
  {
   "cell_type": "code",
   "execution_count": 56,
   "id": "b37c74d6",
   "metadata": {},
   "outputs": [],
   "source": [
    "# caclucate sum by multiplying with proportions, divide by sum recipe , divide by sum protein and muliply again with proportions\n",
    "df_aa_sep = df_aa_sep.mul(proportions, axis='columns')/sum(proportions)/sum(df_food.loc[ingredients]['Protein_g/g'].mul(proportions, axis='rows')/sum(proportions))\n"
   ]
  },
  {
   "cell_type": "code",
   "execution_count": 57,
   "id": "2b8304ed",
   "metadata": {},
   "outputs": [],
   "source": [
    "# calulate sum for checking\n",
    "sum_prot = []\n",
    "\n",
    "for index in df_aa_sep.index:\n",
    "    sum_prot.append(sum(df_aa_sep.loc[index][ingredients]))\n",
    "    \n",
    "df_aa_sep['sum'] = sum_prot"
   ]
  },
  {
   "cell_type": "code",
   "execution_count": 58,
   "id": "fb0cdee6",
   "metadata": {},
   "outputs": [],
   "source": [
    "# for testing the plot the numbers are multiplied by 15, otherwise the values are too low\n",
    "# please remove when using for real applications\n",
    "\n",
    "\n",
    "df_aa_sep = df_aa_sep*15"
   ]
  },
  {
   "cell_type": "code",
   "execution_count": 59,
   "id": "19f3628f",
   "metadata": {},
   "outputs": [],
   "source": [
    "# remove 'per 100g' from index\n",
    "\n",
    "new_index = []\n",
    "for index in df_aa_sep.index:\n",
    "    new_index.append(index.split('_')[0])\n",
    "    \n",
    "df_aa_sep.index = new_index"
   ]
  },
  {
   "cell_type": "code",
   "execution_count": 60,
   "id": "0064cf60",
   "metadata": {},
   "outputs": [
    {
     "data": {
      "application/vnd.plotly.v1+json": {
       "config": {
        "plotlyServerURL": "https://plot.ly"
       },
       "data": [
        {
         "hoverinfo": [
          "all"
         ],
         "marker": {
          "color": "rgb(0, 1, 0)",
          "line": {
           "color": "black"
          }
         },
         "name": "Durum wheat",
         "opacity": 0.7,
         "r": [
          0.9520451339915373,
          0,
          0.0004161945940946612,
          0.059238363892806775,
          0.08834978843441466,
          3.846647006026414,
          2.094499294781382,
          0.05187956092475624,
          0.08365612852179297
         ],
         "theta": [
          "Histidin",
          "Isoleucin",
          "Leucin",
          "Lysin",
          "Threonin",
          "Tryptophan",
          "Valin",
          "Methionine+Cysteine(SAA)",
          "Phenylalanine+Tyrosine"
         ],
         "type": "barpolar"
        },
        {
         "hoverinfo": [
          "all"
         ],
         "marker": {
          "color": "rgb(46, 98, 160)",
          "line": {
           "color": "black"
          }
         },
         "name": "Chicken",
         "opacity": 0.7,
         "r": [
          0.07510578279266573,
          0,
          0.03995468103308746,
          0.05183356840620592,
          0.12186177715091678,
          4.6929093473522245,
          0.6304654442877292,
          0.04562457840191329,
          0.07818638412054077
         ],
         "theta": [
          "Histidin",
          "Isoleucin",
          "Leucin",
          "Lysin",
          "Threonin",
          "Tryptophan",
          "Valin",
          "Methionine+Cysteine(SAA)",
          "Phenylalanine+Tyrosine"
         ],
         "type": "barpolar"
        },
        {
         "hoverinfo": [
          "all"
         ],
         "marker": {
          "color": "rgb(176, 185, 200)",
          "line": {
           "color": "black"
          }
         },
         "name": "Hard cheese",
         "opacity": 0.7,
         "r": [
          0.010578279266572637,
          0,
          0.05549261254595482,
          0.008815232722143865,
          0.18617771509167844,
          0.2564431337350943,
          0.47602256699576867,
          0.17109216900717486,
          0.026007086587085903
         ],
         "theta": [
          "Histidin",
          "Isoleucin",
          "Leucin",
          "Lysin",
          "Threonin",
          "Tryptophan",
          "Valin",
          "Methionine+Cysteine(SAA)",
          "Phenylalanine+Tyrosine"
         ],
         "type": "barpolar"
        }
       ],
       "layout": {
        "font": {
         "size": 12
        },
        "height": 900,
        "legend": {
         "font": {
          "size": 15
         }
        },
        "margin": {
         "t": 200
        },
        "polar": {
         "angularaxis": {
          "linecolor": "black",
          "linewidth": 3,
          "rotation": 90,
          "showline": true
         },
         "bgcolor": "rgb(223, 223, 223)",
         "radialaxis": {
          "gridcolor": "white",
          "gridwidth": 2,
          "linewidth": 2,
          "range": [
           0,
           1
          ],
          "showline": true,
          "tickmode": "array",
          "tickvals": [
           0,
           0.2,
           0.4,
           0.6,
           0.8,
           1,
           1.2
          ]
         }
        },
        "template": {
         "data": {
          "bar": [
           {
            "error_x": {
             "color": "#2a3f5f"
            },
            "error_y": {
             "color": "#2a3f5f"
            },
            "marker": {
             "line": {
              "color": "#E5ECF6",
              "width": 0.5
             },
             "pattern": {
              "fillmode": "overlay",
              "size": 10,
              "solidity": 0.2
             }
            },
            "type": "bar"
           }
          ],
          "barpolar": [
           {
            "marker": {
             "line": {
              "color": "#E5ECF6",
              "width": 0.5
             },
             "pattern": {
              "fillmode": "overlay",
              "size": 10,
              "solidity": 0.2
             }
            },
            "type": "barpolar"
           }
          ],
          "carpet": [
           {
            "aaxis": {
             "endlinecolor": "#2a3f5f",
             "gridcolor": "white",
             "linecolor": "white",
             "minorgridcolor": "white",
             "startlinecolor": "#2a3f5f"
            },
            "baxis": {
             "endlinecolor": "#2a3f5f",
             "gridcolor": "white",
             "linecolor": "white",
             "minorgridcolor": "white",
             "startlinecolor": "#2a3f5f"
            },
            "type": "carpet"
           }
          ],
          "choropleth": [
           {
            "colorbar": {
             "outlinewidth": 0,
             "ticks": ""
            },
            "type": "choropleth"
           }
          ],
          "contour": [
           {
            "colorbar": {
             "outlinewidth": 0,
             "ticks": ""
            },
            "colorscale": [
             [
              0,
              "#0d0887"
             ],
             [
              0.1111111111111111,
              "#46039f"
             ],
             [
              0.2222222222222222,
              "#7201a8"
             ],
             [
              0.3333333333333333,
              "#9c179e"
             ],
             [
              0.4444444444444444,
              "#bd3786"
             ],
             [
              0.5555555555555556,
              "#d8576b"
             ],
             [
              0.6666666666666666,
              "#ed7953"
             ],
             [
              0.7777777777777778,
              "#fb9f3a"
             ],
             [
              0.8888888888888888,
              "#fdca26"
             ],
             [
              1,
              "#f0f921"
             ]
            ],
            "type": "contour"
           }
          ],
          "contourcarpet": [
           {
            "colorbar": {
             "outlinewidth": 0,
             "ticks": ""
            },
            "type": "contourcarpet"
           }
          ],
          "heatmap": [
           {
            "colorbar": {
             "outlinewidth": 0,
             "ticks": ""
            },
            "colorscale": [
             [
              0,
              "#0d0887"
             ],
             [
              0.1111111111111111,
              "#46039f"
             ],
             [
              0.2222222222222222,
              "#7201a8"
             ],
             [
              0.3333333333333333,
              "#9c179e"
             ],
             [
              0.4444444444444444,
              "#bd3786"
             ],
             [
              0.5555555555555556,
              "#d8576b"
             ],
             [
              0.6666666666666666,
              "#ed7953"
             ],
             [
              0.7777777777777778,
              "#fb9f3a"
             ],
             [
              0.8888888888888888,
              "#fdca26"
             ],
             [
              1,
              "#f0f921"
             ]
            ],
            "type": "heatmap"
           }
          ],
          "heatmapgl": [
           {
            "colorbar": {
             "outlinewidth": 0,
             "ticks": ""
            },
            "colorscale": [
             [
              0,
              "#0d0887"
             ],
             [
              0.1111111111111111,
              "#46039f"
             ],
             [
              0.2222222222222222,
              "#7201a8"
             ],
             [
              0.3333333333333333,
              "#9c179e"
             ],
             [
              0.4444444444444444,
              "#bd3786"
             ],
             [
              0.5555555555555556,
              "#d8576b"
             ],
             [
              0.6666666666666666,
              "#ed7953"
             ],
             [
              0.7777777777777778,
              "#fb9f3a"
             ],
             [
              0.8888888888888888,
              "#fdca26"
             ],
             [
              1,
              "#f0f921"
             ]
            ],
            "type": "heatmapgl"
           }
          ],
          "histogram": [
           {
            "marker": {
             "pattern": {
              "fillmode": "overlay",
              "size": 10,
              "solidity": 0.2
             }
            },
            "type": "histogram"
           }
          ],
          "histogram2d": [
           {
            "colorbar": {
             "outlinewidth": 0,
             "ticks": ""
            },
            "colorscale": [
             [
              0,
              "#0d0887"
             ],
             [
              0.1111111111111111,
              "#46039f"
             ],
             [
              0.2222222222222222,
              "#7201a8"
             ],
             [
              0.3333333333333333,
              "#9c179e"
             ],
             [
              0.4444444444444444,
              "#bd3786"
             ],
             [
              0.5555555555555556,
              "#d8576b"
             ],
             [
              0.6666666666666666,
              "#ed7953"
             ],
             [
              0.7777777777777778,
              "#fb9f3a"
             ],
             [
              0.8888888888888888,
              "#fdca26"
             ],
             [
              1,
              "#f0f921"
             ]
            ],
            "type": "histogram2d"
           }
          ],
          "histogram2dcontour": [
           {
            "colorbar": {
             "outlinewidth": 0,
             "ticks": ""
            },
            "colorscale": [
             [
              0,
              "#0d0887"
             ],
             [
              0.1111111111111111,
              "#46039f"
             ],
             [
              0.2222222222222222,
              "#7201a8"
             ],
             [
              0.3333333333333333,
              "#9c179e"
             ],
             [
              0.4444444444444444,
              "#bd3786"
             ],
             [
              0.5555555555555556,
              "#d8576b"
             ],
             [
              0.6666666666666666,
              "#ed7953"
             ],
             [
              0.7777777777777778,
              "#fb9f3a"
             ],
             [
              0.8888888888888888,
              "#fdca26"
             ],
             [
              1,
              "#f0f921"
             ]
            ],
            "type": "histogram2dcontour"
           }
          ],
          "mesh3d": [
           {
            "colorbar": {
             "outlinewidth": 0,
             "ticks": ""
            },
            "type": "mesh3d"
           }
          ],
          "parcoords": [
           {
            "line": {
             "colorbar": {
              "outlinewidth": 0,
              "ticks": ""
             }
            },
            "type": "parcoords"
           }
          ],
          "pie": [
           {
            "automargin": true,
            "type": "pie"
           }
          ],
          "scatter": [
           {
            "fillpattern": {
             "fillmode": "overlay",
             "size": 10,
             "solidity": 0.2
            },
            "type": "scatter"
           }
          ],
          "scatter3d": [
           {
            "line": {
             "colorbar": {
              "outlinewidth": 0,
              "ticks": ""
             }
            },
            "marker": {
             "colorbar": {
              "outlinewidth": 0,
              "ticks": ""
             }
            },
            "type": "scatter3d"
           }
          ],
          "scattercarpet": [
           {
            "marker": {
             "colorbar": {
              "outlinewidth": 0,
              "ticks": ""
             }
            },
            "type": "scattercarpet"
           }
          ],
          "scattergeo": [
           {
            "marker": {
             "colorbar": {
              "outlinewidth": 0,
              "ticks": ""
             }
            },
            "type": "scattergeo"
           }
          ],
          "scattergl": [
           {
            "marker": {
             "colorbar": {
              "outlinewidth": 0,
              "ticks": ""
             }
            },
            "type": "scattergl"
           }
          ],
          "scattermapbox": [
           {
            "marker": {
             "colorbar": {
              "outlinewidth": 0,
              "ticks": ""
             }
            },
            "type": "scattermapbox"
           }
          ],
          "scatterpolar": [
           {
            "marker": {
             "colorbar": {
              "outlinewidth": 0,
              "ticks": ""
             }
            },
            "type": "scatterpolar"
           }
          ],
          "scatterpolargl": [
           {
            "marker": {
             "colorbar": {
              "outlinewidth": 0,
              "ticks": ""
             }
            },
            "type": "scatterpolargl"
           }
          ],
          "scatterternary": [
           {
            "marker": {
             "colorbar": {
              "outlinewidth": 0,
              "ticks": ""
             }
            },
            "type": "scatterternary"
           }
          ],
          "surface": [
           {
            "colorbar": {
             "outlinewidth": 0,
             "ticks": ""
            },
            "colorscale": [
             [
              0,
              "#0d0887"
             ],
             [
              0.1111111111111111,
              "#46039f"
             ],
             [
              0.2222222222222222,
              "#7201a8"
             ],
             [
              0.3333333333333333,
              "#9c179e"
             ],
             [
              0.4444444444444444,
              "#bd3786"
             ],
             [
              0.5555555555555556,
              "#d8576b"
             ],
             [
              0.6666666666666666,
              "#ed7953"
             ],
             [
              0.7777777777777778,
              "#fb9f3a"
             ],
             [
              0.8888888888888888,
              "#fdca26"
             ],
             [
              1,
              "#f0f921"
             ]
            ],
            "type": "surface"
           }
          ],
          "table": [
           {
            "cells": {
             "fill": {
              "color": "#EBF0F8"
             },
             "line": {
              "color": "white"
             }
            },
            "header": {
             "fill": {
              "color": "#C8D4E3"
             },
             "line": {
              "color": "white"
             }
            },
            "type": "table"
           }
          ]
         },
         "layout": {
          "annotationdefaults": {
           "arrowcolor": "#2a3f5f",
           "arrowhead": 0,
           "arrowwidth": 1
          },
          "autotypenumbers": "strict",
          "coloraxis": {
           "colorbar": {
            "outlinewidth": 0,
            "ticks": ""
           }
          },
          "colorscale": {
           "diverging": [
            [
             0,
             "#8e0152"
            ],
            [
             0.1,
             "#c51b7d"
            ],
            [
             0.2,
             "#de77ae"
            ],
            [
             0.3,
             "#f1b6da"
            ],
            [
             0.4,
             "#fde0ef"
            ],
            [
             0.5,
             "#f7f7f7"
            ],
            [
             0.6,
             "#e6f5d0"
            ],
            [
             0.7,
             "#b8e186"
            ],
            [
             0.8,
             "#7fbc41"
            ],
            [
             0.9,
             "#4d9221"
            ],
            [
             1,
             "#276419"
            ]
           ],
           "sequential": [
            [
             0,
             "#0d0887"
            ],
            [
             0.1111111111111111,
             "#46039f"
            ],
            [
             0.2222222222222222,
             "#7201a8"
            ],
            [
             0.3333333333333333,
             "#9c179e"
            ],
            [
             0.4444444444444444,
             "#bd3786"
            ],
            [
             0.5555555555555556,
             "#d8576b"
            ],
            [
             0.6666666666666666,
             "#ed7953"
            ],
            [
             0.7777777777777778,
             "#fb9f3a"
            ],
            [
             0.8888888888888888,
             "#fdca26"
            ],
            [
             1,
             "#f0f921"
            ]
           ],
           "sequentialminus": [
            [
             0,
             "#0d0887"
            ],
            [
             0.1111111111111111,
             "#46039f"
            ],
            [
             0.2222222222222222,
             "#7201a8"
            ],
            [
             0.3333333333333333,
             "#9c179e"
            ],
            [
             0.4444444444444444,
             "#bd3786"
            ],
            [
             0.5555555555555556,
             "#d8576b"
            ],
            [
             0.6666666666666666,
             "#ed7953"
            ],
            [
             0.7777777777777778,
             "#fb9f3a"
            ],
            [
             0.8888888888888888,
             "#fdca26"
            ],
            [
             1,
             "#f0f921"
            ]
           ]
          },
          "colorway": [
           "#636efa",
           "#EF553B",
           "#00cc96",
           "#ab63fa",
           "#FFA15A",
           "#19d3f3",
           "#FF6692",
           "#B6E880",
           "#FF97FF",
           "#FECB52"
          ],
          "font": {
           "color": "#2a3f5f"
          },
          "geo": {
           "bgcolor": "white",
           "lakecolor": "white",
           "landcolor": "#E5ECF6",
           "showlakes": true,
           "showland": true,
           "subunitcolor": "white"
          },
          "hoverlabel": {
           "align": "left"
          },
          "hovermode": "closest",
          "mapbox": {
           "style": "light"
          },
          "paper_bgcolor": "white",
          "plot_bgcolor": "#E5ECF6",
          "polar": {
           "angularaxis": {
            "gridcolor": "white",
            "linecolor": "white",
            "ticks": ""
           },
           "bgcolor": "#E5ECF6",
           "radialaxis": {
            "gridcolor": "white",
            "linecolor": "white",
            "ticks": ""
           }
          },
          "scene": {
           "xaxis": {
            "backgroundcolor": "#E5ECF6",
            "gridcolor": "white",
            "gridwidth": 2,
            "linecolor": "white",
            "showbackground": true,
            "ticks": "",
            "zerolinecolor": "white"
           },
           "yaxis": {
            "backgroundcolor": "#E5ECF6",
            "gridcolor": "white",
            "gridwidth": 2,
            "linecolor": "white",
            "showbackground": true,
            "ticks": "",
            "zerolinecolor": "white"
           },
           "zaxis": {
            "backgroundcolor": "#E5ECF6",
            "gridcolor": "white",
            "gridwidth": 2,
            "linecolor": "white",
            "showbackground": true,
            "ticks": "",
            "zerolinecolor": "white"
           }
          },
          "shapedefaults": {
           "line": {
            "color": "#2a3f5f"
           }
          },
          "ternary": {
           "aaxis": {
            "gridcolor": "white",
            "linecolor": "white",
            "ticks": ""
           },
           "baxis": {
            "gridcolor": "white",
            "linecolor": "white",
            "ticks": ""
           },
           "bgcolor": "#E5ECF6",
           "caxis": {
            "gridcolor": "white",
            "linecolor": "white",
            "ticks": ""
           }
          },
          "title": {
           "x": 0.05
          },
          "xaxis": {
           "automargin": true,
           "gridcolor": "white",
           "linecolor": "white",
           "ticks": "",
           "title": {
            "standoff": 15
           },
           "zerolinecolor": "white",
           "zerolinewidth": 2
          },
          "yaxis": {
           "automargin": true,
           "gridcolor": "white",
           "linecolor": "white",
           "ticks": "",
           "title": {
            "standoff": 15
           },
           "zerolinecolor": "white",
           "zerolinewidth": 2
          }
         }
        },
        "title": {
         "text": "Amino Acids Scores of all Essential Amino Acids separately: To be complete, the protein needs to reach 1 (outer border) <br>for all Amino Acids. The contribution of all ingredients is shown. <br>Items can be turned on or off by clicking on the item in the legend. Zoom in by dragging the pointer over the<br>desired area."
        },
        "width": 1100
       }
      },
      "text/html": [
       "<div>                            <div id=\"f925ec31-0d83-42d1-8390-746feff02ad6\" class=\"plotly-graph-div\" style=\"height:900px; width:1100px;\"></div>            <script type=\"text/javascript\">                require([\"plotly\"], function(Plotly) {                    window.PLOTLYENV=window.PLOTLYENV || {};                                    if (document.getElementById(\"f925ec31-0d83-42d1-8390-746feff02ad6\")) {                    Plotly.newPlot(                        \"f925ec31-0d83-42d1-8390-746feff02ad6\",                        [{\"hoverinfo\":[\"all\"],\"marker\":{\"color\":\"rgb(0, 1, 0)\",\"line\":{\"color\":\"black\"}},\"name\":\"Durum wheat\",\"opacity\":0.7,\"r\":[0.9520451339915373,0.0,0.0004161945940946612,0.059238363892806775,0.08834978843441466,3.846647006026414,2.094499294781382,0.05187956092475624,0.08365612852179297],\"theta\":[\"Histidin\",\"Isoleucin\",\"Leucin\",\"Lysin\",\"Threonin\",\"Tryptophan\",\"Valin\",\"Methionine+Cysteine(SAA)\",\"Phenylalanine+Tyrosine\"],\"type\":\"barpolar\"},{\"hoverinfo\":[\"all\"],\"marker\":{\"color\":\"rgb(46, 98, 160)\",\"line\":{\"color\":\"black\"}},\"name\":\"Chicken\",\"opacity\":0.7,\"r\":[0.07510578279266573,0.0,0.03995468103308746,0.05183356840620592,0.12186177715091678,4.6929093473522245,0.6304654442877292,0.04562457840191329,0.07818638412054077],\"theta\":[\"Histidin\",\"Isoleucin\",\"Leucin\",\"Lysin\",\"Threonin\",\"Tryptophan\",\"Valin\",\"Methionine+Cysteine(SAA)\",\"Phenylalanine+Tyrosine\"],\"type\":\"barpolar\"},{\"hoverinfo\":[\"all\"],\"marker\":{\"color\":\"rgb(176, 185, 200)\",\"line\":{\"color\":\"black\"}},\"name\":\"Hard cheese\",\"opacity\":0.7,\"r\":[0.010578279266572637,0.0,0.05549261254595482,0.008815232722143865,0.18617771509167844,0.2564431337350943,0.47602256699576867,0.17109216900717486,0.026007086587085903],\"theta\":[\"Histidin\",\"Isoleucin\",\"Leucin\",\"Lysin\",\"Threonin\",\"Tryptophan\",\"Valin\",\"Methionine+Cysteine(SAA)\",\"Phenylalanine+Tyrosine\"],\"type\":\"barpolar\"}],                        {\"template\":{\"data\":{\"histogram2dcontour\":[{\"type\":\"histogram2dcontour\",\"colorbar\":{\"outlinewidth\":0,\"ticks\":\"\"},\"colorscale\":[[0.0,\"#0d0887\"],[0.1111111111111111,\"#46039f\"],[0.2222222222222222,\"#7201a8\"],[0.3333333333333333,\"#9c179e\"],[0.4444444444444444,\"#bd3786\"],[0.5555555555555556,\"#d8576b\"],[0.6666666666666666,\"#ed7953\"],[0.7777777777777778,\"#fb9f3a\"],[0.8888888888888888,\"#fdca26\"],[1.0,\"#f0f921\"]]}],\"choropleth\":[{\"type\":\"choropleth\",\"colorbar\":{\"outlinewidth\":0,\"ticks\":\"\"}}],\"histogram2d\":[{\"type\":\"histogram2d\",\"colorbar\":{\"outlinewidth\":0,\"ticks\":\"\"},\"colorscale\":[[0.0,\"#0d0887\"],[0.1111111111111111,\"#46039f\"],[0.2222222222222222,\"#7201a8\"],[0.3333333333333333,\"#9c179e\"],[0.4444444444444444,\"#bd3786\"],[0.5555555555555556,\"#d8576b\"],[0.6666666666666666,\"#ed7953\"],[0.7777777777777778,\"#fb9f3a\"],[0.8888888888888888,\"#fdca26\"],[1.0,\"#f0f921\"]]}],\"heatmap\":[{\"type\":\"heatmap\",\"colorbar\":{\"outlinewidth\":0,\"ticks\":\"\"},\"colorscale\":[[0.0,\"#0d0887\"],[0.1111111111111111,\"#46039f\"],[0.2222222222222222,\"#7201a8\"],[0.3333333333333333,\"#9c179e\"],[0.4444444444444444,\"#bd3786\"],[0.5555555555555556,\"#d8576b\"],[0.6666666666666666,\"#ed7953\"],[0.7777777777777778,\"#fb9f3a\"],[0.8888888888888888,\"#fdca26\"],[1.0,\"#f0f921\"]]}],\"heatmapgl\":[{\"type\":\"heatmapgl\",\"colorbar\":{\"outlinewidth\":0,\"ticks\":\"\"},\"colorscale\":[[0.0,\"#0d0887\"],[0.1111111111111111,\"#46039f\"],[0.2222222222222222,\"#7201a8\"],[0.3333333333333333,\"#9c179e\"],[0.4444444444444444,\"#bd3786\"],[0.5555555555555556,\"#d8576b\"],[0.6666666666666666,\"#ed7953\"],[0.7777777777777778,\"#fb9f3a\"],[0.8888888888888888,\"#fdca26\"],[1.0,\"#f0f921\"]]}],\"contourcarpet\":[{\"type\":\"contourcarpet\",\"colorbar\":{\"outlinewidth\":0,\"ticks\":\"\"}}],\"contour\":[{\"type\":\"contour\",\"colorbar\":{\"outlinewidth\":0,\"ticks\":\"\"},\"colorscale\":[[0.0,\"#0d0887\"],[0.1111111111111111,\"#46039f\"],[0.2222222222222222,\"#7201a8\"],[0.3333333333333333,\"#9c179e\"],[0.4444444444444444,\"#bd3786\"],[0.5555555555555556,\"#d8576b\"],[0.6666666666666666,\"#ed7953\"],[0.7777777777777778,\"#fb9f3a\"],[0.8888888888888888,\"#fdca26\"],[1.0,\"#f0f921\"]]}],\"surface\":[{\"type\":\"surface\",\"colorbar\":{\"outlinewidth\":0,\"ticks\":\"\"},\"colorscale\":[[0.0,\"#0d0887\"],[0.1111111111111111,\"#46039f\"],[0.2222222222222222,\"#7201a8\"],[0.3333333333333333,\"#9c179e\"],[0.4444444444444444,\"#bd3786\"],[0.5555555555555556,\"#d8576b\"],[0.6666666666666666,\"#ed7953\"],[0.7777777777777778,\"#fb9f3a\"],[0.8888888888888888,\"#fdca26\"],[1.0,\"#f0f921\"]]}],\"mesh3d\":[{\"type\":\"mesh3d\",\"colorbar\":{\"outlinewidth\":0,\"ticks\":\"\"}}],\"scatter\":[{\"fillpattern\":{\"fillmode\":\"overlay\",\"size\":10,\"solidity\":0.2},\"type\":\"scatter\"}],\"parcoords\":[{\"type\":\"parcoords\",\"line\":{\"colorbar\":{\"outlinewidth\":0,\"ticks\":\"\"}}}],\"scatterpolargl\":[{\"type\":\"scatterpolargl\",\"marker\":{\"colorbar\":{\"outlinewidth\":0,\"ticks\":\"\"}}}],\"bar\":[{\"error_x\":{\"color\":\"#2a3f5f\"},\"error_y\":{\"color\":\"#2a3f5f\"},\"marker\":{\"line\":{\"color\":\"#E5ECF6\",\"width\":0.5},\"pattern\":{\"fillmode\":\"overlay\",\"size\":10,\"solidity\":0.2}},\"type\":\"bar\"}],\"scattergeo\":[{\"type\":\"scattergeo\",\"marker\":{\"colorbar\":{\"outlinewidth\":0,\"ticks\":\"\"}}}],\"scatterpolar\":[{\"type\":\"scatterpolar\",\"marker\":{\"colorbar\":{\"outlinewidth\":0,\"ticks\":\"\"}}}],\"histogram\":[{\"marker\":{\"pattern\":{\"fillmode\":\"overlay\",\"size\":10,\"solidity\":0.2}},\"type\":\"histogram\"}],\"scattergl\":[{\"type\":\"scattergl\",\"marker\":{\"colorbar\":{\"outlinewidth\":0,\"ticks\":\"\"}}}],\"scatter3d\":[{\"type\":\"scatter3d\",\"line\":{\"colorbar\":{\"outlinewidth\":0,\"ticks\":\"\"}},\"marker\":{\"colorbar\":{\"outlinewidth\":0,\"ticks\":\"\"}}}],\"scattermapbox\":[{\"type\":\"scattermapbox\",\"marker\":{\"colorbar\":{\"outlinewidth\":0,\"ticks\":\"\"}}}],\"scatterternary\":[{\"type\":\"scatterternary\",\"marker\":{\"colorbar\":{\"outlinewidth\":0,\"ticks\":\"\"}}}],\"scattercarpet\":[{\"type\":\"scattercarpet\",\"marker\":{\"colorbar\":{\"outlinewidth\":0,\"ticks\":\"\"}}}],\"carpet\":[{\"aaxis\":{\"endlinecolor\":\"#2a3f5f\",\"gridcolor\":\"white\",\"linecolor\":\"white\",\"minorgridcolor\":\"white\",\"startlinecolor\":\"#2a3f5f\"},\"baxis\":{\"endlinecolor\":\"#2a3f5f\",\"gridcolor\":\"white\",\"linecolor\":\"white\",\"minorgridcolor\":\"white\",\"startlinecolor\":\"#2a3f5f\"},\"type\":\"carpet\"}],\"table\":[{\"cells\":{\"fill\":{\"color\":\"#EBF0F8\"},\"line\":{\"color\":\"white\"}},\"header\":{\"fill\":{\"color\":\"#C8D4E3\"},\"line\":{\"color\":\"white\"}},\"type\":\"table\"}],\"barpolar\":[{\"marker\":{\"line\":{\"color\":\"#E5ECF6\",\"width\":0.5},\"pattern\":{\"fillmode\":\"overlay\",\"size\":10,\"solidity\":0.2}},\"type\":\"barpolar\"}],\"pie\":[{\"automargin\":true,\"type\":\"pie\"}]},\"layout\":{\"autotypenumbers\":\"strict\",\"colorway\":[\"#636efa\",\"#EF553B\",\"#00cc96\",\"#ab63fa\",\"#FFA15A\",\"#19d3f3\",\"#FF6692\",\"#B6E880\",\"#FF97FF\",\"#FECB52\"],\"font\":{\"color\":\"#2a3f5f\"},\"hovermode\":\"closest\",\"hoverlabel\":{\"align\":\"left\"},\"paper_bgcolor\":\"white\",\"plot_bgcolor\":\"#E5ECF6\",\"polar\":{\"bgcolor\":\"#E5ECF6\",\"angularaxis\":{\"gridcolor\":\"white\",\"linecolor\":\"white\",\"ticks\":\"\"},\"radialaxis\":{\"gridcolor\":\"white\",\"linecolor\":\"white\",\"ticks\":\"\"}},\"ternary\":{\"bgcolor\":\"#E5ECF6\",\"aaxis\":{\"gridcolor\":\"white\",\"linecolor\":\"white\",\"ticks\":\"\"},\"baxis\":{\"gridcolor\":\"white\",\"linecolor\":\"white\",\"ticks\":\"\"},\"caxis\":{\"gridcolor\":\"white\",\"linecolor\":\"white\",\"ticks\":\"\"}},\"coloraxis\":{\"colorbar\":{\"outlinewidth\":0,\"ticks\":\"\"}},\"colorscale\":{\"sequential\":[[0.0,\"#0d0887\"],[0.1111111111111111,\"#46039f\"],[0.2222222222222222,\"#7201a8\"],[0.3333333333333333,\"#9c179e\"],[0.4444444444444444,\"#bd3786\"],[0.5555555555555556,\"#d8576b\"],[0.6666666666666666,\"#ed7953\"],[0.7777777777777778,\"#fb9f3a\"],[0.8888888888888888,\"#fdca26\"],[1.0,\"#f0f921\"]],\"sequentialminus\":[[0.0,\"#0d0887\"],[0.1111111111111111,\"#46039f\"],[0.2222222222222222,\"#7201a8\"],[0.3333333333333333,\"#9c179e\"],[0.4444444444444444,\"#bd3786\"],[0.5555555555555556,\"#d8576b\"],[0.6666666666666666,\"#ed7953\"],[0.7777777777777778,\"#fb9f3a\"],[0.8888888888888888,\"#fdca26\"],[1.0,\"#f0f921\"]],\"diverging\":[[0,\"#8e0152\"],[0.1,\"#c51b7d\"],[0.2,\"#de77ae\"],[0.3,\"#f1b6da\"],[0.4,\"#fde0ef\"],[0.5,\"#f7f7f7\"],[0.6,\"#e6f5d0\"],[0.7,\"#b8e186\"],[0.8,\"#7fbc41\"],[0.9,\"#4d9221\"],[1,\"#276419\"]]},\"xaxis\":{\"gridcolor\":\"white\",\"linecolor\":\"white\",\"ticks\":\"\",\"title\":{\"standoff\":15},\"zerolinecolor\":\"white\",\"automargin\":true,\"zerolinewidth\":2},\"yaxis\":{\"gridcolor\":\"white\",\"linecolor\":\"white\",\"ticks\":\"\",\"title\":{\"standoff\":15},\"zerolinecolor\":\"white\",\"automargin\":true,\"zerolinewidth\":2},\"scene\":{\"xaxis\":{\"backgroundcolor\":\"#E5ECF6\",\"gridcolor\":\"white\",\"linecolor\":\"white\",\"showbackground\":true,\"ticks\":\"\",\"zerolinecolor\":\"white\",\"gridwidth\":2},\"yaxis\":{\"backgroundcolor\":\"#E5ECF6\",\"gridcolor\":\"white\",\"linecolor\":\"white\",\"showbackground\":true,\"ticks\":\"\",\"zerolinecolor\":\"white\",\"gridwidth\":2},\"zaxis\":{\"backgroundcolor\":\"#E5ECF6\",\"gridcolor\":\"white\",\"linecolor\":\"white\",\"showbackground\":true,\"ticks\":\"\",\"zerolinecolor\":\"white\",\"gridwidth\":2}},\"shapedefaults\":{\"line\":{\"color\":\"#2a3f5f\"}},\"annotationdefaults\":{\"arrowcolor\":\"#2a3f5f\",\"arrowhead\":0,\"arrowwidth\":1},\"geo\":{\"bgcolor\":\"white\",\"landcolor\":\"#E5ECF6\",\"subunitcolor\":\"white\",\"showland\":true,\"showlakes\":true,\"lakecolor\":\"white\"},\"title\":{\"x\":0.05},\"mapbox\":{\"style\":\"light\"}}},\"font\":{\"size\":12},\"legend\":{\"font\":{\"size\":15}},\"polar\":{\"angularaxis\":{\"rotation\":90,\"linewidth\":3,\"showline\":true,\"linecolor\":\"black\"},\"radialaxis\":{\"tickmode\":\"array\",\"range\":[0,1],\"tickvals\":[0,0.2,0.4,0.6,0.8,1,1.2],\"showline\":true,\"linewidth\":2,\"gridcolor\":\"white\",\"gridwidth\":2},\"bgcolor\":\"rgb(223, 223, 223)\"},\"title\":{\"text\":\"Amino Acids Scores of all Essential Amino Acids separately: To be complete, the protein needs to reach 1 (outer border) <br>for all Amino Acids. The contribution of all ingredients is shown. <br>Items can be turned on or off by clicking on the item in the legend. Zoom in by dragging the pointer over the<br>desired area.\"},\"width\":1100,\"height\":900,\"margin\":{\"t\":200}},                        {\"responsive\": true}                    ).then(function(){\n",
       "                            \n",
       "var gd = document.getElementById('f925ec31-0d83-42d1-8390-746feff02ad6');\n",
       "var x = new MutationObserver(function (mutations, observer) {{\n",
       "        var display = window.getComputedStyle(gd).display;\n",
       "        if (!display || display === 'none') {{\n",
       "            console.log([gd, 'removed!']);\n",
       "            Plotly.purge(gd);\n",
       "            observer.disconnect();\n",
       "        }}\n",
       "}});\n",
       "\n",
       "// Listen for the removal of the full notebook cells\n",
       "var notebookContainer = gd.closest('#notebook-container');\n",
       "if (notebookContainer) {{\n",
       "    x.observe(notebookContainer, {childList: true});\n",
       "}}\n",
       "\n",
       "// Listen for the clearing of the current output cell\n",
       "var outputEl = gd.closest('.output');\n",
       "if (outputEl) {{\n",
       "    x.observe(outputEl, {childList: true});\n",
       "}}\n",
       "\n",
       "                        })                };                });            </script>        </div>"
      ]
     },
     "metadata": {},
     "output_type": "display_data"
    }
   ],
   "source": [
    "#https://medium.com/@abhishekdas.nitc/nightingale-plots-in-python-using-plotly-da42bc18d15d\n",
    "\n",
    "# initiate plotly go\n",
    "\n",
    "import plotly.graph_objects as go\n",
    "import plotly\n",
    "\n",
    "fig = go.Figure()\n",
    "\n",
    "i = 0\n",
    "\n",
    "# show stacked plots for every ingredient:\n",
    "for ingredient in ingredients:\n",
    "\n",
    "    fig.add_trace(go.Barpolar(\n",
    "        # this is the value\n",
    "        r = list(df_aa_sep[ingredient]),\n",
    "        # this is the name of amino acid\n",
    "        theta=list(df_aa_sep.index),\n",
    "        \n",
    "        name = ingredient,\n",
    "#         color is taken from oslo with step 2\n",
    "        marker_color=oslo_rgb[i*2],\n",
    "\n",
    "        marker_line_color=\"black\",\n",
    "        hoverinfo = ['all'],\n",
    "        opacity=0.7   \n",
    "    ))\n",
    "    i += 2\n",
    "    \n",
    "\n",
    "\n",
    "\n",
    "# choose title, font size, size\n",
    "fig.update_layout(\n",
    "    title='Amino Acids Scores of all Essential Amino Acids separately: To be complete, the protein needs to reach 1 (outer border) <br>for all Amino Acids. The contribution of all ingredients is shown. <br>Items can be turned on or off by clicking on the item in the legend. Zoom in by dragging the pointer over the<br>desired area.',\n",
    "    font_size=12,\n",
    "    legend_font_size=15,\n",
    "    polar_angularaxis_rotation=90,\n",
    "    width=1100,\n",
    "    height=900,\n",
    "    \n",
    "    # set ticks and lines\n",
    "    polar = dict(\n",
    "              bgcolor = \"rgb(223, 223, 223)\",\n",
    "              angularaxis = \n",
    "                dict(\n",
    "                    linewidth = 3,\n",
    "                    showline=True,\n",
    "                    linecolor='black'\n",
    "                    ),\n",
    "          radialaxis = \n",
    "                dict( tickmode = 'array', \n",
    "                     \n",
    "                     # only show plot up to value 1\n",
    "                     range=[0, 1],\n",
    "                     # set ticks\n",
    "                     tickvals = [0, 0.2, 0.4, 0.6, 0.8, 1, 1.2],       \n",
    "                    showline = True,\n",
    "                    linewidth = 2,\n",
    "                    gridcolor = \"white\",\n",
    "                    gridwidth = 2,\n",
    "                    )\n",
    "                ),\n",
    "\n",
    "            )\n",
    "# update gap betweem title and plot\n",
    "fig.update_layout( margin={'t': 200})\n",
    "\n",
    "fig.show()\n",
    "# fig.write_html(\"AASRoseChart2.html\")"
   ]
  }
 ],
 "metadata": {
  "kernelspec": {
   "display_name": "Python 3 (ipykernel)",
   "language": "python",
   "name": "python3"
  },
  "language_info": {
   "codemirror_mode": {
    "name": "ipython",
    "version": 3
   },
   "file_extension": ".py",
   "mimetype": "text/x-python",
   "name": "python",
   "nbconvert_exporter": "python",
   "pygments_lexer": "ipython3",
   "version": "3.9.13"
  }
 },
 "nbformat": 4,
 "nbformat_minor": 5
}
